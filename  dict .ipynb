{
 "cells": [
  {
   "cell_type": "code",
   "execution_count": 1,
   "id": "0a317c24",
   "metadata": {},
   "outputs": [],
   "source": [
    "names=[\"ram\",\"laxman\",\"krishna\"]\n",
    "ages=[50,45,40]"
   ]
  },
  {
   "cell_type": "code",
   "execution_count": 2,
   "id": "536c5fed",
   "metadata": {},
   "outputs": [
    {
     "name": "stdout",
     "output_type": "stream",
     "text": [
      "ram\n",
      "laxman\n",
      "krishna\n"
     ]
    }
   ],
   "source": [
    "for i in names:\n",
    "    print(i)"
   ]
  },
  {
   "cell_type": "code",
   "execution_count": 3,
   "id": "88525f6d",
   "metadata": {},
   "outputs": [
    {
     "name": "stdout",
     "output_type": "stream",
     "text": [
      "50\n",
      "45\n",
      "40\n"
     ]
    }
   ],
   "source": [
    "for i in ages:\n",
    "    print(i)"
   ]
  },
  {
   "cell_type": "code",
   "execution_count": 4,
   "id": "872938aa",
   "metadata": {},
   "outputs": [
    {
     "name": "stdout",
     "output_type": "stream",
     "text": [
      "ram ages is 50\n",
      "laxman ages is 45\n",
      "krishna ages is 40\n"
     ]
    }
   ],
   "source": [
    "for i,j in zip(names,ages):\n",
    "    print(i,\"ages is\",j)"
   ]
  },
  {
   "cell_type": "code",
   "execution_count": 5,
   "id": "7dc53588",
   "metadata": {},
   "outputs": [
    {
     "data": {
      "text/plain": [
       "{'ram': 50, 'laxman': 45, 'krishna': 40}"
      ]
     },
     "execution_count": 5,
     "metadata": {},
     "output_type": "execute_result"
    }
   ],
   "source": [
    "{\"ram\":50,\"laxman\":45,\"krishna\":40}\n",
    "# ram,laxman, krishna are keys\n",
    "# 50,45,40 are values\n",
    "# dictionary is a key-value pair\n",
    "# dictionary use {} curly brackets"
   ]
  },
  {
   "cell_type": "code",
   "execution_count": 6,
   "id": "7eb1b2fe",
   "metadata": {},
   "outputs": [
    {
     "data": {
      "text/plain": [
       "{'ram': 50, 'laxman': 45, 'krishna': 40}"
      ]
     },
     "execution_count": 6,
     "metadata": {},
     "output_type": "execute_result"
    }
   ],
   "source": [
    "persons={\"ram\":50,\"laxman\":45,\"krishna\":40}\n",
    "persons"
   ]
  },
  {
   "cell_type": "code",
   "execution_count": 7,
   "id": "4aadc6ff",
   "metadata": {},
   "outputs": [
    {
     "data": {
      "text/plain": [
       "dict"
      ]
     },
     "execution_count": 7,
     "metadata": {},
     "output_type": "execute_result"
    }
   ],
   "source": [
    "type(persons)"
   ]
  },
  {
   "cell_type": "code",
   "execution_count": 8,
   "id": "9b822cff",
   "metadata": {},
   "outputs": [],
   "source": [
    "# read the value you can't use index\n",
    "# strings we have used index\n",
    "# list we used index\n",
    "# dictionary"
   ]
  },
  {
   "cell_type": "code",
   "execution_count": 9,
   "id": "e2d0d4ef",
   "metadata": {},
   "outputs": [
    {
     "ename": "KeyError",
     "evalue": "0",
     "output_type": "error",
     "traceback": [
      "\u001b[1;31m---------------------------------------------------------------------------\u001b[0m",
      "\u001b[1;31mKeyError\u001b[0m                                  Traceback (most recent call last)",
      "Input \u001b[1;32mIn [9]\u001b[0m, in \u001b[0;36m<cell line: 1>\u001b[1;34m()\u001b[0m\n\u001b[1;32m----> 1\u001b[0m \u001b[43mpersons\u001b[49m\u001b[43m[\u001b[49m\u001b[38;5;241;43m0\u001b[39;49m\u001b[43m]\u001b[49m\n",
      "\u001b[1;31mKeyError\u001b[0m: 0"
     ]
    }
   ],
   "source": [
    "persons[0] # erore bcz dict can't use index"
   ]
  },
  {
   "cell_type": "code",
   "execution_count": 10,
   "id": "bd04bbd5",
   "metadata": {},
   "outputs": [
    {
     "data": {
      "text/plain": [
       "50"
      ]
     },
     "execution_count": 10,
     "metadata": {},
     "output_type": "execute_result"
    }
   ],
   "source": [
    "# read the values by using keys\n",
    "persons[\"ram\"]"
   ]
  },
  {
   "cell_type": "code",
   "execution_count": 11,
   "id": "e6c0855c",
   "metadata": {},
   "outputs": [
    {
     "data": {
      "text/plain": [
       "45"
      ]
     },
     "execution_count": 11,
     "metadata": {},
     "output_type": "execute_result"
    }
   ],
   "source": [
    "persons[\"laxman\"]"
   ]
  },
  {
   "cell_type": "code",
   "execution_count": 12,
   "id": "3c21dbbb",
   "metadata": {},
   "outputs": [
    {
     "data": {
      "text/plain": [
       "{'bunny': [25, 30, 60], 'chinni': [25, 25, 25]}"
      ]
     },
     "execution_count": 12,
     "metadata": {},
     "output_type": "execute_result"
    }
   ],
   "source": [
    "marks={\"bunny\":[25,30,60],\n",
    "      \"chinni\":[25,25,25]}\n",
    "marks"
   ]
  },
  {
   "cell_type": "code",
   "execution_count": 13,
   "id": "977f7ee6",
   "metadata": {},
   "outputs": [
    {
     "data": {
      "text/plain": [
       "{'bunny': 25, 'chinni': [25, 25, 25]}"
      ]
     },
     "execution_count": 13,
     "metadata": {},
     "output_type": "execute_result"
    }
   ],
   "source": [
    "marks={\"bunny\":[25,30,60],\n",
    "      \"chinni\":[25,25,25],\n",
    "      \"bunny\":25}\n",
    "marks"
   ]
  },
  {
   "cell_type": "code",
   "execution_count": 14,
   "id": "8bea5fb5",
   "metadata": {},
   "outputs": [],
   "source": [
    "marks={\"bunny\":[25,30,60],  # in repeated keys dictionary will consider latest value\n",
    "      \"chinni\":[25,25,25],\n",
    "      \"bunny\":25,    # these latest value will be consider\n",
    "      \"chinni\":[60]}"
   ]
  },
  {
   "cell_type": "code",
   "execution_count": 15,
   "id": "30ba7fe7",
   "metadata": {},
   "outputs": [
    {
     "data": {
      "text/plain": [
       "{'bunny': 25, 'chinni': [60]}"
      ]
     },
     "execution_count": 15,
     "metadata": {},
     "output_type": "execute_result"
    }
   ],
   "source": [
    "marks"
   ]
  },
  {
   "cell_type": "code",
   "execution_count": 16,
   "id": "1f95313f",
   "metadata": {},
   "outputs": [
    {
     "data": {
      "text/plain": [
       "[25, 30, 60]"
      ]
     },
     "execution_count": 16,
     "metadata": {},
     "output_type": "execute_result"
    }
   ],
   "source": [
    "marks={\"bunny\":[25,30,60],\n",
    "      \"chinni\":[25,25,25]}\n",
    "marks['bunny']"
   ]
  },
  {
   "cell_type": "code",
   "execution_count": 17,
   "id": "459774ad",
   "metadata": {},
   "outputs": [
    {
     "data": {
      "text/plain": [
       "25"
      ]
     },
     "execution_count": 17,
     "metadata": {},
     "output_type": "execute_result"
    }
   ],
   "source": [
    "marks['bunny'][0]"
   ]
  },
  {
   "cell_type": "code",
   "execution_count": 19,
   "id": "ff4f1a00",
   "metadata": {},
   "outputs": [
    {
     "data": {
      "text/plain": [
       "25"
      ]
     },
     "execution_count": 19,
     "metadata": {},
     "output_type": "execute_result"
    }
   ],
   "source": [
    "marks['chinni'][1]"
   ]
  },
  {
   "cell_type": "code",
   "execution_count": 20,
   "id": "a78e62e0",
   "metadata": {},
   "outputs": [
    {
     "data": {
      "text/plain": [
       "{'ram': 50, 'laxman': 45, 'krishna': 40, 'barath': 30}"
      ]
     },
     "execution_count": 20,
     "metadata": {},
     "output_type": "execute_result"
    }
   ],
   "source": [
    "# how to add new key\n",
    "persons[\"barath\"]=30\n",
    "persons"
   ]
  },
  {
   "cell_type": "code",
   "execution_count": 21,
   "id": "df3ea609",
   "metadata": {},
   "outputs": [
    {
     "data": {
      "text/plain": [
       "{'ram': 25, 'laxman': 45, 'krishna': 40, 'barath': 30}"
      ]
     },
     "execution_count": 21,
     "metadata": {},
     "output_type": "execute_result"
    }
   ],
   "source": [
    "# i want to change the value of a key(mutable concept)\n",
    "persons[\"ram\"]=25\n",
    "persons"
   ]
  },
  {
   "cell_type": "code",
   "execution_count": 22,
   "id": "363dc369",
   "metadata": {},
   "outputs": [
    {
     "data": {
      "text/plain": [
       "{'ram': 25, 'laxman': 45, 'krishna': 40, 'barath': 30, 30: 40}"
      ]
     },
     "execution_count": 22,
     "metadata": {},
     "output_type": "execute_result"
    }
   ],
   "source": [
    "persons[30]=40 # adding key(int) in a persons dictionary\n",
    "persons # key and values can be any data type"
   ]
  },
  {
   "cell_type": "markdown",
   "id": "0df59513",
   "metadata": {},
   "source": [
    "- dicitonary has key-value pair\n",
    "- dictionary return using curly brackets\n",
    "- dictionary is mutable\n",
    "- in dictionary key-value are any type\n",
    "- in dictionary if you have same keys, the latest value will consider"
   ]
  },
  {
   "cell_type": "code",
   "execution_count": 23,
   "id": "7a4e483f",
   "metadata": {
    "scrolled": true
   },
   "outputs": [
    {
     "data": {
      "text/plain": [
       "['__class__',\n",
       " '__class_getitem__',\n",
       " '__contains__',\n",
       " '__delattr__',\n",
       " '__delitem__',\n",
       " '__dir__',\n",
       " '__doc__',\n",
       " '__eq__',\n",
       " '__format__',\n",
       " '__ge__',\n",
       " '__getattribute__',\n",
       " '__getitem__',\n",
       " '__gt__',\n",
       " '__hash__',\n",
       " '__init__',\n",
       " '__init_subclass__',\n",
       " '__ior__',\n",
       " '__iter__',\n",
       " '__le__',\n",
       " '__len__',\n",
       " '__lt__',\n",
       " '__ne__',\n",
       " '__new__',\n",
       " '__or__',\n",
       " '__reduce__',\n",
       " '__reduce_ex__',\n",
       " '__repr__',\n",
       " '__reversed__',\n",
       " '__ror__',\n",
       " '__setattr__',\n",
       " '__setitem__',\n",
       " '__sizeof__',\n",
       " '__str__',\n",
       " '__subclasshook__',\n",
       " 'clear',\n",
       " 'copy',\n",
       " 'fromkeys',\n",
       " 'get',\n",
       " 'items',\n",
       " 'keys',\n",
       " 'pop',\n",
       " 'popitem',\n",
       " 'setdefault',\n",
       " 'update',\n",
       " 'values']"
      ]
     },
     "execution_count": 23,
     "metadata": {},
     "output_type": "execute_result"
    }
   ],
   "source": [
    "dir(persons)"
   ]
  },
  {
   "cell_type": "code",
   "execution_count": 24,
   "id": "3881ab02",
   "metadata": {},
   "outputs": [
    {
     "data": {
      "text/plain": [
       "{'ram': 25, 'laxman': 45, 'krishna': 40, 'barath': 30, 30: 40}"
      ]
     },
     "execution_count": 24,
     "metadata": {},
     "output_type": "execute_result"
    }
   ],
   "source": [
    "persons"
   ]
  },
  {
   "cell_type": "code",
   "execution_count": 25,
   "id": "80a6b8a7",
   "metadata": {},
   "outputs": [
    {
     "data": {
      "text/plain": [
       "{'ram': 25, 'laxman': 45, 'krishna': 40, 'barath': 30}"
      ]
     },
     "execution_count": 25,
     "metadata": {},
     "output_type": "execute_result"
    }
   ],
   "source": [
    "# i want to delete any key-value pair\n",
    "del persons[30]\n",
    "persons"
   ]
  },
  {
   "cell_type": "code",
   "execution_count": 26,
   "id": "10dd4c74",
   "metadata": {},
   "outputs": [],
   "source": [
    "# use case \n",
    "sent=\"can you can a can as a canner can can a can\"\n",
    "# word frequency\n",
    "# how many words are there,how many times these words are repeating\n",
    "# {'can':6,\"you\":1,\"a\":3,\"as\":1,'canner':1}\n",
    "# i want to makes word list by using split concept\n",
    "# i will take one empty dictionary\n",
    "# i will iterate through the list of words\n",
    "# every time the word is coming i will apply a counter programe"
   ]
  },
  {
   "cell_type": "code",
   "execution_count": 27,
   "id": "1e3ffa4d",
   "metadata": {},
   "outputs": [
    {
     "data": {
      "text/plain": [
       "['can',\n",
       " 'you',\n",
       " 'can',\n",
       " 'a',\n",
       " 'can',\n",
       " 'as',\n",
       " 'a',\n",
       " 'canner',\n",
       " 'can',\n",
       " 'can',\n",
       " 'a',\n",
       " 'can']"
      ]
     },
     "execution_count": 27,
     "metadata": {},
     "output_type": "execute_result"
    }
   ],
   "source": [
    "sent_list=sent.split(\" \")\n",
    "sent_list"
   ]
  },
  {
   "cell_type": "code",
   "execution_count": 28,
   "id": "60da7ec1",
   "metadata": {},
   "outputs": [
    {
     "name": "stdout",
     "output_type": "stream",
     "text": [
      "can\n",
      "you\n",
      "can\n",
      "a\n",
      "can\n",
      "as\n",
      "a\n",
      "canner\n",
      "can\n",
      "can\n",
      "a\n",
      "can\n"
     ]
    }
   ],
   "source": [
    "for word in sent_list:\n",
    "    print(word)"
   ]
  },
  {
   "cell_type": "code",
   "execution_count": 32,
   "id": "84c55b59",
   "metadata": {},
   "outputs": [],
   "source": [
    "dict1={}"
   ]
  },
  {
   "cell_type": "code",
   "execution_count": 33,
   "id": "78b8ede2",
   "metadata": {},
   "outputs": [
    {
     "data": {
      "text/plain": [
       "{'can': 1}"
      ]
     },
     "execution_count": 33,
     "metadata": {},
     "output_type": "execute_result"
    }
   ],
   "source": [
    "dict1[\"can\"]=1\n",
    "dict1"
   ]
  },
  {
   "cell_type": "code",
   "execution_count": 35,
   "id": "f8ea5094",
   "metadata": {},
   "outputs": [],
   "source": [
    "word_count={}\n",
    "for word in sent_list: \n",
    "    word_count[word]=1 # can, you bar bar print hone bajaye ek baar print huye h \n",
    "    # but hame to ye dekhna h ki kitne baar repeat huye"
   ]
  },
  {
   "cell_type": "code",
   "execution_count": 36,
   "id": "c811994c",
   "metadata": {},
   "outputs": [
    {
     "data": {
      "text/plain": [
       "{'can': 1, 'you': 1, 'a': 1, 'as': 1, 'canner': 1}"
      ]
     },
     "execution_count": 36,
     "metadata": {},
     "output_type": "execute_result"
    }
   ],
   "source": [
    "word_count"
   ]
  },
  {
   "cell_type": "code",
   "execution_count": 43,
   "id": "74d246ce",
   "metadata": {},
   "outputs": [
    {
     "data": {
      "text/plain": [
       "['can',\n",
       " 'you',\n",
       " 'can',\n",
       " 'a',\n",
       " 'can',\n",
       " 'as',\n",
       " 'a',\n",
       " 'canner',\n",
       " 'can',\n",
       " 'can',\n",
       " 'a',\n",
       " 'can']"
      ]
     },
     "execution_count": 43,
     "metadata": {},
     "output_type": "execute_result"
    }
   ],
   "source": [
    "sent_list"
   ]
  },
  {
   "cell_type": "code",
   "execution_count": 42,
   "id": "e427acf0",
   "metadata": {},
   "outputs": [],
   "source": [
    "word_count={}\n",
    "for word in sent_list:\n",
    "    if word not in word_count:\n",
    "        word_count[word]=1\n",
    "    else:\n",
    "        word_count[word]=word_count[word] + 1"
   ]
  },
  {
   "cell_type": "code",
   "execution_count": 40,
   "id": "2cadcb55",
   "metadata": {},
   "outputs": [
    {
     "data": {
      "text/plain": [
       "{'can': 6, 'you': 1, 'a': 3, 'as': 1, 'canner': 1}"
      ]
     },
     "execution_count": 40,
     "metadata": {},
     "output_type": "execute_result"
    }
   ],
   "source": [
    "word_count"
   ]
  },
  {
   "cell_type": "code",
   "execution_count": null,
   "id": "f2c64821",
   "metadata": {},
   "outputs": [],
   "source": [
    "word_count={}\n",
    "word_count[word]=0\n",
    "while word not in sent_list:\n",
    "    word_count[word]+=1"
   ]
  },
  {
   "cell_type": "code",
   "execution_count": null,
   "id": "a9462ab0",
   "metadata": {},
   "outputs": [],
   "source": [
    "word_count"
   ]
  },
  {
   "cell_type": "code",
   "execution_count": 47,
   "id": "37270ff9",
   "metadata": {},
   "outputs": [
    {
     "ename": "ModuleNotFoundError",
     "evalue": "No module named 'collection'",
     "output_type": "error",
     "traceback": [
      "\u001b[1;31m---------------------------------------------------------------------------\u001b[0m",
      "\u001b[1;31mModuleNotFoundError\u001b[0m                       Traceback (most recent call last)",
      "Input \u001b[1;32mIn [47]\u001b[0m, in \u001b[0;36m<cell line: 2>\u001b[1;34m()\u001b[0m\n\u001b[0;32m      1\u001b[0m \u001b[38;5;66;03m# package/module/library\u001b[39;00m\n\u001b[1;32m----> 2\u001b[0m \u001b[38;5;28;01mfrom\u001b[39;00m \u001b[38;5;21;01mcollection\u001b[39;00m \u001b[38;5;28;01mimport\u001b[39;00m defaultdict\n",
      "\u001b[1;31mModuleNotFoundError\u001b[0m: No module named 'collection'"
     ]
    }
   ],
   "source": [
    "# package/module/library\n",
    "from collection import defaultdict"
   ]
  },
  {
   "cell_type": "code",
   "execution_count": null,
   "id": "5a619dd0",
   "metadata": {},
   "outputs": [],
   "source": []
  }
 ],
 "metadata": {
  "kernelspec": {
   "display_name": "Python 3 (ipykernel)",
   "language": "python",
   "name": "python3"
  },
  "language_info": {
   "codemirror_mode": {
    "name": "ipython",
    "version": 3
   },
   "file_extension": ".py",
   "mimetype": "text/x-python",
   "name": "python",
   "nbconvert_exporter": "python",
   "pygments_lexer": "ipython3",
   "version": "3.9.12"
  }
 },
 "nbformat": 4,
 "nbformat_minor": 5
}
