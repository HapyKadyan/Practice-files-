{
 "cells": [
  {
   "cell_type": "markdown",
   "id": "7f17c50b",
   "metadata": {},
   "source": [
    "## print() "
   ]
  },
  {
   "cell_type": "markdown",
   "id": "8947e0b5",
   "metadata": {},
   "source": [
    "print() - inside print bracket always in single or double quotes and comma(,) should be use after\" that value we want to print or put variable "
   ]
  },
  {
   "cell_type": "markdown",
   "id": "87e7fe5b",
   "metadata": {},
   "source": [
    "markdown option is only available in jupyter notebook\n",
    "in pycharm , visual studio code markdown is not available\n",
    "short trick for markdown press $escape$ + $m$ \n",
    "and press $escape$ + $y$ for code mode"
   ]
  },
  {
   "cell_type": "markdown",
   "id": "93189b9b",
   "metadata": {},
   "source": [
    "space after print and  () doesn't matter"
   ]
  },
  {
   "cell_type": "markdown",
   "id": "9d2fbe74",
   "metadata": {},
   "source": [
    "to show in a beautiful manner we use print fuction "
   ]
  },
  {
   "cell_type": "code",
   "execution_count": null,
   "id": "38cd9cc6",
   "metadata": {},
   "outputs": [],
   "source": [
    "print fucntion will show output that we written in it"
   ]
  },
  {
   "cell_type": "code",
   "execution_count": 2,
   "id": "23852c6c",
   "metadata": {},
   "outputs": [
    {
     "data": {
      "text/plain": [
       "25"
      ]
     },
     "execution_count": 2,
     "metadata": {},
     "output_type": "execute_result"
    }
   ],
   "source": [
    "age= 25\n",
    "age"
   ]
  },
  {
   "cell_type": "code",
   "execution_count": 5,
   "id": "0dcced09",
   "metadata": {},
   "outputs": [],
   "source": [
    "exp=7\n"
   ]
  },
  {
   "cell_type": "code",
   "execution_count": 4,
   "id": "9140801f",
   "metadata": {},
   "outputs": [
    {
     "data": {
      "text/plain": [
       "7"
      ]
     },
     "execution_count": 4,
     "metadata": {},
     "output_type": "execute_result"
    }
   ],
   "source": [
    "exp"
   ]
  },
  {
   "cell_type": "code",
   "execution_count": 6,
   "id": "2ce5ac71",
   "metadata": {
    "scrolled": true
   },
   "outputs": [
    {
     "name": "stdout",
     "output_type": "stream",
     "text": [
      "ramesh age is: 25\n"
     ]
    }
   ],
   "source": [
    "ramesh_age = 25\n",
    "print(\"ramesh age is:\", ramesh_age)"
   ]
  },
  {
   "cell_type": "markdown",
   "id": "3e523c56",
   "metadata": {},
   "source": [
    "#### the write up should be in single or double quotes (the cheat answer it should be in red colour)"
   ]
  },
  {
   "cell_type": "code",
   "execution_count": 7,
   "id": "1b2ee0b1",
   "metadata": {},
   "outputs": [
    {
     "name": "stdout",
     "output_type": "stream",
     "text": [
      "hello mr. python\n"
     ]
    }
   ],
   "source": [
    "print(\"hello mr. python\")"
   ]
  },
  {
   "cell_type": "code",
   "execution_count": 8,
   "id": "7e4c5414",
   "metadata": {},
   "outputs": [
    {
     "name": "stdout",
     "output_type": "stream",
     "text": [
      " hello, mr. python\n"
     ]
    }
   ],
   "source": [
    "print(\" hello, mr. python\")"
   ]
  },
  {
   "cell_type": "code",
   "execution_count": 9,
   "id": "2f9d2cc4",
   "metadata": {},
   "outputs": [
    {
     "name": "stdout",
     "output_type": "stream",
     "text": [
      "HELLO MR. PYTHON\n"
     ]
    }
   ],
   "source": [
    "print(\"HELLO MR. PYTHON\")"
   ]
  },
  {
   "cell_type": "code",
   "execution_count": 11,
   "id": "32728155",
   "metadata": {},
   "outputs": [
    {
     "name": "stdout",
     "output_type": "stream",
     "text": [
      "ramesh age is ramesh_age\n"
     ]
    }
   ],
   "source": [
    "print(\"ramesh age is ramesh_age\")"
   ]
  },
  {
   "cell_type": "code",
   "execution_count": 15,
   "id": "be0b1457",
   "metadata": {},
   "outputs": [
    {
     "name": "stdout",
     "output_type": "stream",
     "text": [
      "ramesh age is 25\n"
     ]
    }
   ],
   "source": [
    "print(\"ramesh age is\",   ramesh_age)"
   ]
  },
  {
   "cell_type": "code",
   "execution_count": 16,
   "id": "53e4a718",
   "metadata": {},
   "outputs": [
    {
     "ename": "NameError",
     "evalue": "name 'four' is not defined",
     "output_type": "error",
     "traceback": [
      "\u001b[1;31m---------------------------------------------------------------------------\u001b[0m",
      "\u001b[1;31mNameError\u001b[0m                                 Traceback (most recent call last)",
      "Input \u001b[1;32mIn [16]\u001b[0m, in \u001b[0;36m<cell line: 1>\u001b[1;34m()\u001b[0m\n\u001b[1;32m----> 1\u001b[0m x\u001b[38;5;241m=\u001b[39m\u001b[43mfour\u001b[49m\n",
      "\u001b[1;31mNameError\u001b[0m: name 'four' is not defined"
     ]
    }
   ],
   "source": [
    "x=four\n",
    "# four is not defined\n",
    "# it asseumes four also one variable"
   ]
  },
  {
   "cell_type": "code",
   "execution_count": null,
   "id": "f8088c97",
   "metadata": {},
   "outputs": [],
   "source": [
    "ramesh_exp=7"
   ]
  },
  {
   "cell_type": "code",
   "execution_count": 1,
   "id": "55dc62a0",
   "metadata": {
    "scrolled": true
   },
   "outputs": [
    {
     "ename": "NameError",
     "evalue": "name 'ramesh_exp' is not defined",
     "output_type": "error",
     "traceback": [
      "\u001b[1;31m---------------------------------------------------------------------------\u001b[0m",
      "\u001b[1;31mNameError\u001b[0m                                 Traceback (most recent call last)",
      "Input \u001b[1;32mIn [1]\u001b[0m, in \u001b[0;36m<cell line: 2>\u001b[1;34m()\u001b[0m\n\u001b[0;32m      1\u001b[0m \u001b[38;5;66;03m# ramesh experience is 7 years\u001b[39;00m\n\u001b[1;32m----> 2\u001b[0m \u001b[38;5;28mprint\u001b[39m(\u001b[38;5;124m\"\u001b[39m\u001b[38;5;124mramesh experience is\u001b[39m\u001b[38;5;124m\"\u001b[39m,\u001b[43mramesh_exp\u001b[49m,\u001b[38;5;124m\"\u001b[39m\u001b[38;5;124myears\u001b[39m\u001b[38;5;124m\"\u001b[39m)\n",
      "\u001b[1;31mNameError\u001b[0m: name 'ramesh_exp' is not defined"
     ]
    }
   ],
   "source": [
    "# ramesh experience is 7 years\n",
    "print(\"ramesh experience is\",ramesh_exp,\"years\")  # it cant run bcz first we to run or define the ramesh_exp if we define a number will come in IN[] bracket. if braket is empty remains is not run"
   ]
  },
  {
   "cell_type": "code",
   "execution_count": 21,
   "id": "dd790daa",
   "metadata": {},
   "outputs": [],
   "source": [
    "ramesh_age=25\n",
    "ramesh_exp=7\n"
   ]
  },
  {
   "cell_type": "code",
   "execution_count": 27,
   "id": "806ca0aa",
   "metadata": {},
   "outputs": [
    {
     "name": "stdout",
     "output_type": "stream",
     "text": [
      "ramesh age is: 25\n",
      "ramesh experience is: 7\n"
     ]
    }
   ],
   "source": [
    "print(\"ramesh age is:\",ramesh_age)\n",
    "print(\"ramesh experience is:\",ramesh_exp)"
   ]
  },
  {
   "cell_type": "code",
   "execution_count": null,
   "id": "373060d4",
   "metadata": {},
   "outputs": [],
   "source": []
  },
  {
   "cell_type": "code",
   "execution_count": null,
   "id": "60c24ac2",
   "metadata": {},
   "outputs": [],
   "source": []
  },
  {
   "cell_type": "code",
   "execution_count": 32,
   "id": "bb1d5d0d",
   "metadata": {},
   "outputs": [
    {
     "name": "stdout",
     "output_type": "stream",
     "text": [
      "ramesh age is: 25 ramesh experience is: 7\n"
     ]
    }
   ],
   "source": [
    "print(\"ramesh age is:\", ramesh_age,\"ramesh experience is:\",ramesh_exp)"
   ]
  },
  {
   "cell_type": "code",
   "execution_count": null,
   "id": "f6c076d8",
   "metadata": {},
   "outputs": [],
   "source": [
    "### $end$ in markdown makes in italic \n",
    "\n",
    "$hello$\n",
    "$hello.world$\n",
    "$hello, happy$\n",
    "## $hello, happy$\n",
    "$$hello$$ # place these in middle of the line"
   ]
  },
  {
   "cell_type": "code",
   "execution_count": 33,
   "id": "aebae598",
   "metadata": {},
   "outputs": [
    {
     "name": "stdout",
     "output_type": "stream",
     "text": [
      "ramesh age is : 25 and ramesh experience is: 7\n"
     ]
    }
   ],
   "source": [
    "print(\"ramesh age is :\",ramesh_age,\"and ramesh experience is:\",ramesh_exp)"
   ]
  },
  {
   "cell_type": "markdown",
   "id": "1811aa84",
   "metadata": {},
   "source": [
    "### if we want to add two print statement in a single line\n",
    "## we use end=' '\n",
    "#### end add things bw print statements\n",
    "#### if anything written bw print statement it doesn't matter"
   ]
  },
  {
   "cell_type": "code",
   "execution_count": 35,
   "id": "9db89bcb",
   "metadata": {},
   "outputs": [
    {
     "name": "stdout",
     "output_type": "stream",
     "text": [
      "ramesh age is: 25\n",
      "ramesh experience is: 7\n"
     ]
    }
   ],
   "source": [
    "print(\"ramesh age is:\",ramesh_age,)\n",
    "print(\"ramesh experience is:\",ramesh_exp)"
   ]
  },
  {
   "cell_type": "markdown",
   "id": "6b9e02a0",
   "metadata": {},
   "source": [
    "###### to add these print statement "
   ]
  },
  {
   "cell_type": "code",
   "execution_count": 37,
   "id": "cf9a78f8",
   "metadata": {},
   "outputs": [
    {
     "name": "stdout",
     "output_type": "stream",
     "text": [
      "ramesh age is : 25ramesh experience is: 7\n"
     ]
    }
   ],
   "source": [
    "print(\"ramesh age is :\",ramesh_age,end='')\n",
    "print(\"ramesh experience is:\",ramesh_exp)"
   ]
  },
  {
   "cell_type": "markdown",
   "id": "5716fa7f",
   "metadata": {},
   "source": [
    "###### to avoid gap bw 25 and ramesh we      use some gap in end='    '"
   ]
  },
  {
   "cell_type": "code",
   "execution_count": null,
   "id": "4eb5d8be",
   "metadata": {},
   "outputs": [],
   "source": [
    "in markdown more space don't work it take only one space"
   ]
  },
  {
   "cell_type": "code",
   "execution_count": 39,
   "id": "0615888e",
   "metadata": {},
   "outputs": [
    {
     "name": "stdout",
     "output_type": "stream",
     "text": [
      "ramesh age is : 25 ramesh experience is: 7\n"
     ]
    }
   ],
   "source": [
    "print(\"ramesh age is :\",ramesh_age,end=' ')\n",
    "print(\"ramesh experience is:\",ramesh_exp)"
   ]
  },
  {
   "cell_type": "markdown",
   "id": "584d6b30",
   "metadata": {},
   "source": [
    "##### we can add anything in end=' or' ,end='.......' , end='hhhhhhhh'"
   ]
  },
  {
   "cell_type": "code",
   "execution_count": 40,
   "id": "0b4d6db4",
   "metadata": {},
   "outputs": [
    {
     "name": "stdout",
     "output_type": "stream",
     "text": [
      "ramesh age is : 25--------------- ramesh experience is: 7\n"
     ]
    }
   ],
   "source": [
    "print(\"ramesh age is :\",ramesh_age,end='--------------- ')\n",
    "print(\"ramesh experience is:\",ramesh_exp)"
   ]
  },
  {
   "cell_type": "code",
   "execution_count": 43,
   "id": "5f6c20f6",
   "metadata": {},
   "outputs": [
    {
     "name": "stdout",
     "output_type": "stream",
     "text": [
      "ramesh age is : 25 @@%#^^^* ramesh experience is: 7\n"
     ]
    }
   ],
   "source": [
    "print(\"ramesh age is :\",ramesh_age,end=' @@%#^^^* ')\n",
    "print(\"ramesh experience is:\",ramesh_exp)"
   ]
  },
  {
   "cell_type": "code",
   "execution_count": 45,
   "id": "d4cdfdae",
   "metadata": {},
   "outputs": [
    {
     "name": "stdout",
     "output_type": "stream",
     "text": [
      "ramesh age is : 25 & ramesh experience is: 7\n"
     ]
    }
   ],
   "source": [
    "print(\"ramesh age is :\",ramesh_age,end=' & ')\n",
    "print(\"ramesh experience is:\",ramesh_exp)"
   ]
  },
  {
   "cell_type": "markdown",
   "id": "d0f108f0",
   "metadata": {},
   "source": [
    "###### we can add only two print statement end is used at the end of first print statement and next print statement is add with first print statement"
   ]
  },
  {
   "cell_type": "code",
   "execution_count": 46,
   "id": "85dbe125",
   "metadata": {},
   "outputs": [
    {
     "name": "stdout",
     "output_type": "stream",
     "text": [
      "hai\n",
      "how\n",
      "are you\n"
     ]
    }
   ],
   "source": [
    "print(\"hai\")\n",
    "print(\"how\")\n",
    "print(\"are you\")"
   ]
  },
  {
   "cell_type": "code",
   "execution_count": 48,
   "id": "60040f94",
   "metadata": {},
   "outputs": [
    {
     "name": "stdout",
     "output_type": "stream",
     "text": [
      "hai how\n",
      "are you\n"
     ]
    }
   ],
   "source": [
    "print(\"hai\",end=' ')\n",
    "print (\"how\")\n",
    "print(\"are you\")"
   ]
  },
  {
   "cell_type": "code",
   "execution_count": 51,
   "id": "1732d880",
   "metadata": {},
   "outputs": [
    {
     "name": "stdout",
     "output_type": "stream",
     "text": [
      "hai\n"
     ]
    }
   ],
   "source": [
    "print     (\"hai\")"
   ]
  },
  {
   "cell_type": "code",
   "execution_count": 53,
   "id": "e7600519",
   "metadata": {},
   "outputs": [
    {
     "name": "stdout",
     "output_type": "stream",
     "text": [
      "hai how are you\n"
     ]
    }
   ],
   "source": [
    "print(\"hai\",end=' ')  # here end add this and next print statement\n",
    "print(\"how\",end=' ')  # here end add this and next print statement\n",
    "print(\"are you\")"
   ]
  },
  {
   "cell_type": "code",
   "execution_count": 54,
   "id": "7e143b1f",
   "metadata": {},
   "outputs": [
    {
     "name": "stdout",
     "output_type": "stream",
     "text": [
      "haiiiiii"
     ]
    }
   ],
   "source": [
    "print(\"hai\",end='iiiii')  # here end add iiii in hai"
   ]
  },
  {
   "cell_type": "code",
   "execution_count": 55,
   "id": "793b73ce",
   "metadata": {},
   "outputs": [
    {
     "name": "stdout",
     "output_type": "stream",
     "text": [
      "haiiiiiihow\n"
     ]
    }
   ],
   "source": [
    "print(\"hai\",end='iiiii') ### end add things bw two print statement\n",
    "print(\"how\")"
   ]
  },
  {
   "cell_type": "code",
   "execution_count": 58,
   "id": "89096f28",
   "metadata": {},
   "outputs": [
    {
     "name": "stdout",
     "output_type": "stream",
     "text": [
      "haihai 10\n"
     ]
    }
   ],
   "source": [
    "print(\"hai\",end='')  ## here variable a doesn't matter \n",
    "a = 10\n",
    "print(\"hai\",a)"
   ]
  },
  {
   "cell_type": "code",
   "execution_count": 59,
   "id": "46f05bde",
   "metadata": {},
   "outputs": [
    {
     "name": "stdout",
     "output_type": "stream",
     "text": [
      "hello______happy\n"
     ]
    }
   ],
   "source": [
    "print(\"hello\",end='______')  # same here # but the question here raise why a is not shown in outout\n",
    "a=10\n",
    "a\n",
    "print(\"happy\")       # we have to add print(\" \") to print a in output"
   ]
  },
  {
   "cell_type": "code",
   "execution_count": 60,
   "id": "62536c0f",
   "metadata": {},
   "outputs": [
    {
     "name": "stdout",
     "output_type": "stream",
     "text": [
      "hello______10\n",
      "happy\n"
     ]
    }
   ],
   "source": [
    "print(\"hello\",end='______')  \n",
    "a=10\n",
    "print(a)      ## here two print statement is add and value of second print statement is add with first statement \n",
    "print(\"happy\")"
   ]
  },
  {
   "cell_type": "code",
   "execution_count": 61,
   "id": "dadd73aa",
   "metadata": {},
   "outputs": [
    {
     "name": "stdout",
     "output_type": "stream",
     "text": [
      "hello>>>>>>>>>>10>>>>>>>>>happy\n"
     ]
    }
   ],
   "source": [
    "print(\"hello\",end='>>>>>>>>>>') \n",
    "a=10\n",
    "print(a,end='>>>>>>>>>')\n",
    "print(\"happy\")"
   ]
  },
  {
   "cell_type": "code",
   "execution_count": 66,
   "id": "ad8c055b",
   "metadata": {},
   "outputs": [
    {
     "name": "stdout",
     "output_type": "stream",
     "text": [
      "hello>>>>>>>>>>10>>>>>>>>>happy<<<<<<<<<phone number 7027177726<<<<<<<<mail vishalkadyan567@gmail.com\n"
     ]
    }
   ],
   "source": [
    "print(\"hello\",end='>>>>>>>>>>') \n",
    "a=10\n",
    "print(a,end='>>>>>>>>>')\n",
    "print(\"happy\",end='<<<<<<<<<')\n",
    "num=7027177726    # here num is int \n",
    "print(\"phone number\",num,end='<<<<<<<<')\n",
    "mail= \"vishalkadyan567@gmail.com\"  # mail is string that's why we put in comma\n",
    "print(\"mail\",mail)"
   ]
  },
  {
   "cell_type": "markdown",
   "id": "dcee79f1",
   "metadata": {},
   "source": [
    "## .format()"
   ]
  },
  {
   "cell_type": "markdown",
   "id": "53fb3b79",
   "metadata": {},
   "source": [
    "#### it is used to print more values in single print statement "
   ]
  },
  {
   "cell_type": "code",
   "execution_count": 67,
   "id": "4c7afb15",
   "metadata": {},
   "outputs": [
    {
     "name": "stdout",
     "output_type": "stream",
     "text": [
      "ramesh age is 25 and ramesh experience is 7 years\n"
     ]
    }
   ],
   "source": [
    "# ramesh age is 25 and ramesh experience is 7 years\n",
    "print(\"ramesh age is\",ramesh_age,\"and ramesh experience is\",ramesh_exp,\"years\")"
   ]
  },
  {
   "cell_type": "code",
   "execution_count": 68,
   "id": "ba2d20fd",
   "metadata": {},
   "outputs": [
    {
     "name": "stdout",
     "output_type": "stream",
     "text": [
      "ramesh age is 25 and ramesh experience is 7 years\n"
     ]
    }
   ],
   "source": [
    "print(\"ramesh age is {} and ramesh experience is {} years\".format(ramesh_age,ramesh_exp))"
   ]
  },
  {
   "cell_type": "code",
   "execution_count": 70,
   "id": "1c40bcff",
   "metadata": {},
   "outputs": [
    {
     "name": "stdout",
     "output_type": "stream",
     "text": [
      "ramesh age is 25 for 7 experience\n"
     ]
    }
   ],
   "source": [
    "print (\"ramesh age is {} for {} experience\".format(ramesh_age,ramesh_exp))"
   ]
  },
  {
   "cell_type": "code",
   "execution_count": 72,
   "id": "878387f8",
   "metadata": {},
   "outputs": [
    {
     "name": "stdout",
     "output_type": "stream",
     "text": [
      "the addition of {} and {} is {} 10 20 30\n"
     ]
    }
   ],
   "source": [
    "a=10\n",
    "b=20\n",
    "c=a+b\n",
    "print(\"the addition of {} and {} is {}\",a,b,c) # format is used is fill the blanks "
   ]
  },
  {
   "cell_type": "code",
   "execution_count": 73,
   "id": "227dc603",
   "metadata": {},
   "outputs": [
    {
     "name": "stdout",
     "output_type": "stream",
     "text": [
      "the addition of 10 and 20 is 30\n"
     ]
    }
   ],
   "source": [
    "print(\"the addition of {} and {} is {}\".format(a,b,c))"
   ]
  },
  {
   "cell_type": "code",
   "execution_count": 76,
   "id": "8e626981",
   "metadata": {},
   "outputs": [
    {
     "name": "stdout",
     "output_type": "stream",
     "text": [
      "gary age is, roger age is tom age is  24 24\n"
     ]
    }
   ],
   "source": [
    "gary_age=roger_age=tom_age=24\n",
    "print(\"gary age is,\",\"roger age is\",\"tom age is \",roger_age,gary_age) # print function will output that we wriiten in it"
   ]
  },
  {
   "cell_type": "code",
   "execution_count": 77,
   "id": "d6d56068",
   "metadata": {},
   "outputs": [
    {
     "name": "stdout",
     "output_type": "stream",
     "text": [
      "gary age is 24 roger age is 24 tom age is  24\n"
     ]
    }
   ],
   "source": [
    "print(\"gary age is\",gary_age,\"roger age is\",roger_age,\"tom age is \",tom_age)"
   ]
  },
  {
   "cell_type": "code",
   "execution_count": 78,
   "id": "b786d59c",
   "metadata": {},
   "outputs": [
    {
     "name": "stdout",
     "output_type": "stream",
     "text": [
      "gary age is 24 roger age is 24 tom age is 24\n"
     ]
    }
   ],
   "source": [
    "print(\"gary age is {} roger age is {} tom age is {}\".format(gary_age,roger_age,tom_age))"
   ]
  },
  {
   "cell_type": "code",
   "execution_count": 85,
   "id": "4a8850cf",
   "metadata": {},
   "outputs": [
    {
     "ename": "IndexError",
     "evalue": "Replacement index 1 out of range for positional args tuple",
     "output_type": "error",
     "traceback": [
      "\u001b[1;31m---------------------------------------------------------------------------\u001b[0m",
      "\u001b[1;31mIndexError\u001b[0m                                Traceback (most recent call last)",
      "Input \u001b[1;32mIn [85]\u001b[0m, in \u001b[0;36m<cell line: 1>\u001b[1;34m()\u001b[0m\n\u001b[1;32m----> 1\u001b[0m \u001b[38;5;28mprint\u001b[39m(\u001b[38;5;124;43m\"\u001b[39;49m\u001b[38;5;124;43mgary age is \u001b[39;49m\u001b[38;5;132;43;01m{}\u001b[39;49;00m\u001b[38;5;124;43m roger age is \u001b[39;49m\u001b[38;5;132;43;01m{}\u001b[39;49;00m\u001b[38;5;124;43m tom age is \u001b[39;49m\u001b[38;5;132;43;01m{}\u001b[39;49;00m\u001b[38;5;124;43m\"\u001b[39;49m\u001b[38;5;241;43m.\u001b[39;49m\u001b[43mformat\u001b[49m\u001b[43m(\u001b[49m\u001b[43mgary_age\u001b[49m\u001b[43m,\u001b[49m\u001b[43m)\u001b[49m)\n",
      "\u001b[1;31mIndexError\u001b[0m: Replacement index 1 out of range for positional args tuple"
     ]
    }
   ],
   "source": [
    "print(\"gary age is {} roger age is {} tom age is {}\".format(gary_age,))"
   ]
  },
  {
   "cell_type": "code",
   "execution_count": null,
   "id": "ca453be9",
   "metadata": {},
   "outputs": [],
   "source": []
  },
  {
   "cell_type": "code",
   "execution_count": null,
   "id": "ed49acdb",
   "metadata": {},
   "outputs": [],
   "source": [
    "## three fill up so we have to provide three answer"
   ]
  },
  {
   "cell_type": "code",
   "execution_count": 86,
   "id": "f6caab36",
   "metadata": {},
   "outputs": [
    {
     "name": "stdout",
     "output_type": "stream",
     "text": [
      "gary age is 24 roger age is 24 tom age is 24\n"
     ]
    }
   ],
   "source": [
    "print(\"gary age is {} roger age is {} tom age is {}\".format(gary_age,gary_age,gary_age))"
   ]
  },
  {
   "cell_type": "code",
   "execution_count": null,
   "id": "3cf8c2e8",
   "metadata": {},
   "outputs": [],
   "source": [
    "# age is same "
   ]
  }
 ],
 "metadata": {
  "kernelspec": {
   "display_name": "Python 3 (ipykernel)",
   "language": "python",
   "name": "python3"
  },
  "language_info": {
   "codemirror_mode": {
    "name": "ipython",
    "version": 3
   },
   "file_extension": ".py",
   "mimetype": "text/x-python",
   "name": "python",
   "nbconvert_exporter": "python",
   "pygments_lexer": "ipython3",
   "version": "3.9.12"
  }
 },
 "nbformat": 4,
 "nbformat_minor": 5
}
