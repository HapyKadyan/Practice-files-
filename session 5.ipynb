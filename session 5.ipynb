{
 "cells": [
  {
   "cell_type": "markdown",
   "id": "b9201051",
   "metadata": {},
   "source": [
    "- .ipynb.......> ipython notebook.......> it will open only jupyter notebook\n",
    "- .py..........> notepad++, pycharm, vs code\n",
    "- .html ........> directly open(read only)"
   ]
  },
  {
   "cell_type": "code",
   "execution_count": null,
   "id": "d7db0984",
   "metadata": {},
   "outputs": [],
   "source": [
    "# wap ask the user to enter no. of working hours say 500, rate per hour say 1000rs\n",
    "# calculate total salary you get"
   ]
  },
  {
   "cell_type": "code",
   "execution_count": 1,
   "id": "f5a5cf29",
   "metadata": {},
   "outputs": [
    {
     "name": "stdout",
     "output_type": "stream",
     "text": [
      "enter the number of working hours500\n",
      "enter the rate per hours1000\n",
      "the total salary is 500000\n"
     ]
    }
   ],
   "source": [
    "no_working_hours=eval(input(\"enter the number of working hours\"))\n",
    "rate_per_hour=eval(input(\"enter the rate per hours\"))\n",
    "print(\"the total salary is\",no_working_hours*rate_per_hour)"
   ]
  },
  {
   "cell_type": "code",
   "execution_count": null,
   "id": "3c2dfb5d",
   "metadata": {},
   "outputs": [],
   "source": [
    "# write salary in a way say 500000rs"
   ]
  },
  {
   "cell_type": "code",
   "execution_count": 2,
   "id": "1c73683e",
   "metadata": {},
   "outputs": [
    {
     "name": "stdout",
     "output_type": "stream",
     "text": [
      "enter the number of working hours500\n",
      "enter the rate per hours1000\n",
      "the total salary is 500000 rs\n"
     ]
    }
   ],
   "source": [
    "no_working_hours=eval(input(\"enter the number of working hours\"))\n",
    "rate_per_hour=eval(input(\"enter the rate per hours\"))\n",
    "print(\"the total salary is\",no_working_hours*rate_per_hour,\"rs\")"
   ]
  },
  {
   "cell_type": "markdown",
   "id": "3ed36449",
   "metadata": {},
   "source": [
    "### to avoid gap bw 50000 and rs we use SEP"
   ]
  },
  {
   "cell_type": "markdown",
   "id": "25fd9983",
   "metadata": {},
   "source": [
    "## $$SEP$$"
   ]
  },
  {
   "cell_type": "code",
   "execution_count": 2,
   "id": "5e7a3ef3",
   "metadata": {},
   "outputs": [
    {
     "name": "stdout",
     "output_type": "stream",
     "text": [
      "enter the number of working hours500\n",
      "enter the rate per hours1020\n",
      "the total salary is510000rs\n"
     ]
    }
   ],
   "source": [
    "no_working_hours=eval(input(\"enter the number of working hours\"))\n",
    "rate_per_hour=eval(input(\"enter the rate per hours\"))\n",
    "print(\"the total salary is\",no_working_hours*rate_per_hour,\"rs\",sep=\"\")"
   ]
  },
  {
   "cell_type": "code",
   "execution_count": null,
   "id": "0bfd221c",
   "metadata": {},
   "outputs": [],
   "source": [
    "# sep add thing bw \"\" two or more comma statement inside a print statement # we can put anything in sep comma\n",
    "here we put no gap in sep=\"\"\n",
    "and is,50000 and rs are combined together "
   ]
  },
  {
   "cell_type": "code",
   "execution_count": 6,
   "id": "360d51c7",
   "metadata": {},
   "outputs": [
    {
     "name": "stdout",
     "output_type": "stream",
     "text": [
      "enter the number of working hours=500\n",
      "enter the rate per hours=1000\n",
      "the total salary is 500000rs\n"
     ]
    }
   ],
   "source": [
    "no_working_hours=eval(input(\"enter the number of working hours=\"))\n",
    "rate_per_hour=eval(input(\"enter the rate per hours=\"))\n",
    "print(\"the total salary is \",no_working_hours*rate_per_hour,\"rs\",sep=\"\")"
   ]
  },
  {
   "cell_type": "code",
   "execution_count": 7,
   "id": "c92bb1db",
   "metadata": {},
   "outputs": [
    {
     "name": "stdout",
     "output_type": "stream",
     "text": [
      "enter the number of working hours=500\n",
      "enter the rate per hours=1000\n",
      "the total salary is $$$$$$$$$$$$$$$$$$$500000$$$$$$$$$$$$$$$$$$$rs\n"
     ]
    }
   ],
   "source": [
    "no_working_hours=eval(input(\"enter the number of working hours=\"))\n",
    "rate_per_hour=eval(input(\"enter the rate per hours=\"))\n",
    "print(\"the total salary is \",no_working_hours*rate_per_hour,\"rs\",sep=\"$$$$$$$$$$$$$$$$$$$\")"
   ]
  },
  {
   "cell_type": "code",
   "execution_count": 8,
   "id": "07e16e1f",
   "metadata": {},
   "outputs": [
    {
     "name": "stdout",
     "output_type": "stream",
     "text": [
      "enter the number of working hours=500\n",
      "enter the rate per hours=1000\n",
      "the total salary is  $$$$$$$ 500000 $$$$$$$ rs\n"
     ]
    }
   ],
   "source": [
    "no_working_hours=eval(input(\"enter the number of working hours=\"))\n",
    "rate_per_hour=eval(input(\"enter the rate per hours=\"))\n",
    "print(\"the total salary is \",no_working_hours*rate_per_hour,\"rs\",sep=\" $$$$$$$ \")"
   ]
  },
  {
   "cell_type": "code",
   "execution_count": 9,
   "id": "c363d44d",
   "metadata": {},
   "outputs": [
    {
     "name": "stdout",
     "output_type": "stream",
     "text": [
      "the value of 10+15 is 25 .\n"
     ]
    }
   ],
   "source": [
    "print(\"the value of 10+15 is\",10+15,\".\")"
   ]
  },
  {
   "cell_type": "code",
   "execution_count": null,
   "id": "c5cb953b",
   "metadata": {},
   "outputs": [],
   "source": [
    "# to put 25 and . together we use sep"
   ]
  },
  {
   "cell_type": "code",
   "execution_count": 11,
   "id": "4c5bd22c",
   "metadata": {},
   "outputs": [
    {
     "name": "stdout",
     "output_type": "stream",
     "text": [
      "the value of 10+15 is 25.\n"
     ]
    }
   ],
   "source": [
    "print(\"the value of 10+15 is \",10+15,\".\",sep='')"
   ]
  },
  {
   "cell_type": "code",
   "execution_count": 12,
   "id": "f3a2b65b",
   "metadata": {},
   "outputs": [
    {
     "name": "stdout",
     "output_type": "stream",
     "text": [
      "A:B:C\n"
     ]
    }
   ],
   "source": [
    "print(\"A\",\"B\",\"C\",sep=\":\")"
   ]
  },
  {
   "cell_type": "code",
   "execution_count": 13,
   "id": "464e8d35",
   "metadata": {},
   "outputs": [
    {
     "name": "stdout",
     "output_type": "stream",
     "text": [
      "A>B>C\n"
     ]
    }
   ],
   "source": [
    "print(\"A\",\"B\",\"C\",sep=\">\")"
   ]
  },
  {
   "cell_type": "code",
   "execution_count": 14,
   "id": "fe779b6a",
   "metadata": {},
   "outputs": [
    {
     "name": "stdout",
     "output_type": "stream",
     "text": [
      "Ramesh/Suresh\n"
     ]
    }
   ],
   "source": [
    "print(\"Ramesh\",\"Suresh\",sep=\"/\")"
   ]
  },
  {
   "cell_type": "code",
   "execution_count": 15,
   "id": "0bac5ea3",
   "metadata": {},
   "outputs": [
    {
     "name": "stdout",
     "output_type": "stream",
     "text": [
      "the value of 10+15 is .............25..............\n"
     ]
    }
   ],
   "source": [
    "print(\"the value of 10+15 is \",10+15,\".\",sep=\".............\")"
   ]
  },
  {
   "cell_type": "code",
   "execution_count": 16,
   "id": "61ba1b4d",
   "metadata": {},
   "outputs": [
    {
     "name": "stdout",
     "output_type": "stream",
     "text": [
      "the value of 10+15 is ''''''''''''''''''25''''''''''''''''''.\n"
     ]
    }
   ],
   "source": [
    "print(\"the value of 10+15 is \",10+15,\".\",sep=\"''''''''''''''''''\")"
   ]
  },
  {
   "cell_type": "code",
   "execution_count": 17,
   "id": "d28bcab1",
   "metadata": {},
   "outputs": [
    {
     "name": "stdout",
     "output_type": "stream",
     "text": [
      "the value of 10+15 is @@@@@@@@@@@@@@@@@25@@@@@@@@@@@@@@@@@.\n"
     ]
    }
   ],
   "source": [
    "print(\"the value of 10+15 is \",10+15,\".\",sep=\"@@@@@@@@@@@@@@@@@\")"
   ]
  },
  {
   "cell_type": "code",
   "execution_count": 18,
   "id": "e65aafa1",
   "metadata": {},
   "outputs": [
    {
     "name": "stdout",
     "output_type": "stream",
     "text": [
      "27082022\n"
     ]
    }
   ],
   "source": [
    "print(\"27\",\"08\",\"2022\",sep=\"\")"
   ]
  },
  {
   "cell_type": "code",
   "execution_count": 19,
   "id": "9c5589ef",
   "metadata": {},
   "outputs": [
    {
     "name": "stdout",
     "output_type": "stream",
     "text": [
      "27/08/2022\n"
     ]
    }
   ],
   "source": [
    "print(\"27\",\"08\",\"2022\",sep=\"/\")"
   ]
  },
  {
   "cell_type": "code",
   "execution_count": null,
   "id": "ce39dada",
   "metadata": {},
   "outputs": [],
   "source": []
  },
  {
   "cell_type": "code",
   "execution_count": null,
   "id": "b8f9af11",
   "metadata": {},
   "outputs": [],
   "source": [
    "#write a program\n",
    "# ask the user enter a number\n",
    "# print the square of the number,this time use sep operator\n",
    "# example:\n",
    "# enter a number: 25\n",
    "# the square of 5 is 25."
   ]
  },
  {
   "cell_type": "code",
   "execution_count": 23,
   "id": "26f3829b",
   "metadata": {},
   "outputs": [
    {
     "name": "stdout",
     "output_type": "stream",
     "text": [
      "enter a number:9\n",
      "the square of 9 is 81.\n"
     ]
    }
   ],
   "source": [
    "num=eval(input(\"enter a number:\"))\n",
    "square_of_number=num**2 # num*num = num**2\n",
    "print(\"the square of {} is {}\".format(num,square_of_number),\".\",sep=\"\")"
   ]
  },
  {
   "cell_type": "code",
   "execution_count": null,
   "id": "c532dbaa",
   "metadata": {},
   "outputs": [],
   "source": [
    "# write a program\n",
    "# ask the user enter three numbers num1,num2,and num3\n",
    "# total is sum of three numbers\n",
    "# average is average of three numbers\n",
    "# print total and average\n",
    "# avg=sum of all numbers/total numbers\n"
   ]
  },
  {
   "cell_type": "code",
   "execution_count": 26,
   "id": "2cbcdacb",
   "metadata": {},
   "outputs": [
    {
     "name": "stdout",
     "output_type": "stream",
     "text": [
      "enter first number=4\n",
      "enter second number=5\n",
      "enter third number=6\n",
      "the total of three numbers is 15 and the average is 5.0\n"
     ]
    }
   ],
   "source": [
    "num1=eval(input(\"enter first number=\"))\n",
    "num2=eval(input(\"enter second number=\"))\n",
    "num3=eval(input(\"enter third number=\"))\n",
    "total=num1+num2+num3\n",
    "average=total/3\n",
    "print('the total of three numbers is {} and the average is {}'.format(total,average))"
   ]
  },
  {
   "cell_type": "code",
   "execution_count": 27,
   "id": "bd5aab4f",
   "metadata": {},
   "outputs": [
    {
     "name": "stdout",
     "output_type": "stream",
     "text": [
      "enter first number=5\n",
      "enter second number=6\n",
      "enter third number=8\n",
      "the total of three numbers is 19 and the average is 6.333333333333333\n"
     ]
    }
   ],
   "source": [
    "num1=eval(input(\"enter first number=\"))\n",
    "num2=eval(input(\"enter second number=\"))\n",
    "num3=eval(input(\"enter third number=\"))\n",
    "total=num1+num2+num3\n",
    "average=total/3\n",
    "print('the total of three numbers is {} and the average is {}'.format(total,average))"
   ]
  },
  {
   "cell_type": "code",
   "execution_count": null,
   "id": "7544bad2",
   "metadata": {},
   "outputs": [],
   "source": [
    "# here we do not need 6.3333333333 value we need only 6.33\n",
    "# so what we do\n",
    "# lets study round concept"
   ]
  },
  {
   "cell_type": "markdown",
   "id": "a0afad58",
   "metadata": {},
   "source": [
    "$$round$$ $$concept$$"
   ]
  },
  {
   "cell_type": "code",
   "execution_count": 28,
   "id": "3c05aadc",
   "metadata": {},
   "outputs": [],
   "source": [
    "average=round(total/3,2)"
   ]
  },
  {
   "cell_type": "code",
   "execution_count": 29,
   "id": "bb03fe87",
   "metadata": {},
   "outputs": [
    {
     "name": "stdout",
     "output_type": "stream",
     "text": [
      "enter first number=5\n",
      "enter second number=6\n",
      "enter third number=8\n",
      "the total of three numbers is 19 and the average is 6.33\n"
     ]
    }
   ],
   "source": [
    "num1=eval(input(\"enter first number=\"))\n",
    "num2=eval(input(\"enter second number=\"))\n",
    "num3=eval(input(\"enter third number=\"))\n",
    "total=num1+num2+num3\n",
    "average=round(total/3,2)\n",
    "print('the total of three numbers is {} and the average is {}'.format(total,average))"
   ]
  },
  {
   "cell_type": "code",
   "execution_count": 30,
   "id": "fe9398a6",
   "metadata": {},
   "outputs": [
    {
     "name": "stdout",
     "output_type": "stream",
     "text": [
      "enter first number=5\n",
      "enter second number=6\n",
      "enter third number=8\n",
      "the total of three numbers is 19 and the average is 6.333\n"
     ]
    }
   ],
   "source": [
    "num1=eval(input(\"enter first number=\"))\n",
    "num2=eval(input(\"enter second number=\"))\n",
    "num3=eval(input(\"enter third number=\"))\n",
    "total=num1+num2+num3\n",
    "average=round(total/3,3)\n",
    "print('the total of three numbers is {} and the average is {}'.format(total,average))"
   ]
  },
  {
   "cell_type": "code",
   "execution_count": 31,
   "id": "8f93484b",
   "metadata": {},
   "outputs": [
    {
     "data": {
      "text/plain": [
       "3.3333333333333335"
      ]
     },
     "execution_count": 31,
     "metadata": {},
     "output_type": "execute_result"
    }
   ],
   "source": [
    "10/3"
   ]
  },
  {
   "cell_type": "code",
   "execution_count": 32,
   "id": "bc42e198",
   "metadata": {},
   "outputs": [
    {
     "data": {
      "text/plain": [
       "3.3333"
      ]
     },
     "execution_count": 32,
     "metadata": {},
     "output_type": "execute_result"
    }
   ],
   "source": [
    "round(10/3,4)  ## here after comma 4 tells we need only 4 decimal point "
   ]
  },
  {
   "cell_type": "code",
   "execution_count": 35,
   "id": "aaa32cae",
   "metadata": {},
   "outputs": [
    {
     "data": {
      "text/plain": [
       "3"
      ]
     },
     "execution_count": 35,
     "metadata": {},
     "output_type": "execute_result"
    }
   ],
   "source": [
    "round(22/7)   ## why only single value ?? "
   ]
  },
  {
   "cell_type": "code",
   "execution_count": 39,
   "id": "b3450bec",
   "metadata": {},
   "outputs": [
    {
     "data": {
      "text/plain": [
       "6"
      ]
     },
     "execution_count": 39,
     "metadata": {},
     "output_type": "execute_result"
    }
   ],
   "source": [
    "round(19/3) #bcoz we dont enter how many values we need after decimal so it consider zero values after decimal"
   ]
  },
  {
   "cell_type": "code",
   "execution_count": 40,
   "id": "3ad5924d",
   "metadata": {},
   "outputs": [
    {
     "data": {
      "text/plain": [
       "6.333333333333333"
      ]
     },
     "execution_count": 40,
     "metadata": {},
     "output_type": "execute_result"
    }
   ],
   "source": [
    "19/3  ## see In[39]"
   ]
  },
  {
   "cell_type": "code",
   "execution_count": 36,
   "id": "4d6ab56d",
   "metadata": {},
   "outputs": [
    {
     "data": {
      "text/plain": [
       "3.14286"
      ]
     },
     "execution_count": 36,
     "metadata": {},
     "output_type": "execute_result"
    }
   ],
   "source": [
    "round(22/7,5)"
   ]
  },
  {
   "cell_type": "code",
   "execution_count": 37,
   "id": "d83a764f",
   "metadata": {},
   "outputs": [
    {
     "data": {
      "text/plain": [
       "3.142857142857143"
      ]
     },
     "execution_count": 37,
     "metadata": {},
     "output_type": "execute_result"
    }
   ],
   "source": [
    "round(22/7,15)"
   ]
  },
  {
   "cell_type": "code",
   "execution_count": 38,
   "id": "ab1dc120",
   "metadata": {},
   "outputs": [
    {
     "data": {
      "text/plain": [
       "3.142857142857143"
      ]
     },
     "execution_count": 38,
     "metadata": {},
     "output_type": "execute_result"
    }
   ],
   "source": [
    "round(22/7,20)   ## why gives 15 values inside of 20 ?? bcz 15 values are describe generally of pie "
   ]
  },
  {
   "cell_type": "code",
   "execution_count": 44,
   "id": "b8f56b8c",
   "metadata": {},
   "outputs": [
    {
     "data": {
      "text/plain": [
       "0.000649772579597141"
      ]
     },
     "execution_count": 44,
     "metadata": {},
     "output_type": "execute_result"
    }
   ],
   "source": [
    "6/9234"
   ]
  },
  {
   "cell_type": "code",
   "execution_count": 45,
   "id": "1b7c3fbe",
   "metadata": {},
   "outputs": [
    {
     "data": {
      "text/plain": [
       "0"
      ]
     },
     "execution_count": 45,
     "metadata": {},
     "output_type": "execute_result"
    }
   ],
   "source": [
    "round(6/9234)"
   ]
  },
  {
   "cell_type": "code",
   "execution_count": 3,
   "id": "7a88fad1",
   "metadata": {},
   "outputs": [
    {
     "data": {
      "text/plain": [
       "0.000649772579597141"
      ]
     },
     "execution_count": 3,
     "metadata": {},
     "output_type": "execute_result"
    }
   ],
   "source": [
    "round(6/9234,19)"
   ]
  },
  {
   "cell_type": "code",
   "execution_count": null,
   "id": "5e560336",
   "metadata": {},
   "outputs": [],
   "source": []
  },
  {
   "cell_type": "markdown",
   "id": "80dfc3f2",
   "metadata": {},
   "source": [
    "## conditional statements"
   ]
  },
  {
   "cell_type": "markdown",
   "id": "c1f67355",
   "metadata": {},
   "source": [
    "# if "
   ]
  },
  {
   "cell_type": "markdown",
   "id": "bec74f17",
   "metadata": {},
   "source": [
    "- the if statement is uded for decision making \n",
    "- it is written using if keyword"
   ]
  },
  {
   "cell_type": "code",
   "execution_count": null,
   "id": "d1692abf",
   "metadata": {},
   "outputs": [],
   "source": [
    "num=??\n",
    "# weather it is a positive number or negative number\n",
    "# how you are saying\n",
    "# no sign ......>\n",
    "# num>0 .......> positive\n",
    "# num<0 .......> negative\n",
    "# you are applying some condition\n",
    "# if condition is true.......> a\n",
    "# if condition is false ......>b\n",
    "# if num>0\n",
    "# if true \n",
    "# if false\n",
    "# indentation gap"
   ]
  },
  {
   "cell_type": "code",
   "execution_count": 49,
   "id": "1b739fcb",
   "metadata": {},
   "outputs": [],
   "source": [
    "num=8"
   ]
  },
  {
   "cell_type": "code",
   "execution_count": 4,
   "id": "d9b65f03",
   "metadata": {},
   "outputs": [
    {
     "ename": "IndentationError",
     "evalue": "expected an indented block (2287339755.py, line 1)",
     "output_type": "error",
     "traceback": [
      "\u001b[1;36m  Input \u001b[1;32mIn [4]\u001b[1;36m\u001b[0m\n\u001b[1;33m    if num>0:\u001b[0m\n\u001b[1;37m             ^\u001b[0m\n\u001b[1;31mIndentationError\u001b[0m\u001b[1;31m:\u001b[0m expected an indented block\n"
     ]
    }
   ],
   "source": [
    "if num>0:"
   ]
  },
  {
   "cell_type": "code",
   "execution_count": 51,
   "id": "5bc9014e",
   "metadata": {},
   "outputs": [
    {
     "name": "stdout",
     "output_type": "stream",
     "text": [
      "it is a positive number\n"
     ]
    }
   ],
   "source": [
    "if num>0:\n",
    "    print(\"it is a positive number\")"
   ]
  },
  {
   "cell_type": "code",
   "execution_count": 52,
   "id": "cef720fa",
   "metadata": {},
   "outputs": [
    {
     "ename": "IndentationError",
     "evalue": "expected an indented block (4274003657.py, line 2)",
     "output_type": "error",
     "traceback": [
      "\u001b[1;36m  Input \u001b[1;32mIn [52]\u001b[1;36m\u001b[0m\n\u001b[1;33m    print(\"it is a positive number\")\u001b[0m\n\u001b[1;37m    ^\u001b[0m\n\u001b[1;31mIndentationError\u001b[0m\u001b[1;31m:\u001b[0m expected an indented block\n"
     ]
    }
   ],
   "source": [
    "if num>0:\n",
    "print(\"it is a positive number\")    \n",
    "    "
   ]
  },
  {
   "cell_type": "code",
   "execution_count": 53,
   "id": "f98ca704",
   "metadata": {},
   "outputs": [
    {
     "name": "stdout",
     "output_type": "stream",
     "text": [
      "it is a positive number\n",
      "okay\n"
     ]
    }
   ],
   "source": [
    "num=6\n",
    "if num>0:\n",
    "    print(\"it is a positive number\")\n",
    "    print(\"okay\")"
   ]
  },
  {
   "cell_type": "code",
   "execution_count": null,
   "id": "0a8bdb55",
   "metadata": {},
   "outputs": [],
   "source": [
    "# what is indentation gap\n",
    " if num>0:\n",
    "|||||| this gap is called indentation gap\n",
    "\n",
    "# when we print statement then below if then it is not consider as a part of if statement\n",
    "# if statement part should written below condition say num, a gap should be there\n",
    "        "
   ]
  },
  {
   "cell_type": "code",
   "execution_count": 54,
   "id": "394ed2b1",
   "metadata": {},
   "outputs": [
    {
     "data": {
      "text/plain": [
       "False"
      ]
     },
     "execution_count": 54,
     "metadata": {},
     "output_type": "execute_result"
    }
   ],
   "source": [
    "0>0"
   ]
  },
  {
   "cell_type": "code",
   "execution_count": 55,
   "id": "4c02c88d",
   "metadata": {},
   "outputs": [
    {
     "data": {
      "text/plain": [
       "False"
      ]
     },
     "execution_count": 55,
     "metadata": {},
     "output_type": "execute_result"
    }
   ],
   "source": [
    "0<0"
   ]
  },
  {
   "cell_type": "code",
   "execution_count": 56,
   "id": "ce54e58f",
   "metadata": {},
   "outputs": [
    {
     "ename": "SyntaxError",
     "evalue": "invalid syntax (213096461.py, line 1)",
     "output_type": "error",
     "traceback": [
      "\u001b[1;36m  Input \u001b[1;32mIn [56]\u001b[1;36m\u001b[0m\n\u001b[1;33m    0>0:\u001b[0m\n\u001b[1;37m        ^\u001b[0m\n\u001b[1;31mSyntaxError\u001b[0m\u001b[1;31m:\u001b[0m invalid syntax\n"
     ]
    }
   ],
   "source": [
    "0>0:"
   ]
  },
  {
   "cell_type": "code",
   "execution_count": 57,
   "id": "c919bd7c",
   "metadata": {},
   "outputs": [
    {
     "data": {
      "text/plain": [
       "True"
      ]
     },
     "execution_count": 57,
     "metadata": {},
     "output_type": "execute_result"
    }
   ],
   "source": [
    "0>=0"
   ]
  },
  {
   "cell_type": "code",
   "execution_count": 58,
   "id": "883d56aa",
   "metadata": {
    "scrolled": true
   },
   "outputs": [
    {
     "data": {
      "text/plain": [
       "True"
      ]
     },
     "execution_count": 58,
     "metadata": {},
     "output_type": "execute_result"
    }
   ],
   "source": [
    "0<=0"
   ]
  },
  {
   "cell_type": "code",
   "execution_count": null,
   "id": "280fac21",
   "metadata": {},
   "outputs": [],
   "source": [
    "num=0\n",
    "if num>0:  # yes it is true\n",
    "    print(\"it is a positive number\")\n",
    "    print(\"okay\")"
   ]
  },
  {
   "cell_type": "markdown",
   "id": "07101dd0",
   "metadata": {},
   "source": [
    "- there are only two cases are there\n",
    "- A guy is pass in exam\n",
    "- what is the other case: Fail\n",
    "- else means if statement False\n",
    "- directly else statement will execute"
   ]
  },
  {
   "cell_type": "code",
   "execution_count": 63,
   "id": "bf608e93",
   "metadata": {
    "scrolled": true
   },
   "outputs": [
    {
     "name": "stdout",
     "output_type": "stream",
     "text": [
      "it is a positive number\n"
     ]
    }
   ],
   "source": [
    "num=8     # ist\n",
    "if num>0: # 2nd\n",
    "      print(\"it is a positive number\")  # 3rd\n",
    "else:                                   # 4th    ## don't forget to put : this on if, else\n",
    "      print(\"it is a negative number\")   # 5th"
   ]
  },
  {
   "cell_type": "code",
   "execution_count": 64,
   "id": "e42f603b",
   "metadata": {},
   "outputs": [
    {
     "ename": "SyntaxError",
     "evalue": "invalid syntax (1652887005.py, line 5)",
     "output_type": "error",
     "traceback": [
      "\u001b[1;36m  Input \u001b[1;32mIn [64]\u001b[1;36m\u001b[0m\n\u001b[1;33m    else:\u001b[0m\n\u001b[1;37m    ^\u001b[0m\n\u001b[1;31mSyntaxError\u001b[0m\u001b[1;31m:\u001b[0m invalid syntax\n"
     ]
    }
   ],
   "source": [
    "num=8\n",
    "if num>0:\n",
    "    print(\"it's a positive number\")\n",
    "    print(\"----------------------\")\n",
    "    else:             # else should be written below if same side below like In[65],In[66]\n",
    "        print(\"it's a negative number\")\n",
    "        print(\"----------------------\")"
   ]
  },
  {
   "cell_type": "code",
   "execution_count": 65,
   "id": "c96195b5",
   "metadata": {},
   "outputs": [
    {
     "name": "stdout",
     "output_type": "stream",
     "text": [
      "it's a positive number\n",
      "----------------------\n"
     ]
    }
   ],
   "source": [
    "num=8\n",
    "if num>0:\n",
    "    print(\"it's a positive number\")\n",
    "    print(\"----------------------\")\n",
    "else:    \n",
    "        print(\"it's a negative number\")\n",
    "        print(\"----------------------\")"
   ]
  },
  {
   "cell_type": "code",
   "execution_count": 72,
   "id": "bb90bd18",
   "metadata": {},
   "outputs": [
    {
     "name": "stdout",
     "output_type": "stream",
     "text": [
      "it's a positive number\n",
      "----------------------\n"
     ]
    }
   ],
   "source": [
    "num=8\n",
    "if num>0:\n",
    "          print(\"it's a positive number\")    ## all print statement of one condition should be wriiten same side vertically\n",
    "          print(\"----------------------\")\n",
    "else:    \n",
    "          print(\"it's a negative number\")\n",
    "          print(\"----------------------\")"
   ]
  },
  {
   "cell_type": "code",
   "execution_count": 75,
   "id": "021b2c87",
   "metadata": {},
   "outputs": [
    {
     "name": "stdout",
     "output_type": "stream",
     "text": [
      "it's a negative number\n",
      "----------------------\n"
     ]
    }
   ],
   "source": [
    "num=-9\n",
    "if num>0:\n",
    "    print(\"it's a positive number\")   ## all print statement of one condition should be wriiten same side vertically\n",
    "    print(\"----------------------\")\n",
    "else:    \n",
    "        print(\"it's a negative number\")\n",
    "        print(\"----------------------\")"
   ]
  },
  {
   "cell_type": "code",
   "execution_count": 76,
   "id": "13fcfdc2",
   "metadata": {},
   "outputs": [
    {
     "name": "stdout",
     "output_type": "stream",
     "text": [
      "it's a positive number\n",
      "----------------------\n",
      "~~~~~~~~~~~~~\n"
     ]
    }
   ],
   "source": [
    "num=8\n",
    "if num>0:\n",
    "    print(\"it's a positive number\")\n",
    "    print(\"----------------------\")\n",
    "    print(\"~~~~~~~~~~~~~\")\n",
    "else:    \n",
    "        print(\"it's a negative number\")\n",
    "        print(\"----------------------\")\n",
    "        print(\"~~~~~~~~~~~~~~~\")"
   ]
  },
  {
   "cell_type": "code",
   "execution_count": 77,
   "id": "fbc09b91",
   "metadata": {},
   "outputs": [
    {
     "name": "stdout",
     "output_type": "stream",
     "text": [
      "it's a negative number\n",
      "----------------------\n",
      "~~~~~~~~~~~~~~~\n"
     ]
    }
   ],
   "source": [
    "num=-9\n",
    "if num>0:\n",
    "    print(\"it's a positive number\")\n",
    "    print(\"----------------------\")\n",
    "    print(\"~~~~~~~~~~~~~\")\n",
    "else:    \n",
    "        print(\"it's a negative number\")\n",
    "        print(\"----------------------\")\n",
    "        print(\"~~~~~~~~~~~~~~~\")"
   ]
  },
  {
   "cell_type": "code",
   "execution_count": 78,
   "id": "25882d89",
   "metadata": {},
   "outputs": [
    {
     "name": "stdout",
     "output_type": "stream",
     "text": [
      "it's a negative number\n",
      "----------------------\n",
      "~~~~~~~~~~~~~~~\n"
     ]
    }
   ],
   "source": [
    "num=0\n",
    "if num>0:\n",
    "    print(\"it's a positive number\")\n",
    "    print(\"----------------------\")\n",
    "    print(\"~~~~~~~~~~~~~\")\n",
    "else:    \n",
    "        print(\"it's a negative number\")\n",
    "        print(\"----------------------\")\n",
    "        print(\"~~~~~~~~~~~~~~~\")"
   ]
  },
  {
   "cell_type": "code",
   "execution_count": 79,
   "id": "3304c96f",
   "metadata": {},
   "outputs": [
    {
     "name": "stdout",
     "output_type": "stream",
     "text": [
      "it's a negative number\n",
      "----------------------\n",
      "~~~~~~~~~~~~~~~\n"
     ]
    }
   ],
   "source": [
    "num=-0\n",
    "if num>0:\n",
    "    print(\"it's a positive number\")\n",
    "    print(\"----------------------\")\n",
    "    print(\"~~~~~~~~~~~~~\")\n",
    "else:    \n",
    "        print(\"it's a negative number\")\n",
    "        print(\"----------------------\")\n",
    "        print(\"~~~~~~~~~~~~~~~\")"
   ]
  },
  {
   "cell_type": "code",
   "execution_count": 82,
   "id": "14c4cd6f",
   "metadata": {},
   "outputs": [
    {
     "name": "stdout",
     "output_type": "stream",
     "text": [
      "it's a positive number\n",
      "----------------------\n",
      "~~~~~~~~~~~~~\n"
     ]
    }
   ],
   "source": [
    "num=-0\n",
    "if num>=0:\n",
    "    print(\"it's a positive number\")\n",
    "    print(\"----------------------\")\n",
    "    print(\"~~~~~~~~~~~~~\")\n",
    "else:    \n",
    "        print(\"it's a negative number\")\n",
    "        print(\"----------------------\")\n",
    "        print(\"~~~~~~~~~~~~~~~\")"
   ]
  },
  {
   "cell_type": "code",
   "execution_count": 81,
   "id": "b3b9bace",
   "metadata": {},
   "outputs": [
    {
     "name": "stdout",
     "output_type": "stream",
     "text": [
      "it's a positive number\n",
      "----------------------\n",
      "~~~~~~~~~~~~~\n"
     ]
    }
   ],
   "source": [
    "num=0\n",
    "if num>=0:\n",
    "    print(\"it's a positive number\")\n",
    "    print(\"----------------------\")\n",
    "    print(\"~~~~~~~~~~~~~\")\n",
    "else:    \n",
    "        print(\"it's a negative number\")\n",
    "        print(\"----------------------\")\n",
    "        print(\"~~~~~~~~~~~~~~~\")"
   ]
  },
  {
   "cell_type": "code",
   "execution_count": 86,
   "id": "e191754a",
   "metadata": {},
   "outputs": [
    {
     "name": "stdout",
     "output_type": "stream",
     "text": [
      "enter a number:2\n",
      " positive number\n"
     ]
    }
   ],
   "source": [
    "num=eval(input(\"enter a number:\"))\n",
    "if num>0:\n",
    "    print(\" positive number\")\n",
    "else:\n",
    "    print(\" negative number\")"
   ]
  },
  {
   "cell_type": "code",
   "execution_count": 87,
   "id": "9f4b815f",
   "metadata": {},
   "outputs": [
    {
     "name": "stdout",
     "output_type": "stream",
     "text": [
      "enter a number:-2\n",
      " negative number\n"
     ]
    }
   ],
   "source": [
    "num=eval(input(\"enter a number:\"))\n",
    "if num>0:\n",
    "    print(\" positive number\")\n",
    "else:\n",
    "    print(\" negative number\")"
   ]
  },
  {
   "cell_type": "code",
   "execution_count": 88,
   "id": "25aa95e2",
   "metadata": {},
   "outputs": [
    {
     "name": "stdout",
     "output_type": "stream",
     "text": [
      "enter a number:0\n",
      " negative number\n"
     ]
    }
   ],
   "source": [
    "num=eval(input(\"enter a number:\"))\n",
    "if num>0:\n",
    "    print(\" positive number\")\n",
    "else:\n",
    "    print(\" negative number\")"
   ]
  },
  {
   "cell_type": "code",
   "execution_count": 89,
   "id": "aa1d0cea",
   "metadata": {},
   "outputs": [
    {
     "name": "stdout",
     "output_type": "stream",
     "text": [
      "enter a number:-0\n",
      " negative number\n"
     ]
    }
   ],
   "source": [
    "num=eval(input(\"enter a number:\"))\n",
    "if num>0:\n",
    "    print(\" positive number\")\n",
    "else:\n",
    "    print(\" negative number\")"
   ]
  },
  {
   "cell_type": "code",
   "execution_count": null,
   "id": "dc216852",
   "metadata": {},
   "outputs": [],
   "source": []
  },
  {
   "cell_type": "code",
   "execution_count": 90,
   "id": "6eb2939a",
   "metadata": {},
   "outputs": [
    {
     "name": "stdout",
     "output_type": "stream",
     "text": [
      "enter a number:0\n",
      " positive number\n"
     ]
    }
   ],
   "source": [
    "num=eval(input(\"enter a number:\"))\n",
    "if num>=0:\n",
    "    print(\" positive number\")\n",
    "else:\n",
    "    print(\" negative number\")"
   ]
  },
  {
   "cell_type": "code",
   "execution_count": 91,
   "id": "a4190f9e",
   "metadata": {},
   "outputs": [
    {
     "ename": "SyntaxError",
     "evalue": "invalid syntax (3152753796.py, line 2)",
     "output_type": "error",
     "traceback": [
      "\u001b[1;36m  Input \u001b[1;32mIn [91]\u001b[1;36m\u001b[0m\n\u001b[1;33m    if num=>0:\u001b[0m\n\u001b[1;37m          ^\u001b[0m\n\u001b[1;31mSyntaxError\u001b[0m\u001b[1;31m:\u001b[0m invalid syntax\n"
     ]
    }
   ],
   "source": [
    "num=eval(input(\"enter a number:\"))\n",
    "if num=>0:\n",
    "    print(\" positive number\")\n",
    "else:\n",
    "    print(\" negative number\")"
   ]
  },
  {
   "cell_type": "code",
   "execution_count": null,
   "id": "3e874cc7",
   "metadata": {},
   "outputs": [],
   "source": [
    "# wap ask the user enter age\n",
    "# check whether a person eligible for vote or not?"
   ]
  },
  {
   "cell_type": "code",
   "execution_count": 92,
   "id": "eda379a8",
   "metadata": {},
   "outputs": [
    {
     "name": "stdout",
     "output_type": "stream",
     "text": [
      "enter your age:222\n",
      "the voter is eligible.\n"
     ]
    }
   ],
   "source": [
    "num=eval(input(\"enter your age:\"))\n",
    "if num>=18:\n",
    "    print(\"the voter is eligible.\")\n",
    "else:\n",
    "    print(\"the voter is not eligible\")\n",
    "    "
   ]
  },
  {
   "cell_type": "code",
   "execution_count": 93,
   "id": "30a84c79",
   "metadata": {},
   "outputs": [
    {
     "name": "stdout",
     "output_type": "stream",
     "text": [
      "enter your age:-8\n",
      "the voter is not eligible\n"
     ]
    }
   ],
   "source": [
    "num=eval(input(\"enter your age:\"))\n",
    "if num>=18:\n",
    "    print(\"the voter is eligible.\")\n",
    "else:\n",
    "    print(\"the voter is not eligible\")"
   ]
  },
  {
   "cell_type": "code",
   "execution_count": 94,
   "id": "19cb9683",
   "metadata": {},
   "outputs": [
    {
     "name": "stdout",
     "output_type": "stream",
     "text": [
      "enter your age:18\n",
      "the voter is eligible.\n"
     ]
    }
   ],
   "source": [
    "num=eval(input(\"enter your age:\"))\n",
    "if num>=18:\n",
    "    print(\"the voter is eligible.\")\n",
    "else:\n",
    "    print(\"the voter is not eligible\")"
   ]
  },
  {
   "cell_type": "code",
   "execution_count": 95,
   "id": "637e5257",
   "metadata": {},
   "outputs": [
    {
     "name": "stdout",
     "output_type": "stream",
     "text": [
      "enter your age:56\n",
      "the voter is eligible.\n",
      " the task completed\n"
     ]
    }
   ],
   "source": [
    "num=eval(input(\"enter your age:\"))\n",
    "if num>=18:\n",
    "    print(\"the voter is eligible.\")\n",
    "else:\n",
    "    print(\"the voter is not eligible\")   \n",
    "print(\" the task completed\")             # print statement is not a part of condition if or else"
   ]
  },
  {
   "cell_type": "code",
   "execution_count": 96,
   "id": "12a62c94",
   "metadata": {},
   "outputs": [
    {
     "name": "stdout",
     "output_type": "stream",
     "text": [
      "enter your age:10\n",
      "the voter is not eligible\n",
      "the task completed\n"
     ]
    }
   ],
   "source": [
    "num=eval(input(\"enter your age:\"))\n",
    "if num>=18:\n",
    "    print(\"the voter is eligible.\")\n",
    "else:\n",
    "    print(\"the voter is not eligible\")  # here print is a part of else condition\n",
    "    print(\"the task completed\")"
   ]
  },
  {
   "cell_type": "code",
   "execution_count": 97,
   "id": "01e14915",
   "metadata": {},
   "outputs": [
    {
     "name": "stdout",
     "output_type": "stream",
     "text": [
      "enter your age:25\n",
      "the voter is eligible.\n",
      "hello happy\n"
     ]
    }
   ],
   "source": [
    "num=eval(input(\"enter your age:\"))\n",
    "if num>=18:\n",
    "    print(\"the voter is eligible.\")\n",
    "else:\n",
    "    print(\"the voter is not eligible\")\n",
    "print(\"hello happy\")        # here print statement is not a part of condition"
   ]
  },
  {
   "cell_type": "code",
   "execution_count": 102,
   "id": "59e46246",
   "metadata": {},
   "outputs": [
    {
     "ename": "SyntaxError",
     "evalue": "invalid syntax (3237755382.py, line 7)",
     "output_type": "error",
     "traceback": [
      "\u001b[1;36m  Input \u001b[1;32mIn [102]\u001b[1;36m\u001b[0m\n\u001b[1;33m    else:                                # we cant write any statement other then bw condition either it should be wriiten before condition\u001b[0m\n\u001b[1;37m    ^\u001b[0m\n\u001b[1;31mSyntaxError\u001b[0m\u001b[1;31m:\u001b[0m invalid syntax\n"
     ]
    }
   ],
   "source": [
    "num=eval(input(\"enter your age:\"))\n",
    "if num>=18:\n",
    "    print(\"the voter is eligible.\")\n",
    "\n",
    "print(\"strill there is a task\")      # here print statement not a part of if condition\n",
    "\n",
    "else:                                # we cant write any statement other then bw condition either it should be wriiten before condition\n",
    "                                     # or after condition # see In[105]\n",
    "    print(\"the voter is not eligible\")"
   ]
  },
  {
   "cell_type": "code",
   "execution_count": 105,
   "id": "347e9827",
   "metadata": {},
   "outputs": [
    {
     "name": "stdout",
     "output_type": "stream",
     "text": [
      "let's check your are eligible for vote or not??\n",
      "enter your age:24\n",
      "~~~~~~~~~~~~~\n",
      "please, wait\n",
      "!!!!!!!!!!!!!\n",
      "under process\n",
      "the voter is eligible.<<<<<<<<<congrulations, you are eligible for vote<<<<<<<<<<your vote value matter a lot, so choose your candidate wisely\n",
      "thanks for using our site>>>>>have a great day\n"
     ]
    }
   ],
   "source": [
    "print(\"let's check your are eligible for vote or not??\")\n",
    "num=eval(input(\"enter your age:\"))\n",
    "print(\"~~~~~~~~~~~~~\")\n",
    "print(\"please, wait\")\n",
    "print(\"!!!!!!!!!!!!!\")\n",
    "print(\"under process\")\n",
    "\n",
    "if num>=18:\n",
    "    print(\"the voter is eligible.\",end=\"<<<<<<<<<\")\n",
    "    print(\"congrulations, you are eligible for vote\",end=\"<<<<<<<<<<\")\n",
    "    print(\"your vote value matter a lot, so choose your candidate wisely\")\n",
    "else:\n",
    "    print(\"the voter is not eligible\",end=\"<<<<<<<\")\n",
    "    print(\"sorry to say that you are not eligible\",end=\"<<<<<<<\")\n",
    "    print(\"go and watch pogo\",end=\"<<<<<<<<\")\n",
    "    print(\"don't forget to drink more complex\",end=\"<<<<<<<<\")\n",
    "    print(\"see you soon\")\n",
    "    \n",
    "print(\"thanks for using our site>>>>>have a great day\")    "
   ]
  },
  {
   "cell_type": "code",
   "execution_count": 106,
   "id": "98e04b8f",
   "metadata": {},
   "outputs": [
    {
     "name": "stdout",
     "output_type": "stream",
     "text": [
      "let's check your are eligible for vote or not??\n",
      "enter your age:11\n",
      "~~~~~~~~~~~~~\n",
      "please, wait\n",
      "!!!!!!!!!!!!!\n",
      "under process\n",
      "the voter is not eligible<<<<<<<sorry to say that you are not eligible<<<<<<<go and watch pogo<<<<<<<<don't forget to drink more complex<<<<<<<<see you soon\n",
      "thanks for using our site>>>>>have a great day\n"
     ]
    }
   ],
   "source": [
    "print(\"let's check your are eligible for vote or not??\")\n",
    "num=eval(input(\"enter your age:\"))                            # we can also use int instead of eval\n",
    "print(\"~~~~~~~~~~~~~\")\n",
    "print(\"please, wait\")\n",
    "print(\"!!!!!!!!!!!!!\")\n",
    "print(\"under process\")\n",
    "\n",
    "if num>=18:\n",
    "    print(\"the voter is eligible.\",end=\"<<<<<<<<<\")\n",
    "    print(\"congrulations, you are eligible for vote\",end=\"<<<<<<<<<<\")\n",
    "    print(\"your vote value matter a lot, so choose your candidate wisely\")\n",
    "else:\n",
    "    print(\"the voter is not eligible\",end=\"<<<<<<<\")\n",
    "    print(\"sorry to say that you are not eligible\",end=\"<<<<<<<\")\n",
    "    print(\"go and watch pogo\",end=\"<<<<<<<<\")\n",
    "    print(\"don't forget to drink more complex\",end=\"<<<<<<<<\")\n",
    "    print(\"see you soon\")\n",
    "    \n",
    "print(\"thanks for using our site>>>>>have a great day\")   "
   ]
  },
  {
   "cell_type": "code",
   "execution_count": 110,
   "id": "0b27ead3",
   "metadata": {},
   "outputs": [
    {
     "name": "stdout",
     "output_type": "stream",
     "text": [
      "let's check your are eligible for vote or not??\n",
      "enter your age:12\n",
      "~~~~~~~~~~~~~\n",
      "please, wait\n",
      "!!!!!!!!!!!!!\n",
      "under process\n",
      "the voter is not eligible<<<<<<<sorry to say that you are 6 years less than<<<<<<<go and watch pogo<<<<<<<<don't forget to drink more complex<<<<<<<<see you soon after 6 years\n",
      "thanks for using our site>>>>>have a great day\n"
     ]
    }
   ],
   "source": [
    "print(\"let's check your are eligible for vote or not??\")\n",
    "num=eval(input(\"enter your age:\"))\n",
    "print(\"~~~~~~~~~~~~~\")\n",
    "print(\"please, wait\")\n",
    "print(\"!!!!!!!!!!!!!\")\n",
    "print(\"under process\")\n",
    "\n",
    "if num>=18:\n",
    "    print(\"the voter is eligible.\",end=\"<<<<<<<<<\")\n",
    "    print(\"congrulations, you are eligible for vote\",end=\"<<<<<<<<<<\")\n",
    "    print(\"your vote value matter a lot, so choose your candidate wisely\")\n",
    "else:\n",
    "    a=18-num\n",
    "    print(\"the voter is not eligible\",end=\"<<<<<<<\")\n",
    "    print(\"sorry to say that you are {} years less than\".format(a),end=\"<<<<<<<\")\n",
    "    print(\"go and watch pogo\",end=\"<<<<<<<<\")\n",
    "    print(\"don't forget to drink more complex\",end=\"<<<<<<<<\")\n",
    "    print(\"see you soon after\",a,\"years\")\n",
    "    \n",
    "print(\"thanks for using our site>>>>>have a great day\")   "
   ]
  },
  {
   "cell_type": "code",
   "execution_count": 111,
   "id": "d5363ac7",
   "metadata": {},
   "outputs": [
    {
     "name": "stdout",
     "output_type": "stream",
     "text": [
      "let's check your are eligible for vote or not??\n",
      "enter your age:30\n",
      "~~~~~~~~~~~~~\n",
      "please, wait\n",
      "!!!!!!!!!!!!!\n",
      "under process\n",
      "the voter is eligible.<<<<<<<<<congrulations, you are eligible for vote<<<<<<<<<<you are 12 years more than criteria<<<<<<<<your vote value matter a lot, so choose your candidate wisely\n",
      "thanks for using our site>>>>>have a great day\n"
     ]
    }
   ],
   "source": [
    "print(\"let's check your are eligible for vote or not??\")\n",
    "num=eval(input(\"enter your age:\"))\n",
    "print(\"~~~~~~~~~~~~~\")\n",
    "print(\"please, wait\")\n",
    "print(\"!!!!!!!!!!!!!\")\n",
    "print(\"under process\")\n",
    "\n",
    "if num>=18:\n",
    "    a=num-18\n",
    "    print(\"the voter is eligible.\",end=\"<<<<<<<<<\")\n",
    "    print(\"congrulations, you are eligible for vote\",end=\"<<<<<<<<<<\")\n",
    "    print(\"you are {} years more than criteria\".format(a),end=\"<<<<<<<<\")\n",
    "    print(\"your vote value matter a lot, so choose your candidate wisely\")\n",
    "else:\n",
    "    a=18-num\n",
    "    print(\"the voter is not eligible\",end=\"<<<<<<<\")\n",
    "    print(\"sorry to say that you are {} years less than\".format(a),end=\"<<<<<<<\")\n",
    "    print(\"go and watch pogo\",end=\"<<<<<<<<\")\n",
    "    print(\"don't forget to drink more complex\",end=\"<<<<<<<<\")\n",
    "    print(\"see you soon after\",a,\"years\")\n",
    "    \n",
    "print(\"thanks for using our site>>>>>have a great day\")   "
   ]
  },
  {
   "cell_type": "code",
   "execution_count": 112,
   "id": "44f42d40",
   "metadata": {},
   "outputs": [
    {
     "ename": "SyntaxError",
     "evalue": "invalid syntax (4152297174.py, line 8)",
     "output_type": "error",
     "traceback": [
      "\u001b[1;36m  Input \u001b[1;32mIn [112]\u001b[1;36m\u001b[0m\n\u001b[1;33m    if num>=18,a=num-18:\u001b[0m\n\u001b[1;37m              ^\u001b[0m\n\u001b[1;31mSyntaxError\u001b[0m\u001b[1;31m:\u001b[0m invalid syntax\n"
     ]
    }
   ],
   "source": [
    "print(\"let's check your are eligible for vote or not??\")\n",
    "num=eval(input(\"enter your age:\"))\n",
    "print(\"~~~~~~~~~~~~~\")\n",
    "print(\"please, wait\")\n",
    "print(\"!!!!!!!!!!!!!\")\n",
    "print(\"under process\")\n",
    "\n",
    "if num>=18,a=num-18:  # we cant write in this way\n",
    "    print(\"the voter is eligible.\",end=\"<<<<<<<<<\")\n",
    "    print(\"congrulations, you are eligible for vote\",end=\"<<<<<<<<<<\")\n",
    "    print(\"you are {} years more than criteria\".format(a),end=\"<<<<<<<<\")\n",
    "    print(\"your vote value matter a lot, so choose your candidate wisely\")\n",
    "else:\n",
    "    a=18-num\n",
    "    print(\"the voter is not eligible\",end=\"<<<<<<<\")\n",
    "    print(\"sorry to say that you are {} years less than\".format(a),end=\"<<<<<<<\")\n",
    "    print(\"go and watch pogo\",end=\"<<<<<<<<\")\n",
    "    print(\"don't forget to drink more complex\",end=\"<<<<<<<<\")\n",
    "    print(\"see you soon after\",a,\"years\")\n",
    "    \n",
    "print(\"thanks for using our site>>>>>have a great day\")   "
   ]
  },
  {
   "cell_type": "code",
   "execution_count": 114,
   "id": "f7dbab6d",
   "metadata": {},
   "outputs": [
    {
     "name": "stdout",
     "output_type": "stream",
     "text": [
      "let's check your are eligible for vote or not??\n",
      "enter your age:22.3\n",
      "~~~~~~~~~~~~~\n",
      "please, wait\n",
      "!!!!!!!!!!!!!\n",
      "under process\n",
      "the voter is eligible.<<<<<<<<<congrulations, you are eligible for vote<<<<<<<<<<you are 4.300000000000001 years more than criteria<<<<<<<<your vote value matter a lot, so choose your candidate wisely\n",
      "thanks for using our site>>>>>have a great day\n"
     ]
    }
   ],
   "source": [
    "print(\"let's check your are eligible for vote or not??\")\n",
    "num=eval(input(\"enter your age:\"))\n",
    "print(\"~~~~~~~~~~~~~\")\n",
    "print(\"please, wait\")                   ## how can i write in a manner 5years 6months????????\n",
    "print(\"!!!!!!!!!!!!!\")\n",
    "print(\"under process\")                  ### ?`````?`````?\n",
    "\n",
    "if num>=18:\n",
    "    a=num-18\n",
    "    print(\"the voter is eligible.\",end=\"<<<<<<<<<\")\n",
    "    print(\"congrulations, you are eligible for vote\",end=\"<<<<<<<<<<\")\n",
    "    print(\"you are {} years more than criteria\".format(a),end=\"<<<<<<<<\")\n",
    "    print(\"your vote value matter a lot, so choose your candidate wisely\")\n",
    "else:\n",
    "    a=18-num\n",
    "    print(\"the voter is not eligible\",end=\"<<<<<<<\")\n",
    "    print(\"sorry to say that you are {} years less than\".format(a),end=\"<<<<<<<\")\n",
    "    print(\"go and watch pogo\",end=\"<<<<<<<<\")\n",
    "    print(\"don't forget to drink more complex\",end=\"<<<<<<<<\")\n",
    "    print(\"see you soon after\",a,\"years\")\n",
    "    \n",
    "print(\"thanks for using our site>>>>>have a great day\")   "
   ]
  },
  {
   "cell_type": "code",
   "execution_count": null,
   "id": "4cf3a06a",
   "metadata": {},
   "outputs": [],
   "source": []
  },
  {
   "cell_type": "code",
   "execution_count": null,
   "id": "ff5a1857",
   "metadata": {},
   "outputs": [],
   "source": []
  },
  {
   "cell_type": "code",
   "execution_count": null,
   "id": "94a1964f",
   "metadata": {},
   "outputs": [],
   "source": []
  },
  {
   "cell_type": "code",
   "execution_count": null,
   "id": "9f4ff159",
   "metadata": {},
   "outputs": [],
   "source": [
    "# wap to check whether a number entered by user is even or odd??"
   ]
  },
  {
   "cell_type": "code",
   "execution_count": 115,
   "id": "57dbcb8d",
   "metadata": {},
   "outputs": [
    {
     "name": "stdout",
     "output_type": "stream",
     "text": [
      "enter a number6\n",
      "number is even\n"
     ]
    }
   ],
   "source": [
    "a=eval(input(\"enter a number\"))\n",
    "if a%2==0:                       # here % is modulus used for remainder\n",
    "    print(\"number is even\")\n",
    "else:\n",
    "    print(\"number is odd\")"
   ]
  },
  {
   "cell_type": "code",
   "execution_count": 116,
   "id": "a82d3958",
   "metadata": {},
   "outputs": [
    {
     "name": "stdout",
     "output_type": "stream",
     "text": [
      "enter a number55\n",
      "number is odd\n"
     ]
    }
   ],
   "source": [
    "a=eval(input(\"enter a number\"))\n",
    "if a%2==0:                       \n",
    "    print(\"number is even\")\n",
    "else:\n",
    "    print(\"number is odd\")"
   ]
  },
  {
   "cell_type": "code",
   "execution_count": 117,
   "id": "5ef0994c",
   "metadata": {},
   "outputs": [
    {
     "name": "stdout",
     "output_type": "stream",
     "text": [
      "enter a number6.2\n",
      "number is odd\n"
     ]
    }
   ],
   "source": [
    "a=eval(input(\"enter a number\"))\n",
    "if a%2==0:                       \n",
    "    print(\"number is even\")\n",
    "else:\n",
    "    print(\"number is odd\")"
   ]
  },
  {
   "cell_type": "code",
   "execution_count": 118,
   "id": "9247ca39",
   "metadata": {},
   "outputs": [
    {
     "name": "stdout",
     "output_type": "stream",
     "text": [
      "enter a number0\n",
      "number is even\n"
     ]
    }
   ],
   "source": [
    "a=eval(input(\"enter a number\"))\n",
    "if a%2==0:                       # 0/2=0\n",
    "    print(\"number is even\")\n",
    "else:\n",
    "    print(\"number is odd\")"
   ]
  },
  {
   "cell_type": "code",
   "execution_count": 119,
   "id": "7b3ca843",
   "metadata": {},
   "outputs": [
    {
     "name": "stdout",
     "output_type": "stream",
     "text": [
      "enter a number-20\n",
      "number is even\n"
     ]
    }
   ],
   "source": [
    "a=eval(input(\"enter a number\"))\n",
    "if a%2==0:                       # how can we write that this is negative even number?????\n",
    "    print(\"number is even\")\n",
    "else:\n",
    "    print(\"number is odd\")"
   ]
  },
  {
   "cell_type": "code",
   "execution_count": 120,
   "id": "cf89193b",
   "metadata": {},
   "outputs": [
    {
     "data": {
      "text/plain": [
       "0.0"
      ]
     },
     "execution_count": 120,
     "metadata": {},
     "output_type": "execute_result"
    }
   ],
   "source": [
    "0/2"
   ]
  },
  {
   "cell_type": "code",
   "execution_count": 121,
   "id": "2ae13557",
   "metadata": {},
   "outputs": [
    {
     "ename": "ZeroDivisionError",
     "evalue": "division by zero",
     "output_type": "error",
     "traceback": [
      "\u001b[1;31m---------------------------------------------------------------------------\u001b[0m",
      "\u001b[1;31mZeroDivisionError\u001b[0m                         Traceback (most recent call last)",
      "Input \u001b[1;32mIn [121]\u001b[0m, in \u001b[0;36m<cell line: 1>\u001b[1;34m()\u001b[0m\n\u001b[1;32m----> 1\u001b[0m \u001b[38;5;241;43m2\u001b[39;49m\u001b[38;5;241;43m/\u001b[39;49m\u001b[38;5;241;43m0\u001b[39;49m\n",
      "\u001b[1;31mZeroDivisionError\u001b[0m: division by zero"
     ]
    }
   ],
   "source": [
    "2/0   # we can't defined"
   ]
  },
  {
   "cell_type": "code",
   "execution_count": 123,
   "id": "b2ed7fde",
   "metadata": {},
   "outputs": [
    {
     "ename": "ZeroDivisionError",
     "evalue": "division by zero",
     "output_type": "error",
     "traceback": [
      "\u001b[1;31m---------------------------------------------------------------------------\u001b[0m",
      "\u001b[1;31mZeroDivisionError\u001b[0m                         Traceback (most recent call last)",
      "Input \u001b[1;32mIn [123]\u001b[0m, in \u001b[0;36m<cell line: 1>\u001b[1;34m()\u001b[0m\n\u001b[1;32m----> 1\u001b[0m \u001b[38;5;241;43m0\u001b[39;49m\u001b[38;5;241;43m/\u001b[39;49m\u001b[38;5;241;43m0\u001b[39;49m\n",
      "\u001b[1;31mZeroDivisionError\u001b[0m: division by zero"
     ]
    }
   ],
   "source": [
    "0/0   # we can't defined "
   ]
  },
  {
   "cell_type": "code",
   "execution_count": null,
   "id": "32882b5d",
   "metadata": {},
   "outputs": [],
   "source": [
    "# there are more than two cases are there\n",
    "0 is neither negative nor positive\n",
    ">0\n",
    "<0"
   ]
  },
  {
   "cell_type": "code",
   "execution_count": 1,
   "id": "d72ea6a0",
   "metadata": {},
   "outputs": [
    {
     "name": "stdout",
     "output_type": "stream",
     "text": [
      " it is a positive\n"
     ]
    }
   ],
   "source": [
    "num=9\n",
    "if num==0:     # why == not = , bcoz we are asking not tells\n",
    "    print(\"it is a zero\")\n",
    "elif num>0:\n",
    "    print(\" it is a positive\")\n",
    "else:\n",
    "    print(\"it is a negative\")"
   ]
  },
  {
   "cell_type": "code",
   "execution_count": 3,
   "id": "007016f7",
   "metadata": {},
   "outputs": [
    {
     "name": "stdout",
     "output_type": "stream",
     "text": [
      "enter a number-5\n",
      "it is a negative\n"
     ]
    }
   ],
   "source": [
    "num=eval(input(\"enter a number\"))\n",
    "if num==0:     \n",
    "    print(\"it is a zero\")\n",
    "elif num>0:\n",
    "    print(\" it is a positive\")\n",
    "else:\n",
    "    print(\"it is a negative\")"
   ]
  },
  {
   "cell_type": "code",
   "execution_count": 4,
   "id": "33d1cc7b",
   "metadata": {},
   "outputs": [
    {
     "name": "stdout",
     "output_type": "stream",
     "text": [
      "enter a number33333333333333333333333333333333333333\n",
      " it is a positive\n"
     ]
    }
   ],
   "source": [
    "num=eval(input(\"enter a number\"))\n",
    "if num==0: \n",
    "    print(\"it is a zero\")\n",
    "elif num>0:\n",
    "    print(\" it is a positive\")\n",
    "else:\n",
    "    print(\"it is a negative\")"
   ]
  },
  {
   "cell_type": "code",
   "execution_count": null,
   "id": "fb84844d",
   "metadata": {},
   "outputs": [],
   "source": []
  },
  {
   "cell_type": "code",
   "execution_count": null,
   "id": "d60e9bb7",
   "metadata": {},
   "outputs": [],
   "source": [
    "# wap display the bus fare based on age\n",
    "# if age is 0 to 3: print there is no bus fare\n",
    "# if age is 3 to 10: print bus fare is 20\n",
    "# if age is 10 to 20: print bus fare is 25\n",
    "# else print bus fare is 30"
   ]
  },
  {
   "cell_type": "code",
   "execution_count": 13,
   "id": "fac89966",
   "metadata": {},
   "outputs": [
    {
     "name": "stdout",
     "output_type": "stream",
     "text": [
      "enter the age50\n",
      "bus fare is 30\n"
     ]
    }
   ],
   "source": [
    "age=eval(input(\"enter the age\"))\n",
    "if age<3:  # 0 to 3\n",
    "    print('there is no bus fare')\n",
    "elif age<10: # 3 to 10\n",
    "    print(\"bus fare is 20\")\n",
    "elif age<20: # 10 to 20\n",
    "    print(\"bus fare is 25\")\n",
    "else:   # 20 or more             # # # # we do not need to write condition for else in elif case , age>20: is wrong\n",
    "    print(\"bus fare is 30\")"
   ]
  },
  {
   "cell_type": "code",
   "execution_count": 16,
   "id": "f86a8932",
   "metadata": {},
   "outputs": [
    {
     "name": "stdout",
     "output_type": "stream",
     "text": [
      "enter the age9.9\n",
      "bus fare is 20\n"
     ]
    }
   ],
   "source": [
    "age=eval(input(\"enter the age\"))\n",
    "if age<3:  # 0 to 3\n",
    "    print('there is no bus fare')\n",
    "elif age<10: # 3 to 10\n",
    "    print(\"bus fare is 20\")\n",
    "elif age<20: # 10 to 20\n",
    "    print(\"bus fare is 25\")\n",
    "else:                \n",
    "    print(\"bus fare is 30\")"
   ]
  },
  {
   "cell_type": "code",
   "execution_count": 19,
   "id": "def783c7",
   "metadata": {},
   "outputs": [
    {
     "name": "stdout",
     "output_type": "stream",
     "text": [
      "enter the age1\n",
      "there is no bus fare\n"
     ]
    }
   ],
   "source": [
    "age=eval(input(\"enter the age\"))\n",
    "if age>0 and age<3:  # 0 to 3\n",
    "    print('there is no bus fare')\n",
    "elif age>=3 and age<10: # 3 to 10\n",
    "    print(\"bus fare is 20\")\n",
    "elif age>=10 and age<20: # 10 to 20\n",
    "    print(\"bus fare is 25\")\n",
    "else:              \n",
    "    print(\"bus fare is 30\")"
   ]
  },
  {
   "cell_type": "code",
   "execution_count": null,
   "id": "6604a2a9",
   "metadata": {},
   "outputs": [],
   "source": [
    "if (age>0 and age<3):  is equal to  if age>0 and age<3:\n",
    "        # both are same"
   ]
  },
  {
   "cell_type": "code",
   "execution_count": 22,
   "id": "5bc63fa0",
   "metadata": {},
   "outputs": [
    {
     "name": "stdout",
     "output_type": "stream",
     "text": [
      "enter the age3\n",
      "there is no bus fare\n"
     ]
    }
   ],
   "source": [
    "age=eval(input(\"enter the age\"))\n",
    "if age<=3:  # 0 to 3\n",
    "    print('there is no bus fare')\n",
    "elif age<=10: # 3 to 10\n",
    "    print(\"bus fare is 20\")\n",
    "elif age<=20: # 11 to 20\n",
    "    print(\"bus fare is 25\")\n",
    "else:     #>=20  \n",
    "    print(\"bus fare is 30\")"
   ]
  },
  {
   "cell_type": "code",
   "execution_count": 23,
   "id": "8fa9395a",
   "metadata": {},
   "outputs": [
    {
     "name": "stdout",
     "output_type": "stream",
     "text": [
      "enter the age3.000001\n",
      "bus fare is 20\n"
     ]
    }
   ],
   "source": [
    "age=eval(input(\"enter the age\"))\n",
    "if age<=3:  # 0 to 3\n",
    "    print('there is no bus fare')\n",
    "elif age<=10: # 3 to 10\n",
    "    print(\"bus fare is 20\")\n",
    "elif age<=20: # 11 to 20\n",
    "    print(\"bus fare is 25\")\n",
    "else:     #>=20  \n",
    "    print(\"bus fare is 30\")"
   ]
  },
  {
   "cell_type": "code",
   "execution_count": null,
   "id": "31933125",
   "metadata": {},
   "outputs": [],
   "source": []
  },
  {
   "cell_type": "code",
   "execution_count": null,
   "id": "0e15a21e",
   "metadata": {},
   "outputs": [],
   "source": [
    "# wap\n",
    "# if grade greater than 90: print grade A\n",
    "# if grade between 80 to 90: print grade B\n",
    "# if grade between 70 to 80: print grade C\n",
    "# if grade between 60 to 70: print grade D\n",
    "# else fail"
   ]
  },
  {
   "cell_type": "code",
   "execution_count": 24,
   "id": "b57eb755",
   "metadata": {},
   "outputs": [
    {
     "name": "stdout",
     "output_type": "stream",
     "text": [
      " enter the marks=90\n",
      "grade B\n"
     ]
    }
   ],
   "source": [
    "grade=eval(input(\" enter the marks=\"))\n",
    "if grade>90:   # greater than 90\n",
    "    print(\"grade A\")\n",
    "elif grade>80:   # 80 to 90\n",
    "    print(\"grade B\")\n",
    "elif grade>70:   # 70 to 80\n",
    "    print(\"grade C\")\n",
    "elif grade>60:    # 60 to 70\n",
    "    print(\"grade D\")\n",
    "else:\n",
    "    print(\"Fail\")"
   ]
  },
  {
   "cell_type": "code",
   "execution_count": 26,
   "id": "489647df",
   "metadata": {},
   "outputs": [
    {
     "name": "stdout",
     "output_type": "stream",
     "text": [
      " enter the marks=89.9\n",
      "grade B\n"
     ]
    }
   ],
   "source": [
    "grade=eval(input(\" enter the marks=\"))\n",
    "if grade>=90:   # greater than or equal to 90\n",
    "    print(\"grade A\")\n",
    "elif grade>=80:   # 80 to 89.9\n",
    "    print(\"grade B\")\n",
    "elif grade>=70:   # 70 to 79.9\n",
    "    print(\"grade C\")\n",
    "elif grade>=60:    # 60 to 69.9\n",
    "    print(\"grade D\")\n",
    "else:\n",
    "    print(\"Fail\")"
   ]
  },
  {
   "cell_type": "code",
   "execution_count": 27,
   "id": "43850edb",
   "metadata": {},
   "outputs": [
    {
     "name": "stdout",
     "output_type": "stream",
     "text": [
      " enter the marks=75\n",
      "grade C\n"
     ]
    }
   ],
   "source": [
    "grade=eval(input(\" enter the marks=\"))\n",
    "if grade>90:   # greater than 90\n",
    "    print(\"grade A\")                           # 75>= 90 false\n",
    "elif grade>80:   # 80 to 90                    # 75>=80 false\n",
    "    print(\"grade B\")                           # 75>=70 true\n",
    "elif grade>70:   # 70 to 80\n",
    "    print(\"grade C\")\n",
    "elif grade>60:    # 60 to 70\n",
    "    print(\"grade D\")\n",
    "else:\n",
    "    print(\"Fail\")"
   ]
  },
  {
   "cell_type": "code",
   "execution_count": null,
   "id": "c69cfa8d",
   "metadata": {},
   "outputs": [],
   "source": []
  },
  {
   "cell_type": "code",
   "execution_count": null,
   "id": "1058fc24",
   "metadata": {},
   "outputs": [],
   "source": [
    "# a store charges 120rs per item if you buy less than 10 items\n",
    "# if you buy between 10 and 99, the cost per item is 10rs\n",
    "# if you buy 100 or more,the cost per item is 7rs\n",
    "# wap ask the user enter the number of items that they are buying and total cost of items\n",
    "# the total items are {} and cost is {}\n",
    "\n",
    "# 12*8=96rs\n",
    "# 12*10=120rs\n",
    "# 100*7=700r"
   ]
  },
  {
   "cell_type": "code",
   "execution_count": 4,
   "id": "75c9425e",
   "metadata": {
    "scrolled": true
   },
   "outputs": [
    {
     "name": "stdout",
     "output_type": "stream",
     "text": [
      "enter the number of items you have bought=50\n"
     ]
    },
    {
     "ename": "NameError",
     "evalue": "name 'cost_per_item' is not defined",
     "output_type": "error",
     "traceback": [
      "\u001b[1;31m---------------------------------------------------------------------------\u001b[0m",
      "\u001b[1;31mNameError\u001b[0m                                 Traceback (most recent call last)",
      "Input \u001b[1;32mIn [4]\u001b[0m, in \u001b[0;36m<cell line: 2>\u001b[1;34m()\u001b[0m\n\u001b[0;32m      8\u001b[0m     \u001b[38;5;28mprint\u001b[39m(\u001b[38;5;124m\"\u001b[39m\u001b[38;5;124mthe cost per item is\u001b[39m\u001b[38;5;124m\"\u001b[39m,total_costs,\u001b[38;5;124m\"\u001b[39m\u001b[38;5;124m.\u001b[39m\u001b[38;5;124m\"\u001b[39m,sep\u001b[38;5;241m=\u001b[39m\u001b[38;5;124m\"\u001b[39m\u001b[38;5;124m\"\u001b[39m)\n\u001b[0;32m      9\u001b[0m \u001b[38;5;28;01melif\u001b[39;00m(x\u001b[38;5;241m>\u001b[39m\u001b[38;5;241m=\u001b[39m\u001b[38;5;241m10\u001b[39m):  \u001b[38;5;66;03m# jab else likhna ho elif k case mi tab uski baad condition nhi likhne\u001b[39;00m\n\u001b[1;32m---> 10\u001b[0m     total_costs\u001b[38;5;241m=\u001b[39mx\u001b[38;5;241m*\u001b[39m\u001b[43mcost_per_item\u001b[49m\n\u001b[0;32m     11\u001b[0m     \u001b[38;5;28mprint\u001b[39m(\u001b[38;5;124m\"\u001b[39m\u001b[38;5;124mthe cost per item is\u001b[39m\u001b[38;5;124m\"\u001b[39m,total_costs,\u001b[38;5;124m\"\u001b[39m\u001b[38;5;124m.\u001b[39m\u001b[38;5;124m\"\u001b[39m,sep\u001b[38;5;241m=\u001b[39m\u001b[38;5;124m\"\u001b[39m\u001b[38;5;124m\"\u001b[39m)\n",
      "\u001b[1;31mNameError\u001b[0m: name 'cost_per_item' is not defined"
     ]
    }
   ],
   "source": [
    "x=eval(input(\"enter the number of items you have bought=\"))\n",
    "if x>=100:\n",
    "    cost_per_item=eval(input(\"enter the cost\"))\n",
    "    total_costs=x*cost_per_item\n",
    "    print(\"the cost per item is\",total_costs,\".\",sep=\"\")\n",
    "elif(x>=80):\n",
    "    total_costs=x*cost_per_item\n",
    "    print(\"the cost per item is\",total_costs,\".\",sep=\"\")\n",
    "elif(x>=10):  # jab else likhna ho elif k case mi tab uski baad condition nhi likhne\n",
    "    total_costs=x*cost_per_item\n",
    "    print(\"the cost per item is\",total_costs,\".\",sep=\"\")"
   ]
  },
  {
   "cell_type": "code",
   "execution_count": 6,
   "id": "f4a1391e",
   "metadata": {},
   "outputs": [
    {
     "name": "stdout",
     "output_type": "stream",
     "text": [
      "enter the number of items you have bought=500\n",
      "enter the cost2\n",
      "the cost per item is1000.\n"
     ]
    }
   ],
   "source": [
    "x=eval(input(\"enter the number of items you have bought=\"))\n",
    "if x>=100:\n",
    "    cost_per_item=eval(input(\"enter the cost\"))\n",
    "    total_costs=x*cost_per_item\n",
    "    print(\"the cost per item is\",total_costs,\".\",sep=\"\")\n",
    "elif(x>=80):\n",
    "    cost_per_item=eval(input(\"enter the cost\"))\n",
    "    total_costs=x*cost_per_item\n",
    "    print(\"the cost per item is\",total_costs,\".\",sep=\"\")\n",
    "elif(x>=10):# jab else likhna ho elif k case mi tab uski baad condition nhi likhne\n",
    "    cost_per_item=eval(input(\"enter the cost\"))\n",
    "    total_costs=x*cost_per_item\n",
    "    print(\"the cost per item is\",total_costs,\".\",sep=\"\")"
   ]
  },
  {
   "cell_type": "code",
   "execution_count": null,
   "id": "68197b4a",
   "metadata": {},
   "outputs": [],
   "source": []
  }
 ],
 "metadata": {
  "kernelspec": {
   "display_name": "Python 3 (ipykernel)",
   "language": "python",
   "name": "python3"
  },
  "language_info": {
   "codemirror_mode": {
    "name": "ipython",
    "version": 3
   },
   "file_extension": ".py",
   "mimetype": "text/x-python",
   "name": "python",
   "nbconvert_exporter": "python",
   "pygments_lexer": "ipython3",
   "version": "3.9.12"
  }
 },
 "nbformat": 4,
 "nbformat_minor": 5
}
