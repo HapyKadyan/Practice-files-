{
 "cells": [
  {
   "cell_type": "code",
   "execution_count": 3,
   "id": "25b75b8b",
   "metadata": {},
   "outputs": [
    {
     "name": "stdout",
     "output_type": "stream",
     "text": [
      "Collecting speedtest-cli\n",
      "  Downloading speedtest_cli-2.1.3-py2.py3-none-any.whl (23 kB)\n",
      "Installing collected packages: speedtest-cli\n",
      "Successfully installed speedtest-cli-2.1.3\n"
     ]
    }
   ],
   "source": [
    "!pip install speedtest-cli"
   ]
  },
  {
   "cell_type": "code",
   "execution_count": 1,
   "id": "a7f7b27f",
   "metadata": {},
   "outputs": [],
   "source": [
    "from tkinter import * # importing all function \n",
    "# so we don't need tkinter again and agian "
   ]
  },
  {
   "cell_type": "code",
   "execution_count": 2,
   "id": "f2a55f20",
   "metadata": {},
   "outputs": [],
   "source": [
    "import speedtest"
   ]
  },
  {
   "cell_type": "code",
   "execution_count": 3,
   "id": "1ca9f59f",
   "metadata": {},
   "outputs": [],
   "source": [
    "sp=Tk() # storing tk class in a object sp \n",
    "# ### code written here \n",
    "##### \n",
    "sp.mainloop()   # this will give window  \n"
   ]
  },
  {
   "cell_type": "code",
   "execution_count": 4,
   "id": "05c50735",
   "metadata": {},
   "outputs": [],
   "source": [
    "sp=Tk()\n",
    "sp.title(\"Internet Speed Test\")\n",
    "sp.geometry(\"500x600\")\n",
    "sp.config(bg=\"DarkGreen\")\n",
    "def speedcheck():\n",
    "    spp=speedtest.Speedtest() # module.function name\n",
    "    spp.get_servers()\n",
    "    down=str(round(spp.download()/(10**6),3)) + \"Mbps\"\n",
    "    up=str(round(spp.upload()/(10**6),3)) + \"Mbps\"\n",
    "    lab_down.config(text=down)\n",
    "    lab_up.config(text=up)\n",
    "\n",
    "\n",
    "\n",
    "\n",
    "# creating a label \n",
    "# Label(then enter tkinter class object ,then text then text font , font size , background,font color)\n",
    "# then we have to place our label somewhere x,y starting from left top side \n",
    "lab=Label(sp,text=\"Internet speed test\",font=(\"Times New Roman\",30,'bold'),bg=\"white\",fg=\"grey\")\n",
    "lab.place(x=55,y=40,height=50,width=380)\n",
    "\n",
    "lab=Label(sp,text=\"Downloading speed\",font=(\"Times New Roman\",30,'bold'),bg=\"white\",fg=\"Blue\")\n",
    "lab.place(x=55,y=130,height=50,width=380)\n",
    "\n",
    "\n",
    "lab_down=Label(sp,text=\"00\",font=(\"Times New Roman\",30,'bold'),bg=\"white\",fg=\"blue\")\n",
    "lab_down.place(x=55,y=200,height=50,width=380)\n",
    "\n",
    "lab=Label(sp,text=\"Upploading speed\",font=(\"Times New Roman\",30,'bold'),bg=\"white\",fg=\"purple\")\n",
    "lab.place(x=55,y=290,height=50,width=380)\n",
    "\n",
    "lab_up=Label(sp,text=\"00\",font=(\"Times New Roman\",30,'bold'),bg=\"white\",fg=\"purple\")\n",
    "lab_up.place(x=55,y=360,height=50,width=380)\n",
    "\n",
    "button=Button(sp,text=\"Check speed\",font=(\"Times New Roman\",30,'bold'),bg=\"white\",fg=\"red\",\n",
    "             relief=RAISED,command=speedcheck)\n",
    "# relif=RAISED ....3d button....show when click \n",
    "# command will call the function \n",
    "button.place(x=60,y=460,height=50,width=380)\n",
    "\n",
    "\n",
    "\n",
    "\n",
    "sp.mainloop()"
   ]
  },
  {
   "cell_type": "code",
   "execution_count": null,
   "id": "75cdbe55",
   "metadata": {},
   "outputs": [],
   "source": []
  },
  {
   "cell_type": "code",
   "execution_count": null,
   "id": "b36d80d4",
   "metadata": {},
   "outputs": [],
   "source": []
  }
 ],
 "metadata": {
  "kernelspec": {
   "display_name": "Python 3 (ipykernel)",
   "language": "python",
   "name": "python3"
  },
  "language_info": {
   "codemirror_mode": {
    "name": "ipython",
    "version": 3
   },
   "file_extension": ".py",
   "mimetype": "text/x-python",
   "name": "python",
   "nbconvert_exporter": "python",
   "pygments_lexer": "ipython3",
   "version": "3.9.12"
  }
 },
 "nbformat": 4,
 "nbformat_minor": 5
}
