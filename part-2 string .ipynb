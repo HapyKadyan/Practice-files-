{
 "cells": [
  {
   "cell_type": "markdown",
   "id": "0587be55",
   "metadata": {},
   "source": [
    "# String"
   ]
  },
  {
   "cell_type": "markdown",
   "id": "e3556b48",
   "metadata": {},
   "source": [
    "part-2\n",
    "\n",
    "1). string\n",
    "\n",
    "2). list\n",
    "\n",
    "3). tuples\n",
    "\n",
    "4). dictionart\n",
    "\n",
    "5). file handling"
   ]
  },
  {
   "cell_type": "code",
   "execution_count": 1,
   "id": "218b6a05",
   "metadata": {},
   "outputs": [
    {
     "data": {
      "text/plain": [
       "'python'"
      ]
     },
     "execution_count": 1,
     "metadata": {},
     "output_type": "execute_result"
    }
   ],
   "source": [
    "s=\"python\"\n",
    "s"
   ]
  },
  {
   "cell_type": "code",
   "execution_count": 2,
   "id": "3c5270eb",
   "metadata": {},
   "outputs": [
    {
     "data": {
      "text/plain": [
       "'science'"
      ]
     },
     "execution_count": 2,
     "metadata": {},
     "output_type": "execute_result"
    }
   ],
   "source": [
    "z=\"science\"\n",
    "z"
   ]
  },
  {
   "cell_type": "code",
   "execution_count": 3,
   "id": "03a0733c",
   "metadata": {},
   "outputs": [
    {
     "data": {
      "text/plain": [
       "str"
      ]
     },
     "execution_count": 3,
     "metadata": {},
     "output_type": "execute_result"
    }
   ],
   "source": [
    "type(z)"
   ]
  },
  {
   "cell_type": "code",
   "execution_count": 4,
   "id": "eb5dcaea",
   "metadata": {},
   "outputs": [
    {
     "ename": "SyntaxError",
     "evalue": "EOL while scanning string literal (65098538.py, line 1)",
     "output_type": "error",
     "traceback": [
      "\u001b[1;36m  Input \u001b[1;32mIn [4]\u001b[1;36m\u001b[0m\n\u001b[1;33m    str1=\"hello\u001b[0m\n\u001b[1;37m               ^\u001b[0m\n\u001b[1;31mSyntaxError\u001b[0m\u001b[1;31m:\u001b[0m EOL while scanning string literal\n"
     ]
    }
   ],
   "source": [
    "str1=\"hello\n",
    "         omakr\"  # omakr string is in black colour ## why it is not printing"
   ]
  },
  {
   "cell_type": "code",
   "execution_count": null,
   "id": "b32ebcb3",
   "metadata": {},
   "outputs": [],
   "source": [
    "# to print this use triple quotes \n",
    "# triple quotes used to print next line string"
   ]
  },
  {
   "cell_type": "code",
   "execution_count": 5,
   "id": "c5d23e5d",
   "metadata": {},
   "outputs": [],
   "source": [
    "str1=\"\"\"hello\n",
    "          omkar\"\"\""
   ]
  },
  {
   "cell_type": "code",
   "execution_count": 6,
   "id": "27cc6b31",
   "metadata": {},
   "outputs": [
    {
     "data": {
      "text/plain": [
       "'hello\\n          omkar'"
      ]
     },
     "execution_count": 6,
     "metadata": {},
     "output_type": "execute_result"
    }
   ],
   "source": [
    "str1"
   ]
  },
  {
   "cell_type": "code",
   "execution_count": 7,
   "id": "26b48e38",
   "metadata": {},
   "outputs": [
    {
     "name": "stdout",
     "output_type": "stream",
     "text": [
      "hello\n",
      "          omkar\n"
     ]
    }
   ],
   "source": [
    "print(str1)"
   ]
  },
  {
   "cell_type": "code",
   "execution_count": 8,
   "id": "8a4eeac6",
   "metadata": {},
   "outputs": [],
   "source": [
    "str2=\"\"\"hello\n",
    "          omakr\n",
    "          \n",
    "          nallagoni\"\"\""
   ]
  },
  {
   "cell_type": "code",
   "execution_count": 9,
   "id": "3ff6f525",
   "metadata": {},
   "outputs": [
    {
     "data": {
      "text/plain": [
       "'hello\\n          omakr\\n          \\n          nallagoni'"
      ]
     },
     "execution_count": 9,
     "metadata": {},
     "output_type": "execute_result"
    }
   ],
   "source": [
    "str2"
   ]
  },
  {
   "cell_type": "code",
   "execution_count": 10,
   "id": "d3c157f3",
   "metadata": {},
   "outputs": [
    {
     "name": "stdout",
     "output_type": "stream",
     "text": [
      "hello\n",
      "          omakr\n",
      "          \n",
      "          nallagoni\n"
     ]
    }
   ],
   "source": [
    "print(str2)"
   ]
  },
  {
   "cell_type": "code",
   "execution_count": 11,
   "id": "78127d1f",
   "metadata": {},
   "outputs": [],
   "source": [
    "str2=\"\"\"1\n",
    "\n",
    "\n",
    "333\n",
    "\n",
    "\n",
    "\n",
    "\n",
    "\n",
    "5\n",
    "\n",
    "\n",
    "43\n",
    "\"\"\""
   ]
  },
  {
   "cell_type": "code",
   "execution_count": 12,
   "id": "832cea1c",
   "metadata": {},
   "outputs": [
    {
     "data": {
      "text/plain": [
       "'1\\n\\n\\n333\\n\\n\\n\\n\\n\\n5\\n\\n\\n43\\n'"
      ]
     },
     "execution_count": 12,
     "metadata": {},
     "output_type": "execute_result"
    }
   ],
   "source": [
    "str2"
   ]
  },
  {
   "cell_type": "code",
   "execution_count": 13,
   "id": "af6dffbe",
   "metadata": {},
   "outputs": [
    {
     "name": "stdout",
     "output_type": "stream",
     "text": [
      "1\n",
      "\n",
      "\n",
      "333\n",
      "\n",
      "\n",
      "\n",
      "\n",
      "\n",
      "5\n",
      "\n",
      "\n",
      "43\n",
      "\n"
     ]
    }
   ],
   "source": [
    "print(str2)"
   ]
  },
  {
   "cell_type": "code",
   "execution_count": null,
   "id": "58abf49d",
   "metadata": {},
   "outputs": [],
   "source": [
    "# to print quotes in output\n",
    "# if we are using single quotes then use double quotes on that string that we want to print\n",
    "# if we are using double quotes then use single quotes on that srting that we want to print\n",
    "# every should be in red colour"
   ]
  },
  {
   "cell_type": "code",
   "execution_count": 17,
   "id": "5661c75f",
   "metadata": {},
   "outputs": [
    {
     "ename": "SyntaxError",
     "evalue": "invalid syntax (1541109860.py, line 1)",
     "output_type": "error",
     "traceback": [
      "\u001b[1;36m  Input \u001b[1;32mIn [17]\u001b[1;36m\u001b[0m\n\u001b[1;33m    str1='Nallagoni omkar is a 'data scientist''\u001b[0m\n\u001b[1;37m                                ^\u001b[0m\n\u001b[1;31mSyntaxError\u001b[0m\u001b[1;31m:\u001b[0m invalid syntax\n"
     ]
    }
   ],
   "source": [
    "str1='Nallagoni omkar is a 'data scientist'' # use double quotes on data scientist "
   ]
  },
  {
   "cell_type": "code",
   "execution_count": 19,
   "id": "bc03d17d",
   "metadata": {},
   "outputs": [],
   "source": [
    "str1='Nallagoni omkar is a \"data scientist\"'"
   ]
  },
  {
   "cell_type": "code",
   "execution_count": 20,
   "id": "9475ad6c",
   "metadata": {},
   "outputs": [
    {
     "data": {
      "text/plain": [
       "'Nallagoni omkar is a \"data scientist\"'"
      ]
     },
     "execution_count": 20,
     "metadata": {},
     "output_type": "execute_result"
    }
   ],
   "source": [
    "str1"
   ]
  },
  {
   "cell_type": "code",
   "execution_count": 21,
   "id": "96941442",
   "metadata": {},
   "outputs": [],
   "source": [
    "str1=\"Nallagoni omkar is a 'data scientist'\""
   ]
  },
  {
   "cell_type": "code",
   "execution_count": 22,
   "id": "15848597",
   "metadata": {},
   "outputs": [
    {
     "data": {
      "text/plain": [
       "\"Nallagoni omkar is a 'data scientist'\""
      ]
     },
     "execution_count": 22,
     "metadata": {},
     "output_type": "execute_result"
    }
   ],
   "source": [
    "str1"
   ]
  },
  {
   "cell_type": "markdown",
   "id": "f12def62",
   "metadata": {},
   "source": [
    "## len concept"
   ]
  },
  {
   "cell_type": "markdown",
   "id": "907721e3",
   "metadata": {},
   "source": [
    "- len is used to calculate the length of a string\n",
    "- it count inside the quotes and count everything inside it"
   ]
  },
  {
   "cell_type": "code",
   "execution_count": 23,
   "id": "e5d2403a",
   "metadata": {},
   "outputs": [],
   "source": [
    "string1=\"python\""
   ]
  },
  {
   "cell_type": "code",
   "execution_count": 24,
   "id": "6efa002c",
   "metadata": {},
   "outputs": [
    {
     "data": {
      "text/plain": [
       "6"
      ]
     },
     "execution_count": 24,
     "metadata": {},
     "output_type": "execute_result"
    }
   ],
   "source": [
    "len(string1)"
   ]
  },
  {
   "cell_type": "code",
   "execution_count": 25,
   "id": "1aedbc66",
   "metadata": {},
   "outputs": [],
   "source": [
    "string2=\"it gives the length of the string\""
   ]
  },
  {
   "cell_type": "code",
   "execution_count": 26,
   "id": "4c4361b7",
   "metadata": {},
   "outputs": [
    {
     "data": {
      "text/plain": [
       "33"
      ]
     },
     "execution_count": 26,
     "metadata": {},
     "output_type": "execute_result"
    }
   ],
   "source": [
    "len(string2)"
   ]
  },
  {
   "cell_type": "code",
   "execution_count": 27,
   "id": "e603c2e0",
   "metadata": {},
   "outputs": [],
   "source": [
    "string3=\"nallagoni omkar\""
   ]
  },
  {
   "cell_type": "code",
   "execution_count": 28,
   "id": "8009454f",
   "metadata": {},
   "outputs": [
    {
     "data": {
      "text/plain": [
       "15"
      ]
     },
     "execution_count": 28,
     "metadata": {},
     "output_type": "execute_result"
    }
   ],
   "source": [
    "len(string3)"
   ]
  },
  {
   "cell_type": "code",
   "execution_count": null,
   "id": "1a3029ed",
   "metadata": {},
   "outputs": [],
   "source": [
    "##  n a l l a g o n i     o   m   k   a  r\n",
    "##  1 2 3 4 5 6 7 8 9 10  11 12  13  14  15   # 10 is here for space"
   ]
  },
  {
   "cell_type": "code",
   "execution_count": 30,
   "id": "c765d569",
   "metadata": {},
   "outputs": [],
   "source": [
    "string=\"\""
   ]
  },
  {
   "cell_type": "code",
   "execution_count": 31,
   "id": "747259ee",
   "metadata": {},
   "outputs": [
    {
     "data": {
      "text/plain": [
       "0"
      ]
     },
     "execution_count": 31,
     "metadata": {},
     "output_type": "execute_result"
    }
   ],
   "source": [
    "len(string)"
   ]
  },
  {
   "cell_type": "code",
   "execution_count": 32,
   "id": "250744ae",
   "metadata": {},
   "outputs": [],
   "source": [
    "string='              '"
   ]
  },
  {
   "cell_type": "code",
   "execution_count": 33,
   "id": "45a48e8b",
   "metadata": {},
   "outputs": [
    {
     "data": {
      "text/plain": [
       "14"
      ]
     },
     "execution_count": 33,
     "metadata": {},
     "output_type": "execute_result"
    }
   ],
   "source": [
    "len(string)"
   ]
  },
  {
   "cell_type": "code",
   "execution_count": 34,
   "id": "77eaeacb",
   "metadata": {},
   "outputs": [],
   "source": [
    "string=\"h,a,'s'\""
   ]
  },
  {
   "cell_type": "code",
   "execution_count": 35,
   "id": "4462d7b5",
   "metadata": {},
   "outputs": [
    {
     "data": {
      "text/plain": [
       "7"
      ]
     },
     "execution_count": 35,
     "metadata": {},
     "output_type": "execute_result"
    }
   ],
   "source": [
    "len(string)"
   ]
  },
  {
   "cell_type": "code",
   "execution_count": 36,
   "id": "f42ab518",
   "metadata": {},
   "outputs": [],
   "source": [
    "string=\"==+\""
   ]
  },
  {
   "cell_type": "code",
   "execution_count": 37,
   "id": "4656c389",
   "metadata": {},
   "outputs": [
    {
     "data": {
      "text/plain": [
       "3"
      ]
     },
     "execution_count": 37,
     "metadata": {},
     "output_type": "execute_result"
    }
   ],
   "source": [
    "len(string)"
   ]
  },
  {
   "cell_type": "code",
   "execution_count": 38,
   "id": "aeee9cfa",
   "metadata": {},
   "outputs": [],
   "source": [
    "string=\"_3\""
   ]
  },
  {
   "cell_type": "code",
   "execution_count": 39,
   "id": "87f8e36f",
   "metadata": {},
   "outputs": [
    {
     "data": {
      "text/plain": [
       "2"
      ]
     },
     "execution_count": 39,
     "metadata": {},
     "output_type": "execute_result"
    }
   ],
   "source": [
    "len(string)"
   ]
  },
  {
   "cell_type": "code",
   "execution_count": 40,
   "id": "9858e640",
   "metadata": {},
   "outputs": [
    {
     "ename": "TypeError",
     "evalue": "len() takes no keyword arguments",
     "output_type": "error",
     "traceback": [
      "\u001b[1;31m---------------------------------------------------------------------------\u001b[0m",
      "\u001b[1;31mTypeError\u001b[0m                                 Traceback (most recent call last)",
      "Input \u001b[1;32mIn [40]\u001b[0m, in \u001b[0;36m<cell line: 1>\u001b[1;34m()\u001b[0m\n\u001b[1;32m----> 1\u001b[0m \u001b[38;5;28;43mlen\u001b[39;49m\u001b[43m(\u001b[49m\u001b[43mstring\u001b[49m\u001b[38;5;241;43m=\u001b[39;49m\u001b[38;5;124;43m\"\u001b[39;49m\u001b[38;5;124;43mhai\u001b[39;49m\u001b[38;5;124;43m\"\u001b[39;49m\u001b[43m)\u001b[49m\n",
      "\u001b[1;31mTypeError\u001b[0m: len() takes no keyword arguments"
     ]
    }
   ],
   "source": [
    "len(string=\"hai\")"
   ]
  },
  {
   "cell_type": "code",
   "execution_count": 41,
   "id": "9ec27c76",
   "metadata": {},
   "outputs": [],
   "source": [
    "a=\"length\""
   ]
  },
  {
   "cell_type": "code",
   "execution_count": 42,
   "id": "93b40f2c",
   "metadata": {},
   "outputs": [],
   "source": [
    "b=a"
   ]
  },
  {
   "cell_type": "code",
   "execution_count": 43,
   "id": "53b80197",
   "metadata": {},
   "outputs": [
    {
     "data": {
      "text/plain": [
       "6"
      ]
     },
     "execution_count": 43,
     "metadata": {},
     "output_type": "execute_result"
    }
   ],
   "source": [
    "len(b)"
   ]
  },
  {
   "cell_type": "code",
   "execution_count": 44,
   "id": "3f29ec4b",
   "metadata": {},
   "outputs": [
    {
     "name": "stdout",
     "output_type": "stream",
     "text": [
      "3\n"
     ]
    },
    {
     "data": {
      "text/plain": [
       "'3'"
      ]
     },
     "execution_count": 44,
     "metadata": {},
     "output_type": "execute_result"
    }
   ],
   "source": [
    "input()   # string type "
   ]
  },
  {
   "cell_type": "code",
   "execution_count": 45,
   "id": "2b550d29",
   "metadata": {},
   "outputs": [
    {
     "name": "stdout",
     "output_type": "stream",
     "text": [
      "3\n"
     ]
    },
    {
     "data": {
      "text/plain": [
       "3"
      ]
     },
     "execution_count": 45,
     "metadata": {},
     "output_type": "execute_result"
    }
   ],
   "source": [
    "eval(input())  # numeric type"
   ]
  },
  {
   "cell_type": "markdown",
   "id": "a347693b",
   "metadata": {},
   "source": [
    "## indexing concept"
   ]
  },
  {
   "cell_type": "markdown",
   "id": "ab1aa764",
   "metadata": {},
   "source": [
    "- symbol s[0] square bracket after variable\n",
    "- i can call a letter by using index\n",
    "- in python index start with zero\n",
    "- in python index from last start with one"
   ]
  },
  {
   "cell_type": "code",
   "execution_count": 47,
   "id": "b53a3c2a",
   "metadata": {},
   "outputs": [],
   "source": [
    "s=\"python\""
   ]
  },
  {
   "cell_type": "code",
   "execution_count": 48,
   "id": "25a1fdbd",
   "metadata": {},
   "outputs": [
    {
     "data": {
      "text/plain": [
       "'p'"
      ]
     },
     "execution_count": 48,
     "metadata": {},
     "output_type": "execute_result"
    }
   ],
   "source": [
    "s[0]"
   ]
  },
  {
   "cell_type": "code",
   "execution_count": 49,
   "id": "91060a8e",
   "metadata": {},
   "outputs": [
    {
     "data": {
      "text/plain": [
       "'o'"
      ]
     },
     "execution_count": 49,
     "metadata": {},
     "output_type": "execute_result"
    }
   ],
   "source": [
    "s[4]"
   ]
  },
  {
   "cell_type": "code",
   "execution_count": null,
   "id": "eded8e71",
   "metadata": {},
   "outputs": [],
   "source": [
    "# p y t h o n\n",
    "# 0 1 2 3 4 5"
   ]
  },
  {
   "cell_type": "code",
   "execution_count": 50,
   "id": "96adb33b",
   "metadata": {},
   "outputs": [],
   "source": [
    "name=\"krishna\"\n"
   ]
  },
  {
   "cell_type": "code",
   "execution_count": 51,
   "id": "0e538096",
   "metadata": {},
   "outputs": [
    {
     "data": {
      "text/plain": [
       "'i'"
      ]
     },
     "execution_count": 51,
     "metadata": {},
     "output_type": "execute_result"
    }
   ],
   "source": [
    "name[2]"
   ]
  },
  {
   "cell_type": "code",
   "execution_count": 52,
   "id": "df82a2ed",
   "metadata": {},
   "outputs": [
    {
     "data": {
      "text/plain": [
       "7"
      ]
     },
     "execution_count": 52,
     "metadata": {},
     "output_type": "execute_result"
    }
   ],
   "source": [
    "len(name)"
   ]
  },
  {
   "cell_type": "code",
   "execution_count": 53,
   "id": "d9ea25f1",
   "metadata": {},
   "outputs": [
    {
     "data": {
      "text/plain": [
       "'a'"
      ]
     },
     "execution_count": 53,
     "metadata": {},
     "output_type": "execute_result"
    }
   ],
   "source": [
    "name[6]"
   ]
  },
  {
   "cell_type": "code",
   "execution_count": 54,
   "id": "3ba458d4",
   "metadata": {},
   "outputs": [
    {
     "ename": "IndexError",
     "evalue": "string index out of range",
     "output_type": "error",
     "traceback": [
      "\u001b[1;31m---------------------------------------------------------------------------\u001b[0m",
      "\u001b[1;31mIndexError\u001b[0m                                Traceback (most recent call last)",
      "Input \u001b[1;32mIn [54]\u001b[0m, in \u001b[0;36m<cell line: 1>\u001b[1;34m()\u001b[0m\n\u001b[1;32m----> 1\u001b[0m \u001b[43mname\u001b[49m\u001b[43m[\u001b[49m\u001b[38;5;241;43m7\u001b[39;49m\u001b[43m]\u001b[49m\n",
      "\u001b[1;31mIndexError\u001b[0m: string index out of range"
     ]
    }
   ],
   "source": [
    "name[7]"
   ]
  },
  {
   "cell_type": "code",
   "execution_count": 55,
   "id": "6840d03a",
   "metadata": {},
   "outputs": [
    {
     "data": {
      "text/plain": [
       "'a'"
      ]
     },
     "execution_count": 55,
     "metadata": {},
     "output_type": "execute_result"
    }
   ],
   "source": [
    "name[-1]"
   ]
  },
  {
   "cell_type": "code",
   "execution_count": 56,
   "id": "e733a3de",
   "metadata": {},
   "outputs": [
    {
     "data": {
      "text/plain": [
       "'r'"
      ]
     },
     "execution_count": 56,
     "metadata": {},
     "output_type": "execute_result"
    }
   ],
   "source": [
    "name[-6]"
   ]
  },
  {
   "cell_type": "code",
   "execution_count": 57,
   "id": "1e69513f",
   "metadata": {},
   "outputs": [
    {
     "data": {
      "text/plain": [
       "'k'"
      ]
     },
     "execution_count": 57,
     "metadata": {},
     "output_type": "execute_result"
    }
   ],
   "source": [
    "name[-7]"
   ]
  },
  {
   "cell_type": "code",
   "execution_count": null,
   "id": "ad163de3",
   "metadata": {},
   "outputs": [],
   "source": [
    "# -6 -5 -4 -3 -2 -1\n",
    "# p   y  t  h  o  n\n",
    "# 0   1  2  3  4  5"
   ]
  },
  {
   "cell_type": "code",
   "execution_count": null,
   "id": "238f2434",
   "metadata": {},
   "outputs": [],
   "source": [
    "string=\"python\"\n",
    "# print each and every letter using for loop\n",
    "# your loop run 6 times\n",
    "# intialisation i=0\n",
    "# end=6-1=5"
   ]
  },
  {
   "cell_type": "code",
   "execution_count": 59,
   "id": "ba2cd645",
   "metadata": {},
   "outputs": [
    {
     "name": "stdout",
     "output_type": "stream",
     "text": [
      "p\n",
      "y\n",
      "t\n",
      "h\n",
      "o\n",
      "n\n"
     ]
    }
   ],
   "source": [
    "string=\"python\"\n",
    "for i in range(0,6):\n",
    "    print(string[i])"
   ]
  },
  {
   "cell_type": "code",
   "execution_count": 60,
   "id": "19ce68e1",
   "metadata": {},
   "outputs": [
    {
     "name": "stdout",
     "output_type": "stream",
     "text": [
      "p y t h o n "
     ]
    }
   ],
   "source": [
    "string=\"python\"\n",
    "for i in range(0,6):\n",
    "    print(string[i],end=\" \")"
   ]
  },
  {
   "cell_type": "code",
   "execution_count": 62,
   "id": "a876ac6b",
   "metadata": {},
   "outputs": [
    {
     "name": "stdout",
     "output_type": "stream",
     "text": [
      "p index is 0\n",
      "y index is 1\n",
      "t index is 2\n",
      "h index is 3\n",
      "o index is 4\n",
      "n index is 5\n"
     ]
    }
   ],
   "source": [
    "\n",
    "for i in range(0,6):\n",
    "    print(\"{} index is {}\".format(string[i],i))"
   ]
  },
  {
   "cell_type": "code",
   "execution_count": 63,
   "id": "0690b3a7",
   "metadata": {},
   "outputs": [
    {
     "name": "stdout",
     "output_type": "stream",
     "text": [
      "p index is 0\n",
      "y index is 1\n",
      "t index is 2\n",
      "h index is 3\n",
      "o index is 4\n",
      "n index is 5\n"
     ]
    }
   ],
   "source": [
    "for i in range(0,len(string)):\n",
    "    print(\"{} index is {}\".format(string[i],i))"
   ]
  },
  {
   "cell_type": "code",
   "execution_count": 64,
   "id": "8e2b012c",
   "metadata": {},
   "outputs": [
    {
     "name": "stdout",
     "output_type": "stream",
     "text": [
      "p index is 0\n",
      "y index is 1\n",
      "t index is 2\n",
      "h index is 3\n",
      "o index is 4\n",
      "n index is 5\n"
     ]
    }
   ],
   "source": [
    "num=len(string)\n",
    "for i in range(0,num):\n",
    "    print(\"{} index is {}\".format(string[i],i))"
   ]
  },
  {
   "cell_type": "code",
   "execution_count": 65,
   "id": "dd2540a7",
   "metadata": {},
   "outputs": [
    {
     "name": "stdout",
     "output_type": "stream",
     "text": [
      "hai\n",
      "h index is 0\n",
      "a index is 1\n",
      "i index is 2\n"
     ]
    }
   ],
   "source": [
    "string=input()\n",
    "num=len(string)\n",
    "for i in range(0,num):\n",
    "    print(\"{} index is {}\".format(string[i],i))"
   ]
  },
  {
   "cell_type": "code",
   "execution_count": 66,
   "id": "18d937df",
   "metadata": {},
   "outputs": [
    {
     "name": "stdout",
     "output_type": "stream",
     "text": [
      "does it matter \n",
      "d index is 0\n",
      "o index is 1\n",
      "e index is 2\n",
      "s index is 3\n",
      "  index is 4\n",
      "i index is 5\n",
      "t index is 6\n",
      "  index is 7\n",
      "m index is 8\n",
      "a index is 9\n",
      "t index is 10\n",
      "t index is 11\n",
      "e index is 12\n",
      "r index is 13\n",
      "  index is 14\n"
     ]
    }
   ],
   "source": [
    "string=input()\n",
    "num=len(string)\n",
    "for i in range(0,num):\n",
    "    print(\"{} index is {}\".format(string[i],i))"
   ]
  },
  {
   "cell_type": "code",
   "execution_count": 67,
   "id": "d5e67955",
   "metadata": {},
   "outputs": [
    {
     "name": "stdout",
     "output_type": "stream",
     "text": [
      "d   d   d -\n",
      "d index is 0\n",
      "  index is 1\n",
      "  index is 2\n",
      "  index is 3\n",
      "d index is 4\n",
      "  index is 5\n",
      "  index is 6\n",
      "  index is 7\n",
      "d index is 8\n",
      "  index is 9\n",
      "- index is 10\n"
     ]
    }
   ],
   "source": [
    "string=input()\n",
    "num=len(string)\n",
    "for i in range(0,num):\n",
    "    print(\"{} index is {}\".format(string[i],i))"
   ]
  },
  {
   "cell_type": "code",
   "execution_count": 68,
   "id": "2a594759",
   "metadata": {},
   "outputs": [
    {
     "name": "stdout",
     "output_type": "stream",
     "text": [
      "ddlj\n",
      "d index is 0\n",
      "d index is 1\n",
      "l index is 2\n",
      "j index is 3\n"
     ]
    }
   ],
   "source": [
    "try:     \n",
    "    string=input()\n",
    "    num=len(string)\n",
    "    for i in range(0,num):\n",
    "        print(\"{} index is {}\".format(string[i],i))\n",
    "except Exception as e:\n",
    "    print(e)"
   ]
  },
  {
   "cell_type": "code",
   "execution_count": null,
   "id": "26d217c5",
   "metadata": {},
   "outputs": [],
   "source": [
    "try:     \n",
    "    string=input()\n",
    "    num=len(string)   # try except method does work sometimes\n",
    "    for i in range(0,num1):\n",
    "        print(\"{} index is {}\".format(string[i],i))\n",
    "except Exception as e:\n",
    "    print(e)"
   ]
  },
  {
   "cell_type": "code",
   "execution_count": 79,
   "id": "4b15af5a",
   "metadata": {},
   "outputs": [],
   "source": [
    "def string():\n",
    "    try:\n",
    "        string=input()\n",
    "        num=len(string)\n",
    "        for i in range(0,num):\n",
    "            print(\"{} index of {}\".format(string[i],i))\n",
    "    except Exception as e:\n",
    "        print(\"error occured=\",e)"
   ]
  },
  {
   "cell_type": "code",
   "execution_count": 81,
   "id": "4bfc2941",
   "metadata": {},
   "outputs": [
    {
     "name": "stdout",
     "output_type": "stream",
     "text": [
      "hey siri,make a call\n",
      "h index of 0\n",
      "e index of 1\n",
      "y index of 2\n",
      "  index of 3\n",
      "s index of 4\n",
      "i index of 5\n",
      "r index of 6\n",
      "i index of 7\n",
      ", index of 8\n",
      "m index of 9\n",
      "a index of 10\n",
      "k index of 11\n",
      "e index of 12\n",
      "  index of 13\n",
      "a index of 14\n",
      "  index of 15\n",
      "c index of 16\n",
      "a index of 17\n",
      "l index of 18\n",
      "l index of 19\n"
     ]
    }
   ],
   "source": [
    "string()"
   ]
  },
  {
   "cell_type": "code",
   "execution_count": 82,
   "id": "34f15f6e",
   "metadata": {},
   "outputs": [],
   "source": [
    "def string(string):\n",
    "    try:\n",
    "        num=len(string)\n",
    "        for i in range(0,num):\n",
    "            print(\"{} index is {}\".format(string[i],i))\n",
    "    except Exception as e:\n",
    "        print(\"error occured=\",e)"
   ]
  },
  {
   "cell_type": "code",
   "execution_count": 84,
   "id": "4c2a6156",
   "metadata": {},
   "outputs": [
    {
     "name": "stdout",
     "output_type": "stream",
     "text": [
      "h index is 0\n",
      "e index is 1\n",
      "y index is 2\n",
      "  index is 3\n",
      "s index is 4\n",
      "i index is 5\n",
      "r index is 6\n",
      "i index is 7\n"
     ]
    }
   ],
   "source": [
    "string(\"hey siri\")"
   ]
  },
  {
   "cell_type": "code",
   "execution_count": null,
   "id": "430b199a",
   "metadata": {},
   "outputs": [],
   "source": [
    "# print in way \n",
    "# pos index of i is {} and neg index of i is {}\n",
    "# how can we print \n"
   ]
  },
  {
   "cell_type": "code",
   "execution_count": null,
   "id": "82ba1ed1",
   "metadata": {},
   "outputs": [],
   "source": [
    "# first print numbers\n",
    "# the same range should provide pos and neg\n"
   ]
  },
  {
   "cell_type": "code",
   "execution_count": 2,
   "id": "933a223d",
   "metadata": {},
   "outputs": [
    {
     "name": "stdout",
     "output_type": "stream",
     "text": [
      "0\n",
      "-1\n",
      "-2\n",
      "-3\n",
      "-4\n",
      "-5\n"
     ]
    }
   ],
   "source": [
    "string=\"python\"\n",
    "for i in range(0,len(string)):\n",
    "    print(-i)"
   ]
  },
  {
   "cell_type": "code",
   "execution_count": 1,
   "id": "8d13543c",
   "metadata": {},
   "outputs": [
    {
     "name": "stdout",
     "output_type": "stream",
     "text": [
      "0 -6\n",
      "1 -5\n",
      "2 -4\n",
      "3 -3\n",
      "4 -2\n",
      "5 -1\n"
     ]
    }
   ],
   "source": [
    "for i in range(0,6):\n",
    "    print(i,i-6)"
   ]
  },
  {
   "cell_type": "code",
   "execution_count": 3,
   "id": "fcb6570a",
   "metadata": {},
   "outputs": [
    {
     "name": "stdout",
     "output_type": "stream",
     "text": [
      "0 -6 -10 4\n",
      "1 -5 -9 5\n",
      "2 -4 -8 6\n",
      "3 -3 -7 7\n",
      "4 -2 -6 8\n",
      "5 -1 -5 9\n"
     ]
    }
   ],
   "source": [
    "for i in range(0,6):\n",
    "    print(i,i-6,i-10,i+4)"
   ]
  },
  {
   "cell_type": "code",
   "execution_count": 11,
   "id": "ca098cd4",
   "metadata": {},
   "outputs": [
    {
     "name": "stdout",
     "output_type": "stream",
     "text": [
      "p pos index is 0 and p neg index is -6\n",
      "y pos index is 1 and y neg index is -5\n",
      "t pos index is 2 and t neg index is -4\n",
      "h pos index is 3 and h neg index is -3\n",
      "o pos index is 4 and o neg index is -2\n",
      "n pos index is 5 and n neg index is -1\n"
     ]
    }
   ],
   "source": [
    "string=\"python\"\n",
    "for i in range(0,len(string)):\n",
    "    print(\"{} pos index is {} and {} neg index is {}\".format(string[i],i,string[i],i-6))"
   ]
  },
  {
   "cell_type": "code",
   "execution_count": 14,
   "id": "a3274840",
   "metadata": {},
   "outputs": [
    {
     "name": "stdout",
     "output_type": "stream",
     "text": [
      "paisa bazar\n",
      "p pos index is 0 and p neg index is -11\n",
      "a pos index is 1 and a neg index is -10\n",
      "i pos index is 2 and i neg index is -9\n",
      "s pos index is 3 and s neg index is -8\n",
      "a pos index is 4 and a neg index is -7\n",
      "  pos index is 5 and   neg index is -6\n",
      "b pos index is 6 and b neg index is -5\n",
      "a pos index is 7 and a neg index is -4\n",
      "z pos index is 8 and z neg index is -3\n",
      "a pos index is 9 and a neg index is -2\n",
      "r pos index is 10 and r neg index is -1\n"
     ]
    }
   ],
   "source": [
    "string=input()\n",
    "for i in range(0,len(string)):\n",
    "    print(\"{} pos index is {} and {} neg index is {}\".format(string[i],i,string[i],i-len(string)))"
   ]
  },
  {
   "cell_type": "code",
   "execution_count": 18,
   "id": "d83bda0c",
   "metadata": {},
   "outputs": [
    {
     "name": "stdout",
     "output_type": "stream",
     "text": [
      "-6\n",
      "-5\n",
      "-4\n",
      "-3\n",
      "-2\n",
      "-1\n"
     ]
    }
   ],
   "source": [
    "s=\"python\"\n",
    "for i in range(-6,0):\n",
    "    print(i)"
   ]
  },
  {
   "cell_type": "code",
   "execution_count": 24,
   "id": "1d256fec",
   "metadata": {},
   "outputs": [
    {
     "name": "stdout",
     "output_type": "stream",
     "text": [
      "p -6\n",
      "y -5\n",
      "t -4\n",
      "h -3\n",
      "o -2\n",
      "n -1\n"
     ]
    }
   ],
   "source": [
    "s=\"python\"\n",
    "for i in range(-6,0):\n",
    "    print(s[i],i)"
   ]
  },
  {
   "cell_type": "code",
   "execution_count": 34,
   "id": "6052aa1c",
   "metadata": {},
   "outputs": [
    {
     "name": "stdout",
     "output_type": "stream",
     "text": [
      "h\n",
      "e\n",
      "y\n",
      ",\n",
      " \n",
      "s\n",
      "i\n",
      "r\n",
      "i\n"
     ]
    }
   ],
   "source": [
    "s=\"hey, siri\"\n",
    "for i in range(0,len(s)):\n",
    "    print(s[i])"
   ]
  },
  {
   "cell_type": "code",
   "execution_count": 36,
   "id": "e984f067",
   "metadata": {},
   "outputs": [
    {
     "name": "stdout",
     "output_type": "stream",
     "text": [
      "h -9\n",
      "e -8\n",
      "y -7\n",
      ", -6\n",
      "  -5\n",
      "s -4\n",
      "i -3\n",
      "r -2\n",
      "i -1\n"
     ]
    }
   ],
   "source": [
    "s=\"hey, siri\"\n",
    "for i in range(-len(s),0):\n",
    "    print(s[i],i)"
   ]
  },
  {
   "cell_type": "code",
   "execution_count": 37,
   "id": "dc299459",
   "metadata": {},
   "outputs": [
    {
     "name": "stdout",
     "output_type": "stream",
     "text": [
      "-9 -9\n",
      "-8 -9\n",
      "-7 -9\n",
      "-6 -9\n",
      "-5 -9\n",
      "-4 -9\n",
      "-3 -9\n",
      "-2 -9\n",
      "-1 -9\n"
     ]
    }
   ],
   "source": [
    "s=\"hey, siri\"\n",
    "for i in range(-len(s),0):\n",
    "    print(i,-len(s))"
   ]
  },
  {
   "cell_type": "code",
   "execution_count": 38,
   "id": "d62dc2be",
   "metadata": {},
   "outputs": [
    {
     "name": "stdout",
     "output_type": "stream",
     "text": [
      "-9 0\n",
      "-8 -1\n",
      "-7 -2\n",
      "-6 -3\n",
      "-5 -4\n",
      "-4 -5\n",
      "-3 -6\n",
      "-2 -7\n",
      "-1 -8\n"
     ]
    }
   ],
   "source": [
    "s=\"hey, siri\"\n",
    "for i in range(-len(s),0):\n",
    "    print(i,-len(s)-i)"
   ]
  },
  {
   "cell_type": "code",
   "execution_count": 39,
   "id": "51b48730",
   "metadata": {},
   "outputs": [
    {
     "name": "stdout",
     "output_type": "stream",
     "text": [
      "-9 -18\n",
      "-8 -17\n",
      "-7 -16\n",
      "-6 -15\n",
      "-5 -14\n",
      "-4 -13\n",
      "-3 -12\n",
      "-2 -11\n",
      "-1 -10\n"
     ]
    }
   ],
   "source": [
    "s=\"hey, siri\"\n",
    "for i in range(-len(s),0):\n",
    "    print(i,-len(s)+i)"
   ]
  },
  {
   "cell_type": "code",
   "execution_count": 41,
   "id": "abdd01d0",
   "metadata": {},
   "outputs": [
    {
     "name": "stdout",
     "output_type": "stream",
     "text": [
      "-9 0\n",
      "-8 1\n",
      "-7 2\n",
      "-6 3\n",
      "-5 4\n",
      "-4 5\n",
      "-3 6\n",
      "-2 7\n",
      "-1 8\n"
     ]
    }
   ],
   "source": [
    "s=\"hey, siri\"\n",
    "for i in range(-len(s),0):\n",
    "    print(i,i-(-len(s)))"
   ]
  },
  {
   "cell_type": "code",
   "execution_count": 42,
   "id": "183dda75",
   "metadata": {},
   "outputs": [
    {
     "name": "stdout",
     "output_type": "stream",
     "text": [
      "neg index of h is -9 and pos index of h is 0\n",
      "neg index of e is -8 and pos index of e is 1\n",
      "neg index of y is -7 and pos index of y is 2\n",
      "neg index of , is -6 and pos index of , is 3\n",
      "neg index of   is -5 and pos index of   is 4\n",
      "neg index of s is -4 and pos index of s is 5\n",
      "neg index of i is -3 and pos index of i is 6\n",
      "neg index of r is -2 and pos index of r is 7\n",
      "neg index of i is -1 and pos index of i is 8\n"
     ]
    }
   ],
   "source": [
    "s=\"hey, siri\"\n",
    "for i in range(-len(s),0):\n",
    "    print(\"neg index of {} is {} and pos index of {} is {}\".format(s[i],i,s[i],i-(-len(s))))"
   ]
  },
  {
   "cell_type": "code",
   "execution_count": 43,
   "id": "31287e9e",
   "metadata": {},
   "outputs": [
    {
     "name": "stdout",
     "output_type": "stream",
     "text": [
      "neg index of h is -9 and pos index of h is 0\n",
      "neg index of e is -8 and pos index of e is 1\n",
      "neg index of y is -7 and pos index of y is 2\n",
      "neg index of , is -6 and pos index of , is 3\n",
      "neg index of   is -5 and pos index of   is 4\n",
      "neg index of s is -4 and pos index of s is 5\n",
      "neg index of i is -3 and pos index of i is 6\n",
      "neg index of r is -2 and pos index of r is 7\n",
      "neg index of i is -1 and pos index of i is 8\n"
     ]
    }
   ],
   "source": [
    "s=\"hey, siri\"\n",
    "for i in range(-len(s),0):\n",
    "    print(\"neg index of {} is {} and pos index of {} is {}\".format(s[i],i,s[i],i+len(s)))"
   ]
  },
  {
   "cell_type": "code",
   "execution_count": 44,
   "id": "6939ac7c",
   "metadata": {},
   "outputs": [
    {
     "ename": "IndexError",
     "evalue": "string index out of range",
     "output_type": "error",
     "traceback": [
      "\u001b[1;31m---------------------------------------------------------------------------\u001b[0m",
      "\u001b[1;31mIndexError\u001b[0m                                Traceback (most recent call last)",
      "Input \u001b[1;32mIn [44]\u001b[0m, in \u001b[0;36m<cell line: 2>\u001b[1;34m()\u001b[0m\n\u001b[0;32m      1\u001b[0m s\u001b[38;5;241m=\u001b[39m\u001b[38;5;124m\"\u001b[39m\u001b[38;5;124mhey, siri\u001b[39m\u001b[38;5;124m\"\u001b[39m\n\u001b[0;32m      2\u001b[0m \u001b[38;5;28;01mfor\u001b[39;00m i \u001b[38;5;129;01min\u001b[39;00m \u001b[38;5;28mrange\u001b[39m(\u001b[38;5;241m-\u001b[39m\u001b[38;5;28mlen\u001b[39m(s),\u001b[38;5;241m0\u001b[39m):\n\u001b[1;32m----> 3\u001b[0m     \u001b[38;5;28mprint\u001b[39m(\u001b[38;5;124m\"\u001b[39m\u001b[38;5;124mneg index of \u001b[39m\u001b[38;5;132;01m{}\u001b[39;00m\u001b[38;5;124m is \u001b[39m\u001b[38;5;132;01m{}\u001b[39;00m\u001b[38;5;124m and pos index of \u001b[39m\u001b[38;5;132;01m{}\u001b[39;00m\u001b[38;5;124m is \u001b[39m\u001b[38;5;132;01m{}\u001b[39;00m\u001b[38;5;124m\"\u001b[39m\u001b[38;5;241m.\u001b[39mformat(\u001b[43ms\u001b[49m\u001b[43m[\u001b[49m\u001b[38;5;241;43m-\u001b[39;49m\u001b[43mi\u001b[49m\u001b[43m]\u001b[49m,i,s[\u001b[38;5;241m-\u001b[39mi],i\u001b[38;5;241m-\u001b[39m(\u001b[38;5;241m-\u001b[39m\u001b[38;5;28mlen\u001b[39m(s))))\n",
      "\u001b[1;31mIndexError\u001b[0m: string index out of range"
     ]
    }
   ],
   "source": [
    "s=\"hey, siri\"\n",
    "for i in range(-len(s),0):\n",
    "    print(\"neg index of {} is {} and pos index of {} is {}\".format(s[-i],i,s[-i],i-(-len(s))))"
   ]
  },
  {
   "cell_type": "code",
   "execution_count": 45,
   "id": "d6d4d63e",
   "metadata": {},
   "outputs": [
    {
     "data": {
      "text/plain": [
       "'n'"
      ]
     },
     "execution_count": 45,
     "metadata": {},
     "output_type": "execute_result"
    }
   ],
   "source": [
    "s=\"python\"\n",
    "s[-1]"
   ]
  },
  {
   "cell_type": "code",
   "execution_count": 46,
   "id": "e068b7eb",
   "metadata": {},
   "outputs": [
    {
     "name": "stdout",
     "output_type": "stream",
     "text": [
      "p\n",
      "n\n",
      "o\n",
      "h\n",
      "t\n",
      "y\n"
     ]
    }
   ],
   "source": [
    "s=\"python\"\n",
    "for i in range(0,len(s)):\n",
    "    print(s[-i])"
   ]
  },
  {
   "cell_type": "code",
   "execution_count": 47,
   "id": "7c742808",
   "metadata": {},
   "outputs": [
    {
     "name": "stdout",
     "output_type": "stream",
     "text": [
      "neg index of p is -6 and pos index of p is 0\n",
      "neg index of y is -5 and pos index of y is 1\n",
      "neg index of t is -4 and pos index of t is 2\n",
      "neg index of h is -3 and pos index of h is 3\n",
      "neg index of o is -2 and pos index of o is 4\n",
      "neg index of n is -1 and pos index of n is 5\n"
     ]
    }
   ],
   "source": [
    "string=\"python\"\n",
    "num=-len(string)\n",
    "for i in range(num,0):\n",
    "    print(\"neg index of {} is {} and pos index of {} is {}\".format(s[i],i,s[i],i-num))"
   ]
  },
  {
   "cell_type": "code",
   "execution_count": 51,
   "id": "d526c87d",
   "metadata": {},
   "outputs": [
    {
     "name": "stdout",
     "output_type": "stream",
     "text": [
      "neg index of p is -6 and pos index of p is -6\n",
      "neg index of y is -5 and pos index of n is -5\n",
      "neg index of t is -4 and pos index of o is -4\n",
      "neg index of h is -3 and pos index of h is -3\n",
      "neg index of o is -2 and pos index of t is -2\n",
      "neg index of n is -1 and pos index of y is -1\n"
     ]
    }
   ],
   "source": [
    "string=\"python\"\n",
    "num=-len(string)\n",
    "for i in range(num,0):\n",
    "    print(\"neg index of {} is {} and pos index of {} is {}\".format(s[i],i,s[-i+num],i))"
   ]
  },
  {
   "cell_type": "markdown",
   "id": "2c5b7bab",
   "metadata": {},
   "source": [
    "## membership operator"
   ]
  },
  {
   "cell_type": "code",
   "execution_count": null,
   "id": "31cf281b",
   "metadata": {},
   "outputs": [],
   "source": [
    "# it take direct letter"
   ]
  },
  {
   "cell_type": "code",
   "execution_count": 52,
   "id": "34e63d1c",
   "metadata": {},
   "outputs": [],
   "source": [
    "s='PYTHON'"
   ]
  },
  {
   "cell_type": "code",
   "execution_count": 53,
   "id": "0a1dfac9",
   "metadata": {},
   "outputs": [
    {
     "data": {
      "text/plain": [
       "True"
      ]
     },
     "execution_count": 53,
     "metadata": {},
     "output_type": "execute_result"
    }
   ],
   "source": [
    "\"P\"in s"
   ]
  },
  {
   "cell_type": "code",
   "execution_count": 54,
   "id": "a6f6dd42",
   "metadata": {},
   "outputs": [
    {
     "data": {
      "text/plain": [
       "False"
      ]
     },
     "execution_count": 54,
     "metadata": {},
     "output_type": "execute_result"
    }
   ],
   "source": [
    "\"p\" in s"
   ]
  },
  {
   "cell_type": "code",
   "execution_count": null,
   "id": "54987be3",
   "metadata": {},
   "outputs": [],
   "source": [
    "\"P\" in s ...........>>> true\n",
    "\"Y\" in s ...........>>> true\n",
    "'H' in s ...........>>> false"
   ]
  },
  {
   "cell_type": "code",
   "execution_count": 55,
   "id": "a8b2a8b1",
   "metadata": {},
   "outputs": [
    {
     "name": "stdout",
     "output_type": "stream",
     "text": [
      "P\n",
      "Y\n",
      "T\n",
      "H\n",
      "O\n",
      "N\n"
     ]
    }
   ],
   "source": [
    "for i in s:\n",
    "    print(i)"
   ]
  },
  {
   "cell_type": "code",
   "execution_count": null,
   "id": "98aa2db6",
   "metadata": {},
   "outputs": [],
   "source": [
    "# range ...............> number..........>index\n",
    "# in .................> direct"
   ]
  },
  {
   "cell_type": "code",
   "execution_count": 56,
   "id": "61fe7586",
   "metadata": {},
   "outputs": [
    {
     "name": "stdout",
     "output_type": "stream",
     "text": [
      "1\n",
      "2\n",
      "3\n"
     ]
    }
   ],
   "source": [
    "a=\"123\"\n",
    "for i in a:\n",
    "    print(i)"
   ]
  },
  {
   "cell_type": "code",
   "execution_count": 57,
   "id": "04a519bf",
   "metadata": {},
   "outputs": [
    {
     "name": "stdout",
     "output_type": "stream",
     "text": [
      "P Y T H O N "
     ]
    }
   ],
   "source": [
    "for i in range(0,len(s)):# numeric\n",
    "         print(s[i],end=\" \")  # index "
   ]
  },
  {
   "cell_type": "code",
   "execution_count": 60,
   "id": "0097d087",
   "metadata": {},
   "outputs": [],
   "source": [
    "string=\"apple\"\n",
    "# print each letter using while loop\n",
    "# for i in string:\n",
    "#       print(i)\n",
    "# for i in range(0,len(s)):\n",
    "#      print(s[i])\n"
   ]
  },
  {
   "cell_type": "code",
   "execution_count": 62,
   "id": "32469bb5",
   "metadata": {},
   "outputs": [
    {
     "name": "stdout",
     "output_type": "stream",
     "text": [
      "a\n",
      "p\n",
      "p\n",
      "l\n",
      "e\n"
     ]
    }
   ],
   "source": [
    "i=0\n",
    "while i<len(string):   # here i<6:\n",
    "    print(string[i])   # s[0,1,2,3,4,5]\n",
    "    i=i+1"
   ]
  },
  {
   "cell_type": "code",
   "execution_count": null,
   "id": "9fb48485",
   "metadata": {},
   "outputs": [],
   "source": [
    "# enter a string from keyboard\n",
    "# and print the vowels\n",
    "# my_string=\"hai how are you\""
   ]
  },
  {
   "cell_type": "code",
   "execution_count": null,
   "id": "a11fe901",
   "metadata": {},
   "outputs": [],
   "source": [
    "# step-1 take a string from keyboard........>input\n",
    "# step-2 iterate over a string(take each letter)......>for\n",
    "# step-3 verify it is vowel or not ...............> if\n",
    "# step-4 print that vowel ..............>print"
   ]
  },
  {
   "cell_type": "code",
   "execution_count": 63,
   "id": "99ddda15",
   "metadata": {},
   "outputs": [
    {
     "name": "stdout",
     "output_type": "stream",
     "text": [
      "hai how are you\n",
      "a\n",
      "i\n",
      "o\n",
      "a\n",
      "e\n",
      "o\n",
      "u\n"
     ]
    }
   ],
   "source": [
    "my_string=input()\n",
    "for i in my_string:\n",
    "    if i in \"aeiou\":\n",
    "        print(i)"
   ]
  },
  {
   "cell_type": "code",
   "execution_count": null,
   "id": "b9724a00",
   "metadata": {},
   "outputs": [],
   "source": [
    "# i want to append/concatention string 1 into string 2\n",
    "# string 1 will go into string2"
   ]
  },
  {
   "cell_type": "code",
   "execution_count": 68,
   "id": "a23181e6",
   "metadata": {},
   "outputs": [
    {
     "data": {
      "text/plain": [
       "'hai'"
      ]
     },
     "execution_count": 68,
     "metadata": {},
     "output_type": "execute_result"
    }
   ],
   "source": [
    "string1=\"hai\"\n",
    "string2=\"\"\n",
    "string1+string2\n"
   ]
  },
  {
   "cell_type": "code",
   "execution_count": 69,
   "id": "0b6505aa",
   "metadata": {},
   "outputs": [
    {
     "data": {
      "text/plain": [
       "' cd'"
      ]
     },
     "execution_count": 69,
     "metadata": {},
     "output_type": "execute_result"
    }
   ],
   "source": [
    "' '+\"cd\""
   ]
  },
  {
   "cell_type": "code",
   "execution_count": 70,
   "id": "3a4a2829",
   "metadata": {},
   "outputs": [
    {
     "data": {
      "text/plain": [
       "'abcd'"
      ]
     },
     "execution_count": 70,
     "metadata": {},
     "output_type": "execute_result"
    }
   ],
   "source": [
    "\"ab\"+\"cd\""
   ]
  },
  {
   "cell_type": "code",
   "execution_count": 71,
   "id": "f5b1847c",
   "metadata": {},
   "outputs": [
    {
     "name": "stdout",
     "output_type": "stream",
     "text": [
      "h\n",
      "a\n",
      "i\n"
     ]
    }
   ],
   "source": [
    "string1=\"hai\"\n",
    "string2=\"\"\n",
    "for i in string1:\n",
    "    print(i)"
   ]
  },
  {
   "cell_type": "code",
   "execution_count": 76,
   "id": "787672d5",
   "metadata": {},
   "outputs": [
    {
     "name": "stdout",
     "output_type": "stream",
     "text": [
      "h\n",
      "a\n",
      "i\n"
     ]
    }
   ],
   "source": [
    "string1=\"hai\"\n",
    "string2=\"\"\n",
    "for i in string1:\n",
    "    string2=string2+i\n",
    "    print(i)"
   ]
  },
  {
   "cell_type": "code",
   "execution_count": 77,
   "id": "dcb5ea68",
   "metadata": {},
   "outputs": [
    {
     "data": {
      "text/plain": [
       "'hai'"
      ]
     },
     "execution_count": 77,
     "metadata": {},
     "output_type": "execute_result"
    }
   ],
   "source": [
    "string2"
   ]
  },
  {
   "cell_type": "code",
   "execution_count": 73,
   "id": "7afcb3b4",
   "metadata": {},
   "outputs": [
    {
     "name": "stdout",
     "output_type": "stream",
     "text": [
      "h\n",
      "a\n",
      "i\n"
     ]
    }
   ],
   "source": [
    "string1=\"hai\"\n",
    "string2=\"\"\n",
    "for i in string1:\n",
    "    string2=i+string2\n",
    "    print(i)"
   ]
  },
  {
   "cell_type": "code",
   "execution_count": 74,
   "id": "789ad5b4",
   "metadata": {},
   "outputs": [
    {
     "data": {
      "text/plain": [
       "'iah'"
      ]
     },
     "execution_count": 74,
     "metadata": {},
     "output_type": "execute_result"
    }
   ],
   "source": [
    "string2"
   ]
  },
  {
   "cell_type": "code",
   "execution_count": null,
   "id": "8c8dee4c",
   "metadata": {},
   "outputs": [],
   "source": [
    "#1............>h.......> string2=''+'h'='h'\n",
    "#2...........> a .......> string2='h'+'a'='ha'    # string2+i\n",
    "#3...........> i .......> string2='ha'+'i'='hai'"
   ]
  },
  {
   "cell_type": "code",
   "execution_count": null,
   "id": "ef532cd2",
   "metadata": {},
   "outputs": [],
   "source": [
    "#1.........>h..........> string2='h'+''='h'\n",
    "# 2........> a.........> string2='a'+'h'='ah'    # i+string2\n",
    "# 3........> i ........> string2='i'+'ah'='iah'"
   ]
  },
  {
   "cell_type": "code",
   "execution_count": null,
   "id": "60a314f7",
   "metadata": {},
   "outputs": [],
   "source": [
    "'hai how are you'\n",
    "# h ...........> not vowel\n",
    "# a ...........> vowel\n",
    "# i ...........> vowel\n",
    "# h ...........> not vowel\n",
    "# o ...........> vowel\n",
    "# w ...........> not vowel\n",
    "# a ...........> already a consider i will not print\n",
    "# r ...........> not vowel\n",
    "# e ...........> vowel"
   ]
  },
  {
   "cell_type": "code",
   "execution_count": null,
   "id": "11895f85",
   "metadata": {},
   "outputs": [],
   "source": [
    "# every vowel upload into a new empty string\n",
    "# string3=\"aio\"\n",
    "# a is in there in string3.......>yes\n",
    "# no print"
   ]
  },
  {
   "cell_type": "code",
   "execution_count": 81,
   "id": "a8fdf5ad",
   "metadata": {},
   "outputs": [
    {
     "name": "stdout",
     "output_type": "stream",
     "text": [
      "hey, siri\n",
      "e\n",
      "ei\n"
     ]
    }
   ],
   "source": [
    "string1=input()\n",
    "string2=\"\"\n",
    "for i in string1:\n",
    "    if i in \"aeiou\":   # second a true\n",
    "        if i not in string2: # second a not in string2='aio'\n",
    "            string2=string2+i\n",
    "            print(string2)\n",
    "        "
   ]
  },
  {
   "cell_type": "code",
   "execution_count": 82,
   "id": "557b11c4",
   "metadata": {},
   "outputs": [
    {
     "data": {
      "text/plain": [
       "'ei'"
      ]
     },
     "execution_count": 82,
     "metadata": {},
     "output_type": "execute_result"
    }
   ],
   "source": [
    "string2"
   ]
  },
  {
   "cell_type": "code",
   "execution_count": 83,
   "id": "8bead6b6",
   "metadata": {},
   "outputs": [
    {
     "name": "stdout",
     "output_type": "stream",
     "text": [
      "hey, siri\n",
      "-----e\n",
      "-----ei\n"
     ]
    }
   ],
   "source": [
    "string1=input()\n",
    "string2=\"-----\"\n",
    "for i in string1:\n",
    "    if i in \"aeiou\":   # second a true\n",
    "        if i not in string2: # second a not in string2='aio'\n",
    "            string2=string2+i\n",
    "            print(string2)\n",
    "        "
   ]
  },
  {
   "cell_type": "code",
   "execution_count": 84,
   "id": "03636a3b",
   "metadata": {},
   "outputs": [
    {
     "name": "stdout",
     "output_type": "stream",
     "text": [
      "hai how are you\n",
      "a\n",
      "ai\n",
      "aio\n",
      "aioe\n",
      "aioeu\n"
     ]
    }
   ],
   "source": [
    "string1=input()\n",
    "string2=\"\"\n",
    "for i in string1:\n",
    "    if i in \"aeiou\":   # second a true\n",
    "        if i not in string2: # second a not in string2='aio'\n",
    "            string2=string2+i\n",
    "            print(string2)\n",
    "        "
   ]
  },
  {
   "cell_type": "code",
   "execution_count": 87,
   "id": "24b6b12e",
   "metadata": {},
   "outputs": [
    {
     "data": {
      "text/plain": [
       "5"
      ]
     },
     "execution_count": 87,
     "metadata": {},
     "output_type": "execute_result"
    }
   ],
   "source": [
    "round(5.266)"
   ]
  },
  {
   "cell_type": "code",
   "execution_count": 90,
   "id": "30da3d20",
   "metadata": {},
   "outputs": [
    {
     "name": "stdout",
     "output_type": "stream",
     "text": [
      "1\n",
      "2\n",
      "3\n",
      "4\n"
     ]
    }
   ],
   "source": [
    "x = 1  \n",
    "while True:  \n",
    "    if x%5==0:  \n",
    "        break  \n",
    "    print(x)   \n",
    "    x += 1  "
   ]
  },
  {
   "cell_type": "code",
   "execution_count": 91,
   "id": "2f339e82",
   "metadata": {},
   "outputs": [
    {
     "name": "stdout",
     "output_type": "stream",
     "text": [
      "0\n",
      "1\n",
      "2\n",
      "0\n"
     ]
    }
   ],
   "source": [
    "i = 0  \n",
    "while i < 3:  \n",
    "    print(i)  \n",
    "    i += 1  \n",
    "else:  \n",
    "    print(0) "
   ]
  },
  {
   "cell_type": "code",
   "execution_count": 92,
   "id": "5eb3353f",
   "metadata": {},
   "outputs": [
    {
     "name": "stdout",
     "output_type": "stream",
     "text": [
      "0\n",
      "1\n",
      "2\n"
     ]
    }
   ],
   "source": [
    "d = {0, 1, 2}  \n",
    "for x in d:  \n",
    "    print(x)"
   ]
  },
  {
   "cell_type": "code",
   "execution_count": 95,
   "id": "74a03808",
   "metadata": {},
   "outputs": [
    {
     "data": {
      "text/plain": [
       "'javatpoint'"
      ]
     },
     "execution_count": 95,
     "metadata": {},
     "output_type": "execute_result"
    }
   ],
   "source": [
    "def example(a):  \n",
    "    aa = a + '1'  \n",
    "    aa = a*1  \n",
    "    return a  \n",
    "example(\"javatpoint\")  "
   ]
  },
  {
   "cell_type": "code",
   "execution_count": 96,
   "id": "a471be26",
   "metadata": {},
   "outputs": [
    {
     "name": "stdout",
     "output_type": "stream",
     "text": [
      "1.0\n"
     ]
    }
   ],
   "source": [
    "print(True ** False / True)"
   ]
  },
  {
   "cell_type": "code",
   "execution_count": 97,
   "id": "5d28531b",
   "metadata": {},
   "outputs": [
    {
     "name": "stdout",
     "output_type": "stream",
     "text": [
      "4\n"
     ]
    }
   ],
   "source": [
    "int1 = 10  \n",
    "int2 = 6  \n",
    "if int != int2:  \n",
    "    int2 = ++int2  \n",
    "    print(int1 - int2)  "
   ]
  },
  {
   "cell_type": "code",
   "execution_count": 98,
   "id": "acfaf063",
   "metadata": {},
   "outputs": [
    {
     "data": {
      "text/plain": [
       "0"
      ]
     },
     "execution_count": 98,
     "metadata": {},
     "output_type": "execute_result"
    }
   ],
   "source": [
    "6%1"
   ]
  },
  {
   "cell_type": "code",
   "execution_count": 99,
   "id": "b635c414",
   "metadata": {},
   "outputs": [
    {
     "name": "stdout",
     "output_type": "stream",
     "text": [
      "j a v a t p o i n t\n"
     ]
    }
   ],
   "source": [
    "word = \"javatpoint\"   # when a user prints a string with \"*\" that string is printed with the space in each word\n",
    "print(*word)"
   ]
  },
  {
   "cell_type": "code",
   "execution_count": 100,
   "id": "32298dbe",
   "metadata": {},
   "outputs": [
    {
     "name": "stdout",
     "output_type": "stream",
     "text": [
      "(2, 10, 3, 5)\n"
     ]
    }
   ],
   "source": [
    "i = 2, 10  \n",
    "j = 3, 5  # \"i\" and \"j\" are tuples values. The tuple values are added to the bracket.\n",
    "add = i + j  \n",
    "print(add)"
   ]
  },
  {
   "cell_type": "code",
   "execution_count": 101,
   "id": "af1bb5d2",
   "metadata": {},
   "outputs": [
    {
     "name": "stdout",
     "output_type": "stream",
     "text": [
      "7\n"
     ]
    }
   ],
   "source": [
    "print(int(6 == 6.0) * 3 + 4 % 5) "
   ]
  },
  {
   "cell_type": "code",
   "execution_count": 109,
   "id": "59960c5f",
   "metadata": {},
   "outputs": [
    {
     "data": {
      "text/plain": [
       "1"
      ]
     },
     "execution_count": 109,
     "metadata": {},
     "output_type": "execute_result"
    }
   ],
   "source": [
    "int(6 == 6.0)"
   ]
  },
  {
   "cell_type": "code",
   "execution_count": 110,
   "id": "2b6a2000",
   "metadata": {},
   "outputs": [
    {
     "data": {
      "text/plain": [
       "True"
      ]
     },
     "execution_count": 110,
     "metadata": {},
     "output_type": "execute_result"
    }
   ],
   "source": [
    "6==6.0"
   ]
  },
  {
   "cell_type": "code",
   "execution_count": null,
   "id": "eb25c3cd",
   "metadata": {},
   "outputs": [],
   "source": []
  },
  {
   "cell_type": "code",
   "execution_count": 102,
   "id": "4cebfc43",
   "metadata": {},
   "outputs": [
    {
     "data": {
      "text/plain": [
       "4"
      ]
     },
     "execution_count": 102,
     "metadata": {},
     "output_type": "execute_result"
    }
   ],
   "source": [
    "4%5"
   ]
  },
  {
   "cell_type": "code",
   "execution_count": 103,
   "id": "b50b7c14",
   "metadata": {},
   "outputs": [
    {
     "data": {
      "text/plain": [
       "1"
      ]
     },
     "execution_count": 103,
     "metadata": {},
     "output_type": "execute_result"
    }
   ],
   "source": [
    "5%4"
   ]
  },
  {
   "cell_type": "code",
   "execution_count": 104,
   "id": "157f457a",
   "metadata": {},
   "outputs": [
    {
     "data": {
      "text/plain": [
       "6"
      ]
     },
     "execution_count": 104,
     "metadata": {},
     "output_type": "execute_result"
    }
   ],
   "source": [
    "6%7"
   ]
  },
  {
   "cell_type": "code",
   "execution_count": 105,
   "id": "9ba1d87c",
   "metadata": {},
   "outputs": [
    {
     "data": {
      "text/plain": [
       "1"
      ]
     },
     "execution_count": 105,
     "metadata": {},
     "output_type": "execute_result"
    }
   ],
   "source": [
    "7%6"
   ]
  },
  {
   "cell_type": "code",
   "execution_count": 106,
   "id": "17ac47c8",
   "metadata": {},
   "outputs": [
    {
     "data": {
      "text/plain": [
       "8"
      ]
     },
     "execution_count": 106,
     "metadata": {},
     "output_type": "execute_result"
    }
   ],
   "source": [
    "8%9"
   ]
  },
  {
   "cell_type": "code",
   "execution_count": 107,
   "id": "78a74d96",
   "metadata": {},
   "outputs": [
    {
     "data": {
      "text/plain": [
       "1"
      ]
     },
     "execution_count": 107,
     "metadata": {},
     "output_type": "execute_result"
    }
   ],
   "source": [
    "9%8"
   ]
  },
  {
   "cell_type": "code",
   "execution_count": 108,
   "id": "5b0f6d5f",
   "metadata": {},
   "outputs": [
    {
     "data": {
      "text/plain": [
       "29"
      ]
     },
     "execution_count": 108,
     "metadata": {},
     "output_type": "execute_result"
    }
   ],
   "source": [
    "29%32"
   ]
  },
  {
   "cell_type": "code",
   "execution_count": null,
   "id": "831037e2",
   "metadata": {},
   "outputs": [],
   "source": [
    "# a%b if a is greater than b then it always show output a\n",
    "# a vo  value jo divide hoge \n",
    "# or b jis se divide hoge"
   ]
  },
  {
   "cell_type": "code",
   "execution_count": null,
   "id": "ea8bc14c",
   "metadata": {},
   "outputs": [],
   "source": []
  },
  {
   "cell_type": "code",
   "execution_count": 111,
   "id": "8a57545a",
   "metadata": {},
   "outputs": [
    {
     "ename": "TypeError",
     "evalue": "unsupported operand type(s) for +: 'int' and 'tuple'",
     "output_type": "error",
     "traceback": [
      "\u001b[1;31m---------------------------------------------------------------------------\u001b[0m",
      "\u001b[1;31mTypeError\u001b[0m                                 Traceback (most recent call last)",
      "Input \u001b[1;32mIn [111]\u001b[0m, in \u001b[0;36m<cell line: 3>\u001b[1;34m()\u001b[0m\n\u001b[0;32m      1\u001b[0m i \u001b[38;5;241m=\u001b[39m \u001b[38;5;241m2\u001b[39m  \n\u001b[0;32m      2\u001b[0m j \u001b[38;5;241m=\u001b[39m \u001b[38;5;241m3\u001b[39m, \u001b[38;5;241m5\u001b[39m  \n\u001b[1;32m----> 3\u001b[0m add \u001b[38;5;241m=\u001b[39m \u001b[43mi\u001b[49m\u001b[43m \u001b[49m\u001b[38;5;241;43m+\u001b[39;49m\u001b[43m \u001b[49m\u001b[43mj\u001b[49m  \n\u001b[0;32m      4\u001b[0m \u001b[38;5;28mprint\u001b[39m(add)\n",
      "\u001b[1;31mTypeError\u001b[0m: unsupported operand type(s) for +: 'int' and 'tuple'"
     ]
    }
   ],
   "source": [
    "i = 2  \n",
    "j = 3, 5  \n",
    "add = i + j  \n",
    "print(add) "
   ]
  },
  {
   "cell_type": "markdown",
   "id": "c1911532",
   "metadata": {},
   "source": [
    "In this program, \"i\" is the integer value, and \"j\" is the tuple value. The integer and tuple values cannot be added in the python programming language"
   ]
  },
  {
   "cell_type": "code",
   "execution_count": 112,
   "id": "4fb0c8ff",
   "metadata": {},
   "outputs": [
    {
     "name": "stdout",
     "output_type": "stream",
     "text": [
      "It's ok, don't worry\n"
     ]
    }
   ],
   "source": [
    "print('It\\'s ok, don\\'t worry')  "
   ]
  },
  {
   "cell_type": "markdown",
   "id": "4d3c8101",
   "metadata": {},
   "source": [
    "the backslash \"\\\" is an escape character in python"
   ]
  },
  {
   "cell_type": "code",
   "execution_count": null,
   "id": "aad0d1b3",
   "metadata": {},
   "outputs": [],
   "source": [
    "# backslash gone in above statement lol\n",
    "# the backslash \"\\\" is an escape character in python"
   ]
  },
  {
   "cell_type": "code",
   "execution_count": 113,
   "id": "e68b9a8f",
   "metadata": {},
   "outputs": [
    {
     "name": "stdout",
     "output_type": "stream",
     "text": [
      "1 21 2\n",
      "\n",
      "\n"
     ]
    }
   ],
   "source": [
    "a = '1 2'  \n",
    "print(a * 2)  # it means string print two times\n",
    "print(a * 0)  # it means string is empty\n",
    "print(a * -2)  # Any string cannot be negative. Therefore, the string will not print any word."
   ]
  },
  {
   "cell_type": "code",
   "execution_count": 114,
   "id": "0087fb80",
   "metadata": {},
   "outputs": [
    {
     "ename": "TypeError",
     "evalue": "'in <string>' requires string as left operand, not int",
     "output_type": "error",
     "traceback": [
      "\u001b[1;31m---------------------------------------------------------------------------\u001b[0m",
      "\u001b[1;31mTypeError\u001b[0m                                 Traceback (most recent call last)",
      "Input \u001b[1;32mIn [114]\u001b[0m, in \u001b[0;36m<cell line: 2>\u001b[1;34m()\u001b[0m\n\u001b[0;32m      1\u001b[0m a \u001b[38;5;241m=\u001b[39m \u001b[38;5;124m\"\u001b[39m\u001b[38;5;124m123789\u001b[39m\u001b[38;5;124m\"\u001b[39m  \n\u001b[1;32m----> 2\u001b[0m \u001b[38;5;28;01mwhile\u001b[39;00m \u001b[43mx\u001b[49m\u001b[43m \u001b[49m\u001b[38;5;129;43;01min\u001b[39;49;00m\u001b[43m \u001b[49m\u001b[43ma\u001b[49m:  \n\u001b[0;32m      3\u001b[0m     \u001b[38;5;28mprint\u001b[39m(x, end\u001b[38;5;241m=\u001b[39m\u001b[38;5;124m\"\u001b[39m\u001b[38;5;124m \u001b[39m\u001b[38;5;124m\"\u001b[39m)\n",
      "\u001b[1;31mTypeError\u001b[0m: 'in <string>' requires string as left operand, not int"
     ]
    }
   ],
   "source": [
    "a = \"123789\"  \n",
    "while x in a:  \n",
    "    print(x, end=\" \")\n",
    "    "
   ]
  },
  {
   "cell_type": "code",
   "execution_count": 115,
   "id": "f1df81b9",
   "metadata": {},
   "outputs": [
    {
     "ename": "TypeError",
     "evalue": "'in <string>' requires string as left operand, not int",
     "output_type": "error",
     "traceback": [
      "\u001b[1;31m---------------------------------------------------------------------------\u001b[0m",
      "\u001b[1;31mTypeError\u001b[0m                                 Traceback (most recent call last)",
      "Input \u001b[1;32mIn [115]\u001b[0m, in \u001b[0;36m<cell line: 2>\u001b[1;34m()\u001b[0m\n\u001b[0;32m      1\u001b[0m a \u001b[38;5;241m=\u001b[39m \u001b[38;5;124m\"\u001b[39m\u001b[38;5;124m123789\u001b[39m\u001b[38;5;124m\"\u001b[39m  \n\u001b[1;32m----> 2\u001b[0m \u001b[38;5;28;01mwhile\u001b[39;00m \u001b[43mi\u001b[49m\u001b[43m \u001b[49m\u001b[38;5;129;43;01min\u001b[39;49;00m\u001b[43m \u001b[49m\u001b[43ma\u001b[49m:  \n\u001b[0;32m      3\u001b[0m     \u001b[38;5;28mprint\u001b[39m(i, end\u001b[38;5;241m=\u001b[39m\u001b[38;5;124m\"\u001b[39m\u001b[38;5;124m \u001b[39m\u001b[38;5;124m\"\u001b[39m)\n",
      "\u001b[1;31mTypeError\u001b[0m: 'in <string>' requires string as left operand, not int"
     ]
    }
   ],
   "source": [
    "a = \"123789\"  \n",
    "while i in a:  \n",
    "    print(i, end=\" \")"
   ]
  },
  {
   "cell_type": "code",
   "execution_count": null,
   "id": "80201173",
   "metadata": {},
   "outputs": [],
   "source": [
    "# x and i are not defined "
   ]
  },
  {
   "cell_type": "code",
   "execution_count": 116,
   "id": "37f7f8a0",
   "metadata": {},
   "outputs": [
    {
     "name": "stdout",
     "output_type": "stream",
     "text": [
      "4\n"
     ]
    }
   ],
   "source": [
    "flag = \"\"  \n",
    "a = 0  \n",
    "i = 1  \n",
    "while(a < 3):  \n",
    "    j = 1  \n",
    "    if flag:  \n",
    "        i = j * i + 5  \n",
    "    else:  \n",
    "        i = j * i + 1  \n",
    "    a = a + 1  \n",
    "print(i)  "
   ]
  },
  {
   "cell_type": "code",
   "execution_count": 3,
   "id": "f57fee6e",
   "metadata": {},
   "outputs": [
    {
     "name": "stdout",
     "output_type": "stream",
     "text": [
      "10\n",
      "10\n",
      "12\n",
      "13\n"
     ]
    }
   ],
   "source": [
    "i = [10, 11, 12, 13]  # The value of i[-2] changes in each iteration\n",
    "for i[-3] in i:  \n",
    "    print(i[-3])\n",
    "    "
   ]
  },
  {
   "cell_type": "code",
   "execution_count": 120,
   "id": "611487ae",
   "metadata": {},
   "outputs": [
    {
     "name": "stdout",
     "output_type": "stream",
     "text": [
      "12\n"
     ]
    }
   ],
   "source": [
    "i=[10,11,12,13]\n",
    "print(i[-2])"
   ]
  },
  {
   "cell_type": "code",
   "execution_count": 121,
   "id": "aac224d8",
   "metadata": {},
   "outputs": [
    {
     "ename": "TypeError",
     "evalue": "'tuple' object does not support item assignment",
     "output_type": "error",
     "traceback": [
      "\u001b[1;31m---------------------------------------------------------------------------\u001b[0m",
      "\u001b[1;31mTypeError\u001b[0m                                 Traceback (most recent call last)",
      "Input \u001b[1;32mIn [121]\u001b[0m, in \u001b[0;36m<cell line: 2>\u001b[1;34m()\u001b[0m\n\u001b[0;32m      1\u001b[0m i\u001b[38;5;241m=\u001b[39m(\u001b[38;5;241m10\u001b[39m,\u001b[38;5;241m11\u001b[39m,\u001b[38;5;241m12\u001b[39m,\u001b[38;5;241m13\u001b[39m)\n\u001b[1;32m----> 2\u001b[0m \u001b[38;5;28;01mfor\u001b[39;00m i[\u001b[38;5;241m-\u001b[39m\u001b[38;5;241m2\u001b[39m] \u001b[38;5;129;01min\u001b[39;00m i:\n\u001b[0;32m      3\u001b[0m     \u001b[38;5;28mprint\u001b[39m(i[\u001b[38;5;241m-\u001b[39m\u001b[38;5;241m2\u001b[39m])\n",
      "\u001b[1;31mTypeError\u001b[0m: 'tuple' object does not support item assignment"
     ]
    }
   ],
   "source": [
    "i=(10,11,12,13)\n",
    "for i[-2] in i:\n",
    "    print(i[-2])"
   ]
  },
  {
   "cell_type": "code",
   "execution_count": 122,
   "id": "4c65d523",
   "metadata": {},
   "outputs": [
    {
     "name": "stdout",
     "output_type": "stream",
     "text": [
      "8\n"
     ]
    }
   ],
   "source": [
    "i = 10  \n",
    "j = 8  \n",
    "assert i > j, 'j = i + j'  \n",
    "print(j) "
   ]
  },
  {
   "cell_type": "markdown",
   "id": "e4016c3b",
   "metadata": {},
   "source": [
    "In this program, the assert keyword has been used to mislead the user. Therefore, this program will print the value of \"j\"."
   ]
  },
  {
   "cell_type": "code",
   "execution_count": 123,
   "id": "5853024b",
   "metadata": {},
   "outputs": [
    {
     "name": "stdout",
     "output_type": "stream",
     "text": [
      "32 0\n"
     ]
    }
   ],
   "source": [
    "arr = [3 , 2 , 5 , 6 , 0 , 7, 9]  \n",
    "add1 = 0  \n",
    "add2 = 0  \n",
    "for elem in arr:  \n",
    "    if (elem % 1 == 0):  \n",
    "        add1 = add1 + elem  \n",
    "        continue  \n",
    "    if (elem % 3 == 0):  \n",
    "        add2 = add2 + elem  \n",
    "print(add1 , end=\" \")  \n",
    "print(add2) "
   ]
  },
  {
   "cell_type": "code",
   "execution_count": 125,
   "id": "104c8a95",
   "metadata": {},
   "outputs": [
    {
     "name": "stdout",
     "output_type": "stream",
     "text": [
      "1 0 -1 -2 -3 -4 -5 -6 -7 -8 -9 -10 -11 -12 -13 -14 -15 -16 -17 -18 -19 -20 -21 -22 -23 -24 -25 -26 -27 -28 -29 -30 -31 -32 -33 -34 -35 -36 -37 -38 -39 -40 -41 -42 -43 -44 -45 -46 -47 -48 -49 -50 -51 -52 -53 -54 -55 -56 -57 -58 -59 -60 -61 -62 -63 -64 -65 -66 -67 -68 -69 -70 -71 -72 -73 -74 -75 -76 -77 -78 -79 -80 -81 -82 -83 -84 -85 -86 -87 -88 -89 -90 -91 -92 -93 -94 -95 -96 -97 -98 -99 -100 "
     ]
    }
   ],
   "source": [
    "a = 2  \n",
    "while(a > -100):  #This loop will run the 1 to -100 (1, 0, -1,?, -100).\n",
    "    a = a - 1  \n",
    "    print(a,end=\" \")"
   ]
  },
  {
   "cell_type": "code",
   "execution_count": 126,
   "id": "fe8b5127",
   "metadata": {},
   "outputs": [
    {
     "name": "stdout",
     "output_type": "stream",
     "text": [
      "4 3 2 1 0 -1 -2 -3 -4 -5 -6 -7 -8 -9 -10 -11 -12 -13 -14 -15 -16 -17 -18 -19 -20 -21 -22 -23 -24 -25 -26 -27 -28 -29 -30 -31 -32 -33 -34 -35 -36 -37 -38 -39 -40 -41 -42 -43 -44 -45 -46 -47 -48 -49 -50 -51 -52 -53 -54 -55 -56 -57 -58 -59 -60 -61 -62 -63 -64 -65 -66 -67 -68 -69 -70 -71 -72 -73 -74 -75 -76 -77 -78 -79 -80 -81 -82 -83 -84 -85 -86 -87 -88 -89 -90 -91 -92 -93 -94 -95 -96 -97 -98 -99 -100 "
     ]
    }
   ],
   "source": [
    "a = 5 \n",
    "while(a > -100):  #This loop will run the 1 to -100 (1, 0, -1,?, -100).\n",
    "    a = a - 1  \n",
    "    print(a,end=\" \")"
   ]
  },
  {
   "cell_type": "code",
   "execution_count": null,
   "id": "04bc05a0",
   "metadata": {},
   "outputs": [],
   "source": []
  }
 ],
 "metadata": {
  "kernelspec": {
   "display_name": "Python 3 (ipykernel)",
   "language": "python",
   "name": "python3"
  },
  "language_info": {
   "codemirror_mode": {
    "name": "ipython",
    "version": 3
   },
   "file_extension": ".py",
   "mimetype": "text/x-python",
   "name": "python",
   "nbconvert_exporter": "python",
   "pygments_lexer": "ipython3",
   "version": "3.9.12"
  }
 },
 "nbformat": 4,
 "nbformat_minor": 5
}
