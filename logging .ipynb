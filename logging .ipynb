{
 "cells": [
  {
   "cell_type": "markdown",
   "id": "bd2071b9",
   "metadata": {},
   "source": [
    "## types of logging \n",
    "- Debug --detail information\n",
    "- info \n",
    "- warning \n",
    "- error\n",
    "- critical  "
   ]
  },
  {
   "cell_type": "code",
   "execution_count": 1,
   "id": "a961674d",
   "metadata": {},
   "outputs": [],
   "source": [
    "import logging as lg "
   ]
  },
  {
   "cell_type": "code",
   "execution_count": 3,
   "id": "ac0b552a",
   "metadata": {},
   "outputs": [],
   "source": [
    "lg.basicConfig(filename=\"test1.log\",level=lg.INFO)\n",
    "# filename is a name of file where i can store my data \n",
    "# level- which type of logging used "
   ]
  },
  {
   "cell_type": "code",
   "execution_count": 4,
   "id": "cc1cc3d6",
   "metadata": {},
   "outputs": [],
   "source": [
    "import os "
   ]
  },
  {
   "cell_type": "code",
   "execution_count": 5,
   "id": "c338c39a",
   "metadata": {},
   "outputs": [],
   "source": [
    "os.mkdir(\"logging\") # creating a logging directory "
   ]
  },
  {
   "cell_type": "code",
   "execution_count": 6,
   "id": "799e8c50",
   "metadata": {},
   "outputs": [],
   "source": [
    "os.chdir(os.getcwd()+\"/\"+\"logging\") # changing directory \n",
    "# appending logging in current directory "
   ]
  },
  {
   "cell_type": "code",
   "execution_count": 7,
   "id": "693a5f2b",
   "metadata": {},
   "outputs": [
    {
     "data": {
      "text/plain": [
       "'C:\\\\Users\\\\visha\\\\neurron\\\\logging'"
      ]
     },
     "execution_count": 7,
     "metadata": {},
     "output_type": "execute_result"
    }
   ],
   "source": [
    "pwd()"
   ]
  },
  {
   "cell_type": "code",
   "execution_count": 8,
   "id": "f9508048",
   "metadata": {},
   "outputs": [
    {
     "data": {
      "text/plain": [
       "'C:\\\\Users\\\\visha\\\\neurron\\\\logging'"
      ]
     },
     "execution_count": 8,
     "metadata": {},
     "output_type": "execute_result"
    }
   ],
   "source": [
    "os.getcwd()"
   ]
  },
  {
   "cell_type": "code",
   "execution_count": null,
   "id": "d9dcec52",
   "metadata": {},
   "outputs": [],
   "source": []
  },
  {
   "cell_type": "code",
   "execution_count": 10,
   "id": "6b25e155",
   "metadata": {},
   "outputs": [],
   "source": [
    "lg.info(\"i am going to start my program\")\n",
    "lg.warning(\"this is a first warning of my program so modify it \")\n",
    "lg.error(\"this is msg for errors\")\n",
    "\n",
    "# open text1.log file "
   ]
  },
  {
   "cell_type": "code",
   "execution_count": 19,
   "id": "5c129d62",
   "metadata": {},
   "outputs": [],
   "source": [
    "lg.basicConfig(filename=\"test1.log\",level=lg.INFO,format='%(asctime)s - %(message)s') # s mean string\n",
    "# time date formating we are using first time then message will show "
   ]
  },
  {
   "cell_type": "code",
   "execution_count": 20,
   "id": "75a7564c",
   "metadata": {},
   "outputs": [],
   "source": [
    "lg.info(\"i am going to start my program\")\n",
    "lg.warning(\"this is a first warning of my program so modify it \")\n",
    "lg.error(\"this is msg for errors\")\n",
    "\n",
    "# open text1.log file "
   ]
  },
  {
   "cell_type": "code",
   "execution_count": null,
   "id": "bf41698c",
   "metadata": {},
   "outputs": [],
   "source": []
  },
  {
   "cell_type": "code",
   "execution_count": 21,
   "id": "dcd8919c",
   "metadata": {},
   "outputs": [],
   "source": [
    "# above we have given level=lg.INFO and we are giving warning,error \n",
    "# we can change level=lg.ERROR,lg.DEBUG..etc."
   ]
  },
  {
   "cell_type": "code",
   "execution_count": 23,
   "id": "86d6bee5",
   "metadata": {},
   "outputs": [
    {
     "ename": "TypeError",
     "evalue": "can only concatenate str (not \"int\") to str",
     "output_type": "error",
     "traceback": [
      "\u001b[1;31m---------------------------------------------------------------------------\u001b[0m",
      "\u001b[1;31mTypeError\u001b[0m                                 Traceback (most recent call last)",
      "Input \u001b[1;32mIn [23]\u001b[0m, in \u001b[0;36m<cell line: 1>\u001b[1;34m()\u001b[0m\n\u001b[1;32m----> 1\u001b[0m \u001b[38;5;124;43m\"\u001b[39;49m\u001b[38;5;124;43msdfifuybyufca\u001b[39;49m\u001b[38;5;124;43m\"\u001b[39;49m\u001b[38;5;241;43m+\u001b[39;49m\u001b[38;5;241;43m45\u001b[39;49m\n\u001b[0;32m      2\u001b[0m lg\u001b[38;5;241m.\u001b[39minfo\n",
      "\u001b[1;31mTypeError\u001b[0m: can only concatenate str (not \"int\") to str"
     ]
    }
   ],
   "source": [
    "\"sdfifuybyufca\"+45"
   ]
  },
  {
   "cell_type": "code",
   "execution_count": null,
   "id": "59864cd0",
   "metadata": {},
   "outputs": [],
   "source": []
  },
  {
   "cell_type": "code",
   "execution_count": 24,
   "id": "150399a5",
   "metadata": {},
   "outputs": [],
   "source": [
    "def test(a,b):\n",
    "    div=a/b\n",
    "    return div"
   ]
  },
  {
   "cell_type": "code",
   "execution_count": 25,
   "id": "14a86731",
   "metadata": {},
   "outputs": [
    {
     "ename": "ZeroDivisionError",
     "evalue": "division by zero",
     "output_type": "error",
     "traceback": [
      "\u001b[1;31m---------------------------------------------------------------------------\u001b[0m",
      "\u001b[1;31mZeroDivisionError\u001b[0m                         Traceback (most recent call last)",
      "Input \u001b[1;32mIn [25]\u001b[0m, in \u001b[0;36m<cell line: 1>\u001b[1;34m()\u001b[0m\n\u001b[1;32m----> 1\u001b[0m \u001b[43mtest\u001b[49m\u001b[43m(\u001b[49m\u001b[38;5;241;43m4\u001b[39;49m\u001b[43m,\u001b[49m\u001b[38;5;241;43m0\u001b[39;49m\u001b[43m)\u001b[49m\n",
      "Input \u001b[1;32mIn [24]\u001b[0m, in \u001b[0;36mtest\u001b[1;34m(a, b)\u001b[0m\n\u001b[0;32m      1\u001b[0m \u001b[38;5;28;01mdef\u001b[39;00m \u001b[38;5;21mtest\u001b[39m(a,b):\n\u001b[1;32m----> 2\u001b[0m     div\u001b[38;5;241m=\u001b[39m\u001b[43ma\u001b[49m\u001b[38;5;241;43m/\u001b[39;49m\u001b[43mb\u001b[49m\n\u001b[0;32m      3\u001b[0m     \u001b[38;5;28;01mreturn\u001b[39;00m div\n",
      "\u001b[1;31mZeroDivisionError\u001b[0m: division by zero"
     ]
    }
   ],
   "source": [
    "test(4,0)"
   ]
  },
  {
   "cell_type": "code",
   "execution_count": 26,
   "id": "ee89cc6c",
   "metadata": {},
   "outputs": [],
   "source": [
    "def test(a,b):\n",
    "    lg.info(str(a),str(b))\n",
    "    try:\n",
    "        div=a/b\n",
    "        return div \n",
    "    except Exception as e:\n",
    "        print(\"you can check your log for more info if your code will fail\")\n",
    "        lg.error(\"error has occured\") # calling logging error\n",
    "        lg.exception(str(e)) # converitng exception into string "
   ]
  },
  {
   "cell_type": "code",
   "execution_count": 27,
   "id": "effdc848",
   "metadata": {},
   "outputs": [
    {
     "name": "stderr",
     "output_type": "stream",
     "text": [
      "--- Logging error ---\n",
      "Traceback (most recent call last):\n",
      "  File \"C:\\Users\\visha\\anaconda3\\lib\\logging\\__init__.py\", line 1083, in emit\n",
      "    msg = self.format(record)\n",
      "  File \"C:\\Users\\visha\\anaconda3\\lib\\logging\\__init__.py\", line 927, in format\n",
      "    return fmt.format(record)\n",
      "  File \"C:\\Users\\visha\\anaconda3\\lib\\logging\\__init__.py\", line 663, in format\n",
      "    record.message = record.getMessage()\n",
      "  File \"C:\\Users\\visha\\anaconda3\\lib\\logging\\__init__.py\", line 367, in getMessage\n",
      "    msg = msg % self.args\n",
      "TypeError: not all arguments converted during string formatting\n",
      "Call stack:\n"
     ]
    },
    {
     "name": "stdout",
     "output_type": "stream",
     "text": [
      "you can check your log for more info if your code will fail\n"
     ]
    },
    {
     "name": "stderr",
     "output_type": "stream",
     "text": [
      "  File \"C:\\Users\\visha\\anaconda3\\lib\\runpy.py\", line 197, in _run_module_as_main\n",
      "    return _run_code(code, main_globals, None,\n",
      "  File \"C:\\Users\\visha\\anaconda3\\lib\\runpy.py\", line 87, in _run_code\n",
      "    exec(code, run_globals)\n",
      "  File \"C:\\Users\\visha\\anaconda3\\lib\\site-packages\\ipykernel_launcher.py\", line 16, in <module>\n",
      "    app.launch_new_instance()\n",
      "  File \"C:\\Users\\visha\\anaconda3\\lib\\site-packages\\traitlets\\config\\application.py\", line 846, in launch_instance\n",
      "    app.start()\n",
      "  File \"C:\\Users\\visha\\anaconda3\\lib\\site-packages\\ipykernel\\kernelapp.py\", line 677, in start\n",
      "    self.io_loop.start()\n",
      "  File \"C:\\Users\\visha\\anaconda3\\lib\\site-packages\\tornado\\platform\\asyncio.py\", line 199, in start\n",
      "    self.asyncio_loop.run_forever()\n",
      "  File \"C:\\Users\\visha\\anaconda3\\lib\\asyncio\\base_events.py\", line 601, in run_forever\n",
      "    self._run_once()\n",
      "  File \"C:\\Users\\visha\\anaconda3\\lib\\asyncio\\base_events.py\", line 1905, in _run_once\n",
      "    handle._run()\n",
      "  File \"C:\\Users\\visha\\anaconda3\\lib\\asyncio\\events.py\", line 80, in _run\n",
      "    self._context.run(self._callback, *self._args)\n",
      "  File \"C:\\Users\\visha\\anaconda3\\lib\\site-packages\\ipykernel\\kernelbase.py\", line 471, in dispatch_queue\n",
      "    await self.process_one()\n",
      "  File \"C:\\Users\\visha\\anaconda3\\lib\\site-packages\\ipykernel\\kernelbase.py\", line 460, in process_one\n",
      "    await dispatch(*args)\n",
      "  File \"C:\\Users\\visha\\anaconda3\\lib\\site-packages\\ipykernel\\kernelbase.py\", line 367, in dispatch_shell\n",
      "    await result\n",
      "  File \"C:\\Users\\visha\\anaconda3\\lib\\site-packages\\ipykernel\\kernelbase.py\", line 662, in execute_request\n",
      "    reply_content = await reply_content\n",
      "  File \"C:\\Users\\visha\\anaconda3\\lib\\site-packages\\ipykernel\\ipkernel.py\", line 360, in do_execute\n",
      "    res = shell.run_cell(code, store_history=store_history, silent=silent)\n",
      "  File \"C:\\Users\\visha\\anaconda3\\lib\\site-packages\\ipykernel\\zmqshell.py\", line 532, in run_cell\n",
      "    return super().run_cell(*args, **kwargs)\n",
      "  File \"C:\\Users\\visha\\anaconda3\\lib\\site-packages\\IPython\\core\\interactiveshell.py\", line 2863, in run_cell\n",
      "    result = self._run_cell(\n",
      "  File \"C:\\Users\\visha\\anaconda3\\lib\\site-packages\\IPython\\core\\interactiveshell.py\", line 2909, in _run_cell\n",
      "    return runner(coro)\n",
      "  File \"C:\\Users\\visha\\anaconda3\\lib\\site-packages\\IPython\\core\\async_helpers.py\", line 129, in _pseudo_sync_runner\n",
      "    coro.send(None)\n",
      "  File \"C:\\Users\\visha\\anaconda3\\lib\\site-packages\\IPython\\core\\interactiveshell.py\", line 3106, in run_cell_async\n",
      "    has_raised = await self.run_ast_nodes(code_ast.body, cell_name,\n",
      "  File \"C:\\Users\\visha\\anaconda3\\lib\\site-packages\\IPython\\core\\interactiveshell.py\", line 3309, in run_ast_nodes\n",
      "    if await self.run_code(code, result, async_=asy):\n",
      "  File \"C:\\Users\\visha\\anaconda3\\lib\\site-packages\\IPython\\core\\interactiveshell.py\", line 3369, in run_code\n",
      "    exec(code_obj, self.user_global_ns, self.user_ns)\n",
      "  File \"C:\\Users\\visha\\AppData\\Local\\Temp\\ipykernel_7528\\2674636304.py\", line 1, in <cell line: 1>\n",
      "    test(4,0)\n",
      "  File \"C:\\Users\\visha\\AppData\\Local\\Temp\\ipykernel_7528\\3806552872.py\", line 2, in test\n",
      "    lg.info(str(a),str(b))\n",
      "Message: '4'\n",
      "Arguments: ('0',)\n"
     ]
    }
   ],
   "source": [
    "test(4,0)"
   ]
  },
  {
   "cell_type": "code",
   "execution_count": 28,
   "id": "19891f13",
   "metadata": {},
   "outputs": [],
   "source": [
    "# in production you can't use print to check which line is excute or not \n",
    "# we use logging and check what's the problem "
   ]
  },
  {
   "cell_type": "code",
   "execution_count": null,
   "id": "a659aa9d",
   "metadata": {},
   "outputs": [],
   "source": []
  },
  {
   "cell_type": "markdown",
   "id": "be9b3b52",
   "metadata": {},
   "source": [
    "## step=1 import logging \n",
    "## step-2 set basic configuration"
   ]
  },
  {
   "cell_type": "code",
   "execution_count": 29,
   "id": "d89f3403",
   "metadata": {},
   "outputs": [],
   "source": [
    "def test(a,b):\n",
    "    lg.info(\"this is a start function\")\n",
    "    return a+b"
   ]
  },
  {
   "cell_type": "code",
   "execution_count": 30,
   "id": "0b80e51b",
   "metadata": {},
   "outputs": [
    {
     "data": {
      "text/plain": [
       "11"
      ]
     },
     "execution_count": 30,
     "metadata": {},
     "output_type": "execute_result"
    }
   ],
   "source": [
    "test(5,6)"
   ]
  },
  {
   "cell_type": "code",
   "execution_count": 31,
   "id": "c0f99848",
   "metadata": {},
   "outputs": [
    {
     "data": {
      "text/plain": [
       "11"
      ]
     },
     "execution_count": 31,
     "metadata": {},
     "output_type": "execute_result"
    }
   ],
   "source": [
    "test(5,6)"
   ]
  },
  {
   "cell_type": "code",
   "execution_count": 32,
   "id": "4d9c8ab8",
   "metadata": {},
   "outputs": [
    {
     "data": {
      "text/plain": [
       "11"
      ]
     },
     "execution_count": 32,
     "metadata": {},
     "output_type": "execute_result"
    }
   ],
   "source": [
    "test(5,6)"
   ]
  },
  {
   "cell_type": "code",
   "execution_count": 33,
   "id": "aba633f2",
   "metadata": {},
   "outputs": [],
   "source": [
    "# every time we run every time showing info "
   ]
  },
  {
   "cell_type": "code",
   "execution_count": null,
   "id": "7d84a02a",
   "metadata": {},
   "outputs": [],
   "source": []
  },
  {
   "cell_type": "code",
   "execution_count": 34,
   "id": "fa22f386",
   "metadata": {},
   "outputs": [],
   "source": [
    "lg.shutdown() # logging close"
   ]
  },
  {
   "cell_type": "code",
   "execution_count": 35,
   "id": "a403474a",
   "metadata": {},
   "outputs": [],
   "source": [
    "lg.info(\"this is a log info \")\n",
    "lg.warning(\"this is a log warinig \")\n",
    "lg.error(\"this is a log error \")\n",
    "lg.exception(\"this is a log exception \")\n",
    "lg.debug(\"this is a log debug \")\n",
    "lg.critical(\"this is a log critical \")"
   ]
  },
  {
   "cell_type": "code",
   "execution_count": null,
   "id": "a67d1bda",
   "metadata": {},
   "outputs": [],
   "source": []
  },
  {
   "cell_type": "markdown",
   "id": "502d8508",
   "metadata": {},
   "source": [
    "# task \n"
   ]
  },
  {
   "cell_type": "markdown",
   "id": "30f60ff5",
   "metadata": {},
   "source": [
    "- create a logger\n",
    "- create one function which can take any number of input as an argument and it will be able to return sum of it \n",
    "- capture user input in log \n",
    "- give user instruction in log file \n",
    "- read a log file from python code and show all the login console "
   ]
  },
  {
   "cell_type": "code",
   "execution_count": 1,
   "id": "713cd032",
   "metadata": {},
   "outputs": [],
   "source": [
    "import logging as lg "
   ]
  },
  {
   "cell_type": "code",
   "execution_count": 2,
   "id": "91df4ad8",
   "metadata": {},
   "outputs": [],
   "source": [
    "lg.basicConfig(filename=\"test2.log\",level=lg.INFO,format='%(asctime)s - %(message)s')\n",
    "# logger created "
   ]
  },
  {
   "cell_type": "code",
   "execution_count": 6,
   "id": "62b9ef98",
   "metadata": {},
   "outputs": [],
   "source": [
    "def summ(*args):\n",
    "    lg.info(\"user input\" + str(args))\n",
    "    total=0\n",
    "    for i in args:\n",
    "        total=i+total\n",
    "    return total  # return sum(args) "
   ]
  },
  {
   "cell_type": "code",
   "execution_count": 7,
   "id": "3c5a2dc2",
   "metadata": {},
   "outputs": [
    {
     "data": {
      "text/plain": [
       "19"
      ]
     },
     "execution_count": 7,
     "metadata": {},
     "output_type": "execute_result"
    }
   ],
   "source": [
    "summ(2,3,4,5,5)"
   ]
  },
  {
   "cell_type": "code",
   "execution_count": 9,
   "id": "f870bde9",
   "metadata": {},
   "outputs": [
    {
     "data": {
      "text/plain": [
       "'2023-02-04 14:02:51,821 - (2, 3, 4, 5, 5)\\n2023-02-04 14:03:41,732 - user input(2, 3, 4, 5, 5)\\n'"
      ]
     },
     "execution_count": 9,
     "metadata": {},
     "output_type": "execute_result"
    }
   ],
   "source": [
    "a=open(\"test2.log\",\"r\")\n",
    "a.read()"
   ]
  },
  {
   "cell_type": "code",
   "execution_count": null,
   "id": "282a875c",
   "metadata": {},
   "outputs": [],
   "source": []
  }
 ],
 "metadata": {
  "kernelspec": {
   "display_name": "Python 3 (ipykernel)",
   "language": "python",
   "name": "python3"
  },
  "language_info": {
   "codemirror_mode": {
    "name": "ipython",
    "version": 3
   },
   "file_extension": ".py",
   "mimetype": "text/x-python",
   "name": "python",
   "nbconvert_exporter": "python",
   "pygments_lexer": "ipython3",
   "version": "3.9.12"
  }
 },
 "nbformat": 4,
 "nbformat_minor": 5
}
