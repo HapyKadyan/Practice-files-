{
 "cells": [
  {
   "cell_type": "markdown",
   "id": "ee0ba0e5",
   "metadata": {},
   "source": [
    " # $$import$$"
   ]
  },
  {
   "cell_type": "code",
   "execution_count": null,
   "id": "2b3564ad",
   "metadata": {},
   "outputs": [],
   "source": [
    "# random is a package/library/module"
   ]
  },
  {
   "cell_type": "code",
   "execution_count": 1,
   "id": "b5efb981",
   "metadata": {},
   "outputs": [
    {
     "ename": "NameError",
     "evalue": "name 'random' is not defined",
     "output_type": "error",
     "traceback": [
      "\u001b[1;31m---------------------------------------------------------------------------\u001b[0m",
      "\u001b[1;31mNameError\u001b[0m                                 Traceback (most recent call last)",
      "Input \u001b[1;32mIn [1]\u001b[0m, in \u001b[0;36m<cell line: 1>\u001b[1;34m()\u001b[0m\n\u001b[1;32m----> 1\u001b[0m \u001b[38;5;28mdir\u001b[39m(\u001b[43mrandom\u001b[49m)\n",
      "\u001b[1;31mNameError\u001b[0m: name 'random' is not defined"
     ]
    }
   ],
   "source": [
    "dir(random)\n",
    "# used to know the methods are exist in the package/library or module"
   ]
  },
  {
   "cell_type": "markdown",
   "id": "ef06d527",
   "metadata": {},
   "source": [
    "first we have to import the any package/library or module"
   ]
  },
  {
   "cell_type": "code",
   "execution_count": 4,
   "id": "b9445403",
   "metadata": {},
   "outputs": [],
   "source": [
    "import random"
   ]
  },
  {
   "cell_type": "code",
   "execution_count": 5,
   "id": "8f4132cb",
   "metadata": {},
   "outputs": [
    {
     "data": {
      "text/plain": [
       "['BPF',\n",
       " 'LOG4',\n",
       " 'NV_MAGICCONST',\n",
       " 'RECIP_BPF',\n",
       " 'Random',\n",
       " 'SG_MAGICCONST',\n",
       " 'SystemRandom',\n",
       " 'TWOPI',\n",
       " '_Sequence',\n",
       " '_Set',\n",
       " '__all__',\n",
       " '__builtins__',\n",
       " '__cached__',\n",
       " '__doc__',\n",
       " '__file__',\n",
       " '__loader__',\n",
       " '__name__',\n",
       " '__package__',\n",
       " '__spec__',\n",
       " '_accumulate',\n",
       " '_acos',\n",
       " '_bisect',\n",
       " '_ceil',\n",
       " '_cos',\n",
       " '_e',\n",
       " '_exp',\n",
       " '_floor',\n",
       " '_inst',\n",
       " '_log',\n",
       " '_os',\n",
       " '_pi',\n",
       " '_random',\n",
       " '_repeat',\n",
       " '_sha512',\n",
       " '_sin',\n",
       " '_sqrt',\n",
       " '_test',\n",
       " '_test_generator',\n",
       " '_urandom',\n",
       " '_warn',\n",
       " 'betavariate',\n",
       " 'choice',\n",
       " 'choices',\n",
       " 'expovariate',\n",
       " 'gammavariate',\n",
       " 'gauss',\n",
       " 'getrandbits',\n",
       " 'getstate',\n",
       " 'lognormvariate',\n",
       " 'normalvariate',\n",
       " 'paretovariate',\n",
       " 'randbytes',\n",
       " 'randint',\n",
       " 'random',\n",
       " 'randrange',\n",
       " 'sample',\n",
       " 'seed',\n",
       " 'setstate',\n",
       " 'shuffle',\n",
       " 'triangular',\n",
       " 'uniform',\n",
       " 'vonmisesvariate',\n",
       " 'weibullvariate']"
      ]
     },
     "execution_count": 5,
     "metadata": {},
     "output_type": "execute_result"
    }
   ],
   "source": [
    "dir(random)"
   ]
  },
  {
   "cell_type": "code",
   "execution_count": 6,
   "id": "bb370240",
   "metadata": {},
   "outputs": [
    {
     "data": {
      "text/plain": [
       "16"
      ]
     },
     "execution_count": 6,
     "metadata": {},
     "output_type": "execute_result"
    }
   ],
   "source": [
    "# randint method\n",
    "random.randint(1,20)\n",
    "# it will generate a random number between 1 and 20 including 1 and 20 also\n",
    "# at every run it show a new number # but it will show a int"
   ]
  },
  {
   "cell_type": "code",
   "execution_count": 8,
   "id": "8659b281",
   "metadata": {},
   "outputs": [
    {
     "data": {
      "text/plain": [
       "0.6673230453992718"
      ]
     },
     "execution_count": 8,
     "metadata": {},
     "output_type": "execute_result"
    }
   ],
   "source": [
    "# random method\n",
    "random.random()\n",
    "# it will generate a number between 0 and 1 \n",
    "# with 0 include, 1 is not include\n",
    "# how many numbers between 0 and 1 is infinity"
   ]
  },
  {
   "cell_type": "code",
   "execution_count": 5,
   "id": "2c70aecb",
   "metadata": {},
   "outputs": [
    {
     "data": {
      "text/plain": [
       "array([0.69833879, 0.7379063 , 0.91293812, 0.07929606, 0.00141501])"
      ]
     },
     "execution_count": 5,
     "metadata": {},
     "output_type": "execute_result"
    }
   ],
   "source": [
    "import random\n",
    "import numpy as np \n",
    "np.random.random(5) # here after decimal 8 values comes everytime"
   ]
  },
  {
   "cell_type": "code",
   "execution_count": null,
   "id": "bdcc09be",
   "metadata": {},
   "outputs": [],
   "source": [
    "# we have to provide () in every package/library/module method "
   ]
  },
  {
   "cell_type": "markdown",
   "id": "b9fcde39",
   "metadata": {},
   "source": [
    "there are two methods of importing"
   ]
  },
  {
   "cell_type": "code",
   "execution_count": 11,
   "id": "ddb2b571",
   "metadata": {},
   "outputs": [
    {
     "data": {
      "text/plain": [
       "11"
      ]
     },
     "execution_count": 11,
     "metadata": {},
     "output_type": "execute_result"
    }
   ],
   "source": [
    "# M-1 to import a package and use a specific method\n",
    "import random # first importing package \n",
    "random.randint(1,20) # then wrt we are using method name\n",
    "# no need to provide any : \n"
   ]
  },
  {
   "cell_type": "code",
   "execution_count": 12,
   "id": "73e810ff",
   "metadata": {},
   "outputs": [
    {
     "ename": "NameError",
     "evalue": "name 'randint' is not defined",
     "output_type": "error",
     "traceback": [
      "\u001b[1;31m---------------------------------------------------------------------------\u001b[0m",
      "\u001b[1;31mNameError\u001b[0m                                 Traceback (most recent call last)",
      "Input \u001b[1;32mIn [12]\u001b[0m, in \u001b[0;36m<cell line: 3>\u001b[1;34m()\u001b[0m\n\u001b[0;32m      1\u001b[0m \u001b[38;5;28;01mimport\u001b[39;00m \u001b[38;5;21;01mrandom\u001b[39;00m \u001b[38;5;66;03m# first importing package \u001b[39;00m\n\u001b[0;32m      2\u001b[0m random\u001b[38;5;241m.\u001b[39mrandint\n\u001b[1;32m----> 3\u001b[0m \u001b[43mrandint\u001b[49m(\u001b[38;5;241m1\u001b[39m,\u001b[38;5;241m20\u001b[39m)\n",
      "\u001b[1;31mNameError\u001b[0m: name 'randint' is not defined"
     ]
    }
   ],
   "source": [
    "import random # first importing package \n",
    "random.randint\n",
    "randint(1,20)  # we cant do this in this way \n",
    "# to do this we have to use another method"
   ]
  },
  {
   "cell_type": "code",
   "execution_count": 13,
   "id": "00ec16d6",
   "metadata": {},
   "outputs": [
    {
     "data": {
      "text/plain": [
       "12"
      ]
     },
     "execution_count": 13,
     "metadata": {},
     "output_type": "execute_result"
    }
   ],
   "source": [
    "# M-2 i want to use randint method, this is in random library\n",
    "from random import randint # from random package import randint method\n",
    "randint(1,20)"
   ]
  },
  {
   "cell_type": "code",
   "execution_count": 14,
   "id": "9bc153c3",
   "metadata": {},
   "outputs": [
    {
     "data": {
      "text/plain": [
       "0.3233672877009143"
      ]
     },
     "execution_count": 14,
     "metadata": {},
     "output_type": "execute_result"
    }
   ],
   "source": [
    "# we can import many methods from random package\n",
    "from random import randint,random\n",
    "randint(1,30)\n",
    "random()  # why randint not print we have to use print "
   ]
  },
  {
   "cell_type": "code",
   "execution_count": null,
   "id": "a19af941",
   "metadata": {},
   "outputs": [],
   "source": []
  },
  {
   "cell_type": "code",
   "execution_count": null,
   "id": "9221bf87",
   "metadata": {},
   "outputs": [],
   "source": [
    "# it will generate a random integer number b/w 1 to 20.....> i need to random package,randint\n",
    "# user should guess the number.......>eval(input('enter the number'))\n",
    "# if both are correct you are win......>conditional statement\n",
    "# if it is wrong you lost "
   ]
  },
  {
   "cell_type": "code",
   "execution_count": 19,
   "id": "1e609fd2",
   "metadata": {},
   "outputs": [
    {
     "name": "stdout",
     "output_type": "stream",
     "text": [
      "enter a number:5\n",
      "you are lost\n"
     ]
    }
   ],
   "source": [
    "from random import randint\n",
    "randint(1,20)\n",
    "\n",
    "guess=eval(input(\"enter a number:\"))\n",
    "if guess==randint:\n",
    "    print(\"you are win\")\n",
    "else:\n",
    "    print(\"you are lost\")\n",
    "    \n",
    "    "
   ]
  },
  {
   "cell_type": "code",
   "execution_count": 20,
   "id": "0eabc7a4",
   "metadata": {},
   "outputs": [
    {
     "name": "stdout",
     "output_type": "stream",
     "text": [
      "enter your guess13\n",
      "the guess number is 13 and the random number is <bound method Random.randint of <random.Random object at 0x000002171E1791C0>>\n",
      "you are lost\n"
     ]
    }
   ],
   "source": [
    "from random import randint\n",
    "randint(1,20)\n",
    "guess=eval(input(\"enter your guess:\"))\n",
    "if guess==randint:\n",
    "    print(\"the guess number is {} and the random number is {}\".format(guess,randint))\n",
    "    print(\"you are win\")\n",
    "else:\n",
    "    print(\"the guess number is {} and the random number is {}\".format(guess,randint))\n",
    "    print(\"you are lost\")"
   ]
  },
  {
   "cell_type": "code",
   "execution_count": null,
   "id": "dba70bc3",
   "metadata": {},
   "outputs": [],
   "source": [
    "# first we have to store randint somewhere "
   ]
  },
  {
   "cell_type": "code",
   "execution_count": 22,
   "id": "0c14cd1e",
   "metadata": {},
   "outputs": [
    {
     "name": "stdout",
     "output_type": "stream",
     "text": [
      "enter your guess:13\n",
      "the guess number is 13 and the random number is 17\n",
      "you are lost\n"
     ]
    }
   ],
   "source": [
    "from random import randint\n",
    "num=randint(1,20)\n",
    "guess=eval(input(\"enter your guess:\"))\n",
    "if guess==num:\n",
    "    print(\"the guess number is {} and the random number is {}\".format(guess,num))\n",
    "    print(\"you are win\")\n",
    "else:\n",
    "    print(\"the guess number is {} and the random number is {}\".format(guess,num))\n",
    "    print(\"you are lost\")"
   ]
  },
  {
   "cell_type": "code",
   "execution_count": null,
   "id": "69b2f15d",
   "metadata": {},
   "outputs": [],
   "source": [
    "# after lost we want to try again then how can we??\n",
    "# suppose we have three chances"
   ]
  },
  {
   "cell_type": "code",
   "execution_count": null,
   "id": "78990b61",
   "metadata": {},
   "outputs": [],
   "source": [
    "# wrong number!\n",
    "# please try again\n",
    "# wrong number!\n",
    "# please try again\n",
    "# wrong number\n",
    "# please try again\n",
    "# your all chances are over"
   ]
  },
  {
   "cell_type": "code",
   "execution_count": 26,
   "id": "8ee06a6c",
   "metadata": {},
   "outputs": [
    {
     "name": "stdout",
     "output_type": "stream",
     "text": [
      "enter a number:5\n",
      "wrong number\n",
      "you lost\n",
      "wrong number\n",
      "you lost\n",
      "wrong number\n",
      "you lost\n",
      "all your chances are over better luck next time\n"
     ]
    }
   ],
   "source": [
    "from random import randint\n",
    "num=randint(1,20)\n",
    "guess=eval(input(\"enter a number:\"))\n",
    "if guess==num:\n",
    "    print(\"you win\")\n",
    "else:\n",
    "    for i in range(3):   # invalid bcoz we have total three chances and here we are giving 3 three chances after win\n",
    "        print(\"wrong number\") # for loop used first \n",
    "        print(\"you lost\")\n",
    "print(\"all your chances are over better luck next time\")    "
   ]
  },
  {
   "cell_type": "code",
   "execution_count": 33,
   "id": "eca4a08e",
   "metadata": {},
   "outputs": [
    {
     "name": "stdout",
     "output_type": "stream",
     "text": [
      "enter a number:4\n",
      "wrong number\n",
      "you lost\n",
      "wrong number\n",
      "you lost\n",
      "wrong number\n",
      "you lost\n",
      "all your chances are over better luck next time\n"
     ]
    }
   ],
   "source": [
    "from random import randint\n",
    "num=randint(1,20)\n",
    "guess=eval(input(\"enter a number:\"))\n",
    "for i in range(3):\n",
    "    if guess==num:\n",
    "        print(\"you win\") # after win our code will not stop \n",
    "    else:                # after we don't need any chance\n",
    "        print(\"wrong number\") # after wrong number where is the other chances..???\n",
    "        print(\"you lost\")\n",
    "print(\"all your chances are over better luck next time\")    "
   ]
  },
  {
   "cell_type": "code",
   "execution_count": 37,
   "id": "baa56532",
   "metadata": {},
   "outputs": [
    {
     "name": "stdout",
     "output_type": "stream",
     "text": [
      "16\n",
      "enter a number:16\n",
      "you win\n",
      "you win\n",
      "you win\n",
      "all your chances are over better luck next time\n"
     ]
    }
   ],
   "source": [
    "from random import randint\n",
    "num=randint(1,20)\n",
    "print(num)\n",
    "guess=eval(input(\"enter a number:\"))\n",
    "for i in range(3):\n",
    "    if guess==num:\n",
    "        print(\"you win\") # after win our code will not stop \n",
    "    else:                # after we don't need any chance\n",
    "        print(\"wrong number\") \n",
    "        print(\"you lost\")\n",
    "print(\"all your chances are over better luck next time\")    "
   ]
  },
  {
   "cell_type": "code",
   "execution_count": null,
   "id": "93c54b46",
   "metadata": {},
   "outputs": [],
   "source": [
    "# to stop code after win \n",
    "# use break\n",
    "# break will stop the loop"
   ]
  },
  {
   "cell_type": "code",
   "execution_count": 2,
   "id": "5527e105",
   "metadata": {},
   "outputs": [
    {
     "name": "stdout",
     "output_type": "stream",
     "text": [
      "13\n",
      "enter a number:13\n",
      "you win\n",
      "all your chances are over better luck next time\n"
     ]
    }
   ],
   "source": [
    "from random import randint\n",
    "num=randint(1,20)\n",
    "print(num)\n",
    "guess=eval(input(\"enter a number:\"))\n",
    "for i in range(3):\n",
    "    if guess==num:\n",
    "        print(\"you win\")\n",
    "        break # after win our code will not stop \n",
    "    else:                # after we don't need any chance\n",
    "        print(\"wrong number\") \n",
    "        print(\"you lost\")\n",
    "print(\"all your chances are over better luck next time\")    "
   ]
  },
  {
   "cell_type": "code",
   "execution_count": null,
   "id": "a0d1a90e",
   "metadata": {},
   "outputs": [],
   "source": [
    "# here the problem arise we want to print all your chances are over better luck next\n",
    "# after three wrong number "
   ]
  },
  {
   "cell_type": "markdown",
   "id": "48446095",
   "metadata": {},
   "source": [
    "## uses of break"
   ]
  },
  {
   "cell_type": "markdown",
   "id": "1552f9ec",
   "metadata": {},
   "source": [
    "Loop{\n",
    "    Condition:\n",
    "        break\n",
    "    }"
   ]
  },
  {
   "cell_type": "markdown",
   "id": "681900f1",
   "metadata": {},
   "source": [
    "break statement in Python is used to bring the control out of the loop \n",
    "when some external condition is triggered.\n",
    "break statement is put inside the loop body (generally after if condition).\n",
    "It terminates the current loop,\n",
    "i.e., the loop in which it appears,\n",
    "and resumes execution at the next statement immediately after the end of that loop.\n",
    "If the break statement is inside a nested loop, the break will terminate the innermost loop."
   ]
  },
  {
   "cell_type": "code",
   "execution_count": 3,
   "id": "ca19bb95",
   "metadata": {},
   "outputs": [
    {
     "name": "stdout",
     "output_type": "stream",
     "text": [
      "0\n",
      "1\n",
      "2\n"
     ]
    }
   ],
   "source": [
    "for i in range(10):\n",
    "    print(i)\n",
    "    if i == 2:\n",
    "        break"
   ]
  },
  {
   "cell_type": "code",
   "execution_count": 4,
   "id": "612f5bc0",
   "metadata": {},
   "outputs": [
    {
     "name": "stdout",
     "output_type": "stream",
     "text": [
      "g\n",
      "e\n",
      "Out of for loop\n",
      "\n"
     ]
    }
   ],
   "source": [
    "s = 'geeksforgeeks'\n",
    "# Using for loop\n",
    "for letter in s:\n",
    "  \n",
    "    print(letter)\n",
    "    # break the loop as soon it sees 'e'\n",
    "    # or 's'\n",
    "    if letter == 'e' or letter == 's':\n",
    "        break\n",
    "  \n",
    "print(\"Out of for loop\"    )\n",
    "print()"
   ]
  },
  {
   "cell_type": "code",
   "execution_count": 5,
   "id": "0d594281",
   "metadata": {},
   "outputs": [
    {
     "name": "stdout",
     "output_type": "stream",
     "text": [
      "g\n",
      "e\n",
      "Out of while loop \n"
     ]
    }
   ],
   "source": [
    "i = 0\n",
    "  \n",
    "# Using while loop\n",
    "while True:\n",
    "    print(s[i])\n",
    "  \n",
    "    # break the loop as soon it sees 'e'\n",
    "    # or 's'\n",
    "    if s[i] == 'e' or s[i] == 's':\n",
    "        break\n",
    "    i += 1\n",
    "  \n",
    "print(\"Out of while loop \")"
   ]
  },
  {
   "cell_type": "code",
   "execution_count": 6,
   "id": "25528301",
   "metadata": {},
   "outputs": [
    {
     "name": "stdout",
     "output_type": "stream",
     "text": [
      "The num has value: 1\n",
      "The num has value: 2\n",
      "The num has value: 3\n",
      "The num has value: 4\n",
      "The num has value: 5\n",
      "The num has value: 6\n",
      "The num has value: 7\n",
      "Out of loop\n"
     ]
    }
   ],
   "source": [
    "num = 0\n",
    "for i in range(10):\n",
    "    num += 1\n",
    "    if num == 8:\n",
    "        break\n",
    "    print(\"The num has value:\", num)\n",
    "print(\"Out of loop\")"
   ]
  },
  {
   "cell_type": "code",
   "execution_count": null,
   "id": "ecc67c2d",
   "metadata": {},
   "outputs": [],
   "source": []
  },
  {
   "cell_type": "code",
   "execution_count": null,
   "id": "fc7c0574",
   "metadata": {},
   "outputs": [],
   "source": [
    "# now back to the point \n",
    "# we have to print all your chance.........next time after three wrong number\n",
    "# this line is also shown after win"
   ]
  },
  {
   "cell_type": "code",
   "execution_count": 7,
   "id": "c2504f27",
   "metadata": {},
   "outputs": [
    {
     "name": "stdout",
     "output_type": "stream",
     "text": [
      "18\n",
      "enter a number:18\n",
      "you win\n",
      "all your chances are over better luck next time\n"
     ]
    }
   ],
   "source": [
    "from random import randint # importing random package\n",
    "num=randint(1,20)      # generating a random number b/w 1 and 20\n",
    "print(num)    # print generating random number\n",
    "guess=eval(input(\"enter a number:\")) # user will provide number\n",
    "for i in range(3): # 3 chances to user for loop # range(3)=range(0,3)\n",
    "    if guess==num: # if both are matches \n",
    "        print(\"you win\")  # you win\n",
    "        break  # stop code\n",
    "    else:                # both numbers are not match\n",
    "        print(\"wrong number\") \n",
    "        print(\"you lost\")\n",
    "print(\"all your chances are over better luck next time\")    "
   ]
  },
  {
   "cell_type": "code",
   "execution_count": null,
   "id": "7571810d",
   "metadata": {},
   "outputs": [],
   "source": [
    "# there after win we are getting this line \n",
    "# then what should we do...?"
   ]
  },
  {
   "cell_type": "code",
   "execution_count": 8,
   "id": "43e65e04",
   "metadata": {},
   "outputs": [
    {
     "name": "stdout",
     "output_type": "stream",
     "text": [
      "1\n",
      "enter a number:6\n",
      "wrong number\n",
      "you lost\n",
      "wrong number\n",
      "you lost\n",
      "wrong number\n",
      "you lost\n",
      "all your chances are over better luck next time\n"
     ]
    }
   ],
   "source": [
    "from random import randint # importing random package\n",
    "num=randint(1,20)      # generating a random number b/w 1 and 20\n",
    "print(num)    # print generating random number\n",
    "guess=eval(input(\"enter a number:\")) # user will provide number\n",
    "for i in range(3): # 3 chances to user for loop # range(3)=range(0,3)\n",
    "    if guess==num: # if both are matches \n",
    "        print(\"you win\")  # you win\n",
    "        break  # stop code\n",
    "    else:                # both numbers are not match\n",
    "        print(\"wrong number\") \n",
    "        print(\"you lost\")\n",
    "print(\"all your chances are over better luck next time\")    "
   ]
  },
  {
   "cell_type": "code",
   "execution_count": null,
   "id": "eba166d9",
   "metadata": {},
   "outputs": [],
   "source": [
    "# where is our other chances after wrong number\n",
    "# why there is a not a option of enter your number \n",
    "# bcoz we have to put guess=eval in loop \n",
    "# not in the outside of the loop"
   ]
  },
  {
   "cell_type": "code",
   "execution_count": 10,
   "id": "720a9a2c",
   "metadata": {},
   "outputs": [
    {
     "name": "stdout",
     "output_type": "stream",
     "text": [
      "6\n",
      "enter a number:5\n",
      "enter a number:6\n",
      "you win\n",
      "all your chances are over better luck next time\n"
     ]
    }
   ],
   "source": [
    "from random import randint # importing random package\n",
    "num=randint(1,20)      # generating a random number b/w 1 and 20\n",
    "print(num)    # print generating random number\n",
    "guess=eval(input(\"enter a number:\")) # user will provide number\n",
    "for i in range(3): # 3 chances to user for loop # range(3)=range(0,3)\n",
    "    guess=eval(input(\"enter a number:\")) # user will provide number\n",
    "    if guess==num: # if both are matches \n",
    "        print(\"you win\")  # you win\n",
    "        break  # stop code\n",
    "    else:                # both numbers are not match\n",
    "        print(\"wrong number\") \n",
    "        print(\"you lost\")\n",
    "print(\"all your chances are over better luck next time\")    "
   ]
  },
  {
   "cell_type": "code",
   "execution_count": 13,
   "id": "6e9d1613",
   "metadata": {},
   "outputs": [
    {
     "name": "stdout",
     "output_type": "stream",
     "text": [
      "4\n",
      "enter a number:5\n",
      "wrong number\n",
      "you lost\n",
      "enter a number:7\n",
      "wrong number\n",
      "you lost\n",
      "enter a number:8\n",
      "wrong number\n",
      "you lost\n",
      "all your chances are over better luck next time\n"
     ]
    }
   ],
   "source": [
    "from random import randint # importing random package\n",
    "num=randint(1,20)      # generating a random number b/w 1 and 20\n",
    "print(num)    # print generating random number\n",
    "\n",
    "for i in range(3): # 3 chances to user for loop # range(3)=range(0,3)\n",
    "    guess=eval(input(\"enter a number:\")) # user will provide number\n",
    "    if guess==num: # if both are matches \n",
    "        print(\"you win\")  # you win\n",
    "        break  # stop code\n",
    "    else:                # both numbers are not match\n",
    "        print(\"wrong number\") \n",
    "        print(\"you lost\")\n",
    "print(\"all your chances are over better luck next time\")    "
   ]
  },
  {
   "cell_type": "code",
   "execution_count": 14,
   "id": "9ae65525",
   "metadata": {},
   "outputs": [
    {
     "name": "stdout",
     "output_type": "stream",
     "text": [
      "2\n",
      "enter a number:88\n",
      "wrong number\n",
      "you lost\n",
      "enter a number:9\n",
      "wrong number\n",
      "you lost\n",
      "enter a number:2\n",
      "you win\n",
      "all your chances are over better luck next time\n"
     ]
    }
   ],
   "source": [
    "from random import randint # importing random package\n",
    "num=randint(1,20)      # generating a random number b/w 1 and 20\n",
    "print(num)    # print generating random number\n",
    "\n",
    "for i in range(3): # 3 chances to user for loop # range(3)=range(0,3)\n",
    "    guess=eval(input(\"enter a number:\")) # user will provide number\n",
    "    if guess==num: # if both are matches \n",
    "        print(\"you win\")  # you win\n",
    "        break  # stop code\n",
    "    else:                # both numbers are not match\n",
    "        print(\"wrong number\") \n",
    "        print(\"you lost\")\n",
    "print(\"all your chances are over better luck next time\") "
   ]
  },
  {
   "cell_type": "code",
   "execution_count": null,
   "id": "bac36335",
   "metadata": {},
   "outputs": [],
   "source": [
    "# here we win at last but why this line is shown here \n",
    "# what we do >>>???"
   ]
  },
  {
   "cell_type": "code",
   "execution_count": null,
   "id": "0a51565a",
   "metadata": {},
   "outputs": [],
   "source": [
    "# do overcome this \n",
    "we have 2 methods \n",
    "elif , if method "
   ]
  },
  {
   "cell_type": "code",
   "execution_count": 16,
   "id": "331020bc",
   "metadata": {},
   "outputs": [
    {
     "name": "stdout",
     "output_type": "stream",
     "text": [
      "7\n",
      "enter a number:5\n",
      "wrong number\n",
      "you lost\n",
      "enter a number:6\n",
      "wrong number\n",
      "you lost\n",
      "enter a number:7\n",
      "you win\n"
     ]
    }
   ],
   "source": [
    "# method-1\n",
    "from random import randint # importing random package\n",
    "num=randint(1,20)      # generating a random number b/w 1 and 20\n",
    "print(num)    # print generating random number\n",
    "\n",
    "for i in range(3): # 3 chances to user for loop # range(3)=range(0,3)\n",
    "    guess=eval(input(\"enter a number:\")) # user will provide number\n",
    "    if guess==num: # if both are matches \n",
    "        print(\"you win\")  # you win\n",
    "        break  # stop code\n",
    "    elif i==2:\n",
    "        print(\"all your chances are over better luck next time\")\n",
    "    else:                # both numbers are not match\n",
    "        print(\"wrong number\") \n",
    "        print(\"you lost\") "
   ]
  },
  {
   "cell_type": "code",
   "execution_count": 20,
   "id": "f60f29e2",
   "metadata": {},
   "outputs": [
    {
     "name": "stdout",
     "output_type": "stream",
     "text": [
      "17\n",
      "enter a number:5\n",
      "wrong number\n",
      "you lost\n",
      "enter a number:17\n",
      "you win\n"
     ]
    }
   ],
   "source": [
    "# method-2\n",
    "from random import randint # importing random package\n",
    "num=randint(1,20)      # generating a random number b/w 1 and 20\n",
    "print(num)    # print generating random number\n",
    "\n",
    "for i in range(3): # 3 chances to user for loop # range(3)=range(0,3)\n",
    "    guess=eval(input(\"enter a number:\")) # user will provide number\n",
    "    if guess==num: # if both are matches \n",
    "        print(\"you win\")  # you win\n",
    "        break  # stop code\n",
    "    else:                # both numbers are not match\n",
    "        print(\"wrong number\") \n",
    "        print(\"you lost\")\n",
    "    if i==2:\n",
    "        print(\"all your chances are over better luck next time\") "
   ]
  },
  {
   "cell_type": "code",
   "execution_count": null,
   "id": "cb6857b9",
   "metadata": {},
   "outputs": [],
   "source": [
    "# we can use any method \n",
    "# but things to remember \n",
    "# we are using elif method ....> then we have to put our code above else\n",
    "# we are using if method .......> then we have to put our code below else"
   ]
  },
  {
   "cell_type": "code",
   "execution_count": null,
   "id": "6f37f80e",
   "metadata": {},
   "outputs": [],
   "source": [
    "# now our code is ready "
   ]
  },
  {
   "cell_type": "code",
   "execution_count": null,
   "id": "0cc3d1a2",
   "metadata": {},
   "outputs": [],
   "source": [
    "# now the question here arise every time it show a fixed random\n",
    "# how can we change our random number at every chance....??"
   ]
  },
  {
   "cell_type": "code",
   "execution_count": null,
   "id": "13c3fcac",
   "metadata": {},
   "outputs": [],
   "source": []
  },
  {
   "cell_type": "code",
   "execution_count": 29,
   "id": "e6e45a42",
   "metadata": {},
   "outputs": [
    {
     "name": "stdout",
     "output_type": "stream",
     "text": [
      "the random number is 15\n",
      "enter a guess number:14\n",
      "wrong number\n",
      "you lost\n",
      "please try again\n",
      "the random number is 14\n",
      "enter a guess number:13\n",
      "wrong number\n",
      "you lost\n",
      "please try again\n",
      "the random number is 15\n",
      "enter a guess number:17\n",
      "you lost\n",
      "all your chances are over better luck next time\n"
     ]
    }
   ],
   "source": [
    "from random import randint  \n",
    "\n",
    "for i in range(3):  \n",
    "    num=randint(1,20)      \n",
    "    print(\"the random number is\",num)\n",
    "    guess=eval(input(\"enter a guess number:\")) \n",
    "    if guess==num: \n",
    "        print(\"you win\") \n",
    "        break  \n",
    "    elif i==2:\n",
    "        print(\"you lost\")\n",
    "        print(\"all your chances are over better luck next time\")\n",
    "    else:                \n",
    "        print(\"wrong number\") \n",
    "        print(\"you lost\")    # here i=0,1 will print here\n",
    "        print(\"please try again\")"
   ]
  },
  {
   "cell_type": "code",
   "execution_count": null,
   "id": "11a04ecb",
   "metadata": {},
   "outputs": [],
   "source": [
    "# now our code is better "
   ]
  },
  {
   "cell_type": "code",
   "execution_count": null,
   "id": "151be63a",
   "metadata": {},
   "outputs": [],
   "source": [
    "# here one more question arise \n",
    "# if user want to provide the number of chances \n",
    "# this can be done by >>>>"
   ]
  },
  {
   "cell_type": "code",
   "execution_count": 32,
   "id": "c0bb933e",
   "metadata": {},
   "outputs": [
    {
     "name": "stdout",
     "output_type": "stream",
     "text": [
      "enter the number of chances10\n",
      "the random number is  19\n",
      "enter the guess number2\n",
      "wrong number\n",
      "you lost\n",
      "please try again\n",
      "the random number is  1\n",
      "enter the guess number1\n",
      "you win\n"
     ]
    }
   ],
   "source": [
    "from random import randint   # importing randint\n",
    "num_chances=eval(input(\"enter the number of chances\")) # user provide no.of guess\n",
    "for i in range(num_chances): # for loop\n",
    "    num=randint(1,30) # generate a random number at every chances\n",
    "    print(\"the random number is \",num) # print the random number at every chances\n",
    "    guess=eval(input(\"enter the guess number\"))  # user guess number\n",
    "    \n",
    "    if num==guess: # if both are match\n",
    "        print(\"you win\") # user win \n",
    "        break   # entire code will stop,out of the loop\n",
    "    elif i==num_chances-1: # num_chances-1 means stop=end-1=num_chances-1,# bcoz num_chances will not print\n",
    "        print(\"you lost \") # wrong number\n",
    "        print(\"all your chances are over better luck next time\") # end of the loop\n",
    "    else: # here i=0 and i=num_chances-2 will print here # ex: total chances=5\n",
    "        print(\"wrong number\")              # here i=o,1,2,3 will print here if wrong number\n",
    "        print(\"you lost\")\n",
    "        print(\"please try again\")"
   ]
  },
  {
   "cell_type": "code",
   "execution_count": null,
   "id": "b3910782",
   "metadata": {},
   "outputs": [],
   "source": []
  },
  {
   "cell_type": "code",
   "execution_count": null,
   "id": "aed92d4c",
   "metadata": {},
   "outputs": [],
   "source": []
  },
  {
   "cell_type": "markdown",
   "id": "8330c4c7",
   "metadata": {},
   "source": [
    "# $$MATH$$ $$library$$"
   ]
  },
  {
   "cell_type": "code",
   "execution_count": null,
   "id": "614d61fa",
   "metadata": {},
   "outputs": [],
   "source": []
  },
  {
   "cell_type": "code",
   "execution_count": 33,
   "id": "5ca540d3",
   "metadata": {},
   "outputs": [],
   "source": [
    "# library name is math\n",
    "# first we have to import the library/package/module\n",
    "import math"
   ]
  },
  {
   "cell_type": "code",
   "execution_count": null,
   "id": "005eb0b1",
   "metadata": {},
   "outputs": [],
   "source": [
    "# dir used to know methods are used in the package/library/module\n",
    "# don't forget to put () after method or while checking dir\n"
   ]
  },
  {
   "cell_type": "code",
   "execution_count": 34,
   "id": "d3510512",
   "metadata": {},
   "outputs": [
    {
     "data": {
      "text/plain": [
       "['__doc__',\n",
       " '__loader__',\n",
       " '__name__',\n",
       " '__package__',\n",
       " '__spec__',\n",
       " 'acos',\n",
       " 'acosh',\n",
       " 'asin',\n",
       " 'asinh',\n",
       " 'atan',\n",
       " 'atan2',\n",
       " 'atanh',\n",
       " 'ceil',\n",
       " 'comb',\n",
       " 'copysign',\n",
       " 'cos',\n",
       " 'cosh',\n",
       " 'degrees',\n",
       " 'dist',\n",
       " 'e',\n",
       " 'erf',\n",
       " 'erfc',\n",
       " 'exp',\n",
       " 'expm1',\n",
       " 'fabs',\n",
       " 'factorial',\n",
       " 'floor',\n",
       " 'fmod',\n",
       " 'frexp',\n",
       " 'fsum',\n",
       " 'gamma',\n",
       " 'gcd',\n",
       " 'hypot',\n",
       " 'inf',\n",
       " 'isclose',\n",
       " 'isfinite',\n",
       " 'isinf',\n",
       " 'isnan',\n",
       " 'isqrt',\n",
       " 'lcm',\n",
       " 'ldexp',\n",
       " 'lgamma',\n",
       " 'log',\n",
       " 'log10',\n",
       " 'log1p',\n",
       " 'log2',\n",
       " 'modf',\n",
       " 'nan',\n",
       " 'nextafter',\n",
       " 'perm',\n",
       " 'pi',\n",
       " 'pow',\n",
       " 'prod',\n",
       " 'radians',\n",
       " 'remainder',\n",
       " 'sin',\n",
       " 'sinh',\n",
       " 'sqrt',\n",
       " 'tan',\n",
       " 'tanh',\n",
       " 'tau',\n",
       " 'trunc',\n",
       " 'ulp']"
      ]
     },
     "execution_count": 34,
     "metadata": {},
     "output_type": "execute_result"
    }
   ],
   "source": [
    "dir(math)"
   ]
  },
  {
   "cell_type": "code",
   "execution_count": null,
   "id": "6228831c",
   "metadata": {},
   "outputs": [],
   "source": [
    "# package used for all the concepts\n",
    "# for loop , while loop....read after ....>data structures\n",
    "# ML\n",
    "# DL\n",
    "# statistics\n",
    "# is used in all the subjects\n",
    "# random,math,numpy,pandas,tensorflow,sikit learn"
   ]
  },
  {
   "cell_type": "code",
   "execution_count": null,
   "id": "d07776c0",
   "metadata": {},
   "outputs": [],
   "source": [
    "# i stopped while loop concept immediately after for loop\n",
    "# you need some practice\n",
    "# first familier with if and for\n",
    "# while loop little confusing\n",
    "# functions.....> we will repeat we have done before\n",
    "# then you will more practice\n",
    "# then we go while loop and we closer our part-1"
   ]
  },
  {
   "cell_type": "code",
   "execution_count": 35,
   "id": "77b0e916",
   "metadata": {},
   "outputs": [
    {
     "data": {
      "text/plain": [
       "<function math.sin(x, /)>"
      ]
     },
     "execution_count": 35,
     "metadata": {},
     "output_type": "execute_result"
    }
   ],
   "source": [
    "import math\n",
    "math.sin"
   ]
  },
  {
   "cell_type": "code",
   "execution_count": 36,
   "id": "1fc6464b",
   "metadata": {},
   "outputs": [
    {
     "ename": "NameError",
     "evalue": "name 'sin' is not defined",
     "output_type": "error",
     "traceback": [
      "\u001b[1;31m---------------------------------------------------------------------------\u001b[0m",
      "\u001b[1;31mNameError\u001b[0m                                 Traceback (most recent call last)",
      "Input \u001b[1;32mIn [36]\u001b[0m, in \u001b[0;36m<cell line: 1>\u001b[1;34m()\u001b[0m\n\u001b[1;32m----> 1\u001b[0m \u001b[43msin\u001b[49m(\u001b[38;5;241m2\u001b[39m)\n",
      "\u001b[1;31mNameError\u001b[0m: name 'sin' is not defined"
     ]
    }
   ],
   "source": [
    "sin(2) # we can do this only in from math import sin"
   ]
  },
  {
   "cell_type": "code",
   "execution_count": 37,
   "id": "b4c797ff",
   "metadata": {},
   "outputs": [
    {
     "data": {
      "text/plain": [
       "0.0"
      ]
     },
     "execution_count": 37,
     "metadata": {},
     "output_type": "execute_result"
    }
   ],
   "source": [
    "import math\n",
    "math.sin(0)"
   ]
  },
  {
   "cell_type": "code",
   "execution_count": 38,
   "id": "f4174594",
   "metadata": {},
   "outputs": [
    {
     "data": {
      "text/plain": [
       "1.0"
      ]
     },
     "execution_count": 38,
     "metadata": {},
     "output_type": "execute_result"
    }
   ],
   "source": [
    "math.cos(0)"
   ]
  },
  {
   "cell_type": "code",
   "execution_count": 39,
   "id": "dbf5421c",
   "metadata": {},
   "outputs": [
    {
     "name": "stdout",
     "output_type": "stream",
     "text": [
      "Help on built-in function sin in module math:\n",
      "\n",
      "sin(x, /)\n",
      "    Return the sine of x (measured in radians).\n",
      "\n"
     ]
    }
   ],
   "source": [
    "help(math.sin) # gives value in radians"
   ]
  },
  {
   "cell_type": "code",
   "execution_count": 40,
   "id": "41582c4d",
   "metadata": {},
   "outputs": [
    {
     "data": {
      "text/plain": [
       "0.8509035245341184"
      ]
     },
     "execution_count": 40,
     "metadata": {},
     "output_type": "execute_result"
    }
   ],
   "source": [
    "from math import sin,cos\n",
    "sin(45)"
   ]
  },
  {
   "cell_type": "code",
   "execution_count": 42,
   "id": "0f89f25b",
   "metadata": {},
   "outputs": [],
   "source": [
    "tan45=sin(45)/cos(45)"
   ]
  },
  {
   "cell_type": "code",
   "execution_count": 43,
   "id": "aae15f91",
   "metadata": {},
   "outputs": [
    {
     "data": {
      "text/plain": [
       "1.6197751905438615"
      ]
     },
     "execution_count": 43,
     "metadata": {},
     "output_type": "execute_result"
    }
   ],
   "source": [
    "tan45"
   ]
  },
  {
   "cell_type": "code",
   "execution_count": 44,
   "id": "94fd41b7",
   "metadata": {},
   "outputs": [
    {
     "name": "stdout",
     "output_type": "stream",
     "text": [
      "3.141592653589793\n"
     ]
    }
   ],
   "source": [
    "from math import pi\n",
    "print(pi)"
   ]
  },
  {
   "cell_type": "code",
   "execution_count": 45,
   "id": "0deb8452",
   "metadata": {},
   "outputs": [
    {
     "name": "stdout",
     "output_type": "stream",
     "text": [
      "3\n"
     ]
    }
   ],
   "source": [
    "print(round(pi))"
   ]
  },
  {
   "cell_type": "code",
   "execution_count": 47,
   "id": "2c00c496",
   "metadata": {},
   "outputs": [
    {
     "name": "stdout",
     "output_type": "stream",
     "text": [
      "3.1416\n"
     ]
    }
   ],
   "source": [
    "print(round(pi,4))"
   ]
  },
  {
   "cell_type": "code",
   "execution_count": null,
   "id": "a226c9e0",
   "metadata": {},
   "outputs": [],
   "source": []
  },
  {
   "cell_type": "markdown",
   "id": "73f6e00a",
   "metadata": {},
   "source": [
    "----------------part-1--------------"
   ]
  },
  {
   "cell_type": "markdown",
   "id": "869436ea",
   "metadata": {},
   "source": [
    "- basic python\n",
    "- conditoons\n",
    "- random and math package\n",
    "- functions\n",
    "- while loop"
   ]
  },
  {
   "cell_type": "markdown",
   "id": "1e8f23fd",
   "metadata": {},
   "source": [
    "## function"
   ]
  },
  {
   "cell_type": "markdown",
   "id": "fbc08273",
   "metadata": {},
   "source": [
    "- to reduce the code size\n",
    "- if you want to use same logic many times\n",
    "- suppose i want to calculate income tax of the employes\n",
    "- the logic is same but we calculate for different employes\n",
    "- one income tax program takes 100 lines for one employe\n",
    "- for other employes 100 lines\n",
    "- suppose if i want calculate 10 members\n",
    "- 10*100\n",
    "- but if we use function then only 100 lines of code is enough for all employees"
   ]
  },
  {
   "cell_type": "code",
   "execution_count": null,
   "id": "d47b4933",
   "metadata": {},
   "outputs": [],
   "source": [
    "# keyword called def.........> defination\n",
    "# def< function name>():"
   ]
  },
  {
   "cell_type": "code",
   "execution_count": null,
   "id": "df6bef42",
   "metadata": {},
   "outputs": [],
   "source": [
    "def good_morning():\n",
    "    # here my function name is good morning"
   ]
  },
  {
   "cell_type": "code",
   "execution_count": null,
   "id": "2d2e02a7",
   "metadata": {},
   "outputs": [],
   "source": [
    "def addition():\n",
    "    # here my function name is addition "
   ]
  },
  {
   "cell_type": "markdown",
   "id": "c627c40c",
   "metadata": {},
   "source": [
    "- first we have to defining our function\n",
    "- inside function we are writing our logic\n",
    "- don't forget to put : after ()\n",
    "- remember indentation gap "
   ]
  },
  {
   "cell_type": "code",
   "execution_count": 49,
   "id": "a102d028",
   "metadata": {},
   "outputs": [],
   "source": [
    "def good_morning():\n",
    "    print(\"hello\")\n",
    "    print(\"hi\")"
   ]
  },
  {
   "cell_type": "code",
   "execution_count": null,
   "id": "64e6e243",
   "metadata": {},
   "outputs": [],
   "source": [
    "# we need to call the function\n",
    "# to execute/run the logic"
   ]
  },
  {
   "cell_type": "code",
   "execution_count": 50,
   "id": "fec6ee8f",
   "metadata": {},
   "outputs": [
    {
     "name": "stdout",
     "output_type": "stream",
     "text": [
      "hello\n",
      "hi\n"
     ]
    }
   ],
   "source": [
    "good_morning()"
   ]
  },
  {
   "cell_type": "code",
   "execution_count": 51,
   "id": "fbf3738d",
   "metadata": {},
   "outputs": [
    {
     "name": "stdout",
     "output_type": "stream",
     "text": [
      "enter a number1=10\n",
      "enter a number2=3.2\n",
      "summation of 10 and 3.2 is 13.2\n"
     ]
    }
   ],
   "source": [
    "num1=eval(input(\"enter a number1=\"))\n",
    "num2=eval(input(\"enter a number2=\"))\n",
    "summation=num1+num2\n",
    "print(\"summation of {} and {} is {}\".format(num1,num2,summation))"
   ]
  },
  {
   "cell_type": "code",
   "execution_count": null,
   "id": "ea8d1387",
   "metadata": {},
   "outputs": [],
   "source": [
    "# first def a function that we want to run or entering the logic "
   ]
  },
  {
   "cell_type": "code",
   "execution_count": 52,
   "id": "d02107cd",
   "metadata": {},
   "outputs": [
    {
     "name": "stdout",
     "output_type": "stream",
     "text": [
      "enter a number1=5\n",
      "enter a number2=6.9\n",
      "summation of 5 and 6.9 is 11.9\n"
     ]
    }
   ],
   "source": [
    "def addition():\n",
    "    num1=eval(input(\"enter a number1=\"))\n",
    "    num2=eval(input(\"enter a number2=\"))\n",
    "    summation=num1+num2\n",
    "    print(\"summation of {} and {} is {}\".format(num1,num2,summation))\n",
    "addition()    "
   ]
  },
  {
   "cell_type": "code",
   "execution_count": 53,
   "id": "5eae45ec",
   "metadata": {},
   "outputs": [
    {
     "name": "stdout",
     "output_type": "stream",
     "text": [
      "enter a number1=5\n",
      "enter a number2=9\n",
      "enter a number3=11\n",
      "the average of 5, 9 and 11 is 8.333333333333334\n"
     ]
    }
   ],
   "source": [
    "num1=eval(input(\"enter a number1=\"))\n",
    "num2=eval(input(\"enter a number2=\"))\n",
    "num3=eval(input(\"enter a number3=\"))\n",
    "average=(num1+num2+num3)/3\n",
    "print(\"the average of {}, {} and {} is {}\".format(num1,num2,num3,average))"
   ]
  },
  {
   "cell_type": "code",
   "execution_count": 54,
   "id": "dce9427d",
   "metadata": {},
   "outputs": [],
   "source": [
    "def average():\n",
    "    num1=eval(input(\"enter a number1=\"))\n",
    "    num2=eval(input(\"enter a number2=\"))\n",
    "    num3=eval(input(\"enter a number3=\"))\n",
    "    average=(num1+num2+num3)/3\n",
    "    print(\"the average of {}, {} and {} is {}\".format(num1,num2,num3,average))"
   ]
  },
  {
   "cell_type": "code",
   "execution_count": 55,
   "id": "993b940e",
   "metadata": {},
   "outputs": [
    {
     "name": "stdout",
     "output_type": "stream",
     "text": [
      "enter a number1=5\n",
      "enter a number2=6\n",
      "enter a number3=7\n",
      "the average of 5, 6 and 7 is 6.0\n"
     ]
    }
   ],
   "source": [
    "average()  # we have to call the function"
   ]
  },
  {
   "cell_type": "code",
   "execution_count": null,
   "id": "2afac18a",
   "metadata": {},
   "outputs": [],
   "source": [
    "def greet():\n",
    "    print(\"hai\")\n",
    "# every function starts with def keyword\n",
    "# your logic/statements should write inside the function call\n",
    "# # here print(\"hai\") is our statement \n",
    "# function another name also called as method.\n",
    "# we have to put () at every method"
   ]
  },
  {
   "cell_type": "code",
   "execution_count": null,
   "id": "566b8cd0",
   "metadata": {},
   "outputs": [],
   "source": [
    "# in order to run your statement /logic you need call"
   ]
  },
  {
   "cell_type": "code",
   "execution_count": 56,
   "id": "89718feb",
   "metadata": {},
   "outputs": [
    {
     "ename": "NameError",
     "evalue": "name 'greet' is not defined",
     "output_type": "error",
     "traceback": [
      "\u001b[1;31m---------------------------------------------------------------------------\u001b[0m",
      "\u001b[1;31mNameError\u001b[0m                                 Traceback (most recent call last)",
      "Input \u001b[1;32mIn [56]\u001b[0m, in \u001b[0;36m<cell line: 1>\u001b[1;34m()\u001b[0m\n\u001b[1;32m----> 1\u001b[0m \u001b[43mgreet\u001b[49m()\n",
      "\u001b[1;31mNameError\u001b[0m: name 'greet' is not defined"
     ]
    }
   ],
   "source": [
    "greet() # error shown bcoz we don't run the above cell where greet funtion is defined"
   ]
  },
  {
   "cell_type": "code",
   "execution_count": 63,
   "id": "f3cf90e7",
   "metadata": {},
   "outputs": [],
   "source": [
    "def addition():\n",
    "    num1=eval(input(\"enter a number1=\"))\n",
    "    num2=eval(input(\"enter a number2=\"))\n",
    "    summation=num1+num2\n",
    "    print(\"summation of {} and {} is {}\".format(num1,num2,summation))"
   ]
  },
  {
   "cell_type": "code",
   "execution_count": null,
   "id": "15a25998",
   "metadata": {},
   "outputs": [],
   "source": [
    "# when you run this code it will not run\n",
    "# eventhough if you have error in this logic it will not show\n",
    "# untill unless you call the function,the logic/statements will not execute"
   ]
  },
  {
   "cell_type": "code",
   "execution_count": 64,
   "id": "3c2de49e",
   "metadata": {},
   "outputs": [
    {
     "name": "stdout",
     "output_type": "stream",
     "text": [
      "enter a number1=7\n",
      "enter a number2=8\n",
      "summation of 7 and 9 is 16\n"
     ]
    }
   ],
   "source": [
    "addition()"
   ]
  },
  {
   "cell_type": "code",
   "execution_count": 69,
   "id": "b9e3cec7",
   "metadata": {},
   "outputs": [],
   "source": [
    "def income():\n",
    "    hours=eval(input(\"enter the work done hours\"))\n",
    "    rate=eval(input(\"enter the rate per hour\"))\n",
    "    total_income=hours*rate\n",
    "    print(\"total income is \",total_income,\"rs\",sep=\"\")"
   ]
  },
  {
   "cell_type": "code",
   "execution_count": 70,
   "id": "cfcf1328",
   "metadata": {},
   "outputs": [
    {
     "name": "stdout",
     "output_type": "stream",
     "text": [
      "enter the work done hours500\n",
      "enter the rate per hour1000\n",
      "total income is 500000rs\n"
     ]
    }
   ],
   "source": [
    "income()"
   ]
  },
  {
   "cell_type": "code",
   "execution_count": 71,
   "id": "aee220b8",
   "metadata": {},
   "outputs": [],
   "source": [
    "def income():\n",
    "    hours=eval(input(\"enter the work done hours\"))\n",
    "    rate=eval(input(\"enter the rate per hour\"))\n",
    "    total_income=hours*rate*hhh\n",
    "    print(\"total income is \",total_income,\"rs\",sep=\"\")"
   ]
  },
  {
   "cell_type": "code",
   "execution_count": 72,
   "id": "0d052778",
   "metadata": {},
   "outputs": [
    {
     "name": "stdout",
     "output_type": "stream",
     "text": [
      "enter the work done hours500\n",
      "enter the rate per hour1000\n"
     ]
    },
    {
     "ename": "NameError",
     "evalue": "name 'hhh' is not defined",
     "output_type": "error",
     "traceback": [
      "\u001b[1;31m---------------------------------------------------------------------------\u001b[0m",
      "\u001b[1;31mNameError\u001b[0m                                 Traceback (most recent call last)",
      "Input \u001b[1;32mIn [72]\u001b[0m, in \u001b[0;36m<cell line: 1>\u001b[1;34m()\u001b[0m\n\u001b[1;32m----> 1\u001b[0m \u001b[43mincome\u001b[49m\u001b[43m(\u001b[49m\u001b[43m)\u001b[49m\n",
      "Input \u001b[1;32mIn [71]\u001b[0m, in \u001b[0;36mincome\u001b[1;34m()\u001b[0m\n\u001b[0;32m      2\u001b[0m hours\u001b[38;5;241m=\u001b[39m\u001b[38;5;28meval\u001b[39m(\u001b[38;5;28minput\u001b[39m(\u001b[38;5;124m\"\u001b[39m\u001b[38;5;124menter the work done hours\u001b[39m\u001b[38;5;124m\"\u001b[39m))\n\u001b[0;32m      3\u001b[0m rate\u001b[38;5;241m=\u001b[39m\u001b[38;5;28meval\u001b[39m(\u001b[38;5;28minput\u001b[39m(\u001b[38;5;124m\"\u001b[39m\u001b[38;5;124menter the rate per hour\u001b[39m\u001b[38;5;124m\"\u001b[39m))\n\u001b[1;32m----> 4\u001b[0m total_income\u001b[38;5;241m=\u001b[39mhours\u001b[38;5;241m*\u001b[39mrate\u001b[38;5;241m*\u001b[39m\u001b[43mhhh\u001b[49m\n\u001b[0;32m      5\u001b[0m \u001b[38;5;28mprint\u001b[39m(\u001b[38;5;124m\"\u001b[39m\u001b[38;5;124mtotal income is \u001b[39m\u001b[38;5;124m\"\u001b[39m,total_income,\u001b[38;5;124m\"\u001b[39m\u001b[38;5;124mrs\u001b[39m\u001b[38;5;124m\"\u001b[39m,sep\u001b[38;5;241m=\u001b[39m\u001b[38;5;124m\"\u001b[39m\u001b[38;5;124m\"\u001b[39m)\n",
      "\u001b[1;31mNameError\u001b[0m: name 'hhh' is not defined"
     ]
    }
   ],
   "source": [
    "income() # while runing function it will not show error \n",
    "# it show error when we call our function and ru it "
   ]
  },
  {
   "cell_type": "code",
   "execution_count": null,
   "id": "9d0fa581",
   "metadata": {},
   "outputs": [],
   "source": []
  },
  {
   "cell_type": "code",
   "execution_count": null,
   "id": "6cf442bf",
   "metadata": {},
   "outputs": [],
   "source": [
    "we have done \n",
    "addition()\n",
    "average()\n",
    "greet()\n",
    "income()"
   ]
  },
  {
   "cell_type": "code",
   "execution_count": null,
   "id": "353ece38",
   "metadata": {},
   "outputs": [],
   "source": [
    "def addition():\n",
    "    num1=eval(input(\"enter a number\"))\n",
    "    num2=eval(input(\"enter a number\"))\n",
    "    summation=num1+num2\n",
    "    print(\"the summation of {} and {} is {} \".format(num1,num2,summation))\n",
    "addition()    "
   ]
  },
  {
   "cell_type": "code",
   "execution_count": null,
   "id": "91550411",
   "metadata": {},
   "outputs": [],
   "source": [
    "# here this function has no argumrnts\n",
    "# variables are using in the logic\n",
    "# what are the variables num1,num2,summation\n",
    "# the variables defined logic itself"
   ]
  },
  {
   "cell_type": "code",
   "execution_count": 77,
   "id": "d277ede4",
   "metadata": {},
   "outputs": [],
   "source": [
    "def addition(num1,num2):\n",
    "    summation=num1+num2\n",
    "    print(\"the summation of {} and {} is {} \".format(num1,num2,summation))\n",
    "        "
   ]
  },
  {
   "cell_type": "code",
   "execution_count": null,
   "id": "a7b97cac",
   "metadata": {},
   "outputs": [],
   "source": [
    "# here this function has two arguments num1 and num2\n",
    "# the variables defined in function with arguments"
   ]
  },
  {
   "cell_type": "code",
   "execution_count": 78,
   "id": "0087f9d1",
   "metadata": {},
   "outputs": [
    {
     "name": "stdout",
     "output_type": "stream",
     "text": [
      "the summation of 5 and 6 is 11 \n"
     ]
    }
   ],
   "source": [
    "addition(5,6)\n",
    "# num1=5\n",
    "# num2=6"
   ]
  },
  {
   "cell_type": "code",
   "execution_count": 80,
   "id": "4be1a96b",
   "metadata": {},
   "outputs": [],
   "source": [
    "def addition_with_arguments(num1,num2):\n",
    "    summation=num1+num2\n",
    "    print(\"the summation of {} and {} is {} \".format(num1,num2,summation))\n",
    "        "
   ]
  },
  {
   "cell_type": "code",
   "execution_count": 81,
   "id": "b33749c0",
   "metadata": {},
   "outputs": [
    {
     "name": "stdout",
     "output_type": "stream",
     "text": [
      "the summation of 5 and 6 is 11 \n"
     ]
    }
   ],
   "source": [
    "addition_with_arguments(5,6)"
   ]
  },
  {
   "cell_type": "code",
   "execution_count": 86,
   "id": "832bc5c7",
   "metadata": {},
   "outputs": [],
   "source": [
    "def addition_no_arguments():\n",
    "     num1=eval(input(\"enter a number\"))\n",
    "     num2=eval(input(\"enter a number\"))\n",
    "     summation=num1+num2\n",
    "     print(\"the summation of {} and {} is {} \".format(num1,num2,summation))"
   ]
  },
  {
   "cell_type": "code",
   "execution_count": 87,
   "id": "b4dae860",
   "metadata": {},
   "outputs": [
    {
     "name": "stdout",
     "output_type": "stream",
     "text": [
      "enter a number5\n",
      "enter a number7\n",
      "the summation of 5 and 7 is 12 \n"
     ]
    }
   ],
   "source": [
    "addition_no_arguments()"
   ]
  },
  {
   "cell_type": "code",
   "execution_count": 88,
   "id": "83812be7",
   "metadata": {},
   "outputs": [],
   "source": [
    "def average_no_arguments():\n",
    "    num1=eval(input(\"enter a number1=\"))\n",
    "    num2=eval(input(\"enter a number2=\"))\n",
    "    num3=eval(input(\"enter a number3=\"))\n",
    "    average=(num1+num2+num3)/3\n",
    "    print(\"the average of {}, {} and {} is {}\".format(num1,num2,num3,average))"
   ]
  },
  {
   "cell_type": "code",
   "execution_count": 89,
   "id": "f82b560b",
   "metadata": {},
   "outputs": [
    {
     "name": "stdout",
     "output_type": "stream",
     "text": [
      "enter a number1=50\n",
      "enter a number2=1\n",
      "enter a number3=92\n",
      "the average of 50, 1 and 92 is 47.666666666666664\n"
     ]
    }
   ],
   "source": [
    "average_no_arguments()"
   ]
  },
  {
   "cell_type": "code",
   "execution_count": 91,
   "id": "cb55f75b",
   "metadata": {},
   "outputs": [],
   "source": [
    "def average_with_arguments(num1,num2,num3):\n",
    "    average=(num1+num2+num3)/3\n",
    "    print(\"the average of {}, {} and {} is {}\".format(num1,num2,num3,average))"
   ]
  },
  {
   "cell_type": "code",
   "execution_count": 92,
   "id": "a3129de6",
   "metadata": {},
   "outputs": [
    {
     "name": "stdout",
     "output_type": "stream",
     "text": [
      "the average of 10, 59 and 42 is 37.0\n"
     ]
    }
   ],
   "source": [
    "average_with_arguments(10,59,42)\n",
    "# num1=10\n",
    "# num=59\n",
    "#num=42"
   ]
  },
  {
   "cell_type": "code",
   "execution_count": null,
   "id": "972563b4",
   "metadata": {},
   "outputs": [],
   "source": [
    "# 3 employees\n",
    "# ramesh\n",
    "# suresh\n",
    "# krishna"
   ]
  },
  {
   "cell_type": "code",
   "execution_count": null,
   "id": "96161fb4",
   "metadata": {},
   "outputs": [],
   "source": [
    "# name\n",
    "# no. of hours"
   ]
  },
  {
   "cell_type": "code",
   "execution_count": null,
   "id": "7f07eed5",
   "metadata": {},
   "outputs": [],
   "source": [
    "# ramesh worked for 100 hours\n",
    "# ramesh total income is 50000\n",
    "\n",
    "# suresh worked for 120 hours\n",
    "# suresh total income is 60000"
   ]
  },
  {
   "cell_type": "code",
   "execution_count": 93,
   "id": "938389cc",
   "metadata": {},
   "outputs": [],
   "source": [
    "def income(name,hours,rate_per_hour):\n",
    "    print(\"{} worked for {} hours\".format(name,hours))\n",
    "    print(\"{} total income is {}\".format(name,hours*rate_per_hour))"
   ]
  },
  {
   "cell_type": "code",
   "execution_count": 94,
   "id": "558599e9",
   "metadata": {},
   "outputs": [
    {
     "name": "stdout",
     "output_type": "stream",
     "text": [
      "suresh worked for 460 hours\n",
      "suresh total income is 92000\n"
     ]
    }
   ],
   "source": [
    "income(\"suresh\",460,200) # here name is string so we put this in quotes"
   ]
  },
  {
   "cell_type": "code",
   "execution_count": 95,
   "id": "aa9b5213",
   "metadata": {},
   "outputs": [
    {
     "ename": "NameError",
     "evalue": "name 'suresh' is not defined",
     "output_type": "error",
     "traceback": [
      "\u001b[1;31m---------------------------------------------------------------------------\u001b[0m",
      "\u001b[1;31mNameError\u001b[0m                                 Traceback (most recent call last)",
      "Input \u001b[1;32mIn [95]\u001b[0m, in \u001b[0;36m<cell line: 1>\u001b[1;34m()\u001b[0m\n\u001b[1;32m----> 1\u001b[0m income(\u001b[43msuresh\u001b[49m,\u001b[38;5;241m460\u001b[39m,\u001b[38;5;241m200\u001b[39m)\n",
      "\u001b[1;31mNameError\u001b[0m: name 'suresh' is not defined"
     ]
    }
   ],
   "source": [
    "income(suresh,460,200) # put suresh on quotes "
   ]
  },
  {
   "cell_type": "code",
   "execution_count": 96,
   "id": "14c874ca",
   "metadata": {},
   "outputs": [],
   "source": [
    "def income_no_arguments():\n",
    "    name=eval(input(\"enter the name:\")) # why are you using eval on string\n",
    "    hours=eval(input(\"enter the hours of work done:\"))\n",
    "    rate=eval(input(\"enter the rate per hour\"))\n",
    "    salary=hours*rate\n",
    "    print(\"{} worked for {} hours\".format(name,hours))\n",
    "    print(\"{} total income is {}\".format(name,hours*rate_per_hour))\n",
    "    "
   ]
  },
  {
   "cell_type": "code",
   "execution_count": 97,
   "id": "55655b8a",
   "metadata": {},
   "outputs": [
    {
     "data": {
      "text/plain": [
       "<function __main__.income_no_arguments()>"
      ]
     },
     "execution_count": 97,
     "metadata": {},
     "output_type": "execute_result"
    }
   ],
   "source": [
    "income_no_arguments"
   ]
  },
  {
   "cell_type": "code",
   "execution_count": 98,
   "id": "fb52d6e8",
   "metadata": {},
   "outputs": [
    {
     "name": "stdout",
     "output_type": "stream",
     "text": [
      "enter the name:ramesh\n"
     ]
    },
    {
     "ename": "NameError",
     "evalue": "name 'ramesh' is not defined",
     "output_type": "error",
     "traceback": [
      "\u001b[1;31m---------------------------------------------------------------------------\u001b[0m",
      "\u001b[1;31mNameError\u001b[0m                                 Traceback (most recent call last)",
      "Input \u001b[1;32mIn [98]\u001b[0m, in \u001b[0;36m<cell line: 1>\u001b[1;34m()\u001b[0m\n\u001b[1;32m----> 1\u001b[0m \u001b[43mincome_no_arguments\u001b[49m\u001b[43m(\u001b[49m\u001b[43m)\u001b[49m\n",
      "Input \u001b[1;32mIn [96]\u001b[0m, in \u001b[0;36mincome_no_arguments\u001b[1;34m()\u001b[0m\n\u001b[0;32m      1\u001b[0m \u001b[38;5;28;01mdef\u001b[39;00m \u001b[38;5;21mincome_no_arguments\u001b[39m():\n\u001b[1;32m----> 2\u001b[0m     name\u001b[38;5;241m=\u001b[39m\u001b[38;5;28;43meval\u001b[39;49m\u001b[43m(\u001b[49m\u001b[38;5;28;43minput\u001b[39;49m\u001b[43m(\u001b[49m\u001b[38;5;124;43m\"\u001b[39;49m\u001b[38;5;124;43menter the name:\u001b[39;49m\u001b[38;5;124;43m\"\u001b[39;49m\u001b[43m)\u001b[49m\u001b[43m)\u001b[49m\n\u001b[0;32m      3\u001b[0m     hours\u001b[38;5;241m=\u001b[39m\u001b[38;5;28meval\u001b[39m(\u001b[38;5;28minput\u001b[39m(\u001b[38;5;124m\"\u001b[39m\u001b[38;5;124menter the hours of work done:\u001b[39m\u001b[38;5;124m\"\u001b[39m))\n\u001b[0;32m      4\u001b[0m     rate\u001b[38;5;241m=\u001b[39m\u001b[38;5;28meval\u001b[39m(\u001b[38;5;28minput\u001b[39m(\u001b[38;5;124m\"\u001b[39m\u001b[38;5;124menter the rate per hour\u001b[39m\u001b[38;5;124m\"\u001b[39m))\n",
      "File \u001b[1;32m<string>:1\u001b[0m, in \u001b[0;36m<module>\u001b[1;34m\u001b[0m\n",
      "\u001b[1;31mNameError\u001b[0m: name 'ramesh' is not defined"
     ]
    }
   ],
   "source": [
    "income_no_arguments()"
   ]
  },
  {
   "cell_type": "code",
   "execution_count": 103,
   "id": "2da58b07",
   "metadata": {},
   "outputs": [],
   "source": [
    "def income_no_arguments():\n",
    "    name=input(\"enter the name:\") # why are you using eval on string\n",
    "    hours=eval(input(\"enter the hours of work done:\"))\n",
    "    rate=eval(input(\"enter the rate per hour\"))\n",
    "    salary=hours*rate\n",
    "    print(\"{} worked for {} hours\".format(name,hours))\n",
    "    print(\"{} total income is {}\".format(name,salary),\"rs\",sep=\"\")"
   ]
  },
  {
   "cell_type": "code",
   "execution_count": 104,
   "id": "cf14054b",
   "metadata": {},
   "outputs": [
    {
     "name": "stdout",
     "output_type": "stream",
     "text": [
      "enter the name:ramesh\n",
      "enter the hours of work done:300\n",
      "enter the rate per hour800\n",
      "ramesh worked for 300 hours\n",
      "ramesh total income is 240000rs\n"
     ]
    }
   ],
   "source": [
    "income_no_arguments()"
   ]
  },
  {
   "cell_type": "markdown",
   "id": "9ab17903",
   "metadata": {},
   "source": [
    "## bonus concept"
   ]
  },
  {
   "cell_type": "code",
   "execution_count": 105,
   "id": "3b1e6564",
   "metadata": {},
   "outputs": [
    {
     "name": "stdout",
     "output_type": "stream",
     "text": [
      "the total income is 70000\n"
     ]
    }
   ],
   "source": [
    "# you are giving bonus=10000\n",
    "def total_income(income):\n",
    "    amount=income+10000   # 10000 is fixed\n",
    "    print('the total income is',amount)\n",
    "total_income(60000)    "
   ]
  },
  {
   "cell_type": "code",
   "execution_count": 106,
   "id": "a4146475",
   "metadata": {},
   "outputs": [
    {
     "name": "stdout",
     "output_type": "stream",
     "text": [
      "the total income is 60000\n"
     ]
    }
   ],
   "source": [
    "def total_income2(income,bonus):\n",
    "    amount=income+bonus # we can change bonus here \n",
    "    print(\"the total income is\",amount)\n",
    "total_income2(40000,20000)    "
   ]
  },
  {
   "cell_type": "code",
   "execution_count": null,
   "id": "8537ea7f",
   "metadata": {},
   "outputs": [],
   "source": [
    "# you need to provide two arguments while you call function"
   ]
  },
  {
   "cell_type": "code",
   "execution_count": 107,
   "id": "8627e979",
   "metadata": {},
   "outputs": [
    {
     "name": "stdout",
     "output_type": "stream",
     "text": [
      "the total income is 60000\n"
     ]
    }
   ],
   "source": [
    "def total_income3(income,bonus=10000): # bonus is fixed with name of bonus parameters\n",
    "    ammount=income+bonus\n",
    "    print('the total income is',ammount)\n",
    "total_income3(50000)    # you no need to provide two arguments while you call function\n",
    "                        # you fixed your bonus always 10000"
   ]
  },
  {
   "cell_type": "code",
   "execution_count": 110,
   "id": "0c5ad1d2",
   "metadata": {},
   "outputs": [],
   "source": [
    "def total_income4(income,bonus=20000):\n",
    "    ammount=income+bonus\n",
    "    print(\"the total income is\",ammount)\n",
    "    # suppose we want to change bonus"
   ]
  },
  {
   "cell_type": "code",
   "execution_count": 111,
   "id": "58db7dbd",
   "metadata": {},
   "outputs": [
    {
     "name": "stdout",
     "output_type": "stream",
     "text": [
      "the total income is 80000\n"
     ]
    }
   ],
   "source": [
    "total_income4(50000,30000) # here last given bonus is consider "
   ]
  },
  {
   "cell_type": "code",
   "execution_count": 113,
   "id": "d4f961cd",
   "metadata": {},
   "outputs": [
    {
     "name": "stdout",
     "output_type": "stream",
     "text": [
      "the total income is 65000\n"
     ]
    }
   ],
   "source": [
    "total_income4(60000,5000)"
   ]
  },
  {
   "cell_type": "code",
   "execution_count": null,
   "id": "0bf9fe6d",
   "metadata": {},
   "outputs": [],
   "source": [
    "# if you provide bonus arguments while calling function the value will override\n",
    "# here bonus=20000 fixed\n",
    "# but while calling function you are providing bonus=30000\n",
    "# so now bonus will be 30000"
   ]
  },
  {
   "cell_type": "code",
   "execution_count": 114,
   "id": "a8a39e55",
   "metadata": {},
   "outputs": [],
   "source": [
    "def total_income5(income):\n",
    "    bonus=eval(input(\"how much bonus you want to provide:\"))\n",
    "    ammount=income+bonus\n",
    "    print(\"total income is :\",ammount)"
   ]
  },
  {
   "cell_type": "code",
   "execution_count": 115,
   "id": "69276f3e",
   "metadata": {},
   "outputs": [
    {
     "name": "stdout",
     "output_type": "stream",
     "text": [
      "how much bonus you want to provide:20000\n",
      "total income is : 90000\n"
     ]
    }
   ],
   "source": [
    "total_income5(70000)"
   ]
  },
  {
   "cell_type": "code",
   "execution_count": null,
   "id": "cc2978da",
   "metadata": {},
   "outputs": [],
   "source": [
    "# here income is argument\n",
    "# bonus=local variable\n",
    "# that mean variable bonus is used for only total_income5 function block"
   ]
  },
  {
   "cell_type": "code",
   "execution_count": 116,
   "id": "b98810dd",
   "metadata": {},
   "outputs": [
    {
     "ename": "NameError",
     "evalue": "name 'bonus' is not defined",
     "output_type": "error",
     "traceback": [
      "\u001b[1;31m---------------------------------------------------------------------------\u001b[0m",
      "\u001b[1;31mNameError\u001b[0m                                 Traceback (most recent call last)",
      "Input \u001b[1;32mIn [116]\u001b[0m, in \u001b[0;36m<cell line: 1>\u001b[1;34m()\u001b[0m\n\u001b[1;32m----> 1\u001b[0m \u001b[43mbonus\u001b[49m\n",
      "\u001b[1;31mNameError\u001b[0m: name 'bonus' is not defined"
     ]
    }
   ],
   "source": [
    "bonus"
   ]
  },
  {
   "cell_type": "code",
   "execution_count": 118,
   "id": "fcbd1ee0",
   "metadata": {},
   "outputs": [
    {
     "name": "stdout",
     "output_type": "stream",
     "text": [
      "the total income is 60000\n"
     ]
    }
   ],
   "source": [
    "def total_income6(income):\n",
    "    bonus1=20000\n",
    "    ammount=income+bonus1\n",
    "    print(\"the total income is\",ammount)\n",
    "total_income6(40000)    "
   ]
  },
  {
   "cell_type": "code",
   "execution_count": 119,
   "id": "b406066d",
   "metadata": {},
   "outputs": [
    {
     "ename": "NameError",
     "evalue": "name 'bonus1' is not defined",
     "output_type": "error",
     "traceback": [
      "\u001b[1;31m---------------------------------------------------------------------------\u001b[0m",
      "\u001b[1;31mNameError\u001b[0m                                 Traceback (most recent call last)",
      "Input \u001b[1;32mIn [119]\u001b[0m, in \u001b[0;36m<cell line: 1>\u001b[1;34m()\u001b[0m\n\u001b[1;32m----> 1\u001b[0m \u001b[43mbonus1\u001b[49m\n",
      "\u001b[1;31mNameError\u001b[0m: name 'bonus1' is not defined"
     ]
    }
   ],
   "source": [
    "bonus1  # why......???"
   ]
  },
  {
   "cell_type": "code",
   "execution_count": 121,
   "id": "8263f8f8",
   "metadata": {},
   "outputs": [
    {
     "name": "stdout",
     "output_type": "stream",
     "text": [
      "enter the bonus30000\n",
      "the total income is  80000\n"
     ]
    }
   ],
   "source": [
    "bonus2=eval(input(\"enter the bonus\"))    # global variable\n",
    "def total_income7(income):\n",
    "    ammount=income+bonus2\n",
    "    print(\"the total income is \",ammount)\n",
    "total_income7(50000)    "
   ]
  },
  {
   "cell_type": "code",
   "execution_count": 122,
   "id": "a0e37107",
   "metadata": {},
   "outputs": [
    {
     "data": {
      "text/plain": [
       "30000"
      ]
     },
     "execution_count": 122,
     "metadata": {},
     "output_type": "execute_result"
    }
   ],
   "source": [
    "bonus2"
   ]
  },
  {
   "cell_type": "code",
   "execution_count": null,
   "id": "64b4ec05",
   "metadata": {},
   "outputs": [],
   "source": [
    "# 10000 lines of codes\n",
    "# many function\n",
    "# global variable.....>work in all function and gives value \n",
    "# local variable.....>work only in one function and can't gives value without return"
   ]
  },
  {
   "cell_type": "code",
   "execution_count": 124,
   "id": "5d7e6967",
   "metadata": {},
   "outputs": [
    {
     "name": "stdout",
     "output_type": "stream",
     "text": [
      "the total income is  70000\n"
     ]
    }
   ],
   "source": [
    "def total_income2(income,bonus):\n",
    "    ammount=income+bonus # simply a variable coming from some math not local or global\n",
    "    print(\"the total income is \",ammount)\n",
    "total_income2(50000,20000)    \n",
    "    "
   ]
  },
  {
   "cell_type": "code",
   "execution_count": 125,
   "id": "33b47a02",
   "metadata": {},
   "outputs": [
    {
     "ename": "NameError",
     "evalue": "name 'ammount' is not defined",
     "output_type": "error",
     "traceback": [
      "\u001b[1;31m---------------------------------------------------------------------------\u001b[0m",
      "\u001b[1;31mNameError\u001b[0m                                 Traceback (most recent call last)",
      "Input \u001b[1;32mIn [125]\u001b[0m, in \u001b[0;36m<cell line: 1>\u001b[1;34m()\u001b[0m\n\u001b[1;32m----> 1\u001b[0m \u001b[43mammount\u001b[49m\n",
      "\u001b[1;31mNameError\u001b[0m: name 'ammount' is not defined"
     ]
    }
   ],
   "source": [
    "ammount  # why it is showing error \n",
    "         # bcoz it can't gives value without return"
   ]
  },
  {
   "cell_type": "code",
   "execution_count": 126,
   "id": "c9792465",
   "metadata": {},
   "outputs": [
    {
     "name": "stdout",
     "output_type": "stream",
     "text": [
      "the total income is  70000\n"
     ]
    },
    {
     "data": {
      "text/plain": [
       "70000"
      ]
     },
     "execution_count": 126,
     "metadata": {},
     "output_type": "execute_result"
    }
   ],
   "source": [
    "def total_income2(income,bonus):\n",
    "    ammount=income+bonus # simply a variable coming from some math not local or global\n",
    "    print(\"the total income is \",ammount)\n",
    "    return(ammount)  # returning ammount value\n",
    "total_income2(50000,20000)    \n",
    "    "
   ]
  },
  {
   "cell_type": "markdown",
   "id": "a79ad2ba",
   "metadata": {},
   "source": [
    "## Difference bw local and global variable"
   ]
  },
  {
   "cell_type": "markdown",
   "id": "c8aff86f",
   "metadata": {},
   "source": [
    "Global variables are those which are not defined inside any function and have a global scope whereas local variables are those which are defined inside a function and its scope is limited to that function only. In other words, we can say that local variables are accessible only inside the function in which it was initialized whereas the global variables are accessible throughout the program and inside every function. Local variables are those which are initialized inside a function and belong only to that particular function. It cannot be accessed anywhere outside the function. Let’s see how to create a local variable."
   ]
  },
  {
   "cell_type": "code",
   "execution_count": null,
   "id": "a6f2f678",
   "metadata": {},
   "outputs": [],
   "source": [
    "local variable"
   ]
  },
  {
   "cell_type": "code",
   "execution_count": 1,
   "id": "b1d64653",
   "metadata": {},
   "outputs": [
    {
     "name": "stdout",
     "output_type": "stream",
     "text": [
      "I love Geeksforgeeks\n"
     ]
    }
   ],
   "source": [
    "def f():\n",
    "  \n",
    "    # local variable\n",
    "    s = \"I love Geeksforgeeks\"\n",
    "    print(s)\n",
    "  \n",
    "  \n",
    "# Driver code\n",
    "f()"
   ]
  },
  {
   "cell_type": "markdown",
   "id": "73e7c73b",
   "metadata": {},
   "source": [
    "If we will try to use this local variable outside the function then let’s see what will happen."
   ]
  },
  {
   "cell_type": "code",
   "execution_count": 2,
   "id": "14dfab9a",
   "metadata": {},
   "outputs": [
    {
     "name": "stdout",
     "output_type": "stream",
     "text": [
      "Inside Function: I love Geeksforgeeks\n"
     ]
    },
    {
     "ename": "NameError",
     "evalue": "name 's' is not defined",
     "output_type": "error",
     "traceback": [
      "\u001b[1;31m---------------------------------------------------------------------------\u001b[0m",
      "\u001b[1;31mNameError\u001b[0m                                 Traceback (most recent call last)",
      "Input \u001b[1;32mIn [2]\u001b[0m, in \u001b[0;36m<cell line: 9>\u001b[1;34m()\u001b[0m\n\u001b[0;32m      7\u001b[0m \u001b[38;5;66;03m# Driver code\u001b[39;00m\n\u001b[0;32m      8\u001b[0m f()\n\u001b[1;32m----> 9\u001b[0m \u001b[38;5;28mprint\u001b[39m(\u001b[43ms\u001b[49m)\n",
      "\u001b[1;31mNameError\u001b[0m: name 's' is not defined"
     ]
    }
   ],
   "source": [
    "def f():\n",
    "      \n",
    "    # local variable\n",
    "    s = \"I love Geeksforgeeks\"\n",
    "    print(\"Inside Function:\", s)\n",
    "  \n",
    "# Driver code\n",
    "f()\n",
    "print(s)"
   ]
  },
  {
   "cell_type": "code",
   "execution_count": null,
   "id": "bcfc44b5",
   "metadata": {},
   "outputs": [],
   "source": [
    "global variable"
   ]
  },
  {
   "cell_type": "markdown",
   "id": "803f4aa3",
   "metadata": {},
   "source": [
    "These are those which are defined outside any function and which are accessible throughout the program, i.e., inside and outside of every function. Let’s see how to create a global variable.\n",
    "\n",
    "Example: Defining and accessing global variables"
   ]
  },
  {
   "cell_type": "code",
   "execution_count": 3,
   "id": "1e9b4db1",
   "metadata": {},
   "outputs": [
    {
     "name": "stdout",
     "output_type": "stream",
     "text": [
      "Inside Function I love Geeksforgeeks\n",
      "Outside Function I love Geeksforgeeks\n"
     ]
    }
   ],
   "source": [
    "# This function uses global variable s\n",
    "def f():\n",
    "    print(\"Inside Function\", s)\n",
    "  \n",
    "# Global scope\n",
    "s = \"I love Geeksforgeeks\"\n",
    "f()\n",
    "print(\"Outside Function\", s)"
   ]
  },
  {
   "cell_type": "markdown",
   "id": "0854a821",
   "metadata": {},
   "source": [
    "The variable s is defined as the global variable and is used both inside the function as well as outside the function.\n",
    "\n",
    "Note: As there are no locals, the value from the globals will be used but make sure both the local and the global variables should have same name."
   ]
  },
  {
   "cell_type": "code",
   "execution_count": null,
   "id": "c3ba3920",
   "metadata": {},
   "outputs": [],
   "source": []
  },
  {
   "cell_type": "code",
   "execution_count": null,
   "id": "4667b667",
   "metadata": {},
   "outputs": [],
   "source": [
    "# why two times 70000 print bcoz one time return and 2nd time total_income2"
   ]
  },
  {
   "cell_type": "code",
   "execution_count": 127,
   "id": "76ca854b",
   "metadata": {},
   "outputs": [],
   "source": [
    "def total_income2(income,bonus):\n",
    "    ammount=income+bonus # simply a variable coming from some math not local or global\n",
    "    print(\"the total income is \",ammount)\n",
    "    return(ammount)  # returning ammount value #ist"
   ]
  },
  {
   "cell_type": "code",
   "execution_count": 128,
   "id": "1d4343c7",
   "metadata": {},
   "outputs": [
    {
     "name": "stdout",
     "output_type": "stream",
     "text": [
      "the total income is  70000\n"
     ]
    }
   ],
   "source": [
    "ammount=total_income2(50000,20000) #2nd"
   ]
  },
  {
   "cell_type": "code",
   "execution_count": 129,
   "id": "5c9471ab",
   "metadata": {},
   "outputs": [
    {
     "data": {
      "text/plain": [
       "70000"
      ]
     },
     "execution_count": 129,
     "metadata": {},
     "output_type": "execute_result"
    }
   ],
   "source": [
    "ammount"
   ]
  },
  {
   "cell_type": "code",
   "execution_count": 130,
   "id": "51fb886a",
   "metadata": {},
   "outputs": [],
   "source": [
    "def total_income2(income,bonus):\n",
    "    ammount1=income+bonus # simply a variable coming from some math not local or global\n",
    "    print(\"the total income is \",ammount1)\n",
    "    return(ammount1)  # returning ammount value"
   ]
  },
  {
   "cell_type": "code",
   "execution_count": 131,
   "id": "1c403809",
   "metadata": {},
   "outputs": [
    {
     "ename": "NameError",
     "evalue": "name 'ammount1' is not defined",
     "output_type": "error",
     "traceback": [
      "\u001b[1;31m---------------------------------------------------------------------------\u001b[0m",
      "\u001b[1;31mNameError\u001b[0m                                 Traceback (most recent call last)",
      "Input \u001b[1;32mIn [131]\u001b[0m, in \u001b[0;36m<cell line: 1>\u001b[1;34m()\u001b[0m\n\u001b[1;32m----> 1\u001b[0m \u001b[43mammount1\u001b[49m\n",
      "\u001b[1;31mNameError\u001b[0m: name 'ammount1' is not defined"
     ]
    }
   ],
   "source": [
    "ammount1  # we have store ammount1 first "
   ]
  },
  {
   "cell_type": "code",
   "execution_count": null,
   "id": "e5ddcc3a",
   "metadata": {},
   "outputs": [],
   "source": [
    "return(ammount1)  # ist step\n",
    "value=total_income2(50000,20000) # 2nd step store ammount1 in any variable\n",
    "# the function call return a variable ammount1\n",
    "# and we are storing the ammount1 in a variable value"
   ]
  },
  {
   "cell_type": "code",
   "execution_count": 133,
   "id": "1e0cbaed",
   "metadata": {},
   "outputs": [
    {
     "name": "stdout",
     "output_type": "stream",
     "text": [
      "the total income is  70000\n"
     ]
    }
   ],
   "source": [
    "value=total_income2(50000,20000)"
   ]
  },
  {
   "cell_type": "code",
   "execution_count": 134,
   "id": "f525efa4",
   "metadata": {},
   "outputs": [
    {
     "data": {
      "text/plain": [
       "70000"
      ]
     },
     "execution_count": 134,
     "metadata": {},
     "output_type": "execute_result"
    }
   ],
   "source": [
    "value"
   ]
  },
  {
   "cell_type": "code",
   "execution_count": 135,
   "id": "a4b119c7",
   "metadata": {},
   "outputs": [],
   "source": [
    "def total_income(income,bonus3=20000):\n",
    "    ammount2=income+bonus3\n",
    "    print(\"total income is\",ammount2)\n",
    "    return(ammount2)"
   ]
  },
  {
   "cell_type": "code",
   "execution_count": 136,
   "id": "80220e2d",
   "metadata": {},
   "outputs": [
    {
     "ename": "NameError",
     "evalue": "name 'bonus3' is not defined",
     "output_type": "error",
     "traceback": [
      "\u001b[1;31m---------------------------------------------------------------------------\u001b[0m",
      "\u001b[1;31mNameError\u001b[0m                                 Traceback (most recent call last)",
      "Input \u001b[1;32mIn [136]\u001b[0m, in \u001b[0;36m<cell line: 1>\u001b[1;34m()\u001b[0m\n\u001b[1;32m----> 1\u001b[0m \u001b[43mbonus3\u001b[49m\n",
      "\u001b[1;31mNameError\u001b[0m: name 'bonus3' is not defined"
     ]
    }
   ],
   "source": [
    "bonus3 # first store the ammount2 in a variable "
   ]
  },
  {
   "cell_type": "code",
   "execution_count": null,
   "id": "3064f233",
   "metadata": {},
   "outputs": [],
   "source": [
    "# only global variable will come\n",
    "# for local or simply a variable from math\n",
    "# we need to first store return in a variable\n"
   ]
  },
  {
   "cell_type": "code",
   "execution_count": 137,
   "id": "035d1bb6",
   "metadata": {},
   "outputs": [],
   "source": [
    "a=total_income2"
   ]
  },
  {
   "cell_type": "code",
   "execution_count": 138,
   "id": "f666a40a",
   "metadata": {},
   "outputs": [
    {
     "data": {
      "text/plain": [
       "<function __main__.total_income2(income, bonus)>"
      ]
     },
     "execution_count": 138,
     "metadata": {},
     "output_type": "execute_result"
    }
   ],
   "source": [
    "a"
   ]
  },
  {
   "cell_type": "code",
   "execution_count": 139,
   "id": "cb78a0eb",
   "metadata": {},
   "outputs": [
    {
     "name": "stdout",
     "output_type": "stream",
     "text": [
      "total income is 70000\n"
     ]
    }
   ],
   "source": [
    "a=total_income(50000,20000)"
   ]
  },
  {
   "cell_type": "code",
   "execution_count": 140,
   "id": "9a06dda7",
   "metadata": {},
   "outputs": [
    {
     "data": {
      "text/plain": [
       "70000"
      ]
     },
     "execution_count": 140,
     "metadata": {},
     "output_type": "execute_result"
    }
   ],
   "source": [
    "a"
   ]
  },
  {
   "cell_type": "code",
   "execution_count": 142,
   "id": "ca4119a4",
   "metadata": {},
   "outputs": [
    {
     "name": "stdout",
     "output_type": "stream",
     "text": [
      "total income is 70000\n"
     ]
    }
   ],
   "source": [
    "b=total_income(50000,20000)\n"
   ]
  },
  {
   "cell_type": "code",
   "execution_count": 143,
   "id": "aed29ada",
   "metadata": {},
   "outputs": [
    {
     "data": {
      "text/plain": [
       "70000"
      ]
     },
     "execution_count": 143,
     "metadata": {},
     "output_type": "execute_result"
    }
   ],
   "source": [
    "b"
   ]
  },
  {
   "cell_type": "code",
   "execution_count": 148,
   "id": "7bb74101",
   "metadata": {},
   "outputs": [
    {
     "name": "stdout",
     "output_type": "stream",
     "text": [
      "total income is 70000\n"
     ]
    },
    {
     "ename": "TypeError",
     "evalue": "cannot unpack non-iterable int object",
     "output_type": "error",
     "traceback": [
      "\u001b[1;31m---------------------------------------------------------------------------\u001b[0m",
      "\u001b[1;31mTypeError\u001b[0m                                 Traceback (most recent call last)",
      "Input \u001b[1;32mIn [148]\u001b[0m, in \u001b[0;36m<cell line: 1>\u001b[1;34m()\u001b[0m\n\u001b[1;32m----> 1\u001b[0m value,bonus\u001b[38;5;241m=\u001b[39mtotal_income(\u001b[38;5;241m50000\u001b[39m,\u001b[38;5;241m20000\u001b[39m)\n",
      "\u001b[1;31mTypeError\u001b[0m: cannot unpack non-iterable int object"
     ]
    }
   ],
   "source": [
    "value,bonus=total_income(50000,20000)\n",
    "# function call return a variable amount2\n",
    "# and we are storing the ammount in a variable value\n",
    "# ammount2 is stored in value variable\n",
    "# bonus3 is stored in bonus"
   ]
  },
  {
   "cell_type": "code",
   "execution_count": 146,
   "id": "0de68421",
   "metadata": {},
   "outputs": [
    {
     "data": {
      "text/plain": [
       "70000"
      ]
     },
     "execution_count": 146,
     "metadata": {},
     "output_type": "execute_result"
    }
   ],
   "source": [
    "value"
   ]
  },
  {
   "cell_type": "code",
   "execution_count": 149,
   "id": "e2360f5a",
   "metadata": {},
   "outputs": [
    {
     "ename": "NameError",
     "evalue": "name 'bonus' is not defined",
     "output_type": "error",
     "traceback": [
      "\u001b[1;31m---------------------------------------------------------------------------\u001b[0m",
      "\u001b[1;31mNameError\u001b[0m                                 Traceback (most recent call last)",
      "Input \u001b[1;32mIn [149]\u001b[0m, in \u001b[0;36m<cell line: 1>\u001b[1;34m()\u001b[0m\n\u001b[1;32m----> 1\u001b[0m \u001b[43mbonus\u001b[49m\n",
      "\u001b[1;31mNameError\u001b[0m: name 'bonus' is not defined"
     ]
    }
   ],
   "source": [
    "bonus"
   ]
  },
  {
   "cell_type": "code",
   "execution_count": null,
   "id": "1b61fe88",
   "metadata": {},
   "outputs": [],
   "source": [
    "# don't clear lets start with a new variable"
   ]
  },
  {
   "cell_type": "code",
   "execution_count": 150,
   "id": "f044f164",
   "metadata": {},
   "outputs": [],
   "source": [
    "def total_income2(income,bonus):\n",
    "    ammount2=income+bonus\n",
    "    print(\"total income is \",ammount2)\n",
    "    return(ammount2)   #ist"
   ]
  },
  {
   "cell_type": "code",
   "execution_count": 151,
   "id": "374a4271",
   "metadata": {},
   "outputs": [
    {
     "ename": "NameError",
     "evalue": "name 'ammount2' is not defined",
     "output_type": "error",
     "traceback": [
      "\u001b[1;31m---------------------------------------------------------------------------\u001b[0m",
      "\u001b[1;31mNameError\u001b[0m                                 Traceback (most recent call last)",
      "Input \u001b[1;32mIn [151]\u001b[0m, in \u001b[0;36m<cell line: 1>\u001b[1;34m()\u001b[0m\n\u001b[1;32m----> 1\u001b[0m \u001b[43mammount2\u001b[49m\n",
      "\u001b[1;31mNameError\u001b[0m: name 'ammount2' is not defined"
     ]
    }
   ],
   "source": [
    "ammount2"
   ]
  },
  {
   "cell_type": "code",
   "execution_count": 153,
   "id": "74851cc3",
   "metadata": {},
   "outputs": [
    {
     "name": "stdout",
     "output_type": "stream",
     "text": [
      "total income is  70000\n"
     ]
    }
   ],
   "source": [
    "value_ammount=total_income2(50000,20000)  #2nd"
   ]
  },
  {
   "cell_type": "code",
   "execution_count": 154,
   "id": "9b0ea24e",
   "metadata": {},
   "outputs": [
    {
     "data": {
      "text/plain": [
       "70000"
      ]
     },
     "execution_count": 154,
     "metadata": {},
     "output_type": "execute_result"
    }
   ],
   "source": [
    "value_ammount"
   ]
  },
  {
   "cell_type": "code",
   "execution_count": null,
   "id": "51acd278",
   "metadata": {},
   "outputs": [],
   "source": [
    "# total_income2 function returning ammount2 value\n",
    "# and that value stored in value_ammount\n",
    "# value_ammount is 70000"
   ]
  },
  {
   "cell_type": "code",
   "execution_count": 1,
   "id": "5fc08a44",
   "metadata": {},
   "outputs": [],
   "source": [
    "def sum_avg(num1,num2):\n",
    "    s1=num1+num2\n",
    "    a1=s1/2\n",
    "    print(\"sum is :\",s1)\n",
    "    print(\"avg is :\",a1)"
   ]
  },
  {
   "cell_type": "code",
   "execution_count": 2,
   "id": "4b6be3d8",
   "metadata": {},
   "outputs": [
    {
     "name": "stdout",
     "output_type": "stream",
     "text": [
      "sum is : 50\n",
      "avg is : 25.0\n"
     ]
    }
   ],
   "source": [
    "sum_avg(20,30)"
   ]
  },
  {
   "cell_type": "code",
   "execution_count": 3,
   "id": "3bbaa2cc",
   "metadata": {},
   "outputs": [],
   "source": [
    "def sum_avg(num1,num2):\n",
    "    s1=num1+num2\n",
    "    a1=s1/2\n",
    "    print(\"sum is :\",s1)\n",
    "    print(\"avg is :\",a1)\n",
    "    return(s1,a1)"
   ]
  },
  {
   "cell_type": "code",
   "execution_count": 5,
   "id": "02f8de5d",
   "metadata": {},
   "outputs": [
    {
     "name": "stdout",
     "output_type": "stream",
     "text": [
      "sum is : 50\n",
      "avg is : 25.0\n"
     ]
    }
   ],
   "source": [
    "summation,average=sum_avg(20,30)\n",
    "# summation value is s1\n",
    "# a1 is stored in average"
   ]
  },
  {
   "cell_type": "code",
   "execution_count": 6,
   "id": "f7c57c72",
   "metadata": {},
   "outputs": [
    {
     "data": {
      "text/plain": [
       "50"
      ]
     },
     "execution_count": 6,
     "metadata": {},
     "output_type": "execute_result"
    }
   ],
   "source": [
    "summation"
   ]
  },
  {
   "cell_type": "code",
   "execution_count": 7,
   "id": "7e0d8d40",
   "metadata": {},
   "outputs": [
    {
     "data": {
      "text/plain": [
       "25.0"
      ]
     },
     "execution_count": 7,
     "metadata": {},
     "output_type": "execute_result"
    }
   ],
   "source": [
    "average"
   ]
  },
  {
   "cell_type": "code",
   "execution_count": 8,
   "id": "3f17c967",
   "metadata": {},
   "outputs": [],
   "source": [
    "def sum_avg(num1,num2):\n",
    "    s1=num1+num2\n",
    "    a1=s1/2\n",
    "    print(\"sum is :\",s1)\n",
    "    print(\"avg is :\",a1)\n",
    "    return(s1,a1)"
   ]
  },
  {
   "cell_type": "code",
   "execution_count": 9,
   "id": "1ade4716",
   "metadata": {},
   "outputs": [
    {
     "name": "stdout",
     "output_type": "stream",
     "text": [
      "sum is : 50\n",
      "avg is : 25.0\n"
     ]
    }
   ],
   "source": [
    "summation=sum_avg(20,30)"
   ]
  },
  {
   "cell_type": "code",
   "execution_count": 10,
   "id": "fa8b017b",
   "metadata": {},
   "outputs": [
    {
     "data": {
      "text/plain": [
       "(50, 25.0)"
      ]
     },
     "execution_count": 10,
     "metadata": {},
     "output_type": "execute_result"
    }
   ],
   "source": [
    "summation"
   ]
  },
  {
   "cell_type": "code",
   "execution_count": null,
   "id": "26fd27d8",
   "metadata": {},
   "outputs": [],
   "source": [
    "# bonus concept not clear"
   ]
  },
  {
   "cell_type": "code",
   "execution_count": 12,
   "id": "c7ca448e",
   "metadata": {},
   "outputs": [
    {
     "name": "stdout",
     "output_type": "stream",
     "text": [
      "enter a number:2\n",
      "it is a even number\n"
     ]
    }
   ],
   "source": [
    "# even-odd program\n",
    "num=eval(input(\"enter a number:\"))\n",
    "if num%2==0:\n",
    "    print(\"it is a even number\")\n",
    "else:\n",
    "    print(\"it is a odd number\")"
   ]
  },
  {
   "cell_type": "code",
   "execution_count": 13,
   "id": "7ad24555",
   "metadata": {},
   "outputs": [
    {
     "name": "stdout",
     "output_type": "stream",
     "text": [
      "enter a number:6\n",
      "it is a even number\n"
     ]
    }
   ],
   "source": [
    "def even_odd_no_arguments():\n",
    "    num=eval(input(\"enter a number:\"))\n",
    "    if num%2==0:\n",
    "        print(\"it is a even number\")\n",
    "    else:\n",
    "        print(\"it is a odd number\")\n",
    "even_odd_no_arguments()        "
   ]
  },
  {
   "cell_type": "code",
   "execution_count": 14,
   "id": "0ea396a5",
   "metadata": {},
   "outputs": [
    {
     "name": "stdout",
     "output_type": "stream",
     "text": [
      "it is a even number\n"
     ]
    }
   ],
   "source": [
    "def even_odd_with_arguments(num):\n",
    "    if num%2==0:\n",
    "        print(\"it is a even number\")\n",
    "    else:\n",
    "        print(\"it is a odd number\")\n",
    "even_odd_with_arguments(8)        "
   ]
  },
  {
   "cell_type": "code",
   "execution_count": 6,
   "id": "3aaa725e",
   "metadata": {},
   "outputs": [],
   "source": [
    "from random import randint\n",
    "def even_odd():\n",
    "    a=randint(1,20)\n",
    "    \n",
    "    if a%2==0:\n",
    "        print(\"it is even number\")\n",
    "    else:\n",
    "        print(\"it is odd number\")"
   ]
  },
  {
   "cell_type": "code",
   "execution_count": 8,
   "id": "93593df9",
   "metadata": {},
   "outputs": [
    {
     "name": "stdout",
     "output_type": "stream",
     "text": [
      "it is even number\n"
     ]
    }
   ],
   "source": [
    "even_odd()"
   ]
  },
  {
   "cell_type": "markdown",
   "id": "c33724fa",
   "metadata": {},
   "source": [
    "## function in function"
   ]
  },
  {
   "cell_type": "code",
   "execution_count": 1,
   "id": "23f9e72b",
   "metadata": {},
   "outputs": [],
   "source": [
    "def good():\n",
    "    print(\"good morning\")"
   ]
  },
  {
   "cell_type": "code",
   "execution_count": 3,
   "id": "5c0fd9c0",
   "metadata": {},
   "outputs": [],
   "source": [
    "def greet():\n",
    "    good()"
   ]
  },
  {
   "cell_type": "code",
   "execution_count": 4,
   "id": "9cc3cf60",
   "metadata": {},
   "outputs": [
    {
     "name": "stdout",
     "output_type": "stream",
     "text": [
      "good morning\n"
     ]
    }
   ],
   "source": [
    "greet()"
   ]
  },
  {
   "cell_type": "code",
   "execution_count": 5,
   "id": "0c92c3b1",
   "metadata": {},
   "outputs": [],
   "source": [
    "def greet():   # inside greet function we are calling good function\n",
    "    print(\"hello\")\n",
    "    good()"
   ]
  },
  {
   "cell_type": "code",
   "execution_count": 6,
   "id": "cd06f15c",
   "metadata": {},
   "outputs": [
    {
     "name": "stdout",
     "output_type": "stream",
     "text": [
      "hello\n",
      "good morning\n"
     ]
    }
   ],
   "source": [
    "greet()"
   ]
  },
  {
   "cell_type": "code",
   "execution_count": null,
   "id": "3af98ad5",
   "metadata": {},
   "outputs": [],
   "source": [
    "function,loop, if,else our output not shown as out[]:"
   ]
  }
 ],
 "metadata": {
  "kernelspec": {
   "display_name": "Python 3 (ipykernel)",
   "language": "python",
   "name": "python3"
  },
  "language_info": {
   "codemirror_mode": {
    "name": "ipython",
    "version": 3
   },
   "file_extension": ".py",
   "mimetype": "text/x-python",
   "name": "python",
   "nbconvert_exporter": "python",
   "pygments_lexer": "ipython3",
   "version": "3.9.12"
  }
 },
 "nbformat": 4,
 "nbformat_minor": 5
}
