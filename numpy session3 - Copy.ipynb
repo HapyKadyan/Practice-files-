{
 "cells": [
  {
   "cell_type": "markdown",
   "id": "5a0ad8b5",
   "metadata": {},
   "source": [
    "**matrix multiplication**"
   ]
  },
  {
   "cell_type": "code",
   "execution_count": 4,
   "id": "dd2a3ac6",
   "metadata": {},
   "outputs": [],
   "source": [
    "arr1=np.array([[1,2,3],[5,6,7]])\n",
    "arr2=np.array([[5,0,2],[0,1,2]])"
   ]
  },
  {
   "cell_type": "code",
   "execution_count": 2,
   "id": "34e97554",
   "metadata": {},
   "outputs": [],
   "source": [
    "import numpy as np"
   ]
  },
  {
   "cell_type": "code",
   "execution_count": 6,
   "id": "12514ffa",
   "metadata": {},
   "outputs": [
    {
     "data": {
      "text/plain": [
       "array([[1, 2, 3],\n",
       "       [5, 6, 7]])"
      ]
     },
     "execution_count": 6,
     "metadata": {},
     "output_type": "execute_result"
    }
   ],
   "source": [
    "arr1"
   ]
  },
  {
   "cell_type": "code",
   "execution_count": 7,
   "id": "15dbabc8",
   "metadata": {},
   "outputs": [
    {
     "data": {
      "text/plain": [
       "array([[5, 0, 2],\n",
       "       [0, 1, 2]])"
      ]
     },
     "execution_count": 7,
     "metadata": {},
     "output_type": "execute_result"
    }
   ],
   "source": [
    "arr2"
   ]
  },
  {
   "cell_type": "code",
   "execution_count": 8,
   "id": "0cd3a422",
   "metadata": {},
   "outputs": [
    {
     "data": {
      "text/plain": [
       "(2, 3)"
      ]
     },
     "execution_count": 8,
     "metadata": {},
     "output_type": "execute_result"
    }
   ],
   "source": [
    "arr1.shape"
   ]
  },
  {
   "cell_type": "code",
   "execution_count": 9,
   "id": "53c4521e",
   "metadata": {},
   "outputs": [
    {
     "data": {
      "text/plain": [
       "(2, 3)"
      ]
     },
     "execution_count": 9,
     "metadata": {},
     "output_type": "execute_result"
    }
   ],
   "source": [
    "arr2.shape"
   ]
  },
  {
   "cell_type": "code",
   "execution_count": 10,
   "id": "b683b669",
   "metadata": {},
   "outputs": [
    {
     "data": {
      "text/plain": [
       "array([[ 5,  0,  6],\n",
       "       [ 0,  6, 14]])"
      ]
     },
     "execution_count": 10,
     "metadata": {},
     "output_type": "execute_result"
    }
   ],
   "source": [
    "arr1*arr2"
   ]
  },
  {
   "cell_type": "code",
   "execution_count": 11,
   "id": "e68c2465",
   "metadata": {},
   "outputs": [
    {
     "data": {
      "text/plain": [
       "(2, 3)"
      ]
     },
     "execution_count": 11,
     "metadata": {},
     "output_type": "execute_result"
    }
   ],
   "source": [
    "m1=np.array([[1,2,0],[5,0,1]])\n",
    "m1.shape"
   ]
  },
  {
   "cell_type": "code",
   "execution_count": 12,
   "id": "6bc67d3e",
   "metadata": {},
   "outputs": [
    {
     "data": {
      "text/plain": [
       "(3, 2)"
      ]
     },
     "execution_count": 12,
     "metadata": {},
     "output_type": "execute_result"
    }
   ],
   "source": [
    "m2=np.array([[1,3],[4,1],[5,9]])\n",
    "m2.shape"
   ]
  },
  {
   "cell_type": "code",
   "execution_count": 13,
   "id": "378c5c7e",
   "metadata": {},
   "outputs": [
    {
     "data": {
      "text/plain": [
       "array([[ 9,  5],\n",
       "       [10, 24]])"
      ]
     },
     "execution_count": 13,
     "metadata": {},
     "output_type": "execute_result"
    }
   ],
   "source": [
    "m1.dot(m2)"
   ]
  },
  {
   "cell_type": "markdown",
   "id": "e33f6d35",
   "metadata": {},
   "source": [
    "**np.square()**"
   ]
  },
  {
   "cell_type": "code",
   "execution_count": 15,
   "id": "627c8a0b",
   "metadata": {},
   "outputs": [
    {
     "data": {
      "text/plain": [
       "array([ 100,  400,  900, 1600], dtype=int32)"
      ]
     },
     "execution_count": 15,
     "metadata": {},
     "output_type": "execute_result"
    }
   ],
   "source": [
    "arr1=np.array([10,20,30,40])\n",
    "arr2=np.square(arr1)\n",
    "arr2"
   ]
  },
  {
   "cell_type": "code",
   "execution_count": 16,
   "id": "72cbbaee",
   "metadata": {},
   "outputs": [
    {
     "data": {
      "text/plain": [
       "array([3.16227766, 4.47213595, 5.47722558, 6.32455532])"
      ]
     },
     "execution_count": 16,
     "metadata": {},
     "output_type": "execute_result"
    }
   ],
   "source": [
    "np.sqrt(arr1)"
   ]
  },
  {
   "cell_type": "code",
   "execution_count": 17,
   "id": "23bd4d6b",
   "metadata": {},
   "outputs": [
    {
     "data": {
      "text/plain": [
       "array([ 100,  400,  900, 1600], dtype=int32)"
      ]
     },
     "execution_count": 17,
     "metadata": {},
     "output_type": "execute_result"
    }
   ],
   "source": [
    "np.power(arr1,2)"
   ]
  },
  {
   "cell_type": "code",
   "execution_count": 18,
   "id": "05d1f17e",
   "metadata": {},
   "outputs": [
    {
     "data": {
      "text/plain": [
       "array([ 1000,  8000, 27000, 64000], dtype=int32)"
      ]
     },
     "execution_count": 18,
     "metadata": {},
     "output_type": "execute_result"
    }
   ],
   "source": [
    "np.power(arr1,3)"
   ]
  },
  {
   "cell_type": "code",
   "execution_count": 19,
   "id": "05df2430",
   "metadata": {},
   "outputs": [
    {
     "data": {
      "text/plain": [
       "array([  100000000,  -169803776, -1029996288,  -520093696], dtype=int32)"
      ]
     },
     "execution_count": 19,
     "metadata": {},
     "output_type": "execute_result"
    }
   ],
   "source": [
    "np.power(arr2,4)"
   ]
  },
  {
   "cell_type": "code",
   "execution_count": 20,
   "id": "6f7a7ebe",
   "metadata": {},
   "outputs": [
    {
     "data": {
      "text/plain": [
       "array([10., 20., 30., 40.])"
      ]
     },
     "execution_count": 20,
     "metadata": {},
     "output_type": "execute_result"
    }
   ],
   "source": [
    "np.power(arr2,0.5)"
   ]
  },
  {
   "cell_type": "markdown",
   "id": "eaf7a1f5",
   "metadata": {},
   "source": [
    "**np.transpose**"
   ]
  },
  {
   "cell_type": "code",
   "execution_count": 21,
   "id": "f37e3815",
   "metadata": {},
   "outputs": [
    {
     "data": {
      "text/plain": [
       "(2, 3)"
      ]
     },
     "execution_count": 21,
     "metadata": {},
     "output_type": "execute_result"
    }
   ],
   "source": [
    "m1=np.array([(1,2,3),(2,4,1)])\n",
    "m1.shape"
   ]
  },
  {
   "cell_type": "code",
   "execution_count": 23,
   "id": "4cca9063",
   "metadata": {},
   "outputs": [
    {
     "data": {
      "text/plain": [
       "(3, 2)"
      ]
     },
     "execution_count": 23,
     "metadata": {},
     "output_type": "execute_result"
    }
   ],
   "source": [
    "np.transpose(m1)"
   ]
  },
  {
   "cell_type": "code",
   "execution_count": 24,
   "id": "ed2b79db",
   "metadata": {},
   "outputs": [
    {
     "data": {
      "text/plain": [
       "(3, 2)"
      ]
     },
     "execution_count": 24,
     "metadata": {},
     "output_type": "execute_result"
    }
   ],
   "source": [
    "np.transpose(m1).shape"
   ]
  },
  {
   "cell_type": "markdown",
   "id": "98c1b0a1",
   "metadata": {},
   "source": [
    "**np.concatenate**"
   ]
  },
  {
   "cell_type": "code",
   "execution_count": 25,
   "id": "3fc949c4",
   "metadata": {},
   "outputs": [
    {
     "ename": "TypeError",
     "evalue": "only integer scalar arrays can be converted to a scalar index",
     "output_type": "error",
     "traceback": [
      "\u001b[1;31m---------------------------------------------------------------------------\u001b[0m",
      "\u001b[1;31mTypeError\u001b[0m                                 Traceback (most recent call last)",
      "Input \u001b[1;32mIn [25]\u001b[0m, in \u001b[0;36m<cell line: 1>\u001b[1;34m()\u001b[0m\n\u001b[1;32m----> 1\u001b[0m new_array\u001b[38;5;241m=\u001b[39m\u001b[43mnp\u001b[49m\u001b[38;5;241;43m.\u001b[39;49m\u001b[43mconcatenate\u001b[49m\u001b[43m(\u001b[49m\u001b[43marr1\u001b[49m\u001b[43m,\u001b[49m\u001b[43marr2\u001b[49m\u001b[43m)\u001b[49m\n",
      "File \u001b[1;32m<__array_function__ internals>:5\u001b[0m, in \u001b[0;36mconcatenate\u001b[1;34m(*args, **kwargs)\u001b[0m\n",
      "\u001b[1;31mTypeError\u001b[0m: only integer scalar arrays can be converted to a scalar index"
     ]
    }
   ],
   "source": [
    "new_array=np.concatenate(arr1,arr2)"
   ]
  },
  {
   "cell_type": "code",
   "execution_count": 27,
   "id": "2eeab7c9",
   "metadata": {},
   "outputs": [
    {
     "data": {
      "text/plain": [
       "array([  10,   20,   30,   40,  100,  400,  900, 1600])"
      ]
     },
     "execution_count": 27,
     "metadata": {},
     "output_type": "execute_result"
    }
   ],
   "source": [
    "new_array=np.concatenate([arr1,arr2])\n",
    "new_array # 1d"
   ]
  },
  {
   "cell_type": "code",
   "execution_count": 32,
   "id": "8ff3cbae",
   "metadata": {},
   "outputs": [],
   "source": [
    "# 2d \n",
    "names=np.array([(\"a\",1),(\"b\",2),(\"c\",3)])\n",
    "city=np.array([(\"hyd\",\"040\"),(\"bengaluru\",\"080\")])"
   ]
  },
  {
   "cell_type": "code",
   "execution_count": 33,
   "id": "49ae91fe",
   "metadata": {},
   "outputs": [
    {
     "data": {
      "text/plain": [
       "array([['a', '1'],\n",
       "       ['b', '2'],\n",
       "       ['c', '3']], dtype='<U11')"
      ]
     },
     "execution_count": 33,
     "metadata": {},
     "output_type": "execute_result"
    }
   ],
   "source": [
    "names"
   ]
  },
  {
   "cell_type": "code",
   "execution_count": 34,
   "id": "da334e81",
   "metadata": {},
   "outputs": [
    {
     "data": {
      "text/plain": [
       "array([['hyd', '040'],\n",
       "       ['bengaluru', '080']], dtype='<U9')"
      ]
     },
     "execution_count": 34,
     "metadata": {},
     "output_type": "execute_result"
    }
   ],
   "source": [
    "city"
   ]
  },
  {
   "cell_type": "code",
   "execution_count": 35,
   "id": "c272fd27",
   "metadata": {},
   "outputs": [
    {
     "data": {
      "text/plain": [
       "array([['a', '1'],\n",
       "       ['b', '2'],\n",
       "       ['c', '3'],\n",
       "       ['hyd', '040'],\n",
       "       ['bengaluru', '080']], dtype='<U11')"
      ]
     },
     "execution_count": 35,
     "metadata": {},
     "output_type": "execute_result"
    }
   ],
   "source": [
    "np.concatenate([names,city]) # axis=0 default # rows wise"
   ]
  },
  {
   "cell_type": "code",
   "execution_count": 36,
   "id": "a12660c4",
   "metadata": {},
   "outputs": [
    {
     "ename": "ValueError",
     "evalue": "all the input array dimensions for the concatenation axis must match exactly, but along dimension 0, the array at index 0 has size 3 and the array at index 1 has size 2",
     "output_type": "error",
     "traceback": [
      "\u001b[1;31m---------------------------------------------------------------------------\u001b[0m",
      "\u001b[1;31mValueError\u001b[0m                                Traceback (most recent call last)",
      "Input \u001b[1;32mIn [36]\u001b[0m, in \u001b[0;36m<cell line: 1>\u001b[1;34m()\u001b[0m\n\u001b[1;32m----> 1\u001b[0m \u001b[43mnp\u001b[49m\u001b[38;5;241;43m.\u001b[39;49m\u001b[43mconcatenate\u001b[49m\u001b[43m(\u001b[49m\u001b[43m[\u001b[49m\u001b[43mnames\u001b[49m\u001b[43m,\u001b[49m\u001b[43mcity\u001b[49m\u001b[43m]\u001b[49m\u001b[43m,\u001b[49m\u001b[43maxis\u001b[49m\u001b[38;5;241;43m=\u001b[39;49m\u001b[38;5;241;43m1\u001b[39;49m\u001b[43m)\u001b[49m\n",
      "File \u001b[1;32m<__array_function__ internals>:5\u001b[0m, in \u001b[0;36mconcatenate\u001b[1;34m(*args, **kwargs)\u001b[0m\n",
      "\u001b[1;31mValueError\u001b[0m: all the input array dimensions for the concatenation axis must match exactly, but along dimension 0, the array at index 0 has size 3 and the array at index 1 has size 2"
     ]
    }
   ],
   "source": [
    "np.concatenate([names,city],axis=1)"
   ]
  },
  {
   "cell_type": "code",
   "execution_count": 37,
   "id": "741e8511",
   "metadata": {},
   "outputs": [
    {
     "data": {
      "text/plain": [
       "array([['a', '1', 'hyd', '040'],\n",
       "       ['b', '2', 'bengaluru', '080'],\n",
       "       ['c', '3', 'chennai', '098']], dtype='<U11')"
      ]
     },
     "execution_count": 37,
     "metadata": {},
     "output_type": "execute_result"
    }
   ],
   "source": [
    "names=np.array([(\"a\",1),(\"b\",2),(\"c\",3)])\n",
    "city=np.array([(\"hyd\",\"040\"),(\"bengaluru\",\"080\"),(\"chennai\",\"098\")])\n",
    "np.concatenate([names,city],axis=1) # axis=1 column wise"
   ]
  },
  {
   "cell_type": "markdown",
   "id": "89fb632f",
   "metadata": {},
   "source": [
    "**np.flatten**"
   ]
  },
  {
   "cell_type": "markdown",
   "id": "11e6f730",
   "metadata": {},
   "source": [
    "- any shape of array converts into single dimension"
   ]
  },
  {
   "cell_type": "code",
   "execution_count": 38,
   "id": "5fb99759",
   "metadata": {},
   "outputs": [
    {
     "data": {
      "text/plain": [
       "array([['a', '1'],\n",
       "       ['b', '2'],\n",
       "       ['c', '3']], dtype='<U11')"
      ]
     },
     "execution_count": 38,
     "metadata": {},
     "output_type": "execute_result"
    }
   ],
   "source": [
    "names"
   ]
  },
  {
   "cell_type": "code",
   "execution_count": 42,
   "id": "8167cce9",
   "metadata": {},
   "outputs": [],
   "source": [
    "array_names=np.ndarray.flatten(names)\n",
    "# 1d"
   ]
  },
  {
   "cell_type": "markdown",
   "id": "d7829866",
   "metadata": {},
   "source": [
    "**iteration**"
   ]
  },
  {
   "cell_type": "code",
   "execution_count": 43,
   "id": "18c769f9",
   "metadata": {},
   "outputs": [
    {
     "data": {
      "text/plain": [
       "array(['a', '1', 'b', '2', 'c', '3'], dtype='<U11')"
      ]
     },
     "execution_count": 43,
     "metadata": {},
     "output_type": "execute_result"
    }
   ],
   "source": [
    "array_names"
   ]
  },
  {
   "cell_type": "code",
   "execution_count": 44,
   "id": "19332e91",
   "metadata": {},
   "outputs": [
    {
     "data": {
      "text/plain": [
       "['a', '1', 'b', '2', 'c', '3']"
      ]
     },
     "execution_count": 44,
     "metadata": {},
     "output_type": "execute_result"
    }
   ],
   "source": [
    "list1=[i for i in array_names]\n",
    "list1\n",
    "\n",
    "# iterating array elements using loop"
   ]
  },
  {
   "cell_type": "code",
   "execution_count": 45,
   "id": "29521657",
   "metadata": {},
   "outputs": [
    {
     "data": {
      "text/plain": [
       "['a', '1', 'b', '2', 'c', '3']"
      ]
     },
     "execution_count": 45,
     "metadata": {},
     "output_type": "execute_result"
    }
   ],
   "source": [
    "array_names.tolist()  # converting array into list"
   ]
  },
  {
   "cell_type": "code",
   "execution_count": null,
   "id": "1014362c",
   "metadata": {},
   "outputs": [],
   "source": []
  },
  {
   "cell_type": "markdown",
   "id": "8e0d4a9d",
   "metadata": {},
   "source": [
    "- numpy operation are faster than list"
   ]
  },
  {
   "cell_type": "code",
   "execution_count": 48,
   "id": "65591ea3",
   "metadata": {},
   "outputs": [
    {
     "name": "stdout",
     "output_type": "stream",
     "text": [
      "time taken in seconds: 5.959591388702393\n"
     ]
    }
   ],
   "source": [
    "# list operation\n",
    "import time\n",
    "size=10000000\n",
    "# create a list\n",
    "list1=range(size) # [0,1,2,3,4,,,,,,,,,1000000]\n",
    "list2=range(size) # [0,1,2,3,4,5,,,,,1000000]\n",
    "start_time=time.time()\n",
    "list3=[(a+b) for a,b in zip(list1,list2)]\n",
    "end_time=time.time()\n",
    "print(\"time taken in seconds:\",end_time-start_time)"
   ]
  },
  {
   "cell_type": "code",
   "execution_count": 49,
   "id": "ac564e1c",
   "metadata": {},
   "outputs": [
    {
     "name": "stdout",
     "output_type": "stream",
     "text": [
      "time taken in seconds: 0.13601326942443848\n"
     ]
    }
   ],
   "source": [
    "# numpy operation\n",
    "import time\n",
    "size=10000000\n",
    "# create a list\n",
    "arr1=np.arange(size) # [0,1,2,3,4,,,,,,,,,1000000]\n",
    "arr2=np.arange(size) # [0,1,2,3,4,5,,,,,1000000]\n",
    "start_time=time.time()\n",
    "arr3=arr1+arr2\n",
    "end_time=time.time()\n",
    "print(\"time taken in seconds:\",end_time-start_time)"
   ]
  },
  {
   "cell_type": "code",
   "execution_count": null,
   "id": "894cb26b",
   "metadata": {},
   "outputs": [],
   "source": [
    "\n"
   ]
  },
  {
   "cell_type": "code",
   "execution_count": 7,
   "id": "051e23da",
   "metadata": {},
   "outputs": [],
   "source": [
    "import pyautogui as pg\n",
    "import time "
   ]
  },
  {
   "cell_type": "code",
   "execution_count": 8,
   "id": "bb58c3ae",
   "metadata": {},
   "outputs": [
    {
     "name": "stdout",
     "output_type": "stream",
     "text": [
      "program will run in 5sec\n"
     ]
    },
    {
     "ename": "KeyboardInterrupt",
     "evalue": "",
     "output_type": "error",
     "traceback": [
      "\u001b[1;31m---------------------------------------------------------------------------\u001b[0m",
      "\u001b[1;31mKeyboardInterrupt\u001b[0m                         Traceback (most recent call last)",
      "Input \u001b[1;32mIn [8]\u001b[0m, in \u001b[0;36m<cell line: 3>\u001b[1;34m()\u001b[0m\n\u001b[0;32m      4\u001b[0m pg\u001b[38;5;241m.\u001b[39mwrite(\u001b[38;5;124m\"\u001b[39m\u001b[38;5;124mhappy birthday happy birthday priya\u001b[39m\u001b[38;5;124m\"\u001b[39m)\n\u001b[0;32m      5\u001b[0m time\u001b[38;5;241m.\u001b[39msleep(\u001b[38;5;241m0.5\u001b[39m)\n\u001b[1;32m----> 6\u001b[0m \u001b[43mpg\u001b[49m\u001b[38;5;241;43m.\u001b[39;49m\u001b[43mpress\u001b[49m\u001b[43m(\u001b[49m\u001b[38;5;124;43m\"\u001b[39;49m\u001b[38;5;124;43menter\u001b[39;49m\u001b[38;5;124;43m\"\u001b[39;49m\u001b[43m)\u001b[49m\n",
      "File \u001b[1;32m~\\anaconda3\\lib\\site-packages\\pyautogui\\__init__.py:599\u001b[0m, in \u001b[0;36m_genericPyAutoGUIChecks.<locals>.wrapper\u001b[1;34m(*args, **kwargs)\u001b[0m\n\u001b[0;32m    597\u001b[0m failSafeCheck()\n\u001b[0;32m    598\u001b[0m returnVal \u001b[38;5;241m=\u001b[39m wrappedFunction(\u001b[38;5;241m*\u001b[39margs, \u001b[38;5;241m*\u001b[39m\u001b[38;5;241m*\u001b[39mkwargs)\n\u001b[1;32m--> 599\u001b[0m \u001b[43m_handlePause\u001b[49m\u001b[43m(\u001b[49m\u001b[43mkwargs\u001b[49m\u001b[38;5;241;43m.\u001b[39;49m\u001b[43mget\u001b[49m\u001b[43m(\u001b[49m\u001b[38;5;124;43m\"\u001b[39;49m\u001b[38;5;124;43m_pause\u001b[39;49m\u001b[38;5;124;43m\"\u001b[39;49m\u001b[43m,\u001b[49m\u001b[43m \u001b[49m\u001b[38;5;28;43;01mTrue\u001b[39;49;00m\u001b[43m)\u001b[49m\u001b[43m)\u001b[49m\n\u001b[0;32m    600\u001b[0m \u001b[38;5;28;01mreturn\u001b[39;00m returnVal\n",
      "File \u001b[1;32m~\\anaconda3\\lib\\site-packages\\pyautogui\\__init__.py:643\u001b[0m, in \u001b[0;36m_handlePause\u001b[1;34m(_pause)\u001b[0m\n\u001b[0;32m    641\u001b[0m \u001b[38;5;28;01mif\u001b[39;00m _pause:\n\u001b[0;32m    642\u001b[0m     \u001b[38;5;28;01massert\u001b[39;00m \u001b[38;5;28misinstance\u001b[39m(PAUSE, \u001b[38;5;28mint\u001b[39m) \u001b[38;5;129;01mor\u001b[39;00m \u001b[38;5;28misinstance\u001b[39m(PAUSE, \u001b[38;5;28mfloat\u001b[39m)\n\u001b[1;32m--> 643\u001b[0m     \u001b[43mtime\u001b[49m\u001b[38;5;241;43m.\u001b[39;49m\u001b[43msleep\u001b[49m\u001b[43m(\u001b[49m\u001b[43mPAUSE\u001b[49m\u001b[43m)\u001b[49m\n",
      "\u001b[1;31mKeyboardInterrupt\u001b[0m: "
     ]
    }
   ],
   "source": [
    "print(\"program will run in 5sec\")\n",
    "time.sleep(5)\n",
    "for i in range(100):\n",
    "    pg.write(\"happy birthday happy birthday priya\")\n",
    "    time.sleep(0.5)\n",
    "    pg.press(\"enter\")\n",
    "    "
   ]
  },
  {
   "cell_type": "code",
   "execution_count": 6,
   "id": "c625ab5f",
   "metadata": {},
   "outputs": [
    {
     "name": "stdout",
     "output_type": "stream",
     "text": [
      "program will run in 5sec\n"
     ]
    },
    {
     "ename": "KeyboardInterrupt",
     "evalue": "",
     "output_type": "error",
     "traceback": [
      "\u001b[1;31m---------------------------------------------------------------------------\u001b[0m",
      "\u001b[1;31mKeyboardInterrupt\u001b[0m                         Traceback (most recent call last)",
      "Input \u001b[1;32mIn [6]\u001b[0m, in \u001b[0;36m<cell line: 3>\u001b[1;34m()\u001b[0m\n\u001b[0;32m      3\u001b[0m \u001b[38;5;28;01mfor\u001b[39;00m i \u001b[38;5;129;01min\u001b[39;00m \u001b[38;5;28mrange\u001b[39m(\u001b[38;5;241m100\u001b[39m):\n\u001b[0;32m      4\u001b[0m     pg\u001b[38;5;241m.\u001b[39mwrite(\u001b[38;5;124m\"\u001b[39m\u001b[38;5;124mhappy birthday priya\u001b[39m\u001b[38;5;124m\"\u001b[39m)\n\u001b[1;32m----> 5\u001b[0m     \u001b[43mtime\u001b[49m\u001b[38;5;241;43m.\u001b[39;49m\u001b[43msleep\u001b[49m\u001b[43m(\u001b[49m\u001b[38;5;241;43m0.5\u001b[39;49m\u001b[43m)\u001b[49m\n\u001b[0;32m      6\u001b[0m     pg\u001b[38;5;241m.\u001b[39mpress(\u001b[38;5;124m\"\u001b[39m\u001b[38;5;124menter\u001b[39m\u001b[38;5;124m\"\u001b[39m)\n",
      "\u001b[1;31mKeyboardInterrupt\u001b[0m: "
     ]
    }
   ],
   "source": []
  },
  {
   "cell_type": "code",
   "execution_count": null,
   "id": "faebf050",
   "metadata": {},
   "outputs": [],
   "source": []
  },
  {
   "cell_type": "code",
   "execution_count": null,
   "id": "f81af2a1",
   "metadata": {},
   "outputs": [],
   "source": []
  },
  {
   "cell_type": "code",
   "execution_count": null,
   "id": "926acb28",
   "metadata": {},
   "outputs": [],
   "source": []
  },
  {
   "cell_type": "code",
   "execution_count": 12,
   "id": "3ff7bb41",
   "metadata": {},
   "outputs": [
    {
     "name": "stdout",
     "output_type": "stream",
     "text": [
      "program will run in 5sec\n"
     ]
    }
   ],
   "source": [
    "\n",
    "print(\"program will run in 5sec\")\n",
    "time.sleep(5)\n",
    "for i in range(100):\n",
    "    pg.write(\"happy birthday priya \")\n",
    "    time.sleep(0.5)\n",
    "    pg.press(\"enter\")\n"
   ]
  },
  {
   "cell_type": "code",
   "execution_count": null,
   "id": "183ebd64",
   "metadata": {},
   "outputs": [],
   "source": []
  }
 ],
 "metadata": {
  "kernelspec": {
   "display_name": "Python 3 (ipykernel)",
   "language": "python",
   "name": "python3"
  },
  "language_info": {
   "codemirror_mode": {
    "name": "ipython",
    "version": 3
   },
   "file_extension": ".py",
   "mimetype": "text/x-python",
   "name": "python",
   "nbconvert_exporter": "python",
   "pygments_lexer": "ipython3",
   "version": "3.9.12"
  }
 },
 "nbformat": 4,
 "nbformat_minor": 5
}
