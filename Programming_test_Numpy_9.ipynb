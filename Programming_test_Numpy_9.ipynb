{
 "cells": [
  {
   "cell_type": "code",
   "execution_count": null,
   "id": "a4958425",
   "metadata": {},
   "outputs": [],
   "source": [
    "Write a NumPy program to replace the negative values in a NumPy array with 0.\n",
    "\n",
    "Write a NumPy program to replace all elements of a NumPy array that are greater than the specified array.[Expected Output:\n",
    "Original array:\n",
    "[[ 0.42436315 0.48558583 0.32924763]\n",
    "[ 0.7439979 0.58220701 0.38213418]\n",
    "[ 0.5097581 0.34528799 0.1563123 ]]\n",
    "Replace all elements of the said array with .5 which are greater than. 5\n",
    "[[ 0.42436315 0.48558583 0.32924763]\n",
    "[ 0.5 0.5 0.38213418]\n",
    "[ 0.5 0.34528799 0.1563123 ]]]\n",
    "\n",
    "\n",
    "Write a NumPy program to convert a NumPy array into Python list structure.\n",
    "\n",
    "\n",
    "Write a NumPy program to shuffle numbers between 0 and 10 (inclusive).\n",
    "\n",
    "\n",
    "Write a NumPy program to convert 1-D arrays as columns into a 2-D array.Sample array: (10,20,30), (40,50,60)\n",
    "    \n",
    "Write a NumPy program to concatenate two 2-dimensional arrays.\n",
    "Sample arrays: ([[0, 1, 3], [5, 7, 9]], [[0, 2, 4], [6, 8, 10]]\n",
    "                \n",
    "                \n",
    "Write a NumPy program to create a 5x5 matrix with row values ranging from 0 to 4.\n",
    "                \n",
    "Write a NumPy program to move axes of an array to new positions. Other axes remain in their original order.[Expected Output:\n",
    "(3, 4, 2)\n",
    "(4, 2, 3)]\n",
    "                \n",
    "                \n",
    "Write a NumPy program to view inputs as arrays with at least two dimensions, three dimensions.\n",
    "\n",
    "\n",
    "Write a NumPy program to create a 4x4 array, now create a new array from the said array swapping first and last, second and third columns.       \n",
    "                \n",
    "Write a NumPy program to multiply two given arrays of the same size element-by-element.\n",
    "\n",
    "Write a NumPy program to create a 4x4 matrix in which 0 and 1 are staggered, with zeros on the main diagonal.\n",
    "                \n",
    "Write a NumPy program to create a 3x3 identity matrix.\n",
    "                \n",
    "Write a NumPy program to create an array of 10 zeros, 10 ones, 10 fives.\n",
    "                \n",
    "Write a NumPy program to get help on the add function.\n",
    "                \n",
    "\n",
    "                \n",
    "\n",
    "                \n",
    "\n",
    "                \n",
    "                \n",
    "    \n",
    "    \n",
    "    \n",
    "\n"
   ]
  },
  {
   "cell_type": "code",
   "execution_count": 1,
   "id": "587ee4d1",
   "metadata": {},
   "outputs": [
    {
     "name": "stdout",
     "output_type": "stream",
     "text": [
      "Original array:\n",
      "[-1  2 -3  4 -5  6 -7  8 -9]\n",
      "Replace the negative values of the said array with 0:\n",
      "[0 2 0 4 0 6 0 8 0]\n"
     ]
    }
   ],
   "source": [
    "import numpy as np\n",
    "arr = np.array([-1, 2, -3, 4, -5, 6, -7, 8, -9])\n",
    "print(\"Original array:\")\n",
    "print(arr)\n",
    "print(\"Replace the negative values of the said array with 0:\")\n",
    "arr[arr < 0] = 0\n",
    "print(arr)"
   ]
  },
  {
   "cell_type": "code",
   "execution_count": 2,
   "id": "ab3ba708",
   "metadata": {},
   "outputs": [
    {
     "name": "stdout",
     "output_type": "stream",
     "text": [
      "[[0.42436315 0.48558583 0.32924763]\n",
      " [0.5        0.5        0.38213418]\n",
      " [0.5        0.34528799 0.1563123 ]]\n"
     ]
    }
   ],
   "source": [
    "\n",
    "import numpy as np\n",
    "\n",
    "arr = np.array([[0.42436315, 0.48558583, 0.32924763], [0.7439979, 0.58220701, 0.38213418], [0.5097581, 0.34528799, 0.1563123]])\n",
    "arr[arr > 0.5] = 0.5\n",
    "print(arr)"
   ]
  },
  {
   "cell_type": "code",
   "execution_count": 3,
   "id": "6e52237c",
   "metadata": {},
   "outputs": [
    {
     "name": "stdout",
     "output_type": "stream",
     "text": [
      "[[1 2 3]\n",
      " [4 5 6]]\n",
      "[[1, 2, 3], [4, 5, 6]]\n"
     ]
    }
   ],
   "source": [
    "import numpy as np \n",
    "a = np.array([[1,2,3], [4,5,6]]) \n",
    "print(a) \n",
    "print(a.tolist())"
   ]
  },
  {
   "cell_type": "code",
   "execution_count": 12,
   "id": "3d286a5c",
   "metadata": {},
   "outputs": [
    {
     "name": "stdout",
     "output_type": "stream",
     "text": [
      "[ 6  1  2  8  7  4  5  3  0 10  9]\n"
     ]
    }
   ],
   "source": [
    "import numpy as np \n",
    "a = np.arange(11) \n",
    "np.random.shuffle(a) \n",
    "print(a)"
   ]
  },
  {
   "cell_type": "code",
   "execution_count": 13,
   "id": "04bc6744",
   "metadata": {},
   "outputs": [
    {
     "name": "stdout",
     "output_type": "stream",
     "text": [
      "[[10 20 30]\n",
      " [40 50 60]]\n"
     ]
    }
   ],
   "source": [
    "import numpy as np\n",
    "a = np.array([[10,20,30], [40,50,60]])\n",
    "print(a)"
   ]
  },
  {
   "cell_type": "code",
   "execution_count": 14,
   "id": "719fb41a",
   "metadata": {},
   "outputs": [
    {
     "name": "stdout",
     "output_type": "stream",
     "text": [
      "[[ 0  1  3  0  2  4]\n",
      " [ 5  7  9  6  8 10]]\n"
     ]
    }
   ],
   "source": [
    "import numpy as np\n",
    "\n",
    "x = np.array([[0, 1, 3], [5, 7, 9]])\n",
    "y = np.array([[0, 2, 4], [6, 8, 10]])\n",
    "\n",
    "print(np.concatenate((x, y), axis=1))\n",
    "\n"
   ]
  },
  {
   "cell_type": "code",
   "execution_count": 17,
   "id": "f33b57e6",
   "metadata": {},
   "outputs": [
    {
     "name": "stdout",
     "output_type": "stream",
     "text": [
      "[[0 1 2 3 4]\n",
      " [1 2 3 4 5]\n",
      " [2 3 4 5 6]\n",
      " [3 4 5 6 7]\n",
      " [4 5 6 7 8]]\n"
     ]
    },
    {
     "name": "stderr",
     "output_type": "stream",
     "text": [
      "/var/folders/p6/z0mkbnv935lfj5knl3fvv_0m0000gp/T/ipykernel_18641/552270396.py:4: DeprecationWarning: `np.int` is a deprecated alias for the builtin `int`. To silence this warning, use `int` by itself. Doing this will not modify any behavior and is safe. When replacing `np.int`, you may wish to use e.g. `np.int64` or `np.int32` to specify the precision. If you wish to review your current use, check the release note link for additional information.\n",
      "Deprecated in NumPy 1.20; for more details and guidance: https://numpy.org/devdocs/release/1.20.0-notes.html#deprecations\n",
      "  matrix = np.zeros((5,5), dtype = np.int)\n"
     ]
    }
   ],
   "source": [
    "import numpy as np \n",
    "  \n",
    "# creating a 5x5 matrix \n",
    "matrix = np.zeros((5,5), dtype = np.int) \n",
    "  \n",
    "# assigning values to the matrix \n",
    "for i in range(5): \n",
    "    for j in range(5): \n",
    "        matrix[i][j] = i + j \n",
    "print (matrix)"
   ]
  },
  {
   "cell_type": "code",
   "execution_count": 18,
   "id": "4e1e33a2",
   "metadata": {},
   "outputs": [
    {
     "name": "stdout",
     "output_type": "stream",
     "text": [
      "Original array:\n",
      "[[[0. 0.]\n",
      "  [0. 0.]\n",
      "  [0. 0.]\n",
      "  [0. 0.]]\n",
      "\n",
      " [[0. 0.]\n",
      "  [0. 0.]\n",
      "  [0. 0.]\n",
      "  [0. 0.]]\n",
      "\n",
      " [[0. 0.]\n",
      "  [0. 0.]\n",
      "  [0. 0.]\n",
      "  [0. 0.]]]\n",
      "Array after modification:\n",
      "[[[0. 0. 0. 0.]\n",
      "  [0. 0. 0. 0.]\n",
      "  [0. 0. 0. 0.]]\n",
      "\n",
      " [[0. 0. 0. 0.]\n",
      "  [0. 0. 0. 0.]\n",
      "  [0. 0. 0. 0.]]]\n"
     ]
    }
   ],
   "source": [
    "import numpy as np\n",
    "x = np.zeros((3,4,2))\n",
    "print(\"Original array:\")\n",
    "print(x)\n",
    "print(\"Array after modification:\")\n",
    "x = np.moveaxis(x, 2, 0)\n",
    "print(x)"
   ]
  },
  {
   "cell_type": "code",
   "execution_count": 19,
   "id": "383a86f0",
   "metadata": {},
   "outputs": [
    {
     "name": "stdout",
     "output_type": "stream",
     "text": [
      "[1 2 3 4 5]\n",
      "[ 6  7  8  9 10]\n",
      "[11 12 13 14 15]\n",
      "[[ 1  2  3  4  5]\n",
      " [ 6  7  8  9 10]\n",
      " [11 12 13 14 15]]\n"
     ]
    }
   ],
   "source": [
    "import numpy as np\n",
    "\n",
    "x = np.array([1, 2, 3, 4, 5])\n",
    "\n",
    "y = np.array([6, 7, 8, 9, 10])\n",
    "\n",
    "z = np.array([11, 12, 13, 14, 15])\n",
    "\n",
    "a = np.array([[1, 2, 3, 4, 5], [6, 7, 8, 9, 10], [11, 12, 13, 14, 15]])\n",
    "\n",
    "print(x)\n",
    "\n",
    "print(y)\n",
    "\n",
    "print(z)\n",
    "\n",
    "print(a)"
   ]
  },
  {
   "cell_type": "code",
   "execution_count": 20,
   "id": "27eb18d8",
   "metadata": {},
   "outputs": [
    {
     "name": "stdout",
     "output_type": "stream",
     "text": [
      "Original array:\n",
      "[[ 0  1  2  3]\n",
      " [ 4  5  6  7]\n",
      " [ 8  9 10 11]\n",
      " [12 13 14 15]]\n",
      "New array:\n",
      "[[ 3  2  1  0]\n",
      " [ 7  6  5  4]\n",
      " [11 10  9  8]\n",
      " [15 14 13 12]]\n"
     ]
    }
   ],
   "source": [
    "import numpy as np \n",
    "arr = np.arange(16).reshape(4, 4) \n",
    "print(\"Original array:\") \n",
    "print(arr) \n",
    "print(\"New array:\") \n",
    "arr = arr[:, ::-1] \n",
    "print(arr)"
   ]
  },
  {
   "cell_type": "code",
   "execution_count": 21,
   "id": "ce06f6bb",
   "metadata": {},
   "outputs": [
    {
     "data": {
      "text/plain": [
       "array([[0., 1., 0., 1.],\n",
       "       [0., 0., 0., 0.],\n",
       "       [0., 1., 0., 1.],\n",
       "       [0., 0., 0., 0.]])"
      ]
     },
     "execution_count": 21,
     "metadata": {},
     "output_type": "execute_result"
    }
   ],
   "source": [
    "import numpy as np \n",
    "  \n",
    "# creating a 4x4 matrix \n",
    "matrix = np.zeros((4,4)) \n",
    "  \n",
    "# replacing 0 with 1 at alternate positions \n",
    "matrix[::2, 1::2] = 1\n",
    "matrix"
   ]
  },
  {
   "cell_type": "code",
   "execution_count": 22,
   "id": "0db21e85",
   "metadata": {},
   "outputs": [
    {
     "name": "stdout",
     "output_type": "stream",
     "text": [
      "[[1. 0. 0.]\n",
      " [0. 1. 0.]\n",
      " [0. 0. 1.]]\n"
     ]
    }
   ],
   "source": [
    "import numpy as np \n",
    "  \n",
    "# creating a 3X3 matrix \n",
    "X = np.eye(3) \n",
    "  \n",
    "# printing the matrix \n",
    "print(X)\n",
    "\n"
   ]
  },
  {
   "cell_type": "code",
   "execution_count": 23,
   "id": "95e330b9",
   "metadata": {},
   "outputs": [
    {
     "name": "stdout",
     "output_type": "stream",
     "text": [
      "[0. 0. 0. 0. 0. 0. 0. 0. 0. 0.]\n",
      "[1. 1. 1. 1. 1. 1. 1. 1. 1. 1.]\n",
      "[5. 5. 5. 5. 5. 5. 5. 5. 5. 5.]\n"
     ]
    }
   ],
   "source": [
    "import numpy as np \n",
    "\n",
    "array=np.zeros(10)\n",
    "array1=np.ones(10)\n",
    "array2=np.ones(10)*5\n",
    "\n",
    "print(array)\n",
    "print(array1)\n",
    "print(array2)"
   ]
  },
  {
   "cell_type": "code",
   "execution_count": null,
   "id": "4ee92fbc",
   "metadata": {},
   "outputs": [],
   "source": [
    "impoe"
   ]
  },
  {
   "cell_type": "code",
   "execution_count": null,
   "id": "059e16ab",
   "metadata": {},
   "outputs": [],
   "source": [
    "# Write a NumPy program to replace the negative values in a NumPy array with 0.\n",
    "\n"
   ]
  },
  {
   "cell_type": "code",
   "execution_count": 3,
   "id": "1e6ad922",
   "metadata": {},
   "outputs": [
    {
     "name": "stdout",
     "output_type": "stream",
     "text": [
      "[0 0 3 0 5 6 7 0 0]\n"
     ]
    }
   ],
   "source": [
    "import numpy as np\n",
    "arr=np.array([-1,-2,3,-4,5,6,7,-8,-9])\n",
    "arr[arr<0]=0\n",
    "print(arr)"
   ]
  },
  {
   "cell_type": "code",
   "execution_count": 7,
   "id": "a93bf1c6",
   "metadata": {},
   "outputs": [
    {
     "data": {
      "text/plain": [
       "array([[0.42436315, 0.48558583, 0.32924763],\n",
       "       [0.5       , 0.5       , 0.38213418],\n",
       "       [0.5       , 0.34528799, 0.1563123 ]])"
      ]
     },
     "execution_count": 7,
     "metadata": {},
     "output_type": "execute_result"
    }
   ],
   "source": [
    "#Write a NumPy program to replace all elements of a NumPy array that are greater than the specified array.[Expected Output:\n",
    "#Original array:\n",
    "#[[ 0.42436315 0.48558583 0.32924763]\n",
    "#[ 0.7439979 0.58220701 0.38213418]\n",
    "#[ 0.5097581 0.34528799 0.1563123 ]]\n",
    "#Replace all elements of the said array with .5 which are greater than. 5\n",
    "#[[ 0.42436315 0.48558583 0.32924763]\n",
    "#[ 0.5 0.5 0.38213418]\n",
    "#[ 0.5 0.34528799 0.1563123 ]]]\n",
    "\n",
    "\n",
    "a_array=np.array([[ 0.42436315,0.48558583,0.32924763],[ 0.7439979,0.58220701,0.38213418],[ 0.5097581,0.34528799,0.1563123 ]])\n",
    "a_array[a_array>0.5]=0.5\n",
    "a_array\n"
   ]
  },
  {
   "cell_type": "code",
   "execution_count": 8,
   "id": "22b56d36",
   "metadata": {},
   "outputs": [
    {
     "data": {
      "text/plain": [
       "[1, 2, 3, 4, 5, 6, 7]"
      ]
     },
     "execution_count": 8,
     "metadata": {},
     "output_type": "execute_result"
    }
   ],
   "source": [
    "# Write a NumPy program to convert a NumPy array into Python list structure.\n",
    "a=np.array([1,2,3,4,5,6,7])\n",
    "b=a.tolist()\n",
    "b"
   ]
  },
  {
   "cell_type": "code",
   "execution_count": 10,
   "id": "5ade0705",
   "metadata": {},
   "outputs": [
    {
     "data": {
      "text/plain": [
       "array([ 6,  1,  2, 10,  8,  4,  3,  9,  5,  7,  0])"
      ]
     },
     "execution_count": 10,
     "metadata": {},
     "output_type": "execute_result"
    }
   ],
   "source": [
    "# Write a NumPy program to shuffle numbers between 0 and 10 (inclusive).\n",
    "import numpy as np\n",
    "a=np.arange(11)\n",
    "np.random.shuffle(a)\n",
    "a"
   ]
  },
  {
   "cell_type": "code",
   "execution_count": 14,
   "id": "8432bec9",
   "metadata": {},
   "outputs": [
    {
     "data": {
      "text/plain": [
       "array([10, 20, 30, 40, 50, 60])"
      ]
     },
     "execution_count": 14,
     "metadata": {},
     "output_type": "execute_result"
    }
   ],
   "source": [
    "# Write a NumPy program to convert 1-D arrays as columns into a 2-D array.Sample array: (10,20,30), (40,50,60)\n",
    "one_d_array=np.array([[10,20,30],[40,50,60]])\n",
    "one_d_array # 2-D array\n",
    "b=np.ndarray.flatten(one_d_array) # 1-d array\n",
    "b"
   ]
  },
  {
   "cell_type": "code",
   "execution_count": 18,
   "id": "41062d58",
   "metadata": {},
   "outputs": [
    {
     "data": {
      "text/plain": [
       "array([[ 0,  1,  3,  0,  2,  4],\n",
       "       [ 5,  7,  9,  6,  8, 10]])"
      ]
     },
     "execution_count": 18,
     "metadata": {},
     "output_type": "execute_result"
    }
   ],
   "source": [
    "#Write a NumPy program to concatenate two 2-dimensional arrays.\n",
    "#Sample arrays: ([[0, 1, 3], [5, 7, 9]], [[0, 2, 4], [6, 8, 10]]\n",
    "\n",
    "a=([[0, 1, 3], [5, 7, 9]]) \n",
    "b= ([[0, 2, 4], [6, 8, 10]])\n",
    "\n",
    "np.concatenate((a,b),axis=1)\n",
    "   \n"
   ]
  },
  {
   "cell_type": "code",
   "execution_count": 19,
   "id": "0eaebe45",
   "metadata": {},
   "outputs": [
    {
     "name": "stdout",
     "output_type": "stream",
     "text": [
      "[[0. 1. 2. 3. 4.]\n",
      " [0. 1. 2. 3. 4.]\n",
      " [0. 1. 2. 3. 4.]\n",
      " [0. 1. 2. 3. 4.]\n",
      " [0. 1. 2. 3. 4.]]\n"
     ]
    }
   ],
   "source": [
    "# Write a NumPy program to create a 5x5 matrix with row values ranging from 0 to 4.\n",
    "\n",
    "import numpy as np \n",
    "a = np.zeros((5,5)) \n",
    "a += np.arange(5) \n",
    "print(a)"
   ]
  },
  {
   "cell_type": "code",
   "execution_count": 27,
   "id": "f67be7ea",
   "metadata": {},
   "outputs": [
    {
     "data": {
      "text/plain": [
       "array([[[1., 1., 1., 1.],\n",
       "        [1., 1., 1., 1.],\n",
       "        [1., 1., 1., 1.]],\n",
       "\n",
       "       [[1., 1., 1., 1.],\n",
       "        [1., 1., 1., 1.],\n",
       "        [1., 1., 1., 1.]]])"
      ]
     },
     "execution_count": 27,
     "metadata": {},
     "output_type": "execute_result"
    }
   ],
   "source": [
    "#Write a NumPy program to move axes of an array to new positions. Other axes remain in their original order.[Expected Output:\n",
    "#(3, 4, 2)\n",
    "#(4, 2, 3)]\n",
    "           \n",
    "import numpy as np\n",
    "x = np.ones((3,4,2))\n",
    "x\n",
    "\n",
    "b=np.moveaxis(x,2,0)\n",
    "b"
   ]
  },
  {
   "cell_type": "code",
   "execution_count": 47,
   "id": "4336ee93",
   "metadata": {},
   "outputs": [
    {
     "data": {
      "text/plain": [
       "3"
      ]
     },
     "execution_count": 47,
     "metadata": {},
     "output_type": "execute_result"
    }
   ],
   "source": [
    "# Write a NumPy program to view inputs as arrays with at least two dimensions, three dimensions.\n",
    "import numpy as np\n",
    "import random\n",
    "a=random.randint(3,5)\n",
    "a"
   ]
  },
  {
   "cell_type": "code",
   "execution_count": 45,
   "id": "b8e7cefb",
   "metadata": {},
   "outputs": [
    {
     "name": "stdout",
     "output_type": "stream",
     "text": [
      "[92 15 13 91 62]\n"
     ]
    }
   ],
   "source": [
    "from numpy import random\n",
    "\n",
    "x=random.randint(100, size=(5))\n",
    "\n",
    "print(x)"
   ]
  },
  {
   "cell_type": "code",
   "execution_count": null,
   "id": "43d63062",
   "metadata": {},
   "outputs": [],
   "source": []
  }
 ],
 "metadata": {
  "kernelspec": {
   "display_name": "Python 3 (ipykernel)",
   "language": "python",
   "name": "python3"
  },
  "language_info": {
   "codemirror_mode": {
    "name": "ipython",
    "version": 3
   },
   "file_extension": ".py",
   "mimetype": "text/x-python",
   "name": "python",
   "nbconvert_exporter": "python",
   "pygments_lexer": "ipython3",
   "version": "3.9.12"
  }
 },
 "nbformat": 4,
 "nbformat_minor": 5
}
