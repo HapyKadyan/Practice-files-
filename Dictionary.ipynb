{
 "cells": [
  {
   "cell_type": "code",
   "execution_count": null,
   "id": "9cd373f3",
   "metadata": {},
   "outputs": [],
   "source": [
    "# he wants to take list of numbers  from user\n",
    "# some pos numbers\n",
    "# zeros \n",
    "# and some negative numbers\n",
    "# objective: how much percentage of pos numbers in a list\n",
    "#            how much percentage of zeros are there\n",
    "#            how much percentage of negative numbers\n",
    "\n",
    "# function\n",
    "# try-except"
   ]
  },
  {
   "cell_type": "code",
   "execution_count": 7,
   "id": "bc6e22c1",
   "metadata": {},
   "outputs": [
    {
     "name": "stdout",
     "output_type": "stream",
     "text": [
      "enter a list:[1,2,3]\n"
     ]
    }
   ],
   "source": [
    "list1=eval(input(\"enter a list:\"))\n"
   ]
  },
  {
   "cell_type": "code",
   "execution_count": 8,
   "id": "988d4d55",
   "metadata": {},
   "outputs": [
    {
     "data": {
      "text/plain": [
       "[1, 2, 3]"
      ]
     },
     "execution_count": 8,
     "metadata": {},
     "output_type": "execute_result"
    }
   ],
   "source": [
    "list1"
   ]
  },
  {
   "cell_type": "code",
   "execution_count": null,
   "id": "db4a0997",
   "metadata": {},
   "outputs": [],
   "source": [
    "pos_list=[i if i>0 for i in list1]\n",
    "neg_list=[i if i<0 for i in list1]\n",
    "zero_list=[i if i==0 for i in list1]\n",
    "\n",
    "        "
   ]
  },
  {
   "cell_type": "code",
   "execution_count": 9,
   "id": "7bcf2be8",
   "metadata": {},
   "outputs": [],
   "source": [
    "names=['Ram','Laxman','Krishna']\n",
    "ages=[50,45,40]\n"
   ]
  },
  {
   "cell_type": "code",
   "execution_count": 14,
   "id": "1d0ec63c",
   "metadata": {},
   "outputs": [
    {
     "name": "stdout",
     "output_type": "stream",
     "text": [
      "Ram age is 50\n",
      "Laxman age is 45\n",
      "Krishna age is 40\n"
     ]
    }
   ],
   "source": [
    "for i,j in zip(names,ages):\n",
    "    print(i,'age is',j)"
   ]
  },
  {
   "cell_type": "code",
   "execution_count": 15,
   "id": "2387cd4c",
   "metadata": {},
   "outputs": [],
   "source": [
    "persons={'Ram':50,'Laxman':45,'Krisha':40}\n",
    "\n",
    "# Ram ,Laxman,Krishna are keys\n",
    "# 50,45,40 are values\n",
    "# Dictionary is a key-value pair\n",
    "# Dictionary use {} curly brackets"
   ]
  },
  {
   "cell_type": "code",
   "execution_count": 16,
   "id": "c47ac4e9",
   "metadata": {},
   "outputs": [
    {
     "data": {
      "text/plain": [
       "{'Ram': 50, 'Laxman': 45, 'Krisha': 40}"
      ]
     },
     "execution_count": 16,
     "metadata": {},
     "output_type": "execute_result"
    }
   ],
   "source": [
    "persons"
   ]
  },
  {
   "cell_type": "code",
   "execution_count": 17,
   "id": "18991d95",
   "metadata": {},
   "outputs": [
    {
     "data": {
      "text/plain": [
       "dict"
      ]
     },
     "execution_count": 17,
     "metadata": {},
     "output_type": "execute_result"
    }
   ],
   "source": [
    "type(persons)"
   ]
  },
  {
   "cell_type": "code",
   "execution_count": 18,
   "id": "34176537",
   "metadata": {},
   "outputs": [
    {
     "ename": "KeyError",
     "evalue": "0",
     "output_type": "error",
     "traceback": [
      "\u001b[1;31m---------------------------------------------------------------------------\u001b[0m",
      "\u001b[1;31mKeyError\u001b[0m                                  Traceback (most recent call last)",
      "\u001b[1;32m<ipython-input-18-a7c9343baf65>\u001b[0m in \u001b[0;36m<module>\u001b[1;34m\u001b[0m\n\u001b[0;32m      3\u001b[0m \u001b[1;31m# List we used index\u001b[0m\u001b[1;33m\u001b[0m\u001b[1;33m\u001b[0m\u001b[1;33m\u001b[0m\u001b[0m\n\u001b[0;32m      4\u001b[0m \u001b[1;31m# Dictionary it is a key-value pair\u001b[0m\u001b[1;33m\u001b[0m\u001b[1;33m\u001b[0m\u001b[1;33m\u001b[0m\u001b[0m\n\u001b[1;32m----> 5\u001b[1;33m \u001b[0mpersons\u001b[0m\u001b[1;33m[\u001b[0m\u001b[1;36m0\u001b[0m\u001b[1;33m]\u001b[0m\u001b[1;33m\u001b[0m\u001b[1;33m\u001b[0m\u001b[0m\n\u001b[0m",
      "\u001b[1;31mKeyError\u001b[0m: 0"
     ]
    }
   ],
   "source": [
    "# read the values you cant use index\n",
    "# Strings we have used index\n",
    "# List we used index\n",
    "# Dictionary it is a key-value pair \n",
    "persons[0]"
   ]
  },
  {
   "cell_type": "code",
   "execution_count": 20,
   "id": "a0ad2c73",
   "metadata": {},
   "outputs": [
    {
     "data": {
      "text/plain": [
       "45"
      ]
     },
     "execution_count": 20,
     "metadata": {},
     "output_type": "execute_result"
    }
   ],
   "source": [
    "# Read the values by using keys\n",
    "persons['Laxman']"
   ]
  },
  {
   "cell_type": "code",
   "execution_count": 24,
   "id": "78b2d15f",
   "metadata": {},
   "outputs": [
    {
     "data": {
      "text/plain": [
       "{'bunny': 25, 'chinni': [60]}"
      ]
     },
     "execution_count": 24,
     "metadata": {},
     "output_type": "execute_result"
    }
   ],
   "source": [
    "marks={'bunny':[25,30,60],\n",
    "      'chinni':[25,25,25],\n",
    "      'bunny':25,\n",
    "      'chinni':[60]}\n",
    "marks\n",
    "# in repeated keys dictionary will consider latest values"
   ]
  },
  {
   "cell_type": "code",
   "execution_count": 25,
   "id": "f73e9d9e",
   "metadata": {},
   "outputs": [
    {
     "data": {
      "text/plain": [
       "{'bunny': [25, 30, 60], 'chinni': [25, 25, 25]}"
      ]
     },
     "execution_count": 25,
     "metadata": {},
     "output_type": "execute_result"
    }
   ],
   "source": [
    "marks={'bunny':[25,30,60],\n",
    "      'chinni':[25,25,25],}\n",
    "marks"
   ]
  },
  {
   "cell_type": "code",
   "execution_count": 29,
   "id": "7f901e0e",
   "metadata": {},
   "outputs": [
    {
     "data": {
      "text/plain": [
       "30"
      ]
     },
     "execution_count": 29,
     "metadata": {},
     "output_type": "execute_result"
    }
   ],
   "source": [
    "marks['bunny'][1]"
   ]
  },
  {
   "cell_type": "code",
   "execution_count": 31,
   "id": "e3d3f326",
   "metadata": {},
   "outputs": [],
   "source": [
    "# how to add new key\n",
    "persons['Barath']=30"
   ]
  },
  {
   "cell_type": "code",
   "execution_count": 32,
   "id": "b4496d31",
   "metadata": {},
   "outputs": [
    {
     "data": {
      "text/plain": [
       "{'Ram': 50, 'Laxman': 45, 'Krisha': 40, 'Barath': 30}"
      ]
     },
     "execution_count": 32,
     "metadata": {},
     "output_type": "execute_result"
    }
   ],
   "source": [
    "persons"
   ]
  },
  {
   "cell_type": "code",
   "execution_count": 34,
   "id": "5fa84613",
   "metadata": {},
   "outputs": [],
   "source": [
    "# I want to change the value of a key (mutable conecpt)\n",
    "persons['Ram']=25"
   ]
  },
  {
   "cell_type": "code",
   "execution_count": 35,
   "id": "07ee711d",
   "metadata": {},
   "outputs": [
    {
     "data": {
      "text/plain": [
       "{'Ram': 25, 'Laxman': 45, 'Krisha': 40, 'Barath': 30}"
      ]
     },
     "execution_count": 35,
     "metadata": {},
     "output_type": "execute_result"
    }
   ],
   "source": [
    "persons"
   ]
  },
  {
   "cell_type": "code",
   "execution_count": 36,
   "id": "cbdb366b",
   "metadata": {},
   "outputs": [],
   "source": [
    "persons[30]=40"
   ]
  },
  {
   "cell_type": "code",
   "execution_count": 37,
   "id": "dbedf8f4",
   "metadata": {},
   "outputs": [
    {
     "data": {
      "text/plain": [
       "{'Ram': 25, 'Laxman': 45, 'Krisha': 40, 'Barath': 30, 30: 40}"
      ]
     },
     "execution_count": 37,
     "metadata": {},
     "output_type": "execute_result"
    }
   ],
   "source": [
    "persons # key and values can by any data type"
   ]
  },
  {
   "cell_type": "markdown",
   "id": "e3b41295",
   "metadata": {},
   "source": [
    "- Dictionary has key-value pair\n",
    "\n",
    "- Dictionary return using curly brackets\n",
    "\n",
    "- Dictionary is mutable\n",
    "\n",
    "- In dictionary key-values are any type\n",
    "\n",
    "- In dictionary if you have same keys, the latest value will consider"
   ]
  },
  {
   "cell_type": "code",
   "execution_count": 38,
   "id": "7453529d",
   "metadata": {},
   "outputs": [
    {
     "data": {
      "text/plain": [
       "['__class__',\n",
       " '__contains__',\n",
       " '__delattr__',\n",
       " '__delitem__',\n",
       " '__dir__',\n",
       " '__doc__',\n",
       " '__eq__',\n",
       " '__format__',\n",
       " '__ge__',\n",
       " '__getattribute__',\n",
       " '__getitem__',\n",
       " '__gt__',\n",
       " '__hash__',\n",
       " '__init__',\n",
       " '__init_subclass__',\n",
       " '__iter__',\n",
       " '__le__',\n",
       " '__len__',\n",
       " '__lt__',\n",
       " '__ne__',\n",
       " '__new__',\n",
       " '__reduce__',\n",
       " '__reduce_ex__',\n",
       " '__repr__',\n",
       " '__reversed__',\n",
       " '__setattr__',\n",
       " '__setitem__',\n",
       " '__sizeof__',\n",
       " '__str__',\n",
       " '__subclasshook__',\n",
       " 'clear',\n",
       " 'copy',\n",
       " 'fromkeys',\n",
       " 'get',\n",
       " 'items',\n",
       " 'keys',\n",
       " 'pop',\n",
       " 'popitem',\n",
       " 'setdefault',\n",
       " 'update',\n",
       " 'values']"
      ]
     },
     "execution_count": 38,
     "metadata": {},
     "output_type": "execute_result"
    }
   ],
   "source": [
    "dir(persons)"
   ]
  },
  {
   "cell_type": "code",
   "execution_count": 39,
   "id": "8f8caf1a",
   "metadata": {},
   "outputs": [
    {
     "data": {
      "text/plain": [
       "{'Ram': 25, 'Laxman': 45, 'Krisha': 40, 'Barath': 30, 30: 40}"
      ]
     },
     "execution_count": 39,
     "metadata": {},
     "output_type": "execute_result"
    }
   ],
   "source": [
    "persons"
   ]
  },
  {
   "cell_type": "code",
   "execution_count": 40,
   "id": "669726c4",
   "metadata": {},
   "outputs": [],
   "source": [
    "# I want to delete any key-value pair\n",
    "del persons[30]"
   ]
  },
  {
   "cell_type": "code",
   "execution_count": 41,
   "id": "c945a4f2",
   "metadata": {},
   "outputs": [
    {
     "data": {
      "text/plain": [
       "{'Ram': 25, 'Laxman': 45, 'Krisha': 40, 'Barath': 30}"
      ]
     },
     "execution_count": 41,
     "metadata": {},
     "output_type": "execute_result"
    }
   ],
   "source": [
    "persons"
   ]
  },
  {
   "cell_type": "code",
   "execution_count": 43,
   "id": "b0c41e29",
   "metadata": {},
   "outputs": [],
   "source": [
    "# Use case\n",
    "sent='can you can a can as a canner can can a can'\n",
    "# word frequency \n",
    "# how many words are there, how many times these words are repaeting\n",
    "#{'can':6,'you':1,'a':3,'as':1,'canner':1}\n",
    "\n",
    "# i want to makes words list by using split concept\n",
    "# I will take one empty dictionary\n",
    "# I will iterate trough the list of words\n",
    "# every time the word is coming i will apply a counter programe"
   ]
  },
  {
   "cell_type": "code",
   "execution_count": 44,
   "id": "5fd47eb8",
   "metadata": {},
   "outputs": [
    {
     "data": {
      "text/plain": [
       "['can',\n",
       " 'you',\n",
       " 'can',\n",
       " 'a',\n",
       " 'can',\n",
       " 'as',\n",
       " 'a',\n",
       " 'canner',\n",
       " 'can',\n",
       " 'can',\n",
       " 'a',\n",
       " 'can']"
      ]
     },
     "execution_count": 44,
     "metadata": {},
     "output_type": "execute_result"
    }
   ],
   "source": [
    "sent_list=sent.split(' ')\n",
    "sent_list # has list of words"
   ]
  },
  {
   "cell_type": "code",
   "execution_count": 54,
   "id": "f0cc1fed",
   "metadata": {},
   "outputs": [
    {
     "data": {
      "text/plain": [
       "{'can': 1, 'you': 1}"
      ]
     },
     "execution_count": 54,
     "metadata": {},
     "output_type": "execute_result"
    }
   ],
   "source": [
    "dict1={}\n",
    "dict1['can']=1\n",
    "dict1['you']=1\n",
    "dict1"
   ]
  },
  {
   "cell_type": "code",
   "execution_count": 53,
   "id": "31d621f9",
   "metadata": {},
   "outputs": [
    {
     "data": {
      "text/plain": [
       "{'can': 6, 'you': 1, 'a': 3, 'as': 1, 'canner': 1}"
      ]
     },
     "execution_count": 53,
     "metadata": {},
     "output_type": "execute_result"
    }
   ],
   "source": [
    "sent='can you can a can as a canner can can a can'\n",
    "sent_list=sent.split(' ')\n",
    "word_count={}\n",
    "for word in sent_list:\n",
    "    if word not in word_count:\n",
    "        word_count[word]=1\n",
    "    else:\n",
    "        word_count[word]=word_count[word]+1\n",
    "        \n",
    "word_count"
   ]
  },
  {
   "cell_type": "code",
   "execution_count": 52,
   "id": "115df68c",
   "metadata": {},
   "outputs": [
    {
     "data": {
      "text/plain": [
       "{'can': 6, 'you': 1, 'a': 3, 'as': 1, 'canner': 1}"
      ]
     },
     "execution_count": 52,
     "metadata": {},
     "output_type": "execute_result"
    }
   ],
   "source": [
    "word_count"
   ]
  },
  {
   "cell_type": "code",
   "execution_count": 55,
   "id": "6bd19950",
   "metadata": {},
   "outputs": [],
   "source": [
    "# package/module/library\n",
    "from collections import defaultdict"
   ]
  },
  {
   "cell_type": "code",
   "execution_count": 56,
   "id": "0d1a9288",
   "metadata": {},
   "outputs": [
    {
     "data": {
      "text/plain": [
       "defaultdict(int, {})"
      ]
     },
     "execution_count": 56,
     "metadata": {},
     "output_type": "execute_result"
    }
   ],
   "source": [
    "freq_words=defaultdict(int)   #word_count={}\n",
    "freq_words"
   ]
  },
  {
   "cell_type": "code",
   "execution_count": 57,
   "id": "0aa2a45c",
   "metadata": {},
   "outputs": [
    {
     "name": "stdout",
     "output_type": "stream",
     "text": [
      "defaultdict(<class 'int'>, {'can': 6, 'you': 1, 'a': 3, 'as': 1, 'canner': 1})\n"
     ]
    }
   ],
   "source": [
    "from collections import defaultdict\n",
    "\n",
    "freq_words=defaultdict(int)\n",
    "\n",
    "for word in sent_list:\n",
    "    freq_words[word]+=1\n",
    "    \n",
    "print(freq_words)"
   ]
  },
  {
   "cell_type": "markdown",
   "id": "a0ab48c6",
   "metadata": {},
   "source": [
    "### Dictionary methods"
   ]
  },
  {
   "cell_type": "code",
   "execution_count": 5,
   "id": "c0223f79",
   "metadata": {},
   "outputs": [],
   "source": [
    "elements={'Santizer':2,'Headset':3,'Glass':4}"
   ]
  },
  {
   "cell_type": "code",
   "execution_count": 6,
   "id": "b4899e65",
   "metadata": {},
   "outputs": [
    {
     "data": {
      "text/plain": [
       "['__class__',\n",
       " '__contains__',\n",
       " '__delattr__',\n",
       " '__delitem__',\n",
       " '__dir__',\n",
       " '__doc__',\n",
       " '__eq__',\n",
       " '__format__',\n",
       " '__ge__',\n",
       " '__getattribute__',\n",
       " '__getitem__',\n",
       " '__gt__',\n",
       " '__hash__',\n",
       " '__init__',\n",
       " '__init_subclass__',\n",
       " '__iter__',\n",
       " '__le__',\n",
       " '__len__',\n",
       " '__lt__',\n",
       " '__ne__',\n",
       " '__new__',\n",
       " '__reduce__',\n",
       " '__reduce_ex__',\n",
       " '__repr__',\n",
       " '__reversed__',\n",
       " '__setattr__',\n",
       " '__setitem__',\n",
       " '__sizeof__',\n",
       " '__str__',\n",
       " '__subclasshook__',\n",
       " 'clear',\n",
       " 'copy',\n",
       " 'fromkeys',\n",
       " 'get',\n",
       " 'items',\n",
       " 'keys',\n",
       " 'pop',\n",
       " 'popitem',\n",
       " 'setdefault',\n",
       " 'update',\n",
       " 'values']"
      ]
     },
     "execution_count": 6,
     "metadata": {},
     "output_type": "execute_result"
    }
   ],
   "source": [
    "dir(elements)"
   ]
  },
  {
   "cell_type": "code",
   "execution_count": 7,
   "id": "40d8a250",
   "metadata": {},
   "outputs": [
    {
     "data": {
      "text/plain": [
       "{'Santizer': 2, 'Headset': 3, 'Glass': 4}"
      ]
     },
     "execution_count": 7,
     "metadata": {},
     "output_type": "execute_result"
    }
   ],
   "source": [
    "elements"
   ]
  },
  {
   "cell_type": "code",
   "execution_count": 8,
   "id": "967f50b2",
   "metadata": {},
   "outputs": [
    {
     "data": {
      "text/plain": [
       "dict_keys(['Santizer', 'Headset', 'Glass'])"
      ]
     },
     "execution_count": 8,
     "metadata": {},
     "output_type": "execute_result"
    }
   ],
   "source": [
    "elements.keys()"
   ]
  },
  {
   "cell_type": "code",
   "execution_count": 9,
   "id": "d030f9e5",
   "metadata": {},
   "outputs": [
    {
     "data": {
      "text/plain": [
       "dict_values([2, 3, 4])"
      ]
     },
     "execution_count": 9,
     "metadata": {},
     "output_type": "execute_result"
    }
   ],
   "source": [
    "elements.values()"
   ]
  },
  {
   "cell_type": "code",
   "execution_count": 11,
   "id": "7553d116",
   "metadata": {},
   "outputs": [
    {
     "data": {
      "text/plain": [
       "dict_items([('Santizer', 2), ('Headset', 3), ('Glass', 4)])"
      ]
     },
     "execution_count": 11,
     "metadata": {},
     "output_type": "execute_result"
    }
   ],
   "source": [
    "elements.items()"
   ]
  },
  {
   "cell_type": "code",
   "execution_count": 12,
   "id": "c35a4d38",
   "metadata": {},
   "outputs": [
    {
     "name": "stdout",
     "output_type": "stream",
     "text": [
      "1 2 3 4 "
     ]
    }
   ],
   "source": [
    "list1=[1,2,3,4]\n",
    "for i in list1:\n",
    "    print(i,end=' ')"
   ]
  },
  {
   "cell_type": "code",
   "execution_count": 13,
   "id": "8b44e5de",
   "metadata": {},
   "outputs": [
    {
     "data": {
      "text/plain": [
       "{'Santizer': 2, 'Headset': 3, 'Glass': 4}"
      ]
     },
     "execution_count": 13,
     "metadata": {},
     "output_type": "execute_result"
    }
   ],
   "source": [
    "elements"
   ]
  },
  {
   "cell_type": "code",
   "execution_count": 16,
   "id": "3c05fe9d",
   "metadata": {},
   "outputs": [
    {
     "name": "stdout",
     "output_type": "stream",
     "text": [
      "Santizer 2\n",
      "Headset 3\n",
      "Glass 4\n"
     ]
    }
   ],
   "source": [
    "for i,j in zip(elements.keys(),elements.values()):\n",
    "    print(i,j)"
   ]
  },
  {
   "cell_type": "code",
   "execution_count": 17,
   "id": "c36afa41",
   "metadata": {},
   "outputs": [
    {
     "name": "stdout",
     "output_type": "stream",
     "text": [
      "Santizer 2\n",
      "Headset 3\n",
      "Glass 4\n"
     ]
    }
   ],
   "source": [
    "for i,j in elements.items():\n",
    "    print(i,j)"
   ]
  },
  {
   "cell_type": "code",
   "execution_count": 23,
   "id": "c5f274ff",
   "metadata": {},
   "outputs": [
    {
     "name": "stdout",
     "output_type": "stream",
     "text": [
      "1 A\n",
      "2 B\n",
      "3 C\n",
      "4 D\n"
     ]
    }
   ],
   "source": [
    "list1=[1,2,3,4]\n",
    "list2=['A','B','C','D']\n",
    "for i,j in zip(list1,list2):\n",
    "    print(i,j)"
   ]
  },
  {
   "cell_type": "code",
   "execution_count": 24,
   "id": "b551d64a",
   "metadata": {},
   "outputs": [],
   "source": [
    "# clear and copy ============ > list\n",
    "elements.clear()"
   ]
  },
  {
   "cell_type": "code",
   "execution_count": 25,
   "id": "3be7f63e",
   "metadata": {},
   "outputs": [
    {
     "data": {
      "text/plain": [
       "{}"
      ]
     },
     "execution_count": 25,
     "metadata": {},
     "output_type": "execute_result"
    }
   ],
   "source": [
    "elements"
   ]
  },
  {
   "cell_type": "code",
   "execution_count": 26,
   "id": "ef21833b",
   "metadata": {},
   "outputs": [
    {
     "data": {
      "text/plain": [
       "{'Santizer': 2, 'Headset': 3, 'Glass': 4}"
      ]
     },
     "execution_count": 26,
     "metadata": {},
     "output_type": "execute_result"
    }
   ],
   "source": [
    "elements={'Santizer':2,'Headset':3,'Glass':4}\n",
    "new_elements=elements.copy()\n",
    "new_elements"
   ]
  },
  {
   "cell_type": "code",
   "execution_count": 27,
   "id": "152a8c1d",
   "metadata": {},
   "outputs": [
    {
     "data": {
      "text/plain": [
       "{'Santizer': 2, 'Headset': 3, 'Glass': 4}"
      ]
     },
     "execution_count": 27,
     "metadata": {},
     "output_type": "execute_result"
    }
   ],
   "source": [
    "elements"
   ]
  },
  {
   "cell_type": "code",
   "execution_count": 29,
   "id": "c7826e4e",
   "metadata": {},
   "outputs": [
    {
     "data": {
      "text/plain": [
       "3"
      ]
     },
     "execution_count": 29,
     "metadata": {},
     "output_type": "execute_result"
    }
   ],
   "source": [
    "# Get a value corresponding a key\n",
    "elements.get('Headset')"
   ]
  },
  {
   "cell_type": "code",
   "execution_count": 30,
   "id": "f5c0ee4c",
   "metadata": {},
   "outputs": [
    {
     "data": {
      "text/plain": [
       "3"
      ]
     },
     "execution_count": 30,
     "metadata": {},
     "output_type": "execute_result"
    }
   ],
   "source": [
    "elements['Headset']"
   ]
  },
  {
   "cell_type": "code",
   "execution_count": 31,
   "id": "fe2bfb44",
   "metadata": {},
   "outputs": [
    {
     "ename": "KeyError",
     "evalue": "'mobile'",
     "output_type": "error",
     "traceback": [
      "\u001b[1;31m---------------------------------------------------------------------------\u001b[0m",
      "\u001b[1;31mKeyError\u001b[0m                                  Traceback (most recent call last)",
      "\u001b[1;32m<ipython-input-31-2629b59f5b4e>\u001b[0m in \u001b[0;36m<module>\u001b[1;34m\u001b[0m\n\u001b[1;32m----> 1\u001b[1;33m \u001b[0melements\u001b[0m\u001b[1;33m[\u001b[0m\u001b[1;34m'mobile'\u001b[0m\u001b[1;33m]\u001b[0m\u001b[1;33m\u001b[0m\u001b[1;33m\u001b[0m\u001b[0m\n\u001b[0m",
      "\u001b[1;31mKeyError\u001b[0m: 'mobile'"
     ]
    }
   ],
   "source": [
    "elements['mobile']  # we will get error"
   ]
  },
  {
   "cell_type": "code",
   "execution_count": 32,
   "id": "321efaeb",
   "metadata": {},
   "outputs": [],
   "source": [
    "elements.get(\"mobile\")  # not show any error\n",
    "# It will give None value"
   ]
  },
  {
   "cell_type": "markdown",
   "id": "745308a9",
   "metadata": {},
   "source": [
    "$setdefault$"
   ]
  },
  {
   "cell_type": "code",
   "execution_count": 33,
   "id": "79f1675e",
   "metadata": {},
   "outputs": [
    {
     "data": {
      "text/plain": [
       "{'Santizer': 2, 'Headset': 3, 'Glass': 4}"
      ]
     },
     "execution_count": 33,
     "metadata": {},
     "output_type": "execute_result"
    }
   ],
   "source": [
    "# setdefault ------- > set some default value\n",
    "elements"
   ]
  },
  {
   "cell_type": "code",
   "execution_count": 34,
   "id": "93c03bea",
   "metadata": {},
   "outputs": [
    {
     "data": {
      "text/plain": [
       "{'Santizer': 2, 'Headset': 3, 'Glass': 4, 'mobile': 10}"
      ]
     },
     "execution_count": 34,
     "metadata": {},
     "output_type": "execute_result"
    }
   ],
   "source": [
    "elements.setdefault('mobile',10)\n",
    "elements"
   ]
  },
  {
   "cell_type": "code",
   "execution_count": 35,
   "id": "321a614e",
   "metadata": {},
   "outputs": [
    {
     "data": {
      "text/plain": [
       "{'Santizer': 2, 'Headset': 3, 'Glass': 4, 'mobile': 10, 'laptop': 10}"
      ]
     },
     "execution_count": 35,
     "metadata": {},
     "output_type": "execute_result"
    }
   ],
   "source": [
    "elements['laptop']=10\n",
    "elements"
   ]
  },
  {
   "cell_type": "markdown",
   "id": "c2f6f13c",
   "metadata": {},
   "source": [
    "$fromkeys$"
   ]
  },
  {
   "cell_type": "code",
   "execution_count": 36,
   "id": "bb2234d1",
   "metadata": {},
   "outputs": [
    {
     "data": {
      "text/plain": [
       "{'b': 20, 'a': 20, 'c': 20}"
      ]
     },
     "execution_count": 36,
     "metadata": {},
     "output_type": "execute_result"
    }
   ],
   "source": [
    "# From keys: create values using only keys\n",
    "strings={'a','b','c'}  \n",
    "# here only keys are there,there is no values\n",
    "#{'a':20,'b':20,'c':20}\n",
    "\n",
    "string_dict=dict.fromkeys(strings,20)\n",
    "string_dict"
   ]
  },
  {
   "cell_type": "code",
   "execution_count": 37,
   "id": "e42b0641",
   "metadata": {},
   "outputs": [
    {
     "data": {
      "text/plain": [
       "{'b': 50, 'a': 20, 'c': 20}"
      ]
     },
     "execution_count": 37,
     "metadata": {},
     "output_type": "execute_result"
    }
   ],
   "source": [
    "string_dict['b']=50\n",
    "string_dict"
   ]
  },
  {
   "cell_type": "code",
   "execution_count": 38,
   "id": "21b1c901",
   "metadata": {},
   "outputs": [
    {
     "data": {
      "text/plain": [
       "{'e': 'vowel', 'o': 'vowel', 'u': 'vowel', 'a': 'vowel', 'i': 'vowel'}"
      ]
     },
     "execution_count": 38,
     "metadata": {},
     "output_type": "execute_result"
    }
   ],
   "source": [
    "keys={'a','e','i','o','u'}\n",
    "value='vowel'\n",
    "vowels=dict.fromkeys(keys,value)\n",
    "vowels"
   ]
  },
  {
   "cell_type": "markdown",
   "id": "acbad0c2",
   "metadata": {},
   "source": [
    "$pop$"
   ]
  },
  {
   "cell_type": "code",
   "execution_count": 39,
   "id": "e3859f3d",
   "metadata": {},
   "outputs": [
    {
     "data": {
      "text/plain": [
       "{'Hindi': 80, 'English': 90, 'Maths': 95, 'Science': 98, 'Social': 100}"
      ]
     },
     "execution_count": 39,
     "metadata": {},
     "output_type": "execute_result"
    }
   ],
   "source": [
    "marks={'Hindi':80,\n",
    "      'English':90,\n",
    "      'Maths':95,\n",
    "      'Science':98,\n",
    "      'Social':100}\n",
    "\n",
    "marks"
   ]
  },
  {
   "cell_type": "code",
   "execution_count": 40,
   "id": "de1bd88c",
   "metadata": {},
   "outputs": [
    {
     "data": {
      "text/plain": [
       "100"
      ]
     },
     "execution_count": 40,
     "metadata": {},
     "output_type": "execute_result"
    }
   ],
   "source": [
    "marks.pop('Social') \n",
    "# Provide key\n",
    "# It will return value\n",
    "# And it will rove that key-value pair"
   ]
  },
  {
   "cell_type": "code",
   "execution_count": 41,
   "id": "5b680db9",
   "metadata": {},
   "outputs": [
    {
     "data": {
      "text/plain": [
       "{'Hindi': 80, 'English': 90, 'Maths': 95, 'Science': 98}"
      ]
     },
     "execution_count": 41,
     "metadata": {},
     "output_type": "execute_result"
    }
   ],
   "source": [
    "marks"
   ]
  },
  {
   "cell_type": "markdown",
   "id": "bb22b405",
   "metadata": {},
   "source": [
    "$popitem$"
   ]
  },
  {
   "cell_type": "markdown",
   "id": "9662f784",
   "metadata": {},
   "source": [
    "- Pop item will remove last /latest item\n",
    "\n",
    "- Last in first out(LIFO)"
   ]
  },
  {
   "cell_type": "code",
   "execution_count": 42,
   "id": "5f25e35a",
   "metadata": {},
   "outputs": [
    {
     "data": {
      "text/plain": [
       "{'Hindi': 80, 'English': 90, 'Maths': 95, 'Science': 98}"
      ]
     },
     "execution_count": 42,
     "metadata": {},
     "output_type": "execute_result"
    }
   ],
   "source": [
    "marks"
   ]
  },
  {
   "cell_type": "code",
   "execution_count": 43,
   "id": "d260321b",
   "metadata": {},
   "outputs": [
    {
     "data": {
      "text/plain": [
       "('Science', 98)"
      ]
     },
     "execution_count": 43,
     "metadata": {},
     "output_type": "execute_result"
    }
   ],
   "source": [
    "marks.popitem()"
   ]
  },
  {
   "cell_type": "code",
   "execution_count": 44,
   "id": "b52b5fec",
   "metadata": {},
   "outputs": [
    {
     "data": {
      "text/plain": [
       "{'Hindi': 80, 'English': 90, 'Maths': 95}"
      ]
     },
     "execution_count": 44,
     "metadata": {},
     "output_type": "execute_result"
    }
   ],
   "source": [
    "marks"
   ]
  },
  {
   "cell_type": "code",
   "execution_count": 45,
   "id": "0df9c9c1",
   "metadata": {},
   "outputs": [
    {
     "data": {
      "text/plain": [
       "{'Hindi': 80, 'English': 90, 'Maths': 95, 'Telugu': 75}"
      ]
     },
     "execution_count": 45,
     "metadata": {},
     "output_type": "execute_result"
    }
   ],
   "source": [
    "marks['Telugu']=75\n",
    "marks"
   ]
  },
  {
   "cell_type": "code",
   "execution_count": 46,
   "id": "a9e8bbdd",
   "metadata": {},
   "outputs": [
    {
     "data": {
      "text/plain": [
       "{'Hindi': 80, 'English': 90, 'Maths': 95}"
      ]
     },
     "execution_count": 46,
     "metadata": {},
     "output_type": "execute_result"
    }
   ],
   "source": [
    "marks.popitem()\n",
    "marks"
   ]
  },
  {
   "cell_type": "code",
   "execution_count": 47,
   "id": "e4e1edf8",
   "metadata": {},
   "outputs": [
    {
     "data": {
      "text/plain": [
       "{'Ram': 50, 'Laxman': 45, 'Krishna': 40}"
      ]
     },
     "execution_count": 47,
     "metadata": {},
     "output_type": "execute_result"
    }
   ],
   "source": [
    "names=['Ram','Laxman','Krishna']\n",
    "ages=[50,45,40]\n",
    "\n",
    "# making dictionary using list\n",
    "persons=dict(zip(names,ages))\n",
    "persons"
   ]
  },
  {
   "cell_type": "code",
   "execution_count": 49,
   "id": "c8ff4904",
   "metadata": {},
   "outputs": [],
   "source": [
    "# Merge two dictionary into one dictionary\n",
    "dict1={'One':1,'Two':2,'Three':3}\n",
    "dict2={'Four':4,'Five':5,'Six':6}\n",
    "#{'One':1,'Two':2,'Three':3,'Four':4,'Five':5,'Six':6}"
   ]
  },
  {
   "cell_type": "code",
   "execution_count": 50,
   "id": "1fb950e7",
   "metadata": {},
   "outputs": [
    {
     "data": {
      "text/plain": [
       "['__class__',\n",
       " '__contains__',\n",
       " '__delattr__',\n",
       " '__delitem__',\n",
       " '__dir__',\n",
       " '__doc__',\n",
       " '__eq__',\n",
       " '__format__',\n",
       " '__ge__',\n",
       " '__getattribute__',\n",
       " '__getitem__',\n",
       " '__gt__',\n",
       " '__hash__',\n",
       " '__init__',\n",
       " '__init_subclass__',\n",
       " '__iter__',\n",
       " '__le__',\n",
       " '__len__',\n",
       " '__lt__',\n",
       " '__ne__',\n",
       " '__new__',\n",
       " '__reduce__',\n",
       " '__reduce_ex__',\n",
       " '__repr__',\n",
       " '__reversed__',\n",
       " '__setattr__',\n",
       " '__setitem__',\n",
       " '__sizeof__',\n",
       " '__str__',\n",
       " '__subclasshook__',\n",
       " 'clear',\n",
       " 'copy',\n",
       " 'fromkeys',\n",
       " 'get',\n",
       " 'items',\n",
       " 'keys',\n",
       " 'pop',\n",
       " 'popitem',\n",
       " 'setdefault',\n",
       " 'update',\n",
       " 'values']"
      ]
     },
     "execution_count": 50,
     "metadata": {},
     "output_type": "execute_result"
    }
   ],
   "source": [
    "dir(dict1)"
   ]
  },
  {
   "cell_type": "code",
   "execution_count": null,
   "id": "b1b2f1c6",
   "metadata": {},
   "outputs": [],
   "source": [
    "# clear\n",
    "# Copy\n",
    "# fromkeys\n",
    "# get\n",
    "# items------values-------keys\n",
    "#pop------popitem------setdefualt"
   ]
  },
  {
   "cell_type": "code",
   "execution_count": 52,
   "id": "10cbff68",
   "metadata": {},
   "outputs": [
    {
     "data": {
      "text/plain": [
       "([1, 2, 3, 4], ['A', 'B', 'C', 'D'])"
      ]
     },
     "execution_count": 52,
     "metadata": {},
     "output_type": "execute_result"
    }
   ],
   "source": [
    "list1,list2"
   ]
  },
  {
   "cell_type": "code",
   "execution_count": 53,
   "id": "530216b3",
   "metadata": {},
   "outputs": [
    {
     "data": {
      "text/plain": [
       "[1, 2, 3, 4, 'A', 'B', 'C', 'D']"
      ]
     },
     "execution_count": 53,
     "metadata": {},
     "output_type": "execute_result"
    }
   ],
   "source": [
    "list1.extend(list2)\n",
    "list1"
   ]
  },
  {
   "cell_type": "code",
   "execution_count": 54,
   "id": "95242de2",
   "metadata": {},
   "outputs": [
    {
     "data": {
      "text/plain": [
       "({'One': 1, 'Two': 2, 'Three': 3}, {'Four': 4, 'Five': 5, 'Six': 6})"
      ]
     },
     "execution_count": 54,
     "metadata": {},
     "output_type": "execute_result"
    }
   ],
   "source": [
    "dict1,dict2"
   ]
  },
  {
   "cell_type": "code",
   "execution_count": 55,
   "id": "349e4dbb",
   "metadata": {},
   "outputs": [
    {
     "data": {
      "text/plain": [
       "{'One': 1, 'Two': 2, 'Three': 3, 'Four': 4, 'Five': 5, 'Six': 6}"
      ]
     },
     "execution_count": 55,
     "metadata": {},
     "output_type": "execute_result"
    }
   ],
   "source": [
    "dict1.update(dict2)\n",
    "dict1"
   ]
  },
  {
   "cell_type": "code",
   "execution_count": 56,
   "id": "b930f9e1",
   "metadata": {},
   "outputs": [
    {
     "data": {
      "text/plain": [
       "[1, 2, 3, ['A', 'B', ['apple']]]"
      ]
     },
     "execution_count": 56,
     "metadata": {},
     "output_type": "execute_result"
    }
   ],
   "source": [
    "list1=[1,2,3,[1,2,3,['A','B',['apple']]]]\n",
    "# retrive apple by using index\n",
    "list1[3]"
   ]
  },
  {
   "cell_type": "code",
   "execution_count": 57,
   "id": "7918497b",
   "metadata": {},
   "outputs": [
    {
     "data": {
      "text/plain": [
       "['A', 'B', ['apple']]"
      ]
     },
     "execution_count": 57,
     "metadata": {},
     "output_type": "execute_result"
    }
   ],
   "source": [
    "list1[3][3]"
   ]
  },
  {
   "cell_type": "code",
   "execution_count": 58,
   "id": "7b34b53d",
   "metadata": {},
   "outputs": [
    {
     "data": {
      "text/plain": [
       "['apple']"
      ]
     },
     "execution_count": 58,
     "metadata": {},
     "output_type": "execute_result"
    }
   ],
   "source": [
    "list1[3][3][2]"
   ]
  },
  {
   "cell_type": "code",
   "execution_count": 59,
   "id": "ece2ac24",
   "metadata": {},
   "outputs": [
    {
     "data": {
      "text/plain": [
       "'apple'"
      ]
     },
     "execution_count": 59,
     "metadata": {},
     "output_type": "execute_result"
    }
   ],
   "source": [
    "list1[3][3][2][0]"
   ]
  },
  {
   "cell_type": "code",
   "execution_count": 63,
   "id": "06f866e4",
   "metadata": {},
   "outputs": [
    {
     "data": {
      "text/plain": [
       "{'Employee': {'name': 'Asha',\n",
       "  'details': {'Salary': 500000, 'designation': 'SE'}}}"
      ]
     },
     "execution_count": 63,
     "metadata": {},
     "output_type": "execute_result"
    }
   ],
   "source": [
    "dict1={'company':\n",
    "       {\n",
    "           'Employee':{\n",
    "               'name':\"Asha\",\n",
    "               'details':{\n",
    "                   'Salary':500000,\n",
    "                   'designation':'SE'}\n",
    "           }\n",
    "       }\n",
    "      }\n",
    "# Retrive designation SE\n",
    "dict1[\"company\"]"
   ]
  },
  {
   "cell_type": "code",
   "execution_count": 64,
   "id": "44524232",
   "metadata": {},
   "outputs": [
    {
     "data": {
      "text/plain": [
       "{'name': 'Asha', 'details': {'Salary': 500000, 'designation': 'SE'}}"
      ]
     },
     "execution_count": 64,
     "metadata": {},
     "output_type": "execute_result"
    }
   ],
   "source": [
    "dict1[\"company\"]['Employee']"
   ]
  },
  {
   "cell_type": "code",
   "execution_count": 65,
   "id": "3665a01d",
   "metadata": {},
   "outputs": [
    {
     "data": {
      "text/plain": [
       "{'Salary': 500000, 'designation': 'SE'}"
      ]
     },
     "execution_count": 65,
     "metadata": {},
     "output_type": "execute_result"
    }
   ],
   "source": [
    "dict1[\"company\"]['Employee']['details']"
   ]
  },
  {
   "cell_type": "code",
   "execution_count": 66,
   "id": "68214745",
   "metadata": {},
   "outputs": [
    {
     "data": {
      "text/plain": [
       "'SE'"
      ]
     },
     "execution_count": 66,
     "metadata": {},
     "output_type": "execute_result"
    }
   ],
   "source": [
    "dict1[\"company\"]['Employee']['details']['designation']"
   ]
  },
  {
   "cell_type": "code",
   "execution_count": null,
   "id": "3225673b",
   "metadata": {},
   "outputs": [],
   "source": []
  }
 ],
 "metadata": {
  "kernelspec": {
   "display_name": "Python 3 (ipykernel)",
   "language": "python",
   "name": "python3"
  },
  "language_info": {
   "codemirror_mode": {
    "name": "ipython",
    "version": 3
   },
   "file_extension": ".py",
   "mimetype": "text/x-python",
   "name": "python",
   "nbconvert_exporter": "python",
   "pygments_lexer": "ipython3",
   "version": "3.9.12"
  }
 },
 "nbformat": 4,
 "nbformat_minor": 5
}
