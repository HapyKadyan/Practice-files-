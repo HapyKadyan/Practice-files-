{
 "cells": [
  {
   "cell_type": "markdown",
   "id": "0be70d5d",
   "metadata": {},
   "source": [
    "## list comprehension"
   ]
  },
  {
   "cell_type": "code",
   "execution_count": 6,
   "id": "2885a494",
   "metadata": {},
   "outputs": [],
   "source": [
    "x=[1,2,3,4,5]\n",
    "out=[]\n",
    "for item in x:\n",
    "    out.append(item*2)  # append x list elements in out list with a multiple 2"
   ]
  },
  {
   "cell_type": "code",
   "execution_count": 3,
   "id": "92bc9c12",
   "metadata": {},
   "outputs": [
    {
     "data": {
      "text/plain": [
       "[2, 4, 6, 8, 10]"
      ]
     },
     "execution_count": 3,
     "metadata": {},
     "output_type": "execute_result"
    }
   ],
   "source": [
    "out"
   ]
  },
  {
   "cell_type": "code",
   "execution_count": null,
   "id": "3865c09c",
   "metadata": {},
   "outputs": [],
   "source": [
    "## how can i write this in single line means list comprehension"
   ]
  },
  {
   "cell_type": "code",
   "execution_count": null,
   "id": "cec0378f",
   "metadata": {},
   "outputs": [],
   "source": [
    "out=[#output here then for loop]\n",
    "    # no comma, colon used in list comprehension"
   ]
  },
  {
   "cell_type": "code",
   "execution_count": 9,
   "id": "14cfe385",
   "metadata": {},
   "outputs": [],
   "source": [
    "x=[1,2,3,4,5]\n",
    "out=[item*2 for item in x]  # in operator directly apply operation with every single data type"
   ]
  },
  {
   "cell_type": "code",
   "execution_count": 10,
   "id": "aeb58347",
   "metadata": {},
   "outputs": [
    {
     "data": {
      "text/plain": [
       "[2, 4, 6, 8, 10]"
      ]
     },
     "execution_count": 10,
     "metadata": {},
     "output_type": "execute_result"
    }
   ],
   "source": [
    "out"
   ]
  },
  {
   "cell_type": "code",
   "execution_count": 11,
   "id": "392195ec",
   "metadata": {},
   "outputs": [],
   "source": [
    "# for loop"
   ]
  },
  {
   "cell_type": "code",
   "execution_count": 12,
   "id": "436d005b",
   "metadata": {},
   "outputs": [
    {
     "data": {
      "text/plain": [
       "['i', 'n', 'd', 'i', 'a']"
      ]
     },
     "execution_count": 12,
     "metadata": {},
     "output_type": "execute_result"
    }
   ],
   "source": [
    "[i for i in \"india\"] # storing values in i"
   ]
  },
  {
   "cell_type": "code",
   "execution_count": 13,
   "id": "90ee2499",
   "metadata": {},
   "outputs": [
    {
     "data": {
      "text/plain": [
       "['ii', 'nn', 'dd', 'ii', 'aa']"
      ]
     },
     "execution_count": 13,
     "metadata": {},
     "output_type": "execute_result"
    }
   ],
   "source": [
    "[2*i for i in \"india\"]  # 2*i=i+i"
   ]
  },
  {
   "cell_type": "code",
   "execution_count": 15,
   "id": "e61637a7",
   "metadata": {},
   "outputs": [
    {
     "data": {
      "text/plain": [
       "['ii', 'nn', 'dd', 'ii', 'aa']"
      ]
     },
     "execution_count": 15,
     "metadata": {},
     "output_type": "execute_result"
    }
   ],
   "source": [
    "[i+i for i in \"india\"]"
   ]
  },
  {
   "cell_type": "code",
   "execution_count": 18,
   "id": "720eee42",
   "metadata": {},
   "outputs": [
    {
     "data": {
      "text/plain": [
       "[2, 4, 6]"
      ]
     },
     "execution_count": 18,
     "metadata": {},
     "output_type": "execute_result"
    }
   ],
   "source": [
    "[i*2 for i in {3,1,2} ]  # i in set"
   ]
  },
  {
   "cell_type": "code",
   "execution_count": 19,
   "id": "1136aa0d",
   "metadata": {},
   "outputs": [],
   "source": [
    "# automatically gives ans in ascending order"
   ]
  },
  {
   "cell_type": "code",
   "execution_count": null,
   "id": "f1d9a467",
   "metadata": {},
   "outputs": [],
   "source": []
  },
  {
   "cell_type": "code",
   "execution_count": 20,
   "id": "02cf48f2",
   "metadata": {},
   "outputs": [],
   "source": [
    "# if condition in list comprehension"
   ]
  },
  {
   "cell_type": "code",
   "execution_count": 2,
   "id": "33263fe9",
   "metadata": {},
   "outputs": [
    {
     "data": {
      "text/plain": [
       "[0, 4, 16, 36, 64]"
      ]
     },
     "execution_count": 2,
     "metadata": {},
     "output_type": "execute_result"
    }
   ],
   "source": [
    "[i**2 for i in range(10) if i%2==0] # what is order prefence here either * or %"
   ]
  },
  {
   "cell_type": "code",
   "execution_count": 3,
   "id": "4b2c62b2",
   "metadata": {},
   "outputs": [],
   "source": [
    "# PEMDAS similair to bodmas\n",
    "# parentheses, exponential, multiplication, division, addition, substraction\n",
    "# high >>>>>>> *, /, // and %\n",
    "# low >>>>>>> + and -"
   ]
  },
  {
   "cell_type": "code",
   "execution_count": 5,
   "id": "64c11f69",
   "metadata": {},
   "outputs": [
    {
     "data": {
      "text/plain": [
       "[0, 8, 64, 216, 512]"
      ]
     },
     "execution_count": 5,
     "metadata": {},
     "output_type": "execute_result"
    }
   ],
   "source": [
    "[i**3 for i in range(10) if i%2==0]"
   ]
  },
  {
   "cell_type": "code",
   "execution_count": null,
   "id": "f644abf8",
   "metadata": {},
   "outputs": [],
   "source": [
    "# if ki output starting mi likhne or else ki uski baad then for loop"
   ]
  },
  {
   "cell_type": "code",
   "execution_count": 24,
   "id": "2110bdf9",
   "metadata": {},
   "outputs": [
    {
     "data": {
      "text/plain": [
       "[1, 3, 5, 7]"
      ]
     },
     "execution_count": 24,
     "metadata": {},
     "output_type": "execute_result"
    }
   ],
   "source": [
    "[i for i in range(8) if i%2!=0]"
   ]
  },
  {
   "cell_type": "code",
   "execution_count": 26,
   "id": "cbda35bd",
   "metadata": {},
   "outputs": [
    {
     "data": {
      "text/plain": [
       "[2, 6, 10, 14]"
      ]
     },
     "execution_count": 26,
     "metadata": {},
     "output_type": "execute_result"
    }
   ],
   "source": [
    "[2*i for i in range(8) if i%2!=0]"
   ]
  },
  {
   "cell_type": "code",
   "execution_count": 12,
   "id": "0545b2f7",
   "metadata": {},
   "outputs": [
    {
     "data": {
      "text/plain": [
       "[0, 6]"
      ]
     },
     "execution_count": 12,
     "metadata": {},
     "output_type": "execute_result"
    }
   ],
   "source": [
    "[i for i in range(8) if i%2==0 if i%3==0] # two if conditions "
   ]
  },
  {
   "cell_type": "code",
   "execution_count": 11,
   "id": "3234b5ac",
   "metadata": {},
   "outputs": [
    {
     "data": {
      "text/plain": [
       "[0, 6]"
      ]
     },
     "execution_count": 11,
     "metadata": {},
     "output_type": "execute_result"
    }
   ],
   "source": [
    "[i for i in range(8) if i%2==0 and i%3==0]"
   ]
  },
  {
   "cell_type": "code",
   "execution_count": 28,
   "id": "de593130",
   "metadata": {},
   "outputs": [
    {
     "data": {
      "text/plain": [
       "[2, 8]"
      ]
     },
     "execution_count": 28,
     "metadata": {},
     "output_type": "execute_result"
    }
   ],
   "source": [
    "[2+i for i in range(8) if i%2==0 if i%3==0]"
   ]
  },
  {
   "cell_type": "code",
   "execution_count": 15,
   "id": "5acc0bed",
   "metadata": {},
   "outputs": [
    {
     "data": {
      "text/plain": [
       "['even', 'odd', 'even', 'odd', 'even', 'odd', 'even', 'odd']"
      ]
     },
     "execution_count": 15,
     "metadata": {},
     "output_type": "execute_result"
    }
   ],
   "source": [
    "[\"even\" if i%2==0 else \"odd\" for i in range(8)]"
   ]
  },
  {
   "cell_type": "code",
   "execution_count": 30,
   "id": "a73f8bec",
   "metadata": {},
   "outputs": [
    {
     "data": {
      "text/plain": [
       "[0, 1, 8, 27, 64]"
      ]
     },
     "execution_count": 30,
     "metadata": {},
     "output_type": "execute_result"
    }
   ],
   "source": [
    "[i**3 for i in range(5)] # cube of every value"
   ]
  },
  {
   "cell_type": "markdown",
   "id": "31b26e72",
   "metadata": {},
   "source": [
    "## Table example with list comprehension"
   ]
  },
  {
   "cell_type": "code",
   "execution_count": 31,
   "id": "94c732db",
   "metadata": {},
   "outputs": [
    {
     "name": "stdout",
     "output_type": "stream",
     "text": [
      "7*1=7\n",
      "7*2=14\n",
      "7*3=21\n",
      "7*4=28\n",
      "7*5=35\n",
      "7*6=42\n",
      "7*7=49\n",
      "7*8=56\n",
      "7*9=63\n",
      "7*10=70\n",
      "8*1=8\n",
      "8*2=16\n",
      "8*3=24\n",
      "8*4=32\n",
      "8*5=40\n",
      "8*6=48\n",
      "8*7=56\n",
      "8*8=64\n",
      "8*9=72\n",
      "8*10=80\n"
     ]
    }
   ],
   "source": [
    "for i in range(7,9):  # table of 7 and 8\n",
    "    for j in range(1,11):\n",
    "        print(f\"{i}*{j}={i*j}\")"
   ]
  },
  {
   "cell_type": "code",
   "execution_count": 32,
   "id": "86488899",
   "metadata": {},
   "outputs": [
    {
     "name": "stdout",
     "output_type": "stream",
     "text": [
      "0*1=0\n",
      "0*2=0\n",
      "0*3=0\n",
      "0*4=0\n",
      "0*5=0\n",
      "0*6=0\n",
      "0*7=0\n",
      "0*8=0\n",
      "0*9=0\n",
      "0*10=0\n",
      "1*1=1\n",
      "1*2=2\n",
      "1*3=3\n",
      "1*4=4\n",
      "1*5=5\n",
      "1*6=6\n",
      "1*7=7\n",
      "1*8=8\n",
      "1*9=9\n",
      "1*10=10\n",
      "2*1=2\n",
      "2*2=4\n",
      "2*3=6\n",
      "2*4=8\n",
      "2*5=10\n",
      "2*6=12\n",
      "2*7=14\n",
      "2*8=16\n",
      "2*9=18\n",
      "2*10=20\n",
      "3*1=3\n",
      "3*2=6\n",
      "3*3=9\n",
      "3*4=12\n",
      "3*5=15\n",
      "3*6=18\n",
      "3*7=21\n",
      "3*8=24\n",
      "3*9=27\n",
      "3*10=30\n",
      "4*1=4\n",
      "4*2=8\n",
      "4*3=12\n",
      "4*4=16\n",
      "4*5=20\n",
      "4*6=24\n",
      "4*7=28\n",
      "4*8=32\n",
      "4*9=36\n",
      "4*10=40\n",
      "5*1=5\n",
      "5*2=10\n",
      "5*3=15\n",
      "5*4=20\n",
      "5*5=25\n",
      "5*6=30\n",
      "5*7=35\n",
      "5*8=40\n",
      "5*9=45\n",
      "5*10=50\n"
     ]
    }
   ],
   "source": [
    "for i in range(6): # print tables upto 5\n",
    "    for j in range(1,11):\n",
    "        print(\"{}*{}={}\".format(i,j,i*j))"
   ]
  },
  {
   "cell_type": "code",
   "execution_count": 33,
   "id": "c0c59845",
   "metadata": {},
   "outputs": [
    {
     "name": "stdout",
     "output_type": "stream",
     "text": [
      "6*1=6\n",
      "6*2=12\n",
      "6*3=18\n",
      "6*4=24\n",
      "6*5=30\n",
      "6*6=36\n",
      "6*7=42\n",
      "6*8=48\n",
      "6*9=54\n",
      "6*10=60\n"
     ]
    }
   ],
   "source": [
    "for i in range(1,11): # table of 6\n",
    "    print(\"6*{}={}\".format(i,6*i))"
   ]
  },
  {
   "cell_type": "code",
   "execution_count": 17,
   "id": "e54e3cb2",
   "metadata": {},
   "outputs": [
    {
     "data": {
      "text/plain": [
       "[[7, 14, 21, 28, 35, 42, 49, 56, 63, 70]]"
      ]
     },
     "execution_count": 17,
     "metadata": {},
     "output_type": "execute_result"
    }
   ],
   "source": [
    "[[i*j for j in range(1,11)] for i in range(7,8)]"
   ]
  },
  {
   "cell_type": "code",
   "execution_count": null,
   "id": "902b4b31",
   "metadata": {},
   "outputs": [],
   "source": [
    "# there are two for loop \n",
    "# we can use but it is not compulsory that's why we use two square bracket\n",
    "# starting for loop is written at last \n",
    "# output is writen at first "
   ]
  },
  {
   "cell_type": "code",
   "execution_count": null,
   "id": "f21e674c",
   "metadata": {},
   "outputs": [],
   "source": [
    "# write above code \n",
    "# in a manner 6*1=6 like that "
   ]
  },
  {
   "cell_type": "code",
   "execution_count": 35,
   "id": "c436bb7d",
   "metadata": {},
   "outputs": [
    {
     "data": {
      "text/plain": [
       "[['6*7=42',\n",
       "  '6*7=42',\n",
       "  '6*7=42',\n",
       "  '6*7=42',\n",
       "  '6*7=42',\n",
       "  '6*7=42',\n",
       "  '6*7=42',\n",
       "  '6*7=42',\n",
       "  '6*7=42',\n",
       "  '6*7=42']]"
      ]
     },
     "execution_count": 35,
     "metadata": {},
     "output_type": "execute_result"
    }
   ],
   "source": [
    "[[\"6*{}={}\".format(i,6*i) for j in range(1,11)] for i in range(7,8)]"
   ]
  },
  {
   "cell_type": "code",
   "execution_count": 36,
   "id": "76fafb94",
   "metadata": {},
   "outputs": [],
   "source": [
    "# i want to remove one square bracket"
   ]
  },
  {
   "cell_type": "code",
   "execution_count": 37,
   "id": "7f58ee3b",
   "metadata": {},
   "outputs": [
    {
     "data": {
      "text/plain": [
       "['6*7=42',\n",
       " '6*7=42',\n",
       " '6*7=42',\n",
       " '6*7=42',\n",
       " '6*7=42',\n",
       " '6*7=42',\n",
       " '6*7=42',\n",
       " '6*7=42',\n",
       " '6*7=42',\n",
       " '6*7=42']"
      ]
     },
     "execution_count": 37,
     "metadata": {},
     "output_type": "execute_result"
    }
   ],
   "source": [
    "[\"6*{}={}\".format(i,6*i) for j in range(1,11) for i in range(7,8)]"
   ]
  },
  {
   "cell_type": "code",
   "execution_count": 38,
   "id": "6c1fd83d",
   "metadata": {},
   "outputs": [
    {
     "data": {
      "text/plain": [
       "[6, 12, 18, 24, 30, 36, 42, 48, 54, 60]"
      ]
     },
     "execution_count": 38,
     "metadata": {},
     "output_type": "execute_result"
    }
   ],
   "source": [
    "[6*i for i in range(1,11)]"
   ]
  },
  {
   "cell_type": "code",
   "execution_count": 39,
   "id": "b1f50095",
   "metadata": {},
   "outputs": [
    {
     "data": {
      "text/plain": [
       "['6*1=6',\n",
       " '6*2=12',\n",
       " '6*3=18',\n",
       " '6*4=24',\n",
       " '6*5=30',\n",
       " '6*6=36',\n",
       " '6*7=42',\n",
       " '6*8=48',\n",
       " '6*9=54',\n",
       " '6*10=60']"
      ]
     },
     "execution_count": 39,
     "metadata": {},
     "output_type": "execute_result"
    }
   ],
   "source": [
    "[\"6*{}={}\".format(i,6*i) for i in range(1,11)]"
   ]
  },
  {
   "cell_type": "markdown",
   "id": "093bbef7",
   "metadata": {},
   "source": [
    "## frozenset() function"
   ]
  },
  {
   "cell_type": "code",
   "execution_count": 42,
   "id": "9b75a0dc",
   "metadata": {},
   "outputs": [
    {
     "name": "stdout",
     "output_type": "stream",
     "text": [
      "frozenset object is : frozenset({1, 2, 3, 4, 5, 6, 7, 8, 9})\n"
     ]
    }
   ],
   "source": [
    "nu={1,2,3,4,5,6,7,8,9}\n",
    "# converting set in forzenset # we can convert tuple,set,list and dictionary into frozenset\n",
    "fnum=frozenset(nu)\n",
    "# printing details \n",
    "print(\"frozenset object is :\",fnum)\n"
   ]
  },
  {
   "cell_type": "code",
   "execution_count": 43,
   "id": "eba8a86f",
   "metadata": {},
   "outputs": [
    {
     "data": {
      "text/plain": [
       "frozenset({1, 2, 3, 4, 5, 6, 7, 8, 9})"
      ]
     },
     "execution_count": 43,
     "metadata": {},
     "output_type": "execute_result"
    }
   ],
   "source": [
    "fnum"
   ]
  },
  {
   "cell_type": "code",
   "execution_count": 44,
   "id": "f8b5f860",
   "metadata": {},
   "outputs": [],
   "source": [
    "# frozenset har bar likha aaye when we convert set,tuple,list,dictionary in frozenset"
   ]
  },
  {
   "cell_type": "code",
   "execution_count": 45,
   "id": "eb00b89d",
   "metadata": {},
   "outputs": [],
   "source": [
    "# in frozenset we cannot add the value or change the value\n",
    "# forzen means freezed"
   ]
  },
  {
   "cell_type": "code",
   "execution_count": 48,
   "id": "7fbb3bdf",
   "metadata": {},
   "outputs": [],
   "source": [
    "nu.add(10)"
   ]
  },
  {
   "cell_type": "code",
   "execution_count": 49,
   "id": "89f75396",
   "metadata": {},
   "outputs": [
    {
     "data": {
      "text/plain": [
       "{1, 2, 3, 4, 5, 6, 7, 8, 9, 10}"
      ]
     },
     "execution_count": 49,
     "metadata": {},
     "output_type": "execute_result"
    }
   ],
   "source": [
    "nu # 10 is added"
   ]
  },
  {
   "cell_type": "code",
   "execution_count": 50,
   "id": "72285f5e",
   "metadata": {},
   "outputs": [
    {
     "data": {
      "text/plain": [
       "{1, 2, 3, 4, 5, 6, 7, 8, 9, 10}"
      ]
     },
     "execution_count": 50,
     "metadata": {},
     "output_type": "execute_result"
    }
   ],
   "source": [
    "nu.add(5)\n",
    "nu # 5 aldready in set so it will print twice"
   ]
  },
  {
   "cell_type": "code",
   "execution_count": 51,
   "id": "5bbf6b9c",
   "metadata": {},
   "outputs": [
    {
     "ename": "AttributeError",
     "evalue": "'frozenset' object has no attribute 'add'",
     "output_type": "error",
     "traceback": [
      "\u001b[1;31m---------------------------------------------------------------------------\u001b[0m",
      "\u001b[1;31mAttributeError\u001b[0m                            Traceback (most recent call last)",
      "Input \u001b[1;32mIn [51]\u001b[0m, in \u001b[0;36m<cell line: 1>\u001b[1;34m()\u001b[0m\n\u001b[1;32m----> 1\u001b[0m \u001b[43mfnum\u001b[49m\u001b[38;5;241;43m.\u001b[39;49m\u001b[43madd\u001b[49m(\u001b[38;5;241m10\u001b[39m)\n",
      "\u001b[1;31mAttributeError\u001b[0m: 'frozenset' object has no attribute 'add'"
     ]
    }
   ],
   "source": [
    "fnum.add(10) "
   ]
  },
  {
   "cell_type": "markdown",
   "id": "3029b5d9",
   "metadata": {},
   "source": [
    "## Assert"
   ]
  },
  {
   "cell_type": "code",
   "execution_count": null,
   "id": "b472c93b",
   "metadata": {},
   "outputs": [],
   "source": [
    "an assertion is a sanity-check that you can turn on or turnoff \n",
    "when you have finished testing the program"
   ]
  },
  {
   "cell_type": "markdown",
   "id": "cf1f8fc9",
   "metadata": {},
   "source": [
    "- an expression is tested,and if the result comes up false,an exception is raised\n",
    "- assertion are carried out through use of the assert statements"
   ]
  },
  {
   "cell_type": "code",
   "execution_count": 53,
   "id": "e2f78cdc",
   "metadata": {},
   "outputs": [
    {
     "name": "stdout",
     "output_type": "stream",
     "text": [
      "abc\n"
     ]
    }
   ],
   "source": [
    "assert 2+2==4 # this condition is true\n",
    "print(\"abc\")"
   ]
  },
  {
   "cell_type": "code",
   "execution_count": 54,
   "id": "c4efa966",
   "metadata": {},
   "outputs": [
    {
     "ename": "AssertionError",
     "evalue": "",
     "output_type": "error",
     "traceback": [
      "\u001b[1;31m---------------------------------------------------------------------------\u001b[0m",
      "\u001b[1;31mAssertionError\u001b[0m                            Traceback (most recent call last)",
      "Input \u001b[1;32mIn [54]\u001b[0m, in \u001b[0;36m<cell line: 1>\u001b[1;34m()\u001b[0m\n\u001b[1;32m----> 1\u001b[0m \u001b[38;5;28;01massert\u001b[39;00m \u001b[38;5;241m1\u001b[39m\u001b[38;5;241m+\u001b[39m\u001b[38;5;241m1\u001b[39m\u001b[38;5;241m==\u001b[39m\u001b[38;5;241m3\u001b[39m\n\u001b[0;32m      2\u001b[0m \u001b[38;5;28mprint\u001b[39m(\u001b[38;5;124m\"\u001b[39m\u001b[38;5;124mabc\u001b[39m\u001b[38;5;124m\"\u001b[39m)\n",
      "\u001b[1;31mAssertionError\u001b[0m: "
     ]
    }
   ],
   "source": [
    "assert 1+1==3 # assertion error\n",
    "print(\"abc\") # condition is false"
   ]
  },
  {
   "cell_type": "code",
   "execution_count": 55,
   "id": "182974f6",
   "metadata": {},
   "outputs": [
    {
     "ename": "AssertionError",
     "evalue": "",
     "output_type": "error",
     "traceback": [
      "\u001b[1;31m---------------------------------------------------------------------------\u001b[0m",
      "\u001b[1;31mAssertionError\u001b[0m                            Traceback (most recent call last)",
      "Input \u001b[1;32mIn [55]\u001b[0m, in \u001b[0;36m<cell line: 1>\u001b[1;34m()\u001b[0m\n\u001b[1;32m----> 1\u001b[0m \u001b[38;5;28;01massert\u001b[39;00m \u001b[38;5;124m\"\u001b[39m\u001b[38;5;124mh\u001b[39m\u001b[38;5;124m\"\u001b[39m\u001b[38;5;241m==\u001b[39m\u001b[38;5;124m\"\u001b[39m\u001b[38;5;124mw\u001b[39m\u001b[38;5;124m\"\u001b[39m \u001b[38;5;66;03m# condition is false \u001b[39;00m\n\u001b[0;32m      2\u001b[0m \u001b[38;5;28mprint\u001b[39m(\u001b[38;5;124m\"\u001b[39m\u001b[38;5;124mabc\u001b[39m\u001b[38;5;124m\"\u001b[39m)\n",
      "\u001b[1;31mAssertionError\u001b[0m: "
     ]
    }
   ],
   "source": [
    "assert \"h\"==\"w\" # condition is false \n",
    "print(\"abc\") # assertion error"
   ]
  },
  {
   "cell_type": "code",
   "execution_count": 56,
   "id": "4231a8ac",
   "metadata": {},
   "outputs": [
    {
     "name": "stdout",
     "output_type": "stream",
     "text": [
      "abc\n"
     ]
    }
   ],
   "source": [
    "assert \"h\"==\"h\"\n",
    "print(\"abc\")"
   ]
  },
  {
   "cell_type": "code",
   "execution_count": null,
   "id": "6d5f8907",
   "metadata": {},
   "outputs": [],
   "source": []
  }
 ],
 "metadata": {
  "kernelspec": {
   "display_name": "Python 3 (ipykernel)",
   "language": "python",
   "name": "python3"
  },
  "language_info": {
   "codemirror_mode": {
    "name": "ipython",
    "version": 3
   },
   "file_extension": ".py",
   "mimetype": "text/x-python",
   "name": "python",
   "nbconvert_exporter": "python",
   "pygments_lexer": "ipython3",
   "version": "3.9.12"
  }
 },
 "nbformat": 4,
 "nbformat_minor": 5
}
