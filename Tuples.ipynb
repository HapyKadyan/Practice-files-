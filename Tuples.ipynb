{
 "cells": [
  {
   "cell_type": "code",
   "execution_count": null,
   "id": "83696cc5",
   "metadata": {},
   "outputs": [],
   "source": [
    "# Strings\n",
    "# Lists\n",
    "# Dictionary\n",
    "# Tuples\n",
    "# File handling"
   ]
  },
  {
   "cell_type": "code",
   "execution_count": null,
   "id": "1ba0a852",
   "metadata": {},
   "outputs": [],
   "source": [
    "string1='python'\n",
    "list1=['p','y','t','h','o','n']\n",
    "dict1={'string':'python'}"
   ]
  },
  {
   "cell_type": "code",
   "execution_count": 1,
   "id": "6c308a29",
   "metadata": {},
   "outputs": [
    {
     "data": {
      "text/plain": [
       "('Mobile', 'laptop', 'powerbank', 10, 20, 30, 20.5, 30.2)"
      ]
     },
     "execution_count": 1,
     "metadata": {},
     "output_type": "execute_result"
    }
   ],
   "source": [
    "elements=('Mobile','laptop','powerbank',10,20,30,20.5,30.2)\n",
    "elements"
   ]
  },
  {
   "cell_type": "code",
   "execution_count": 2,
   "id": "0f6fefde",
   "metadata": {},
   "outputs": [
    {
     "data": {
      "text/plain": [
       "tuple"
      ]
     },
     "execution_count": 2,
     "metadata": {},
     "output_type": "execute_result"
    }
   ],
   "source": [
    "type(elements)"
   ]
  },
  {
   "cell_type": "code",
   "execution_count": 3,
   "id": "3549b1fd",
   "metadata": {},
   "outputs": [
    {
     "data": {
      "text/plain": [
       "('tea', 'coffee', 'milk', 10, 20)"
      ]
     },
     "execution_count": 3,
     "metadata": {},
     "output_type": "execute_result"
    }
   ],
   "source": [
    "items='tea','coffee','milk',10,20\n",
    "items"
   ]
  },
  {
   "cell_type": "code",
   "execution_count": 4,
   "id": "7e48a5b8",
   "metadata": {},
   "outputs": [
    {
     "data": {
      "text/plain": [
       "tuple"
      ]
     },
     "execution_count": 4,
     "metadata": {},
     "output_type": "execute_result"
    }
   ],
   "source": [
    "type(items)"
   ]
  },
  {
   "cell_type": "code",
   "execution_count": 5,
   "id": "6061cb9d",
   "metadata": {},
   "outputs": [
    {
     "data": {
      "text/plain": [
       "(10, 20)"
      ]
     },
     "execution_count": 5,
     "metadata": {},
     "output_type": "execute_result"
    }
   ],
   "source": [
    "a=10,20\n",
    "a"
   ]
  },
  {
   "cell_type": "code",
   "execution_count": 6,
   "id": "2ddda963",
   "metadata": {},
   "outputs": [
    {
     "name": "stdout",
     "output_type": "stream",
     "text": [
      "a: 10\n",
      "b: 20\n"
     ]
    }
   ],
   "source": [
    "a,b=10,20\n",
    "print('a:',a)\n",
    "print('b:',b)"
   ]
  },
  {
   "cell_type": "code",
   "execution_count": 7,
   "id": "a759521c",
   "metadata": {},
   "outputs": [
    {
     "data": {
      "text/plain": [
       "('Mobile', 'laptop', 'powerbank', 10, 20, 30, 20.5, 30.2)"
      ]
     },
     "execution_count": 7,
     "metadata": {},
     "output_type": "execute_result"
    }
   ],
   "source": [
    "elements"
   ]
  },
  {
   "cell_type": "code",
   "execution_count": 8,
   "id": "8549d360",
   "metadata": {},
   "outputs": [
    {
     "data": {
      "text/plain": [
       "'Mobile'"
      ]
     },
     "execution_count": 8,
     "metadata": {},
     "output_type": "execute_result"
    }
   ],
   "source": [
    "elements[0]"
   ]
  },
  {
   "cell_type": "code",
   "execution_count": 9,
   "id": "4677750c",
   "metadata": {},
   "outputs": [
    {
     "data": {
      "text/plain": [
       "10"
      ]
     },
     "execution_count": 9,
     "metadata": {},
     "output_type": "execute_result"
    }
   ],
   "source": [
    "elements[3]"
   ]
  },
  {
   "cell_type": "code",
   "execution_count": 10,
   "id": "93cc79c5",
   "metadata": {},
   "outputs": [
    {
     "data": {
      "text/plain": [
       "('powerbank', 10, 20)"
      ]
     },
     "execution_count": 10,
     "metadata": {},
     "output_type": "execute_result"
    }
   ],
   "source": [
    "elements[2:5]  \n",
    "#start =2\n",
    "# end=end-1=5-1=4\n",
    "# pos"
   ]
  },
  {
   "cell_type": "markdown",
   "id": "1d660a2d",
   "metadata": {},
   "source": [
    "$mutable$ $concept$"
   ]
  },
  {
   "cell_type": "code",
   "execution_count": 11,
   "id": "aac29fff",
   "metadata": {},
   "outputs": [
    {
     "data": {
      "text/plain": [
       "('Mobile', 'laptop', 'powerbank', 10, 20, 30, 20.5, 30.2)"
      ]
     },
     "execution_count": 11,
     "metadata": {},
     "output_type": "execute_result"
    }
   ],
   "source": [
    "elements"
   ]
  },
  {
   "cell_type": "code",
   "execution_count": 13,
   "id": "885db508",
   "metadata": {},
   "outputs": [
    {
     "ename": "TypeError",
     "evalue": "'tuple' object does not support item assignment",
     "output_type": "error",
     "traceback": [
      "\u001b[1;31m---------------------------------------------------------------------------\u001b[0m",
      "\u001b[1;31mTypeError\u001b[0m                                 Traceback (most recent call last)",
      "\u001b[1;32m<ipython-input-13-35acb5158cd6>\u001b[0m in \u001b[0;36m<module>\u001b[1;34m\u001b[0m\n\u001b[1;32m----> 1\u001b[1;33m \u001b[0melements\u001b[0m\u001b[1;33m[\u001b[0m\u001b[1;36m1\u001b[0m\u001b[1;33m]\u001b[0m\u001b[1;33m=\u001b[0m\u001b[1;34m'car'\u001b[0m\u001b[1;33m\u001b[0m\u001b[1;33m\u001b[0m\u001b[0m\n\u001b[0m",
      "\u001b[1;31mTypeError\u001b[0m: 'tuple' object does not support item assignment"
     ]
    }
   ],
   "source": [
    "elements[1]='car'"
   ]
  },
  {
   "cell_type": "markdown",
   "id": "717de06a",
   "metadata": {},
   "source": [
    "- we cant change the values by using index\n",
    "\n",
    "- tuples are immutable"
   ]
  },
  {
   "cell_type": "markdown",
   "id": "d364432e",
   "metadata": {},
   "source": [
    "- Heterogeneous: tuple might have different data type values\n",
    "    \n",
    "- Tuples are immutable\n",
    "\n",
    "- Tuples can have duplicates\n",
    "\n",
    "- Elements seperated by comma\n",
    "\n",
    "- Lists can have multiple data items\n",
    "\n",
    "- Lists can have duplicates\n",
    "\n",
    "- Lists are mutable\n",
    "\n",
    "- Dictionary are mutable\n",
    "\n",
    "- Strings are immutable"
   ]
  },
  {
   "cell_type": "code",
   "execution_count": 14,
   "id": "4234af18",
   "metadata": {},
   "outputs": [
    {
     "data": {
      "text/plain": [
       "('Mobile', 'laptop', 'powerbank', 10, 20, 30, 20.5, 30.2)"
      ]
     },
     "execution_count": 14,
     "metadata": {},
     "output_type": "execute_result"
    }
   ],
   "source": [
    "elements"
   ]
  },
  {
   "cell_type": "code",
   "execution_count": 15,
   "id": "fd6edba5",
   "metadata": {},
   "outputs": [
    {
     "data": {
      "text/plain": [
       "8"
      ]
     },
     "execution_count": 15,
     "metadata": {},
     "output_type": "execute_result"
    }
   ],
   "source": [
    "len(elements)"
   ]
  },
  {
   "cell_type": "code",
   "execution_count": 17,
   "id": "4bb86e06",
   "metadata": {},
   "outputs": [
    {
     "data": {
      "text/plain": [
       "30.2"
      ]
     },
     "execution_count": 17,
     "metadata": {},
     "output_type": "execute_result"
    }
   ],
   "source": [
    "elements1=(10, 20, 30, 20.5, 30.2)\n",
    "max(elements1)"
   ]
  },
  {
   "cell_type": "code",
   "execution_count": 18,
   "id": "a2cd7996",
   "metadata": {},
   "outputs": [
    {
     "data": {
      "text/plain": [
       "10"
      ]
     },
     "execution_count": 18,
     "metadata": {},
     "output_type": "execute_result"
    }
   ],
   "source": [
    "min(elements1)"
   ]
  },
  {
   "cell_type": "code",
   "execution_count": 23,
   "id": "807e6edd",
   "metadata": {},
   "outputs": [
    {
     "data": {
      "text/plain": [
       "'powerbank'"
      ]
     },
     "execution_count": 23,
     "metadata": {},
     "output_type": "execute_result"
    }
   ],
   "source": [
    "elements2=('Mobile', 'laptop', 'powerbank')\n",
    "max(elements2)\n",
    "\n",
    "#print(ord('p'))\n",
    "# M=77\n",
    "# l=108\n",
    "# p=112"
   ]
  },
  {
   "cell_type": "code",
   "execution_count": 24,
   "id": "9efb9c26",
   "metadata": {},
   "outputs": [
    {
     "data": {
      "text/plain": [
       "'Mobile'"
      ]
     },
     "execution_count": 24,
     "metadata": {},
     "output_type": "execute_result"
    }
   ],
   "source": [
    "min(elements2)"
   ]
  },
  {
   "cell_type": "code",
   "execution_count": 25,
   "id": "0968647d",
   "metadata": {},
   "outputs": [
    {
     "data": {
      "text/plain": [
       "(10, 20, 30, 20.5, 30.2, 'Mobile', 'laptop', 'powerbank')"
      ]
     },
     "execution_count": 25,
     "metadata": {},
     "output_type": "execute_result"
    }
   ],
   "source": [
    "elements1+elements2"
   ]
  },
  {
   "cell_type": "code",
   "execution_count": 26,
   "id": "2593195e",
   "metadata": {},
   "outputs": [
    {
     "data": {
      "text/plain": [
       "('Mobile', 'laptop', 'powerbank', 10, 20, 30, 20.5, 30.2)"
      ]
     },
     "execution_count": 26,
     "metadata": {},
     "output_type": "execute_result"
    }
   ],
   "source": [
    "elements"
   ]
  },
  {
   "cell_type": "code",
   "execution_count": 27,
   "id": "8b4d263e",
   "metadata": {},
   "outputs": [
    {
     "data": {
      "text/plain": [
       "True"
      ]
     },
     "execution_count": 27,
     "metadata": {},
     "output_type": "execute_result"
    }
   ],
   "source": [
    "'Mobile' in elements"
   ]
  },
  {
   "cell_type": "code",
   "execution_count": 28,
   "id": "64bb9563",
   "metadata": {},
   "outputs": [
    {
     "data": {
      "text/plain": [
       "True"
      ]
     },
     "execution_count": 28,
     "metadata": {},
     "output_type": "execute_result"
    }
   ],
   "source": [
    "'mobile' not in elements"
   ]
  },
  {
   "cell_type": "code",
   "execution_count": 29,
   "id": "24d8a2ef",
   "metadata": {},
   "outputs": [
    {
     "name": "stdout",
     "output_type": "stream",
     "text": [
      "Mobile\n",
      "laptop\n",
      "powerbank\n",
      "10\n",
      "20\n",
      "30\n",
      "20.5\n",
      "30.2\n"
     ]
    }
   ],
   "source": [
    "for i in elements:\n",
    "    print(i)"
   ]
  },
  {
   "cell_type": "code",
   "execution_count": 30,
   "id": "2b8d93fd",
   "metadata": {},
   "outputs": [
    {
     "data": {
      "text/plain": [
       "['__add__',\n",
       " '__class__',\n",
       " '__contains__',\n",
       " '__delattr__',\n",
       " '__delitem__',\n",
       " '__dir__',\n",
       " '__doc__',\n",
       " '__eq__',\n",
       " '__format__',\n",
       " '__ge__',\n",
       " '__getattribute__',\n",
       " '__getitem__',\n",
       " '__gt__',\n",
       " '__hash__',\n",
       " '__iadd__',\n",
       " '__imul__',\n",
       " '__init__',\n",
       " '__init_subclass__',\n",
       " '__iter__',\n",
       " '__le__',\n",
       " '__len__',\n",
       " '__lt__',\n",
       " '__mul__',\n",
       " '__ne__',\n",
       " '__new__',\n",
       " '__reduce__',\n",
       " '__reduce_ex__',\n",
       " '__repr__',\n",
       " '__reversed__',\n",
       " '__rmul__',\n",
       " '__setattr__',\n",
       " '__setitem__',\n",
       " '__sizeof__',\n",
       " '__str__',\n",
       " '__subclasshook__',\n",
       " 'append',\n",
       " 'clear',\n",
       " 'copy',\n",
       " 'count',\n",
       " 'extend',\n",
       " 'index',\n",
       " 'insert',\n",
       " 'pop',\n",
       " 'remove',\n",
       " 'reverse',\n",
       " 'sort']"
      ]
     },
     "execution_count": 30,
     "metadata": {},
     "output_type": "execute_result"
    }
   ],
   "source": [
    "# mutable vs immutable\n",
    "# []  vs ()\n",
    "dir([])"
   ]
  },
  {
   "cell_type": "code",
   "execution_count": 31,
   "id": "de966077",
   "metadata": {},
   "outputs": [
    {
     "data": {
      "text/plain": [
       "['__add__',\n",
       " '__class__',\n",
       " '__contains__',\n",
       " '__delattr__',\n",
       " '__dir__',\n",
       " '__doc__',\n",
       " '__eq__',\n",
       " '__format__',\n",
       " '__ge__',\n",
       " '__getattribute__',\n",
       " '__getitem__',\n",
       " '__getnewargs__',\n",
       " '__gt__',\n",
       " '__hash__',\n",
       " '__init__',\n",
       " '__init_subclass__',\n",
       " '__iter__',\n",
       " '__le__',\n",
       " '__len__',\n",
       " '__lt__',\n",
       " '__mul__',\n",
       " '__ne__',\n",
       " '__new__',\n",
       " '__reduce__',\n",
       " '__reduce_ex__',\n",
       " '__repr__',\n",
       " '__rmul__',\n",
       " '__setattr__',\n",
       " '__sizeof__',\n",
       " '__str__',\n",
       " '__subclasshook__',\n",
       " 'count',\n",
       " 'index']"
      ]
     },
     "execution_count": 31,
     "metadata": {},
     "output_type": "execute_result"
    }
   ],
   "source": [
    "dir(())"
   ]
  },
  {
   "cell_type": "code",
   "execution_count": 32,
   "id": "08a91f92",
   "metadata": {},
   "outputs": [
    {
     "data": {
      "text/plain": [
       "(10, 20, 30, 20.5, 30.2)"
      ]
     },
     "execution_count": 32,
     "metadata": {},
     "output_type": "execute_result"
    }
   ],
   "source": [
    "elements1"
   ]
  },
  {
   "cell_type": "code",
   "execution_count": 34,
   "id": "2fe83c0c",
   "metadata": {},
   "outputs": [],
   "source": [
    "elem=list(elements1)"
   ]
  },
  {
   "cell_type": "code",
   "execution_count": 35,
   "id": "d3820968",
   "metadata": {},
   "outputs": [
    {
     "data": {
      "text/plain": [
       "1"
      ]
     },
     "execution_count": 35,
     "metadata": {},
     "output_type": "execute_result"
    }
   ],
   "source": [
    "elements1.count(10)"
   ]
  },
  {
   "cell_type": "code",
   "execution_count": 36,
   "id": "aed66d89",
   "metadata": {},
   "outputs": [
    {
     "data": {
      "text/plain": [
       "3"
      ]
     },
     "execution_count": 36,
     "metadata": {},
     "output_type": "execute_result"
    }
   ],
   "source": [
    "elements.index(10)"
   ]
  },
  {
   "cell_type": "code",
   "execution_count": null,
   "id": "7e77dc80",
   "metadata": {},
   "outputs": [],
   "source": [
    "# methods\n",
    "# inbuilt functions"
   ]
  },
  {
   "cell_type": "markdown",
   "id": "f2ed7a3e",
   "metadata": {},
   "source": [
    "**inbuilt functions**\n",
    "\n",
    "- print\n",
    "\n",
    "- type\n",
    "\n",
    "- len\n",
    "\n",
    "- max\n",
    "\n",
    "- min\n",
    "\n",
    "- input"
   ]
  },
  {
   "cell_type": "code",
   "execution_count": 44,
   "id": "bb33e6a0",
   "metadata": {},
   "outputs": [],
   "source": [
    "list1=[]\n",
    "list1.append(5)"
   ]
  },
  {
   "cell_type": "code",
   "execution_count": 45,
   "id": "692a3993",
   "metadata": {},
   "outputs": [
    {
     "data": {
      "text/plain": [
       "[5]"
      ]
     },
     "execution_count": 45,
     "metadata": {},
     "output_type": "execute_result"
    }
   ],
   "source": [
    "list1"
   ]
  },
  {
   "cell_type": "code",
   "execution_count": null,
   "id": "6a076b48",
   "metadata": {},
   "outputs": [],
   "source": []
  },
  {
   "cell_type": "code",
   "execution_count": null,
   "id": "5607f5d6",
   "metadata": {},
   "outputs": [],
   "source": []
  }
 ],
 "metadata": {
  "kernelspec": {
   "display_name": "Python 3 (ipykernel)",
   "language": "python",
   "name": "python3"
  },
  "language_info": {
   "codemirror_mode": {
    "name": "ipython",
    "version": 3
   },
   "file_extension": ".py",
   "mimetype": "text/x-python",
   "name": "python",
   "nbconvert_exporter": "python",
   "pygments_lexer": "ipython3",
   "version": "3.9.12"
  }
 },
 "nbformat": 4,
 "nbformat_minor": 5
}
