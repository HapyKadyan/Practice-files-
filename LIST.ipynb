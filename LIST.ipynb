{
 "cells": [
  {
   "cell_type": "code",
   "execution_count": 1,
   "id": "f0d962af",
   "metadata": {},
   "outputs": [
    {
     "data": {
      "text/plain": [
       "str"
      ]
     },
     "execution_count": 1,
     "metadata": {},
     "output_type": "execute_result"
    }
   ],
   "source": [
    "string='python'\n",
    "type(string)\n",
    "\n",
    "# strings in quotes"
   ]
  },
  {
   "cell_type": "code",
   "execution_count": 2,
   "id": "98aa4ba3",
   "metadata": {},
   "outputs": [
    {
     "data": {
      "text/plain": [
       "[1, 2, 3, 4]"
      ]
     },
     "execution_count": 2,
     "metadata": {},
     "output_type": "execute_result"
    }
   ],
   "source": [
    "list1=[1,2,3,4]  # represents in square brackets\n",
    "list1"
   ]
  },
  {
   "cell_type": "code",
   "execution_count": 3,
   "id": "baeb8f50",
   "metadata": {},
   "outputs": [
    {
     "data": {
      "text/plain": [
       "list"
      ]
     },
     "execution_count": 3,
     "metadata": {},
     "output_type": "execute_result"
    }
   ],
   "source": [
    "type(list1)"
   ]
  },
  {
   "cell_type": "code",
   "execution_count": 4,
   "id": "2da90b75",
   "metadata": {},
   "outputs": [
    {
     "data": {
      "text/plain": [
       "[1, 1, 1, 2, 3, 3, 3, 4, 4]"
      ]
     },
     "execution_count": 4,
     "metadata": {},
     "output_type": "execute_result"
    }
   ],
   "source": [
    "list1=[1,1,1,2,3,3,3,4,4]\n",
    "list1   # list can have duplicates"
   ]
  },
  {
   "cell_type": "code",
   "execution_count": 5,
   "id": "2f3d26c9",
   "metadata": {},
   "outputs": [
    {
     "data": {
      "text/plain": [
       "['Apple', 'Banana', 'Cherry', 120, 130, 40.6, 8.9]"
      ]
     },
     "execution_count": 5,
     "metadata": {},
     "output_type": "execute_result"
    }
   ],
   "source": [
    "list2=['Apple','Banana','Cherry',120,130,40.6,8.9]\n",
    "# strings, integers,floats, complex, bool\n",
    "list2"
   ]
  },
  {
   "cell_type": "markdown",
   "id": "a8a220f6",
   "metadata": {},
   "source": [
    "- Elements are enclosed in [] paranthesis\n",
    "\n",
    "- Elements are seperated by comma\n",
    "\n",
    "- list can have duplicates\n",
    "\n",
    "- list can have heterogeneous(can have different data types)"
   ]
  },
  {
   "cell_type": "markdown",
   "id": "da83d328",
   "metadata": {},
   "source": [
    "$index$"
   ]
  },
  {
   "cell_type": "code",
   "execution_count": 6,
   "id": "bee4eb73",
   "metadata": {},
   "outputs": [
    {
     "data": {
      "text/plain": [
       "'p'"
      ]
     },
     "execution_count": 6,
     "metadata": {},
     "output_type": "execute_result"
    }
   ],
   "source": [
    "string='python'\n",
    "string[0]\n",
    "# in python index starts with zero\n",
    "# this applicable for all data types"
   ]
  },
  {
   "cell_type": "code",
   "execution_count": 7,
   "id": "8671b187",
   "metadata": {},
   "outputs": [
    {
     "data": {
      "text/plain": [
       "['Apple', 'Banana', 'Cherry', 120, 130, 40.6, 8.9]"
      ]
     },
     "execution_count": 7,
     "metadata": {},
     "output_type": "execute_result"
    }
   ],
   "source": [
    "list2"
   ]
  },
  {
   "cell_type": "code",
   "execution_count": 8,
   "id": "0af58d80",
   "metadata": {},
   "outputs": [
    {
     "data": {
      "text/plain": [
       "'Apple'"
      ]
     },
     "execution_count": 8,
     "metadata": {},
     "output_type": "execute_result"
    }
   ],
   "source": [
    "list2[0]"
   ]
  },
  {
   "cell_type": "code",
   "execution_count": 9,
   "id": "94ada340",
   "metadata": {},
   "outputs": [
    {
     "data": {
      "text/plain": [
       "130"
      ]
     },
     "execution_count": 9,
     "metadata": {},
     "output_type": "execute_result"
    }
   ],
   "source": [
    "list2[4]"
   ]
  },
  {
   "cell_type": "markdown",
   "id": "1882af2a",
   "metadata": {},
   "source": [
    "$len$"
   ]
  },
  {
   "cell_type": "code",
   "execution_count": 10,
   "id": "1b1aaa15",
   "metadata": {},
   "outputs": [
    {
     "data": {
      "text/plain": [
       "6"
      ]
     },
     "execution_count": 10,
     "metadata": {},
     "output_type": "execute_result"
    }
   ],
   "source": [
    "string='python'\n",
    "len(string)      # 6 letters are there"
   ]
  },
  {
   "cell_type": "code",
   "execution_count": 11,
   "id": "664393d6",
   "metadata": {},
   "outputs": [
    {
     "data": {
      "text/plain": [
       "['Apple', 'Banana', 'Cherry', 120, 130, 40.6, 8.9]"
      ]
     },
     "execution_count": 11,
     "metadata": {},
     "output_type": "execute_result"
    }
   ],
   "source": [
    "list2"
   ]
  },
  {
   "cell_type": "code",
   "execution_count": 12,
   "id": "73658f71",
   "metadata": {},
   "outputs": [
    {
     "data": {
      "text/plain": [
       "7"
      ]
     },
     "execution_count": 12,
     "metadata": {},
     "output_type": "execute_result"
    }
   ],
   "source": [
    "len(list2)  # how many elements are there in a list"
   ]
  },
  {
   "cell_type": "code",
   "execution_count": 13,
   "id": "7b9f6c82",
   "metadata": {},
   "outputs": [
    {
     "data": {
      "text/plain": [
       "[1, 1, 1, 2, 3, 3, 3, 4, 4]"
      ]
     },
     "execution_count": 13,
     "metadata": {},
     "output_type": "execute_result"
    }
   ],
   "source": [
    "list1"
   ]
  },
  {
   "cell_type": "code",
   "execution_count": 14,
   "id": "d28207e3",
   "metadata": {},
   "outputs": [
    {
     "data": {
      "text/plain": [
       "9"
      ]
     },
     "execution_count": 14,
     "metadata": {},
     "output_type": "execute_result"
    }
   ],
   "source": [
    "len(list1)"
   ]
  },
  {
   "cell_type": "code",
   "execution_count": 15,
   "id": "9ab26d62",
   "metadata": {},
   "outputs": [
    {
     "data": {
      "text/plain": [
       "['__add__',\n",
       " '__class__',\n",
       " '__contains__',\n",
       " '__delattr__',\n",
       " '__delitem__',\n",
       " '__dir__',\n",
       " '__doc__',\n",
       " '__eq__',\n",
       " '__format__',\n",
       " '__ge__',\n",
       " '__getattribute__',\n",
       " '__getitem__',\n",
       " '__gt__',\n",
       " '__hash__',\n",
       " '__iadd__',\n",
       " '__imul__',\n",
       " '__init__',\n",
       " '__init_subclass__',\n",
       " '__iter__',\n",
       " '__le__',\n",
       " '__len__',\n",
       " '__lt__',\n",
       " '__mul__',\n",
       " '__ne__',\n",
       " '__new__',\n",
       " '__reduce__',\n",
       " '__reduce_ex__',\n",
       " '__repr__',\n",
       " '__reversed__',\n",
       " '__rmul__',\n",
       " '__setattr__',\n",
       " '__setitem__',\n",
       " '__sizeof__',\n",
       " '__str__',\n",
       " '__subclasshook__',\n",
       " 'append',\n",
       " 'clear',\n",
       " 'copy',\n",
       " 'count',\n",
       " 'extend',\n",
       " 'index',\n",
       " 'insert',\n",
       " 'pop',\n",
       " 'remove',\n",
       " 'reverse',\n",
       " 'sort']"
      ]
     },
     "execution_count": 15,
     "metadata": {},
     "output_type": "execute_result"
    }
   ],
   "source": [
    "dir(list1)"
   ]
  },
  {
   "cell_type": "code",
   "execution_count": 16,
   "id": "47cc2301",
   "metadata": {},
   "outputs": [
    {
     "ename": "AttributeError",
     "evalue": "'list' object has no attribute 'len'",
     "output_type": "error",
     "traceback": [
      "\u001b[1;31m---------------------------------------------------------------------------\u001b[0m",
      "\u001b[1;31mAttributeError\u001b[0m                            Traceback (most recent call last)",
      "\u001b[1;32m<ipython-input-16-967575449f5f>\u001b[0m in \u001b[0;36m<module>\u001b[1;34m\u001b[0m\n\u001b[1;32m----> 1\u001b[1;33m \u001b[0mlist1\u001b[0m\u001b[1;33m.\u001b[0m\u001b[0mlen\u001b[0m\u001b[1;33m(\u001b[0m\u001b[1;33m)\u001b[0m\u001b[1;33m\u001b[0m\u001b[1;33m\u001b[0m\u001b[0m\n\u001b[0m",
      "\u001b[1;31mAttributeError\u001b[0m: 'list' object has no attribute 'len'"
     ]
    }
   ],
   "source": [
    "list1.len()"
   ]
  },
  {
   "cell_type": "markdown",
   "id": "c6530c04",
   "metadata": {},
   "source": [
    "$max$-$min$"
   ]
  },
  {
   "cell_type": "code",
   "execution_count": 17,
   "id": "d71a9b8b",
   "metadata": {},
   "outputs": [
    {
     "data": {
      "text/plain": [
       "[1, 1, 1, 2, 3, 3, 3, 4, 4]"
      ]
     },
     "execution_count": 17,
     "metadata": {},
     "output_type": "execute_result"
    }
   ],
   "source": [
    "list1"
   ]
  },
  {
   "cell_type": "code",
   "execution_count": 18,
   "id": "f394819b",
   "metadata": {},
   "outputs": [
    {
     "data": {
      "text/plain": [
       "4"
      ]
     },
     "execution_count": 18,
     "metadata": {},
     "output_type": "execute_result"
    }
   ],
   "source": [
    "max(list1)"
   ]
  },
  {
   "cell_type": "code",
   "execution_count": 19,
   "id": "23bdc6bb",
   "metadata": {},
   "outputs": [
    {
     "data": {
      "text/plain": [
       "1"
      ]
     },
     "execution_count": 19,
     "metadata": {},
     "output_type": "execute_result"
    }
   ],
   "source": [
    "min(list1)"
   ]
  },
  {
   "cell_type": "code",
   "execution_count": 20,
   "id": "12481750",
   "metadata": {},
   "outputs": [
    {
     "data": {
      "text/plain": [
       "['Apple', 'Banana', 'Cherry', 120, 130, 40.6, 8.9]"
      ]
     },
     "execution_count": 20,
     "metadata": {},
     "output_type": "execute_result"
    }
   ],
   "source": [
    "list2"
   ]
  },
  {
   "cell_type": "code",
   "execution_count": 21,
   "id": "d41e540b",
   "metadata": {},
   "outputs": [
    {
     "ename": "TypeError",
     "evalue": "'>' not supported between instances of 'int' and 'str'",
     "output_type": "error",
     "traceback": [
      "\u001b[1;31m---------------------------------------------------------------------------\u001b[0m",
      "\u001b[1;31mTypeError\u001b[0m                                 Traceback (most recent call last)",
      "\u001b[1;32m<ipython-input-21-4b1bd72b6c67>\u001b[0m in \u001b[0;36m<module>\u001b[1;34m\u001b[0m\n\u001b[0;32m      1\u001b[0m \u001b[1;31m# we can't compare strings with integers\u001b[0m\u001b[1;33m\u001b[0m\u001b[1;33m\u001b[0m\u001b[1;33m\u001b[0m\u001b[0m\n\u001b[1;32m----> 2\u001b[1;33m \u001b[0mmax\u001b[0m\u001b[1;33m(\u001b[0m\u001b[0mlist2\u001b[0m\u001b[1;33m)\u001b[0m\u001b[1;33m\u001b[0m\u001b[1;33m\u001b[0m\u001b[0m\n\u001b[0m",
      "\u001b[1;31mTypeError\u001b[0m: '>' not supported between instances of 'int' and 'str'"
     ]
    }
   ],
   "source": [
    "# we can't compare strings with integers\n",
    "max(list2)"
   ]
  },
  {
   "cell_type": "code",
   "execution_count": 26,
   "id": "ae13d243",
   "metadata": {},
   "outputs": [
    {
     "name": "stdout",
     "output_type": "stream",
     "text": [
      "Max value: banana\n",
      "min value: Apple\n"
     ]
    }
   ],
   "source": [
    "list3=['Apple','Banana','Cherry','apple','banana']  #[65,66,67]\n",
    "print(\"Max value:\",max(list3))\n",
    "print(\"min value:\",min(list3))"
   ]
  },
  {
   "cell_type": "code",
   "execution_count": null,
   "id": "f94d8e11",
   "metadata": {},
   "outputs": [],
   "source": [
    "# ASCII values\n",
    "# A-------------> 65\n",
    "# B-------------> 66\n",
    "# C-------------->67\n",
    "# a==============>97\n",
    "# h--------------->104"
   ]
  },
  {
   "cell_type": "markdown",
   "id": "05e20c45",
   "metadata": {},
   "source": [
    "$ord$-$chr$"
   ]
  },
  {
   "cell_type": "code",
   "execution_count": 27,
   "id": "c4bbe786",
   "metadata": {},
   "outputs": [
    {
     "data": {
      "text/plain": [
       "65"
      ]
     },
     "execution_count": 27,
     "metadata": {},
     "output_type": "execute_result"
    }
   ],
   "source": [
    "ord('A')  # ord will give ascii value of charcters/symbols"
   ]
  },
  {
   "cell_type": "code",
   "execution_count": 28,
   "id": "d3fdd9b8",
   "metadata": {},
   "outputs": [
    {
     "data": {
      "text/plain": [
       "'A'"
      ]
     },
     "execution_count": 28,
     "metadata": {},
     "output_type": "execute_result"
    }
   ],
   "source": [
    "chr(65)  \n",
    "# chr will give charcters/symbols when we provide ascii value"
   ]
  },
  {
   "cell_type": "code",
   "execution_count": 31,
   "id": "1cead650",
   "metadata": {},
   "outputs": [
    {
     "name": "stdout",
     "output_type": "stream",
     "text": [
      "A —— 65\n",
      "B —— 66\n",
      "C —— 67\n",
      "D —— 68\n",
      "E —— 69\n",
      "F —— 70\n",
      "G —— 71\n",
      "H —— 72\n",
      "I —— 73\n",
      "J —— 74\n",
      "K —— 75\n",
      "L —— 76\n",
      "M —— 77\n",
      "N —— 78\n",
      "O —— 79\n",
      "P —— 80\n",
      "Q —— 81\n",
      "R —— 82\n",
      "S —— 83\n",
      "T —— 84\n",
      "U —— 85\n",
      "V —— 86\n",
      "W —— 87\n",
      "X —— 88\n",
      "Y —— 89\n",
      "Z —— 90\n",
      "[ —— 91\n",
      "\\ —— 92\n",
      "] —— 93\n",
      "^ —— 94\n",
      "_ —— 95\n",
      "` —— 96\n",
      "a —— 97\n",
      "b —— 98\n",
      "c —— 99\n"
     ]
    }
   ],
   "source": [
    "for i in range(65,100):\n",
    "      print(chr(i),\"——\",i)"
   ]
  },
  {
   "cell_type": "code",
   "execution_count": 30,
   "id": "0ce52834",
   "metadata": {},
   "outputs": [
    {
     "name": "stdout",
     "output_type": "stream",
     "text": [
      "A\n",
      "B\n",
      "C\n",
      "D\n",
      "E\n",
      "F\n",
      "G\n",
      "H\n",
      "I\n",
      "J\n",
      "K\n",
      "L\n",
      "M\n",
      "N\n",
      "O\n",
      "P\n",
      "Q\n",
      "R\n",
      "S\n",
      "T\n",
      "U\n",
      "V\n",
      "W\n",
      "X\n",
      "Y\n",
      "Z\n",
      "[\n",
      "\\\n",
      "]\n",
      "^\n",
      "_\n",
      "`\n",
      "a\n",
      "b\n",
      "c\n"
     ]
    }
   ],
   "source": [
    "for i in range(65,100):\n",
    "    print(chr(i),'---------->',i)"
   ]
  },
  {
   "cell_type": "markdown",
   "id": "1658e7cc",
   "metadata": {},
   "source": [
    "$mutable$-$immutable$"
   ]
  },
  {
   "cell_type": "code",
   "execution_count": 33,
   "id": "6d37f2ec",
   "metadata": {},
   "outputs": [
    {
     "ename": "TypeError",
     "evalue": "'str' object does not support item assignment",
     "output_type": "error",
     "traceback": [
      "\u001b[1;31m---------------------------------------------------------------------------\u001b[0m",
      "\u001b[1;31mTypeError\u001b[0m                                 Traceback (most recent call last)",
      "\u001b[1;32m<ipython-input-33-b1b39539090b>\u001b[0m in \u001b[0;36m<module>\u001b[1;34m\u001b[0m\n\u001b[0;32m      1\u001b[0m \u001b[0mstring\u001b[0m\u001b[1;33m=\u001b[0m\u001b[1;34m'python'\u001b[0m\u001b[1;33m\u001b[0m\u001b[1;33m\u001b[0m\u001b[0m\n\u001b[1;32m----> 2\u001b[1;33m \u001b[0mstring\u001b[0m\u001b[1;33m[\u001b[0m\u001b[1;36m2\u001b[0m\u001b[1;33m]\u001b[0m\u001b[1;33m=\u001b[0m\u001b[1;34m'T'\u001b[0m\u001b[1;33m\u001b[0m\u001b[1;33m\u001b[0m\u001b[0m\n\u001b[0m",
      "\u001b[1;31mTypeError\u001b[0m: 'str' object does not support item assignment"
     ]
    }
   ],
   "source": [
    "string='python'\n",
    "string[2]='T'\n",
    "# we cant change the value by using index\n",
    "# strings are immutable"
   ]
  },
  {
   "cell_type": "code",
   "execution_count": 34,
   "id": "369c4de5",
   "metadata": {},
   "outputs": [
    {
     "data": {
      "text/plain": [
       "['Apple', 'Banana', 'Cherry', 120, 130, 40.6, 8.9]"
      ]
     },
     "execution_count": 34,
     "metadata": {},
     "output_type": "execute_result"
    }
   ],
   "source": [
    "list2"
   ]
  },
  {
   "cell_type": "code",
   "execution_count": 36,
   "id": "1070555c",
   "metadata": {},
   "outputs": [],
   "source": [
    "list2[0]='Dairy'"
   ]
  },
  {
   "cell_type": "code",
   "execution_count": 37,
   "id": "1d39bceb",
   "metadata": {},
   "outputs": [
    {
     "data": {
      "text/plain": [
       "['Dairy', 'Banana', 'Cherry', 120, 130, 40.6, 8.9]"
      ]
     },
     "execution_count": 37,
     "metadata": {},
     "output_type": "execute_result"
    }
   ],
   "source": [
    "list2\n",
    "# lists are mutable\n",
    "# we can change the list values by using index"
   ]
  },
  {
   "cell_type": "code",
   "execution_count": 39,
   "id": "cfe87c07",
   "metadata": {},
   "outputs": [
    {
     "name": "stdout",
     "output_type": "stream",
     "text": [
      "Dairy\n",
      "Banana\n",
      "Cherry\n",
      "120\n"
     ]
    }
   ],
   "source": [
    "print(list2[0])\n",
    "print(list2[1])\n",
    "print(list2[2])\n",
    "print(list2[3])"
   ]
  },
  {
   "cell_type": "code",
   "execution_count": 44,
   "id": "7120bd0c",
   "metadata": {},
   "outputs": [],
   "source": [
    "num=len(list2)\n",
    "# 0 to 7 by using while loop"
   ]
  },
  {
   "cell_type": "code",
   "execution_count": 51,
   "id": "9bead7e3",
   "metadata": {},
   "outputs": [
    {
     "name": "stdout",
     "output_type": "stream",
     "text": [
      "0 is index of Dairy\n",
      "1 is index of Banana\n",
      "2 is index of Cherry\n",
      "3 is index of 120\n",
      "4 is index of 130\n",
      "5 is index of 40.6\n",
      "6 is index of 8.9\n"
     ]
    }
   ],
   "source": [
    "for i in range(num):\n",
    "    print(\"{} is index of {}\".format(i,list2[i]))"
   ]
  },
  {
   "cell_type": "code",
   "execution_count": 53,
   "id": "aa30f092",
   "metadata": {},
   "outputs": [
    {
     "name": "stdout",
     "output_type": "stream",
     "text": [
      "0 index is Dairy\n",
      "1 index is Banana\n",
      "2 index is Cherry\n",
      "3 index is 120\n",
      "4 index is 130\n",
      "5 index is 40.6\n",
      "6 index is 8.9\n"
     ]
    }
   ],
   "source": [
    "i=0\n",
    "while i<num:\n",
    "    print(\"{} index is {}\".format(i,list2[i]))\n",
    "    i=i+1"
   ]
  },
  {
   "cell_type": "code",
   "execution_count": 54,
   "id": "1d840969",
   "metadata": {},
   "outputs": [
    {
     "name": "stdout",
     "output_type": "stream",
     "text": [
      "0 1 2 3 4 5 6 "
     ]
    }
   ],
   "source": [
    "for i in range(num):\n",
    "    print(i,end=' ')"
   ]
  },
  {
   "cell_type": "code",
   "execution_count": null,
   "id": "7adc46e8",
   "metadata": {},
   "outputs": [],
   "source": [
    "i=0\n",
    "while i<num:   # 0<7\n",
    "    print(i)\n",
    "    i+=1\n",
    "    \n",
    "# iter1----> 0<7 ----> true ---> 0  ---> nv=0+1=1\n",
    "# iter2----> 1<7 -----> true---->1 ----> nv=1+1=2"
   ]
  },
  {
   "cell_type": "markdown",
   "id": "660c33b8",
   "metadata": {},
   "source": [
    "$concatination$"
   ]
  },
  {
   "cell_type": "code",
   "execution_count": 55,
   "id": "01adeee8",
   "metadata": {},
   "outputs": [
    {
     "data": {
      "text/plain": [
       "'haihow'"
      ]
     },
     "execution_count": 55,
     "metadata": {},
     "output_type": "execute_result"
    }
   ],
   "source": [
    "str1='hai'\n",
    "str2='how'\n",
    "str1+str2"
   ]
  },
  {
   "cell_type": "code",
   "execution_count": 56,
   "id": "b322a76f",
   "metadata": {},
   "outputs": [
    {
     "data": {
      "text/plain": [
       "[1, 1, 1, 2, 3, 3, 3, 4, 4]"
      ]
     },
     "execution_count": 56,
     "metadata": {},
     "output_type": "execute_result"
    }
   ],
   "source": [
    "list1"
   ]
  },
  {
   "cell_type": "code",
   "execution_count": 57,
   "id": "b6dca7ae",
   "metadata": {},
   "outputs": [
    {
     "data": {
      "text/plain": [
       "['Dairy', 'Banana', 'Cherry', 120, 130, 40.6, 8.9]"
      ]
     },
     "execution_count": 57,
     "metadata": {},
     "output_type": "execute_result"
    }
   ],
   "source": [
    "list2"
   ]
  },
  {
   "cell_type": "code",
   "execution_count": 58,
   "id": "8bdbee2c",
   "metadata": {},
   "outputs": [
    {
     "data": {
      "text/plain": [
       "[1, 1, 1, 2, 3, 3, 3, 4, 4, 'Dairy', 'Banana', 'Cherry', 120, 130, 40.6, 8.9]"
      ]
     },
     "execution_count": 58,
     "metadata": {},
     "output_type": "execute_result"
    }
   ],
   "source": [
    "list1+list2\n"
   ]
  },
  {
   "cell_type": "code",
   "execution_count": 60,
   "id": "5b75841d",
   "metadata": {},
   "outputs": [
    {
     "data": {
      "text/plain": [
       "[1,\n",
       " 1,\n",
       " 1,\n",
       " 2,\n",
       " 3,\n",
       " 3,\n",
       " 3,\n",
       " 4,\n",
       " 4,\n",
       " 1,\n",
       " 1,\n",
       " 1,\n",
       " 2,\n",
       " 3,\n",
       " 3,\n",
       " 3,\n",
       " 4,\n",
       " 4,\n",
       " 1,\n",
       " 1,\n",
       " 1,\n",
       " 2,\n",
       " 3,\n",
       " 3,\n",
       " 3,\n",
       " 4,\n",
       " 4]"
      ]
     },
     "execution_count": 60,
     "metadata": {},
     "output_type": "execute_result"
    }
   ],
   "source": [
    "list1*3  # list1+list1+list1"
   ]
  },
  {
   "cell_type": "code",
   "execution_count": 65,
   "id": "bd9ee73c",
   "metadata": {},
   "outputs": [
    {
     "data": {
      "text/plain": [
       "['Dairy', 'Banana', 'Cherry', 120, 130, 40.6, 8.9]"
      ]
     },
     "execution_count": 65,
     "metadata": {},
     "output_type": "execute_result"
    }
   ],
   "source": [
    "list2"
   ]
  },
  {
   "cell_type": "code",
   "execution_count": 71,
   "id": "c371ce6c",
   "metadata": {},
   "outputs": [
    {
     "data": {
      "text/plain": [
       "True"
      ]
     },
     "execution_count": 71,
     "metadata": {},
     "output_type": "execute_result"
    }
   ],
   "source": [
    "'Dairy' in list2  # True\n",
    "'Banana' in list2 # True\n",
    "'Cherry' in list2 #True\n"
   ]
  },
  {
   "cell_type": "code",
   "execution_count": 72,
   "id": "2b9a7ffd",
   "metadata": {},
   "outputs": [
    {
     "name": "stdout",
     "output_type": "stream",
     "text": [
      "Dairy\n",
      "Banana\n",
      "Cherry\n",
      "120\n",
      "130\n",
      "40.6\n",
      "8.9\n"
     ]
    }
   ],
   "source": [
    "for i in list2:\n",
    "    print(i)"
   ]
  },
  {
   "cell_type": "markdown",
   "id": "9be9eb75",
   "metadata": {},
   "source": [
    "$slicing$"
   ]
  },
  {
   "cell_type": "code",
   "execution_count": 73,
   "id": "84a9a63a",
   "metadata": {},
   "outputs": [
    {
     "data": {
      "text/plain": [
       "['Dairy', 'Banana', 'Cherry', 120, 130, 40.6, 8.9]"
      ]
     },
     "execution_count": 73,
     "metadata": {},
     "output_type": "execute_result"
    }
   ],
   "source": [
    "list2"
   ]
  },
  {
   "cell_type": "code",
   "execution_count": 74,
   "id": "291117c0",
   "metadata": {},
   "outputs": [],
   "source": [
    "list3=['Ball','Apple','Cat','Doll']"
   ]
  },
  {
   "cell_type": "code",
   "execution_count": 75,
   "id": "8358bbb4",
   "metadata": {},
   "outputs": [
    {
     "data": {
      "text/plain": [
       "['Dairy',\n",
       " 'Banana',\n",
       " 'Cherry',\n",
       " 120,\n",
       " 130,\n",
       " 40.6,\n",
       " 8.9,\n",
       " 'Ball',\n",
       " 'Apple',\n",
       " 'Cat',\n",
       " 'Doll']"
      ]
     },
     "execution_count": 75,
     "metadata": {},
     "output_type": "execute_result"
    }
   ],
   "source": [
    "list4=list2+list3\n",
    "list4"
   ]
  },
  {
   "cell_type": "code",
   "execution_count": null,
   "id": "b2a16380",
   "metadata": {},
   "outputs": [],
   "source": [
    "list4[2:10]  --------->\n",
    "list4[2:11:2]\n",
    "list4[2:11:-2]\n",
    "list4[2:-11:-2]\n",
    "list4[-2:-11:-2]\n",
    "list4[-2:11:2]\n",
    "list4[-2:11:-2]\n",
    "list4[-2:-11:2]\n",
    "list4[11:2:2]\n",
    "list4[11:2:-2]\n",
    "list4[11:-2:-2]\n",
    "list4[-11:-2:-2]\n",
    "list4[-11:-2:2]"
   ]
  },
  {
   "cell_type": "code",
   "execution_count": 76,
   "id": "74199921",
   "metadata": {},
   "outputs": [
    {
     "data": {
      "text/plain": [
       "['Cherry', 120, 130, 40.6, 8.9, 'Ball', 'Apple', 'Cat']"
      ]
     },
     "execution_count": 76,
     "metadata": {},
     "output_type": "execute_result"
    }
   ],
   "source": [
    "list4[2:10]  # c 120 145 54.5"
   ]
  },
  {
   "cell_type": "code",
   "execution_count": 77,
   "id": "b93da684",
   "metadata": {},
   "outputs": [
    {
     "data": {
      "text/plain": [
       "['Cherry', 130, 8.9, 'Apple', 'Doll']"
      ]
     },
     "execution_count": 77,
     "metadata": {},
     "output_type": "execute_result"
    }
   ],
   "source": [
    "list4[2:11:2]"
   ]
  },
  {
   "cell_type": "code",
   "execution_count": 81,
   "id": "034922f0",
   "metadata": {},
   "outputs": [
    {
     "data": {
      "text/plain": [
       "[]"
      ]
     },
     "execution_count": 81,
     "metadata": {},
     "output_type": "execute_result"
    }
   ],
   "source": [
    "list4[-2:-11:2] # start=-2 stop=-11+1=-10"
   ]
  },
  {
   "cell_type": "code",
   "execution_count": 83,
   "id": "cb832839",
   "metadata": {},
   "outputs": [
    {
     "data": {
      "text/plain": [
       "['Doll', 'Apple', 8.9, 130]"
      ]
     },
     "execution_count": 83,
     "metadata": {},
     "output_type": "execute_result"
    }
   ],
   "source": [
    "list4[11:2:-2]"
   ]
  },
  {
   "cell_type": "code",
   "execution_count": 84,
   "id": "c77c4728",
   "metadata": {},
   "outputs": [
    {
     "data": {
      "text/plain": [
       "[]"
      ]
     },
     "execution_count": 84,
     "metadata": {},
     "output_type": "execute_result"
    }
   ],
   "source": [
    "list4[-11:-2:-2]"
   ]
  },
  {
   "cell_type": "markdown",
   "id": "1b90b103",
   "metadata": {},
   "source": [
    "- Elements are enclosed in [] paranthesis\n",
    "\n",
    "- Elements are seperated by comma\n",
    "\n",
    "- list can have duplicates\n",
    "\n",
    "- list can have heterogeneous(can have different data types)\n",
    "\n",
    "- list multiplication not possible\n",
    "\n",
    "- list concatination is possible\n",
    "\n",
    "- list is mutable\n",
    "\n",
    "- max min possible for only integer list and only for string list\n",
    "\n",
    "- max min not possible for a list having both int and strings\n",
    "\n",
    "- list slicing indexing possible\n",
    "\n",
    "- list in list possible"
   ]
  },
  {
   "cell_type": "code",
   "execution_count": 87,
   "id": "829da054",
   "metadata": {},
   "outputs": [
    {
     "data": {
      "text/plain": [
       "[1, 1, 1, 2, 3, 3, 3, 4, 4]"
      ]
     },
     "execution_count": 87,
     "metadata": {},
     "output_type": "execute_result"
    }
   ],
   "source": [
    "list1"
   ]
  },
  {
   "cell_type": "code",
   "execution_count": 89,
   "id": "73361e99",
   "metadata": {},
   "outputs": [
    {
     "data": {
      "text/plain": [
       "['__add__',\n",
       " '__class__',\n",
       " '__contains__',\n",
       " '__delattr__',\n",
       " '__delitem__',\n",
       " '__dir__',\n",
       " '__doc__',\n",
       " '__eq__',\n",
       " '__format__',\n",
       " '__ge__',\n",
       " '__getattribute__',\n",
       " '__getitem__',\n",
       " '__gt__',\n",
       " '__hash__',\n",
       " '__iadd__',\n",
       " '__imul__',\n",
       " '__init__',\n",
       " '__init_subclass__',\n",
       " '__iter__',\n",
       " '__le__',\n",
       " '__len__',\n",
       " '__lt__',\n",
       " '__mul__',\n",
       " '__ne__',\n",
       " '__new__',\n",
       " '__reduce__',\n",
       " '__reduce_ex__',\n",
       " '__repr__',\n",
       " '__reversed__',\n",
       " '__rmul__',\n",
       " '__setattr__',\n",
       " '__setitem__',\n",
       " '__sizeof__',\n",
       " '__str__',\n",
       " '__subclasshook__',\n",
       " 'append',\n",
       " 'clear',\n",
       " 'copy',\n",
       " 'count',\n",
       " 'extend',\n",
       " 'index',\n",
       " 'insert',\n",
       " 'pop',\n",
       " 'remove',\n",
       " 'reverse',\n",
       " 'sort']"
      ]
     },
     "execution_count": 89,
     "metadata": {},
     "output_type": "execute_result"
    }
   ],
   "source": [
    "dir([])"
   ]
  },
  {
   "cell_type": "markdown",
   "id": "4b1baffc",
   "metadata": {},
   "source": [
    "$append$"
   ]
  },
  {
   "cell_type": "code",
   "execution_count": 90,
   "id": "7f181b8b",
   "metadata": {},
   "outputs": [
    {
     "data": {
      "text/plain": [
       "['Dairy', 'Banana', 'Cherry', 120, 130, 40.6, 8.9]"
      ]
     },
     "execution_count": 90,
     "metadata": {},
     "output_type": "execute_result"
    }
   ],
   "source": [
    "list2"
   ]
  },
  {
   "cell_type": "code",
   "execution_count": 91,
   "id": "8cc9afbe",
   "metadata": {},
   "outputs": [],
   "source": [
    "# you want add a new element\n",
    "# Chennai\n",
    "list2.append('chennai')\n",
    "# it will apeend at last index of list"
   ]
  },
  {
   "cell_type": "code",
   "execution_count": 92,
   "id": "6b32e6c9",
   "metadata": {},
   "outputs": [
    {
     "data": {
      "text/plain": [
       "['Dairy', 'Banana', 'Cherry', 120, 130, 40.6, 8.9, 'chennai']"
      ]
     },
     "execution_count": 92,
     "metadata": {},
     "output_type": "execute_result"
    }
   ],
   "source": [
    "list2"
   ]
  },
  {
   "cell_type": "code",
   "execution_count": 93,
   "id": "9b844790",
   "metadata": {},
   "outputs": [],
   "source": [
    "list2.append(\"Movie\")\n",
    "list2.append(\"sports\")"
   ]
  },
  {
   "cell_type": "code",
   "execution_count": 94,
   "id": "056aa431",
   "metadata": {},
   "outputs": [
    {
     "data": {
      "text/plain": [
       "['Dairy',\n",
       " 'Banana',\n",
       " 'Cherry',\n",
       " 120,\n",
       " 130,\n",
       " 40.6,\n",
       " 8.9,\n",
       " 'chennai',\n",
       " 'Movie',\n",
       " 'sports']"
      ]
     },
     "execution_count": 94,
     "metadata": {},
     "output_type": "execute_result"
    }
   ],
   "source": [
    "list2"
   ]
  },
  {
   "cell_type": "code",
   "execution_count": 97,
   "id": "a633c252",
   "metadata": {},
   "outputs": [],
   "source": [
    "num=[]  # empty list\n",
    "for i in range(6):\n",
    "    num.append(i)\n",
    "# i want save the values in a list"
   ]
  },
  {
   "cell_type": "code",
   "execution_count": 98,
   "id": "28b6bf67",
   "metadata": {},
   "outputs": [
    {
     "data": {
      "text/plain": [
       "[0, 1, 2, 3, 4, 5]"
      ]
     },
     "execution_count": 98,
     "metadata": {},
     "output_type": "execute_result"
    }
   ],
   "source": [
    "num"
   ]
  },
  {
   "cell_type": "code",
   "execution_count": null,
   "id": "5e07cbbc",
   "metadata": {},
   "outputs": [],
   "source": [
    "# get the square of each number from 1to5 and \n",
    "# store the outputs in a list name called square"
   ]
  },
  {
   "cell_type": "code",
   "execution_count": 100,
   "id": "1372100d",
   "metadata": {},
   "outputs": [],
   "source": [
    "square=[]\n",
    "for i in range(1,6):\n",
    "    square.append(i*i)"
   ]
  },
  {
   "cell_type": "code",
   "execution_count": 101,
   "id": "3ce0adf3",
   "metadata": {},
   "outputs": [
    {
     "data": {
      "text/plain": [
       "[1, 4, 9, 16, 25]"
      ]
     },
     "execution_count": 101,
     "metadata": {},
     "output_type": "execute_result"
    }
   ],
   "source": [
    "square"
   ]
  },
  {
   "cell_type": "code",
   "execution_count": 103,
   "id": "1764d2fa",
   "metadata": {},
   "outputs": [
    {
     "data": {
      "text/plain": [
       "[0, 1, 2, 3, 4, 5]"
      ]
     },
     "execution_count": 103,
     "metadata": {},
     "output_type": "execute_result"
    }
   ],
   "source": [
    "num=[i for i in range(6)]\n",
    "num"
   ]
  },
  {
   "cell_type": "code",
   "execution_count": 104,
   "id": "e40736bc",
   "metadata": {},
   "outputs": [
    {
     "data": {
      "text/plain": [
       "[1, 4, 9, 16, 25]"
      ]
     },
     "execution_count": 104,
     "metadata": {},
     "output_type": "execute_result"
    }
   ],
   "source": [
    "square=[i*i for i in range(1,6)]\n",
    "square"
   ]
  },
  {
   "cell_type": "code",
   "execution_count": null,
   "id": "01ce1a7d",
   "metadata": {},
   "outputs": [],
   "source": [
    "# LIST COMPREHENSHION\n",
    "# it will improve fastness to run your code"
   ]
  },
  {
   "cell_type": "code",
   "execution_count": 106,
   "id": "8a85b2ac",
   "metadata": {},
   "outputs": [],
   "source": [
    "# get a list of even numbers from 20 to 40\n",
    "# write a normal append opertaion\n",
    "even=[]\n",
    "for i in range(20,40):\n",
    "    if i%2==0:\n",
    "        even.append(i)"
   ]
  },
  {
   "cell_type": "code",
   "execution_count": 109,
   "id": "04bcf1c6",
   "metadata": {},
   "outputs": [
    {
     "data": {
      "text/plain": [
       "[20, 22, 24, 26, 28, 30, 32, 34, 36, 38]"
      ]
     },
     "execution_count": 109,
     "metadata": {},
     "output_type": "execute_result"
    }
   ],
   "source": [
    "even=[i for i in range(20,40) if i%2==0]\n",
    "even"
   ]
  },
  {
   "cell_type": "code",
   "execution_count": 112,
   "id": "b453c6df",
   "metadata": {},
   "outputs": [
    {
     "name": "stdout",
     "output_type": "stream",
     "text": [
      "enter a list:[1,2,3,4,5]\n"
     ]
    }
   ],
   "source": [
    "list1=eval(input(\"enter a list:\"))"
   ]
  },
  {
   "cell_type": "code",
   "execution_count": 113,
   "id": "018c21b9",
   "metadata": {},
   "outputs": [
    {
     "data": {
      "text/plain": [
       "[1, 2, 3, 4, 5]"
      ]
     },
     "execution_count": 113,
     "metadata": {},
     "output_type": "execute_result"
    }
   ],
   "source": [
    "list1"
   ]
  },
  {
   "cell_type": "code",
   "execution_count": 116,
   "id": "02d61d5b",
   "metadata": {},
   "outputs": [],
   "source": [
    "even_odd=[]\n",
    "for i in range(20,40):\n",
    "    if i%2==0:\n",
    "        even_odd.append('even')\n",
    "    else:\n",
    "        even_odd.append('odd')\n",
    "    "
   ]
  },
  {
   "cell_type": "code",
   "execution_count": 119,
   "id": "ad6adc46",
   "metadata": {},
   "outputs": [
    {
     "data": {
      "text/plain": [
       "['even',\n",
       " 'odd',\n",
       " 'even',\n",
       " 'odd',\n",
       " 'even',\n",
       " 'odd',\n",
       " 'even',\n",
       " 'odd',\n",
       " 'even',\n",
       " 'odd',\n",
       " 'even',\n",
       " 'odd',\n",
       " 'even',\n",
       " 'odd',\n",
       " 'even',\n",
       " 'odd',\n",
       " 'even',\n",
       " 'odd',\n",
       " 'even',\n",
       " 'odd']"
      ]
     },
     "execution_count": 119,
     "metadata": {},
     "output_type": "execute_result"
    }
   ],
   "source": [
    "# List comprehension tricky when you are using if -else\n",
    "even_odd=['even' if i%2==0 else 'odd' for i in range(20,40)]\n",
    "even_odd"
   ]
  },
  {
   "cell_type": "code",
   "execution_count": null,
   "id": "63fcba03",
   "metadata": {},
   "outputs": [],
   "source": [
    "# LC  ------> for loop\n",
    "[i for i in range(1,10)]\n",
    "#LC -------> for loop if \n",
    "[i for i in range(1,10) if condition]\n",
    "# LC ------> if else\n",
    "[o/p if condition else o/p for loop]"
   ]
  }
 ],
 "metadata": {
  "kernelspec": {
   "display_name": "Python 3",
   "language": "python",
   "name": "python3"
  },
  "language_info": {
   "codemirror_mode": {
    "name": "ipython",
    "version": 3
   },
   "file_extension": ".py",
   "mimetype": "text/x-python",
   "name": "python",
   "nbconvert_exporter": "python",
   "pygments_lexer": "ipython3",
   "version": "3.8.8"
  }
 },
 "nbformat": 4,
 "nbformat_minor": 5
}
