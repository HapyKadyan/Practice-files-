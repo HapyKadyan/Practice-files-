{
 "cells": [
  {
   "cell_type": "code",
   "execution_count": 1,
   "id": "8c2aa070",
   "metadata": {},
   "outputs": [
    {
     "name": "stdout",
     "output_type": "stream",
     "text": [
      "Collecting patool\n",
      "  Downloading patool-1.12-py2.py3-none-any.whl (77 kB)\n",
      "Installing collected packages: patool\n",
      "Successfully installed patool-1.12\n"
     ]
    }
   ],
   "source": [
    "!pip install patool"
   ]
  },
  {
   "cell_type": "code",
   "execution_count": 26,
   "id": "d5dbb58e",
   "metadata": {},
   "outputs": [
    {
     "ename": "PatoolError",
     "evalue": "file `test.rar' was not found",
     "output_type": "error",
     "traceback": [
      "\u001b[1;31m---------------------------------------------------------------------------\u001b[0m",
      "\u001b[1;31mPatoolError\u001b[0m                               Traceback (most recent call last)",
      "Input \u001b[1;32mIn [26]\u001b[0m, in \u001b[0;36m<cell line: 2>\u001b[1;34m()\u001b[0m\n\u001b[0;32m      1\u001b[0m \u001b[38;5;28;01mimport\u001b[39;00m \u001b[38;5;21;01mpatoolib\u001b[39;00m\n\u001b[1;32m----> 2\u001b[0m \u001b[43mpatoolib\u001b[49m\u001b[38;5;241;43m.\u001b[39;49m\u001b[43mextract_archive\u001b[49m\u001b[43m(\u001b[49m\u001b[38;5;124;43m\"\u001b[39;49m\u001b[38;5;124;43mtest.rar\u001b[39;49m\u001b[38;5;124;43m\"\u001b[39;49m\u001b[43m,\u001b[49m\u001b[43m(\u001b[49m\u001b[38;5;124;43m\"\u001b[39;49m\u001b[38;5;124;43mD:\u001b[39;49m\u001b[38;5;130;43;01m\\\\\u001b[39;49;00m\u001b[38;5;124;43mdata\u001b[39;49m\u001b[38;5;130;43;01m\\\\\u001b[39;49;00m\u001b[38;5;124;43mrarfile\u001b[39;49m\u001b[38;5;130;43;01m\\\\\u001b[39;49;00m\u001b[38;5;124;43mpython.txt\u001b[39;49m\u001b[38;5;124;43m\"\u001b[39;49m\u001b[43m,\u001b[49m\u001b[43m)\u001b[49m\u001b[43m)\u001b[49m\n",
      "File \u001b[1;32m~\\anaconda3\\lib\\site-packages\\patoolib\\__init__.py:681\u001b[0m, in \u001b[0;36mextract_archive\u001b[1;34m(archive, verbosity, outdir, program, interactive)\u001b[0m\n\u001b[0;32m    679\u001b[0m \u001b[38;5;28;01mdef\u001b[39;00m \u001b[38;5;21mextract_archive\u001b[39m(archive, verbosity\u001b[38;5;241m=\u001b[39m\u001b[38;5;241m0\u001b[39m, outdir\u001b[38;5;241m=\u001b[39m\u001b[38;5;28;01mNone\u001b[39;00m, program\u001b[38;5;241m=\u001b[39m\u001b[38;5;28;01mNone\u001b[39;00m, interactive\u001b[38;5;241m=\u001b[39m\u001b[38;5;28;01mTrue\u001b[39;00m):\n\u001b[0;32m    680\u001b[0m     \u001b[38;5;124;03m\"\"\"Extract given archive.\"\"\"\u001b[39;00m\n\u001b[1;32m--> 681\u001b[0m     \u001b[43mutil\u001b[49m\u001b[38;5;241;43m.\u001b[39;49m\u001b[43mcheck_existing_filename\u001b[49m\u001b[43m(\u001b[49m\u001b[43marchive\u001b[49m\u001b[43m)\u001b[49m\n\u001b[0;32m    682\u001b[0m     \u001b[38;5;28;01mif\u001b[39;00m verbosity \u001b[38;5;241m>\u001b[39m\u001b[38;5;241m=\u001b[39m \u001b[38;5;241m0\u001b[39m:\n\u001b[0;32m    683\u001b[0m         util\u001b[38;5;241m.\u001b[39mlog_info(\u001b[38;5;124m\"\u001b[39m\u001b[38;5;124mExtracting \u001b[39m\u001b[38;5;132;01m%s\u001b[39;00m\u001b[38;5;124m ...\u001b[39m\u001b[38;5;124m\"\u001b[39m \u001b[38;5;241m%\u001b[39m archive)\n",
      "File \u001b[1;32m~\\anaconda3\\lib\\site-packages\\patoolib\\util.py:398\u001b[0m, in \u001b[0;36mcheck_existing_filename\u001b[1;34m(filename, onlyfiles)\u001b[0m\n\u001b[0;32m    396\u001b[0m \u001b[38;5;124;03m\"\"\"Ensure that given filename is a valid, existing file.\"\"\"\u001b[39;00m\n\u001b[0;32m    397\u001b[0m \u001b[38;5;28;01mif\u001b[39;00m \u001b[38;5;129;01mnot\u001b[39;00m os\u001b[38;5;241m.\u001b[39mpath\u001b[38;5;241m.\u001b[39mexists(filename):\n\u001b[1;32m--> 398\u001b[0m     \u001b[38;5;28;01mraise\u001b[39;00m PatoolError(\u001b[38;5;124m\"\u001b[39m\u001b[38;5;124mfile `\u001b[39m\u001b[38;5;132;01m%s\u001b[39;00m\u001b[38;5;124m'\u001b[39m\u001b[38;5;124m was not found\u001b[39m\u001b[38;5;124m\"\u001b[39m \u001b[38;5;241m%\u001b[39m filename)\n\u001b[0;32m    399\u001b[0m \u001b[38;5;28;01mif\u001b[39;00m \u001b[38;5;129;01mnot\u001b[39;00m os\u001b[38;5;241m.\u001b[39maccess(filename, os\u001b[38;5;241m.\u001b[39mR_OK):\n\u001b[0;32m    400\u001b[0m     \u001b[38;5;28;01mraise\u001b[39;00m PatoolError(\u001b[38;5;124m\"\u001b[39m\u001b[38;5;124mfile `\u001b[39m\u001b[38;5;132;01m%s\u001b[39;00m\u001b[38;5;124m'\u001b[39m\u001b[38;5;124m is not readable\u001b[39m\u001b[38;5;124m\"\u001b[39m \u001b[38;5;241m%\u001b[39m filename)\n",
      "\u001b[1;31mPatoolError\u001b[0m: file `test.rar' was not found"
     ]
    }
   ],
   "source": [
    "import patoolib\n",
    "patoolib.extract_archive(\"test.rar\",(\"D:\\\\data\\\\rarfile\\\\python.txt\",));"
   ]
  },
  {
   "cell_type": "code",
   "execution_count": 30,
   "id": "69dd4494",
   "metadata": {},
   "outputs": [
    {
     "ename": "SyntaxError",
     "evalue": "invalid syntax (781879447.py, line 1)",
     "output_type": "error",
     "traceback": [
      "\u001b[1;36m  Input \u001b[1;32mIn [30]\u001b[1;36m\u001b[0m\n\u001b[1;33m    class rarfile.RarFile(file, mode='r', charset=None, info_callback=None, crc_check=True, errors='stop', part_only=False)\u001b[0m\n\u001b[1;37m                 ^\u001b[0m\n\u001b[1;31mSyntaxError\u001b[0m\u001b[1;31m:\u001b[0m invalid syntax\n"
     ]
    }
   ],
   "source": [
    "class rarfile.RarFile(file, mode='r', charset=None, info_callback=None, crc_check=True, errors='stop', part_only=False)  "
   ]
  },
  {
   "cell_type": "code",
   "execution_count": 33,
   "id": "e2cb3b48",
   "metadata": {},
   "outputs": [
    {
     "ename": "ModuleNotFoundError",
     "evalue": "No module named 'rarfile'",
     "output_type": "error",
     "traceback": [
      "\u001b[1;31m---------------------------------------------------------------------------\u001b[0m",
      "\u001b[1;31mModuleNotFoundError\u001b[0m                       Traceback (most recent call last)",
      "Input \u001b[1;32mIn [33]\u001b[0m, in \u001b[0;36m<cell line: 1>\u001b[1;34m()\u001b[0m\n\u001b[1;32m----> 1\u001b[0m \u001b[38;5;28;01mimport\u001b[39;00m \u001b[38;5;21;01mrarfile\u001b[39;00m\n\u001b[0;32m      2\u001b[0m rar_path \u001b[38;5;241m=\u001b[39m rarfile\u001b[38;5;241m.\u001b[39mRarFile(\u001b[38;5;124m\"\u001b[39m\u001b[38;5;124mD://data//sample.rar\u001b[39m\u001b[38;5;124m\"\u001b[39m)\n\u001b[0;32m      3\u001b[0m \u001b[38;5;66;03m#csv_file_name = \"rar_file.csv\"\u001b[39;00m\n",
      "\u001b[1;31mModuleNotFoundError\u001b[0m: No module named 'rarfile'"
     ]
    }
   ],
   "source": [
    "import rarfile\n",
    "rar_path = rarfile.RarFile(\"D://data//sample.rar\")\n",
    "#csv_file_name = \"rar_file.csv\"\n",
    "rar_file = rarfile.RarFile.open(rar_path)\n",
    "#csv_reader = csv.reader(rar_file, delimiter=',')\n",
    "\n",
    "# Should output first line of file (typically CSV header)\n",
    "#print csv_reader.next()"
   ]
  },
  {
   "cell_type": "code",
   "execution_count": 34,
   "id": "79e2a76f",
   "metadata": {},
   "outputs": [
    {
     "name": "stdout",
     "output_type": "stream",
     "text": [
      "Collecting rarfile\n",
      "  Downloading rarfile-4.0-py3-none-any.whl (28 kB)\n",
      "Installing collected packages: rarfile\n",
      "Successfully installed rarfile-4.0\n"
     ]
    }
   ],
   "source": [
    "! pip install rarfile"
   ]
  },
  {
   "cell_type": "code",
   "execution_count": 41,
   "id": "05a0a39c",
   "metadata": {},
   "outputs": [
    {
     "ename": "ValueError",
     "evalue": "Invalid object passed as file",
     "output_type": "error",
     "traceback": [
      "\u001b[1;31m---------------------------------------------------------------------------\u001b[0m",
      "\u001b[1;31mValueError\u001b[0m                                Traceback (most recent call last)",
      "Input \u001b[1;32mIn [41]\u001b[0m, in \u001b[0;36m<cell line: 3>\u001b[1;34m()\u001b[0m\n\u001b[0;32m      1\u001b[0m \u001b[38;5;28;01mimport\u001b[39;00m \u001b[38;5;21;01mrarfile\u001b[39;00m\n\u001b[0;32m      2\u001b[0m rar_path \u001b[38;5;241m=\u001b[39m rarfile\u001b[38;5;241m.\u001b[39mRarFile(\u001b[38;5;124m\"\u001b[39m\u001b[38;5;124mD://data//sample.rar\u001b[39m\u001b[38;5;124m\"\u001b[39m)\n\u001b[1;32m----> 3\u001b[0m rar_file \u001b[38;5;241m=\u001b[39m \u001b[43mrarfile\u001b[49m\u001b[38;5;241;43m.\u001b[39;49m\u001b[43mRarFile\u001b[49m\u001b[43m(\u001b[49m\u001b[43mrar_path\u001b[49m\u001b[43m)\u001b[49m\n",
      "File \u001b[1;32m~\\anaconda3\\lib\\site-packages\\rarfile.py:665\u001b[0m, in \u001b[0;36mRarFile.__init__\u001b[1;34m(self, file, mode, charset, info_callback, crc_check, errors)\u001b[0m\n\u001b[0;32m    645\u001b[0m \u001b[38;5;28;01mdef\u001b[39;00m \u001b[38;5;21m__init__\u001b[39m(\u001b[38;5;28mself\u001b[39m, file, mode\u001b[38;5;241m=\u001b[39m\u001b[38;5;124m\"\u001b[39m\u001b[38;5;124mr\u001b[39m\u001b[38;5;124m\"\u001b[39m, charset\u001b[38;5;241m=\u001b[39m\u001b[38;5;28;01mNone\u001b[39;00m, info_callback\u001b[38;5;241m=\u001b[39m\u001b[38;5;28;01mNone\u001b[39;00m,\n\u001b[0;32m    646\u001b[0m              crc_check\u001b[38;5;241m=\u001b[39m\u001b[38;5;28;01mTrue\u001b[39;00m, errors\u001b[38;5;241m=\u001b[39m\u001b[38;5;124m\"\u001b[39m\u001b[38;5;124mstop\u001b[39m\u001b[38;5;124m\"\u001b[39m):\n\u001b[0;32m    647\u001b[0m     \u001b[38;5;124;03m\"\"\"Open and parse a RAR archive.\u001b[39;00m\n\u001b[0;32m    648\u001b[0m \n\u001b[0;32m    649\u001b[0m \u001b[38;5;124;03m    Parameters:\u001b[39;00m\n\u001b[1;32m   (...)\u001b[0m\n\u001b[0;32m    663\u001b[0m \u001b[38;5;124;03m            or \"strict\" to raise errors.  Default is \"stop\".\u001b[39;00m\n\u001b[0;32m    664\u001b[0m \u001b[38;5;124;03m    \"\"\"\u001b[39;00m\n\u001b[1;32m--> 665\u001b[0m     \u001b[38;5;28;01mif\u001b[39;00m \u001b[43mis_filelike\u001b[49m\u001b[43m(\u001b[49m\u001b[43mfile\u001b[49m\u001b[43m)\u001b[49m:\n\u001b[0;32m    666\u001b[0m         \u001b[38;5;28mself\u001b[39m\u001b[38;5;241m.\u001b[39mfilename \u001b[38;5;241m=\u001b[39m \u001b[38;5;28mgetattr\u001b[39m(file, \u001b[38;5;124m\"\u001b[39m\u001b[38;5;124mname\u001b[39m\u001b[38;5;124m\"\u001b[39m, \u001b[38;5;28;01mNone\u001b[39;00m)\n\u001b[0;32m    667\u001b[0m     \u001b[38;5;28;01melse\u001b[39;00m:\n",
      "File \u001b[1;32m~\\anaconda3\\lib\\site-packages\\rarfile.py:2920\u001b[0m, in \u001b[0;36mis_filelike\u001b[1;34m(obj)\u001b[0m\n\u001b[0;32m   2918\u001b[0m     res \u001b[38;5;241m=\u001b[39m res \u001b[38;5;129;01mand\u001b[39;00m \u001b[38;5;28mhasattr\u001b[39m(obj, a)\n\u001b[0;32m   2919\u001b[0m \u001b[38;5;28;01mif\u001b[39;00m \u001b[38;5;129;01mnot\u001b[39;00m res:\n\u001b[1;32m-> 2920\u001b[0m     \u001b[38;5;28;01mraise\u001b[39;00m \u001b[38;5;167;01mValueError\u001b[39;00m(\u001b[38;5;124m\"\u001b[39m\u001b[38;5;124mInvalid object passed as file\u001b[39m\u001b[38;5;124m\"\u001b[39m)\n\u001b[0;32m   2921\u001b[0m \u001b[38;5;28;01mreturn\u001b[39;00m \u001b[38;5;28;01mTrue\u001b[39;00m\n",
      "\u001b[1;31mValueError\u001b[0m: Invalid object passed as file"
     ]
    }
   ],
   "source": [
    "import rarfile\n",
    "rar_path = rarfile.RarFile(\"D://data//sample.rar\")\n",
    "rar_file = rarfile.RarFile(rar_path)\n"
   ]
  },
  {
   "cell_type": "code",
   "execution_count": 38,
   "id": "151b01eb",
   "metadata": {},
   "outputs": [
    {
     "name": "stdout",
     "output_type": "stream",
     "text": [
      "Collecting unrar\n",
      "  Downloading unrar-0.4-py3-none-any.whl (25 kB)\n",
      "Installing collected packages: unrar\n",
      "Successfully installed unrar-0.4\n"
     ]
    }
   ],
   "source": [
    "!pip install unrar"
   ]
  },
  {
   "cell_type": "code",
   "execution_count": 40,
   "id": "625118df",
   "metadata": {},
   "outputs": [
    {
     "ename": "NoRarEntry",
     "evalue": "No such file: sample.csv",
     "output_type": "error",
     "traceback": [
      "\u001b[1;31m---------------------------------------------------------------------------\u001b[0m",
      "\u001b[1;31mKeyError\u001b[0m                                  Traceback (most recent call last)",
      "File \u001b[1;32m~\\anaconda3\\lib\\site-packages\\rarfile.py:1044\u001b[0m, in \u001b[0;36mCommonParser.getinfo\u001b[1;34m(self, member)\u001b[0m\n\u001b[0;32m   1043\u001b[0m \u001b[38;5;28;01mtry\u001b[39;00m:\n\u001b[1;32m-> 1044\u001b[0m     \u001b[38;5;28;01mreturn\u001b[39;00m \u001b[38;5;28;43mself\u001b[39;49m\u001b[38;5;241;43m.\u001b[39;49m\u001b[43m_info_map\u001b[49m\u001b[43m[\u001b[49m\u001b[43mfname\u001b[49m\u001b[43m]\u001b[49m\n\u001b[0;32m   1045\u001b[0m \u001b[38;5;28;01mexcept\u001b[39;00m \u001b[38;5;167;01mKeyError\u001b[39;00m:\n",
      "\u001b[1;31mKeyError\u001b[0m: 'sample.csv'",
      "\nDuring handling of the above exception, another exception occurred:\n",
      "\u001b[1;31mNoRarEntry\u001b[0m                                Traceback (most recent call last)",
      "Input \u001b[1;32mIn [40]\u001b[0m, in \u001b[0;36m<cell line: 4>\u001b[1;34m()\u001b[0m\n\u001b[0;32m      2\u001b[0m rar_path \u001b[38;5;241m=\u001b[39m rarfile\u001b[38;5;241m.\u001b[39mRarFile(\u001b[38;5;124m\"\u001b[39m\u001b[38;5;124mD://data//sample.rar\u001b[39m\u001b[38;5;124m\"\u001b[39m)\n\u001b[0;32m      3\u001b[0m csv_file_name \u001b[38;5;241m=\u001b[39m \u001b[38;5;124m\"\u001b[39m\u001b[38;5;124msample.csv\u001b[39m\u001b[38;5;124m\"\u001b[39m\n\u001b[1;32m----> 4\u001b[0m rar_file \u001b[38;5;241m=\u001b[39m \u001b[43mrarfile\u001b[49m\u001b[38;5;241;43m.\u001b[39;49m\u001b[43mRarFile\u001b[49m\u001b[38;5;241;43m.\u001b[39;49m\u001b[43mopen\u001b[49m\u001b[43m(\u001b[49m\u001b[43mrar_path\u001b[49m\u001b[43m,\u001b[49m\u001b[43m \u001b[49m\u001b[43mcsv_file_name\u001b[49m\u001b[43m)\u001b[49m\n\u001b[0;32m      5\u001b[0m csv_reader \u001b[38;5;241m=\u001b[39m csv\u001b[38;5;241m.\u001b[39mreader(rar_file, delimiter\u001b[38;5;241m=\u001b[39m\u001b[38;5;124m'\u001b[39m\u001b[38;5;124m,\u001b[39m\u001b[38;5;124m'\u001b[39m)\n",
      "File \u001b[1;32m~\\anaconda3\\lib\\site-packages\\rarfile.py:771\u001b[0m, in \u001b[0;36mRarFile.open\u001b[1;34m(self, name, mode, pwd)\u001b[0m\n\u001b[0;32m    768\u001b[0m     \u001b[38;5;28;01mraise\u001b[39;00m \u001b[38;5;167;01mNotImplementedError\u001b[39;00m(\u001b[38;5;124m\"\u001b[39m\u001b[38;5;124mRarFile.open() supports only mode=r\u001b[39m\u001b[38;5;124m\"\u001b[39m)\n\u001b[0;32m    770\u001b[0m \u001b[38;5;66;03m# entry lookup\u001b[39;00m\n\u001b[1;32m--> 771\u001b[0m inf \u001b[38;5;241m=\u001b[39m \u001b[38;5;28;43mself\u001b[39;49m\u001b[38;5;241;43m.\u001b[39;49m\u001b[43mgetinfo\u001b[49m\u001b[43m(\u001b[49m\u001b[43mname\u001b[49m\u001b[43m)\u001b[49m\n\u001b[0;32m    772\u001b[0m \u001b[38;5;28;01mif\u001b[39;00m inf\u001b[38;5;241m.\u001b[39mis_dir():\n\u001b[0;32m    773\u001b[0m     \u001b[38;5;28;01mraise\u001b[39;00m io\u001b[38;5;241m.\u001b[39mUnsupportedOperation(\u001b[38;5;124m\"\u001b[39m\u001b[38;5;124mDirectory does not have any data: \u001b[39m\u001b[38;5;124m\"\u001b[39m \u001b[38;5;241m+\u001b[39m inf\u001b[38;5;241m.\u001b[39mfilename)\n",
      "File \u001b[1;32m~\\anaconda3\\lib\\site-packages\\rarfile.py:741\u001b[0m, in \u001b[0;36mRarFile.getinfo\u001b[1;34m(self, name)\u001b[0m\n\u001b[0;32m    738\u001b[0m \u001b[38;5;28;01mdef\u001b[39;00m \u001b[38;5;21mgetinfo\u001b[39m(\u001b[38;5;28mself\u001b[39m, name):\n\u001b[0;32m    739\u001b[0m     \u001b[38;5;124;03m\"\"\"Return RarInfo for file.\u001b[39;00m\n\u001b[0;32m    740\u001b[0m \u001b[38;5;124;03m    \"\"\"\u001b[39;00m\n\u001b[1;32m--> 741\u001b[0m     \u001b[38;5;28;01mreturn\u001b[39;00m \u001b[38;5;28;43mself\u001b[39;49m\u001b[38;5;241;43m.\u001b[39;49m\u001b[43m_file_parser\u001b[49m\u001b[38;5;241;43m.\u001b[39;49m\u001b[43mgetinfo\u001b[49m\u001b[43m(\u001b[49m\u001b[43mname\u001b[49m\u001b[43m)\u001b[49m\n",
      "File \u001b[1;32m~\\anaconda3\\lib\\site-packages\\rarfile.py:1046\u001b[0m, in \u001b[0;36mCommonParser.getinfo\u001b[1;34m(self, member)\u001b[0m\n\u001b[0;32m   1044\u001b[0m     \u001b[38;5;28;01mreturn\u001b[39;00m \u001b[38;5;28mself\u001b[39m\u001b[38;5;241m.\u001b[39m_info_map[fname]\n\u001b[0;32m   1045\u001b[0m \u001b[38;5;28;01mexcept\u001b[39;00m \u001b[38;5;167;01mKeyError\u001b[39;00m:\n\u001b[1;32m-> 1046\u001b[0m     \u001b[38;5;28;01mraise\u001b[39;00m NoRarEntry(\u001b[38;5;124m\"\u001b[39m\u001b[38;5;124mNo such file: \u001b[39m\u001b[38;5;132;01m%s\u001b[39;00m\u001b[38;5;124m\"\u001b[39m \u001b[38;5;241m%\u001b[39m fname)\n",
      "\u001b[1;31mNoRarEntry\u001b[0m: No such file: sample.csv"
     ]
    }
   ],
   "source": [
    "import rarfile, csv\n",
    "rar_path = rarfile.RarFile(\"D://data//sample.rar\")\n",
    "csv_file_name = \"sample.csv\"\n",
    "rar_file = rarfile.RarFile.open(rar_path, csv_file_name)\n",
    "csv_reader = csv.reader(rar_file, delimiter=',')\n",
    "\n",
    "# Should output first line of file (typically CSV header)\n",
    "#print csv_reader.next()"
   ]
  },
  {
   "cell_type": "code",
   "execution_count": null,
   "id": "77721d6d",
   "metadata": {},
   "outputs": [],
   "source": []
  }
 ],
 "metadata": {
  "kernelspec": {
   "display_name": "Python 3 (ipykernel)",
   "language": "python",
   "name": "python3"
  },
  "language_info": {
   "codemirror_mode": {
    "name": "ipython",
    "version": 3
   },
   "file_extension": ".py",
   "mimetype": "text/x-python",
   "name": "python",
   "nbconvert_exporter": "python",
   "pygments_lexer": "ipython3",
   "version": "3.9.12"
  }
 },
 "nbformat": 4,
 "nbformat_minor": 5
}
