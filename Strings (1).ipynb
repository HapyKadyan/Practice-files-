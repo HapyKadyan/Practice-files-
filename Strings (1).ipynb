{
 "cells": [
  {
   "cell_type": "code",
   "execution_count": null,
   "id": "dd4fa7de",
   "metadata": {},
   "outputs": [],
   "source": [
    "#================== PART-1===================================\n",
    "# Basic python --------------------------> \n",
    "   type casting\n",
    "   arthimetic operators\n",
    "   logical opertors\n",
    "   membership opertors\n",
    "   eval\n",
    "   print\n",
    "   sep\n",
    "   end\n",
    "\n",
    "# Conditional statements if/elif/else\n",
    "# For loop\n",
    "# Random and math\n",
    "  how to import\n",
    "# Functions\n",
    "# While loop\n",
    "# Try-except\n",
    "\n",
    "\n",
    "basic syntax \n",
    "Conditional ----------- > if elif else\n",
    "loop  ----- > while for\n",
    "functions\n",
    "\n",
    "go\n",
    "\n",
    "\n",
    "========================= PART-2==================================\n",
    "1.String\n",
    "2.List\n",
    "3.Tuples\n",
    "4.Dictionary\n",
    "5.File handling\n"
   ]
  },
  {
   "cell_type": "markdown",
   "id": "8f07612d",
   "metadata": {},
   "source": [
    "### Strings:"
   ]
  },
  {
   "cell_type": "code",
   "execution_count": 6,
   "id": "a0c8fe6f",
   "metadata": {},
   "outputs": [
    {
     "data": {
      "text/plain": [
       "'python'"
      ]
     },
     "execution_count": 6,
     "metadata": {},
     "output_type": "execute_result"
    }
   ],
   "source": [
    "s='python'\n",
    "s"
   ]
  },
  {
   "cell_type": "code",
   "execution_count": 2,
   "id": "7e1685bf",
   "metadata": {},
   "outputs": [
    {
     "data": {
      "text/plain": [
       "str"
      ]
     },
     "execution_count": 2,
     "metadata": {},
     "output_type": "execute_result"
    }
   ],
   "source": [
    "type(s)"
   ]
  },
  {
   "cell_type": "code",
   "execution_count": 3,
   "id": "1bbe6a61",
   "metadata": {},
   "outputs": [
    {
     "data": {
      "text/plain": [
       "'python'"
      ]
     },
     "execution_count": 3,
     "metadata": {},
     "output_type": "execute_result"
    }
   ],
   "source": [
    "t=\"python\"\n",
    "t"
   ]
  },
  {
   "cell_type": "code",
   "execution_count": 4,
   "id": "17e733c8",
   "metadata": {},
   "outputs": [
    {
     "data": {
      "text/plain": [
       "str"
      ]
     },
     "execution_count": 4,
     "metadata": {},
     "output_type": "execute_result"
    }
   ],
   "source": [
    "type(t)"
   ]
  },
  {
   "cell_type": "code",
   "execution_count": null,
   "id": "0b245734",
   "metadata": {},
   "outputs": [],
   "source": []
  },
  {
   "cell_type": "code",
   "execution_count": 8,
   "id": "4229c0a4",
   "metadata": {},
   "outputs": [
    {
     "data": {
      "text/plain": [
       "'hello\\n      omkar'"
      ]
     },
     "execution_count": 8,
     "metadata": {},
     "output_type": "execute_result"
    }
   ],
   "source": [
    "str1=\"\"\"hello\n",
    "      omkar\"\"\"\n",
    "str1"
   ]
  },
  {
   "cell_type": "code",
   "execution_count": 9,
   "id": "6845a38e",
   "metadata": {},
   "outputs": [
    {
     "name": "stdout",
     "output_type": "stream",
     "text": [
      "hello\n",
      "      omkar\n"
     ]
    }
   ],
   "source": [
    "print(str1)"
   ]
  },
  {
   "cell_type": "code",
   "execution_count": null,
   "id": "6fcc849e",
   "metadata": {},
   "outputs": [],
   "source": [
    "i like \"python\"\n",
    "i like 'python'\n",
    "\n",
    "# everything should be in red color"
   ]
  },
  {
   "cell_type": "code",
   "execution_count": 11,
   "id": "256c4e03",
   "metadata": {},
   "outputs": [
    {
     "data": {
      "text/plain": [
       "'i like \"python\"'"
      ]
     },
     "execution_count": 11,
     "metadata": {},
     "output_type": "execute_result"
    }
   ],
   "source": [
    "str2='i like \"python\"'\n",
    "str2"
   ]
  },
  {
   "cell_type": "code",
   "execution_count": 13,
   "id": "39024644",
   "metadata": {},
   "outputs": [
    {
     "data": {
      "text/plain": [
       "\"i like 'python'\""
      ]
     },
     "execution_count": 13,
     "metadata": {},
     "output_type": "execute_result"
    }
   ],
   "source": [
    "str3=\"i like 'python'\"\n",
    "str3"
   ]
  },
  {
   "cell_type": "code",
   "execution_count": 15,
   "id": "3314661b",
   "metadata": {},
   "outputs": [
    {
     "name": "stdout",
     "output_type": "stream",
     "text": [
      "i like \"python\"\n",
      "i like 'python'\n"
     ]
    }
   ],
   "source": [
    "print(str2)\n",
    "print(str3)"
   ]
  },
  {
   "cell_type": "code",
   "execution_count": 16,
   "id": "20a5028f",
   "metadata": {},
   "outputs": [
    {
     "data": {
      "text/plain": [
       "13"
      ]
     },
     "execution_count": 16,
     "metadata": {},
     "output_type": "execute_result"
    }
   ],
   "source": [
    "string1=\"I like python\"\n",
    "len(string1)"
   ]
  },
  {
   "cell_type": "code",
   "execution_count": 21,
   "id": "dd456d2f",
   "metadata": {},
   "outputs": [
    {
     "data": {
      "text/plain": [
       "1"
      ]
     },
     "execution_count": 21,
     "metadata": {},
     "output_type": "execute_result"
    }
   ],
   "source": [
    "string2=' '\n",
    "len(string2)"
   ]
  },
  {
   "cell_type": "code",
   "execution_count": 22,
   "id": "c0ef1f43",
   "metadata": {},
   "outputs": [
    {
     "data": {
      "text/plain": [
       "6"
      ]
     },
     "execution_count": 22,
     "metadata": {},
     "output_type": "execute_result"
    }
   ],
   "source": [
    "string3='python'\n",
    "len(string3)"
   ]
  },
  {
   "cell_type": "code",
   "execution_count": 23,
   "id": "46993c59",
   "metadata": {},
   "outputs": [
    {
     "name": "stdout",
     "output_type": "stream",
     "text": [
      "3\n"
     ]
    },
    {
     "data": {
      "text/plain": [
       "'3'"
      ]
     },
     "execution_count": 23,
     "metadata": {},
     "output_type": "execute_result"
    }
   ],
   "source": [
    "input()  # string type"
   ]
  },
  {
   "cell_type": "code",
   "execution_count": 24,
   "id": "839d8d4d",
   "metadata": {},
   "outputs": [
    {
     "name": "stdout",
     "output_type": "stream",
     "text": [
      "3\n"
     ]
    },
    {
     "data": {
      "text/plain": [
       "3"
      ]
     },
     "execution_count": 24,
     "metadata": {},
     "output_type": "execute_result"
    }
   ],
   "source": [
    "eval(input())"
   ]
  },
  {
   "cell_type": "markdown",
   "id": "fe9fc069",
   "metadata": {},
   "source": [
    "$Indexing$"
   ]
  },
  {
   "cell_type": "code",
   "execution_count": 25,
   "id": "34af22e9",
   "metadata": {},
   "outputs": [],
   "source": [
    "s='python'"
   ]
  },
  {
   "cell_type": "code",
   "execution_count": 26,
   "id": "0ad40c76",
   "metadata": {},
   "outputs": [
    {
     "data": {
      "text/plain": [
       "6"
      ]
     },
     "execution_count": 26,
     "metadata": {},
     "output_type": "execute_result"
    }
   ],
   "source": [
    "len(s)"
   ]
  },
  {
   "cell_type": "code",
   "execution_count": 27,
   "id": "d2eda192",
   "metadata": {},
   "outputs": [
    {
     "data": {
      "text/plain": [
       "'p'"
      ]
     },
     "execution_count": 27,
     "metadata": {},
     "output_type": "execute_result"
    }
   ],
   "source": [
    "s[0]\n",
    "\n",
    "# i can call a letter by using index\n",
    "# in python index start with zero"
   ]
  },
  {
   "cell_type": "code",
   "execution_count": null,
   "id": "b6020f4c",
   "metadata": {},
   "outputs": [],
   "source": [
    "p    y    t    h    o    n\n",
    "0    1    2    3    4    5"
   ]
  },
  {
   "cell_type": "code",
   "execution_count": 28,
   "id": "bcf07c2f",
   "metadata": {},
   "outputs": [
    {
     "data": {
      "text/plain": [
       "'h'"
      ]
     },
     "execution_count": 28,
     "metadata": {},
     "output_type": "execute_result"
    }
   ],
   "source": [
    "s[3]"
   ]
  },
  {
   "cell_type": "code",
   "execution_count": 29,
   "id": "fcf24ccc",
   "metadata": {},
   "outputs": [
    {
     "data": {
      "text/plain": [
       "'n'"
      ]
     },
     "execution_count": 29,
     "metadata": {},
     "output_type": "execute_result"
    }
   ],
   "source": [
    "s[5]"
   ]
  },
  {
   "cell_type": "code",
   "execution_count": 30,
   "id": "5a5bc063",
   "metadata": {},
   "outputs": [
    {
     "data": {
      "text/plain": [
       "'a'"
      ]
     },
     "execution_count": 30,
     "metadata": {},
     "output_type": "execute_result"
    }
   ],
   "source": [
    "name='krishna'\n",
    "name[6]"
   ]
  },
  {
   "cell_type": "code",
   "execution_count": null,
   "id": "d479c1e3",
   "metadata": {},
   "outputs": [],
   "source": [
    "-6  -5    -4   -3   -2   -1\n",
    "p    y    t    h    o    n\n",
    "0    1    2    3    4    5"
   ]
  },
  {
   "cell_type": "code",
   "execution_count": 31,
   "id": "d71138e2",
   "metadata": {},
   "outputs": [
    {
     "data": {
      "text/plain": [
       "'n'"
      ]
     },
     "execution_count": 31,
     "metadata": {},
     "output_type": "execute_result"
    }
   ],
   "source": [
    "s[-1]"
   ]
  },
  {
   "cell_type": "code",
   "execution_count": 32,
   "id": "01443802",
   "metadata": {},
   "outputs": [
    {
     "data": {
      "text/plain": [
       "'n'"
      ]
     },
     "execution_count": 32,
     "metadata": {},
     "output_type": "execute_result"
    }
   ],
   "source": [
    "s[5]"
   ]
  },
  {
   "cell_type": "markdown",
   "id": "55561f49",
   "metadata": {},
   "source": [
    "- negative side last char starts with -1\n",
    "\n",
    "- pos side first char starts with 0"
   ]
  },
  {
   "cell_type": "code",
   "execution_count": null,
   "id": "35416d0c",
   "metadata": {},
   "outputs": [],
   "source": [
    "-3 -2 -1\n",
    "h   a  i\n",
    "0   1  2"
   ]
  },
  {
   "cell_type": "code",
   "execution_count": 33,
   "id": "6e15162d",
   "metadata": {},
   "outputs": [
    {
     "data": {
      "text/plain": [
       "'i'"
      ]
     },
     "execution_count": 33,
     "metadata": {},
     "output_type": "execute_result"
    }
   ],
   "source": [
    "s1='hai'\n",
    "s1[2]"
   ]
  },
  {
   "cell_type": "code",
   "execution_count": 34,
   "id": "af9664ad",
   "metadata": {},
   "outputs": [
    {
     "data": {
      "text/plain": [
       "'i'"
      ]
     },
     "execution_count": 34,
     "metadata": {},
     "output_type": "execute_result"
    }
   ],
   "source": [
    "s1[-1]"
   ]
  },
  {
   "cell_type": "code",
   "execution_count": 47,
   "id": "03ad1e99",
   "metadata": {},
   "outputs": [
    {
     "name": "stdout",
     "output_type": "stream",
     "text": [
      "0 p\n",
      "1 y\n",
      "2 t\n",
      "3 h\n",
      "4 o\n",
      "5 n\n"
     ]
    }
   ],
   "source": [
    "string='python'\n",
    "\n",
    "# print each and every letter using for loop\n",
    "\n",
    "# p    y    t    h    o    n\n",
    "# 0     1    2    3    4    5\n",
    "\n",
    "# your loop run 6 times\n",
    "# intialization i=0\n",
    "# end=6-1=5\n",
    "for i in range(0,6):\n",
    "    print(i,string[i])\n",
    "    #print(\"{} index is {}\".format(string[i],i))"
   ]
  },
  {
   "cell_type": "code",
   "execution_count": 59,
   "id": "7f5242f6",
   "metadata": {},
   "outputs": [
    {
     "name": "stdout",
     "output_type": "stream",
     "text": [
      "h index is 0\n",
      "a index is 1\n",
      "i index is 2\n",
      "  index is 3\n",
      "h index is 4\n",
      "o index is 5\n",
      "w index is 6\n"
     ]
    }
   ],
   "source": [
    "string=\"hai how\"\n",
    "num=len(string)\n",
    "for i in range(0,num):\n",
    "    print(\"{} index is {}\".format(string[i],i))"
   ]
  },
  {
   "cell_type": "code",
   "execution_count": 55,
   "id": "6d090766",
   "metadata": {},
   "outputs": [
    {
     "name": "stdout",
     "output_type": "stream",
     "text": [
      "enter a string:python\n",
      "p index is 0\n",
      "y index is 1\n",
      "t index is 2\n",
      "h index is 3\n",
      "o index is 4\n",
      "n index is 5\n"
     ]
    }
   ],
   "source": [
    "string=input(\"enter a string:\")\n",
    "num=len(string)\n",
    "for i in range(0,num):\n",
    "    print(\"{} index is {}\".format(string[i],i))"
   ]
  },
  {
   "cell_type": "code",
   "execution_count": 61,
   "id": "a60da220",
   "metadata": {},
   "outputs": [
    {
     "name": "stdout",
     "output_type": "stream",
     "text": [
      "enter a string:hai\n",
      "h index is 0\n",
      "a index is 1\n",
      "i index is 2\n"
     ]
    }
   ],
   "source": [
    "try:\n",
    "    string=input(\"enter a string:\")\n",
    "    num=len(string)\n",
    "    for i in range(0,num):\n",
    "        print(\"{} index is {}\".format(string[i],i))\n",
    "        \n",
    "except Exception as e:\n",
    "    print(\"Error occured:\",e)"
   ]
  },
  {
   "cell_type": "code",
   "execution_count": 62,
   "id": "b7111a85",
   "metadata": {},
   "outputs": [],
   "source": [
    "def string():  # with out arguments\n",
    "    try:\n",
    "        string=input(\"enter a string:\")\n",
    "        num=len(string)\n",
    "        for i in range(0,num):\n",
    "            print(\"{} index is {}\".format(string[i],i))\n",
    "        \n",
    "    except Exception as e:\n",
    "        print(\"Error occured:\",e)"
   ]
  },
  {
   "cell_type": "code",
   "execution_count": 63,
   "id": "9038fe37",
   "metadata": {},
   "outputs": [
    {
     "name": "stdout",
     "output_type": "stream",
     "text": [
      "enter a string:hai\n",
      "h index is 0\n",
      "a index is 1\n",
      "i index is 2\n"
     ]
    }
   ],
   "source": [
    "string()"
   ]
  },
  {
   "cell_type": "code",
   "execution_count": 64,
   "id": "9880407e",
   "metadata": {},
   "outputs": [
    {
     "name": "stdout",
     "output_type": "stream",
     "text": [
      "i index is 0\n",
      "n index is 1\n",
      "d index is 2\n",
      "i index is 3\n",
      "a index is 4\n"
     ]
    }
   ],
   "source": [
    "def string(str1):  # with arguments\n",
    "    try:\n",
    "        num=len(str1)\n",
    "        for i in range(0,num):\n",
    "            print(\"{} index is {}\".format(str1[i],i))\n",
    "        \n",
    "    except Exception as e:\n",
    "        print(\"Error occured:\",e)\n",
    "        \n",
    "string('india')"
   ]
  },
  {
   "cell_type": "code",
   "execution_count": null,
   "id": "de6dba0b",
   "metadata": {},
   "outputs": [],
   "source": [
    "string='python'\n",
    "\n",
    "p pos index is 0 and neg index is -6 \n",
    "y pos index is 1 and neg index is -5\n",
    "t pos index is 2 and neg index is -4"
   ]
  },
  {
   "cell_type": "code",
   "execution_count": 75,
   "id": "df5d5c63",
   "metadata": {},
   "outputs": [
    {
     "name": "stdout",
     "output_type": "stream",
     "text": [
      "p pos index is 0 and neg index is -6\n",
      "y pos index is 1 and neg index is -5\n",
      "t pos index is 2 and neg index is -4\n",
      "h pos index is 3 and neg index is -3\n",
      "o pos index is 4 and neg index is -2\n",
      "n pos index is 5 and neg index is -1\n"
     ]
    }
   ],
   "source": [
    "# first print numbers using for loop\n",
    "# the same range should provide pos and neg\n",
    "# p    y    t     h    o    n\n",
    "#-6   -5    -4   -3   -2    -1\n",
    "string='python'\n",
    "for i in range(0,len(string)):\n",
    "    print(\"{} pos index is {} and neg index is {}\".format(string[i],i,i-len(string)))"
   ]
  },
  {
   "cell_type": "code",
   "execution_count": 81,
   "id": "3b53019a",
   "metadata": {},
   "outputs": [
    {
     "name": "stdout",
     "output_type": "stream",
     "text": [
      "0 -6\n",
      "1 -5\n",
      "2 -4\n",
      "3 -3\n",
      "4 -2\n",
      "5 -1\n"
     ]
    }
   ],
   "source": [
    "string='python'\n",
    "for i in range(0,len(string)):\n",
    "    print(i,i-len(string))"
   ]
  },
  {
   "cell_type": "code",
   "execution_count": 78,
   "id": "7ed2c00e",
   "metadata": {},
   "outputs": [
    {
     "name": "stdout",
     "output_type": "stream",
     "text": [
      "-6 p\n",
      "-5 y\n",
      "-4 t\n",
      "-3 h\n",
      "-2 o\n",
      "-1 n\n"
     ]
    }
   ],
   "source": [
    "string='python'\n",
    "for i in range(-len(string),0):\n",
    "    print(i,string[i])\n",
    "    #print(\"{} pos index is {} and neg index is {}\".format(string[i],i,i-len(string)))"
   ]
  },
  {
   "cell_type": "code",
   "execution_count": 90,
   "id": "e917eda4",
   "metadata": {},
   "outputs": [
    {
     "name": "stdout",
     "output_type": "stream",
     "text": [
      "p neg index is -6 and pos index is 0\n",
      "y neg index is -5 and pos index is 1\n",
      "t neg index is -4 and pos index is 2\n",
      "h neg index is -3 and pos index is 3\n",
      "o neg index is -2 and pos index is 4\n",
      "n neg index is -1 and pos index is 5\n"
     ]
    }
   ],
   "source": [
    "string='python'\n",
    "num=-len(string)\n",
    "for i in range(num,0):\n",
    "    print(\"{} neg index is {} and pos index is {}\".format(string[i],i,i-num))"
   ]
  },
  {
   "cell_type": "code",
   "execution_count": null,
   "id": "4b871c7c",
   "metadata": {},
   "outputs": [],
   "source": [
    "# Membership operator  in"
   ]
  },
  {
   "cell_type": "code",
   "execution_count": 91,
   "id": "a76b1d70",
   "metadata": {},
   "outputs": [],
   "source": [
    "s='python'"
   ]
  },
  {
   "cell_type": "code",
   "execution_count": 92,
   "id": "2f31dc8c",
   "metadata": {},
   "outputs": [
    {
     "data": {
      "text/plain": [
       "True"
      ]
     },
     "execution_count": 92,
     "metadata": {},
     "output_type": "execute_result"
    }
   ],
   "source": [
    "'p' in s ---------- > T\n",
    "\n",
    "'y' in s ----------- > T\n",
    "\n",
    "'t' in s ------------ >T"
   ]
  },
  {
   "cell_type": "code",
   "execution_count": 96,
   "id": "c6d6af0e",
   "metadata": {},
   "outputs": [
    {
     "name": "stdout",
     "output_type": "stream",
     "text": [
      "p y t h o n "
     ]
    }
   ],
   "source": [
    "for i in s:\n",
    "    print(i,end=' ')\n",
    "    \n",
    "# in operator will take direct letter"
   ]
  },
  {
   "cell_type": "code",
   "execution_count": null,
   "id": "2d403e8e",
   "metadata": {},
   "outputs": [],
   "source": [
    "# range ----------- > numbers --------- > index\n",
    "# in ----------- > direct"
   ]
  },
  {
   "cell_type": "code",
   "execution_count": 95,
   "id": "9cbcbf06",
   "metadata": {},
   "outputs": [
    {
     "name": "stdout",
     "output_type": "stream",
     "text": [
      "p y t h o n "
     ]
    }
   ],
   "source": [
    "for i in range(0,len(s)):  # numbers\n",
    "    print(s[i],end=' ')"
   ]
  },
  {
   "cell_type": "code",
   "execution_count": 99,
   "id": "5bbdcd6a",
   "metadata": {},
   "outputs": [
    {
     "name": "stdout",
     "output_type": "stream",
     "text": [
      "A\n",
      "p\n",
      "p\n",
      "l\n",
      "e\n"
     ]
    }
   ],
   "source": [
    "string='Apple'\n",
    "# print each letter using while loop\n",
    "# for i in range(0,len(string))\n",
    "i=0\n",
    "while i<len(string):\n",
    "    print(string[i])\n",
    "    i+=1"
   ]
  },
  {
   "cell_type": "code",
   "execution_count": null,
   "id": "e62438b6",
   "metadata": {},
   "outputs": [],
   "source": [
    "# enter a string from key board\n",
    "# and print the vowels in a string\n",
    "\n",
    "# my_string='hai how are you'\n",
    "\n",
    "# step-1: take a string from keyboard --------------------> input()\n",
    "# step-2: iterate over a string( take each letter) -------> for\n",
    "# step-3: verify it is vowel or not ----------------------> if \n",
    "# step-4: print that vowel ------------------> print"
   ]
  },
  {
   "cell_type": "code",
   "execution_count": 101,
   "id": "710abe61",
   "metadata": {},
   "outputs": [
    {
     "data": {
      "text/plain": [
       "False"
      ]
     },
     "execution_count": 101,
     "metadata": {},
     "output_type": "execute_result"
    }
   ],
   "source": [
    "'h' in 'aeiou'\n",
    "'a' in 'aeiou' -------- > true\n",
    "'i' in 'aeiou'---------> true"
   ]
  },
  {
   "cell_type": "code",
   "execution_count": null,
   "id": "4d9ee1df",
   "metadata": {},
   "outputs": [],
   "source": []
  },
  {
   "cell_type": "code",
   "execution_count": 112,
   "id": "fc3125a6",
   "metadata": {},
   "outputs": [
    {
     "name": "stdout",
     "output_type": "stream",
     "text": [
      "enter a string:aiaiaiai\n",
      "ai\n"
     ]
    }
   ],
   "source": [
    "my_string=input(\"enter a string:\")\n",
    "string3=''\n",
    "for i in my_string:\n",
    "    if i in 'aeiou':  # second a True\n",
    "        if i not in string3: # second a not in string3='ai'\n",
    "            string3=string3+i\n",
    "print(string3)"
   ]
  },
  {
   "cell_type": "code",
   "execution_count": 108,
   "id": "d06b0b7d",
   "metadata": {},
   "outputs": [],
   "source": [
    "# i want to append string1  into string2\n",
    "# string1 letters will go into string1\n",
    "string1='hai'\n",
    "string2=''\n",
    "\n",
    "for i in string1:\n",
    "    string2=string2+i\n",
    "    \n",
    "# 1----- > h ----> string2=''+'h'='h'\n",
    "# 2------> a ----> string2='h'+'a'='ha'\n",
    "# 3------> i ----> string2='ha'+'i'='hai'"
   ]
  },
  {
   "cell_type": "code",
   "execution_count": 109,
   "id": "bc5ba819",
   "metadata": {},
   "outputs": [
    {
     "data": {
      "text/plain": [
       "'hai'"
      ]
     },
     "execution_count": 109,
     "metadata": {},
     "output_type": "execute_result"
    }
   ],
   "source": [
    "string2"
   ]
  },
  {
   "cell_type": "code",
   "execution_count": null,
   "id": "fee11b00",
   "metadata": {},
   "outputs": [],
   "source": [
    "'hai how are you'\n",
    "\n",
    "# h ------->not vowel\n",
    "# a--------> vowel\n",
    "# i--------> vowel\n",
    "# h-------> not\n",
    "# o--------< v\n",
    "# w--------> not\n",
    "# a--------> already a consider i will not print\n",
    "\n",
    "# every vowel upload into a new empty string\n",
    "# string3='aio'\n",
    "# a im in there in string3 ------> yes\n",
    "# no print"
   ]
  },
  {
   "cell_type": "markdown",
   "id": "e00b256b",
   "metadata": {},
   "source": [
    "$ Slice $"
   ]
  },
  {
   "cell_type": "code",
   "execution_count": null,
   "id": "d8e423f0",
   "metadata": {},
   "outputs": [],
   "source": [
    "i       l    o    v    e      p    y    t    h    o    n\n",
    "0   1   2    3    4    5  6   7    8    9    10   11   12 "
   ]
  },
  {
   "cell_type": "code",
   "execution_count": null,
   "id": "cf173d46",
   "metadata": {},
   "outputs": [],
   "source": [
    "# i love python"
   ]
  },
  {
   "cell_type": "code",
   "execution_count": 1,
   "id": "a4e11f41",
   "metadata": {},
   "outputs": [
    {
     "data": {
      "text/plain": [
       "13"
      ]
     },
     "execution_count": 1,
     "metadata": {},
     "output_type": "execute_result"
    }
   ],
   "source": [
    "len(\"i love python\")"
   ]
  },
  {
   "cell_type": "code",
   "execution_count": 3,
   "id": "b784faf1",
   "metadata": {},
   "outputs": [
    {
     "name": "stdout",
     "output_type": "stream",
     "text": [
      "2 3 4 5 6 7 8 9 "
     ]
    }
   ],
   "source": [
    "for i in range(2,10):\n",
    "    print(i,end=' ')\n",
    "# start=2  stop=end-1=10-1=9   \n",
    "# (not mentioned) step=1  direction =pos"
   ]
  },
  {
   "cell_type": "code",
   "execution_count": 4,
   "id": "0be07835",
   "metadata": {},
   "outputs": [
    {
     "data": {
      "text/plain": [
       "'love pyt'"
      ]
     },
     "execution_count": 4,
     "metadata": {},
     "output_type": "execute_result"
    }
   ],
   "source": [
    "string='i love python'\n",
    "string[2:10]  # love pyt"
   ]
  },
  {
   "cell_type": "code",
   "execution_count": 7,
   "id": "6f324cc3",
   "metadata": {},
   "outputs": [],
   "source": [
    "for i in range(2,13,-2):\n",
    "    print(i,end=' ')\n",
    "# start=2   stop=end+1=13+1=14\n",
    "# step=2   direc= the step -2---->-ve"
   ]
  },
  {
   "cell_type": "code",
   "execution_count": null,
   "id": "263deeb6",
   "metadata": {},
   "outputs": [],
   "source": [
    "-13 -12 -11  -10  -9   -8  -7  -6   -5   -4   -3   -2   -1  \n",
    " i       l    o    v    e       p    y    t    h    o    n\n",
    " 0   1   2    3    4    5  6    7    8    9    10   11   12 "
   ]
  },
  {
   "cell_type": "code",
   "execution_count": 15,
   "id": "bb8a406e",
   "metadata": {},
   "outputs": [
    {
     "data": {
      "text/plain": [
       "''"
      ]
     },
     "execution_count": 15,
     "metadata": {},
     "output_type": "execute_result"
    }
   ],
   "source": [
    "string[-2:13:-2] # start=-2  stop=13-1=12\n",
    "# step=2  direc=-neg"
   ]
  },
  {
   "cell_type": "code",
   "execution_count": null,
   "id": "f1a71b56",
   "metadata": {},
   "outputs": [],
   "source": [
    "string[2:-13:2] = ''\n",
    "string[2:-13:-2] ='l'\n",
    "string[-2:-13:2]=''\n",
    "string[-2:-13:-2]='otpeo '\n",
    "string[-2:13:2]='o'\n",
    "string[-2:13:-2]=''\n"
   ]
  },
  {
   "cell_type": "code",
   "execution_count": null,
   "id": "44648a9a",
   "metadata": {},
   "outputs": [],
   "source": [
    "# slicing questions on list i will not teach"
   ]
  },
  {
   "cell_type": "code",
   "execution_count": 16,
   "id": "5c1baa1d",
   "metadata": {},
   "outputs": [],
   "source": [
    "import random"
   ]
  },
  {
   "cell_type": "code",
   "execution_count": 17,
   "id": "358c1207",
   "metadata": {},
   "outputs": [
    {
     "data": {
      "text/plain": [
       "['BPF',\n",
       " 'LOG4',\n",
       " 'NV_MAGICCONST',\n",
       " 'RECIP_BPF',\n",
       " 'Random',\n",
       " 'SG_MAGICCONST',\n",
       " 'SystemRandom',\n",
       " 'TWOPI',\n",
       " '_Sequence',\n",
       " '_Set',\n",
       " '__all__',\n",
       " '__builtins__',\n",
       " '__cached__',\n",
       " '__doc__',\n",
       " '__file__',\n",
       " '__loader__',\n",
       " '__name__',\n",
       " '__package__',\n",
       " '__spec__',\n",
       " '_accumulate',\n",
       " '_acos',\n",
       " '_bisect',\n",
       " '_ceil',\n",
       " '_cos',\n",
       " '_e',\n",
       " '_exp',\n",
       " '_inst',\n",
       " '_log',\n",
       " '_os',\n",
       " '_pi',\n",
       " '_random',\n",
       " '_repeat',\n",
       " '_sha512',\n",
       " '_sin',\n",
       " '_sqrt',\n",
       " '_test',\n",
       " '_test_generator',\n",
       " '_urandom',\n",
       " '_warn',\n",
       " 'betavariate',\n",
       " 'choice',\n",
       " 'choices',\n",
       " 'expovariate',\n",
       " 'gammavariate',\n",
       " 'gauss',\n",
       " 'getrandbits',\n",
       " 'getstate',\n",
       " 'lognormvariate',\n",
       " 'normalvariate',\n",
       " 'paretovariate',\n",
       " 'randint',\n",
       " 'random',\n",
       " 'randrange',\n",
       " 'sample',\n",
       " 'seed',\n",
       " 'setstate',\n",
       " 'shuffle',\n",
       " 'triangular',\n",
       " 'uniform',\n",
       " 'vonmisesvariate',\n",
       " 'weibullvariate']"
      ]
     },
     "execution_count": 17,
     "metadata": {},
     "output_type": "execute_result"
    }
   ],
   "source": [
    "dir(random)  # directory"
   ]
  },
  {
   "cell_type": "code",
   "execution_count": 22,
   "id": "28be0938",
   "metadata": {},
   "outputs": [
    {
     "data": {
      "text/plain": [
       "4"
      ]
     },
     "execution_count": 22,
     "metadata": {},
     "output_type": "execute_result"
    }
   ],
   "source": [
    "random.randint(1,10)"
   ]
  },
  {
   "cell_type": "code",
   "execution_count": 23,
   "id": "fe71b48f",
   "metadata": {},
   "outputs": [],
   "source": [
    "string1='python'\n",
    "# first you need to write any string\n",
    "# to get methods "
   ]
  },
  {
   "cell_type": "code",
   "execution_count": 24,
   "id": "b0f55d0f",
   "metadata": {},
   "outputs": [
    {
     "data": {
      "text/plain": [
       "['__add__',\n",
       " '__class__',\n",
       " '__contains__',\n",
       " '__delattr__',\n",
       " '__dir__',\n",
       " '__doc__',\n",
       " '__eq__',\n",
       " '__format__',\n",
       " '__ge__',\n",
       " '__getattribute__',\n",
       " '__getitem__',\n",
       " '__getnewargs__',\n",
       " '__gt__',\n",
       " '__hash__',\n",
       " '__init__',\n",
       " '__init_subclass__',\n",
       " '__iter__',\n",
       " '__le__',\n",
       " '__len__',\n",
       " '__lt__',\n",
       " '__mod__',\n",
       " '__mul__',\n",
       " '__ne__',\n",
       " '__new__',\n",
       " '__reduce__',\n",
       " '__reduce_ex__',\n",
       " '__repr__',\n",
       " '__rmod__',\n",
       " '__rmul__',\n",
       " '__setattr__',\n",
       " '__sizeof__',\n",
       " '__str__',\n",
       " '__subclasshook__',\n",
       " 'capitalize',\n",
       " 'casefold',\n",
       " 'center',\n",
       " 'count',\n",
       " 'encode',\n",
       " 'endswith',\n",
       " 'expandtabs',\n",
       " 'find',\n",
       " 'format',\n",
       " 'format_map',\n",
       " 'index',\n",
       " 'isalnum',\n",
       " 'isalpha',\n",
       " 'isascii',\n",
       " 'isdecimal',\n",
       " 'isdigit',\n",
       " 'isidentifier',\n",
       " 'islower',\n",
       " 'isnumeric',\n",
       " 'isprintable',\n",
       " 'isspace',\n",
       " 'istitle',\n",
       " 'isupper',\n",
       " 'join',\n",
       " 'ljust',\n",
       " 'lower',\n",
       " 'lstrip',\n",
       " 'maketrans',\n",
       " 'partition',\n",
       " 'replace',\n",
       " 'rfind',\n",
       " 'rindex',\n",
       " 'rjust',\n",
       " 'rpartition',\n",
       " 'rsplit',\n",
       " 'rstrip',\n",
       " 'split',\n",
       " 'splitlines',\n",
       " 'startswith',\n",
       " 'strip',\n",
       " 'swapcase',\n",
       " 'title',\n",
       " 'translate',\n",
       " 'upper',\n",
       " 'zfill']"
      ]
     },
     "execution_count": 24,
     "metadata": {},
     "output_type": "execute_result"
    }
   ],
   "source": [
    "dir(string1)\n",
    "# which methods we can apply in strings"
   ]
  },
  {
   "cell_type": "markdown",
   "id": "b08cf490",
   "metadata": {},
   "source": [
    "$Upper$"
   ]
  },
  {
   "cell_type": "code",
   "execution_count": 29,
   "id": "7923ad9e",
   "metadata": {},
   "outputs": [],
   "source": [
    "string='i LIKE python'\n",
    "string_upper=string.upper()\n",
    "# upper method returns small letter to capital letter"
   ]
  },
  {
   "cell_type": "code",
   "execution_count": 31,
   "id": "0d848e02",
   "metadata": {},
   "outputs": [
    {
     "name": "stdout",
     "output_type": "stream",
     "text": [
      "original case: i LIKE python\n",
      "upper case: I LIKE PYTHON\n"
     ]
    }
   ],
   "source": [
    "print('original case:',string)\n",
    "print('upper case:',string_upper)"
   ]
  },
  {
   "cell_type": "markdown",
   "id": "923e4766",
   "metadata": {},
   "source": [
    "$lower$"
   ]
  },
  {
   "cell_type": "code",
   "execution_count": 32,
   "id": "031fc867",
   "metadata": {},
   "outputs": [
    {
     "name": "stdout",
     "output_type": "stream",
     "text": [
      "original case: i LIKE python\n",
      "upper case: I LIKE PYTHON\n",
      "lower case: i like python\n"
     ]
    }
   ],
   "source": [
    "string_lower=string_upper.lower()\n",
    "print('original case:',string)\n",
    "print('upper case:',string_upper)\n",
    "print('lower case:',string_lower)"
   ]
  },
  {
   "cell_type": "markdown",
   "id": "3ffb2cd4",
   "metadata": {},
   "source": [
    "$Capitalize$:"
   ]
  },
  {
   "cell_type": "code",
   "execution_count": 33,
   "id": "90aea787",
   "metadata": {},
   "outputs": [
    {
     "name": "stdout",
     "output_type": "stream",
     "text": [
      "original case: i LIKE python\n",
      "upper case: I LIKE PYTHON\n",
      "lower case: i like python\n",
      "capitalize: I like python\n"
     ]
    }
   ],
   "source": [
    "string_capitalize=string_lower.capitalize()\n",
    "print('original case:',string)\n",
    "print('upper case:',string_upper)\n",
    "print('lower case:',string_lower)\n",
    "print('capitalize:',string_capitalize)"
   ]
  },
  {
   "cell_type": "markdown",
   "id": "312a81f0",
   "metadata": {},
   "source": [
    "$casefold$"
   ]
  },
  {
   "cell_type": "code",
   "execution_count": 35,
   "id": "f2f126d5",
   "metadata": {},
   "outputs": [
    {
     "name": "stdout",
     "output_type": "stream",
     "text": [
      "how are\n",
      "how are\n"
     ]
    }
   ],
   "source": [
    "text='hOW aRe'\n",
    "# casefold will convert all the strings to lowercase\n",
    "text_casefold=text.casefold()\n",
    "text_lower=text.lower()\n",
    "print(text_casefold)\n",
    "print(text_lower)"
   ]
  },
  {
   "cell_type": "markdown",
   "id": "cf029d16",
   "metadata": {},
   "source": [
    "$center$"
   ]
  },
  {
   "cell_type": "code",
   "execution_count": 47,
   "id": "8b93dd90",
   "metadata": {},
   "outputs": [
    {
     "data": {
      "text/plain": [
       "'@@@@@python@@@@'"
      ]
     },
     "execution_count": 47,
     "metadata": {},
     "output_type": "execute_result"
    }
   ],
   "source": [
    "word='python'  # 6\n",
    "\n",
    "# i want to create a 12 letters and the word should be in center\n",
    "# and surrounded by some spl chr *\n",
    "# ***python***\n",
    "new_word=word.center(15,'@')\n",
    "new_word"
   ]
  },
  {
   "cell_type": "code",
   "execution_count": 38,
   "id": "ea26b129",
   "metadata": {},
   "outputs": [
    {
     "data": {
      "text/plain": [
       "'python'"
      ]
     },
     "execution_count": 38,
     "metadata": {},
     "output_type": "execute_result"
    }
   ],
   "source": [
    "word.center(6,'*')"
   ]
  },
  {
   "cell_type": "markdown",
   "id": "dba459de",
   "metadata": {},
   "source": [
    "$index$-$count$-$find$"
   ]
  },
  {
   "cell_type": "code",
   "execution_count": 51,
   "id": "16265cf8",
   "metadata": {},
   "outputs": [
    {
     "name": "stdout",
     "output_type": "stream",
     "text": [
      "0\n",
      "1\n",
      "2\n",
      "3\n",
      "4\n",
      "5\n"
     ]
    }
   ],
   "source": [
    "text1='python'\n",
    "\n",
    "# what is the index of 'o' = 4  and -2\n",
    "print(text1.index('p'))\n",
    "print(text1.index('y'))\n",
    "print(text1.index('t'))\n",
    "print(text1.index('h'))\n",
    "print(text1.index('o'))\n",
    "print(text1.index('n'))\n",
    "\n",
    "# print(text1.index(i))"
   ]
  },
  {
   "cell_type": "code",
   "execution_count": 54,
   "id": "976103aa",
   "metadata": {},
   "outputs": [
    {
     "name": "stdout",
     "output_type": "stream",
     "text": [
      "p index is 0\n",
      "y index is 1\n",
      "t index is 2\n",
      "h index is 3\n",
      "o index is 4\n",
      "n index is 5\n"
     ]
    }
   ],
   "source": [
    "for i in text1:\n",
    "    print(\"{} index is {}\".format(i,text1.index(i)))"
   ]
  },
  {
   "cell_type": "code",
   "execution_count": 56,
   "id": "956e6734",
   "metadata": {},
   "outputs": [
    {
     "name": "stdout",
     "output_type": "stream",
     "text": [
      "p index is 0\n",
      "y index is 1\n",
      "t index is 2\n",
      "h index is 3\n",
      "o index is 4\n",
      "n index is 5\n"
     ]
    }
   ],
   "source": [
    "for i in range(len(text1)):\n",
    "    print(\"{} index is {}\".format(text1[i],i))"
   ]
  },
  {
   "cell_type": "code",
   "execution_count": 60,
   "id": "4c5a2df0",
   "metadata": {},
   "outputs": [
    {
     "name": "stdout",
     "output_type": "stream",
     "text": [
      "7\n",
      "7\n"
     ]
    }
   ],
   "source": [
    "sent1='i like python'\n",
    "print(sent1.index('python'))\n",
    "# substring start index will give \n",
    "# 'python' is substring it starts at index 7\n",
    "print(sent1.index('p'))\n",
    "# 'p' also starts at index 7"
   ]
  },
  {
   "cell_type": "code",
   "execution_count": 64,
   "id": "1401df82",
   "metadata": {},
   "outputs": [
    {
     "data": {
      "text/plain": [
       "0"
      ]
     },
     "execution_count": 64,
     "metadata": {},
     "output_type": "execute_result"
    }
   ],
   "source": [
    "sent2='ola ola ola'\n",
    "sent2.index('ola')\n",
    "#ola is a substring repaeting at 0,4,7\n",
    "# but index method will provide \n",
    "# only first occurence of index"
   ]
  },
  {
   "cell_type": "code",
   "execution_count": 66,
   "id": "130025c8",
   "metadata": {},
   "outputs": [
    {
     "data": {
      "text/plain": [
       "7"
      ]
     },
     "execution_count": 66,
     "metadata": {},
     "output_type": "execute_result"
    }
   ],
   "source": [
    "sent2='ala olaola '\n",
    "sent2.index('ola ')"
   ]
  },
  {
   "cell_type": "code",
   "execution_count": 1,
   "id": "f816caab",
   "metadata": {},
   "outputs": [
    {
     "data": {
      "text/plain": [
       "2"
      ]
     },
     "execution_count": 1,
     "metadata": {},
     "output_type": "execute_result"
    }
   ],
   "source": [
    "# index method\n",
    "str1='happy'\n",
    "str1.index('p')  # it will give first occurence index"
   ]
  },
  {
   "cell_type": "markdown",
   "id": "6a4a4f2f",
   "metadata": {},
   "source": [
    "$count$"
   ]
  },
  {
   "cell_type": "code",
   "execution_count": 2,
   "id": "3e8d51ef",
   "metadata": {},
   "outputs": [
    {
     "data": {
      "text/plain": [
       "2"
      ]
     },
     "execution_count": 2,
     "metadata": {},
     "output_type": "execute_result"
    }
   ],
   "source": [
    "str1.count('p') # no.of occurences of char"
   ]
  },
  {
   "cell_type": "code",
   "execution_count": 4,
   "id": "9b0e5bdb",
   "metadata": {},
   "outputs": [
    {
     "data": {
      "text/plain": [
       "2"
      ]
     },
     "execution_count": 4,
     "metadata": {},
     "output_type": "execute_result"
    }
   ],
   "source": [
    "sent2='ala olaola '\n",
    "sent2.count('ola') # no of occrences of substring"
   ]
  },
  {
   "cell_type": "markdown",
   "id": "164da0dd",
   "metadata": {},
   "source": [
    "$Mutable/immutable$"
   ]
  },
  {
   "cell_type": "code",
   "execution_count": 5,
   "id": "4bd4e7a0",
   "metadata": {},
   "outputs": [
    {
     "data": {
      "text/plain": [
       "2"
      ]
     },
     "execution_count": 5,
     "metadata": {},
     "output_type": "execute_result"
    }
   ],
   "source": [
    "string='welcome'\n",
    "# weLcome   replace 'l' -----> 'L'\n",
    "string.index('l')"
   ]
  },
  {
   "cell_type": "code",
   "execution_count": 7,
   "id": "bd0e3ba4",
   "metadata": {},
   "outputs": [
    {
     "ename": "TypeError",
     "evalue": "'str' object does not support item assignment",
     "output_type": "error",
     "traceback": [
      "\u001b[1;31m---------------------------------------------------------------------------\u001b[0m",
      "\u001b[1;31mTypeError\u001b[0m                                 Traceback (most recent call last)",
      "\u001b[1;32m<ipython-input-7-f3131e2fc566>\u001b[0m in \u001b[0;36m<module>\u001b[1;34m\u001b[0m\n\u001b[1;32m----> 1\u001b[1;33m \u001b[0mstring\u001b[0m\u001b[1;33m[\u001b[0m\u001b[1;36m2\u001b[0m\u001b[1;33m]\u001b[0m\u001b[1;33m=\u001b[0m\u001b[1;34m'L'\u001b[0m\u001b[1;33m\u001b[0m\u001b[1;33m\u001b[0m\u001b[0m\n\u001b[0m",
      "\u001b[1;31mTypeError\u001b[0m: 'str' object does not support item assignment"
     ]
    }
   ],
   "source": [
    "string[2]='L'   \n",
    "# strings are immutable\n",
    "# in strings we cant change the values by using index"
   ]
  },
  {
   "cell_type": "code",
   "execution_count": 20,
   "id": "5ad0736d",
   "metadata": {},
   "outputs": [
    {
     "data": {
      "text/plain": [
       "'come'"
      ]
     },
     "execution_count": 20,
     "metadata": {},
     "output_type": "execute_result"
    }
   ],
   "source": [
    "str1='welcome'\n",
    "str1[3:]"
   ]
  },
  {
   "cell_type": "code",
   "execution_count": 24,
   "id": "aedcaaa9",
   "metadata": {},
   "outputs": [
    {
     "name": "stdout",
     "output_type": "stream",
     "text": [
      "old: welcome\n",
      "new: weLcome\n"
     ]
    }
   ],
   "source": [
    "# in 'welcome' -------> \n",
    "#'we'+'L'+'come' ----->'weLcome'\n",
    "num=string.index('l') # index\n",
    "s1=string[:num]    #------->slice---> 'we'\n",
    "s2=string[num+1:]   #------->slice---> 'come'\n",
    "new_str=s1+'L'+s2  # CT\n",
    "print('old:',string)\n",
    "print('new:',new_str)\n",
    "\n",
    "# slicing\n",
    "# adding\n",
    "# index"
   ]
  },
  {
   "cell_type": "markdown",
   "id": "cab25110",
   "metadata": {},
   "source": [
    "$replace$:"
   ]
  },
  {
   "cell_type": "code",
   "execution_count": 30,
   "id": "3a9aeb40",
   "metadata": {},
   "outputs": [
    {
     "data": {
      "text/plain": [
       "'weLcome'"
      ]
     },
     "execution_count": 30,
     "metadata": {},
     "output_type": "execute_result"
    }
   ],
   "source": [
    "# same above soluton can get by using replace\n",
    "str1='welcome'\n",
    "str1.replace('l','L')"
   ]
  },
  {
   "cell_type": "code",
   "execution_count": 32,
   "id": "44eef277",
   "metadata": {},
   "outputs": [
    {
     "data": {
      "text/plain": [
       "'wElcomE lifE'"
      ]
     },
     "execution_count": 32,
     "metadata": {},
     "output_type": "execute_result"
    }
   ],
   "source": [
    "str2='welcome life' # 'weLcome life'\n",
    "str2.replace('e','E')\n",
    "# replace with o/p char for all i/p char"
   ]
  },
  {
   "cell_type": "code",
   "execution_count": null,
   "id": "9cdf2dfb",
   "metadata": {},
   "outputs": [],
   "source": [
    "# input='restart'\n",
    "# o/p='resta$t'\n",
    "# replace second 'r' with '$'\n",
    "# slicing and replace"
   ]
  },
  {
   "cell_type": "code",
   "execution_count": 35,
   "id": "13268971",
   "metadata": {},
   "outputs": [
    {
     "name": "stdout",
     "output_type": "stream",
     "text": [
      "input: restart\n",
      "output: resta$t\n"
     ]
    }
   ],
   "source": [
    "# restart ===> 're'+'sta$t'\n",
    "# restart ----> 're'+'start'\n",
    "string='restart'\n",
    "string1=string[:2]  #'re'  (slice)\n",
    "string2=string[2:]  #'start'  (slice)\n",
    "string3=string2.replace('r','$') # 'sta$t' ('replace')\n",
    "new_string=string1+string3  #(CT)\n",
    "print('input:',string)\n",
    "print('output:',new_string)\n",
    "\n",
    "# step-1: 'restart' ------> 're' ------> s1\n",
    "# step-2: 'restart' ------> 'start' ----> s2\n",
    "# step-3: 'start' -------> 'sta$t' -----> s3\n",
    "# step-4: s1+s3------> 'resta$t'"
   ]
  },
  {
   "cell_type": "code",
   "execution_count": 44,
   "id": "ccfe745f",
   "metadata": {},
   "outputs": [
    {
     "data": {
      "text/plain": [
       "'$estart'"
      ]
     },
     "execution_count": 44,
     "metadata": {},
     "output_type": "execute_result"
    }
   ],
   "source": [
    "string.replace('r','$',1)\n",
    "# 1 count how many occurences you need to replace\n",
    "# 'r' occured two times\n",
    "# count=1 , only first 'r' will replace"
   ]
  },
  {
   "cell_type": "code",
   "execution_count": 62,
   "id": "715fc86c",
   "metadata": {},
   "outputs": [
    {
     "name": "stdout",
     "output_type": "stream",
     "text": [
      "resta$t\n"
     ]
    }
   ],
   "source": [
    "# step-1: 'restart'\n",
    "# step-2: 'tratser'\n",
    "# step-3: replace 'r' with '$' only on first occ\n",
    "# 'traster' ----> 't$aster'\n",
    "# step-4: 't$aster' ------> 'resta$t'\n",
    "\n",
    "str1=string[::-1]\n",
    "str2=str1.replace('r','$',1)\n",
    "str3=str2[::-1]\n",
    "print(str3)"
   ]
  },
  {
   "cell_type": "code",
   "execution_count": 59,
   "id": "45721aa1",
   "metadata": {},
   "outputs": [
    {
     "name": "stdout",
     "output_type": "stream",
     "text": [
      "python\n",
      "python\n",
      "nohtyp\n"
     ]
    }
   ],
   "source": [
    "str1='python'\n",
    "print(str1[:])   # start=0   end=last cahr=len(str1)\n",
    "print(str1[::1])\n",
    "print(str1[::-1])\n",
    "# nothing mentioned at stop value \n",
    "# means it automatically takes last char\n",
    "# nothing mentioned start index means it takes 0\n",
    "# p   y   t   h   o   n"
   ]
  },
  {
   "cell_type": "code",
   "execution_count": null,
   "id": "3bd61ca8",
   "metadata": {},
   "outputs": [],
   "source": [
    "# slice\n",
    "# slice+replace\n",
    "# reverse slicing+replace\n",
    "# Capitalize"
   ]
  },
  {
   "cell_type": "markdown",
   "id": "c4e5e9fe",
   "metadata": {},
   "source": [
    "$find$"
   ]
  },
  {
   "cell_type": "code",
   "execution_count": 64,
   "id": "eb7a37af",
   "metadata": {},
   "outputs": [
    {
     "data": {
      "text/plain": [
       "2"
      ]
     },
     "execution_count": 64,
     "metadata": {},
     "output_type": "execute_result"
    }
   ],
   "source": [
    "string1='happy'\n",
    "# how many 'p' are there =2\n",
    "string1.index('p') # first occurence"
   ]
  },
  {
   "cell_type": "code",
   "execution_count": null,
   "id": "414a7246",
   "metadata": {},
   "outputs": [],
   "source": [
    "# what are the index of 'p'\n",
    "# one  'p' index is =2\n",
    "# second 'p' index is =3\n",
    "# how do you get the second 'p' index ?\n",
    "# find method will give other occurences of char"
   ]
  },
  {
   "cell_type": "code",
   "execution_count": 75,
   "id": "502e68b3",
   "metadata": {},
   "outputs": [],
   "source": [
    "string1='ola ola ola'"
   ]
  },
  {
   "cell_type": "code",
   "execution_count": 82,
   "id": "da4d57e2",
   "metadata": {},
   "outputs": [
    {
     "data": {
      "text/plain": [
       "-1"
      ]
     },
     "execution_count": 82,
     "metadata": {},
     "output_type": "execute_result"
    }
   ],
   "source": [
    "string1.find('o')  # first 'o' occures at index 0\n",
    "string1.find('o',1) # im checking o in 'la ola ola'  index 4\n",
    "string1.find('o',5)  #  Third o index is 8\n",
    "string1.find('o',9)  # -1 means no 'o' after 9th index"
   ]
  },
  {
   "cell_type": "code",
   "execution_count": 90,
   "id": "0b83c2d2",
   "metadata": {},
   "outputs": [],
   "source": [
    "num1=string1.find('o') #==========> 0\n",
    "num2=string1.find('o',num1+1) #======> 4\n",
    "num3=string1.find('o',num2+1)# ===> 8\n",
    "#string1.find('o',string1.find('o',string1.find('o',string1.find('o')+1)+1)+1)"
   ]
  },
  {
   "cell_type": "code",
   "execution_count": 93,
   "id": "a19c08a0",
   "metadata": {},
   "outputs": [
    {
     "data": {
      "text/plain": [
       "-1"
      ]
     },
     "execution_count": 93,
     "metadata": {},
     "output_type": "execute_result"
    }
   ],
   "source": [
    "# 'restart'  ------ > 'resta$t'\n",
    "# 'resta'  'rt'\n",
    "#'r' 'estart'\n",
    "# find operation  replace  slice\n",
    "\n",
    "str1='ola ola ola'\n",
    "str1.find('ha')  # if no string found then it will give -1"
   ]
  },
  {
   "cell_type": "code",
   "execution_count": 108,
   "id": "6d2a0f7e",
   "metadata": {},
   "outputs": [
    {
     "name": "stdout",
     "output_type": "stream",
     "text": [
      "second r index is: 5\n",
      "string1: resta\n",
      "string2: rt\n",
      "resta$t\n"
     ]
    }
   ],
   "source": [
    "str1='restart'                 #'resta'  'rt'\n",
    "st=str1.find('r',1)            # 5\n",
    "print('second r index is:',st)\n",
    "s1=str1[:st]                   # str1[:5]\n",
    "print('string1:',s1)\n",
    "s2=str1[st:]                   # str1[5:]\n",
    "print('string2:',s2)\n",
    "s3=s2.replace('r','$')\n",
    "print(s1+s3)"
   ]
  },
  {
   "cell_type": "code",
   "execution_count": null,
   "id": "cf6db93b",
   "metadata": {},
   "outputs": [],
   "source": [
    "string='restart'\n",
    "string1=string[:2]  #'re'  (slice)\n",
    "string2=string[2:]  #'start'  (slice)\n",
    "string3=string2.replace('r','$') # 'sta$t' ('replace')\n",
    "new_string=string1+string3  #(CT)\n",
    "print('input:',string)\n",
    "print('output:',new_string)"
   ]
  },
  {
   "cell_type": "code",
   "execution_count": 110,
   "id": "dbd78679",
   "metadata": {},
   "outputs": [
    {
     "data": {
      "text/plain": [
       "'C:\\\\Users\\\\omkar\\\\OneDrive\\\\Documents\\\\Data science\\\\Ekeeda\\\\python_sessions'"
      ]
     },
     "execution_count": 110,
     "metadata": {},
     "output_type": "execute_result"
    }
   ],
   "source": [
    "# tell me your file location\n",
    "# os package/library/module\n",
    "import os\n",
    "os.getcwd()"
   ]
  },
  {
   "cell_type": "code",
   "execution_count": 112,
   "id": "beac1e1c",
   "metadata": {},
   "outputs": [
    {
     "data": {
      "text/plain": [
       "True"
      ]
     },
     "execution_count": 112,
     "metadata": {},
     "output_type": "execute_result"
    }
   ],
   "source": [
    "# https://www.eenadu.net/\n",
    "\n",
    "import webbrowser\n",
    "webbrowser.open('https://www.eenadu.net/')"
   ]
  },
  {
   "cell_type": "code",
   "execution_count": 113,
   "id": "536aef9f",
   "metadata": {},
   "outputs": [
    {
     "data": {
      "text/plain": [
       "True"
      ]
     },
     "execution_count": 113,
     "metadata": {},
     "output_type": "execute_result"
    }
   ],
   "source": [
    "import webbrowser\n",
    "import time\n",
    "time.sleep(5)\n",
    "webbrowser.open('https://www.eenadu.net/')"
   ]
  },
  {
   "cell_type": "code",
   "execution_count": null,
   "id": "57a4d761",
   "metadata": {},
   "outputs": [],
   "source": [
    "# startswith  and endswith"
   ]
  },
  {
   "cell_type": "code",
   "execution_count": 115,
   "id": "66cf3797",
   "metadata": {},
   "outputs": [],
   "source": [
    "str1=\"hai how are you,i'm good thank you!!!\""
   ]
  },
  {
   "cell_type": "code",
   "execution_count": 117,
   "id": "2abc7700",
   "metadata": {},
   "outputs": [
    {
     "data": {
      "text/plain": [
       "True"
      ]
     },
     "execution_count": 117,
     "metadata": {},
     "output_type": "execute_result"
    }
   ],
   "source": [
    "str1.startswith('hai')"
   ]
  },
  {
   "cell_type": "code",
   "execution_count": 120,
   "id": "b5a40d7e",
   "metadata": {},
   "outputs": [
    {
     "data": {
      "text/plain": [
       "False"
      ]
     },
     "execution_count": 120,
     "metadata": {},
     "output_type": "execute_result"
    }
   ],
   "source": [
    "str1.startswith(\"i'm\")"
   ]
  },
  {
   "cell_type": "code",
   "execution_count": 121,
   "id": "a2262136",
   "metadata": {},
   "outputs": [
    {
     "data": {
      "text/plain": [
       "True"
      ]
     },
     "execution_count": 121,
     "metadata": {},
     "output_type": "execute_result"
    }
   ],
   "source": [
    "str1.endswith('!')"
   ]
  },
  {
   "cell_type": "code",
   "execution_count": 122,
   "id": "90d896cb",
   "metadata": {},
   "outputs": [
    {
     "data": {
      "text/plain": [
       "True"
      ]
     },
     "execution_count": 122,
     "metadata": {},
     "output_type": "execute_result"
    }
   ],
   "source": [
    "\"i'm\" in str1"
   ]
  },
  {
   "cell_type": "code",
   "execution_count": 123,
   "id": "52d7b383",
   "metadata": {},
   "outputs": [
    {
     "data": {
      "text/plain": [
       "True"
      ]
     },
     "execution_count": 123,
     "metadata": {},
     "output_type": "execute_result"
    }
   ],
   "source": [
    "'good' in str1"
   ]
  },
  {
   "cell_type": "markdown",
   "id": "ddd6959f",
   "metadata": {},
   "source": [
    "$strip$-$rstrip$-$lstrip$"
   ]
  },
  {
   "cell_type": "code",
   "execution_count": 139,
   "id": "be541932",
   "metadata": {},
   "outputs": [],
   "source": [
    "str1=' pythhon****' # spaces in left and right\n",
    "str2=' python good'   # spaces in right side\n",
    "str3=' python'  # spaces in left side"
   ]
  },
  {
   "cell_type": "code",
   "execution_count": 130,
   "id": "670d66c6",
   "metadata": {},
   "outputs": [
    {
     "name": "stdout",
     "output_type": "stream",
     "text": [
      " pythhon \n",
      " python good \n"
     ]
    }
   ],
   "source": [
    "# if both side spaces you want to remove use strip\n",
    "# if only left side rempve use lstrip ---> left strip\n",
    "# right side remove ---> rstrio"
   ]
  },
  {
   "cell_type": "code",
   "execution_count": 160,
   "id": "43458c1a",
   "metadata": {},
   "outputs": [
    {
     "data": {
      "text/plain": [
       "(' pythhon****', 'pythhon', ' pythhon')"
      ]
     },
     "execution_count": 160,
     "metadata": {},
     "output_type": "execute_result"
    }
   ],
   "source": [
    "str1=' pythhon****'\n",
    "s1=str1.rstrip('*')\n",
    "s2=s1.lstrip(' ')\n",
    "str1,s2,s1"
   ]
  },
  {
   "cell_type": "markdown",
   "id": "4ec1b028",
   "metadata": {},
   "source": [
    "$split$"
   ]
  },
  {
   "cell_type": "code",
   "execution_count": 161,
   "id": "3c31db8b",
   "metadata": {},
   "outputs": [
    {
     "data": {
      "text/plain": [
       "['hai', 'how', 'are', 'you']"
      ]
     },
     "execution_count": 161,
     "metadata": {},
     "output_type": "execute_result"
    }
   ],
   "source": [
    "s1='hai how are you'\n",
    "# how many words are there 4 seperated by ' '\n",
    "s1.split(' ')  # list of words"
   ]
  },
  {
   "cell_type": "code",
   "execution_count": 164,
   "id": "68c3058f",
   "metadata": {},
   "outputs": [
    {
     "name": "stdout",
     "output_type": "stream",
     "text": [
      "['hai how', 'are you']\n",
      "['hai', 'how,are', 'you']\n"
     ]
    }
   ],
   "source": [
    "s2='hai how,are you'\n",
    "print(s2.split(','))\n",
    "print(s2.split(' '))"
   ]
  },
  {
   "cell_type": "code",
   "execution_count": null,
   "id": "a9529848",
   "metadata": {},
   "outputs": [],
   "source": []
  },
  {
   "cell_type": "code",
   "execution_count": null,
   "id": "6cdcb434",
   "metadata": {},
   "outputs": [],
   "source": []
  },
  {
   "cell_type": "code",
   "execution_count": null,
   "id": "33a766a4",
   "metadata": {},
   "outputs": [],
   "source": []
  }
 ],
 "metadata": {
  "kernelspec": {
   "display_name": "Python 3",
   "language": "python",
   "name": "python3"
  },
  "language_info": {
   "codemirror_mode": {
    "name": "ipython",
    "version": 3
   },
   "file_extension": ".py",
   "mimetype": "text/x-python",
   "name": "python",
   "nbconvert_exporter": "python",
   "pygments_lexer": "ipython3",
   "version": "3.8.8"
  }
 },
 "nbformat": 4,
 "nbformat_minor": 5
}
