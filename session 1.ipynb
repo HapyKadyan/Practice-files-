{
 "cells": [
  {
   "cell_type": "markdown",
   "id": "5e76c323",
   "metadata": {},
   "source": [
    "# pyhton "
   ]
  },
  {
   "cell_type": "markdown",
   "id": "0d036588",
   "metadata": {},
   "source": [
    "kernal ------->python\n",
    "whenever we run the code, white dot becomes black until code excute"
   ]
  },
  {
   "cell_type": "markdown",
   "id": "3fa8464f",
   "metadata": {},
   "source": [
    "ipynb--------> interactive python notebook"
   ]
  },
  {
   "cell_type": "code",
   "execution_count": null,
   "id": "98e9281d",
   "metadata": {},
   "outputs": [],
   "source": [
    "for output press shift + enter "
   ]
  },
  {
   "cell_type": "code",
   "execution_count": null,
   "id": "bbead355",
   "metadata": {},
   "outputs": [],
   "source": []
  },
  {
   "cell_type": "markdown",
   "id": "cb33c5ea",
   "metadata": {},
   "source": [
    "cell-----> \n",
    "if you want to run a code----->code option\n",
    "- markdown uses \n",
    "1. to write a notebook\n",
    "2.heading\n",
    "3.you can add images\n",
    "4. write up and code \n",
    "\n"
   ]
  },
  {
   "cell_type": "markdown",
   "id": "30ea777a",
   "metadata": {},
   "source": [
    "today is a intersting day "
   ]
  },
  {
   "cell_type": "markdown",
   "id": "f2fd98f0",
   "metadata": {},
   "source": [
    "i am going to learn python."
   ]
  },
  {
   "cell_type": "code",
   "execution_count": null,
   "id": "2332adbc",
   "metadata": {},
   "outputs": [],
   "source": [
    "# hastag uses in markdown\n",
    "# space dena h (ex: #happy treated as a heading or simple information)\n",
    "## decrease size\n",
    "##### decrease size \n",
    "###### only 6 hastag are  allowed \n",
    "use in starting of a line \n",
    "\n",
    "note: in markdown In[] will gone/disappear"
   ]
  },
  {
   "cell_type": "markdown",
   "id": "4e744cc1",
   "metadata": {},
   "source": [
    "# happy \n",
    "## happy\n",
    "#### happy\n",
    "###### happy\n"
   ]
  },
  {
   "cell_type": "code",
   "execution_count": null,
   "id": "4180c99d",
   "metadata": {},
   "outputs": [],
   "source": []
  },
  {
   "cell_type": "markdown",
   "id": "6e90bf8f",
   "metadata": {},
   "source": [
    "## variables"
   ]
  },
  {
   "cell_type": "code",
   "execution_count": null,
   "id": "e0702616",
   "metadata": {},
   "outputs": [],
   "source": [
    "variable----->it will vary------> it can change\n",
    "it is used to store or save value information\n",
    "\n",
    "python=30\n",
    "i am storing 30 in variable name called python\n",
    "similarly\n",
    "\n",
    "a=28\n",
    "i am storing 28 in a variable name called a\n"
   ]
  },
  {
   "cell_type": "code",
   "execution_count": 19,
   "id": "161bf752",
   "metadata": {},
   "outputs": [
    {
     "data": {
      "text/plain": [
       "10"
      ]
     },
     "execution_count": 19,
     "metadata": {},
     "output_type": "execute_result"
    }
   ],
   "source": [
    "a=10  #shift + enter button for output\n",
    "a"
   ]
  },
  {
   "cell_type": "code",
   "execution_count": 20,
   "id": "e0938de8",
   "metadata": {},
   "outputs": [
    {
     "data": {
      "text/plain": [
       "20"
      ]
     },
     "execution_count": 20,
     "metadata": {},
     "output_type": "execute_result"
    }
   ],
   "source": [
    "NUMBER = 20\n",
    "NUMBER"
   ]
  },
  {
   "cell_type": "code",
   "execution_count": 21,
   "id": "e15d3ac8",
   "metadata": {},
   "outputs": [
    {
     "data": {
      "text/plain": [
       "34"
      ]
     },
     "execution_count": 21,
     "metadata": {},
     "output_type": "execute_result"
    }
   ],
   "source": [
    "NuMBEr=34\n",
    "NuMBEr"
   ]
  },
  {
   "cell_type": "code",
   "execution_count": 22,
   "id": "4c4526ee",
   "metadata": {},
   "outputs": [
    {
     "data": {
      "text/plain": [
       "18"
      ]
     },
     "execution_count": 22,
     "metadata": {},
     "output_type": "execute_result"
    }
   ],
   "source": [
    "number =18\n",
    "number"
   ]
  },
  {
   "cell_type": "code",
   "execution_count": 23,
   "id": "54954319",
   "metadata": {},
   "outputs": [
    {
     "data": {
      "text/plain": [
       "34"
      ]
     },
     "execution_count": 23,
     "metadata": {},
     "output_type": "execute_result"
    }
   ],
   "source": [
    "num123= 34\n",
    "num123"
   ]
  },
  {
   "cell_type": "code",
   "execution_count": 24,
   "id": "f2c610b3",
   "metadata": {},
   "outputs": [
    {
     "ename": "SyntaxError",
     "evalue": "invalid syntax (2171330615.py, line 1)",
     "output_type": "error",
     "traceback": [
      "\u001b[1;36m  Input \u001b[1;32mIn [24]\u001b[1;36m\u001b[0m\n\u001b[1;33m    123num= 21\u001b[0m\n\u001b[1;37m       ^\u001b[0m\n\u001b[1;31mSyntaxError\u001b[0m\u001b[1;31m:\u001b[0m invalid syntax\n"
     ]
    }
   ],
   "source": [
    "123num= 21\n",
    "123num"
   ]
  },
  {
   "cell_type": "code",
   "execution_count": 25,
   "id": "d1777276",
   "metadata": {},
   "outputs": [
    {
     "ename": "SyntaxError",
     "evalue": "invalid syntax (3432889452.py, line 1)",
     "output_type": "error",
     "traceback": [
      "\u001b[1;36m  Input \u001b[1;32mIn [25]\u001b[1;36m\u001b[0m\n\u001b[1;33m    number@ = 21\u001b[0m\n\u001b[1;37m            ^\u001b[0m\n\u001b[1;31mSyntaxError\u001b[0m\u001b[1;31m:\u001b[0m invalid syntax\n"
     ]
    }
   ],
   "source": [
    "number@ = 21\n",
    "number@"
   ]
  },
  {
   "cell_type": "code",
   "execution_count": 26,
   "id": "718cf506",
   "metadata": {},
   "outputs": [
    {
     "ename": "SyntaxError",
     "evalue": "invalid syntax (2635741288.py, line 1)",
     "output_type": "error",
     "traceback": [
      "\u001b[1;36m  Input \u001b[1;32mIn [26]\u001b[1;36m\u001b[0m\n\u001b[1;33m    num% = 21\u001b[0m\n\u001b[1;37m         ^\u001b[0m\n\u001b[1;31mSyntaxError\u001b[0m\u001b[1;31m:\u001b[0m invalid syntax\n"
     ]
    }
   ],
   "source": [
    "num% = 21\n",
    "num%"
   ]
  },
  {
   "cell_type": "code",
   "execution_count": 28,
   "id": "c7b6df0e",
   "metadata": {},
   "outputs": [
    {
     "data": {
      "text/plain": [
       "89"
      ]
     },
     "execution_count": 28,
     "metadata": {},
     "output_type": "execute_result"
    }
   ],
   "source": [
    "num_2 = 89\n",
    "num_2"
   ]
  },
  {
   "cell_type": "code",
   "execution_count": 29,
   "id": "f246dd6f",
   "metadata": {},
   "outputs": [
    {
     "data": {
      "text/plain": [
       "58"
      ]
     },
     "execution_count": 29,
     "metadata": {},
     "output_type": "execute_result"
    }
   ],
   "source": [
    "_ = 58\n",
    "_"
   ]
  },
  {
   "cell_type": "code",
   "execution_count": 1,
   "id": "8e720e8b",
   "metadata": {},
   "outputs": [
    {
     "ename": "SyntaxError",
     "evalue": "invalid syntax (979359131.py, line 2)",
     "output_type": "error",
     "traceback": [
      "\u001b[1;36m  Input \u001b[1;32mIn [1]\u001b[1;36m\u001b[0m\n\u001b[1;33m    a&\u001b[0m\n\u001b[1;37m      ^\u001b[0m\n\u001b[1;31mSyntaxError\u001b[0m\u001b[1;31m:\u001b[0m invalid syntax\n"
     ]
    }
   ],
   "source": [
    "a&=29  \n",
    "a&"
   ]
  },
  {
   "cell_type": "markdown",
   "id": "e39cac3c",
   "metadata": {},
   "source": [
    "## $$decleration$$ $$of$$ $$variable$$ $$in$$ $$python$$"
   ]
  },
  {
   "cell_type": "markdown",
   "id": "ea68def0",
   "metadata": {},
   "source": [
    "- both upper case, lower case and combination of upper and lower case are allowed\n",
    "- numbers as suffix allowed(ex: num123)\n",
    "- numbers as prefix will not allowed (ex: 123num)\n",
    "- no spl character and other than this not allowed\n",
    "- only underscore can allowed (ex: number_ , number_age , _a  , _ )\n",
    "- unlimited length"
   ]
  },
  {
   "cell_type": "markdown",
   "id": "f50ea52c",
   "metadata": {},
   "source": [
    "#### - if anything comes as green/red that are not allowed as a variable"
   ]
  },
  {
   "cell_type": "code",
   "execution_count": null,
   "id": "a64a64e9",
   "metadata": {},
   "outputs": [],
   "source": []
  },
  {
   "cell_type": "markdown",
   "id": "eb2d0866",
   "metadata": {},
   "source": [
    "###### string can be written in single quotes or double "
   ]
  },
  {
   "cell_type": "code",
   "execution_count": 37,
   "id": "3ce6bb18",
   "metadata": {},
   "outputs": [
    {
     "ename": "NameError",
     "evalue": "name 'rohan' is not defined",
     "output_type": "error",
     "traceback": [
      "\u001b[1;31m---------------------------------------------------------------------------\u001b[0m",
      "\u001b[1;31mNameError\u001b[0m                                 Traceback (most recent call last)",
      "Input \u001b[1;32mIn [37]\u001b[0m, in \u001b[0;36m<cell line: 1>\u001b[1;34m()\u001b[0m\n\u001b[1;32m----> 1\u001b[0m num \u001b[38;5;241m=\u001b[39m \u001b[43mrohan\u001b[49m\n\u001b[0;32m      2\u001b[0m num\n",
      "\u001b[1;31mNameError\u001b[0m: name 'rohan' is not defined"
     ]
    }
   ],
   "source": [
    "num = rohan # put quotes on rohan bcoz it is a string\n",
    "num"
   ]
  },
  {
   "cell_type": "code",
   "execution_count": null,
   "id": "690daefc",
   "metadata": {},
   "outputs": [],
   "source": []
  },
  {
   "cell_type": "code",
   "execution_count": 31,
   "id": "4ef064ed",
   "metadata": {},
   "outputs": [
    {
     "data": {
      "text/plain": [
       "'garry'"
      ]
     },
     "execution_count": 31,
     "metadata": {},
     "output_type": "execute_result"
    }
   ],
   "source": [
    "first_name = \"garry\"\n",
    "first_name"
   ]
  },
  {
   "cell_type": "code",
   "execution_count": 32,
   "id": "b3547973",
   "metadata": {},
   "outputs": [
    {
     "ename": "SyntaxError",
     "evalue": "invalid syntax (1790925765.py, line 1)",
     "output_type": "error",
     "traceback": [
      "\u001b[1;36m  Input \u001b[1;32mIn [32]\u001b[1;36m\u001b[0m\n\u001b[1;33m    first name = \"garry\"\u001b[0m\n\u001b[1;37m          ^\u001b[0m\n\u001b[1;31mSyntaxError\u001b[0m\u001b[1;31m:\u001b[0m invalid syntax\n"
     ]
    }
   ],
   "source": [
    "first name = \"garry\" # we can;t provide space bw two varible use underscore\n",
    "first name "
   ]
  },
  {
   "cell_type": "markdown",
   "id": "46fc050f",
   "metadata": {},
   "source": [
    "invalid because underscore should be comes in between first and name \n",
    "like first_name"
   ]
  },
  {
   "cell_type": "code",
   "execution_count": 33,
   "id": "13c86dd9",
   "metadata": {},
   "outputs": [
    {
     "data": {
      "text/plain": [
       "'roger'"
      ]
     },
     "execution_count": 33,
     "metadata": {},
     "output_type": "execute_result"
    }
   ],
   "source": [
    "first_name = \"garry\"\n",
    "first_name = \"roger\"\n",
    "\n",
    "first_name"
   ]
  },
  {
   "cell_type": "markdown",
   "id": "016621f2",
   "metadata": {},
   "source": [
    "we consider only the last or latest value in a variable"
   ]
  },
  {
   "cell_type": "code",
   "execution_count": 34,
   "id": "79008544",
   "metadata": {},
   "outputs": [
    {
     "data": {
      "text/plain": [
       "'ramesh'"
      ]
     },
     "execution_count": 34,
     "metadata": {},
     "output_type": "execute_result"
    }
   ],
   "source": [
    "person = \"ramesh\"\n",
    "friend_name = person\n",
    "\n",
    "friend_name"
   ]
  },
  {
   "cell_type": "markdown",
   "id": "522f14d3",
   "metadata": {},
   "source": [
    "we can store one variables in other variable\n",
    "remember that do not put quotes on variable that we want to store in other variable\n",
    "ex: friend_name = \"person\" \n",
    "    here person is consider as a string not a variable"
   ]
  },
  {
   "cell_type": "code",
   "execution_count": 36,
   "id": "9f5ee6c3",
   "metadata": {},
   "outputs": [
    {
     "ename": "NameError",
     "evalue": "name 'rohan' is not defined",
     "output_type": "error",
     "traceback": [
      "\u001b[1;31m---------------------------------------------------------------------------\u001b[0m",
      "\u001b[1;31mNameError\u001b[0m                                 Traceback (most recent call last)",
      "Input \u001b[1;32mIn [36]\u001b[0m, in \u001b[0;36m<cell line: 1>\u001b[1;34m()\u001b[0m\n\u001b[1;32m----> 1\u001b[0m num \u001b[38;5;241m=\u001b[39m \u001b[43mrohan\u001b[49m\n\u001b[0;32m      2\u001b[0m num\n",
      "\u001b[1;31mNameError\u001b[0m: name 'rohan' is not defined"
     ]
    }
   ],
   "source": [
    "num = rohan\n",
    "num"
   ]
  },
  {
   "cell_type": "code",
   "execution_count": 38,
   "id": "5dc0d6d2",
   "metadata": {},
   "outputs": [
    {
     "data": {
      "text/plain": [
       "5"
      ]
     },
     "execution_count": 38,
     "metadata": {},
     "output_type": "execute_result"
    }
   ],
   "source": [
    "ramesh_age= 30\n",
    "ramesh_exp = 5\n",
    "ramesh_salary = 500000\n",
    "\n",
    "ramesh_exp #we can write output value in the same line and also in the other line. but first we should declare a variables"
   ]
  },
  {
   "cell_type": "code",
   "execution_count": 40,
   "id": "01416815",
   "metadata": {},
   "outputs": [
    {
     "data": {
      "text/plain": [
       "5"
      ]
     },
     "execution_count": 40,
     "metadata": {},
     "output_type": "execute_result"
    }
   ],
   "source": [
    "ramesh_age= 25\n",
    "rohan_age = 25\n",
    "suresh_age = 25 \n",
    "\n",
    "\n",
    "ramesh_exp # here we declare ramesh_exp above "
   ]
  },
  {
   "cell_type": "code",
   "execution_count": 41,
   "id": "b544a6e0",
   "metadata": {},
   "outputs": [
    {
     "data": {
      "text/plain": [
       "30"
      ]
     },
     "execution_count": 41,
     "metadata": {},
     "output_type": "execute_result"
    }
   ],
   "source": [
    "# we also write excution 38 as \n",
    "ramesh_age,ramesh_exp,ramesh_salary= 30,5,50000\n",
    "ramesh_age \n",
    "\n",
    "# we declare ramesh_age = 25 and ramesh_age =30\n",
    "python gives the ouput on the basis of last declare value"
   ]
  },
  {
   "cell_type": "code",
   "execution_count": 42,
   "id": "c38696c4",
   "metadata": {},
   "outputs": [
    {
     "data": {
      "text/plain": [
       "25"
      ]
     },
     "execution_count": 42,
     "metadata": {},
     "output_type": "execute_result"
    }
   ],
   "source": [
    "# we write excution 40 as\n",
    "\n",
    "ramesh_age=rohan_age=suresh_age= 25\n",
    "\n",
    "suresh_age"
   ]
  },
  {
   "cell_type": "code",
   "execution_count": null,
   "id": "c648f11d",
   "metadata": {},
   "outputs": [],
   "source": []
  },
  {
   "cell_type": "markdown",
   "id": "52403fc6",
   "metadata": {},
   "source": [
    "### tab uses in python"
   ]
  },
  {
   "cell_type": "markdown",
   "id": "4d3a169a",
   "metadata": {},
   "source": [
    "write some words of variable then press tab button we can find already declare variables and some new without writing it again. \n",
    "it saves our time"
   ]
  },
  {
   "cell_type": "code",
   "execution_count": null,
   "id": "1fe8cd65",
   "metadata": {},
   "outputs": [],
   "source": []
  },
  {
   "cell_type": "markdown",
   "id": "b73bf848",
   "metadata": {},
   "source": [
    "### addtion program"
   ]
  },
  {
   "cell_type": "markdown",
   "id": "a1f5ed68",
   "metadata": {},
   "source": [
    "what we do in c\n",
    "#include<stdio.h>\n",
    "\n",
    "\n",
    "int main()\n",
    "\n",
    "{\n",
    "   int a;\n",
    "    int b;\n",
    "    int c;\n",
    "    c= a+b\n",
    "   \n",
    "    scanf\n",
    "   \n",
    "    printf\n",
    "   \n",
    "    return\n",
    "    \n",
    "    \n",
    "    \n",
    "}"
   ]
  },
  {
   "cell_type": "markdown",
   "id": "fa2c6b23",
   "metadata": {},
   "source": [
    "but in python\n",
    "- no curly braces \n",
    "- no colons\n",
    "- no data decleration\n",
    "- no scanf no printf"
   ]
  },
  {
   "cell_type": "code",
   "execution_count": null,
   "id": "8b3fa8d0",
   "metadata": {},
   "outputs": [],
   "source": [
    "by using hyphen in markdown bullet point is placed.\n",
    "space after hyphen does not matter"
   ]
  },
  {
   "cell_type": "code",
   "execution_count": 1,
   "id": "0e9a9522",
   "metadata": {},
   "outputs": [
    {
     "data": {
      "text/plain": [
       "59"
      ]
     },
     "execution_count": 1,
     "metadata": {},
     "output_type": "execute_result"
    }
   ],
   "source": [
    "a=20\n",
    "b=39\n",
    "a+b"
   ]
  },
  {
   "cell_type": "code",
   "execution_count": null,
   "id": "a47574c7",
   "metadata": {},
   "outputs": [],
   "source": [
    "!jt -t chesterish -T -N -kl"
   ]
  }
 ],
 "metadata": {
  "kernelspec": {
   "display_name": "Python 3 (ipykernel)",
   "language": "python",
   "name": "python3"
  },
  "language_info": {
   "codemirror_mode": {
    "name": "ipython",
    "version": 3
   },
   "file_extension": ".py",
   "mimetype": "text/x-python",
   "name": "python",
   "nbconvert_exporter": "python",
   "pygments_lexer": "ipython3",
   "version": "3.9.12"
  }
 },
 "nbformat": 4,
 "nbformat_minor": 5
}
