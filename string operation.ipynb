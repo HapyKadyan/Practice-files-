{
 "cells": [
  {
   "cell_type": "markdown",
   "id": "74456d20",
   "metadata": {},
   "source": [
    "# String operation"
   ]
  },
  {
   "cell_type": "code",
   "execution_count": 2,
   "id": "1fb74c2e",
   "metadata": {},
   "outputs": [],
   "source": [
    "string=\"python\"\n",
    "# first you need to write any string\n",
    "# to get methods\n",
    "# packagename.methodname"
   ]
  },
  {
   "cell_type": "code",
   "execution_count": 3,
   "id": "abd0d2fe",
   "metadata": {},
   "outputs": [
    {
     "data": {
      "text/plain": [
       "['__add__',\n",
       " '__class__',\n",
       " '__contains__',\n",
       " '__delattr__',\n",
       " '__dir__',\n",
       " '__doc__',\n",
       " '__eq__',\n",
       " '__format__',\n",
       " '__ge__',\n",
       " '__getattribute__',\n",
       " '__getitem__',\n",
       " '__getnewargs__',\n",
       " '__gt__',\n",
       " '__hash__',\n",
       " '__init__',\n",
       " '__init_subclass__',\n",
       " '__iter__',\n",
       " '__le__',\n",
       " '__len__',\n",
       " '__lt__',\n",
       " '__mod__',\n",
       " '__mul__',\n",
       " '__ne__',\n",
       " '__new__',\n",
       " '__reduce__',\n",
       " '__reduce_ex__',\n",
       " '__repr__',\n",
       " '__rmod__',\n",
       " '__rmul__',\n",
       " '__setattr__',\n",
       " '__sizeof__',\n",
       " '__str__',\n",
       " '__subclasshook__',\n",
       " 'capitalize',\n",
       " 'casefold',\n",
       " 'center',\n",
       " 'count',\n",
       " 'encode',\n",
       " 'endswith',\n",
       " 'expandtabs',\n",
       " 'find',\n",
       " 'format',\n",
       " 'format_map',\n",
       " 'index',\n",
       " 'isalnum',\n",
       " 'isalpha',\n",
       " 'isascii',\n",
       " 'isdecimal',\n",
       " 'isdigit',\n",
       " 'isidentifier',\n",
       " 'islower',\n",
       " 'isnumeric',\n",
       " 'isprintable',\n",
       " 'isspace',\n",
       " 'istitle',\n",
       " 'isupper',\n",
       " 'join',\n",
       " 'ljust',\n",
       " 'lower',\n",
       " 'lstrip',\n",
       " 'maketrans',\n",
       " 'partition',\n",
       " 'removeprefix',\n",
       " 'removesuffix',\n",
       " 'replace',\n",
       " 'rfind',\n",
       " 'rindex',\n",
       " 'rjust',\n",
       " 'rpartition',\n",
       " 'rsplit',\n",
       " 'rstrip',\n",
       " 'split',\n",
       " 'splitlines',\n",
       " 'startswith',\n",
       " 'strip',\n",
       " 'swapcase',\n",
       " 'title',\n",
       " 'translate',\n",
       " 'upper',\n",
       " 'zfill']"
      ]
     },
     "execution_count": 3,
     "metadata": {},
     "output_type": "execute_result"
    }
   ],
   "source": [
    "dir(string) # which method we can apply on string"
   ]
  },
  {
   "cell_type": "markdown",
   "id": "b2f3076f",
   "metadata": {},
   "source": [
    "## indexing and slicing"
   ]
  },
  {
   "cell_type": "code",
   "execution_count": 4,
   "id": "41af5a76",
   "metadata": {},
   "outputs": [],
   "source": [
    "var=\"python is best\""
   ]
  },
  {
   "cell_type": "code",
   "execution_count": 5,
   "id": "4bb25029",
   "metadata": {},
   "outputs": [
    {
     "data": {
      "text/plain": [
       "'p'"
      ]
     },
     "execution_count": 5,
     "metadata": {},
     "output_type": "execute_result"
    }
   ],
   "source": [
    "var[0]"
   ]
  },
  {
   "cell_type": "code",
   "execution_count": 6,
   "id": "5c54b53a",
   "metadata": {},
   "outputs": [
    {
     "data": {
      "text/plain": [
       "'n'"
      ]
     },
     "execution_count": 6,
     "metadata": {},
     "output_type": "execute_result"
    }
   ],
   "source": [
    "var[5]"
   ]
  },
  {
   "cell_type": "code",
   "execution_count": 7,
   "id": "92ef3c02",
   "metadata": {},
   "outputs": [
    {
     "data": {
      "text/plain": [
       "' '"
      ]
     },
     "execution_count": 7,
     "metadata": {},
     "output_type": "execute_result"
    }
   ],
   "source": [
    "var[6]"
   ]
  },
  {
   "cell_type": "code",
   "execution_count": 8,
   "id": "e0c93029",
   "metadata": {},
   "outputs": [
    {
     "data": {
      "text/plain": [
       "'t'"
      ]
     },
     "execution_count": 8,
     "metadata": {},
     "output_type": "execute_result"
    }
   ],
   "source": [
    "var[-1]"
   ]
  },
  {
   "cell_type": "code",
   "execution_count": 11,
   "id": "5b5b22dd",
   "metadata": {},
   "outputs": [
    {
     "data": {
      "text/plain": [
       "'p'"
      ]
     },
     "execution_count": 11,
     "metadata": {},
     "output_type": "execute_result"
    }
   ],
   "source": [
    "var[:1]"
   ]
  },
  {
   "cell_type": "code",
   "execution_count": 9,
   "id": "a224eeba",
   "metadata": {},
   "outputs": [
    {
     "data": {
      "text/plain": [
       "'python is best'"
      ]
     },
     "execution_count": 9,
     "metadata": {},
     "output_type": "execute_result"
    }
   ],
   "source": [
    "var[:] # full string"
   ]
  },
  {
   "cell_type": "code",
   "execution_count": 10,
   "id": "72edb969",
   "metadata": {},
   "outputs": [
    {
     "data": {
      "text/plain": [
       "'tseb si nohtyp'"
      ]
     },
     "execution_count": 10,
     "metadata": {},
     "output_type": "execute_result"
    }
   ],
   "source": [
    "var[::-1] # reverse a string"
   ]
  },
  {
   "cell_type": "code",
   "execution_count": null,
   "id": "4c6edb81",
   "metadata": {},
   "outputs": [],
   "source": [
    "# 0  1  2  3  4  5  6  7  8  9   10   11   12   13\n",
    "# p  y  t  h  o  n     i  s      b    e    s    t\n",
    "#-14-13-12-11-10-9 -8 -7 -6 -5 -4    -3   -2   -1"
   ]
  },
  {
   "cell_type": "markdown",
   "id": "99b524bc",
   "metadata": {},
   "source": [
    "[:] .........> gives complete value\n",
    "\n",
    "[0:4].........> start from 0 and stop=end-1=4-1=3\n",
    "\n",
    "[a:b]..........> start from a and stop=b-1 (upper-1)\n",
    "\n",
    "[a:b:c].......> here a is start , b is end and c is step \n",
    "\n",
    "[1:]............> start from 1 and stop at last value\n",
    "\n",
    "[:1].............> start from 0 and stop at 1-1=0\n",
    "\n",
    "[:5].............> start from zero and stop at 5-1=4\n"
   ]
  },
  {
   "cell_type": "markdown",
   "id": "6b76a636",
   "metadata": {},
   "source": [
    "# [::a]"
   ]
  },
  {
   "cell_type": "code",
   "execution_count": null,
   "id": "abaf399d",
   "metadata": {},
   "outputs": [],
   "source": [
    "# here first : describe start\n",
    "# second colon describe stop at last value\n",
    "# here a is step \n",
    "# a=-1  step in negattive \n",
    "# a=-3 step in negative\n",
    "# a=1 step in positive \n",
    "# a=3 step in positive"
   ]
  },
  {
   "cell_type": "code",
   "execution_count": 12,
   "id": "b92ea763",
   "metadata": {},
   "outputs": [
    {
     "data": {
      "text/plain": [
       "'python is best'"
      ]
     },
     "execution_count": 12,
     "metadata": {},
     "output_type": "execute_result"
    }
   ],
   "source": [
    "var[::1]"
   ]
  },
  {
   "cell_type": "code",
   "execution_count": 13,
   "id": "aac8ac1e",
   "metadata": {},
   "outputs": [
    {
     "data": {
      "text/plain": [
       "'tseb si nohtyp'"
      ]
     },
     "execution_count": 13,
     "metadata": {},
     "output_type": "execute_result"
    }
   ],
   "source": [
    "var[::-1]"
   ]
  },
  {
   "cell_type": "code",
   "execution_count": 14,
   "id": "d5d31f16",
   "metadata": {},
   "outputs": [
    {
     "data": {
      "text/plain": [
       "'t ny'"
      ]
     },
     "execution_count": 14,
     "metadata": {},
     "output_type": "execute_result"
    }
   ],
   "source": [
    "var[::-4]"
   ]
  },
  {
   "cell_type": "code",
   "execution_count": 15,
   "id": "1e802b08",
   "metadata": {},
   "outputs": [
    {
     "data": {
      "text/plain": [
       "'pto sbs'"
      ]
     },
     "execution_count": 15,
     "metadata": {},
     "output_type": "execute_result"
    }
   ],
   "source": [
    "var[::2]"
   ]
  },
  {
   "cell_type": "code",
   "execution_count": 16,
   "id": "8d4f3f76",
   "metadata": {},
   "outputs": [
    {
     "name": "stdout",
     "output_type": "stream",
     "text": [
      "2 3 4 5 6 7 8 9 "
     ]
    }
   ],
   "source": [
    "for i in range(2,10):\n",
    "    print(i,end=' ')"
   ]
  },
  {
   "cell_type": "markdown",
   "id": "d9f99248",
   "metadata": {},
   "source": [
    "start = 2\n",
    "\n",
    "stop=end-1=10-1=9\n",
    "\n",
    "step=1 direction=pos (not mention)"
   ]
  },
  {
   "cell_type": "code",
   "execution_count": 19,
   "id": "5a1c0b3f",
   "metadata": {},
   "outputs": [
    {
     "data": {
      "text/plain": [
       "'love pyt'"
      ]
     },
     "execution_count": 19,
     "metadata": {},
     "output_type": "execute_result"
    }
   ],
   "source": [
    "string='i love python'\n",
    "string[2:10]"
   ]
  },
  {
   "cell_type": "code",
   "execution_count": 20,
   "id": "256d885a",
   "metadata": {},
   "outputs": [
    {
     "data": {
      "text/plain": [
       "'lv yhn'"
      ]
     },
     "execution_count": 20,
     "metadata": {},
     "output_type": "execute_result"
    }
   ],
   "source": [
    "string[2:13:2]"
   ]
  },
  {
   "cell_type": "markdown",
   "id": "67dd1f6f",
   "metadata": {},
   "source": [
    "start = 2\n",
    "\n",
    "stop=end-1=13-1=12\n",
    "\n",
    "step=2 pos direction"
   ]
  },
  {
   "cell_type": "code",
   "execution_count": 21,
   "id": "73557874",
   "metadata": {},
   "outputs": [
    {
     "data": {
      "text/plain": [
       "''"
      ]
     },
     "execution_count": 21,
     "metadata": {},
     "output_type": "execute_result"
    }
   ],
   "source": [
    "string[2:13:-2]"
   ]
  },
  {
   "cell_type": "markdown",
   "id": "3a4237fc",
   "metadata": {},
   "source": [
    "we can't reach from 2 to 13 with -2 decrement \n"
   ]
  },
  {
   "cell_type": "markdown",
   "id": "db598d2b",
   "metadata": {},
   "source": [
    "that's why it show '  ' instead of error\n",
    "\n",
    "in list it show [  ]\n",
    "\n",
    "in genrally it didn't show any out\n",
    "\n",
    "but it will show error"
   ]
  },
  {
   "cell_type": "code",
   "execution_count": null,
   "id": "743ae4b4",
   "metadata": {},
   "outputs": [],
   "source": [
    "string[2,-13,2]=''\n",
    "string[2,-13,-2]='l'\n",
    "string[-2,-13,2]=''\n",
    "string[-2,-13,-2]='otpeo'\n",
    "string[-2,13,2]='o'\n",
    "string[-2,13,-2]=''\n"
   ]
  },
  {
   "cell_type": "code",
   "execution_count": null,
   "id": "01b357ef",
   "metadata": {},
   "outputs": [],
   "source": []
  },
  {
   "cell_type": "markdown",
   "id": "c6d70ad6",
   "metadata": {},
   "source": [
    "## membership(in) operator"
   ]
  },
  {
   "cell_type": "code",
   "execution_count": 22,
   "id": "ee8669d9",
   "metadata": {},
   "outputs": [
    {
     "data": {
      "text/plain": [
       "True"
      ]
     },
     "execution_count": 22,
     "metadata": {},
     "output_type": "execute_result"
    }
   ],
   "source": [
    "var=\"python is best\"\n",
    "\"p\" in var"
   ]
  },
  {
   "cell_type": "code",
   "execution_count": 23,
   "id": "a91d0d5c",
   "metadata": {},
   "outputs": [
    {
     "data": {
      "text/plain": [
       "False"
      ]
     },
     "execution_count": 23,
     "metadata": {},
     "output_type": "execute_result"
    }
   ],
   "source": [
    "'P' in var"
   ]
  },
  {
   "cell_type": "code",
   "execution_count": 24,
   "id": "e1724bea",
   "metadata": {},
   "outputs": [
    {
     "data": {
      "text/plain": [
       "False"
      ]
     },
     "execution_count": 24,
     "metadata": {},
     "output_type": "execute_result"
    }
   ],
   "source": [
    "'a' in var"
   ]
  },
  {
   "cell_type": "code",
   "execution_count": 25,
   "id": "15417ac8",
   "metadata": {},
   "outputs": [
    {
     "data": {
      "text/plain": [
       "True"
      ]
     },
     "execution_count": 25,
     "metadata": {},
     "output_type": "execute_result"
    }
   ],
   "source": [
    "' ' in var  # space is present in var "
   ]
  },
  {
   "cell_type": "markdown",
   "id": "b6d701ac",
   "metadata": {},
   "source": [
    "## arithematic operation"
   ]
  },
  {
   "cell_type": "code",
   "execution_count": 27,
   "id": "cd3b2c2e",
   "metadata": {},
   "outputs": [
    {
     "data": {
      "text/plain": [
       "'east west'"
      ]
     },
     "execution_count": 27,
     "metadata": {},
     "output_type": "execute_result"
    }
   ],
   "source": [
    "var1=\"east\"\n",
    "var2=' west'\n",
    "var1+var2"
   ]
  },
  {
   "cell_type": "code",
   "execution_count": 28,
   "id": "bdfa5087",
   "metadata": {},
   "outputs": [
    {
     "data": {
      "text/plain": [
       "'easteasteast'"
      ]
     },
     "execution_count": 28,
     "metadata": {},
     "output_type": "execute_result"
    }
   ],
   "source": [
    "var1*3 # var1 + var1 + var1"
   ]
  },
  {
   "cell_type": "code",
   "execution_count": 29,
   "id": "609959bb",
   "metadata": {},
   "outputs": [
    {
     "data": {
      "text/plain": [
       "' west west west west west'"
      ]
     },
     "execution_count": 29,
     "metadata": {},
     "output_type": "execute_result"
    }
   ],
   "source": [
    "var2*5  # var2 + var2 + var2 + var2 + var2"
   ]
  },
  {
   "cell_type": "markdown",
   "id": "f1cef727",
   "metadata": {},
   "source": [
    "## upper,lower,casefold and capitalize"
   ]
  },
  {
   "cell_type": "code",
   "execution_count": 30,
   "id": "38eb361d",
   "metadata": {},
   "outputs": [],
   "source": [
    "a=\"Hey,Siri\""
   ]
  },
  {
   "cell_type": "code",
   "execution_count": 31,
   "id": "6bad9cc3",
   "metadata": {},
   "outputs": [
    {
     "data": {
      "text/plain": [
       "'hey,siri'"
      ]
     },
     "execution_count": 31,
     "metadata": {},
     "output_type": "execute_result"
    }
   ],
   "source": [
    "a.lower()   # lower every letter"
   ]
  },
  {
   "cell_type": "code",
   "execution_count": 32,
   "id": "5d0f670b",
   "metadata": {},
   "outputs": [
    {
     "data": {
      "text/plain": [
       "'HEY,SIRI'"
      ]
     },
     "execution_count": 32,
     "metadata": {},
     "output_type": "execute_result"
    }
   ],
   "source": [
    "a.upper()  # upper every letter"
   ]
  },
  {
   "cell_type": "code",
   "execution_count": 33,
   "id": "b2a58000",
   "metadata": {},
   "outputs": [
    {
     "data": {
      "text/plain": [
       "'Hey,siri'"
      ]
     },
     "execution_count": 33,
     "metadata": {},
     "output_type": "execute_result"
    }
   ],
   "source": [
    "a.capitalize() # it will capitalize only first word of a sentence"
   ]
  },
  {
   "cell_type": "code",
   "execution_count": 34,
   "id": "19003363",
   "metadata": {},
   "outputs": [
    {
     "data": {
      "text/plain": [
       "'hey,siri'"
      ]
     },
     "execution_count": 34,
     "metadata": {},
     "output_type": "execute_result"
    }
   ],
   "source": [
    "a.casefold()  # it will lower letters"
   ]
  },
  {
   "cell_type": "markdown",
   "id": "4e1509a5",
   "metadata": {},
   "source": [
    "#### difference bw casefold() and lower()"
   ]
  },
  {
   "cell_type": "markdown",
   "id": "fa24d1d8",
   "metadata": {},
   "source": [
    "\n",
    "Purely ASCII Text -> lower()\n",
    "\n",
    "Unicode text/user input -> casefold()\n",
    "\n",
    "Casefolding is a more aggressive version of lower()"
   ]
  },
  {
   "attachments": {
    "Screenshot%202022-09-19%20134027.png": {
     "image/png": "[encoded data removed]"
    }
   },
   "cell_type": "markdown",
   "id": "d7991eb7",
   "metadata": {},
   "source": [
    "![Screenshot%202022-09-19%20134027.png](attachment:Screenshot%202022-09-19%20134027.png)"
   ]
  },
  {
   "cell_type": "code",
   "execution_count": 35,
   "id": "e265a290",
   "metadata": {},
   "outputs": [
    {
     "name": "stdout",
     "output_type": "stream",
     "text": [
      "The strings are equal.\n"
     ]
    }
   ],
   "source": [
    "firstString = \"der Fluß\"\n",
    "secondString = \"der Fluss\"\n",
    "\n",
    "# ß is equivalent to ss\n",
    "if firstString.casefold() == secondString.casefold():\n",
    "    print('The strings are equal.')\n",
    "else:\n",
    "    print('The strings are not equal.')"
   ]
  },
  {
   "cell_type": "markdown",
   "id": "694d88d0",
   "metadata": {},
   "source": [
    "## split "
   ]
  },
  {
   "cell_type": "code",
   "execution_count": 36,
   "id": "22702440",
   "metadata": {},
   "outputs": [
    {
     "data": {
      "text/plain": [
       "['l', 'ngu', 'ge']"
      ]
     },
     "execution_count": 36,
     "metadata": {},
     "output_type": "execute_result"
    }
   ],
   "source": [
    "new=\"language\"\n",
    "new.split(\"a\")"
   ]
  },
  {
   "cell_type": "code",
   "execution_count": null,
   "id": "996376c3",
   "metadata": {},
   "outputs": [],
   "source": [
    "# shows ouput in list \n",
    "# split shows output in list\n",
    "# strip scase show output in tuple"
   ]
  },
  {
   "cell_type": "code",
   "execution_count": 37,
   "id": "ca3a2637",
   "metadata": {},
   "outputs": [],
   "source": [
    "s1=\"hai how are you\"\n",
    "# how many words are there 4 seperated by ' '"
   ]
  },
  {
   "cell_type": "code",
   "execution_count": 38,
   "id": "13aa500e",
   "metadata": {},
   "outputs": [
    {
     "data": {
      "text/plain": [
       "['hai', 'how', 'are', 'you']"
      ]
     },
     "execution_count": 38,
     "metadata": {},
     "output_type": "execute_result"
    }
   ],
   "source": [
    "s1.split(\" \")  # seprated by spaces"
   ]
  },
  {
   "cell_type": "code",
   "execution_count": null,
   "id": "65b10ee9",
   "metadata": {},
   "outputs": [],
   "source": [
    "# list of words"
   ]
  },
  {
   "cell_type": "code",
   "execution_count": 42,
   "id": "b337d991",
   "metadata": {},
   "outputs": [],
   "source": [
    "s1=\"hai how , are you\""
   ]
  },
  {
   "cell_type": "code",
   "execution_count": 43,
   "id": "f8d31416",
   "metadata": {},
   "outputs": [
    {
     "data": {
      "text/plain": [
       "['hai', 'how', ',', 'are', 'you']"
      ]
     },
     "execution_count": 43,
     "metadata": {},
     "output_type": "execute_result"
    }
   ],
   "source": [
    "s1.split()   # print entire s1"
   ]
  },
  {
   "cell_type": "code",
   "execution_count": 44,
   "id": "0a7deef5",
   "metadata": {},
   "outputs": [
    {
     "data": {
      "text/plain": [
       "['hai how ', ' are you']"
      ]
     },
     "execution_count": 44,
     "metadata": {},
     "output_type": "execute_result"
    }
   ],
   "source": [
    "s1.split(\",\")"
   ]
  },
  {
   "cell_type": "code",
   "execution_count": null,
   "id": "0a5269b7",
   "metadata": {},
   "outputs": [],
   "source": []
  },
  {
   "cell_type": "markdown",
   "id": "02b16712",
   "metadata": {},
   "source": [
    "## Join"
   ]
  },
  {
   "cell_type": "code",
   "execution_count": 1,
   "id": "e0ac5c60",
   "metadata": {},
   "outputs": [
    {
     "data": {
      "text/plain": [
       "'pgygtghgogn'"
      ]
     },
     "execution_count": 1,
     "metadata": {},
     "output_type": "execute_result"
    }
   ],
   "source": [
    "\"g\".join(\"python\")"
   ]
  },
  {
   "cell_type": "code",
   "execution_count": 46,
   "id": "0a128123",
   "metadata": {},
   "outputs": [
    {
     "data": {
      "text/plain": [
       "'p y t h o n'"
      ]
     },
     "execution_count": 46,
     "metadata": {},
     "output_type": "execute_result"
    }
   ],
   "source": [
    "(\" \".join(\"python\"))"
   ]
  },
  {
   "cell_type": "code",
   "execution_count": null,
   "id": "ce5ee5dd",
   "metadata": {},
   "outputs": [],
   "source": []
  },
  {
   "cell_type": "markdown",
   "id": "9a42c19d",
   "metadata": {},
   "source": [
    "## length"
   ]
  },
  {
   "cell_type": "code",
   "execution_count": 47,
   "id": "6036dfb1",
   "metadata": {},
   "outputs": [
    {
     "data": {
      "text/plain": [
       "5"
      ]
     },
     "execution_count": 47,
     "metadata": {},
     "output_type": "execute_result"
    }
   ],
   "source": [
    "a=\"hello\"\n",
    "len(a)"
   ]
  },
  {
   "cell_type": "code",
   "execution_count": null,
   "id": "e5349dde",
   "metadata": {},
   "outputs": [],
   "source": []
  },
  {
   "cell_type": "markdown",
   "id": "42680fcd",
   "metadata": {},
   "source": [
    "## Count"
   ]
  },
  {
   "cell_type": "code",
   "execution_count": 3,
   "id": "e83d6517",
   "metadata": {},
   "outputs": [],
   "source": [
    "str1=\"hello world hello\"\n",
    "str_count=str1.count(\"o\")"
   ]
  },
  {
   "cell_type": "code",
   "execution_count": 49,
   "id": "4af4f2d6",
   "metadata": {},
   "outputs": [
    {
     "data": {
      "text/plain": [
       "3"
      ]
     },
     "execution_count": 49,
     "metadata": {},
     "output_type": "execute_result"
    }
   ],
   "source": [
    "str_count"
   ]
  },
  {
   "cell_type": "code",
   "execution_count": 51,
   "id": "54683814",
   "metadata": {},
   "outputs": [
    {
     "name": "stdout",
     "output_type": "stream",
     "text": [
      "the count of 'o' is  3 in hello world hello\n"
     ]
    }
   ],
   "source": [
    "print(\"the count of 'o' is \",str_count,\"in\",str1)"
   ]
  },
  {
   "cell_type": "code",
   "execution_count": 6,
   "id": "87c94ec4",
   "metadata": {},
   "outputs": [],
   "source": [
    "str_count2=str1.count(\"o\",0,5) # means o in between zero to five # h=0,e=1,l=2,l=3,o=4,_=5"
   ]
  },
  {
   "cell_type": "code",
   "execution_count": 7,
   "id": "0cbc17ec",
   "metadata": {},
   "outputs": [
    {
     "name": "stdout",
     "output_type": "stream",
     "text": [
      "the count of 'o' is 1\n"
     ]
    }
   ],
   "source": [
    "print(\"the count of 'o' is\",str_count2)"
   ]
  },
  {
   "cell_type": "code",
   "execution_count": 54,
   "id": "e06d24eb",
   "metadata": {},
   "outputs": [],
   "source": [
    "str_count3=str1.count(\"hello\")"
   ]
  },
  {
   "cell_type": "code",
   "execution_count": 55,
   "id": "6b4c0c87",
   "metadata": {},
   "outputs": [
    {
     "name": "stdout",
     "output_type": "stream",
     "text": [
      "the count of 'hello' is 2\n"
     ]
    }
   ],
   "source": [
    "print(\"the count of 'hello' is\",str_count3)"
   ]
  },
  {
   "cell_type": "code",
   "execution_count": 56,
   "id": "4abfe8cd",
   "metadata": {},
   "outputs": [],
   "source": [
    "str_count3=str1.count(\"hello\",0,5)  # press shift + tab count( ) to open docstring"
   ]
  },
  {
   "cell_type": "code",
   "execution_count": 57,
   "id": "a25d13cd",
   "metadata": {},
   "outputs": [
    {
     "name": "stdout",
     "output_type": "stream",
     "text": [
      "the count of 'hello' is 1\n"
     ]
    }
   ],
   "source": [
    "print(\"the count of 'hello' is\",str_count3)"
   ]
  },
  {
   "cell_type": "code",
   "execution_count": 58,
   "id": "d8c7b854",
   "metadata": {},
   "outputs": [],
   "source": [
    "str_count4=str1.count(\"l\")"
   ]
  },
  {
   "cell_type": "code",
   "execution_count": 59,
   "id": "f38396f0",
   "metadata": {},
   "outputs": [
    {
     "data": {
      "text/plain": [
       "5"
      ]
     },
     "execution_count": 59,
     "metadata": {},
     "output_type": "execute_result"
    }
   ],
   "source": [
    "str_count4"
   ]
  },
  {
   "cell_type": "code",
   "execution_count": 60,
   "id": "285fe9d9",
   "metadata": {},
   "outputs": [
    {
     "data": {
      "text/plain": [
       "2"
      ]
     },
     "execution_count": 60,
     "metadata": {},
     "output_type": "execute_result"
    }
   ],
   "source": [
    "str1.count(\"e\")"
   ]
  },
  {
   "cell_type": "code",
   "execution_count": 62,
   "id": "42ab67c8",
   "metadata": {},
   "outputs": [
    {
     "data": {
      "text/plain": [
       "3"
      ]
     },
     "execution_count": 62,
     "metadata": {},
     "output_type": "execute_result"
    }
   ],
   "source": [
    "sent2=\"ola olao ola\"  # no. of occurness of substring\n",
    "sent2.count(\"ola\")"
   ]
  },
  {
   "cell_type": "code",
   "execution_count": 63,
   "id": "9dd77f79",
   "metadata": {},
   "outputs": [
    {
     "data": {
      "text/plain": [
       "3"
      ]
     },
     "execution_count": 63,
     "metadata": {},
     "output_type": "execute_result"
    }
   ],
   "source": [
    "sent2=\"ola olaola\"\n",
    "sent2.count(\"ola\")"
   ]
  },
  {
   "cell_type": "code",
   "execution_count": 64,
   "id": "9d33c53e",
   "metadata": {},
   "outputs": [
    {
     "data": {
      "text/plain": [
       "1"
      ]
     },
     "execution_count": 64,
     "metadata": {},
     "output_type": "execute_result"
    }
   ],
   "source": [
    "sent2=\"ola olaola\"\n",
    "sent2.count(\"ola \")  # count only one"
   ]
  },
  {
   "cell_type": "code",
   "execution_count": 65,
   "id": "9330efec",
   "metadata": {},
   "outputs": [
    {
     "data": {
      "text/plain": [
       "2"
      ]
     },
     "execution_count": 65,
     "metadata": {},
     "output_type": "execute_result"
    }
   ],
   "source": [
    "sent2=\"ola ola ola ola ola ola ola ola \"\n",
    "sent2.count(\"ola \",0,10) # count \"ola \" from zero to 9"
   ]
  },
  {
   "cell_type": "code",
   "execution_count": 139,
   "id": "a6944148",
   "metadata": {},
   "outputs": [
    {
     "data": {
      "text/plain": [
       "3"
      ]
     },
     "execution_count": 139,
     "metadata": {},
     "output_type": "execute_result"
    }
   ],
   "source": [
    "sent2.count(\"ola \",0,12)"
   ]
  },
  {
   "cell_type": "code",
   "execution_count": 143,
   "id": "614448de",
   "metadata": {},
   "outputs": [
    {
     "data": {
      "text/plain": [
       "8"
      ]
     },
     "execution_count": 143,
     "metadata": {},
     "output_type": "execute_result"
    }
   ],
   "source": [
    "sent2.count(\"ola \",0,100) # count upto value is grather than index # it will print at most\n",
    "# not show any error"
   ]
  },
  {
   "cell_type": "code",
   "execution_count": 144,
   "id": "4be2f1aa",
   "metadata": {},
   "outputs": [
    {
     "data": {
      "text/plain": [
       "0"
      ]
     },
     "execution_count": 144,
     "metadata": {},
     "output_type": "execute_result"
    }
   ],
   "source": [
    "sent2.count(\"ola \",0,-100)"
   ]
  },
  {
   "cell_type": "code",
   "execution_count": null,
   "id": "758976a9",
   "metadata": {},
   "outputs": [],
   "source": []
  },
  {
   "cell_type": "markdown",
   "id": "3427f844",
   "metadata": {},
   "source": [
    "## indexing part 2"
   ]
  },
  {
   "cell_type": "code",
   "execution_count": null,
   "id": "34cf9791",
   "metadata": {},
   "outputs": [],
   "source": []
  },
  {
   "cell_type": "markdown",
   "id": "994466f2",
   "metadata": {},
   "source": [
    "above we studied that index of 4 is this \n",
    "\n",
    "but how can we find the index of words \n",
    "\n",
    "means h index is ???"
   ]
  },
  {
   "cell_type": "code",
   "execution_count": 70,
   "id": "a816fb8c",
   "metadata": {},
   "outputs": [
    {
     "data": {
      "text/plain": [
       "0"
      ]
     },
     "execution_count": 70,
     "metadata": {},
     "output_type": "execute_result"
    }
   ],
   "source": [
    "sent1=\"python\"\n",
    "sent1.index(\"python\")"
   ]
  },
  {
   "cell_type": "code",
   "execution_count": 71,
   "id": "add53535",
   "metadata": {},
   "outputs": [
    {
     "data": {
      "text/plain": [
       "1"
      ]
     },
     "execution_count": 71,
     "metadata": {},
     "output_type": "execute_result"
    }
   ],
   "source": [
    "sent1=\" python\"\n",
    "sent1.index(\"python\")"
   ]
  },
  {
   "cell_type": "code",
   "execution_count": 72,
   "id": "2f6e9340",
   "metadata": {},
   "outputs": [
    {
     "data": {
      "text/plain": [
       "7"
      ]
     },
     "execution_count": 72,
     "metadata": {},
     "output_type": "execute_result"
    }
   ],
   "source": [
    "sent1=\"i like python\"  # here 'python' is substring it start at index 7\n",
    "# substring start index will give ans\n",
    "sent1.index(\"python\")"
   ]
  },
  {
   "cell_type": "code",
   "execution_count": 75,
   "id": "7f435eb9",
   "metadata": {},
   "outputs": [
    {
     "ename": "TypeError",
     "evalue": "must be str, not int",
     "output_type": "error",
     "traceback": [
      "\u001b[1;31m---------------------------------------------------------------------------\u001b[0m",
      "\u001b[1;31mTypeError\u001b[0m                                 Traceback (most recent call last)",
      "Input \u001b[1;32mIn [75]\u001b[0m, in \u001b[0;36m<cell line: 1>\u001b[1;34m()\u001b[0m\n\u001b[1;32m----> 1\u001b[0m \u001b[43msent1\u001b[49m\u001b[38;5;241;43m.\u001b[39;49m\u001b[43mindex\u001b[49m\u001b[43m(\u001b[49m\u001b[38;5;241;43m3\u001b[39;49m\u001b[43m)\u001b[49m\n",
      "\u001b[1;31mTypeError\u001b[0m: must be str, not int"
     ]
    }
   ],
   "source": [
    "sent1.index(3) # must be str not int \n",
    "# means we can't check index of 3 by this method"
   ]
  },
  {
   "cell_type": "code",
   "execution_count": 76,
   "id": "5e55d79e",
   "metadata": {},
   "outputs": [
    {
     "data": {
      "text/plain": [
       "7"
      ]
     },
     "execution_count": 76,
     "metadata": {},
     "output_type": "execute_result"
    }
   ],
   "source": [
    "sent1.index(\"p\")"
   ]
  },
  {
   "cell_type": "code",
   "execution_count": 77,
   "id": "ef6fb531",
   "metadata": {},
   "outputs": [
    {
     "data": {
      "text/plain": [
       "4"
      ]
     },
     "execution_count": 77,
     "metadata": {},
     "output_type": "execute_result"
    }
   ],
   "source": [
    "a=\"hello world\"\n",
    "a.index(\"o\")  # it will print the index of first occurence of o \n",
    "# how can we find the index of second o"
   ]
  },
  {
   "cell_type": "code",
   "execution_count": 78,
   "id": "f7735814",
   "metadata": {},
   "outputs": [
    {
     "data": {
      "text/plain": [
       "6"
      ]
     },
     "execution_count": 78,
     "metadata": {},
     "output_type": "execute_result"
    }
   ],
   "source": [
    "a.index(\"world\")  # here it gives the index of w "
   ]
  },
  {
   "cell_type": "code",
   "execution_count": 8,
   "id": "0e7ee2fa",
   "metadata": {},
   "outputs": [],
   "source": [
    "b=\"ola ola ola\""
   ]
  },
  {
   "cell_type": "code",
   "execution_count": 80,
   "id": "d25f5ae5",
   "metadata": {},
   "outputs": [
    {
     "data": {
      "text/plain": [
       "0"
      ]
     },
     "execution_count": 80,
     "metadata": {},
     "output_type": "execute_result"
    }
   ],
   "source": [
    "b.index(\"ola\") # only first occurence of index "
   ]
  },
  {
   "cell_type": "code",
   "execution_count": null,
   "id": "e4062810",
   "metadata": {},
   "outputs": [],
   "source": [
    "# ola is a substring repeating at 0,4,7"
   ]
  },
  {
   "cell_type": "code",
   "execution_count": 21,
   "id": "1845c056",
   "metadata": {},
   "outputs": [
    {
     "data": {
      "text/plain": [
       "4"
      ]
     },
     "execution_count": 21,
     "metadata": {},
     "output_type": "execute_result"
    }
   ],
   "source": [
    "b.index(\"ola\",4)"
   ]
  },
  {
   "cell_type": "code",
   "execution_count": null,
   "id": "dbb8ae44",
   "metadata": {},
   "outputs": [],
   "source": []
  },
  {
   "cell_type": "code",
   "execution_count": null,
   "id": "df4a3c49",
   "metadata": {},
   "outputs": [],
   "source": [
    "# count index and find takes int value to know further occurence"
   ]
  },
  {
   "cell_type": "code",
   "execution_count": null,
   "id": "b2287e6a",
   "metadata": {},
   "outputs": [],
   "source": []
  },
  {
   "cell_type": "markdown",
   "id": "c22eb7bf",
   "metadata": {},
   "source": [
    "## mutable/immutable"
   ]
  },
  {
   "cell_type": "code",
   "execution_count": 83,
   "id": "96da4987",
   "metadata": {},
   "outputs": [],
   "source": [
    "string=\"welcome\"\n",
    "# welcome  replace \"l\" ....... 'L'"
   ]
  },
  {
   "cell_type": "code",
   "execution_count": 84,
   "id": "9d13013a",
   "metadata": {},
   "outputs": [
    {
     "data": {
      "text/plain": [
       "2"
      ]
     },
     "execution_count": 84,
     "metadata": {},
     "output_type": "execute_result"
    }
   ],
   "source": [
    "string.index(\"l\")"
   ]
  },
  {
   "cell_type": "code",
   "execution_count": 85,
   "id": "caa6997c",
   "metadata": {},
   "outputs": [
    {
     "ename": "TypeError",
     "evalue": "'str' object does not support item assignment",
     "output_type": "error",
     "traceback": [
      "\u001b[1;31m---------------------------------------------------------------------------\u001b[0m",
      "\u001b[1;31mTypeError\u001b[0m                                 Traceback (most recent call last)",
      "Input \u001b[1;32mIn [85]\u001b[0m, in \u001b[0;36m<cell line: 1>\u001b[1;34m()\u001b[0m\n\u001b[1;32m----> 1\u001b[0m string[\u001b[38;5;241m2\u001b[39m]\u001b[38;5;241m=\u001b[39m\u001b[38;5;124m\"\u001b[39m\u001b[38;5;124mL\u001b[39m\u001b[38;5;124m\"\u001b[39m\n",
      "\u001b[1;31mTypeError\u001b[0m: 'str' object does not support item assignment"
     ]
    }
   ],
   "source": [
    "string[2]=\"L\""
   ]
  },
  {
   "cell_type": "code",
   "execution_count": null,
   "id": "8fb3738e",
   "metadata": {},
   "outputs": [],
   "source": [
    "# strings are immutable \n",
    "# in string we can't change the value by using index\n",
    "# but in list we can do"
   ]
  },
  {
   "cell_type": "code",
   "execution_count": 90,
   "id": "ecfdb405",
   "metadata": {},
   "outputs": [
    {
     "ename": "TypeError",
     "evalue": "string indices must be integers",
     "output_type": "error",
     "traceback": [
      "\u001b[1;31m---------------------------------------------------------------------------\u001b[0m",
      "\u001b[1;31mTypeError\u001b[0m                                 Traceback (most recent call last)",
      "Input \u001b[1;32mIn [90]\u001b[0m, in \u001b[0;36m<cell line: 1>\u001b[1;34m()\u001b[0m\n\u001b[1;32m----> 1\u001b[0m s1\u001b[38;5;241m=\u001b[39m\u001b[43mstring\u001b[49m\u001b[43m[\u001b[49m\u001b[38;5;241;43m0\u001b[39;49m\u001b[43m,\u001b[49m\u001b[38;5;241;43m2\u001b[39;49m\u001b[43m]\u001b[49m\n",
      "\u001b[1;31mTypeError\u001b[0m: string indices must be integers"
     ]
    }
   ],
   "source": [
    "s1=string[0,2]  # we can't do index like this use colon"
   ]
  },
  {
   "cell_type": "code",
   "execution_count": 93,
   "id": "ce6ff5c4",
   "metadata": {},
   "outputs": [
    {
     "data": {
      "text/plain": [
       "'weLcome'"
      ]
     },
     "execution_count": 93,
     "metadata": {},
     "output_type": "execute_result"
    }
   ],
   "source": [
    "s1=string[:2]  # slicing .....\"we\"     # start from zero and stop =2-1=1\n",
    "s2=string[3:] # slicing.....\"come\"     # start from 3 and stop at last\n",
    "s1+\"L\"+s2     # \"we\" + \"L\" + \"come\""
   ]
  },
  {
   "cell_type": "code",
   "execution_count": 94,
   "id": "729e2abc",
   "metadata": {},
   "outputs": [
    {
     "name": "stdout",
     "output_type": "stream",
     "text": [
      "old string: welcome\n",
      "new string: weLcome\n"
     ]
    }
   ],
   "source": [
    "s1=string[:2]  # slicing .....\"we\"     # start from zero and stop =2-1=1\n",
    "s2=string[3:] # slicing.....\"come\"     # start from 3 and stop at last\n",
    "a=s1+\"L\"+s2   # concatenation\n",
    "print(\"old string:\",string)\n",
    "print(\"new string:\",a)"
   ]
  },
  {
   "cell_type": "code",
   "execution_count": 95,
   "id": "7f7ba459",
   "metadata": {},
   "outputs": [],
   "source": [
    "# but instead of giving [:2] and [3:]\n",
    "# use index concept"
   ]
  },
  {
   "cell_type": "code",
   "execution_count": 101,
   "id": "2eba4875",
   "metadata": {},
   "outputs": [
    {
     "ename": "TypeError",
     "evalue": "'str' object is not callable",
     "output_type": "error",
     "traceback": [
      "\u001b[1;31m---------------------------------------------------------------------------\u001b[0m",
      "\u001b[1;31mTypeError\u001b[0m                                 Traceback (most recent call last)",
      "Input \u001b[1;32mIn [101]\u001b[0m, in \u001b[0;36m<cell line: 1>\u001b[1;34m()\u001b[0m\n\u001b[1;32m----> 1\u001b[0m a\u001b[38;5;241m=\u001b[39m\u001b[38;5;28mlen\u001b[39m(\u001b[43mstring\u001b[49m\u001b[43m(\u001b[49m\u001b[38;5;124;43m\"\u001b[39;49m\u001b[38;5;124;43ml\u001b[39;49m\u001b[38;5;124;43m\"\u001b[39;49m\u001b[43m)\u001b[49m)\n\u001b[0;32m      2\u001b[0m a\n",
      "\u001b[1;31mTypeError\u001b[0m: 'str' object is not callable"
     ]
    }
   ],
   "source": [
    "a=len(string(\"l\"))  # len gives length of string only\n",
    "a"
   ]
  },
  {
   "cell_type": "code",
   "execution_count": 100,
   "id": "3b5b0eb4",
   "metadata": {},
   "outputs": [
    {
     "data": {
      "text/plain": [
       "2"
      ]
     },
     "execution_count": 100,
     "metadata": {},
     "output_type": "execute_result"
    }
   ],
   "source": [
    "a=string.index(\"l\") # index \n",
    "a"
   ]
  },
  {
   "cell_type": "code",
   "execution_count": 102,
   "id": "cb5cdfce",
   "metadata": {},
   "outputs": [
    {
     "data": {
      "text/plain": [
       "'weLcome'"
      ]
     },
     "execution_count": 102,
     "metadata": {},
     "output_type": "execute_result"
    }
   ],
   "source": [
    "s1=string[:a]  # slicing\n",
    "s2=string[a+1:]  # slicing\n",
    "s1+\"L\"+s2"
   ]
  },
  {
   "cell_type": "code",
   "execution_count": 108,
   "id": "f3ff129e",
   "metadata": {},
   "outputs": [
    {
     "name": "stdout",
     "output_type": "stream",
     "text": [
      "index of l is  2\n",
      "string[:a] we\n",
      "string[a+1:] come\n",
      "s1+'L'+s2 weLcome\n"
     ]
    }
   ],
   "source": [
    "a=string.index(\"l\")# index \n",
    "print(\"index of l is \",a)\n",
    "s1=string[:a]  # slicing\n",
    "print(\"string[:a]\",s1)\n",
    "s2=string[a+1:]  # slicing\n",
    "print(\"string[a+1:]\",s2)\n",
    "b=s1+\"L\"+s2  # concatentation\n",
    "print(\"s1+'L'+s2\",b)  # use single quotes on l bcoz we are using double quotes outside"
   ]
  },
  {
   "cell_type": "code",
   "execution_count": 110,
   "id": "724ad813",
   "metadata": {},
   "outputs": [
    {
     "data": {
      "text/plain": [
       "[1, 2, 3, 'B']"
      ]
     },
     "execution_count": 110,
     "metadata": {},
     "output_type": "execute_result"
    }
   ],
   "source": [
    "# list is mutaable\n",
    "list1=[1,2,3,'A']\n",
    "list1[3]='B'\n",
    "list1"
   ]
  },
  {
   "cell_type": "code",
   "execution_count": null,
   "id": "3b273ee0",
   "metadata": {},
   "outputs": [],
   "source": []
  },
  {
   "cell_type": "markdown",
   "id": "5610ed69",
   "metadata": {},
   "source": [
    "## Replace"
   ]
  },
  {
   "cell_type": "code",
   "execution_count": null,
   "id": "b31963db",
   "metadata": {},
   "outputs": [],
   "source": []
  },
  {
   "cell_type": "code",
   "execution_count": 111,
   "id": "01557e9b",
   "metadata": {},
   "outputs": [
    {
     "data": {
      "text/plain": [
       "'i love you'"
      ]
     },
     "execution_count": 111,
     "metadata": {},
     "output_type": "execute_result"
    }
   ],
   "source": [
    "old=\"i like you\"\n",
    "new=old.replace(\"like\",'love')\n",
    "new"
   ]
  },
  {
   "cell_type": "code",
   "execution_count": 112,
   "id": "e96900a2",
   "metadata": {},
   "outputs": [
    {
     "data": {
      "text/plain": [
       "'weLcome'"
      ]
     },
     "execution_count": 112,
     "metadata": {},
     "output_type": "execute_result"
    }
   ],
   "source": [
    "str1='welcome'\n",
    "str1.replace(\"l\",'L')"
   ]
  },
  {
   "cell_type": "code",
   "execution_count": 113,
   "id": "71c81079",
   "metadata": {},
   "outputs": [
    {
     "data": {
      "text/plain": [
       "'weLLcome'"
      ]
     },
     "execution_count": 113,
     "metadata": {},
     "output_type": "execute_result"
    }
   ],
   "source": [
    "str1.replace(\"l\",'LL')"
   ]
  },
  {
   "cell_type": "code",
   "execution_count": 114,
   "id": "21110c6c",
   "metadata": {},
   "outputs": [
    {
     "data": {
      "text/plain": [
       "'we<------>come'"
      ]
     },
     "execution_count": 114,
     "metadata": {},
     "output_type": "execute_result"
    }
   ],
   "source": [
    "str1.replace(\"l\",'<------>')"
   ]
  },
  {
   "cell_type": "code",
   "execution_count": 115,
   "id": "9c232558",
   "metadata": {},
   "outputs": [
    {
     "data": {
      "text/plain": [
       "'weLcome Life'"
      ]
     },
     "execution_count": 115,
     "metadata": {},
     "output_type": "execute_result"
    }
   ],
   "source": [
    "str2=\"welcome life\"\n",
    "# we want to replace l of life\n",
    "str2.replace(\"l\",\"L\")"
   ]
  },
  {
   "cell_type": "code",
   "execution_count": 116,
   "id": "1d10d901",
   "metadata": {},
   "outputs": [],
   "source": [
    " # but welcome l is also changed \n",
    "    # drwaback of replace"
   ]
  },
  {
   "cell_type": "code",
   "execution_count": 117,
   "id": "481b6c63",
   "metadata": {},
   "outputs": [],
   "source": [
    "# input=restart\n",
    "# output=resta$t\n",
    "# replace second r with $\n",
    "# slicing and replace"
   ]
  },
  {
   "cell_type": "code",
   "execution_count": 22,
   "id": "eb267c33",
   "metadata": {},
   "outputs": [
    {
     "data": {
      "text/plain": [
       "'$esta$t'"
      ]
     },
     "execution_count": 22,
     "metadata": {},
     "output_type": "execute_result"
    }
   ],
   "source": [
    "a=\"restart\"\n",
    "a.replace(\"r\",\"$\")"
   ]
  },
  {
   "cell_type": "code",
   "execution_count": 119,
   "id": "d7b2d1d9",
   "metadata": {},
   "outputs": [],
   "source": [
    "# both r are changed\n",
    "# but we want to change the second r"
   ]
  },
  {
   "cell_type": "code",
   "execution_count": 127,
   "id": "3790df6f",
   "metadata": {},
   "outputs": [
    {
     "data": {
      "text/plain": [
       "'resta$t'"
      ]
     },
     "execution_count": 127,
     "metadata": {},
     "output_type": "execute_result"
    }
   ],
   "source": [
    "# by slicing and replace\n",
    "b=a.index(\"r\",1)  # index of second r is 5\n",
    "a1=a[:b]   # slicing  # start from zero and stop=b-1=5-1=4  # \"resta\"\n",
    "a2=a[b+1:]  # slicing  # start from b+1 =6 and stop at last # \"t\"\n",
    "a3=a1+\"$\"+a2 # concationation  # \"resta\" + \"$\" + \"t\"\n",
    "a3"
   ]
  },
  {
   "cell_type": "code",
   "execution_count": 129,
   "id": "768f4b0d",
   "metadata": {},
   "outputs": [
    {
     "data": {
      "text/plain": [
       "'resta$t'"
      ]
     },
     "execution_count": 129,
     "metadata": {},
     "output_type": "execute_result"
    }
   ],
   "source": [
    "# using replace\n",
    "b=a.index(\"r\",1)\n",
    "a1=a[:b]\n",
    "a2=a[b:]\n",
    "a3=a2.replace(\"r\",\"$\")  # replacing \n",
    "a1+a3 # \"re\" + \"sta$t\""
   ]
  },
  {
   "cell_type": "code",
   "execution_count": null,
   "id": "01226e76",
   "metadata": {},
   "outputs": [],
   "source": [
    "a.replace(  # press shift + tab )\n",
    "    "
   ]
  },
  {
   "cell_type": "code",
   "execution_count": 26,
   "id": "5b9e150a",
   "metadata": {},
   "outputs": [
    {
     "data": {
      "text/plain": [
       "'$estart'"
      ]
     },
     "execution_count": 26,
     "metadata": {},
     "output_type": "execute_result"
    }
   ],
   "source": [
    "a.replace(\"r\",\"$\",1)  "
   ]
  },
  {
   "cell_type": "code",
   "execution_count": null,
   "id": "e89b155e",
   "metadata": {},
   "outputs": [],
   "source": [
    "# 1 count how many occurences you need to replace\n",
    "# \"r\" occured two times \n",
    "# count=1,only first will replace\n",
    "# count=2, both are replace\n",
    "# count=-1, by default # replace all occurences \n",
    "# if count = greather than occurence then it will replace at most \n",
    "# not show error\n",
    "# count=0 not replace , same as it is # zero occurence"
   ]
  },
  {
   "cell_type": "code",
   "execution_count": 134,
   "id": "bd27dd2e",
   "metadata": {},
   "outputs": [
    {
     "data": {
      "text/plain": [
       "'$esta$t'"
      ]
     },
     "execution_count": 134,
     "metadata": {},
     "output_type": "execute_result"
    }
   ],
   "source": [
    "a.replace(\"r\",\"$\",2)  "
   ]
  },
  {
   "cell_type": "code",
   "execution_count": null,
   "id": "a58e2d5c",
   "metadata": {},
   "outputs": [],
   "source": []
  },
  {
   "cell_type": "code",
   "execution_count": 135,
   "id": "fe73ce0c",
   "metadata": {},
   "outputs": [
    {
     "data": {
      "text/plain": [
       "'$esta$t'"
      ]
     },
     "execution_count": 135,
     "metadata": {},
     "output_type": "execute_result"
    }
   ],
   "source": [
    "a.replace(\"r\",\"$\",-1)  "
   ]
  },
  {
   "cell_type": "code",
   "execution_count": 137,
   "id": "74cf44f7",
   "metadata": {},
   "outputs": [
    {
     "ename": "TypeError",
     "evalue": "unsupported operand type(s) for -: 'str' and 'int'",
     "output_type": "error",
     "traceback": [
      "\u001b[1;31m---------------------------------------------------------------------------\u001b[0m",
      "\u001b[1;31mTypeError\u001b[0m                                 Traceback (most recent call last)",
      "Input \u001b[1;32mIn [137]\u001b[0m, in \u001b[0;36m<cell line: 1>\u001b[1;34m()\u001b[0m\n\u001b[1;32m----> 1\u001b[0m a\u001b[38;5;241m.\u001b[39mreplace(\u001b[38;5;124m\"\u001b[39m\u001b[38;5;124mr\u001b[39m\u001b[38;5;124m\"\u001b[39m,\u001b[38;5;124;43m\"\u001b[39;49m\u001b[38;5;124;43m$\u001b[39;49m\u001b[38;5;124;43m\"\u001b[39;49m\u001b[38;5;241;43m-\u001b[39;49m\u001b[38;5;241;43m21\u001b[39;49m)\n",
      "\u001b[1;31mTypeError\u001b[0m: unsupported operand type(s) for -: 'str' and 'int'"
     ]
    }
   ],
   "source": [
    "a.replace(\"r\",\"$\"-2)  # count below -1 not support   "
   ]
  },
  {
   "cell_type": "code",
   "execution_count": 141,
   "id": "8b7fffc8",
   "metadata": {},
   "outputs": [
    {
     "data": {
      "text/plain": [
       "'restart'"
      ]
     },
     "execution_count": 141,
     "metadata": {},
     "output_type": "execute_result"
    }
   ],
   "source": [
    "a.replace(\"r\",\"$\",0)  # if we our count 0 then it will not replace "
   ]
  },
  {
   "cell_type": "code",
   "execution_count": 145,
   "id": "dbbf15bb",
   "metadata": {},
   "outputs": [],
   "source": [
    "# step-1:  \"restart\"\n",
    "# step-2:  \"tratser\"\n",
    "# step-3: replace \"r\" with \"$\" only first occurence\n",
    "# \"tratser\" ........> \"t$atser\"\n",
    "# \"t$atser\"......> \"resta$t\""
   ]
  },
  {
   "cell_type": "code",
   "execution_count": 152,
   "id": "5d8e768d",
   "metadata": {},
   "outputs": [
    {
     "data": {
      "text/plain": [
       "'resta$t'"
      ]
     },
     "execution_count": 152,
     "metadata": {},
     "output_type": "execute_result"
    }
   ],
   "source": [
    "a=\"restart\"\n",
    "a1=a[::-1]  # reverse string\n",
    "a2=a1.replace(\"r\",\"$\",1) # replacing first r with $\n",
    "a3=a2[::-1]\n",
    "a3"
   ]
  },
  {
   "cell_type": "code",
   "execution_count": 154,
   "id": "b01cd0a6",
   "metadata": {},
   "outputs": [
    {
     "name": "stdout",
     "output_type": "stream",
     "text": [
      "restart\n",
      "reverse string a[::-1]= tratser\n",
      "replacing r with $= t$atser\n",
      "resta$t\n"
     ]
    }
   ],
   "source": [
    "a=\"restart\"\n",
    "print(a)\n",
    "a1=a[::-1]  # reverse string\n",
    "print(\"reverse string a[::-1]=\",a1)\n",
    "a2=a1.replace(\"r\",\"$\",1) # replacing first r with $\n",
    "print(\"replacing r with $=\",a2)\n",
    "a3=a2[::-1]\n",
    "print(a3)"
   ]
  },
  {
   "cell_type": "code",
   "execution_count": 155,
   "id": "e93dc463",
   "metadata": {},
   "outputs": [],
   "source": [
    "# slice  # \"we\"+\"L\"+\"come\"\n",
    "# slice+replace # \"resta\"+ replace(\"r\",\"$\") =\"resta\"+\"$t\"\n",
    "# reverse slicing + replace  # \"tratser\"....>\"t$ratser\"....>\"resta$t\"\n",
    "# captialize "
   ]
  },
  {
   "cell_type": "code",
   "execution_count": 156,
   "id": "6af9fc26",
   "metadata": {},
   "outputs": [
    {
     "data": {
      "text/plain": [
       "'Restart'"
      ]
     },
     "execution_count": 156,
     "metadata": {},
     "output_type": "execute_result"
    }
   ],
   "source": [
    "str1=\"restart\"\n",
    "str1=str1.capitalize()\n",
    "str1"
   ]
  },
  {
   "cell_type": "code",
   "execution_count": 160,
   "id": "6d3c2354",
   "metadata": {},
   "outputs": [
    {
     "data": {
      "text/plain": [
       "'resta$t'"
      ]
     },
     "execution_count": 160,
     "metadata": {},
     "output_type": "execute_result"
    }
   ],
   "source": [
    "str1=\"restart\"\n",
    "str1=str1.capitalize()\n",
    "str2=str1.replace(\"r\",\"$\")\n",
    "str2.lower()"
   ]
  },
  {
   "cell_type": "code",
   "execution_count": 164,
   "id": "e644f533",
   "metadata": {},
   "outputs": [
    {
     "data": {
      "text/plain": [
       "'resta$t'"
      ]
     },
     "execution_count": 164,
     "metadata": {},
     "output_type": "execute_result"
    }
   ],
   "source": [
    "str1=\"restart\"\n",
    "str1=str1.capitalize()\n",
    "str1.replace(\"r\",\"$\").lower() # we can use.lower here also"
   ]
  },
  {
   "cell_type": "code",
   "execution_count": 165,
   "id": "dd0460af",
   "metadata": {},
   "outputs": [
    {
     "data": {
      "text/plain": [
       "'RESTA$T'"
      ]
     },
     "execution_count": 165,
     "metadata": {},
     "output_type": "execute_result"
    }
   ],
   "source": [
    "str1=\"restart\"\n",
    "str1=str1.capitalize()\n",
    "str1.replace(\"r\",\"$\").lower().upper() # we can use.lower .upper here also"
   ]
  },
  {
   "cell_type": "code",
   "execution_count": 166,
   "id": "3ebf3f7b",
   "metadata": {},
   "outputs": [
    {
     "data": {
      "text/plain": [
       "'$tresta'"
      ]
     },
     "execution_count": 166,
     "metadata": {},
     "output_type": "execute_result"
    }
   ],
   "source": [
    "# slicing + replace\n",
    "a=\"restart\"\n",
    "a1=a[:-2]  # start from zero and stop at \n",
    "a2=a[-2::]  \n",
    "a3=a2.replace(\"r\",\"$\")\n",
    "a3+a1\n"
   ]
  },
  {
   "cell_type": "code",
   "execution_count": 167,
   "id": "bb70f023",
   "metadata": {},
   "outputs": [
    {
     "ename": "TypeError",
     "evalue": "string indices must be integers",
     "output_type": "error",
     "traceback": [
      "\u001b[1;31m---------------------------------------------------------------------------\u001b[0m",
      "\u001b[1;31mTypeError\u001b[0m                                 Traceback (most recent call last)",
      "Input \u001b[1;32mIn [167]\u001b[0m, in \u001b[0;36m<cell line: 1>\u001b[1;34m()\u001b[0m\n\u001b[0;32m      1\u001b[0m \u001b[38;5;28;01mfor\u001b[39;00m i \u001b[38;5;129;01min\u001b[39;00m a:\n\u001b[1;32m----> 2\u001b[0m     \u001b[43ma\u001b[49m\u001b[43m[\u001b[49m\u001b[43mi\u001b[49m\u001b[43m]\u001b[49m\n",
      "\u001b[1;31mTypeError\u001b[0m: string indices must be integers"
     ]
    }
   ],
   "source": [
    "for i in range()\n",
    "    a[i]"
   ]
  },
  {
   "cell_type": "code",
   "execution_count": null,
   "id": "17fd5f0e",
   "metadata": {},
   "outputs": [],
   "source": []
  },
  {
   "cell_type": "markdown",
   "id": "45d835e3",
   "metadata": {},
   "source": [
    "## find"
   ]
  },
  {
   "cell_type": "code",
   "execution_count": null,
   "id": "d05d78f5",
   "metadata": {},
   "outputs": [],
   "source": []
  },
  {
   "cell_type": "code",
   "execution_count": 27,
   "id": "b05f8d82",
   "metadata": {},
   "outputs": [
    {
     "data": {
      "text/plain": [
       "2"
      ]
     },
     "execution_count": 27,
     "metadata": {},
     "output_type": "execute_result"
    }
   ],
   "source": [
    "string1=\"happy\"\n",
    "# how many 'p' are there =2\n",
    "string1.index(\"p\") # first occurence"
   ]
  },
  {
   "cell_type": "code",
   "execution_count": 29,
   "id": "339ef94c",
   "metadata": {},
   "outputs": [
    {
     "data": {
      "text/plain": [
       "3"
      ]
     },
     "execution_count": 29,
     "metadata": {},
     "output_type": "execute_result"
    }
   ],
   "source": [
    "string1.index(\"p\",3,4)  # start and end option are there\n",
    "# here 3 is start and 4 is the end "
   ]
  },
  {
   "cell_type": "code",
   "execution_count": 178,
   "id": "4374857f",
   "metadata": {},
   "outputs": [],
   "source": [
    "# what are the index of 'p'\n",
    "# one 'p' index is =2\n",
    "# second 'p' index is =3\n",
    "# how do you get the second 'p' index\n",
    "# find method will give other occurences of char"
   ]
  },
  {
   "cell_type": "code",
   "execution_count": 179,
   "id": "900bdb8f",
   "metadata": {},
   "outputs": [
    {
     "data": {
      "text/plain": [
       "2"
      ]
     },
     "execution_count": 179,
     "metadata": {},
     "output_type": "execute_result"
    }
   ],
   "source": [
    "string1.find(\"p\") # first occurence"
   ]
  },
  {
   "cell_type": "code",
   "execution_count": 32,
   "id": "0062c1a0",
   "metadata": {},
   "outputs": [
    {
     "data": {
      "text/plain": [
       "-1"
      ]
     },
     "execution_count": 32,
     "metadata": {},
     "output_type": "execute_result"
    }
   ],
   "source": [
    "# first occurence(\"hap\")  second \"py\"\n",
    "# already one \"p\" index found\n",
    "# see rest of string where first \"p\" over\n",
    "string1.find(\"p\",9)   # return -1 on failure # but don't give error"
   ]
  },
  {
   "cell_type": "code",
   "execution_count": 188,
   "id": "7cb7a27f",
   "metadata": {},
   "outputs": [
    {
     "data": {
      "text/plain": [
       "0"
      ]
     },
     "execution_count": 188,
     "metadata": {},
     "output_type": "execute_result"
    }
   ],
   "source": [
    "string1=\"ola ola ola\"\n",
    "string1.find(\"o\") # first occurence\n",
    "# string1.find(\"o\",1)  # out[]: 4"
   ]
  },
  {
   "cell_type": "code",
   "execution_count": 189,
   "id": "f5f70916",
   "metadata": {},
   "outputs": [
    {
     "data": {
      "text/plain": [
       "4"
      ]
     },
     "execution_count": 189,
     "metadata": {},
     "output_type": "execute_result"
    }
   ],
   "source": [
    "string1.find(\"o\",1)"
   ]
  },
  {
   "cell_type": "code",
   "execution_count": 192,
   "id": "46b09a4b",
   "metadata": {},
   "outputs": [
    {
     "data": {
      "text/plain": [
       "4"
      ]
     },
     "execution_count": 192,
     "metadata": {},
     "output_type": "execute_result"
    }
   ],
   "source": [
    "string1.find(\"o\",4)  # on 4th place o is there with index 4"
   ]
  },
  {
   "cell_type": "code",
   "execution_count": 193,
   "id": "b86140a2",
   "metadata": {},
   "outputs": [
    {
     "data": {
      "text/plain": [
       "8"
      ]
     },
     "execution_count": 193,
     "metadata": {},
     "output_type": "execute_result"
    }
   ],
   "source": [
    "string1.find(\"o\",5)"
   ]
  },
  {
   "cell_type": "code",
   "execution_count": 194,
   "id": "0b9ad79a",
   "metadata": {},
   "outputs": [
    {
     "data": {
      "text/plain": [
       "-1"
      ]
     },
     "execution_count": 194,
     "metadata": {},
     "output_type": "execute_result"
    }
   ],
   "source": [
    "string1.find(\"o\",9)  # no string are there "
   ]
  },
  {
   "cell_type": "code",
   "execution_count": null,
   "id": "6c09c541",
   "metadata": {},
   "outputs": [],
   "source": [
    "string1.find(\"o\")   >>>>>> first \"o\" occures at index o\n",
    "string1.find(\"o\",1)   >>>>>> im checking \"o\" in \"la ola ola\" index 4\n",
    "string1.find(\"o\",5)   >>>>>> third \"o\" index is 8\n",
    "string1.find(\"o\",9)   >>>>>> -1 means no \"o\" after 9th index"
   ]
  },
  {
   "cell_type": "code",
   "execution_count": 195,
   "id": "2bf22a3f",
   "metadata": {},
   "outputs": [
    {
     "data": {
      "text/plain": [
       "0"
      ]
     },
     "execution_count": 195,
     "metadata": {},
     "output_type": "execute_result"
    }
   ],
   "source": [
    "string1.find(\"o\",)  # putting single comma does not effect"
   ]
  },
  {
   "cell_type": "code",
   "execution_count": null,
   "id": "c98f72df",
   "metadata": {},
   "outputs": [],
   "source": [
    "# interview question find will not show error instead of it print -1"
   ]
  },
  {
   "cell_type": "code",
   "execution_count": null,
   "id": "b50f8b74",
   "metadata": {},
   "outputs": [],
   "source": [
    "string1.find(\"o\",0)  # ========>  0\n",
    "string1.find(\"o\",0+1)  # ========>  4\n",
    "string1.find(\"o\",4+1)  # ========> 8\n",
    "string1.find(\"o\",8+1)  # ========> -1"
   ]
  },
  {
   "cell_type": "code",
   "execution_count": 204,
   "id": "8d1a6a49",
   "metadata": {},
   "outputs": [
    {
     "data": {
      "text/plain": [
       "-1"
      ]
     },
     "execution_count": 204,
     "metadata": {},
     "output_type": "execute_result"
    }
   ],
   "source": [
    "string1.find(\"o\")  # ====0\n",
    "string1.find(\"o\",string1.find(\"o\") + 1)  # ====4\n",
    "string1.find(\"o\",string1.find(\"o\",string1.find(\"o\") + 1)+1) #  ====8\n",
    "string1.find(\"o\",string1.find(\"o\",string1.find(\"o\",string1.find(\"o\") + 1)+1)+1)  # ==== -1\n"
   ]
  },
  {
   "cell_type": "code",
   "execution_count": 200,
   "id": "2b0f3928",
   "metadata": {},
   "outputs": [
    {
     "data": {
      "text/plain": [
       "10"
      ]
     },
     "execution_count": 200,
     "metadata": {},
     "output_type": "execute_result"
    }
   ],
   "source": [
    "a=10\n",
    "a  # ctrl + enter bhi output deta h "
   ]
  },
  {
   "cell_type": "code",
   "execution_count": 205,
   "id": "0d101a6a",
   "metadata": {},
   "outputs": [],
   "source": [
    "num1= string1.find(\"o\")\n",
    "num2=string1.find(\"o\",num1+1)\n",
    "num3=string1.find(\"o\",num2+1)\n",
    "num4=string1.find(\"o\",num3+1)"
   ]
  },
  {
   "cell_type": "code",
   "execution_count": 207,
   "id": "d3633ed1",
   "metadata": {},
   "outputs": [
    {
     "data": {
      "text/plain": [
       "8"
      ]
     },
     "execution_count": 207,
     "metadata": {},
     "output_type": "execute_result"
    }
   ],
   "source": [
    "num3"
   ]
  },
  {
   "cell_type": "code",
   "execution_count": 208,
   "id": "1c19605a",
   "metadata": {},
   "outputs": [
    {
     "data": {
      "text/plain": [
       "-1"
      ]
     },
     "execution_count": 208,
     "metadata": {},
     "output_type": "execute_result"
    }
   ],
   "source": [
    "# find operation replace slice\n",
    "str1=\"ola ola ola\"\n",
    "str1.find(\"ha\") # if no string found it will give -1"
   ]
  },
  {
   "cell_type": "code",
   "execution_count": 211,
   "id": "6654987e",
   "metadata": {},
   "outputs": [
    {
     "name": "stdout",
     "output_type": "stream",
     "text": [
      "resta$t\n"
     ]
    }
   ],
   "source": [
    "str1=\"restart\"\n",
    "st=str1.find(\"r\",1)   # st=5\n",
    "s1=str1[:st]   # start from zero and stop at 4\n",
    "s2=str1[st:]  # start from 5 and stop at last \n",
    "s3=s2.replace(\"r\",\"$\")\n",
    "print(s1+s3)"
   ]
  },
  {
   "cell_type": "code",
   "execution_count": 214,
   "id": "c51ec898",
   "metadata": {},
   "outputs": [
    {
     "name": "stdout",
     "output_type": "stream",
     "text": [
      "second r index is: 5\n",
      "string1: resta\n",
      "string2: rt\n",
      "resta$t\n"
     ]
    }
   ],
   "source": [
    "str1=\"restart\"  # \"resta\"  \"rt\"\n",
    "st=str1.find(\"r\",1)  # 5\n",
    "print(\"second r index is:\",st)\n",
    "s1=str1[:st]  # str1[:5]\n",
    "print(\"string1:\",s1)\n",
    "s2=str1[st:]  # str1[5:]\n",
    "print(\"string2:\",s2)\n",
    "s3=s2.replace(\"r\",\"$\")\n",
    "print(s1+s3)"
   ]
  },
  {
   "cell_type": "code",
   "execution_count": null,
   "id": "47bff5f3",
   "metadata": {},
   "outputs": [],
   "source": []
  },
  {
   "cell_type": "markdown",
   "id": "173b999f",
   "metadata": {},
   "source": [
    "## strip, lstrip and rstrip"
   ]
  },
  {
   "cell_type": "code",
   "execution_count": 215,
   "id": "12164ad7",
   "metadata": {},
   "outputs": [
    {
     "data": {
      "text/plain": [
       "'hello'"
      ]
     },
     "execution_count": 215,
     "metadata": {},
     "output_type": "execute_result"
    }
   ],
   "source": [
    "str1=\"!!!!!!!!!!hello\"\n",
    "str1.lstrip(\"!\")"
   ]
  },
  {
   "cell_type": "code",
   "execution_count": 216,
   "id": "0b8f2902",
   "metadata": {},
   "outputs": [
    {
     "data": {
      "text/plain": [
       "'hello'"
      ]
     },
     "execution_count": 216,
     "metadata": {},
     "output_type": "execute_result"
    }
   ],
   "source": [
    "str2=\"hello!!!!!!!!!!!!\"\n",
    "str2.rstrip(\"!\")"
   ]
  },
  {
   "cell_type": "code",
   "execution_count": 220,
   "id": "22c8c64f",
   "metadata": {},
   "outputs": [
    {
     "data": {
      "text/plain": [
       "'hello'"
      ]
     },
     "execution_count": 220,
     "metadata": {},
     "output_type": "execute_result"
    }
   ],
   "source": [
    "str2.rstrip(\"!!\")"
   ]
  },
  {
   "cell_type": "code",
   "execution_count": 221,
   "id": "031fd010",
   "metadata": {},
   "outputs": [
    {
     "data": {
      "text/plain": [
       "'hello'"
      ]
     },
     "execution_count": 221,
     "metadata": {},
     "output_type": "execute_result"
    }
   ],
   "source": [
    "str3=\"!!!!!!!!!!!!!!hello!!!!!!!!!!!!!!!!!!\"\n",
    "str3.strip(\"!\")"
   ]
  },
  {
   "cell_type": "code",
   "execution_count": 223,
   "id": "311b35ad",
   "metadata": {},
   "outputs": [
    {
     "data": {
      "text/plain": [
       "'2python'"
      ]
     },
     "execution_count": 223,
     "metadata": {},
     "output_type": "execute_result"
    }
   ],
   "source": [
    "str1=\"112python\"\n",
    "str1.lstrip(\"1\")"
   ]
  },
  {
   "cell_type": "code",
   "execution_count": 227,
   "id": "9f2703e7",
   "metadata": {},
   "outputs": [
    {
     "data": {
      "text/plain": [
       "'1122python'"
      ]
     },
     "execution_count": 227,
     "metadata": {},
     "output_type": "execute_result"
    }
   ],
   "source": [
    "str1=\"1122python\"\n",
    "str1.lstrip(\"2\")  # why it will not remove 2"
   ]
  },
  {
   "cell_type": "code",
   "execution_count": 228,
   "id": "b702ae49",
   "metadata": {},
   "outputs": [
    {
     "data": {
      "text/plain": [
       "'python22'"
      ]
     },
     "execution_count": 228,
     "metadata": {},
     "output_type": "execute_result"
    }
   ],
   "source": [
    "str2=\"python2211\"\n",
    "str2.rstrip(\"1\")"
   ]
  },
  {
   "cell_type": "code",
   "execution_count": 229,
   "id": "4ef4ad47",
   "metadata": {},
   "outputs": [
    {
     "data": {
      "text/plain": [
       "'python2211'"
      ]
     },
     "execution_count": 229,
     "metadata": {},
     "output_type": "execute_result"
    }
   ],
   "source": [
    "str2.rstrip(\"2\") # why it will not remove 2"
   ]
  },
  {
   "cell_type": "code",
   "execution_count": 230,
   "id": "eae785ff",
   "metadata": {},
   "outputs": [
    {
     "data": {
      "text/plain": [
       "'22python22'"
      ]
     },
     "execution_count": 230,
     "metadata": {},
     "output_type": "execute_result"
    }
   ],
   "source": [
    "str3=\"1122python2211\"\n",
    "str3.strip(\"1\")"
   ]
  },
  {
   "cell_type": "code",
   "execution_count": 231,
   "id": "3f0e400a",
   "metadata": {},
   "outputs": [
    {
     "data": {
      "text/plain": [
       "'1122python2211'"
      ]
     },
     "execution_count": 231,
     "metadata": {},
     "output_type": "execute_result"
    }
   ],
   "source": [
    "str3.strip(\"22\")  # why it will not remove 22"
   ]
  },
  {
   "cell_type": "code",
   "execution_count": 232,
   "id": "065c6e57",
   "metadata": {},
   "outputs": [
    {
     "data": {
      "text/plain": [
       "'python'"
      ]
     },
     "execution_count": 232,
     "metadata": {},
     "output_type": "execute_result"
    }
   ],
   "source": [
    "str3.strip(\"1122\")  # this will remove 1122 and 2211"
   ]
  },
  {
   "cell_type": "code",
   "execution_count": 233,
   "id": "e60f9bcf",
   "metadata": {},
   "outputs": [
    {
     "data": {
      "text/plain": [
       "'22python1122'"
      ]
     },
     "execution_count": 233,
     "metadata": {},
     "output_type": "execute_result"
    }
   ],
   "source": [
    "str4=\"1122python1122\" # why  ???\n",
    "str4.strip(\"1\")"
   ]
  },
  {
   "cell_type": "code",
   "execution_count": 234,
   "id": "b3584c16",
   "metadata": {},
   "outputs": [
    {
     "data": {
      "text/plain": [
       "'1122python11'"
      ]
     },
     "execution_count": 234,
     "metadata": {},
     "output_type": "execute_result"
    }
   ],
   "source": [
    "str4.strip(\"2\")  # why   ???"
   ]
  },
  {
   "cell_type": "code",
   "execution_count": 235,
   "id": "7428b51f",
   "metadata": {},
   "outputs": [],
   "source": [
    "str1=\" python\"  # space in left side\n",
    "str2=\"python \"  # spaces in right side\n",
    "str3=\" python \"  # spaces in left and right side"
   ]
  },
  {
   "cell_type": "code",
   "execution_count": null,
   "id": "8611e259",
   "metadata": {},
   "outputs": [],
   "source": [
    "# if both side spaces you want to remove use strip\n",
    "# if only left side remove use lstrip >>> use left strip\n",
    "# right side remove .......> rstrip"
   ]
  },
  {
   "cell_type": "code",
   "execution_count": 236,
   "id": "cda5aba2",
   "metadata": {},
   "outputs": [],
   "source": [
    "str1=\" python****\""
   ]
  },
  {
   "cell_type": "code",
   "execution_count": 237,
   "id": "37a98741",
   "metadata": {},
   "outputs": [
    {
     "data": {
      "text/plain": [
       "'python****'"
      ]
     },
     "execution_count": 237,
     "metadata": {},
     "output_type": "execute_result"
    }
   ],
   "source": [
    "str1.lstrip(\" \")"
   ]
  },
  {
   "cell_type": "code",
   "execution_count": 238,
   "id": "2484eaff",
   "metadata": {},
   "outputs": [
    {
     "data": {
      "text/plain": [
       "' python'"
      ]
     },
     "execution_count": 238,
     "metadata": {},
     "output_type": "execute_result"
    }
   ],
   "source": [
    "str1.rstrip(\"*\")"
   ]
  },
  {
   "cell_type": "code",
   "execution_count": 239,
   "id": "8d7575c8",
   "metadata": {},
   "outputs": [
    {
     "name": "stdout",
     "output_type": "stream",
     "text": [
      " python\n",
      "python\n"
     ]
    }
   ],
   "source": [
    "s1=str1.rstrip(\"*\")\n",
    "print(s1)\n",
    "s2=s1.lstrip(\" \")\n",
    "print(s2)"
   ]
  },
  {
   "cell_type": "code",
   "execution_count": 240,
   "id": "6238b5ab",
   "metadata": {},
   "outputs": [
    {
     "data": {
      "text/plain": [
       "(' python****', ' python', 'python')"
      ]
     },
     "execution_count": 240,
     "metadata": {},
     "output_type": "execute_result"
    }
   ],
   "source": [
    "str1,s1,s2"
   ]
  },
  {
   "cell_type": "code",
   "execution_count": null,
   "id": "339067c5",
   "metadata": {},
   "outputs": [],
   "source": [
    "# show ouput in tuples\n",
    "# split gives output in list"
   ]
  },
  {
   "cell_type": "markdown",
   "id": "5910b5a3",
   "metadata": {},
   "source": [
    "## center"
   ]
  },
  {
   "cell_type": "code",
   "execution_count": null,
   "id": "20cc9fb7",
   "metadata": {},
   "outputs": [],
   "source": [
    "# i want to create a 12 letters and the word should be in and surrounded by some spl char * \n",
    "# ***python***"
   ]
  },
  {
   "cell_type": "code",
   "execution_count": 241,
   "id": "61e88b71",
   "metadata": {},
   "outputs": [],
   "source": [
    "word=\"python\"\n",
    "new_word=word.center(12,\"*\")"
   ]
  },
  {
   "cell_type": "code",
   "execution_count": 242,
   "id": "9d6ed4b3",
   "metadata": {},
   "outputs": [
    {
     "data": {
      "text/plain": [
       "'***python***'"
      ]
     },
     "execution_count": 242,
     "metadata": {},
     "output_type": "execute_result"
    }
   ],
   "source": [
    "new_word"
   ]
  },
  {
   "cell_type": "code",
   "execution_count": 243,
   "id": "5bb79562",
   "metadata": {},
   "outputs": [],
   "source": [
    "new_word=word.center(15,\"@\")"
   ]
  },
  {
   "cell_type": "code",
   "execution_count": 244,
   "id": "c9117387",
   "metadata": {},
   "outputs": [
    {
     "data": {
      "text/plain": [
       "'@@@@@python@@@@'"
      ]
     },
     "execution_count": 244,
     "metadata": {},
     "output_type": "execute_result"
    }
   ],
   "source": [
    "new_word  # five @ left side and four @ at right side"
   ]
  },
  {
   "cell_type": "code",
   "execution_count": null,
   "id": "338f84b1",
   "metadata": {},
   "outputs": [],
   "source": []
  },
  {
   "cell_type": "markdown",
   "id": "f47c5baf",
   "metadata": {},
   "source": [
    "## endswith and startswith"
   ]
  },
  {
   "cell_type": "code",
   "execution_count": null,
   "id": "1ffb3bdb",
   "metadata": {},
   "outputs": [],
   "source": []
  },
  {
   "cell_type": "code",
   "execution_count": 245,
   "id": "a625bda9",
   "metadata": {},
   "outputs": [
    {
     "data": {
      "text/plain": [
       "True"
      ]
     },
     "execution_count": 245,
     "metadata": {},
     "output_type": "execute_result"
    }
   ],
   "source": [
    "str1=\"www.google.com\"\n",
    "str1.endswith(\".com\")"
   ]
  },
  {
   "cell_type": "code",
   "execution_count": 246,
   "id": "7600f062",
   "metadata": {},
   "outputs": [
    {
     "data": {
      "text/plain": [
       "False"
      ]
     },
     "execution_count": 246,
     "metadata": {},
     "output_type": "execute_result"
    }
   ],
   "source": [
    "str1.endswith(\".net\")"
   ]
  },
  {
   "cell_type": "code",
   "execution_count": 248,
   "id": "31c1e167",
   "metadata": {},
   "outputs": [
    {
     "data": {
      "text/plain": [
       "True"
      ]
     },
     "execution_count": 248,
     "metadata": {},
     "output_type": "execute_result"
    }
   ],
   "source": [
    "str1.startswith(\"www\")"
   ]
  },
  {
   "cell_type": "code",
   "execution_count": 249,
   "id": "82e66a55",
   "metadata": {},
   "outputs": [
    {
     "data": {
      "text/plain": [
       "True"
      ]
     },
     "execution_count": 249,
     "metadata": {},
     "output_type": "execute_result"
    }
   ],
   "source": [
    "str1.startswith(\"w\")"
   ]
  },
  {
   "cell_type": "markdown",
   "id": "856a40b8",
   "metadata": {},
   "source": [
    "## file location"
   ]
  },
  {
   "cell_type": "code",
   "execution_count": 250,
   "id": "43e29c8c",
   "metadata": {},
   "outputs": [],
   "source": [
    "# tell me your file location\n",
    "# os package/library/module"
   ]
  },
  {
   "cell_type": "code",
   "execution_count": 253,
   "id": "be9b6bbc",
   "metadata": {},
   "outputs": [
    {
     "data": {
      "text/plain": [
       "'C:\\\\Users\\\\visha\\\\Music\\\\python sessions'"
      ]
     },
     "execution_count": 253,
     "metadata": {},
     "output_type": "execute_result"
    }
   ],
   "source": [
    "import os\n",
    "os.getcwd()  #Current Working Directory(CWD)"
   ]
  },
  {
   "cell_type": "code",
   "execution_count": 254,
   "id": "01e4b185",
   "metadata": {},
   "outputs": [
    {
     "data": {
      "text/plain": [
       "True"
      ]
     },
     "execution_count": 254,
     "metadata": {},
     "output_type": "execute_result"
    }
   ],
   "source": [
    "import webbrowser\n",
    "webbrowser.open(\"https://www.geeksforgeeks.org/os-module-python-examples/#:~:text=The%20OS%20module%20in%20python%20provides%20functions%20for,many%20functions%20to%20interact%20with%20the%20file%20system.\")"
   ]
  },
  {
   "cell_type": "code",
   "execution_count": 255,
   "id": "5ed2e3cf",
   "metadata": {},
   "outputs": [],
   "source": [
    "import time\n",
    "time.sleep(5)"
   ]
  },
  {
   "cell_type": "code",
   "execution_count": 256,
   "id": "b31535cf",
   "metadata": {},
   "outputs": [
    {
     "data": {
      "text/plain": [
       "True"
      ]
     },
     "execution_count": 256,
     "metadata": {},
     "output_type": "execute_result"
    }
   ],
   "source": [
    "time.sleep(10)\n",
    "webbrowser.open(\"https://www.youtube.com/watch?v=gRgtBsBGDFs\")"
   ]
  },
  {
   "cell_type": "code",
   "execution_count": null,
   "id": "ec50f03a",
   "metadata": {},
   "outputs": [],
   "source": []
  }
 ],
 "metadata": {
  "kernelspec": {
   "display_name": "Python 3 (ipykernel)",
   "language": "python",
   "name": "python3"
  },
  "language_info": {
   "codemirror_mode": {
    "name": "ipython",
    "version": 3
   },
   "file_extension": ".py",
   "mimetype": "text/x-python",
   "name": "python",
   "nbconvert_exporter": "python",
   "pygments_lexer": "ipython3",
   "version": "3.9.12"
  }
 },
 "nbformat": 4,
 "nbformat_minor": 5
}
