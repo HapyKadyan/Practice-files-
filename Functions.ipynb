{
 "cells": [
  {
   "cell_type": "code",
   "execution_count": 3,
   "id": "e0e8f3c1",
   "metadata": {},
   "outputs": [],
   "source": [
    "def greet():\n",
    "    print(\"hai\")\n",
    "    print(\"how are you\")\n",
    "    \n",
    "# every function starts with def keyword\n",
    "# here greet is function name\n",
    "# every function ends with ()\n",
    "# your logic/statements should write inside the function call\n",
    "# here print('hai') is our statement\n",
    "# Function another name aslo called as method"
   ]
  },
  {
   "cell_type": "code",
   "execution_count": 4,
   "id": "b92f50e9",
   "metadata": {},
   "outputs": [
    {
     "name": "stdout",
     "output_type": "stream",
     "text": [
      "hai\n",
      "how are you\n"
     ]
    }
   ],
   "source": [
    "# in order to run your statements/logic you need call the function name\n",
    "greet()\n"
   ]
  },
  {
   "cell_type": "code",
   "execution_count": 11,
   "id": "a0aa52fe",
   "metadata": {},
   "outputs": [
    {
     "name": "stdout",
     "output_type": "stream",
     "text": [
      "enter a number 1:5\n",
      "enter a number2:6\n",
      "The summation of 5 and 6 is 11\n"
     ]
    }
   ],
   "source": [
    "# addition logic\n",
    "num1=eval(input(\"enter a number 1:\"))\n",
    "num2=eval(input(\"enter a number2:\"))\n",
    "summation=num1+num2\n",
    "print(\"The summation of {} and {} is {}\".format(num1,num2,summation))"
   ]
  },
  {
   "cell_type": "code",
   "execution_count": 15,
   "id": "c4a07727",
   "metadata": {},
   "outputs": [],
   "source": [
    "def addition():\n",
    "    num1=eval(input(\"enter a number 1:\"))\n",
    "    num2=eval(input(\"enter a number2:\"))\n",
    "    summation=num1+num2\n",
    "    print(\"The summation of {} and {} is {}\".format(num1,num2,summation))\n",
    "    \n",
    "# when you run this code it will not run\n",
    "# eventhough if you have error in this logic it will not show\n",
    "# untill unless you call the function, the logic/statements will not execute"
   ]
  },
  {
   "cell_type": "code",
   "execution_count": 16,
   "id": "dbdd1195",
   "metadata": {},
   "outputs": [
    {
     "name": "stdout",
     "output_type": "stream",
     "text": [
      "enter a number 1:5\n",
      "enter a number2:6\n",
      "The summation of 5 and 6 is 11\n"
     ]
    }
   ],
   "source": [
    "addition()"
   ]
  },
  {
   "cell_type": "code",
   "execution_count": null,
   "id": "5fbf8d69",
   "metadata": {},
   "outputs": [],
   "source": [
    "# Implement function \n",
    "# ask the user enter how many hours of work done: 500\n",
    "# ask the user rate per hour:1000\n",
    "# calaculate total income"
   ]
  },
  {
   "cell_type": "code",
   "execution_count": 17,
   "id": "d7cf263b",
   "metadata": {},
   "outputs": [],
   "source": [
    "def income():\n",
    "    hours=eval(input('enter the work done hours '))\n",
    "    rate=eval(input('rate per hour'))\n",
    "    total_income=hours*rate\n",
    "    print('total income is {}'.format(total_income))"
   ]
  },
  {
   "cell_type": "code",
   "execution_count": 18,
   "id": "7239405d",
   "metadata": {},
   "outputs": [
    {
     "name": "stdout",
     "output_type": "stream",
     "text": [
      "enter the work done hours 500\n",
      "rate per hour1000\n",
      "total income is 500000\n"
     ]
    }
   ],
   "source": [
    "income()"
   ]
  },
  {
   "cell_type": "code",
   "execution_count": null,
   "id": "ddd6f877",
   "metadata": {},
   "outputs": [],
   "source": [
    "addition()\n",
    "average()\n",
    "greet()\n",
    "income()\n",
    "\n",
    "# inside the brackets it is empty\n",
    "# with out arguments\n",
    "# No arguments\n",
    "# what are arguments?"
   ]
  },
  {
   "cell_type": "code",
   "execution_count": 31,
   "id": "0a558436",
   "metadata": {},
   "outputs": [],
   "source": [
    "def addition_no_arguments():\n",
    "    num1=eval(input(\"enter a number 1:\"))\n",
    "    num2=eval(input(\"enter a number2:\"))\n",
    "    summation=num1+num2\n",
    "    print(\"The summation of {} and {} is {}\".format(num1,num2,summation))\n",
    "    \n",
    "# this function has no arguments\n",
    "# variables are using in the logic\n",
    "# what are the variables num1 and num2--- > summation\n",
    "# The variables defined logic itself "
   ]
  },
  {
   "cell_type": "code",
   "execution_count": 22,
   "id": "5015ae46",
   "metadata": {},
   "outputs": [],
   "source": [
    "def addition_with_arguments(num1,num2):\n",
    "    summation=num1+num2\n",
    "    print(\"The summation of {} and {} is {}\".format(num1,num2,summation))\n",
    "   \n",
    "# this function is with arguments\n",
    "# the variables used in logic are defined in logic itself ---- > No\n",
    "# or defined in function with arguments ---> No"
   ]
  },
  {
   "cell_type": "code",
   "execution_count": 27,
   "id": "67c35697",
   "metadata": {},
   "outputs": [
    {
     "name": "stdout",
     "output_type": "stream",
     "text": [
      "The summation of 5 and 6 is 11\n"
     ]
    }
   ],
   "source": [
    "addition_with_arguments(5,6)\n",
    "# num1=5 num2=6"
   ]
  },
  {
   "cell_type": "code",
   "execution_count": 32,
   "id": "51ec362a",
   "metadata": {},
   "outputs": [
    {
     "name": "stdout",
     "output_type": "stream",
     "text": [
      "enter a number 1:5\n",
      "enter a number2:6\n",
      "The summation of 5 and 6 is 11\n"
     ]
    }
   ],
   "source": [
    "addition_no_arguments()"
   ]
  },
  {
   "cell_type": "code",
   "execution_count": 36,
   "id": "759da399",
   "metadata": {},
   "outputs": [
    {
     "name": "stdout",
     "output_type": "stream",
     "text": [
      "enter number1: 60\n",
      "enter number2: 50\n",
      "the average is 60 and 50 is 55.0 \n"
     ]
    }
   ],
   "source": [
    "# Normal \n",
    "num1=eval(input(\"enter number1: \"))\n",
    "num2=eval(input(\"enter number2: \"))\n",
    "avg=(num1+num2)/2\n",
    "print(\"the average is {} and {} is {} \".format(num1,num2,avg))\n"
   ]
  },
  {
   "cell_type": "code",
   "execution_count": 37,
   "id": "65561125",
   "metadata": {},
   "outputs": [
    {
     "name": "stdout",
     "output_type": "stream",
     "text": [
      "the average is 60 and 50 is 55.0\n"
     ]
    }
   ],
   "source": [
    "# With arguments\n",
    "def average_with_arguments(num1,num2):\n",
    "    avg=(num1+num2)/2\n",
    "    print(\"the average is {} and {} is {}\".format(num1,num2,avg))\n",
    "    \n",
    "average_with_arguments(60,50)"
   ]
  },
  {
   "cell_type": "code",
   "execution_count": 38,
   "id": "082c1004",
   "metadata": {},
   "outputs": [
    {
     "name": "stdout",
     "output_type": "stream",
     "text": [
      "enter number1: 60\n",
      "enter number2: 50\n",
      "the average is 60 and 50 is 55.0 \n"
     ]
    }
   ],
   "source": [
    "# with out arguments\n",
    "def average_no_arguments():\n",
    "    num1=eval(input(\"enter number1: \"))\n",
    "    num2=eval(input(\"enter number2: \"))\n",
    "    avg=(num1+num2)/2  \n",
    "    print(\"the average is {} and {} is {} \".format(num1,num2,avg))\n",
    "\n",
    "average_no_arguments()"
   ]
  },
  {
   "cell_type": "code",
   "execution_count": null,
   "id": "d106784f",
   "metadata": {},
   "outputs": [],
   "source": [
    "# BODMAS\n",
    "# B--- brackets\n",
    "# O--off\n",
    "# D- Divison\n",
    "# M- Multiplication\n",
    "# A--- addition\n",
    "# S-subtraction"
   ]
  },
  {
   "cell_type": "code",
   "execution_count": 40,
   "id": "42cb9995",
   "metadata": {},
   "outputs": [
    {
     "name": "stdout",
     "output_type": "stream",
     "text": [
      "enter the work done hours 100\n",
      "rate per hour500\n",
      "total income is 50000\n"
     ]
    }
   ],
   "source": [
    "def income_no_arguments():\n",
    "    hours=eval(input('enter the work done hours '))\n",
    "    rate=eval(input('rate per hour'))\n",
    "    total_income=hours*rate\n",
    "    print('total income is {}'.format(total_income))\n",
    "    \n",
    "income_no_arguments()"
   ]
  },
  {
   "cell_type": "code",
   "execution_count": 41,
   "id": "f3b5f202",
   "metadata": {},
   "outputs": [
    {
     "name": "stdout",
     "output_type": "stream",
     "text": [
      "total income is 50000\n"
     ]
    }
   ],
   "source": [
    "def income_with_arguments(hours,rate):\n",
    "    total_income=hours*rate\n",
    "    print('total income is {}'.format(total_income))\n",
    "    \n",
    "income_with_arguments(100,500)"
   ]
  },
  {
   "cell_type": "code",
   "execution_count": null,
   "id": "d4f78b8f",
   "metadata": {},
   "outputs": [],
   "source": [
    "# 3 employees\n",
    "# Ramesh\n",
    "# Suresh\n",
    "# Krishna\n",
    "\n",
    "# name\n",
    "# no,of hours\n",
    "# rate per hours\n",
    "\n",
    "# Ramesh worked for 100 hours\n",
    "# Rames total income is 50000\n",
    "\n",
    "# Suresh worked for 200 hours\n",
    "# Suresh income is 10000"
   ]
  },
  {
   "cell_type": "code",
   "execution_count": 44,
   "id": "2da72c07",
   "metadata": {},
   "outputs": [
    {
     "name": "stdout",
     "output_type": "stream",
     "text": [
      "enter a name:krishna\n",
      "enter the work done hours 500\n",
      "rate per hour1000\n",
      "krishna worked for 500 hours\n",
      "krishna total income is 500000\n"
     ]
    }
   ],
   "source": [
    "def income_no_arguments():\n",
    "    name=input(\"enter a name:\")\n",
    "    hours=eval(input('enter the work done hours '))\n",
    "    rate=eval(input('rate per hour'))\n",
    "    total_income=hours*rate\n",
    "    print(\"{} worked for {} hours\".format(name,hours))\n",
    "    print('{} total income is {}'.format(name,total_income))\n",
    "    \n",
    "income_no_arguments()"
   ]
  },
  {
   "cell_type": "code",
   "execution_count": 45,
   "id": "75faedea",
   "metadata": {},
   "outputs": [],
   "source": [
    "def income_with_arguments(name,hours,rate):\n",
    "    total_income=hours*rate\n",
    "    print(\"{} worked for {} hours\".format(name,hours))\n",
    "    print('{} total income is {}'.format(name,total_income))"
   ]
  },
  {
   "cell_type": "code",
   "execution_count": 48,
   "id": "20f2723f",
   "metadata": {},
   "outputs": [
    {
     "name": "stdout",
     "output_type": "stream",
     "text": [
      "Krishna worked for 500 hours\n",
      "Krishna total income is 500000\n"
     ]
    }
   ],
   "source": [
    "income_with_arguments(\"Krishna\",500,1000)"
   ]
  },
  {
   "cell_type": "code",
   "execution_count": 47,
   "id": "895ae054",
   "metadata": {},
   "outputs": [
    {
     "name": "stdout",
     "output_type": "stream",
     "text": [
      "enter a name:rames\n",
      "enter no of hours:100\n",
      "rate per hour:500\n",
      "rames worked for 100 hours\n",
      "rames total income is 50000\n"
     ]
    }
   ],
   "source": [
    "name=input(\"enter a name:\")\n",
    "hours=eval(input(\"enter no of hours:\"))\n",
    "rate=eval(input(\"rate per hour:\"))\n",
    "income_with_arguments(name,hours,rate)"
   ]
  },
  {
   "cell_type": "code",
   "execution_count": 49,
   "id": "077dee3d",
   "metadata": {},
   "outputs": [
    {
     "name": "stdout",
     "output_type": "stream",
     "text": [
      "Total income is: 60000\n"
     ]
    }
   ],
   "source": [
    "# You are giving bonus =10000\n",
    "def total_income1(income):\n",
    "    amount=income+10000 # fixed bonus value you are provding\n",
    "    print(\"Total income is:\",amount)\n",
    "    \n",
    "total_income1(50000)"
   ]
  },
  {
   "cell_type": "code",
   "execution_count": 52,
   "id": "9a2f3c93",
   "metadata": {},
   "outputs": [
    {
     "name": "stdout",
     "output_type": "stream",
     "text": [
      "Total income is: 70000\n"
     ]
    }
   ],
   "source": [
    "\n",
    "def total_income2(income,bonus):\n",
    "    amount=income+bonus\n",
    "    print(\"Total income is:\",amount)\n",
    "    \n",
    "total_income2(50000,20000)  # you can change the bonus"
   ]
  },
  {
   "cell_type": "code",
   "execution_count": 56,
   "id": "f053b601",
   "metadata": {},
   "outputs": [
    {
     "name": "stdout",
     "output_type": "stream",
     "text": [
      "Total income is: 90000\n"
     ]
    }
   ],
   "source": [
    "\n",
    "def total_income3(income,bonus=20000): # bonus is fixed with name of bonus parameters\n",
    "    amount=income+bonus\n",
    "    print(\"Total income is:\",amount)\n",
    "    \n",
    "total_income3(70000) \n",
    "# you no need to provide two arguments while you call function\n",
    "# you fixed your bonus always 200000"
   ]
  },
  {
   "cell_type": "code",
   "execution_count": 57,
   "id": "82b1e5ff",
   "metadata": {},
   "outputs": [
    {
     "name": "stdout",
     "output_type": "stream",
     "text": [
      "Total income is: 100000\n"
     ]
    }
   ],
   "source": [
    "def total_income4(income,bonus=20000):\n",
    "    amount=income+bonus\n",
    "    print(\"Total income is:\",amount)\n",
    "    \n",
    "total_income4(70000,30000)\n",
    "# If you provide bonus argument while calling function the value will override\n",
    "# Here bonus=20000 fixed\n",
    "# But while calling function you are providing bonus=30000\n",
    "# so now bonus will be 30000"
   ]
  },
  {
   "cell_type": "code",
   "execution_count": 60,
   "id": "314ccaff",
   "metadata": {},
   "outputs": [
    {
     "name": "stdout",
     "output_type": "stream",
     "text": [
      "How much bonus you want to give:20000\n",
      "Total income is: 70000\n"
     ]
    }
   ],
   "source": [
    "def total_income5(income):\n",
    "    bonus1=eval(input(\"How much bonus you want to give:\")) # local variable\n",
    "    amount=income+bonus1\n",
    "    print(\"Total income is:\",amount)\n",
    "    \n",
    "total_income5(50000)\n",
    "\n",
    "# here income is argument\n",
    "# bonus= local variable\n",
    "# That means variable bonus is used for only total income5_function block"
   ]
  },
  {
   "cell_type": "code",
   "execution_count": 61,
   "id": "66fcf123",
   "metadata": {},
   "outputs": [
    {
     "ename": "NameError",
     "evalue": "name 'bonus1' is not defined",
     "output_type": "error",
     "traceback": [
      "\u001b[1;31m---------------------------------------------------------------------------\u001b[0m",
      "\u001b[1;31mNameError\u001b[0m                                 Traceback (most recent call last)",
      "\u001b[1;32m<ipython-input-61-d60b491c6bf6>\u001b[0m in \u001b[0;36m<module>\u001b[1;34m\u001b[0m\n\u001b[1;32m----> 1\u001b[1;33m \u001b[0mbonus1\u001b[0m\u001b[1;33m\u001b[0m\u001b[1;33m\u001b[0m\u001b[0m\n\u001b[0m",
      "\u001b[1;31mNameError\u001b[0m: name 'bonus1' is not defined"
     ]
    }
   ],
   "source": [
    "bonus1"
   ]
  },
  {
   "cell_type": "code",
   "execution_count": 62,
   "id": "8701d47b",
   "metadata": {},
   "outputs": [
    {
     "name": "stdout",
     "output_type": "stream",
     "text": [
      "Total income is: 70000\n"
     ]
    }
   ],
   "source": [
    "def total_income6(income):\n",
    "    bonus1=20000 # local variable\n",
    "    amount=income+bonus1\n",
    "    print(\"Total income is:\",amount)\n",
    "    \n",
    "total_income6(50000)\n"
   ]
  },
  {
   "cell_type": "code",
   "execution_count": 63,
   "id": "82b2644a",
   "metadata": {},
   "outputs": [
    {
     "name": "stdout",
     "output_type": "stream",
     "text": [
      "enter how much bonus:20000\n",
      "Total income is: 70000\n"
     ]
    }
   ],
   "source": [
    "bonus2=eval(input(\"enter how much bonus:\")) # gloabl variable\n",
    "\n",
    "def total_income7(income):\n",
    "    amount=income+bonus2\n",
    "    print(\"Total income is:\",amount)\n",
    "    \n",
    "total_income7(50000)"
   ]
  },
  {
   "cell_type": "code",
   "execution_count": 64,
   "id": "fe5d33b1",
   "metadata": {},
   "outputs": [
    {
     "data": {
      "text/plain": [
       "20000"
      ]
     },
     "execution_count": 64,
     "metadata": {},
     "output_type": "execute_result"
    }
   ],
   "source": [
    "bonus2"
   ]
  },
  {
   "cell_type": "code",
   "execution_count": null,
   "id": "a36a4cdd",
   "metadata": {},
   "outputs": [],
   "source": [
    "#10000 lines of codes\n",
    "# many functions\n",
    "# global variable\n",
    "# local variable"
   ]
  },
  {
   "cell_type": "code",
   "execution_count": 112,
   "id": "9fc9cd32",
   "metadata": {},
   "outputs": [],
   "source": [
    "def total_income2(income,bonus):\n",
    "    amount2=income+bonus\n",
    "    print(\"Total income is:\",amount)\n",
    "    return(amount2) #------------------------> 1st "
   ]
  },
  {
   "cell_type": "code",
   "execution_count": 113,
   "id": "f60d2650",
   "metadata": {},
   "outputs": [
    {
     "name": "stdout",
     "output_type": "stream",
     "text": [
      "Total income is: 70000\n"
     ]
    }
   ],
   "source": [
    "value_Amount=total_income2(50000,20000) # 2nd\n",
    "\n",
    "# total_income2 function returning amount2 value\n",
    "# and that value stored in value_amount\n",
    "# value_amount is 70000"
   ]
  },
  {
   "cell_type": "code",
   "execution_count": 114,
   "id": "d18e4ce3",
   "metadata": {},
   "outputs": [
    {
     "data": {
      "text/plain": [
       "70000"
      ]
     },
     "execution_count": 114,
     "metadata": {},
     "output_type": "execute_result"
    }
   ],
   "source": [
    "value_Amount"
   ]
  },
  {
   "cell_type": "code",
   "execution_count": 130,
   "id": "b992fc4f",
   "metadata": {},
   "outputs": [],
   "source": [
    "def sum_avg1(num1,num2):\n",
    "    s1=num1+num2\n",
    "    a1=s1/2\n",
    "    return(s1,a1)  # how many variables =2"
   ]
  },
  {
   "cell_type": "code",
   "execution_count": 131,
   "id": "eff84e65",
   "metadata": {},
   "outputs": [],
   "source": [
    "summation,average=sum_avg1(20,30)\n",
    "\n",
    "# summation value is s1\n",
    "# a1 is stored in average"
   ]
  },
  {
   "cell_type": "code",
   "execution_count": 132,
   "id": "ee2d52f7",
   "metadata": {},
   "outputs": [
    {
     "data": {
      "text/plain": [
       "50"
      ]
     },
     "execution_count": 132,
     "metadata": {},
     "output_type": "execute_result"
    }
   ],
   "source": [
    "summation"
   ]
  },
  {
   "cell_type": "code",
   "execution_count": 133,
   "id": "95192681",
   "metadata": {},
   "outputs": [
    {
     "data": {
      "text/plain": [
       "25.0"
      ]
     },
     "execution_count": 133,
     "metadata": {},
     "output_type": "execute_result"
    }
   ],
   "source": [
    "average"
   ]
  },
  {
   "cell_type": "code",
   "execution_count": 135,
   "id": "c52a892e",
   "metadata": {},
   "outputs": [
    {
     "name": "stdout",
     "output_type": "stream",
     "text": [
      "enter a number:67\n",
      "It is a odd number\n"
     ]
    }
   ],
   "source": [
    "# even -odd prgrm\n",
    "num=eval(input(\"enter a number:\"))\n",
    "if num%2==0:\n",
    "    print(\"It is a even number\")\n",
    "    \n",
    "else:\n",
    "    print(\"It is a odd number\")"
   ]
  },
  {
   "cell_type": "code",
   "execution_count": 138,
   "id": "8a39eea1",
   "metadata": {},
   "outputs": [],
   "source": [
    "def even_odd_no_arguments():\n",
    "    num=eval(input(\"enter a number:\"))\n",
    "    if num%2==0:\n",
    "        print(\"It is a even number\")\n",
    "\n",
    "    else:\n",
    "        print(\"It is a odd number\")"
   ]
  },
  {
   "cell_type": "code",
   "execution_count": 139,
   "id": "590649b6",
   "metadata": {},
   "outputs": [
    {
     "name": "stdout",
     "output_type": "stream",
     "text": [
      "enter a number:79\n",
      "It is a odd number\n"
     ]
    }
   ],
   "source": [
    "even_odd_no_arguments()"
   ]
  },
  {
   "cell_type": "code",
   "execution_count": 140,
   "id": "8c8793ea",
   "metadata": {},
   "outputs": [],
   "source": [
    "def even_odd_with_arguments(num):\n",
    "    if num%2==0:\n",
    "        print(\"It is a even number\")\n",
    "\n",
    "    else:\n",
    "        print(\"It is a odd number\")"
   ]
  },
  {
   "cell_type": "code",
   "execution_count": 141,
   "id": "21c25b01",
   "metadata": {},
   "outputs": [
    {
     "name": "stdout",
     "output_type": "stream",
     "text": [
      "It is a odd number\n"
     ]
    }
   ],
   "source": [
    "even_odd_with_arguments(89)"
   ]
  },
  {
   "cell_type": "code",
   "execution_count": null,
   "id": "3a8bd055",
   "metadata": {},
   "outputs": [],
   "source": [
    "# fUNCTIONS IN FUNCTIONS"
   ]
  },
  {
   "cell_type": "code",
   "execution_count": 142,
   "id": "e4fb59f5",
   "metadata": {},
   "outputs": [],
   "source": [
    "def good():\n",
    "    print(\"Good morning\")"
   ]
  },
  {
   "cell_type": "code",
   "execution_count": 145,
   "id": "a1630b1e",
   "metadata": {},
   "outputs": [],
   "source": [
    "def greet():\n",
    "    print(\"Hello\")\n",
    "    good()\n",
    "    \n",
    "# Greet \n",
    "# good\n",
    "# Inside greet function we are calling good fumction"
   ]
  },
  {
   "cell_type": "code",
   "execution_count": 146,
   "id": "7443f7e6",
   "metadata": {},
   "outputs": [
    {
     "name": "stdout",
     "output_type": "stream",
     "text": [
      "Hello\n",
      "Good morning\n"
     ]
    }
   ],
   "source": [
    "greet()"
   ]
  },
  {
   "cell_type": "code",
   "execution_count": null,
   "id": "89b39111",
   "metadata": {},
   "outputs": [],
   "source": []
  },
  {
   "cell_type": "code",
   "execution_count": null,
   "id": "375efd06",
   "metadata": {},
   "outputs": [],
   "source": []
  },
  {
   "cell_type": "code",
   "execution_count": null,
   "id": "217ed115",
   "metadata": {},
   "outputs": [],
   "source": []
  },
  {
   "cell_type": "code",
   "execution_count": null,
   "id": "2d798e2d",
   "metadata": {},
   "outputs": [],
   "source": []
  },
  {
   "cell_type": "code",
   "execution_count": null,
   "id": "757fed90",
   "metadata": {},
   "outputs": [],
   "source": []
  },
  {
   "cell_type": "code",
   "execution_count": null,
   "id": "2531ccf4",
   "metadata": {},
   "outputs": [],
   "source": []
  }
 ],
 "metadata": {
  "kernelspec": {
   "display_name": "Python 3",
   "language": "python",
   "name": "python3"
  },
  "language_info": {
   "codemirror_mode": {
    "name": "ipython",
    "version": 3
   },
   "file_extension": ".py",
   "mimetype": "text/x-python",
   "name": "python",
   "nbconvert_exporter": "python",
   "pygments_lexer": "ipython3",
   "version": "3.8.8"
  }
 },
 "nbformat": 4,
 "nbformat_minor": 5
}
