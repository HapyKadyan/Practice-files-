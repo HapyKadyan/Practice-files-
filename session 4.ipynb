{
 "cells": [
  {
   "cell_type": "markdown",
   "id": "c044ec49",
   "metadata": {},
   "source": [
    "# python operators"
   ]
  },
  {
   "cell_type": "markdown",
   "id": "c45e5003",
   "metadata": {},
   "source": [
    "- Arithmetic operators\n",
    "- Relational operators\n",
    "- Membership operators\n",
    "- Bitwise operators"
   ]
  },
  {
   "cell_type": "markdown",
   "id": "13b32add",
   "metadata": {},
   "source": [
    "$arithmetic$ $operators$ "
   ]
  },
  {
   "cell_type": "code",
   "execution_count": null,
   "id": "add6f1ab",
   "metadata": {},
   "outputs": [],
   "source": [
    "esc + m open markdown"
   ]
  },
  {
   "cell_type": "code",
   "execution_count": null,
   "id": "ba2727ab",
   "metadata": {},
   "outputs": [],
   "source": [
    "# addition(+)\n",
    "# substraction(-)\n",
    "# multiplication(*)\n",
    "# modulus(%)\n",
    "# division(/)\n",
    "# floor division(//)\n",
    "# exponential(**)"
   ]
  },
  {
   "cell_type": "markdown",
   "id": "6c0dee6d",
   "metadata": {},
   "source": [
    "$addition$ \n"
   ]
  },
  {
   "cell_type": "code",
   "execution_count": 1,
   "id": "c120683e",
   "metadata": {},
   "outputs": [
    {
     "data": {
      "text/plain": [
       "7500.0"
      ]
     },
     "execution_count": 1,
     "metadata": {},
     "output_type": "execute_result"
    }
   ],
   "source": [
    "salary=5000.0\n",
    "bonus=2500\n",
    "total_income=salary+bonus\n",
    "total_income"
   ]
  },
  {
   "cell_type": "code",
   "execution_count": 2,
   "id": "08375914",
   "metadata": {},
   "outputs": [
    {
     "data": {
      "text/plain": [
       "(float, int)"
      ]
     },
     "execution_count": 2,
     "metadata": {},
     "output_type": "execute_result"
    }
   ],
   "source": [
    "type(salary),type(bonus)"
   ]
  },
  {
   "cell_type": "code",
   "execution_count": 4,
   "id": "8346487e",
   "metadata": {},
   "outputs": [
    {
     "data": {
      "text/plain": [
       "'jamesanderson'"
      ]
     },
     "execution_count": 4,
     "metadata": {},
     "output_type": "execute_result"
    }
   ],
   "source": [
    "first_name=\"james\"\n",
    "second_name=\"anderson\"\n",
    "first_name+second_name"
   ]
  },
  {
   "cell_type": "code",
   "execution_count": null,
   "id": "f2fd9ffa",
   "metadata": {},
   "outputs": [],
   "source": [
    "# to put gap bw james and anderson"
   ]
  },
  {
   "cell_type": "code",
   "execution_count": 6,
   "id": "dab47e35",
   "metadata": {},
   "outputs": [
    {
     "data": {
      "text/plain": [
       "'james anderson'"
      ]
     },
     "execution_count": 6,
     "metadata": {},
     "output_type": "execute_result"
    }
   ],
   "source": [
    "first_name=\"james\"\n",
    "second_name=\" \"\n",
    "third_name=\"anderson\"\n",
    "first_name+second_name+third_name"
   ]
  },
  {
   "cell_type": "code",
   "execution_count": 7,
   "id": "584c1423",
   "metadata": {},
   "outputs": [
    {
     "data": {
      "text/plain": [
       "'james anderson'"
      ]
     },
     "execution_count": 7,
     "metadata": {},
     "output_type": "execute_result"
    }
   ],
   "source": [
    "first_name=\"james\"\n",
    "second_name=\"anderson\"\n",
    "first_name+\" \"+second_name"
   ]
  },
  {
   "cell_type": "code",
   "execution_count": 8,
   "id": "74c054ac",
   "metadata": {},
   "outputs": [
    {
     "data": {
      "text/plain": [
       "'james anderson'"
      ]
     },
     "execution_count": 8,
     "metadata": {},
     "output_type": "execute_result"
    }
   ],
   "source": [
    "first_name=\"james \"\n",
    "second_name=\"anderson\"\n",
    "first_name+second_name"
   ]
  },
  {
   "cell_type": "code",
   "execution_count": 9,
   "id": "78441486",
   "metadata": {},
   "outputs": [
    {
     "ename": "TypeError",
     "evalue": "can only concatenate str (not \"int\") to str",
     "output_type": "error",
     "traceback": [
      "\u001b[1;31m---------------------------------------------------------------------------\u001b[0m",
      "\u001b[1;31mTypeError\u001b[0m                                 Traceback (most recent call last)",
      "Input \u001b[1;32mIn [9]\u001b[0m, in \u001b[0;36m<cell line: 3>\u001b[1;34m()\u001b[0m\n\u001b[0;32m      1\u001b[0m text\u001b[38;5;241m=\u001b[39m\u001b[38;5;124m\"\u001b[39m\u001b[38;5;124mage is\u001b[39m\u001b[38;5;124m\"\u001b[39m\n\u001b[0;32m      2\u001b[0m age\u001b[38;5;241m=\u001b[39m \u001b[38;5;241m22\u001b[39m\n\u001b[1;32m----> 3\u001b[0m \u001b[43mtext\u001b[49m\u001b[43m \u001b[49m\u001b[38;5;241;43m+\u001b[39;49m\u001b[43m \u001b[49m\u001b[43mage\u001b[49m\n",
      "\u001b[1;31mTypeError\u001b[0m: can only concatenate str (not \"int\") to str"
     ]
    }
   ],
   "source": [
    "text=\"age is\" # string\n",
    "age= 22       #int    # we cant add string and int \n",
    "text + age            # we can add/concatenate string and string"
   ]
  },
  {
   "cell_type": "code",
   "execution_count": null,
   "id": "383599b3",
   "metadata": {},
   "outputs": [],
   "source": [
    "# if we want get the answer we use type casting\n",
    "# or put quotes on "
   ]
  },
  {
   "cell_type": "code",
   "execution_count": 11,
   "id": "5a9891b2",
   "metadata": {},
   "outputs": [
    {
     "data": {
      "text/plain": [
       "'age is 22'"
      ]
     },
     "execution_count": 11,
     "metadata": {},
     "output_type": "execute_result"
    }
   ],
   "source": [
    "text=\"age is \"\n",
    "age=str(age)\n",
    "text + age"
   ]
  },
  {
   "cell_type": "code",
   "execution_count": 14,
   "id": "411959b2",
   "metadata": {},
   "outputs": [
    {
     "data": {
      "text/plain": [
       "'age is 22'"
      ]
     },
     "execution_count": 14,
     "metadata": {},
     "output_type": "execute_result"
    }
   ],
   "source": [
    "text=\"age is \"\n",
    "age = 22\n",
    "text+str(age)"
   ]
  },
  {
   "cell_type": "code",
   "execution_count": 15,
   "id": "d307b7b2",
   "metadata": {},
   "outputs": [
    {
     "data": {
      "text/plain": [
       "'age is 22'"
      ]
     },
     "execution_count": 15,
     "metadata": {},
     "output_type": "execute_result"
    }
   ],
   "source": [
    "text=\"age is \" # string\n",
    "age=\"22\"       # string\n",
    "text+age"
   ]
  },
  {
   "cell_type": "code",
   "execution_count": 16,
   "id": "ee3436e8",
   "metadata": {},
   "outputs": [
    {
     "data": {
      "text/plain": [
       "'i love python'"
      ]
     },
     "execution_count": 16,
     "metadata": {},
     "output_type": "execute_result"
    }
   ],
   "source": [
    "text1=\"i love\"\n",
    "text2=\"python\"\n",
    "text1+\" \"+text2"
   ]
  },
  {
   "cell_type": "code",
   "execution_count": 17,
   "id": "136422ad",
   "metadata": {},
   "outputs": [
    {
     "data": {
      "text/plain": [
       "'ramesh marks is 22'"
      ]
     },
     "execution_count": 17,
     "metadata": {},
     "output_type": "execute_result"
    }
   ],
   "source": [
    "person=\"ramesh marks is \"\n",
    "marks=22\n",
    "person+str(marks)"
   ]
  },
  {
   "cell_type": "markdown",
   "id": "aae60056",
   "metadata": {},
   "source": [
    "## $substraction$"
   ]
  },
  {
   "cell_type": "code",
   "execution_count": 18,
   "id": "778e10fb",
   "metadata": {},
   "outputs": [
    {
     "data": {
      "text/plain": [
       "497500.0"
      ]
     },
     "execution_count": 18,
     "metadata": {},
     "output_type": "execute_result"
    }
   ],
   "source": [
    "income=500000.0\n",
    "tax=2500\n",
    "total_income=income-tax\n",
    "total_income"
   ]
  },
  {
   "cell_type": "code",
   "execution_count": 19,
   "id": "9acb9f33",
   "metadata": {},
   "outputs": [
    {
     "ename": "TypeError",
     "evalue": "unsupported operand type(s) for -: 'str' and 'str'",
     "output_type": "error",
     "traceback": [
      "\u001b[1;31m---------------------------------------------------------------------------\u001b[0m",
      "\u001b[1;31mTypeError\u001b[0m                                 Traceback (most recent call last)",
      "Input \u001b[1;32mIn [19]\u001b[0m, in \u001b[0;36m<cell line: 3>\u001b[1;34m()\u001b[0m\n\u001b[0;32m      1\u001b[0m first_name\u001b[38;5;241m=\u001b[39m\u001b[38;5;124m\"\u001b[39m\u001b[38;5;124mjames\u001b[39m\u001b[38;5;124m\"\u001b[39m\n\u001b[0;32m      2\u001b[0m second_name\u001b[38;5;241m=\u001b[39m\u001b[38;5;124m\"\u001b[39m\u001b[38;5;124manderson\u001b[39m\u001b[38;5;124m\"\u001b[39m\n\u001b[1;32m----> 3\u001b[0m \u001b[43mfirst_name\u001b[49m\u001b[38;5;241;43m-\u001b[39;49m\u001b[43msecond_name\u001b[49m\n",
      "\u001b[1;31mTypeError\u001b[0m: unsupported operand type(s) for -: 'str' and 'str'"
     ]
    }
   ],
   "source": [
    "first_name=\"james\"   # we cannot substract string into string\n",
    "second_name=\"anderson\"\n",
    "first_name-second_name"
   ]
  },
  {
   "cell_type": "code",
   "execution_count": 20,
   "id": "1384f38f",
   "metadata": {},
   "outputs": [
    {
     "ename": "TypeError",
     "evalue": "unsupported operand type(s) for -: 'str' and 'str'",
     "output_type": "error",
     "traceback": [
      "\u001b[1;31m---------------------------------------------------------------------------\u001b[0m",
      "\u001b[1;31mTypeError\u001b[0m                                 Traceback (most recent call last)",
      "Input \u001b[1;32mIn [20]\u001b[0m, in \u001b[0;36m<cell line: 3>\u001b[1;34m()\u001b[0m\n\u001b[0;32m      1\u001b[0m first_name\u001b[38;5;241m=\u001b[39m\u001b[38;5;124m\"\u001b[39m\u001b[38;5;124mjames\u001b[39m\u001b[38;5;124m\"\u001b[39m\n\u001b[0;32m      2\u001b[0m second_name\u001b[38;5;241m=\u001b[39m\u001b[38;5;124m\"\u001b[39m\u001b[38;5;124mjames\u001b[39m\u001b[38;5;124m\"\u001b[39m\n\u001b[1;32m----> 3\u001b[0m \u001b[43mfirst_name\u001b[49m\u001b[38;5;241;43m-\u001b[39;49m\u001b[43msecond_name\u001b[49m\n",
      "\u001b[1;31mTypeError\u001b[0m: unsupported operand type(s) for -: 'str' and 'str'"
     ]
    }
   ],
   "source": [
    "first_name=\"james\"\n",
    "second_name=\"james\"\n",
    "first_name-second_name"
   ]
  },
  {
   "cell_type": "markdown",
   "id": "9babc116",
   "metadata": {},
   "source": [
    "## $Multiplication$"
   ]
  },
  {
   "cell_type": "code",
   "execution_count": 22,
   "id": "0f8a9651",
   "metadata": {},
   "outputs": [
    {
     "data": {
      "text/plain": [
       "1500"
      ]
     },
     "execution_count": 22,
     "metadata": {},
     "output_type": "execute_result"
    }
   ],
   "source": [
    "price_per_apple=10\n",
    "total_apples=150\n",
    "total_amount=price_per_apple*total_apples\n",
    "total_amount"
   ]
  },
  {
   "cell_type": "code",
   "execution_count": 23,
   "id": "d51a9ecc",
   "metadata": {},
   "outputs": [
    {
     "data": {
      "text/plain": [
       "1575.0"
      ]
     },
     "execution_count": 23,
     "metadata": {},
     "output_type": "execute_result"
    }
   ],
   "source": [
    "price_per_apple=10.5  # float\n",
    "total_apples=150      # int\n",
    "total_amount=price_per_apple*total_apples\n",
    "total_amount"
   ]
  },
  {
   "cell_type": "code",
   "execution_count": 24,
   "id": "31c74a02",
   "metadata": {},
   "outputs": [
    {
     "ename": "TypeError",
     "evalue": "can't multiply sequence by non-int of type 'str'",
     "output_type": "error",
     "traceback": [
      "\u001b[1;31m---------------------------------------------------------------------------\u001b[0m",
      "\u001b[1;31mTypeError\u001b[0m                                 Traceback (most recent call last)",
      "Input \u001b[1;32mIn [24]\u001b[0m, in \u001b[0;36m<cell line: 2>\u001b[1;34m()\u001b[0m\n\u001b[0;32m      1\u001b[0m city\u001b[38;5;241m=\u001b[39m\u001b[38;5;124m\"\u001b[39m\u001b[38;5;124mmumbai\u001b[39m\u001b[38;5;124m\"\u001b[39m\n\u001b[1;32m----> 2\u001b[0m \u001b[43mcity\u001b[49m\u001b[38;5;241;43m*\u001b[39;49m\u001b[43mcity\u001b[49m\n",
      "\u001b[1;31mTypeError\u001b[0m: can't multiply sequence by non-int of type 'str'"
     ]
    }
   ],
   "source": [
    "city=\"mumbai\"\n",
    "city*city    # we cant multiply sequence by non-int of type str"
   ]
  },
  {
   "cell_type": "code",
   "execution_count": 25,
   "id": "415cbb35",
   "metadata": {},
   "outputs": [
    {
     "data": {
      "text/plain": [
       "'mumbaimumbaimumbai'"
      ]
     },
     "execution_count": 25,
     "metadata": {},
     "output_type": "execute_result"
    }
   ],
   "source": [
    "city*3"
   ]
  },
  {
   "cell_type": "code",
   "execution_count": 26,
   "id": "f51be235",
   "metadata": {},
   "outputs": [
    {
     "data": {
      "text/plain": [
       "'mumbaimumbaimumbai'"
      ]
     },
     "execution_count": 26,
     "metadata": {},
     "output_type": "execute_result"
    }
   ],
   "source": [
    "city+city+city"
   ]
  },
  {
   "cell_type": "code",
   "execution_count": null,
   "id": "29513e3f",
   "metadata": {},
   "outputs": [],
   "source": [
    "# we cant multiply,substract two string\n",
    "# we can do addition/concatination"
   ]
  },
  {
   "cell_type": "code",
   "execution_count": null,
   "id": "106f1950",
   "metadata": {},
   "outputs": [],
   "source": []
  },
  {
   "cell_type": "markdown",
   "id": "b1fa929f",
   "metadata": {},
   "source": [
    "## $Division$"
   ]
  },
  {
   "cell_type": "code",
   "execution_count": 29,
   "id": "08ac1193",
   "metadata": {},
   "outputs": [
    {
     "data": {
      "text/plain": [
       "200.0"
      ]
     },
     "execution_count": 29,
     "metadata": {},
     "output_type": "execute_result"
    }
   ],
   "source": [
    "total_cost_of_apples=2000\n",
    "no_of_apples=10\n",
    "price_per_apples=total_cost_of_apples/no_of_apples\n",
    "price_per_apples"
   ]
  },
  {
   "cell_type": "code",
   "execution_count": 31,
   "id": "f5a772a6",
   "metadata": {},
   "outputs": [
    {
     "data": {
      "text/plain": [
       "52.36363636363637"
      ]
     },
     "execution_count": 31,
     "metadata": {},
     "output_type": "execute_result"
    }
   ],
   "source": [
    "total_cost_of_apples=576\n",
    "no_of_apples=11\n",
    "price_per_apples=total_cost_of_apples/no_of_apples\n",
    "price_per_apples"
   ]
  },
  {
   "cell_type": "code",
   "execution_count": null,
   "id": "0d8f906a",
   "metadata": {},
   "outputs": [],
   "source": [
    "# we will round concept further to how many values we need after decimal"
   ]
  },
  {
   "cell_type": "code",
   "execution_count": 32,
   "id": "6a151374",
   "metadata": {},
   "outputs": [
    {
     "data": {
      "text/plain": [
       "'A/B'"
      ]
     },
     "execution_count": 32,
     "metadata": {},
     "output_type": "execute_result"
    }
   ],
   "source": [
    "\"A/B\""
   ]
  },
  {
   "cell_type": "code",
   "execution_count": 33,
   "id": "83704603",
   "metadata": {
    "collapsed": true
   },
   "outputs": [
    {
     "ename": "TypeError",
     "evalue": "unsupported operand type(s) for /: 'str' and 'str'",
     "output_type": "error",
     "traceback": [
      "\u001b[1;31m---------------------------------------------------------------------------\u001b[0m",
      "\u001b[1;31mTypeError\u001b[0m                                 Traceback (most recent call last)",
      "Input \u001b[1;32mIn [33]\u001b[0m, in \u001b[0;36m<cell line: 1>\u001b[1;34m()\u001b[0m\n\u001b[1;32m----> 1\u001b[0m \u001b[38;5;124;43m\"\u001b[39;49m\u001b[38;5;124;43mA\u001b[39;49m\u001b[38;5;124;43m\"\u001b[39;49m\u001b[38;5;241;43m/\u001b[39;49m\u001b[38;5;124;43m\"\u001b[39;49m\u001b[38;5;124;43mB\u001b[39;49m\u001b[38;5;124;43m\"\u001b[39;49m\n",
      "\u001b[1;31mTypeError\u001b[0m: unsupported operand type(s) for /: 'str' and 'str'"
     ]
    }
   ],
   "source": [
    "\"A\"/\"B\""
   ]
  },
  {
   "cell_type": "markdown",
   "id": "883df674",
   "metadata": {},
   "source": [
    "## $modulus$ $$$$ $operator $"
   ]
  },
  {
   "cell_type": "markdown",
   "id": "2d917e27",
   "metadata": {},
   "source": [
    "- used to find remainder\n",
    "- symbol=%"
   ]
  },
  {
   "cell_type": "code",
   "execution_count": 34,
   "id": "d143488d",
   "metadata": {},
   "outputs": [
    {
     "data": {
      "text/plain": [
       "1"
      ]
     },
     "execution_count": 34,
     "metadata": {},
     "output_type": "execute_result"
    }
   ],
   "source": [
    "num1=5\n",
    "num2=2\n",
    "value=num1%num2\n",
    "value"
   ]
  },
  {
   "cell_type": "markdown",
   "id": "024b75d6",
   "metadata": {},
   "source": [
    "$a$ $$$$\n",
    "$a$"
   ]
  },
  {
   "cell_type": "code",
   "execution_count": 35,
   "id": "349c41a2",
   "metadata": {},
   "outputs": [
    {
     "data": {
      "text/plain": [
       "2"
      ]
     },
     "execution_count": 35,
     "metadata": {},
     "output_type": "execute_result"
    }
   ],
   "source": [
    "num1=50\n",
    "num2=24\n",
    "value=num1%num2\n",
    "value"
   ]
  },
  {
   "cell_type": "code",
   "execution_count": 37,
   "id": "a1e02c4f",
   "metadata": {},
   "outputs": [
    {
     "name": "stdout",
     "output_type": "stream",
     "text": [
      "the remainder is: 2\n"
     ]
    }
   ],
   "source": [
    "print(\"the remainder is:\",value)"
   ]
  },
  {
   "cell_type": "code",
   "execution_count": null,
   "id": "35075043",
   "metadata": {},
   "outputs": [],
   "source": []
  },
  {
   "cell_type": "markdown",
   "id": "2a3f8edc",
   "metadata": {},
   "source": [
    "## $$floor$$ $$division$$"
   ]
  },
  {
   "cell_type": "markdown",
   "id": "c12b2e22",
   "metadata": {},
   "source": [
    "- used to get quotient\n",
    "- symbol=//"
   ]
  },
  {
   "cell_type": "code",
   "execution_count": 39,
   "id": "c530766e",
   "metadata": {},
   "outputs": [
    {
     "name": "stdout",
     "output_type": "stream",
     "text": [
      "the quotient is: 2\n"
     ]
    }
   ],
   "source": [
    "num1=5\n",
    "num2=2\n",
    "value=num1//num2\n",
    "print(\"the quotient is:\",value)"
   ]
  },
  {
   "cell_type": "code",
   "execution_count": 41,
   "id": "bbde3d50",
   "metadata": {},
   "outputs": [
    {
     "name": "stdout",
     "output_type": "stream",
     "text": [
      "the quotient is: 0\n"
     ]
    }
   ],
   "source": [
    "num1=509\n",
    "num2=2222\n",
    "value=num1//num2\n",
    "print(\"the quotient is:\",value)"
   ]
  },
  {
   "cell_type": "code",
   "execution_count": null,
   "id": "dc7e4db5",
   "metadata": {},
   "outputs": [],
   "source": []
  },
  {
   "cell_type": "markdown",
   "id": "3c672c9f",
   "metadata": {},
   "source": [
    "## $$Exponential$$"
   ]
  },
  {
   "cell_type": "code",
   "execution_count": 42,
   "id": "0b11c19b",
   "metadata": {},
   "outputs": [
    {
     "data": {
      "text/plain": [
       "400"
      ]
     },
     "execution_count": 42,
     "metadata": {},
     "output_type": "execute_result"
    }
   ],
   "source": [
    "square_side=20\n",
    "area_of_square=20**2 # 20*20\n",
    "area_of_square"
   ]
  },
  {
   "cell_type": "code",
   "execution_count": 44,
   "id": "87e7b88c",
   "metadata": {},
   "outputs": [
    {
     "data": {
      "text/plain": [
       "8000"
      ]
     },
     "execution_count": 44,
     "metadata": {},
     "output_type": "execute_result"
    }
   ],
   "source": [
    "cube_side=20\n",
    "volume_of_cube=20**3 #20*20*20\n",
    "volume_of_cube"
   ]
  },
  {
   "cell_type": "code",
   "execution_count": null,
   "id": "88c4c703",
   "metadata": {},
   "outputs": [],
   "source": []
  },
  {
   "cell_type": "markdown",
   "id": "ff9888fc",
   "metadata": {},
   "source": [
    "## 2. Relational operators"
   ]
  },
  {
   "cell_type": "markdown",
   "id": "2ac4610e",
   "metadata": {},
   "source": [
    "-  less than <\n",
    "-  less than or equal to <=\n",
    "-  greater than >\n",
    "-  greater than or equal to >=\n",
    "-  equal to ==\n",
    "-  not equal to !="
   ]
  },
  {
   "cell_type": "code",
   "execution_count": null,
   "id": "aec0a808",
   "metadata": {},
   "outputs": [],
   "source": [
    "# when you are applying any relation type\n",
    "# you are asking a question to computer\n",
    "# computer will give answer \n",
    " True/False.........> Boolean"
   ]
  },
  {
   "cell_type": "code",
   "execution_count": null,
   "id": "16cce7ba",
   "metadata": {},
   "outputs": [],
   "source": []
  },
  {
   "cell_type": "code",
   "execution_count": 47,
   "id": "79362a12",
   "metadata": {},
   "outputs": [
    {
     "data": {
      "text/plain": [
       "False"
      ]
     },
     "execution_count": 47,
     "metadata": {},
     "output_type": "execute_result"
    }
   ],
   "source": [
    "suresh_age=28    # one = sign means suresh age is equal to krishna,in this we are not asking \n",
    "krishna_age=25   # two == sign means we are asking pc is they are equal??\n",
    "suresh_age==krishna_age   "
   ]
  },
  {
   "cell_type": "code",
   "execution_count": 48,
   "id": "c95c1268",
   "metadata": {},
   "outputs": [
    {
     "data": {
      "text/plain": [
       "True"
      ]
     },
     "execution_count": 48,
     "metadata": {},
     "output_type": "execute_result"
    }
   ],
   "source": [
    "suresh_age>krishna_age"
   ]
  },
  {
   "cell_type": "code",
   "execution_count": 49,
   "id": "1b3cfe7f",
   "metadata": {},
   "outputs": [
    {
     "data": {
      "text/plain": [
       "True"
      ]
     },
     "execution_count": 49,
     "metadata": {},
     "output_type": "execute_result"
    }
   ],
   "source": [
    "suresh_age>=krishna_age  # give prefernce greater than inside of equal to ??"
   ]
  },
  {
   "cell_type": "code",
   "execution_count": 50,
   "id": "6ee6e69f",
   "metadata": {},
   "outputs": [
    {
     "data": {
      "text/plain": [
       "False"
      ]
     },
     "execution_count": 50,
     "metadata": {},
     "output_type": "execute_result"
    }
   ],
   "source": [
    "suresh_age<krishna_age"
   ]
  },
  {
   "cell_type": "code",
   "execution_count": 51,
   "id": "8c5f6357",
   "metadata": {},
   "outputs": [
    {
     "data": {
      "text/plain": [
       "False"
      ]
     },
     "execution_count": 51,
     "metadata": {},
     "output_type": "execute_result"
    }
   ],
   "source": [
    "suresh_age<=krishna_age"
   ]
  },
  {
   "cell_type": "code",
   "execution_count": 52,
   "id": "15f6e2c6",
   "metadata": {},
   "outputs": [
    {
     "data": {
      "text/plain": [
       "True"
      ]
     },
     "execution_count": 52,
     "metadata": {},
     "output_type": "execute_result"
    }
   ],
   "source": [
    "suresh_age!=krishna_age"
   ]
  },
  {
   "cell_type": "code",
   "execution_count": null,
   "id": "242c9e29",
   "metadata": {},
   "outputs": [],
   "source": []
  },
  {
   "cell_type": "markdown",
   "id": "29935750",
   "metadata": {},
   "source": [
    "## 3. Membership operators"
   ]
  },
  {
   "cell_type": "code",
   "execution_count": null,
   "id": "1268d3a0",
   "metadata": {},
   "outputs": [],
   "source": [
    "# in operator\n",
    "# this gives answer in True/False"
   ]
  },
  {
   "cell_type": "code",
   "execution_count": 54,
   "id": "cf635f7b",
   "metadata": {},
   "outputs": [
    {
     "data": {
      "text/plain": [
       "True"
      ]
     },
     "execution_count": 54,
     "metadata": {},
     "output_type": "execute_result"
    }
   ],
   "source": [
    "string=\"python\"   \n",
    "\"p\" in \"python\""
   ]
  },
  {
   "cell_type": "code",
   "execution_count": 55,
   "id": "ba9826d0",
   "metadata": {},
   "outputs": [
    {
     "data": {
      "text/plain": [
       "False"
      ]
     },
     "execution_count": 55,
     "metadata": {},
     "output_type": "execute_result"
    }
   ],
   "source": [
    "\"k\" in \"python\""
   ]
  },
  {
   "cell_type": "code",
   "execution_count": 56,
   "id": "23eea5cb",
   "metadata": {},
   "outputs": [
    {
     "data": {
      "text/plain": [
       "True"
      ]
     },
     "execution_count": 56,
     "metadata": {},
     "output_type": "execute_result"
    }
   ],
   "source": [
    "\"h\" in string"
   ]
  },
  {
   "cell_type": "code",
   "execution_count": 57,
   "id": "1e07cec0",
   "metadata": {},
   "outputs": [],
   "source": [
    "num= \"happy singh\""
   ]
  },
  {
   "cell_type": "code",
   "execution_count": 58,
   "id": "b46cdce1",
   "metadata": {},
   "outputs": [
    {
     "data": {
      "text/plain": [
       "True"
      ]
     },
     "execution_count": 58,
     "metadata": {},
     "output_type": "execute_result"
    }
   ],
   "source": [
    "\"a\" in num   # either we ask in variable(num) or in string(dont forget to put comma ) we didnt need to define string while asking"
   ]
  },
  {
   "cell_type": "code",
   "execution_count": 59,
   "id": "bd530654",
   "metadata": {},
   "outputs": [
    {
     "data": {
      "text/plain": [
       "True"
      ]
     },
     "execution_count": 59,
     "metadata": {},
     "output_type": "execute_result"
    }
   ],
   "source": [
    "\"s\" in num"
   ]
  },
  {
   "cell_type": "code",
   "execution_count": 60,
   "id": "05b925db",
   "metadata": {},
   "outputs": [
    {
     "data": {
      "text/plain": [
       "True"
      ]
     },
     "execution_count": 60,
     "metadata": {},
     "output_type": "execute_result"
    }
   ],
   "source": [
    "\"p\" in 'happy singh'"
   ]
  },
  {
   "cell_type": "code",
   "execution_count": 61,
   "id": "710a3a08",
   "metadata": {},
   "outputs": [
    {
     "data": {
      "text/plain": [
       "True"
      ]
     },
     "execution_count": 61,
     "metadata": {},
     "output_type": "execute_result"
    }
   ],
   "source": [
    "\" \" in num"
   ]
  },
  {
   "cell_type": "code",
   "execution_count": 62,
   "id": "3df935af",
   "metadata": {},
   "outputs": [
    {
     "data": {
      "text/plain": [
       "False"
      ]
     },
     "execution_count": 62,
     "metadata": {},
     "output_type": "execute_result"
    }
   ],
   "source": [
    "\" s\" in \"happy\""
   ]
  },
  {
   "cell_type": "code",
   "execution_count": 63,
   "id": "d6f384c6",
   "metadata": {},
   "outputs": [
    {
     "data": {
      "text/plain": [
       "True"
      ]
     },
     "execution_count": 63,
     "metadata": {},
     "output_type": "execute_result"
    }
   ],
   "source": [
    "\"k\" in \"kaka\""
   ]
  },
  {
   "cell_type": "code",
   "execution_count": 64,
   "id": "3c1254e1",
   "metadata": {},
   "outputs": [
    {
     "data": {
      "text/plain": [
       "True"
      ]
     },
     "execution_count": 64,
     "metadata": {},
     "output_type": "execute_result"
    }
   ],
   "source": [
    "\"34\" in \"340982\""
   ]
  },
  {
   "cell_type": "code",
   "execution_count": 65,
   "id": "868d2018",
   "metadata": {},
   "outputs": [
    {
     "ename": "TypeError",
     "evalue": "argument of type 'int' is not iterable",
     "output_type": "error",
     "traceback": [
      "\u001b[1;31m---------------------------------------------------------------------------\u001b[0m",
      "\u001b[1;31mTypeError\u001b[0m                                 Traceback (most recent call last)",
      "Input \u001b[1;32mIn [65]\u001b[0m, in \u001b[0;36m<cell line: 2>\u001b[1;34m()\u001b[0m\n\u001b[0;32m      1\u001b[0m a\u001b[38;5;241m=\u001b[39m\u001b[38;5;241m23213\u001b[39m\n\u001b[1;32m----> 2\u001b[0m \u001b[38;5;241;43m2\u001b[39;49m\u001b[43m \u001b[49m\u001b[38;5;129;43;01min\u001b[39;49;00m\u001b[43m \u001b[49m\u001b[43ma\u001b[49m\n",
      "\u001b[1;31mTypeError\u001b[0m: argument of type 'int' is not iterable"
     ]
    }
   ],
   "source": [
    "a=23213\n",
    "2 in a # but in list,tuple,set,dict work and string"
   ]
  },
  {
   "cell_type": "code",
   "execution_count": 67,
   "id": "9cbc2733",
   "metadata": {},
   "outputs": [
    {
     "name": "stdout",
     "output_type": "stream",
     "text": [
      "enter a number40.5\n"
     ]
    },
    {
     "ename": "ValueError",
     "evalue": "invalid literal for int() with base 10: '40.5'",
     "output_type": "error",
     "traceback": [
      "\u001b[1;31m---------------------------------------------------------------------------\u001b[0m",
      "\u001b[1;31mValueError\u001b[0m                                Traceback (most recent call last)",
      "Input \u001b[1;32mIn [67]\u001b[0m, in \u001b[0;36m<cell line: 1>\u001b[1;34m()\u001b[0m\n\u001b[1;32m----> 1\u001b[0m number1\u001b[38;5;241m=\u001b[39m\u001b[38;5;28;43mint\u001b[39;49m\u001b[43m(\u001b[49m\u001b[38;5;28;43minput\u001b[39;49m\u001b[43m(\u001b[49m\u001b[38;5;124;43m\"\u001b[39;49m\u001b[38;5;124;43menter a number\u001b[39;49m\u001b[38;5;124;43m\"\u001b[39;49m\u001b[43m)\u001b[49m\u001b[43m)\u001b[49m\n",
      "\u001b[1;31mValueError\u001b[0m: invalid literal for int() with base 10: '40.5'"
     ]
    }
   ],
   "source": [
    "number1=int(input(\"enter a number\"))"
   ]
  },
  {
   "cell_type": "code",
   "execution_count": null,
   "id": "4e426ec4",
   "metadata": {},
   "outputs": [],
   "source": [
    "# to avoid this we use eval concept"
   ]
  },
  {
   "cell_type": "markdown",
   "id": "acfc300d",
   "metadata": {},
   "source": [
    "# $$evaluate$$"
   ]
  },
  {
   "cell_type": "code",
   "execution_count": null,
   "id": "9ec6c7c7",
   "metadata": {},
   "outputs": [],
   "source": [
    "# eval - by using we can give int or float value\n",
    "# and we cannot need to change them again"
   ]
  },
  {
   "cell_type": "code",
   "execution_count": null,
   "id": "3bb4085d",
   "metadata": {},
   "outputs": [],
   "source": []
  },
  {
   "cell_type": "code",
   "execution_count": 68,
   "id": "732cc611",
   "metadata": {},
   "outputs": [
    {
     "name": "stdout",
     "output_type": "stream",
     "text": [
      "enter a number1:2\n",
      "enter a number2:3\n"
     ]
    }
   ],
   "source": [
    "number1=eval(input(\"enter a number1:\"))\n",
    "number2=eval(input(\"enter a number2:\"))\n",
    "addition=number1+number2\n"
   ]
  },
  {
   "cell_type": "code",
   "execution_count": 69,
   "id": "e57146ab",
   "metadata": {},
   "outputs": [
    {
     "name": "stdout",
     "output_type": "stream",
     "text": [
      "enter a number1:20\n",
      "enter a number2:3.9\n"
     ]
    },
    {
     "data": {
      "text/plain": [
       "23.9"
      ]
     },
     "execution_count": 69,
     "metadata": {},
     "output_type": "execute_result"
    }
   ],
   "source": [
    "number1=eval(input(\"enter a number1:\"))\n",
    "number2=eval(input(\"enter a number2:\"))\n",
    "addition=number1+number2\n",
    "addition"
   ]
  },
  {
   "cell_type": "code",
   "execution_count": 70,
   "id": "4d065054",
   "metadata": {},
   "outputs": [
    {
     "name": "stdout",
     "output_type": "stream",
     "text": [
      "enter a number1:93.5\n",
      "enter a number2:64.1\n",
      "the addition is 157.6\n"
     ]
    }
   ],
   "source": [
    "number1=eval(input(\"enter a number1:\"))\n",
    "number2=eval(input(\"enter a number2:\"))\n",
    "addition=number1+number2\n",
    "print(\"the addition is\",addition)"
   ]
  },
  {
   "cell_type": "code",
   "execution_count": 71,
   "id": "4592fbc0",
   "metadata": {},
   "outputs": [
    {
     "name": "stdout",
     "output_type": "stream",
     "text": [
      "enter a number1:45.1\n",
      "enter a number2:63\n",
      "the addition of 45.1 and 63 is 108.1\n"
     ]
    }
   ],
   "source": [
    "number1=eval(input(\"enter a number1:\"))\n",
    "number2=eval(input(\"enter a number2:\"))\n",
    "addition=number1+number2\n",
    "print(\"the addition of {} and {} is {}\".format(number1,number2,addition))"
   ]
  },
  {
   "cell_type": "code",
   "execution_count": 73,
   "id": "6e278e8c",
   "metadata": {},
   "outputs": [
    {
     "name": "stdout",
     "output_type": "stream",
     "text": [
      "enter a number1=51.9\n",
      "enter a number2=37\n",
      "enter a number3=99.6\n",
      "the product of 51.9, 37 and 99.6 is 191261.87999999998\n"
     ]
    }
   ],
   "source": [
    "number1=eval(input(\"enter a number1=\"))\n",
    "number2=eval(input(\"enter a number2=\"))\n",
    "number3=eval(input(\"enter a number3=\"))\n",
    "product=number1*number2*number3\n",
    "print(\"the product of {}, {} and {} is {}\".format(number1,number2,number3,product))"
   ]
  },
  {
   "cell_type": "code",
   "execution_count": null,
   "id": "544300b2",
   "metadata": {},
   "outputs": [],
   "source": [
    "# we study round concept further that how many we need after decimal"
   ]
  },
  {
   "cell_type": "code",
   "execution_count": 74,
   "id": "c1529bb1",
   "metadata": {},
   "outputs": [
    {
     "name": "stdout",
     "output_type": "stream",
     "text": [
      "enter a number1=2\n",
      "enter a number2=3\n",
      "enter a number3=4\n",
      "the square and sum of 2, 3 and 4 is 29\n"
     ]
    }
   ],
   "source": [
    "number1=eval(input(\"enter a number1=\"))\n",
    "number2=eval(input(\"enter a number2=\"))\n",
    "number3=eval(input(\"enter a number3=\"))\n",
    "square_and_sum=number1**2 + number2**2 + number3**2\n",
    "print(\"the square and sum of {}, {} and {} is {}\".format(number1,number2,number3,square_and_sum))"
   ]
  },
  {
   "cell_type": "code",
   "execution_count": 75,
   "id": "755f70d7",
   "metadata": {},
   "outputs": [
    {
     "name": "stdout",
     "output_type": "stream",
     "text": [
      "enter a number1=2\n",
      "enter a number2=3\n",
      "enter a number3=4\n",
      "the square of 2 is4, 3 is9, and 4 is 16, and sum is 29\n"
     ]
    }
   ],
   "source": [
    "number1=eval(input(\"enter a number1=\"))\n",
    "number2=eval(input(\"enter a number2=\"))\n",
    "number3=eval(input(\"enter a number3=\"))\n",
    "a=number1**2 \n",
    "b=number2**2\n",
    "c= number3**2\n",
    "answer=a+b+c\n",
    "print(\"the square of {} is{}, {} is{}, and {} is {}, and sum is {}\".format(number1,a,number2,b,number3,c,answer))"
   ]
  },
  {
   "cell_type": "code",
   "execution_count": 76,
   "id": "0a230d0c",
   "metadata": {},
   "outputs": [
    {
     "name": "stdout",
     "output_type": "stream",
     "text": [
      "enter a number1=20\n",
      "enter a number2=31.5\n",
      "enter a number3=100\n",
      "the square of 20 is 400, 31.5 is 992.25, and 100 is 10000, and sum is 11392.25\n"
     ]
    }
   ],
   "source": [
    "number1=eval(input(\"enter a number1=\"))\n",
    "number2=eval(input(\"enter a number2=\"))\n",
    "number3=eval(input(\"enter a number3=\"))\n",
    "a=number1**2 \n",
    "b=number2**2\n",
    "c= number3**2\n",
    "answer=a+b+c\n",
    "print(\"the square of {} is {}, {} is {}, and {} is {}, and sum is {}\".format(number1,a,number2,b,number3,c,answer))"
   ]
  },
  {
   "cell_type": "code",
   "execution_count": null,
   "id": "bccb6d99",
   "metadata": {},
   "outputs": [],
   "source": []
  },
  {
   "cell_type": "code",
   "execution_count": null,
   "id": "65a8d431",
   "metadata": {},
   "outputs": [],
   "source": []
  },
  {
   "cell_type": "code",
   "execution_count": null,
   "id": "4f834d75",
   "metadata": {},
   "outputs": [],
   "source": []
  },
  {
   "cell_type": "code",
   "execution_count": null,
   "id": "fc31cd54",
   "metadata": {},
   "outputs": [],
   "source": []
  },
  {
   "cell_type": "code",
   "execution_count": null,
   "id": "5a091ae6",
   "metadata": {},
   "outputs": [],
   "source": []
  },
  {
   "cell_type": "code",
   "execution_count": null,
   "id": "f5868f9e",
   "metadata": {},
   "outputs": [],
   "source": []
  },
  {
   "cell_type": "code",
   "execution_count": null,
   "id": "ec1b0f40",
   "metadata": {},
   "outputs": [],
   "source": []
  },
  {
   "cell_type": "code",
   "execution_count": null,
   "id": "5ad89bac",
   "metadata": {},
   "outputs": [],
   "source": []
  },
  {
   "cell_type": "code",
   "execution_count": null,
   "id": "fd512d36",
   "metadata": {},
   "outputs": [],
   "source": []
  },
  {
   "cell_type": "code",
   "execution_count": null,
   "id": "c1e6940a",
   "metadata": {},
   "outputs": [],
   "source": []
  },
  {
   "cell_type": "code",
   "execution_count": null,
   "id": "29ba0c77",
   "metadata": {},
   "outputs": [],
   "source": []
  },
  {
   "cell_type": "code",
   "execution_count": null,
   "id": "a0d3d59e",
   "metadata": {},
   "outputs": [],
   "source": []
  },
  {
   "cell_type": "code",
   "execution_count": null,
   "id": "0da39933",
   "metadata": {},
   "outputs": [],
   "source": []
  },
  {
   "cell_type": "code",
   "execution_count": null,
   "id": "18bcb505",
   "metadata": {},
   "outputs": [],
   "source": []
  },
  {
   "cell_type": "code",
   "execution_count": null,
   "id": "edabd866",
   "metadata": {},
   "outputs": [],
   "source": []
  },
  {
   "cell_type": "code",
   "execution_count": null,
   "id": "305f1066",
   "metadata": {},
   "outputs": [],
   "source": []
  },
  {
   "cell_type": "code",
   "execution_count": null,
   "id": "765878cd",
   "metadata": {},
   "outputs": [],
   "source": []
  },
  {
   "cell_type": "code",
   "execution_count": null,
   "id": "57f6df13",
   "metadata": {},
   "outputs": [],
   "source": []
  },
  {
   "cell_type": "code",
   "execution_count": null,
   "id": "15405905",
   "metadata": {},
   "outputs": [],
   "source": []
  },
  {
   "cell_type": "code",
   "execution_count": null,
   "id": "4ad3fc2a",
   "metadata": {},
   "outputs": [],
   "source": []
  },
  {
   "cell_type": "code",
   "execution_count": null,
   "id": "f7465f42",
   "metadata": {},
   "outputs": [],
   "source": []
  },
  {
   "cell_type": "code",
   "execution_count": null,
   "id": "cb914a8a",
   "metadata": {},
   "outputs": [],
   "source": []
  },
  {
   "cell_type": "code",
   "execution_count": null,
   "id": "53fa7124",
   "metadata": {},
   "outputs": [],
   "source": []
  },
  {
   "cell_type": "code",
   "execution_count": null,
   "id": "4c8f2bb6",
   "metadata": {},
   "outputs": [],
   "source": []
  },
  {
   "cell_type": "code",
   "execution_count": null,
   "id": "50b6ccea",
   "metadata": {},
   "outputs": [],
   "source": []
  },
  {
   "cell_type": "code",
   "execution_count": null,
   "id": "05bcad9d",
   "metadata": {},
   "outputs": [],
   "source": []
  },
  {
   "cell_type": "code",
   "execution_count": null,
   "id": "5058e14d",
   "metadata": {},
   "outputs": [],
   "source": []
  },
  {
   "cell_type": "code",
   "execution_count": null,
   "id": "28c1af50",
   "metadata": {},
   "outputs": [],
   "source": []
  },
  {
   "cell_type": "code",
   "execution_count": null,
   "id": "5be9b24e",
   "metadata": {},
   "outputs": [],
   "source": []
  },
  {
   "cell_type": "code",
   "execution_count": null,
   "id": "1b03ff6e",
   "metadata": {},
   "outputs": [],
   "source": []
  },
  {
   "cell_type": "code",
   "execution_count": null,
   "id": "f07e2f55",
   "metadata": {},
   "outputs": [],
   "source": []
  },
  {
   "cell_type": "code",
   "execution_count": null,
   "id": "e3db38ed",
   "metadata": {},
   "outputs": [],
   "source": []
  },
  {
   "cell_type": "code",
   "execution_count": null,
   "id": "c1d9e6ba",
   "metadata": {},
   "outputs": [],
   "source": []
  },
  {
   "cell_type": "code",
   "execution_count": null,
   "id": "8fe672b5",
   "metadata": {},
   "outputs": [],
   "source": []
  },
  {
   "cell_type": "code",
   "execution_count": null,
   "id": "21d05582",
   "metadata": {},
   "outputs": [],
   "source": []
  },
  {
   "cell_type": "code",
   "execution_count": null,
   "id": "77aeb2c8",
   "metadata": {},
   "outputs": [],
   "source": []
  },
  {
   "cell_type": "code",
   "execution_count": null,
   "id": "0c9765c1",
   "metadata": {},
   "outputs": [],
   "source": []
  },
  {
   "cell_type": "code",
   "execution_count": null,
   "id": "b970ae90",
   "metadata": {},
   "outputs": [],
   "source": []
  },
  {
   "cell_type": "code",
   "execution_count": null,
   "id": "54deac02",
   "metadata": {},
   "outputs": [],
   "source": []
  },
  {
   "cell_type": "code",
   "execution_count": null,
   "id": "f7629fe3",
   "metadata": {},
   "outputs": [],
   "source": []
  },
  {
   "cell_type": "code",
   "execution_count": null,
   "id": "863792d0",
   "metadata": {},
   "outputs": [],
   "source": []
  },
  {
   "cell_type": "code",
   "execution_count": null,
   "id": "3c566573",
   "metadata": {},
   "outputs": [],
   "source": []
  }
 ],
 "metadata": {
  "kernelspec": {
   "display_name": "Python 3 (ipykernel)",
   "language": "python",
   "name": "python3"
  },
  "language_info": {
   "codemirror_mode": {
    "name": "ipython",
    "version": 3
   },
   "file_extension": ".py",
   "mimetype": "text/x-python",
   "name": "python",
   "nbconvert_exporter": "python",
   "pygments_lexer": "ipython3",
   "version": "3.9.12"
  }
 },
 "nbformat": 4,
 "nbformat_minor": 5
}
