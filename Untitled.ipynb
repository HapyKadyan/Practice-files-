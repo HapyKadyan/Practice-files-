{
 "cells": [
  {
   "cell_type": "markdown",
   "id": "8c43f799",
   "metadata": {},
   "source": [
    "# qr code generator part 1"
   ]
  },
  {
   "cell_type": "code",
   "execution_count": 1,
   "id": "6dfe13c2",
   "metadata": {},
   "outputs": [
    {
     "ename": "ModuleNotFoundError",
     "evalue": "No module named 'qrcode'",
     "output_type": "error",
     "traceback": [
      "\u001b[1;31m---------------------------------------------------------------------------\u001b[0m",
      "\u001b[1;31mModuleNotFoundError\u001b[0m                       Traceback (most recent call last)",
      "Input \u001b[1;32mIn [1]\u001b[0m, in \u001b[0;36m<cell line: 1>\u001b[1;34m()\u001b[0m\n\u001b[1;32m----> 1\u001b[0m \u001b[38;5;28;01mimport\u001b[39;00m \u001b[38;5;21;01mqrcode\u001b[39;00m\n",
      "\u001b[1;31mModuleNotFoundError\u001b[0m: No module named 'qrcode'"
     ]
    }
   ],
   "source": [
    "import qrcode "
   ]
  },
  {
   "cell_type": "code",
   "execution_count": 2,
   "id": "4c45ccd3",
   "metadata": {},
   "outputs": [
    {
     "name": "stdout",
     "output_type": "stream",
     "text": [
      "Collecting qrcode\n",
      "  Downloading qrcode-7.3.1.tar.gz (43 kB)\n",
      "Requirement already satisfied: colorama in c:\\users\\visha\\anaconda3\\lib\\site-packages (from qrcode) (0.4.4)\n",
      "Building wheels for collected packages: qrcode\n",
      "  Building wheel for qrcode (setup.py): started\n",
      "  Building wheel for qrcode (setup.py): finished with status 'done'\n",
      "  Created wheel for qrcode: filename=qrcode-7.3.1-py3-none-any.whl size=40401 sha256=647ea5a94738c1c4411258697c8d01cb6936689fd5e3850e0726be7ed3b5d02f\n",
      "  Stored in directory: c:\\users\\visha\\appdata\\local\\pip\\cache\\wheels\\93\\54\\16\\55cec87f8d902ed84b94ab8fdb7e89ae1158c06e130bc83b03\n",
      "Successfully built qrcode\n",
      "Installing collected packages: qrcode\n",
      "Successfully installed qrcode-7.3.1\n"
     ]
    }
   ],
   "source": [
    "!pip install qrcode"
   ]
  },
  {
   "cell_type": "code",
   "execution_count": 4,
   "id": "d686023f",
   "metadata": {},
   "outputs": [],
   "source": [
    "import qrcode as qr \n",
    "img=qr.make(\"hello happy\") # create a variable then make a qr code with a message \n",
    "img.save(\"myfirstqrcode.png\") # saving , naming and format \n",
    "\n"
   ]
  },
  {
   "cell_type": "code",
   "execution_count": 6,
   "id": "45f02d7f",
   "metadata": {},
   "outputs": [],
   "source": [
    "import qrcode as qr \n",
    "img=qr.make('''hello happy\n",
    "            how are you''') # create a variable then make a qr code with a message \n",
    "img.save(\"myfirstqrcode.png\")"
   ]
  },
  {
   "cell_type": "code",
   "execution_count": 7,
   "id": "31b05439",
   "metadata": {},
   "outputs": [],
   "source": [
    "import qrcode as qr\n",
    "img=qr.make(\"https://www.youtube.com/\")\n",
    "img.save(\"youtubeweb.png\")"
   ]
  },
  {
   "cell_type": "markdown",
   "id": "e8269342",
   "metadata": {},
   "source": [
    "# part 2 "
   ]
  },
  {
   "cell_type": "code",
   "execution_count": 8,
   "id": "a9bf2c67",
   "metadata": {},
   "outputs": [],
   "source": [
    "# in this we can customize color size etc.."
   ]
  },
  {
   "cell_type": "code",
   "execution_count": 12,
   "id": "d098e8ae",
   "metadata": {},
   "outputs": [],
   "source": [
    "import qrcode \n",
    "from PIL import Image\n",
    "qr=qrcode.QRCode(version=3,\n",
    "                error_correction=qrcode.constants.ERROR_CORRECT_H, # high level error are corrected \n",
    "                box_size=10,border=4)\n",
    "qr.add_data(\"hello happy\") # adding data \n",
    "qr.make(fit=True) # make qr code  # fit is used when we are giving own size \n",
    "img=qr.make_image(fill_color=\"black\",back_color=\"pink\") # creating image of qr code \n",
    "img.save(\"heheheheh.png\") # saving image "
   ]
  },
  {
   "cell_type": "code",
   "execution_count": null,
   "id": "508e2ea3",
   "metadata": {},
   "outputs": [],
   "source": []
  },
  {
   "cell_type": "code",
   "execution_count": null,
   "id": "72ce3ddd",
   "metadata": {},
   "outputs": [],
   "source": []
  },
  {
   "cell_type": "markdown",
   "id": "4700b83a",
   "metadata": {},
   "source": [
    "# check validate email adress"
   ]
  },
  {
   "cell_type": "code",
   "execution_count": 13,
   "id": "1f619828",
   "metadata": {},
   "outputs": [],
   "source": [
    "# len shoud be >=6       # g@g.in\n",
    "# first letter should be alphabet \n",
    "# one @ used \n",
    "# dot must be palced before com and in \n",
    "# check space check any other symbol other than _ underscore"
   ]
  },
  {
   "cell_type": "code",
   "execution_count": 50,
   "id": "1b9a224c",
   "metadata": {},
   "outputs": [
    {
     "name": "stdout",
     "output_type": "stream",
     "text": [
      "Enter your email: ab @gmail.com\n",
      "right email\n"
     ]
    }
   ],
   "source": [
    "# using string function \n",
    "email=input(\"Enter your email: \")\n",
    "k,d,m=0,0,0\n",
    "if len(email)>=6: # checking length \n",
    "    if email[0].isalpha(): # first letter alpha only \n",
    "        if (\"@\" in email) and (email.count(\"@\")==1): # both condition must be true \n",
    "            if (email[-4]==\".\") ^ (email[-3]==\".\"): # xor operator # if condition are true give false \n",
    "                                                    # if both are false give false \n",
    "                                                    # only one condition must be true then it will give true\n",
    "                for i in email:   \n",
    "                    if i==i.isspace(): # checking if space is there \n",
    "                        print(\"space not allowed\")\n",
    "                        k=1\n",
    "                    elif i==i.isalpha(): # checking aplha values \n",
    "                        if i==i.upper(): # if any value is upper ?\n",
    "                            d=1\n",
    "                            print(\"upper case not allowed \",i)\n",
    "                    elif i==i.isdigit(): # if there is a digit # no problem continue \n",
    "                        continue\n",
    "                    elif i==\"_\" or i==\"@\" or i==\".\" : # if these are present continue \n",
    "                        continue\n",
    "                     # other than above values like # $ etc \n",
    "                        \n",
    "                if  k==1 or d==1 :\n",
    "                    print(\"wrong email\")\n",
    "                else:\n",
    "                    print(\"right email\")\n",
    "            else:\n",
    "                print(\"wrong email\")\n",
    "                print(\"use dot(.) sincerly \")\n",
    "        else:\n",
    "            print(\"use only one  @ \")\n",
    "    else:\n",
    "        print(\"wrong email\")\n",
    "        print(\"first letter alphabet only \")\n",
    "else:\n",
    "    print(\"wrong email\")\n",
    "    print(\"length should be greater than 6\")   "
   ]
  },
  {
   "cell_type": "code",
   "execution_count": null,
   "id": "9d7634d3",
   "metadata": {},
   "outputs": [],
   "source": [
    "# how to trace phone number current location "
   ]
  },
  {
   "cell_type": "code",
   "execution_count": 55,
   "id": "d19b547f",
   "metadata": {},
   "outputs": [
    {
     "name": "stdout",
     "output_type": "stream",
     "text": [
      "Collecting phonenumbers\n",
      "  Downloading phonenumbers-8.13.2-py2.py3-none-any.whl (2.6 MB)\n",
      "Installing collected packages: phonenumbers\n",
      "Successfully installed phonenumbers-8.13.2\n"
     ]
    }
   ],
   "source": [
    "!pip install phonenumbers"
   ]
  },
  {
   "cell_type": "code",
   "execution_count": 67,
   "id": "230723ce",
   "metadata": {},
   "outputs": [
    {
     "name": "stdout",
     "output_type": "stream",
     "text": [
      "enter your number with +__+917027177726\n",
      "Country Code: 91 National Number: 7027177726\n",
      "('Asia/Calcutta',)\n",
      "Vodafone\n",
      "India\n"
     ]
    }
   ],
   "source": [
    "import phonenumbers\n",
    "from phonenumbers import timezone,geocoder,carrier\n",
    "number=input(\"enter your number with +__\")\n",
    "phone=phonenumbers.parse(number) # this will seperate country code and number \n",
    "time=timezone.time_zones_for_number(phone) # this will tell location standard time zone of any any country \n",
    "car=carrier.name_for_number(phone,\"en\") # en stand for english # this will tell vi or jio etc..\n",
    "geo=geocoder.description_for_number(phone,\"en\")\n",
    "print(phone)\n",
    "print(time)\n",
    "print(car)\n",
    "print(geo)"
   ]
  },
  {
   "cell_type": "code",
   "execution_count": 68,
   "id": "464c2deb",
   "metadata": {},
   "outputs": [
    {
     "data": {
      "text/plain": [
       "['AsYouTypeFormatter',\n",
       " 'COUNTRY_CODES_FOR_NON_GEO_REGIONS',\n",
       " 'COUNTRY_CODE_TO_REGION_CODE',\n",
       " 'CountryCodeSource',\n",
       " 'FrozenPhoneNumber',\n",
       " 'Leniency',\n",
       " 'MatchType',\n",
       " 'NON_DIGITS_PATTERN',\n",
       " 'NumberFormat',\n",
       " 'NumberParseException',\n",
       " 'PhoneMetadata',\n",
       " 'PhoneNumber',\n",
       " 'PhoneNumberDesc',\n",
       " 'PhoneNumberFormat',\n",
       " 'PhoneNumberMatch',\n",
       " 'PhoneNumberMatcher',\n",
       " 'PhoneNumberType',\n",
       " 'REGION_CODE_FOR_NON_GEO_ENTITY',\n",
       " 'SUPPORTED_REGIONS',\n",
       " 'SUPPORTED_SHORT_REGIONS',\n",
       " 'ShortNumberCost',\n",
       " 'UNKNOWN_REGION',\n",
       " 'ValidationResult',\n",
       " '__all__',\n",
       " '__builtins__',\n",
       " '__cached__',\n",
       " '__doc__',\n",
       " '__file__',\n",
       " '__loader__',\n",
       " '__name__',\n",
       " '__package__',\n",
       " '__path__',\n",
       " '__spec__',\n",
       " '__version__',\n",
       " 'asyoutypeformatter',\n",
       " 'can_be_internationally_dialled',\n",
       " 'carrier',\n",
       " 'carrierdata',\n",
       " 'connects_to_emergency_number',\n",
       " 'convert_alpha_characters_in_number',\n",
       " 'country_code_for_region',\n",
       " 'country_code_for_valid_region',\n",
       " 'country_mobile_token',\n",
       " 'data',\n",
       " 'example_number',\n",
       " 'example_number_for_non_geo_entity',\n",
       " 'example_number_for_type',\n",
       " 'expected_cost',\n",
       " 'expected_cost_for_region',\n",
       " 'format_by_pattern',\n",
       " 'format_in_original_format',\n",
       " 'format_national_number_with_carrier_code',\n",
       " 'format_national_number_with_preferred_carrier_code',\n",
       " 'format_number',\n",
       " 'format_number_for_mobile_dialing',\n",
       " 'format_out_of_country_calling_number',\n",
       " 'format_out_of_country_keeping_alpha_chars',\n",
       " 'geocoder',\n",
       " 'geodata',\n",
       " 'invalid_example_number',\n",
       " 'is_alpha_number',\n",
       " 'is_carrier_specific',\n",
       " 'is_carrier_specific_for_region',\n",
       " 'is_emergency_number',\n",
       " 'is_mobile_number_portable_region',\n",
       " 'is_nanpa_country',\n",
       " 'is_number_geographical',\n",
       " 'is_number_match',\n",
       " 'is_number_type_geographical',\n",
       " 'is_possible_number',\n",
       " 'is_possible_number_for_type',\n",
       " 'is_possible_number_for_type_with_reason',\n",
       " 'is_possible_number_string',\n",
       " 'is_possible_number_with_reason',\n",
       " 'is_possible_short_number',\n",
       " 'is_possible_short_number_for_region',\n",
       " 'is_sms_service_for_region',\n",
       " 'is_valid_number',\n",
       " 'is_valid_number_for_region',\n",
       " 'is_valid_short_number',\n",
       " 'is_valid_short_number_for_region',\n",
       " 'length_of_geographical_area_code',\n",
       " 'length_of_national_destination_code',\n",
       " 'national_significant_number',\n",
       " 'ndd_prefix_for_region',\n",
       " 'normalize_diallable_chars_only',\n",
       " 'normalize_digits_only',\n",
       " 'number_type',\n",
       " 'parse',\n",
       " 'phonemetadata',\n",
       " 'phonenumber',\n",
       " 'phonenumbermatcher',\n",
       " 'phonenumberutil',\n",
       " 'prefix',\n",
       " 're_util',\n",
       " 'region_code_for_country_code',\n",
       " 'region_code_for_number',\n",
       " 'region_codes_for_country_code',\n",
       " 'shortdata',\n",
       " 'shortnumberinfo',\n",
       " 'supported_calling_codes',\n",
       " 'supported_types_for_non_geo_entity',\n",
       " 'supported_types_for_region',\n",
       " 'timezone',\n",
       " 'truncate_too_long_number',\n",
       " 'tzdata',\n",
       " 'unicode_util',\n",
       " 'util']"
      ]
     },
     "execution_count": 68,
     "metadata": {},
     "output_type": "execute_result"
    }
   ],
   "source": [
    "dir(phonenumbers)"
   ]
  },
  {
   "cell_type": "code",
   "execution_count": null,
   "id": "3efb0645",
   "metadata": {},
   "outputs": [],
   "source": []
  },
  {
   "cell_type": "markdown",
   "id": "e4b75364",
   "metadata": {},
   "source": [
    "# check validate email using regex"
   ]
  },
  {
   "cell_type": "code",
   "execution_count": 75,
   "id": "8091327d",
   "metadata": {},
   "outputs": [
    {
     "name": "stdout",
     "output_type": "stream",
     "text": [
      "Enter your email12fdmejn@gsfr.com\n",
      "wrong email\n"
     ]
    }
   ],
   "source": [
    "# a-z \n",
    "# 0-9\n",
    "# . _ time 1 \n",
    "# @ \n",
    "# . last 2,3 \n",
    "import re  # regex \n",
    "email_condition=\"^[a-z]+[\\._]?[a-z 0-9]+[@]\\w+[.]\\w{2,3}$\"\n",
    "user_email=input(\"Enter your email\")\n",
    "if re.search(email_condition,user_email):\n",
    "    print(\"right email\")\n",
    "else:\n",
    "    print(\"wrong email\")"
   ]
  },
  {
   "cell_type": "code",
   "execution_count": null,
   "id": "ce163bce",
   "metadata": {},
   "outputs": [],
   "source": [
    "# \"     \"\n",
    "# ^ means start with \n",
    "# + works as join condition \n",
    "# \\ ---- if a search a character in regex \n",
    "# ? means either . or _ used , at a time one is used ... both are not used(error)\n",
    "# [a-z 0-9]=[a-z]+[0-9]\n",
    "# \\w is used when we want to search a special character\n",
    "# {} curly brackets are used when we want search condtion on particular postion \n",
    "# $ we are using condition from backside "
   ]
  },
  {
   "cell_type": "code",
   "execution_count": 71,
   "id": "8b8992d6",
   "metadata": {},
   "outputs": [],
   "source": [
    "# dir(re)"
   ]
  },
  {
   "cell_type": "markdown",
   "id": "05dd8e80",
   "metadata": {},
   "source": [
    "# instagram bot automation"
   ]
  },
  {
   "cell_type": "code",
   "execution_count": 76,
   "id": "0ee95614",
   "metadata": {},
   "outputs": [
    {
     "name": "stdout",
     "output_type": "stream",
     "text": [
      "Collecting instabot\n",
      "  Downloading instabot-0.117.0.tar.gz (84 kB)\n",
      "Requirement already satisfied: certifi>=2019.11.28 in c:\\users\\visha\\anaconda3\\lib\\site-packages (from instabot) (2021.10.8)\n",
      "Requirement already satisfied: chardet>=3.0.4 in c:\\users\\visha\\anaconda3\\lib\\site-packages (from instabot) (4.0.0)\n",
      "Requirement already satisfied: future>=0.18.2 in c:\\users\\visha\\anaconda3\\lib\\site-packages (from instabot) (0.18.2)\n",
      "Collecting huepy>=1.2.1\n",
      "  Downloading huepy-1.2.1.tar.gz (15 kB)\n",
      "Requirement already satisfied: idna>=2.8 in c:\\users\\visha\\anaconda3\\lib\\site-packages (from instabot) (3.3)\n",
      "Requirement already satisfied: pysocks>=1.7.1 in c:\\users\\visha\\anaconda3\\lib\\site-packages (from instabot) (1.7.1)\n",
      "Requirement already satisfied: pytz>=2019.3 in c:\\users\\visha\\anaconda3\\lib\\site-packages (from instabot) (2021.3)\n",
      "Requirement already satisfied: requests>=2.22.0 in c:\\users\\visha\\anaconda3\\lib\\site-packages (from instabot) (2.27.1)\n",
      "Collecting requests-toolbelt>=0.9.1\n",
      "  Downloading requests_toolbelt-0.10.1-py2.py3-none-any.whl (54 kB)\n",
      "Collecting responses>=0.10.9\n",
      "  Downloading responses-0.22.0-py3-none-any.whl (51 kB)\n",
      "Collecting schedule>=0.6.0\n",
      "  Downloading schedule-1.1.0-py2.py3-none-any.whl (10 kB)\n",
      "Requirement already satisfied: six>=1.14.0 in c:\\users\\visha\\anaconda3\\lib\\site-packages (from instabot) (1.16.0)\n",
      "Requirement already satisfied: tqdm>=4.41.1 in c:\\users\\visha\\anaconda3\\lib\\site-packages (from instabot) (4.64.0)\n",
      "Requirement already satisfied: urllib3>=1.25.7 in c:\\users\\visha\\anaconda3\\lib\\site-packages (from instabot) (1.26.9)\n",
      "Requirement already satisfied: mock>=3.0.5 in c:\\users\\visha\\anaconda3\\lib\\site-packages (from instabot) (4.0.3)\n",
      "Collecting moviepy>=1.0.1\n",
      "  Downloading moviepy-1.0.3.tar.gz (388 kB)\n",
      "Requirement already satisfied: Pillow>=6.2.2 in c:\\users\\visha\\anaconda3\\lib\\site-packages (from instabot) (9.0.1)\n",
      "Requirement already satisfied: pytest>=4.6.9 in c:\\users\\visha\\anaconda3\\lib\\site-packages (from instabot) (7.1.1)\n",
      "Collecting decorator<5.0,>=4.0.2\n",
      "  Downloading decorator-4.4.2-py2.py3-none-any.whl (9.2 kB)\n",
      "Collecting proglog<=1.0.0\n",
      "  Downloading proglog-0.1.10-py3-none-any.whl (6.1 kB)\n",
      "Requirement already satisfied: numpy>=1.17.3 in c:\\users\\visha\\anaconda3\\lib\\site-packages (from moviepy>=1.0.1->instabot) (1.21.5)\n",
      "Requirement already satisfied: imageio<3.0,>=2.5 in c:\\users\\visha\\anaconda3\\lib\\site-packages (from moviepy>=1.0.1->instabot) (2.9.0)\n",
      "Collecting imageio_ffmpeg>=0.2.0\n",
      "  Downloading imageio_ffmpeg-0.4.7-py3-none-win_amd64.whl (22.6 MB)\n",
      "Requirement already satisfied: attrs>=19.2.0 in c:\\users\\visha\\anaconda3\\lib\\site-packages (from pytest>=4.6.9->instabot) (21.4.0)\n",
      "Requirement already satisfied: iniconfig in c:\\users\\visha\\anaconda3\\lib\\site-packages (from pytest>=4.6.9->instabot) (1.1.1)\n",
      "Requirement already satisfied: packaging in c:\\users\\visha\\anaconda3\\lib\\site-packages (from pytest>=4.6.9->instabot) (21.3)\n",
      "Requirement already satisfied: pluggy<2.0,>=0.12 in c:\\users\\visha\\anaconda3\\lib\\site-packages (from pytest>=4.6.9->instabot) (1.0.0)\n",
      "Requirement already satisfied: py>=1.8.2 in c:\\users\\visha\\anaconda3\\lib\\site-packages (from pytest>=4.6.9->instabot) (1.11.0)\n",
      "Requirement already satisfied: tomli>=1.0.0 in c:\\users\\visha\\anaconda3\\lib\\site-packages (from pytest>=4.6.9->instabot) (1.2.2)\n",
      "Requirement already satisfied: atomicwrites>=1.0 in c:\\users\\visha\\anaconda3\\lib\\site-packages (from pytest>=4.6.9->instabot) (1.4.0)\n",
      "Requirement already satisfied: colorama in c:\\users\\visha\\anaconda3\\lib\\site-packages (from pytest>=4.6.9->instabot) (0.4.4)\n",
      "Requirement already satisfied: charset-normalizer~=2.0.0 in c:\\users\\visha\\anaconda3\\lib\\site-packages (from requests>=2.22.0->instabot) (2.0.4)\n",
      "Requirement already satisfied: toml in c:\\users\\visha\\anaconda3\\lib\\site-packages (from responses>=0.10.9->instabot) (0.10.2)\n",
      "Collecting types-toml\n",
      "  Downloading types_toml-0.10.8.1-py3-none-any.whl (4.5 kB)\n",
      "Requirement already satisfied: pyparsing!=3.0.5,>=2.0.2 in c:\\users\\visha\\anaconda3\\lib\\site-packages (from packaging->pytest>=4.6.9->instabot) (3.0.4)\n",
      "Building wheels for collected packages: instabot, huepy, moviepy\n",
      "  Building wheel for instabot (setup.py): started\n",
      "  Building wheel for instabot (setup.py): finished with status 'done'\n",
      "  Created wheel for instabot: filename=instabot-0.117.0-py3-none-any.whl size=101280 sha256=9ee1ecc03417d22455cab7e25a6c570e175a171603d4bd524db6c5c267ae0e00\n",
      "  Stored in directory: c:\\users\\visha\\appdata\\local\\pip\\cache\\wheels\\80\\07\\61\\54956f1f5ea9ba62c092445004593c58669515d7c1903300c0\n",
      "  Building wheel for huepy (setup.py): started\n",
      "  Building wheel for huepy (setup.py): finished with status 'done'\n",
      "  Created wheel for huepy: filename=huepy-1.2.1-py3-none-any.whl size=27010 sha256=d646c1174eece83531464d68789f456032e84e55cbc2d56722a2907e1c89a984\n",
      "  Stored in directory: c:\\users\\visha\\appdata\\local\\pip\\cache\\wheels\\4c\\92\\02\\33d3191c5ddcd442bdcecc6a9e8d74eb2ceda0fa9abb0e9cab\n",
      "  Building wheel for moviepy (setup.py): started\n",
      "  Building wheel for moviepy (setup.py): finished with status 'done'\n",
      "  Created wheel for moviepy: filename=moviepy-1.0.3-py3-none-any.whl size=110743 sha256=a7a906f5512317700afb13ff4f49b4fbab91e1e00a8c54ac76ac9c7a83a16660\n",
      "  Stored in directory: c:\\users\\visha\\appdata\\local\\pip\\cache\\wheels\\29\\15\\e4\\4f790bec6acd51a00b67e8ee1394f0bc6e0135c315f8ff399a\n",
      "Successfully built instabot huepy moviepy\n",
      "Installing collected packages: types-toml, proglog, imageio-ffmpeg, decorator, schedule, responses, requests-toolbelt, moviepy, huepy, instabot\n",
      "  Attempting uninstall: decorator\n",
      "    Found existing installation: decorator 5.1.1\n",
      "    Uninstalling decorator-5.1.1:\n",
      "      Successfully uninstalled decorator-5.1.1\n",
      "Successfully installed decorator-4.4.2 huepy-1.2.1 imageio-ffmpeg-0.4.7 instabot-0.117.0 moviepy-1.0.3 proglog-0.1.10 requests-toolbelt-0.10.1 responses-0.22.0 schedule-1.1.0 types-toml-0.10.8.1\n"
     ]
    }
   ],
   "source": [
    "!pip install instabot"
   ]
  },
  {
   "cell_type": "code",
   "execution_count": null,
   "id": "d2d187f1",
   "metadata": {},
   "outputs": [],
   "source": [
    "from instabot import bot\n",
    "bot.login(username=\" \",password=\" \")\n",
    "bot.bot_story"
   ]
  }
 ],
 "metadata": {
  "kernelspec": {
   "display_name": "Python 3 (ipykernel)",
   "language": "python",
   "name": "python3"
  },
  "language_info": {
   "codemirror_mode": {
    "name": "ipython",
    "version": 3
   },
   "file_extension": ".py",
   "mimetype": "text/x-python",
   "name": "python",
   "nbconvert_exporter": "python",
   "pygments_lexer": "ipython3",
   "version": "3.9.12"
  }
 },
 "nbformat": 4,
 "nbformat_minor": 5
}
