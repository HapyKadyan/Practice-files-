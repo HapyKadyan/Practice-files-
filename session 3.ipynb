{
 "cells": [
  {
   "cell_type": "markdown",
   "id": "4d872f81",
   "metadata": {},
   "source": [
    "# data types in python"
   ]
  },
  {
   "cell_type": "markdown",
   "id": "e1f499f0",
   "metadata": {},
   "source": [
    "- string\n",
    "- numberic($integer, float$)\n",
    "- boolean\n",
    "- complex"
   ]
  },
  {
   "cell_type": "markdown",
   "id": "4c730034",
   "metadata": {},
   "source": [
    " ### $1.string$\n",
    "    string should be in double quotes or single quotes"
   ]
  },
  {
   "cell_type": "code",
   "execution_count": 1,
   "id": "8165f76b",
   "metadata": {},
   "outputs": [
    {
     "data": {
      "text/plain": [
       "'python'"
      ]
     },
     "execution_count": 1,
     "metadata": {},
     "output_type": "execute_result"
    }
   ],
   "source": [
    "name =\"python\"  # In C you need to provide data type while intialize the value \n",
    "                # int a=25\n",
    "                # but in python no need to define \n",
    "name "
   ]
  },
  {
   "cell_type": "code",
   "execution_count": 2,
   "id": "fe5cbeb9",
   "metadata": {},
   "outputs": [
    {
     "data": {
      "text/plain": [
       "str"
      ]
     },
     "execution_count": 2,
     "metadata": {},
     "output_type": "execute_result"
    }
   ],
   "source": [
    "type(name)"
   ]
  },
  {
   "cell_type": "code",
   "execution_count": 3,
   "id": "1ec59412",
   "metadata": {},
   "outputs": [
    {
     "data": {
      "text/plain": [
       "'python'"
      ]
     },
     "execution_count": 3,
     "metadata": {},
     "output_type": "execute_result"
    }
   ],
   "source": [
    "person=name # here we store one variable in other variable \n",
    "            # if we put quotes on name then it will consider as a string not a variable\n",
    "person"
   ]
  },
  {
   "cell_type": "code",
   "execution_count": 4,
   "id": "39a77b7a",
   "metadata": {},
   "outputs": [
    {
     "data": {
      "text/plain": [
       "'name'"
      ]
     },
     "execution_count": 4,
     "metadata": {},
     "output_type": "execute_result"
    }
   ],
   "source": [
    "person=\"name\"\n",
    "person"
   ]
  },
  {
   "cell_type": "markdown",
   "id": "2b2a4059",
   "metadata": {},
   "source": [
    "## $2.numeric$"
   ]
  },
  {
   "cell_type": "code",
   "execution_count": 5,
   "id": "2426068d",
   "metadata": {},
   "outputs": [
    {
     "data": {
      "text/plain": [
       "25"
      ]
     },
     "execution_count": 5,
     "metadata": {},
     "output_type": "execute_result"
    }
   ],
   "source": [
    "#integer\n",
    "a=25\n",
    "a"
   ]
  },
  {
   "cell_type": "code",
   "execution_count": 6,
   "id": "f14ed7ca",
   "metadata": {},
   "outputs": [
    {
     "data": {
      "text/plain": [
       "int"
      ]
     },
     "execution_count": 6,
     "metadata": {},
     "output_type": "execute_result"
    }
   ],
   "source": [
    "type(a)"
   ]
  },
  {
   "cell_type": "code",
   "execution_count": 7,
   "id": "90c21c78",
   "metadata": {},
   "outputs": [
    {
     "data": {
      "text/plain": [
       "45.8"
      ]
     },
     "execution_count": 7,
     "metadata": {},
     "output_type": "execute_result"
    }
   ],
   "source": [
    "#float\n",
    "a=45.8\n",
    "a"
   ]
  },
  {
   "cell_type": "code",
   "execution_count": 8,
   "id": "ae2c324a",
   "metadata": {},
   "outputs": [
    {
     "data": {
      "text/plain": [
       "float"
      ]
     },
     "execution_count": 8,
     "metadata": {},
     "output_type": "execute_result"
    }
   ],
   "source": [
    "type(a)"
   ]
  },
  {
   "cell_type": "markdown",
   "id": "df06603b",
   "metadata": {},
   "source": [
    "## $3.boolean$"
   ]
  },
  {
   "cell_type": "markdown",
   "id": "4f934438",
   "metadata": {},
   "source": [
    "- boolean....> True or False\n",
    "- binary\n",
    "- 1 0\n",
    "- True=1\n",
    "- False=0"
   ]
  },
  {
   "cell_type": "code",
   "execution_count": null,
   "id": "cd8281cd",
   "metadata": {},
   "outputs": [],
   "source": [
    "True or False always in capital "
   ]
  },
  {
   "cell_type": "code",
   "execution_count": 11,
   "id": "295d497e",
   "metadata": {},
   "outputs": [
    {
     "data": {
      "text/plain": [
       "True"
      ]
     },
     "execution_count": 11,
     "metadata": {},
     "output_type": "execute_result"
    }
   ],
   "source": [
    "a=20\n",
    "b=30.4\n",
    "answer=a<b\n",
    "answer"
   ]
  },
  {
   "cell_type": "code",
   "execution_count": 10,
   "id": "c984dacb",
   "metadata": {},
   "outputs": [
    {
     "data": {
      "text/plain": [
       "bool"
      ]
     },
     "execution_count": 10,
     "metadata": {},
     "output_type": "execute_result"
    }
   ],
   "source": [
    "type(answer)"
   ]
  },
  {
   "cell_type": "code",
   "execution_count": 16,
   "id": "d8fbd13f",
   "metadata": {},
   "outputs": [
    {
     "data": {
      "text/plain": [
       "(bool, bool)"
      ]
     },
     "execution_count": 16,
     "metadata": {},
     "output_type": "execute_result"
    }
   ],
   "source": [
    "is_student=True\n",
    "is_pay_the_fees=False\n",
    "\n",
    "type(is_student),type(is_pay_the_fees) # we cant write both inside type ex: type(is_student,is_pay_the_fees) is wrong"
   ]
  },
  {
   "cell_type": "code",
   "execution_count": 17,
   "id": "d9398041",
   "metadata": {},
   "outputs": [
    {
     "data": {
      "text/plain": [
       "int"
      ]
     },
     "execution_count": 17,
     "metadata": {},
     "output_type": "execute_result"
    }
   ],
   "source": [
    "a=1\n",
    "type(a) # we have to convert 1 into boolean"
   ]
  },
  {
   "cell_type": "code",
   "execution_count": null,
   "id": "61aea844",
   "metadata": {},
   "outputs": [],
   "source": []
  },
  {
   "cell_type": "markdown",
   "id": "5d964500",
   "metadata": {},
   "source": [
    "## $3.complex$"
   ]
  },
  {
   "cell_type": "markdown",
   "id": "43418bda",
   "metadata": {},
   "source": [
    "- complex has two parts\n",
    "- one real number and another is imaginary number\n",
    "- a+bj\n",
    "- where a= real number and b = imaginary number"
   ]
  },
  {
   "cell_type": "code",
   "execution_count": null,
   "id": "b2b8addd",
   "metadata": {},
   "outputs": [],
   "source": [
    "# 3+4j\n",
    "# real number = 3\n",
    "# imaginary numer=4\n",
    "\n",
    "# variable.real .....> will give real number\n",
    "# variable.imag.....> will give imaginary number"
   ]
  },
  {
   "cell_type": "code",
   "execution_count": 18,
   "id": "d3f25e98",
   "metadata": {},
   "outputs": [
    {
     "data": {
      "text/plain": [
       "4.0"
      ]
     },
     "execution_count": 18,
     "metadata": {},
     "output_type": "execute_result"
    }
   ],
   "source": [
    "a= 3+4j\n",
    "a.real   # here only last value is consider to avoid this \n",
    "a.imag"
   ]
  },
  {
   "cell_type": "code",
   "execution_count": 20,
   "id": "ffc7e989",
   "metadata": {},
   "outputs": [
    {
     "data": {
      "text/plain": [
       "(3.0, 4.0)"
      ]
     },
     "execution_count": 20,
     "metadata": {},
     "output_type": "execute_result"
    }
   ],
   "source": [
    "a.real, a.imag"
   ]
  },
  {
   "cell_type": "code",
   "execution_count": 21,
   "id": "075fa021",
   "metadata": {},
   "outputs": [
    {
     "data": {
      "text/plain": [
       "(3.2, 5.6)"
      ]
     },
     "execution_count": 21,
     "metadata": {},
     "output_type": "execute_result"
    }
   ],
   "source": [
    "b=3.2+5.6j\n",
    "b.real, b.imag"
   ]
  },
  {
   "cell_type": "code",
   "execution_count": 22,
   "id": "ed36f75d",
   "metadata": {},
   "outputs": [
    {
     "data": {
      "text/plain": [
       "(float, float, float, float)"
      ]
     },
     "execution_count": 22,
     "metadata": {},
     "output_type": "execute_result"
    }
   ],
   "source": [
    "type(a.real),type(a.imag),type(b.real),type(b.imag) # we cant all inside in type"
   ]
  },
  {
   "cell_type": "code",
   "execution_count": 23,
   "id": "8ca6ed32",
   "metadata": {},
   "outputs": [
    {
     "data": {
      "text/plain": [
       "(complex, complex)"
      ]
     },
     "execution_count": 23,
     "metadata": {},
     "output_type": "execute_result"
    }
   ],
   "source": [
    "type(a),type(b)"
   ]
  },
  {
   "cell_type": "code",
   "execution_count": 25,
   "id": "b732294c",
   "metadata": {},
   "outputs": [
    {
     "name": "stdout",
     "output_type": "stream",
     "text": [
      "the real number is 3.0 and the imaginary number is 4.0 of a complex number (3+4j)\n"
     ]
    }
   ],
   "source": [
    "print(\"the real number is {} and the imaginary number is {} of a complex number {}\".format(a.real,a.imag,a))"
   ]
  },
  {
   "cell_type": "code",
   "execution_count": 27,
   "id": "dc334135",
   "metadata": {},
   "outputs": [
    {
     "name": "stdout",
     "output_type": "stream",
     "text": [
      "the real number is 3.2 and the imaginary number is 5.6 of a complex number (3.2+5.6j)\n"
     ]
    }
   ],
   "source": [
    "print(\"the real number is {} and the imaginary number is {} of a complex number {}\".format(b.real,b.imag,b))"
   ]
  },
  {
   "cell_type": "code",
   "execution_count": 28,
   "id": "12a8b331",
   "metadata": {},
   "outputs": [
    {
     "name": "stdout",
     "output_type": "stream",
     "text": [
      "the real number is 3.0 of a complex number(3+4j) and the imaginary number is 5.6 of a complex number (3.2+5.6j)\n"
     ]
    }
   ],
   "source": [
    "print(\"the real number is {} of a complex number{} and the imaginary number is {} of a complex number {}\".format(a.real,a,b.imag,b))"
   ]
  },
  {
   "cell_type": "markdown",
   "id": "df6a27c4",
   "metadata": {},
   "source": [
    "#### add imaginary and real values of a given complex number 100+50j\n"
   ]
  },
  {
   "cell_type": "code",
   "execution_count": 29,
   "id": "cca53e9a",
   "metadata": {},
   "outputs": [
    {
     "data": {
      "text/plain": [
       "150.0"
      ]
     },
     "execution_count": 29,
     "metadata": {},
     "output_type": "execute_result"
    }
   ],
   "source": [
    "number=100+50j\n",
    "a=number.real\n",
    "b=number.imag\n",
    "a+b"
   ]
  },
  {
   "cell_type": "code",
   "execution_count": 1,
   "id": "9d2ca5ec",
   "metadata": {},
   "outputs": [
    {
     "data": {
      "text/plain": [
       "(120+80j)"
      ]
     },
     "execution_count": 1,
     "metadata": {},
     "output_type": "execute_result"
    }
   ],
   "source": [
    "a=100+50j\n",
    "b=20+30j  \n",
    "c=a+b\n",
    "c\n"
   ]
  },
  {
   "cell_type": "code",
   "execution_count": 33,
   "id": "c95f60ab",
   "metadata": {},
   "outputs": [
    {
     "data": {
      "text/plain": [
       "200.0"
      ]
     },
     "execution_count": 33,
     "metadata": {},
     "output_type": "execute_result"
    }
   ],
   "source": [
    "c.real+c.imag"
   ]
  },
  {
   "cell_type": "code",
   "execution_count": null,
   "id": "ed69b1c5",
   "metadata": {},
   "outputs": [],
   "source": [
    "a=40+19j"
   ]
  },
  {
   "cell_type": "code",
   "execution_count": 35,
   "id": "a4b47b58",
   "metadata": {},
   "outputs": [
    {
     "data": {
      "text/plain": [
       "100.0"
      ]
     },
     "execution_count": 35,
     "metadata": {},
     "output_type": "execute_result"
    }
   ],
   "source": [
    "a.real # this is taking previous above defined value bcz we cant run the above cell"
   ]
  },
  {
   "cell_type": "markdown",
   "id": "ea92d7b6",
   "metadata": {},
   "source": [
    "## type casting"
   ]
  },
  {
   "cell_type": "code",
   "execution_count": null,
   "id": "4cf48af1",
   "metadata": {},
   "outputs": [],
   "source": [
    "# if we want to convert one type to another type"
   ]
  },
  {
   "cell_type": "code",
   "execution_count": null,
   "id": "eaac6cac",
   "metadata": {},
   "outputs": [],
   "source": [
    "# string to numeric"
   ]
  },
  {
   "cell_type": "code",
   "execution_count": 36,
   "id": "7f762515",
   "metadata": {},
   "outputs": [
    {
     "data": {
      "text/plain": [
       "str"
      ]
     },
     "execution_count": 36,
     "metadata": {},
     "output_type": "execute_result"
    }
   ],
   "source": [
    "number='25'  # string should be in quotes\n",
    "type(number)"
   ]
  },
  {
   "cell_type": "code",
   "execution_count": 39,
   "id": "6e8228d1",
   "metadata": {},
   "outputs": [
    {
     "data": {
      "text/plain": [
       "25.0"
      ]
     },
     "execution_count": 39,
     "metadata": {},
     "output_type": "execute_result"
    }
   ],
   "source": [
    "number=\"25\"\n",
    "float(number)"
   ]
  },
  {
   "cell_type": "code",
   "execution_count": 40,
   "id": "263049f3",
   "metadata": {},
   "outputs": [
    {
     "data": {
      "text/plain": [
       "float"
      ]
     },
     "execution_count": 40,
     "metadata": {},
     "output_type": "execute_result"
    }
   ],
   "source": [
    "a=float(number)\n",
    "type(a)"
   ]
  },
  {
   "cell_type": "code",
   "execution_count": 41,
   "id": "1f16a19d",
   "metadata": {},
   "outputs": [
    {
     "data": {
      "text/plain": [
       "float"
      ]
     },
     "execution_count": 41,
     "metadata": {},
     "output_type": "execute_result"
    }
   ],
   "source": [
    "a=\"210\"\n",
    "b=float(a) ## use print function to want b printed in output\n",
    "type(b)"
   ]
  },
  {
   "cell_type": "code",
   "execution_count": 42,
   "id": "a167257c",
   "metadata": {},
   "outputs": [
    {
     "ename": "ValueError",
     "evalue": "could not convert string to float: 'abcd'",
     "output_type": "error",
     "traceback": [
      "\u001b[1;31m---------------------------------------------------------------------------\u001b[0m",
      "\u001b[1;31mValueError\u001b[0m                                Traceback (most recent call last)",
      "Input \u001b[1;32mIn [42]\u001b[0m, in \u001b[0;36m<cell line: 2>\u001b[1;34m()\u001b[0m\n\u001b[0;32m      1\u001b[0m z\u001b[38;5;241m=\u001b[39m\u001b[38;5;124m\"\u001b[39m\u001b[38;5;124mabcd\u001b[39m\u001b[38;5;124m\"\u001b[39m\n\u001b[1;32m----> 2\u001b[0m n\u001b[38;5;241m=\u001b[39m\u001b[38;5;28;43mfloat\u001b[39;49m\u001b[43m(\u001b[49m\u001b[43mz\u001b[49m\u001b[43m)\u001b[49m\n",
      "\u001b[1;31mValueError\u001b[0m: could not convert string to float: 'abcd'"
     ]
    }
   ],
   "source": [
    "z=\"abcd\"  # we cant convert string text based values in float or int\n",
    "n=float(z)"
   ]
  },
  {
   "cell_type": "code",
   "execution_count": 43,
   "id": "5317715b",
   "metadata": {},
   "outputs": [
    {
     "data": {
      "text/plain": [
       "float"
      ]
     },
     "execution_count": 43,
     "metadata": {},
     "output_type": "execute_result"
    }
   ],
   "source": [
    "price= 52.6 # here price is a variable store value of 52.6\n",
    "type(price)\n"
   ]
  },
  {
   "cell_type": "code",
   "execution_count": 46,
   "id": "8da093de",
   "metadata": {},
   "outputs": [
    {
     "data": {
      "text/plain": [
       "'52.6'"
      ]
     },
     "execution_count": 46,
     "metadata": {},
     "output_type": "execute_result"
    }
   ],
   "source": [
    "str(price)"
   ]
  },
  {
   "cell_type": "code",
   "execution_count": 47,
   "id": "69fd85f2",
   "metadata": {},
   "outputs": [
    {
     "data": {
      "text/plain": [
       "str"
      ]
     },
     "execution_count": 47,
     "metadata": {},
     "output_type": "execute_result"
    }
   ],
   "source": [
    "a=str(price)\n",
    "type(a)"
   ]
  },
  {
   "cell_type": "code",
   "execution_count": null,
   "id": "40452fcf",
   "metadata": {},
   "outputs": [],
   "source": [
    "# str into int"
   ]
  },
  {
   "cell_type": "code",
   "execution_count": 3,
   "id": "fccf22e4",
   "metadata": {},
   "outputs": [
    {
     "data": {
      "text/plain": [
       "str"
      ]
     },
     "execution_count": 3,
     "metadata": {},
     "output_type": "execute_result"
    }
   ],
   "source": [
    "num=\"7\"\n",
    "type(num)"
   ]
  },
  {
   "cell_type": "code",
   "execution_count": 49,
   "id": "e401eda9",
   "metadata": {},
   "outputs": [
    {
     "data": {
      "text/plain": [
       "7"
      ]
     },
     "execution_count": 49,
     "metadata": {},
     "output_type": "execute_result"
    }
   ],
   "source": [
    "int(num)"
   ]
  },
  {
   "cell_type": "code",
   "execution_count": 4,
   "id": "54ffdb08",
   "metadata": {},
   "outputs": [
    {
     "data": {
      "text/plain": [
       "float"
      ]
     },
     "execution_count": 4,
     "metadata": {},
     "output_type": "execute_result"
    }
   ],
   "source": [
    "a=float(num)\n",
    "type(a)"
   ]
  },
  {
   "cell_type": "code",
   "execution_count": 51,
   "id": "48c098ab",
   "metadata": {},
   "outputs": [
    {
     "data": {
      "text/plain": [
       "int"
      ]
     },
     "execution_count": 51,
     "metadata": {},
     "output_type": "execute_result"
    }
   ],
   "source": [
    "type(int(num))"
   ]
  },
  {
   "cell_type": "markdown",
   "id": "a026218b",
   "metadata": {},
   "source": [
    "### str float type value can never be converted into int directly\n",
    "### we can convert first into float then into int\n",
    "### and str text based value never be converted into float or int"
   ]
  },
  {
   "cell_type": "code",
   "execution_count": 52,
   "id": "e7ab2793",
   "metadata": {},
   "outputs": [
    {
     "ename": "ValueError",
     "evalue": "invalid literal for int() with base 10: '7.5'",
     "output_type": "error",
     "traceback": [
      "\u001b[1;31m---------------------------------------------------------------------------\u001b[0m",
      "\u001b[1;31mValueError\u001b[0m                                Traceback (most recent call last)",
      "Input \u001b[1;32mIn [52]\u001b[0m, in \u001b[0;36m<cell line: 2>\u001b[1;34m()\u001b[0m\n\u001b[0;32m      1\u001b[0m num\u001b[38;5;241m=\u001b[39m\u001b[38;5;124m\"\u001b[39m\u001b[38;5;124m7.5\u001b[39m\u001b[38;5;124m\"\u001b[39m\n\u001b[1;32m----> 2\u001b[0m \u001b[38;5;28;43mint\u001b[39;49m\u001b[43m(\u001b[49m\u001b[43mnum\u001b[49m\u001b[43m)\u001b[49m\n",
      "\u001b[1;31mValueError\u001b[0m: invalid literal for int() with base 10: '7.5'"
     ]
    }
   ],
   "source": [
    "num=\"7.5\"\n",
    "int(num)"
   ]
  },
  {
   "cell_type": "code",
   "execution_count": 53,
   "id": "8044a016",
   "metadata": {},
   "outputs": [
    {
     "data": {
      "text/plain": [
       "7.5"
      ]
     },
     "execution_count": 53,
     "metadata": {},
     "output_type": "execute_result"
    }
   ],
   "source": [
    "num=\"7.5\"\n",
    "float(num)"
   ]
  },
  {
   "cell_type": "code",
   "execution_count": 54,
   "id": "f8db420d",
   "metadata": {},
   "outputs": [
    {
     "data": {
      "text/plain": [
       "7"
      ]
     },
     "execution_count": 54,
     "metadata": {},
     "output_type": "execute_result"
    }
   ],
   "source": [
    "int(float(num))"
   ]
  },
  {
   "cell_type": "code",
   "execution_count": null,
   "id": "3d0e97ec",
   "metadata": {},
   "outputs": [],
   "source": [
    "\"7.5\" ........>float....>7.5    # string(decimal type) into float or int\n",
    "      .........> int....>error   "
   ]
  },
  {
   "cell_type": "code",
   "execution_count": null,
   "id": "ed0e00f0",
   "metadata": {},
   "outputs": [],
   "source": [
    "\"7\"  ........>float.....>7.0  # string(normal) into float or int\n",
    "     ........>int.......>7 "
   ]
  },
  {
   "cell_type": "code",
   "execution_count": null,
   "id": "b0cf8b8d",
   "metadata": {},
   "outputs": [],
   "source": [
    "7.5 ........>str......>'7.5' # float into string or oint\n",
    "    ........>int......>7 "
   ]
  },
  {
   "cell_type": "code",
   "execution_count": null,
   "id": "89bc1e81",
   "metadata": {},
   "outputs": [],
   "source": [
    "7 .........>str......>'7' #int into float or string\n",
    "  .........>float....>7.0 "
   ]
  },
  {
   "cell_type": "code",
   "execution_count": 64,
   "id": "01c303f8",
   "metadata": {},
   "outputs": [
    {
     "ename": "ValueError",
     "evalue": "invalid literal for int() with base 10: '+'",
     "output_type": "error",
     "traceback": [
      "\u001b[1;31m---------------------------------------------------------------------------\u001b[0m",
      "\u001b[1;31mValueError\u001b[0m                                Traceback (most recent call last)",
      "Input \u001b[1;32mIn [64]\u001b[0m, in \u001b[0;36m<cell line: 2>\u001b[1;34m()\u001b[0m\n\u001b[0;32m      1\u001b[0m \u001b[38;5;28mstr\u001b[39m \u001b[38;5;241m=\u001b[39m\u001b[38;5;124m\"\u001b[39m\u001b[38;5;124m+\u001b[39m\u001b[38;5;124m\"\u001b[39m  \u001b[38;5;66;03m# + is not a number so it cannot coverted into both int and float\u001b[39;00m\n\u001b[1;32m----> 2\u001b[0m \u001b[38;5;28;43mint\u001b[39;49m\u001b[43m(\u001b[49m\u001b[38;5;28;43mstr\u001b[39;49m\u001b[43m)\u001b[49m\n",
      "\u001b[1;31mValueError\u001b[0m: invalid literal for int() with base 10: '+'"
     ]
    }
   ],
   "source": [
    "str =\"+\"  # + is not a number so it cannot coverted into both int and float\n",
    "int(str)"
   ]
  },
  {
   "cell_type": "markdown",
   "id": "2c9229a2",
   "metadata": {},
   "source": [
    " ### boolean conversion"
   ]
  },
  {
   "cell_type": "code",
   "execution_count": null,
   "id": "d4e8b11f",
   "metadata": {},
   "outputs": [],
   "source": [
    "#True=1\n",
    "#False=0\n"
   ]
  },
  {
   "cell_type": "code",
   "execution_count": null,
   "id": "c450e358",
   "metadata": {},
   "outputs": [],
   "source": [
    "# int to bool"
   ]
  },
  {
   "cell_type": "code",
   "execution_count": 55,
   "id": "1f38d9ff",
   "metadata": {},
   "outputs": [
    {
     "data": {
      "text/plain": [
       "int"
      ]
     },
     "execution_count": 55,
     "metadata": {},
     "output_type": "execute_result"
    }
   ],
   "source": [
    "is_student=1\n",
    "type(is_student)"
   ]
  },
  {
   "cell_type": "code",
   "execution_count": 56,
   "id": "8b86078f",
   "metadata": {},
   "outputs": [
    {
     "data": {
      "text/plain": [
       "True"
      ]
     },
     "execution_count": 56,
     "metadata": {},
     "output_type": "execute_result"
    }
   ],
   "source": [
    "bool(is_student)"
   ]
  },
  {
   "cell_type": "code",
   "execution_count": 57,
   "id": "7715d959",
   "metadata": {},
   "outputs": [
    {
     "data": {
      "text/plain": [
       "bool"
      ]
     },
     "execution_count": 57,
     "metadata": {},
     "output_type": "execute_result"
    }
   ],
   "source": [
    "a=bool(is_student)\n",
    "type(a)"
   ]
  },
  {
   "cell_type": "code",
   "execution_count": 58,
   "id": "221d9394",
   "metadata": {},
   "outputs": [
    {
     "data": {
      "text/plain": [
       "int"
      ]
     },
     "execution_count": 58,
     "metadata": {},
     "output_type": "execute_result"
    }
   ],
   "source": [
    "is_student= 0\n",
    "type(is_student)"
   ]
  },
  {
   "cell_type": "code",
   "execution_count": 59,
   "id": "d62267c4",
   "metadata": {},
   "outputs": [
    {
     "data": {
      "text/plain": [
       "False"
      ]
     },
     "execution_count": 59,
     "metadata": {},
     "output_type": "execute_result"
    }
   ],
   "source": [
    "bool(is_student)"
   ]
  },
  {
   "cell_type": "code",
   "execution_count": 60,
   "id": "8f34c7fc",
   "metadata": {},
   "outputs": [
    {
     "data": {
      "text/plain": [
       "bool"
      ]
     },
     "execution_count": 60,
     "metadata": {},
     "output_type": "execute_result"
    }
   ],
   "source": [
    "a = bool(is_student)\n",
    "type(a)"
   ]
  },
  {
   "cell_type": "code",
   "execution_count": 61,
   "id": "cfc9ee26",
   "metadata": {},
   "outputs": [
    {
     "data": {
      "text/plain": [
       "True"
      ]
     },
     "execution_count": 61,
     "metadata": {},
     "output_type": "execute_result"
    }
   ],
   "source": [
    "is_student=2 # other than zero all values are consider as true\n",
    "bool(is_student)"
   ]
  },
  {
   "cell_type": "code",
   "execution_count": 62,
   "id": "12a3849c",
   "metadata": {},
   "outputs": [
    {
     "data": {
      "text/plain": [
       "True"
      ]
     },
     "execution_count": 62,
     "metadata": {},
     "output_type": "execute_result"
    }
   ],
   "source": [
    "is_student=-2.5\n",
    "bool(is_student)"
   ]
  },
  {
   "cell_type": "code",
   "execution_count": null,
   "id": "19ab4f23",
   "metadata": {},
   "outputs": [],
   "source": [
    "##### we can take values in two way "
   ]
  },
  {
   "cell_type": "code",
   "execution_count": null,
   "id": "be58c1ca",
   "metadata": {},
   "outputs": [],
   "source": [
    "# method 1 pre given value \n",
    "# method 2 ask value from user"
   ]
  },
  {
   "cell_type": "code",
   "execution_count": 67,
   "id": "ede1cbd5",
   "metadata": {},
   "outputs": [],
   "source": [
    "# method 1\n",
    "num1=20\n",
    "num2=50\n",
    "num=num1+num2  # why it cant show output bcz we here only define the variables \n",
    "               # to want values either use print or defined variable empty where we store the operations \n",
    "               # num1+num2 also gives the output bcz here we dont store in a variabe\n",
    "               # storing value in varaibles need print or empty that variable"
   ]
  },
  {
   "cell_type": "code",
   "execution_count": 68,
   "id": "269cd4ec",
   "metadata": {},
   "outputs": [
    {
     "data": {
      "text/plain": [
       "70"
      ]
     },
     "execution_count": 68,
     "metadata": {},
     "output_type": "execute_result"
    }
   ],
   "source": [
    "num ## defined variable empty"
   ]
  },
  {
   "cell_type": "code",
   "execution_count": 69,
   "id": "491546ab",
   "metadata": {},
   "outputs": [
    {
     "data": {
      "text/plain": [
       "20"
      ]
     },
     "execution_count": 69,
     "metadata": {},
     "output_type": "execute_result"
    }
   ],
   "source": [
    "num1=20\n",
    "num1"
   ]
  },
  {
   "cell_type": "code",
   "execution_count": 70,
   "id": "aa26e810",
   "metadata": {},
   "outputs": [
    {
     "name": "stdout",
     "output_type": "stream",
     "text": [
      "70\n"
     ]
    }
   ],
   "source": [
    "num1=20\n",
    "print(num) ## dont use \"\" on variables "
   ]
  },
  {
   "cell_type": "code",
   "execution_count": 71,
   "id": "406fcdc7",
   "metadata": {},
   "outputs": [
    {
     "name": "stdout",
     "output_type": "stream",
     "text": [
      "num is  20\n"
     ]
    }
   ],
   "source": [
    "num1=20\n",
    "print(\"num is \",num1)"
   ]
  },
  {
   "cell_type": "code",
   "execution_count": 73,
   "id": "a4b5fbde",
   "metadata": {},
   "outputs": [
    {
     "name": "stdout",
     "output_type": "stream",
     "text": [
      "enter a number1 80\n",
      "enter a number2 70\n"
     ]
    },
    {
     "data": {
      "text/plain": [
       "'8070'"
      ]
     },
     "execution_count": 73,
     "metadata": {},
     "output_type": "execute_result"
    }
   ],
   "source": [
    "# method 2\n",
    "number1 =input(\"enter a number1 \")\n",
    "number2 =input(\"enter a number2 \")\n",
    "number1+number2"
   ]
  },
  {
   "cell_type": "markdown",
   "id": "c32479a2",
   "metadata": {},
   "source": [
    "## python by default consider input values in string so we have to convert it "
   ]
  },
  {
   "cell_type": "markdown",
   "id": "8ca4bf46",
   "metadata": {},
   "source": [
    "### conversion of input is done in two ways\n",
    "- int(input(  )) # on input\n",
    "- int(num1)+ int(num2) # on operation "
   ]
  },
  {
   "cell_type": "code",
   "execution_count": 76,
   "id": "9fa23e7b",
   "metadata": {},
   "outputs": [
    {
     "name": "stdout",
     "output_type": "stream",
     "text": [
      "enter a number1:30\n",
      "enter a number2:50\n"
     ]
    },
    {
     "data": {
      "text/plain": [
       "80"
      ]
     },
     "execution_count": 76,
     "metadata": {},
     "output_type": "execute_result"
    }
   ],
   "source": [
    "num1=int(input(\"enter a number1:\"))\n",
    "num2 =int(input(\"enter a number2:\"))\n",
    "num1+num2 "
   ]
  },
  {
   "cell_type": "code",
   "execution_count": 78,
   "id": "c9f59502",
   "metadata": {},
   "outputs": [
    {
     "name": "stdout",
     "output_type": "stream",
     "text": [
      "enter a number1:30\n",
      "enter a number2:78\n",
      "the sum of two numbers 30 and 78 is 108\n"
     ]
    }
   ],
   "source": [
    "num1=int(input(\"enter a number1:\"))\n",
    "num2 =int(input(\"enter a number2:\"))\n",
    "summation=num1+num2   # dont use sum bcz it becomes green so it will consider as inbuilt function\n",
    "print(\"the sum of two numbers {} and {} is {}\".format(num1,num2,summation))"
   ]
  },
  {
   "cell_type": "code",
   "execution_count": null,
   "id": "517c50da",
   "metadata": {},
   "outputs": [],
   "source": [
    "# why summation is shown in a output bcz we are storing values in a value either we will print pr empty variable"
   ]
  },
  {
   "cell_type": "code",
   "execution_count": 79,
   "id": "a588fbcc",
   "metadata": {},
   "outputs": [
    {
     "name": "stdout",
     "output_type": "stream",
     "text": [
      "enter a number1:20\n",
      "enter a number2:1\n",
      "the sum of two numbers 20 and 1 is 21\n"
     ]
    }
   ],
   "source": [
    "num1=int(input(\"enter a number1:\"))\n",
    "num2 =int(input(\"enter a number2:\"))\n",
    "summation=num1+num2 # empty variable dont work where print is used okay?\n",
    "summation\n",
    "print(\"the sum of two numbers {} and {} is {}\".format(num1,num2,summation))"
   ]
  },
  {
   "cell_type": "code",
   "execution_count": 80,
   "id": "a5d61bf3",
   "metadata": {},
   "outputs": [
    {
     "name": "stdout",
     "output_type": "stream",
     "text": [
      "enter a number1:67\n",
      "enter a number2:20\n",
      "87\n",
      "the sum of two numbers 67 and 20 is 87\n"
     ]
    }
   ],
   "source": [
    "num1=int(input(\"enter a number1:\"))\n",
    "num2 =int(input(\"enter a number2:\"))\n",
    "summation=num1+num2   # here only summation value is shown in output\n",
    "print(summation)\n",
    "\n",
    "print(\"the sum of two numbers {} and {} is {}\".format(num1,num2,summation))"
   ]
  },
  {
   "cell_type": "code",
   "execution_count": 81,
   "id": "83785c68",
   "metadata": {},
   "outputs": [
    {
     "name": "stdout",
     "output_type": "stream",
     "text": [
      "enter a number1:78\n",
      "enter a number2:98\n",
      "the summation of 176\n",
      "the sum of two numbers 78 and 98 is 176\n"
     ]
    }
   ],
   "source": [
    "num1=int(input(\"enter a number1:\"))\n",
    "num2 =int(input(\"enter a number2:\"))\n",
    "summation=num1+num2   \n",
    "print(\"the summation of\",summation)\n",
    "\n",
    "print(\"the sum of two numbers {} and {} is {}\".format(num1,num2,summation))"
   ]
  },
  {
   "cell_type": "code",
   "execution_count": null,
   "id": "bf055182",
   "metadata": {},
   "outputs": [],
   "source": [
    "#eval concept comes on next session"
   ]
  }
 ],
 "metadata": {
  "kernelspec": {
   "display_name": "Python 3 (ipykernel)",
   "language": "python",
   "name": "python3"
  },
  "language_info": {
   "codemirror_mode": {
    "name": "ipython",
    "version": 3
   },
   "file_extension": ".py",
   "mimetype": "text/x-python",
   "name": "python",
   "nbconvert_exporter": "python",
   "pygments_lexer": "ipython3",
   "version": "3.9.12"
  }
 },
 "nbformat": 4,
 "nbformat_minor": 5
}
