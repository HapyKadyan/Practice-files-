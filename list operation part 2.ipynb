{
 "cells": [
  {
   "cell_type": "code",
   "execution_count": 2,
   "id": "a3062474",
   "metadata": {},
   "outputs": [
    {
     "data": {
      "text/plain": [
       "[2, 4, 6, 8, 10]"
      ]
     },
     "execution_count": 2,
     "metadata": {},
     "output_type": "execute_result"
    }
   ],
   "source": [
    "even_numbers=[2,4,6,8,10]\n",
    "even_numbers"
   ]
  },
  {
   "cell_type": "code",
   "execution_count": 4,
   "id": "50777659",
   "metadata": {},
   "outputs": [
    {
     "data": {
      "text/plain": [
       "[]"
      ]
     },
     "execution_count": 4,
     "metadata": {},
     "output_type": "execute_result"
    }
   ],
   "source": [
    "even_numbers.clear()    # it will clear entire list\n",
    "even_numbers"
   ]
  },
  {
   "cell_type": "code",
   "execution_count": null,
   "id": "b4601812",
   "metadata": {},
   "outputs": [],
   "source": [
    "# python ..........> 20 days buffer time\n",
    "# SQL\n",
    "# ML/statistics...........> try to perfect in python\n",
    "# deploy the model\n",
    "# .ipynb.......> .py >>>>>>>> class oops(advance concepts)\n",
    "# 7 to 8 months .........> python will be there\n",
    "# ML........>DL>>>>>>> NLP(AI)\n",
    "# Mlops(GCP/AZURE/AWS)"
   ]
  },
  {
   "cell_type": "code",
   "execution_count": null,
   "id": "21b982b2",
   "metadata": {},
   "outputs": [],
   "source": [
    "# =========== Tools =========\n",
    "# python\n",
    "# SQL\n",
    "# tablue/power bi"
   ]
  },
  {
   "cell_type": "code",
   "execution_count": null,
   "id": "cc993356",
   "metadata": {},
   "outputs": [],
   "source": [
    "# ========= concepts========\n",
    "# statistics\n",
    "# ML\n",
    "# DL\n",
    "# NLP"
   ]
  },
  {
   "cell_type": "code",
   "execution_count": null,
   "id": "36c4cea5",
   "metadata": {},
   "outputs": [],
   "source": []
  },
  {
   "cell_type": "markdown",
   "id": "f99e3aa7",
   "metadata": {},
   "source": [
    "## copy"
   ]
  },
  {
   "cell_type": "code",
   "execution_count": 1,
   "id": "8e9a21e3",
   "metadata": {},
   "outputs": [
    {
     "data": {
      "text/plain": [
       "[2, 4, 6, 8, 10]"
      ]
     },
     "execution_count": 1,
     "metadata": {},
     "output_type": "execute_result"
    }
   ],
   "source": [
    "even_numbers=[2,4,6,8,10] # it copy the list\n",
    "numbers=even_numbers.copy()\n",
    "numbers"
   ]
  },
  {
   "cell_type": "code",
   "execution_count": 2,
   "id": "b32920a6",
   "metadata": {},
   "outputs": [
    {
     "data": {
      "text/plain": [
       "[]"
      ]
     },
     "execution_count": 2,
     "metadata": {},
     "output_type": "execute_result"
    }
   ],
   "source": [
    "even_numbers.clear()   # now even_numbers list first copy and clear now\n",
    "even_numbers"
   ]
  },
  {
   "cell_type": "code",
   "execution_count": 3,
   "id": "c56159ad",
   "metadata": {},
   "outputs": [
    {
     "data": {
      "text/plain": [
       "[2, 4, 6, 8, 10]"
      ]
     },
     "execution_count": 3,
     "metadata": {},
     "output_type": "execute_result"
    }
   ],
   "source": [
    "numbers"
   ]
  },
  {
   "cell_type": "markdown",
   "id": "419d6b47",
   "metadata": {},
   "source": [
    "## index"
   ]
  },
  {
   "cell_type": "code",
   "execution_count": 8,
   "id": "8fc104ca",
   "metadata": {},
   "outputs": [
    {
     "data": {
      "text/plain": [
       "1"
      ]
     },
     "execution_count": 8,
     "metadata": {},
     "output_type": "execute_result"
    }
   ],
   "source": [
    "books=[\"science\",\"maths\",\"english\",\"hindi\"]\n",
    "books.index(\"maths\")"
   ]
  },
  {
   "cell_type": "markdown",
   "id": "5b1c0e7f",
   "metadata": {},
   "source": [
    "## extend"
   ]
  },
  {
   "cell_type": "code",
   "execution_count": 10,
   "id": "3cc67cfb",
   "metadata": {},
   "outputs": [],
   "source": [
    "A=[\"apple\",'ball','cat','dog']\n",
    "B=[1,2,3,4]"
   ]
  },
  {
   "cell_type": "code",
   "execution_count": 12,
   "id": "957fbbe1",
   "metadata": {},
   "outputs": [
    {
     "data": {
      "text/plain": [
       "['apple', 'ball', 'cat', 'dog', 1, 2, 3, 4]"
      ]
     },
     "execution_count": 12,
     "metadata": {},
     "output_type": "execute_result"
    }
   ],
   "source": [
    "A+B"
   ]
  },
  {
   "cell_type": "code",
   "execution_count": 13,
   "id": "00753338",
   "metadata": {},
   "outputs": [
    {
     "data": {
      "text/plain": [
       "[1, 2, 3, 4, 'apple', 'ball', 'cat', 'dog']"
      ]
     },
     "execution_count": 13,
     "metadata": {},
     "output_type": "execute_result"
    }
   ],
   "source": [
    "B+A"
   ]
  },
  {
   "cell_type": "code",
   "execution_count": 14,
   "id": "858761ff",
   "metadata": {},
   "outputs": [
    {
     "data": {
      "text/plain": [
       "['apple', 'ball', 'cat', 'dog']"
      ]
     },
     "execution_count": 14,
     "metadata": {},
     "output_type": "execute_result"
    }
   ],
   "source": [
    "A"
   ]
  },
  {
   "cell_type": "code",
   "execution_count": 15,
   "id": "4ff22631",
   "metadata": {},
   "outputs": [
    {
     "data": {
      "text/plain": [
       "[1, 2, 3, 4]"
      ]
     },
     "execution_count": 15,
     "metadata": {},
     "output_type": "execute_result"
    }
   ],
   "source": [
    "B"
   ]
  },
  {
   "cell_type": "code",
   "execution_count": 16,
   "id": "0e34dad3",
   "metadata": {},
   "outputs": [],
   "source": [
    "A.extend(B)  # extending A with B elements\n",
    "# kind of A+B and storing entrie list in A"
   ]
  },
  {
   "cell_type": "code",
   "execution_count": 17,
   "id": "3caab1a5",
   "metadata": {},
   "outputs": [
    {
     "data": {
      "text/plain": [
       "['apple', 'ball', 'cat', 'dog', 1, 2, 3, 4]"
      ]
     },
     "execution_count": 17,
     "metadata": {},
     "output_type": "execute_result"
    }
   ],
   "source": [
    "A"
   ]
  },
  {
   "cell_type": "code",
   "execution_count": 18,
   "id": "8b8dacf8",
   "metadata": {},
   "outputs": [
    {
     "data": {
      "text/plain": [
       "[1, 2, 3, 4, 'apple', 'ball', 'cat', 'dog', 1, 2, 3, 4]"
      ]
     },
     "execution_count": 18,
     "metadata": {},
     "output_type": "execute_result"
    }
   ],
   "source": [
    "B.extend(A) # kind of B+A\n",
    "B # but it will take A as A+B"
   ]
  },
  {
   "cell_type": "code",
   "execution_count": 19,
   "id": "96c2d0e2",
   "metadata": {},
   "outputs": [],
   "source": [
    "A=[\"apple\",'ball','cat','dog']\n",
    "B=[1,2,3,4]\n",
    "B.extend(A)\n",
    "# B+A ..........> but stored in B"
   ]
  },
  {
   "cell_type": "code",
   "execution_count": 20,
   "id": "e684f135",
   "metadata": {},
   "outputs": [
    {
     "data": {
      "text/plain": [
       "[1, 2, 3, 4, 'apple', 'ball', 'cat', 'dog']"
      ]
     },
     "execution_count": 20,
     "metadata": {},
     "output_type": "execute_result"
    }
   ],
   "source": [
    "B"
   ]
  },
  {
   "cell_type": "markdown",
   "id": "fc0a7bdd",
   "metadata": {},
   "source": [
    "## insert"
   ]
  },
  {
   "cell_type": "code",
   "execution_count": 21,
   "id": "40acf2ce",
   "metadata": {},
   "outputs": [
    {
     "data": {
      "text/plain": [
       "['a', 'e', 'i', 'u', 'o']"
      ]
     },
     "execution_count": 21,
     "metadata": {},
     "output_type": "execute_result"
    }
   ],
   "source": [
    "vowels=[\"a\",\"e\",\"i\",\"u\"]\n",
    "# o is missed\n",
    "# if i want to append \"o\" in my vowels list\n",
    "vowels.append(\"o\")\n",
    "vowels"
   ]
  },
  {
   "cell_type": "code",
   "execution_count": null,
   "id": "b8d5f869",
   "metadata": {},
   "outputs": [],
   "source": [
    "# but here o is append at last\n",
    "# but we want to append o after i or at a specific place"
   ]
  },
  {
   "cell_type": "code",
   "execution_count": 23,
   "id": "bee9904c",
   "metadata": {},
   "outputs": [
    {
     "data": {
      "text/plain": [
       "['a', 'e', 'i', 'o', 'u']"
      ]
     },
     "execution_count": 23,
     "metadata": {},
     "output_type": "execute_result"
    }
   ],
   "source": [
    "vowels=[\"a\",\"e\",\"i\",\"u\"]\n",
    "vowels.insert(3,\"o\")  # shift +tab inside the () # vowels.insert(index, object, /\n",
    "vowels"
   ]
  },
  {
   "cell_type": "code",
   "execution_count": 24,
   "id": "e7c7a6a2",
   "metadata": {},
   "outputs": [
    {
     "data": {
      "text/plain": [
       "['a', 'A', 'e', 'i', 'o', 'u']"
      ]
     },
     "execution_count": 24,
     "metadata": {},
     "output_type": "execute_result"
    }
   ],
   "source": [
    "vowels.insert(1,\"A\")\n",
    "vowels"
   ]
  },
  {
   "cell_type": "code",
   "execution_count": 26,
   "id": "7583fe80",
   "metadata": {},
   "outputs": [
    {
     "name": "stdout",
     "output_type": "stream",
     "text": [
      "2\n"
     ]
    }
   ],
   "source": [
    "vowels=[\"a\",\"e\",\"i\",\"u\"]\n",
    "vowels\n",
    "# you need to get index 3 by index method\n",
    "num=vowels.index(\"i\")  # 3 by using index method\n",
    "print(num)\n",
    "vowels.insert(num+1,\"o\")"
   ]
  },
  {
   "cell_type": "code",
   "execution_count": 27,
   "id": "c89f3d64",
   "metadata": {},
   "outputs": [
    {
     "data": {
      "text/plain": [
       "['a', 'e', 'i', 'o', 'u']"
      ]
     },
     "execution_count": 27,
     "metadata": {},
     "output_type": "execute_result"
    }
   ],
   "source": [
    "vowels"
   ]
  },
  {
   "cell_type": "markdown",
   "id": "14257d3e",
   "metadata": {},
   "source": [
    "## count "
   ]
  },
  {
   "cell_type": "code",
   "execution_count": 28,
   "id": "cd5d566d",
   "metadata": {},
   "outputs": [
    {
     "data": {
      "text/plain": [
       "3"
      ]
     },
     "execution_count": 28,
     "metadata": {},
     "output_type": "execute_result"
    }
   ],
   "source": [
    "numbers=[1,1,1,2,3,4,5,6]\n",
    "numbers.count(1)"
   ]
  },
  {
   "cell_type": "code",
   "execution_count": 4,
   "id": "4d1edfa7",
   "metadata": {},
   "outputs": [
    {
     "data": {
      "text/plain": [
       "['__add__',\n",
       " '__class__',\n",
       " '__class_getitem__',\n",
       " '__contains__',\n",
       " '__delattr__',\n",
       " '__delitem__',\n",
       " '__dir__',\n",
       " '__doc__',\n",
       " '__eq__',\n",
       " '__format__',\n",
       " '__ge__',\n",
       " '__getattribute__',\n",
       " '__getitem__',\n",
       " '__gt__',\n",
       " '__hash__',\n",
       " '__iadd__',\n",
       " '__imul__',\n",
       " '__init__',\n",
       " '__init_subclass__',\n",
       " '__iter__',\n",
       " '__le__',\n",
       " '__len__',\n",
       " '__lt__',\n",
       " '__mul__',\n",
       " '__ne__',\n",
       " '__new__',\n",
       " '__reduce__',\n",
       " '__reduce_ex__',\n",
       " '__repr__',\n",
       " '__reversed__',\n",
       " '__rmul__',\n",
       " '__setattr__',\n",
       " '__setitem__',\n",
       " '__sizeof__',\n",
       " '__str__',\n",
       " '__subclasshook__',\n",
       " 'append',\n",
       " 'clear',\n",
       " 'copy',\n",
       " 'count',\n",
       " 'extend',\n",
       " 'index',\n",
       " 'insert',\n",
       " 'pop',\n",
       " 'remove',\n",
       " 'reverse',\n",
       " 'sort']"
      ]
     },
     "execution_count": 4,
     "metadata": {},
     "output_type": "execute_result"
    }
   ],
   "source": [
    "dir([])"
   ]
  },
  {
   "cell_type": "code",
   "execution_count": 29,
   "id": "ff3a9d15",
   "metadata": {},
   "outputs": [],
   "source": [
    "from random import randint\n",
    "# create a list of 50 random numbers between 1,100"
   ]
  },
  {
   "cell_type": "code",
   "execution_count": 30,
   "id": "014ec051",
   "metadata": {},
   "outputs": [
    {
     "name": "stdout",
     "output_type": "stream",
     "text": [
      "18 56 72 91 88 82 46 83 55 12 63 9 78 96 23 22 22 4 43 5 2 57 51 65 42 69 20 14 77 86 60 66 8 74 10 12 80 28 86 53 40 41 59 50 56 49 27 59 77 29 "
     ]
    }
   ],
   "source": [
    "random_list=[]\n",
    "for i in range(50):\n",
    "    print(randint(1,100),end=\" \")"
   ]
  },
  {
   "cell_type": "code",
   "execution_count": 31,
   "id": "c5baca23",
   "metadata": {},
   "outputs": [],
   "source": [
    "for i in range(50):\n",
    "    random_list.append(randint(1,100))\n",
    "    \n",
    "    "
   ]
  },
  {
   "cell_type": "code",
   "execution_count": 32,
   "id": "ab39fbfd",
   "metadata": {},
   "outputs": [
    {
     "data": {
      "text/plain": [
       "[89,\n",
       " 56,\n",
       " 66,\n",
       " 64,\n",
       " 54,\n",
       " 6,\n",
       " 39,\n",
       " 44,\n",
       " 22,\n",
       " 31,\n",
       " 93,\n",
       " 71,\n",
       " 37,\n",
       " 8,\n",
       " 62,\n",
       " 37,\n",
       " 87,\n",
       " 35,\n",
       " 76,\n",
       " 25,\n",
       " 77,\n",
       " 27,\n",
       " 40,\n",
       " 75,\n",
       " 90,\n",
       " 77,\n",
       " 13,\n",
       " 99,\n",
       " 36,\n",
       " 15,\n",
       " 23,\n",
       " 12,\n",
       " 42,\n",
       " 9,\n",
       " 19,\n",
       " 71,\n",
       " 60,\n",
       " 88,\n",
       " 95,\n",
       " 92,\n",
       " 20,\n",
       " 35,\n",
       " 30,\n",
       " 1,\n",
       " 9,\n",
       " 32,\n",
       " 30,\n",
       " 44,\n",
       " 2,\n",
       " 66]"
      ]
     },
     "execution_count": 32,
     "metadata": {},
     "output_type": "execute_result"
    }
   ],
   "source": [
    "random_list"
   ]
  },
  {
   "cell_type": "code",
   "execution_count": 33,
   "id": "f4bb92b6",
   "metadata": {},
   "outputs": [
    {
     "data": {
      "text/plain": [
       "[1,\n",
       " 7,\n",
       " 52,\n",
       " 72,\n",
       " 8,\n",
       " 42,\n",
       " 34,\n",
       " 49,\n",
       " 15,\n",
       " 85,\n",
       " 84,\n",
       " 12,\n",
       " 16,\n",
       " 68,\n",
       " 39,\n",
       " 89,\n",
       " 72,\n",
       " 97,\n",
       " 45,\n",
       " 52,\n",
       " 22,\n",
       " 58,\n",
       " 64,\n",
       " 85,\n",
       " 17,\n",
       " 32,\n",
       " 73,\n",
       " 87,\n",
       " 54,\n",
       " 29,\n",
       " 56,\n",
       " 22,\n",
       " 65,\n",
       " 18,\n",
       " 8,\n",
       " 54,\n",
       " 61,\n",
       " 33,\n",
       " 65,\n",
       " 10,\n",
       " 60,\n",
       " 100,\n",
       " 99,\n",
       " 66,\n",
       " 13,\n",
       " 69,\n",
       " 3,\n",
       " 19,\n",
       " 45,\n",
       " 45]"
      ]
     },
     "execution_count": 33,
     "metadata": {},
     "output_type": "execute_result"
    }
   ],
   "source": [
    "# list comprehension\n",
    "random_list=[randint(1,100) for i in range(50)]\n",
    "random_list"
   ]
  },
  {
   "cell_type": "code",
   "execution_count": 34,
   "id": "b94dd736",
   "metadata": {},
   "outputs": [
    {
     "name": "stdout",
     "output_type": "stream",
     "text": [
      "1\n",
      "1\n",
      "2\n",
      "2\n",
      "2\n",
      "1\n",
      "1\n",
      "1\n",
      "1\n",
      "2\n"
     ]
    }
   ],
   "source": [
    "random_list[:10]\n",
    "# in entire random list we have 50 random numbers\n",
    "for i in random_list[:10]: # first 10 random numbers\n",
    "    print(random_list.count(i))"
   ]
  },
  {
   "cell_type": "code",
   "execution_count": 35,
   "id": "c759ac9b",
   "metadata": {},
   "outputs": [
    {
     "name": "stdout",
     "output_type": "stream",
     "text": [
      "1 is repeated 1 times\n",
      "7 is repeated 1 times\n",
      "52 is repeated 2 times\n",
      "72 is repeated 2 times\n",
      "8 is repeated 2 times\n",
      "42 is repeated 1 times\n",
      "34 is repeated 1 times\n",
      "49 is repeated 1 times\n",
      "15 is repeated 1 times\n",
      "85 is repeated 2 times\n"
     ]
    }
   ],
   "source": [
    "for i in random_list[:10]:\n",
    "    print(\"{} is repeated {} times\".format(i,random_list.count(i)))"
   ]
  },
  {
   "cell_type": "code",
   "execution_count": 36,
   "id": "13871a02",
   "metadata": {},
   "outputs": [
    {
     "name": "stdout",
     "output_type": "stream",
     "text": [
      "1 is repeated 1 times\n",
      "7 is repeated 1 times\n",
      "52 is repeated 2 times\n",
      "72 is repeated 2 times\n",
      "8 is repeated 2 times\n",
      "42 is repeated 1 times\n",
      "34 is repeated 1 times\n",
      "49 is repeated 1 times\n",
      "15 is repeated 1 times\n",
      "85 is repeated 2 times\n",
      "84 is repeated 1 times\n",
      "12 is repeated 1 times\n",
      "16 is repeated 1 times\n",
      "68 is repeated 1 times\n",
      "39 is repeated 1 times\n",
      "89 is repeated 1 times\n",
      "72 is repeated 2 times\n",
      "97 is repeated 1 times\n",
      "45 is repeated 3 times\n",
      "52 is repeated 2 times\n",
      "22 is repeated 2 times\n",
      "58 is repeated 1 times\n",
      "64 is repeated 1 times\n",
      "85 is repeated 2 times\n",
      "17 is repeated 1 times\n",
      "32 is repeated 1 times\n",
      "73 is repeated 1 times\n",
      "87 is repeated 1 times\n",
      "54 is repeated 2 times\n",
      "29 is repeated 1 times\n",
      "56 is repeated 1 times\n",
      "22 is repeated 2 times\n",
      "65 is repeated 2 times\n",
      "18 is repeated 1 times\n",
      "8 is repeated 2 times\n",
      "54 is repeated 2 times\n",
      "61 is repeated 1 times\n",
      "33 is repeated 1 times\n",
      "65 is repeated 2 times\n",
      "10 is repeated 1 times\n",
      "60 is repeated 1 times\n",
      "100 is repeated 1 times\n",
      "99 is repeated 1 times\n",
      "66 is repeated 1 times\n",
      "13 is repeated 1 times\n",
      "69 is repeated 1 times\n",
      "3 is repeated 1 times\n",
      "19 is repeated 1 times\n",
      "45 is repeated 3 times\n",
      "45 is repeated 3 times\n"
     ]
    }
   ],
   "source": [
    "for i in random_list: # all 50 numbers count\n",
    "    print(\"{} is repeated {} times\".format(i,random_list.count(i)))"
   ]
  },
  {
   "cell_type": "markdown",
   "id": "b3009355",
   "metadata": {},
   "source": [
    "## remove"
   ]
  },
  {
   "cell_type": "code",
   "execution_count": 40,
   "id": "3eede79a",
   "metadata": {},
   "outputs": [
    {
     "data": {
      "text/plain": [
       "[1, 3, 1, 2, 3]"
      ]
     },
     "execution_count": 40,
     "metadata": {},
     "output_type": "execute_result"
    }
   ],
   "source": [
    "# take a list of some elements\n",
    "# apply remove method\n",
    "list1=[1,2,3,1,2,3]\n",
    "list1.remove(2) # here only first occurence 2 removed\n",
    "list1   # but how can we remove specific element"
   ]
  },
  {
   "cell_type": "code",
   "execution_count": 38,
   "id": "95d22644",
   "metadata": {},
   "outputs": [
    {
     "ename": "ValueError",
     "evalue": "list.remove(x): x not in list",
     "output_type": "error",
     "traceback": [
      "\u001b[1;31m---------------------------------------------------------------------------\u001b[0m",
      "\u001b[1;31mValueError\u001b[0m                                Traceback (most recent call last)",
      "Input \u001b[1;32mIn [38]\u001b[0m, in \u001b[0;36m<cell line: 2>\u001b[1;34m()\u001b[0m\n\u001b[0;32m      1\u001b[0m list1\u001b[38;5;241m.\u001b[39mremove(\u001b[38;5;241m2\u001b[39m)\n\u001b[1;32m----> 2\u001b[0m \u001b[43mlist1\u001b[49m\u001b[38;5;241;43m.\u001b[39;49m\u001b[43mremove\u001b[49m\u001b[43m(\u001b[49m\u001b[38;5;241;43m10\u001b[39;49m\u001b[43m)\u001b[49m\n",
      "\u001b[1;31mValueError\u001b[0m: list.remove(x): x not in list"
     ]
    }
   ],
   "source": [
    "list1.remove(2)\n",
    "list1.remove(10) # error"
   ]
  },
  {
   "cell_type": "code",
   "execution_count": 43,
   "id": "963238c5",
   "metadata": {},
   "outputs": [
    {
     "data": {
      "text/plain": [
       "[1, 3, 1, 3]"
      ]
     },
     "execution_count": 43,
     "metadata": {},
     "output_type": "execute_result"
    }
   ],
   "source": [
    "list1"
   ]
  },
  {
   "cell_type": "markdown",
   "id": "678dce14",
   "metadata": {},
   "source": [
    "## pop "
   ]
  },
  {
   "cell_type": "code",
   "execution_count": 44,
   "id": "ec656030",
   "metadata": {},
   "outputs": [
    {
     "data": {
      "text/plain": [
       "2"
      ]
     },
     "execution_count": 44,
     "metadata": {},
     "output_type": "execute_result"
    }
   ],
   "source": [
    "list1=[1,2,3,1,2,3]\n",
    "# you can remove the elements using index\n",
    "# in remove method only first occurence element is removing\n",
    "# that problem can avoid by using pop method\n",
    "# at 4th index we have 2 value\n",
    "list1.pop(4) # remove 4th index element"
   ]
  },
  {
   "cell_type": "code",
   "execution_count": 45,
   "id": "dffc7bd7",
   "metadata": {},
   "outputs": [
    {
     "data": {
      "text/plain": [
       "[1, 2, 3, 1, 3]"
      ]
     },
     "execution_count": 45,
     "metadata": {},
     "output_type": "execute_result"
    }
   ],
   "source": [
    "list1"
   ]
  },
  {
   "cell_type": "code",
   "execution_count": null,
   "id": "596766c3",
   "metadata": {},
   "outputs": [],
   "source": [
    "# you can't remove all the repeated elements in a list by using list concepts"
   ]
  },
  {
   "cell_type": "code",
   "execution_count": 46,
   "id": "68854e05",
   "metadata": {},
   "outputs": [
    {
     "data": {
      "text/plain": [
       "['B', 10, 'D']"
      ]
     },
     "execution_count": 46,
     "metadata": {},
     "output_type": "execute_result"
    }
   ],
   "source": [
    "list1=[1,2,3,4]\n",
    "list2=[1,2,3,4,\"apple\",[\"B\",10,\"D\"]]  # list in list\n",
    "list2[5]"
   ]
  },
  {
   "cell_type": "code",
   "execution_count": 47,
   "id": "a37f962d",
   "metadata": {},
   "outputs": [
    {
     "data": {
      "text/plain": [
       "10"
      ]
     },
     "execution_count": 47,
     "metadata": {},
     "output_type": "execute_result"
    }
   ],
   "source": [
    "list2[5][1]"
   ]
  },
  {
   "cell_type": "code",
   "execution_count": 48,
   "id": "986ca635",
   "metadata": {},
   "outputs": [
    {
     "data": {
      "text/plain": [
       "10"
      ]
     },
     "execution_count": 48,
     "metadata": {},
     "output_type": "execute_result"
    }
   ],
   "source": [
    "l=list2[5]\n",
    "l[1] # both are same "
   ]
  },
  {
   "cell_type": "markdown",
   "id": "b5779099",
   "metadata": {},
   "source": [
    "## reverse"
   ]
  },
  {
   "cell_type": "code",
   "execution_count": 49,
   "id": "601df3be",
   "metadata": {},
   "outputs": [
    {
     "data": {
      "text/plain": [
       "['python', 2, 1]"
      ]
     },
     "execution_count": 49,
     "metadata": {},
     "output_type": "execute_result"
    }
   ],
   "source": [
    "a=[1,2,\"python\"]\n",
    "a.reverse()\n",
    "a"
   ]
  },
  {
   "cell_type": "code",
   "execution_count": 50,
   "id": "d231e3c4",
   "metadata": {},
   "outputs": [
    {
     "data": {
      "text/plain": [
       "[1, 2, 'python']"
      ]
     },
     "execution_count": 50,
     "metadata": {},
     "output_type": "execute_result"
    }
   ],
   "source": [
    "a[::-1]"
   ]
  },
  {
   "cell_type": "markdown",
   "id": "b37301af",
   "metadata": {},
   "source": [
    "## sort"
   ]
  },
  {
   "cell_type": "markdown",
   "id": "5471f630",
   "metadata": {},
   "source": [
    "- you can sort the elements\n",
    "- by ascending/descending order"
   ]
  },
  {
   "cell_type": "code",
   "execution_count": 51,
   "id": "14ea3bfc",
   "metadata": {},
   "outputs": [
    {
     "data": {
      "text/plain": [
       "[1, 9, 25, 50, 67, 89, 100]"
      ]
     },
     "execution_count": 51,
     "metadata": {},
     "output_type": "execute_result"
    }
   ],
   "source": [
    "ele=[1,50,100,25,67,89,9]\n",
    "ele.sort()  # ascending order\n",
    "            # shift + tab \n",
    "            # it consider reverse=false as default value\n",
    "ele"
   ]
  },
  {
   "cell_type": "code",
   "execution_count": 52,
   "id": "800121be",
   "metadata": {},
   "outputs": [
    {
     "ename": "NameError",
     "evalue": "name 'true' is not defined",
     "output_type": "error",
     "traceback": [
      "\u001b[1;31m---------------------------------------------------------------------------\u001b[0m",
      "\u001b[1;31mNameError\u001b[0m                                 Traceback (most recent call last)",
      "Input \u001b[1;32mIn [52]\u001b[0m, in \u001b[0;36m<cell line: 1>\u001b[1;34m()\u001b[0m\n\u001b[1;32m----> 1\u001b[0m ele\u001b[38;5;241m.\u001b[39msort(reverse\u001b[38;5;241m=\u001b[39m\u001b[43mtrue\u001b[49m)\n\u001b[0;32m      2\u001b[0m ele\n",
      "\u001b[1;31mNameError\u001b[0m: name 'true' is not defined"
     ]
    }
   ],
   "source": [
    "ele.sort(reverse=true)  # use True\n",
    "ele"
   ]
  },
  {
   "cell_type": "code",
   "execution_count": 53,
   "id": "93465ff6",
   "metadata": {},
   "outputs": [
    {
     "data": {
      "text/plain": [
       "[100, 89, 67, 50, 25, 9, 1]"
      ]
     },
     "execution_count": 53,
     "metadata": {},
     "output_type": "execute_result"
    }
   ],
   "source": [
    "ele.sort(reverse=True)  # use True\n",
    "ele # descending order"
   ]
  },
  {
   "cell_type": "code",
   "execution_count": 54,
   "id": "7de37d1c",
   "metadata": {},
   "outputs": [],
   "source": [
    "string1=\"hai how are you\"\n",
    "# here every word seperated by space\n",
    "# hai....how....are....you\n",
    "words=string1.split(\" \") # list of words"
   ]
  },
  {
   "cell_type": "code",
   "execution_count": 55,
   "id": "43066bd8",
   "metadata": {},
   "outputs": [
    {
     "data": {
      "text/plain": [
       "['hai', 'how', 'are', 'you']"
      ]
     },
     "execution_count": 55,
     "metadata": {},
     "output_type": "execute_result"
    }
   ],
   "source": [
    "words"
   ]
  },
  {
   "cell_type": "code",
   "execution_count": null,
   "id": "45f273a1",
   "metadata": {},
   "outputs": [],
   "source": [
    "# if you want to join back as same as string1"
   ]
  },
  {
   "cell_type": "code",
   "execution_count": 56,
   "id": "bbac6a50",
   "metadata": {},
   "outputs": [
    {
     "data": {
      "text/plain": [
       "'hai how are you'"
      ]
     },
     "execution_count": 56,
     "metadata": {},
     "output_type": "execute_result"
    }
   ],
   "source": [
    "\" \".join(words)"
   ]
  },
  {
   "cell_type": "code",
   "execution_count": 57,
   "id": "f533d508",
   "metadata": {},
   "outputs": [
    {
     "data": {
      "text/plain": [
       "'haihowareyou'"
      ]
     },
     "execution_count": 57,
     "metadata": {},
     "output_type": "execute_result"
    }
   ],
   "source": [
    "\"\".join(words)"
   ]
  },
  {
   "cell_type": "code",
   "execution_count": 58,
   "id": "0f2a58f2",
   "metadata": {},
   "outputs": [],
   "source": [
    "# splitting ====== join"
   ]
  },
  {
   "cell_type": "code",
   "execution_count": 59,
   "id": "2e321eea",
   "metadata": {},
   "outputs": [],
   "source": [
    "# you want conducting one exam\n",
    "# list of question\n",
    "# list of answer\n",
    "# how many are right answers"
   ]
  },
  {
   "cell_type": "code",
   "execution_count": 5,
   "id": "37a8b51b",
   "metadata": {},
   "outputs": [
    {
     "name": "stdout",
     "output_type": "stream",
     "text": [
      "what is the capital of indiac\n",
      "wrong\n",
      "how many states in indiac\n",
      "wrong\n",
      "who is the presisdent of indiac\n",
      "wrong\n"
     ]
    }
   ],
   "source": [
    "question=[\"what is the capital of india\",\n",
    "         \"how many states in india\",\n",
    "         \"who is the presisdent of india\"]\n",
    "answers=[\"delhi\",\"28\",\"murmu\"]  # quotes on 29 is put bcz user will provide ans and by default it will consider as string\n",
    "for i in range(len(question)): # 0 1 2 # iterate through all questions list\n",
    "    guess=input(question[i])  # gussing answer for each question\n",
    "    if guess==answers[i]:# we are comparing guess answer to original ans list\n",
    "        print(\"correct\")\n",
    "    else:\n",
    "        print(\"wrong\")\n",
    "        "
   ]
  },
  {
   "cell_type": "code",
   "execution_count": 66,
   "id": "700ae4b3",
   "metadata": {},
   "outputs": [
    {
     "name": "stdout",
     "output_type": "stream",
     "text": [
      "what is the capital of indiaDelhi\n",
      "wrong\n",
      "how many states in india28\n",
      "correct\n",
      "who is the presisdent of indiaMurmu\n",
      "wrong\n"
     ]
    }
   ],
   "source": [
    "question=[\"what is the capital of india\",\n",
    "         \"how many states in india\",\n",
    "         \"who is the presisdent of india\"]\n",
    "answers=[\"delhi\",\"28\",\"murmu\"]  # quotes on 29 is put bcz user will provide ans and by default it will consider as string\n",
    "for i in range(len(question)): # 0 1 2 # iterate through all questions list\n",
    "    guess=input(question[i])  # gussing answer for each question\n",
    "    if guess==answers[i]:# we are comparing guess answer to original ans list\n",
    "        print(\"correct\")\n",
    "    else:\n",
    "        print(\"wrong\")"
   ]
  },
  {
   "cell_type": "code",
   "execution_count": null,
   "id": "ca56d40e",
   "metadata": {},
   "outputs": [],
   "source": [
    "# to overcome this use lower"
   ]
  },
  {
   "cell_type": "code",
   "execution_count": 70,
   "id": "043f0011",
   "metadata": {},
   "outputs": [
    {
     "name": "stdout",
     "output_type": "stream",
     "text": [
      "what is the capital of indiadelhi\n",
      "correct\n",
      "how many states in india45\n",
      "wrong\n",
      "who is the presisdent of indiamurmu\n",
      "correct\n",
      "you have 2 correct answer\n"
     ]
    }
   ],
   "source": [
    "question=[\"what is the capital of india\",\n",
    "         \"how many states in india\",\n",
    "         \"who is the presisdent of india\"]\n",
    "answers=[\"delhi\",\"28\",\"murmu\"]# quotes on 29 is put bcz user will provide ans and by default it will consider as string\n",
    "right_ans=0\n",
    "for i in range(len(question)): # 0 1 2 # iterate through all questions list\n",
    "    guess=input(question[i])  # gussing answer for each question\n",
    "    if guess.lower()==answers[i].lower():# we are comparing guess answer to original ans list\n",
    "        print(\"correct\")\n",
    "        right_ans=right_ans+1\n",
    "    else:\n",
    "        print(\"wrong\")\n",
    "print(\"you have {} correct answer\".format(right_ans))       "
   ]
  },
  {
   "cell_type": "code",
   "execution_count": 72,
   "id": "07e4ca3f",
   "metadata": {},
   "outputs": [
    {
     "name": "stdout",
     "output_type": "stream",
     "text": [
      "what is the capital of indiadelhi\n",
      "correct\n",
      "how many states in india32\n",
      "wrong , the correct answer is: 28\n",
      "who is the presisdent of indiammmmm\n",
      "wrong , the correct answer is: murmu\n",
      "you have 1 correct answer\n"
     ]
    }
   ],
   "source": [
    "question=[\"what is the capital of india\",\n",
    "         \"how many states in india\",\n",
    "         \"who is the presisdent of india\"]\n",
    "answers=[\"delhi\",\"28\",\"murmu\"]# quotes on 29 is put bcz user will provide ans and by default it will consider as string\n",
    "right_ans=0\n",
    "for i in range(len(question)): # 0 1 2 # iterate through all questions list\n",
    "    guess=input(question[i])  # gussing answer for each question\n",
    "    if guess.lower()==answers[i].lower():# we are comparing guess answer to original ans list\n",
    "        print(\"correct\")\n",
    "        right_ans=right_ans+1\n",
    "    else:\n",
    "        print(\"wrong , the correct answer is:\",answers[i])\n",
    "print(\"you have {} correct answer\".format(right_ans))       "
   ]
  },
  {
   "cell_type": "code",
   "execution_count": null,
   "id": "8671b1a0",
   "metadata": {},
   "outputs": [],
   "source": [
    "# question for me\n",
    "# he wants to take list of numbers\n",
    "# some pos numbers\n",
    "# zeros\n",
    "# and some negative numbers\n",
    "# objective: how much percentage of pos number in a list\n",
    "#            how much percentage of zerors are there\n",
    "#            how much percentage of negative numbers\n",
    "# also try in function\n",
    "# try-except"
   ]
  },
  {
   "cell_type": "code",
   "execution_count": 73,
   "id": "d9f7c350",
   "metadata": {},
   "outputs": [
    {
     "name": "stdout",
     "output_type": "stream",
     "text": [
      "enter a list:1,2,3,0,-1,-2,-3\n"
     ]
    }
   ],
   "source": [
    "list1=[eval(input(\"enter a list:\"))]\n",
    "# 3\n",
    "# 7\n",
    "# pos percentage 3/7\n"
   ]
  },
  {
   "cell_type": "code",
   "execution_count": 74,
   "id": "74987b89",
   "metadata": {},
   "outputs": [
    {
     "data": {
      "text/plain": [
       "[(1, 2, 3, 0, -1, -2, -3)]"
      ]
     },
     "execution_count": 74,
     "metadata": {},
     "output_type": "execute_result"
    }
   ],
   "source": [
    "list1 # list of tuple"
   ]
  },
  {
   "cell_type": "code",
   "execution_count": 76,
   "id": "7bb1c6cb",
   "metadata": {},
   "outputs": [
    {
     "name": "stdout",
     "output_type": "stream",
     "text": [
      "enter a list:1,2,3,0,-1,-2,-3\n"
     ]
    }
   ],
   "source": [
    "list1=eval(input(\"enter a list:\"))"
   ]
  },
  {
   "cell_type": "code",
   "execution_count": 77,
   "id": "60562adf",
   "metadata": {},
   "outputs": [
    {
     "data": {
      "text/plain": [
       "(1, 2, 3, 0, -1, -2, -3)"
      ]
     },
     "execution_count": 77,
     "metadata": {},
     "output_type": "execute_result"
    }
   ],
   "source": [
    "list1 # tuple"
   ]
  },
  {
   "cell_type": "code",
   "execution_count": 78,
   "id": "df90730c",
   "metadata": {},
   "outputs": [
    {
     "name": "stdout",
     "output_type": "stream",
     "text": [
      "enter a list:[1,2,3,0,-1,-2,-3]\n"
     ]
    }
   ],
   "source": [
    "list1=eval(input(\"enter a list:\")) # we have to put himself bracket"
   ]
  },
  {
   "cell_type": "code",
   "execution_count": 79,
   "id": "639a967c",
   "metadata": {},
   "outputs": [
    {
     "data": {
      "text/plain": [
       "[1, 2, 3, 0, -1, -2, -3]"
      ]
     },
     "execution_count": 79,
     "metadata": {},
     "output_type": "execute_result"
    }
   ],
   "source": [
    "list1  # list"
   ]
  },
  {
   "cell_type": "code",
   "execution_count": null,
   "id": "3e7b3332",
   "metadata": {},
   "outputs": [],
   "source": [
    "pos_list=[i if i>0 for i in list1]\n",
    "neg_list1=[i if i<0 for i in list1]\n",
    "zero_list=[i if i==0 for i in list1]"
   ]
  }
 ],
 "metadata": {
  "kernelspec": {
   "display_name": "Python 3 (ipykernel)",
   "language": "python",
   "name": "python3"
  },
  "language_info": {
   "codemirror_mode": {
    "name": "ipython",
    "version": 3
   },
   "file_extension": ".py",
   "mimetype": "text/x-python",
   "name": "python",
   "nbconvert_exporter": "python",
   "pygments_lexer": "ipython3",
   "version": "3.9.12"
  }
 },
 "nbformat": 4,
 "nbformat_minor": 5
}
