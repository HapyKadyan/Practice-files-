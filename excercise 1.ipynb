{
 "cells": [
  {
   "cell_type": "markdown",
   "id": "31178fab",
   "metadata": {},
   "source": [
    "1.\tRamesh’s basic salary is input through the keyboard. His dearness allowance is 40% of basic salary, and house rent allowance is 20% of basic salary. Write a program to calculate his gross salary."
   ]
  },
  {
   "cell_type": "code",
   "execution_count": 8,
   "id": "75dd5129",
   "metadata": {},
   "outputs": [
    {
     "name": "stdout",
     "output_type": "stream",
     "text": [
      "enter the ramesh salary 100000\n",
      "dearness allowance\n",
      "40000.0\n",
      "house rent\n",
      "20000.0\n",
      "the gross salary of ramesh is 160000.0rs\n"
     ]
    }
   ],
   "source": [
    "ramesh_salary=int(input(\"enter the ramesh salary \"))\n",
    "da=40/100*ramesh_salary\n",
    "hr=20/100*ramesh_salary\n",
    "print(\"dearness allowance\",da,'house rent',hr,sep=\"\\n\")\n",
    "print(\"the gross salary of ramesh is \",ramesh_salary+da+hr,\"rs\",sep=\"\")"
   ]
  },
  {
   "cell_type": "markdown",
   "id": "96e3ee34",
   "metadata": {},
   "source": [
    "2.\tThe distance between two cities (in km.) is input through the keyboard. Write a program to convert and print this distance in meters, feet, inches and centimeters.\n",
    "\n"
   ]
  },
  {
   "cell_type": "code",
   "execution_count": 13,
   "id": "35384b27",
   "metadata": {},
   "outputs": [
    {
     "name": "stdout",
     "output_type": "stream",
     "text": [
      "enter the distance between two cities(in km) 20\n",
      " the distance after converting from km to meters is 20000meter\n",
      " the distance after converting from km to feet is 65616.798feet\n",
      " the distance after converting from km to inches is 787401.574inches\n",
      " the distance after converting from km to centimeters is 2000000centimeter\n"
     ]
    }
   ],
   "source": [
    "d=int(input(\"enter the distance between two cities(in km) \"))\n",
    "print(\" the distance after converting from km to meters is \",d*1000,\"meter\",sep=\"\")\n",
    "print(\" the distance after converting from km to feet is \",3280.8399*d,\"feet\",sep=\"\")\n",
    "print(\" the distance after converting from km to inches is \",39370.0787*d,\"inches\",sep=\"\")\n",
    "print(\" the distance after converting from km to centimeters is \",100000*d,\"centimeter\",sep=\"\")"
   ]
  },
  {
   "cell_type": "code",
   "execution_count": null,
   "id": "a9885dda",
   "metadata": {},
   "outputs": [],
   "source": [
    "DISTANCE=eval(input(\"Enter the Distance between the cities in KM:\"))\n",
    "meter=DISTANCE*100\n",
    "feet=DISTANCE*3280.84\n",
    "inches=DISTANCE*39370.079\n",
    "cm=DISTANCE*100000\n",
    "\n",
    "print(\"IN meter={}\\nIN feet={}\\nIn inches={}\\nIN CM={}\".format(meter,feet,inches,cm))\n"
   ]
  },
  {
   "cell_type": "markdown",
   "id": "23b825c4",
   "metadata": {},
   "source": [
    "3.\tIf the marks obtained by a student in five different subjects are input through the keyboard, find out the aggregate marks and percentage marks obtained by the student. Assume that the maximum marks that can be obtained by a student in each subject is 100"
   ]
  },
  {
   "cell_type": "code",
   "execution_count": null,
   "id": "e9629f53",
   "metadata": {},
   "outputs": [],
   "source": [
    "a=eval(input(\"enter the marks obtained in hindi out of 100 is \"))\n",
    "b=eval(input(\"enter the marks obtained in english out of 100 is \"))\n",
    "c=eval(input(\"enter the marks obtained in math out of 100 is \"))\n",
    "d=eval(input(\"enter the marks obtained in physics out of 100 is \"))\n",
    "e=eval(input(\"enter the marks obtained in chemistry out of 100 is \"))\n",
    "f=a+b+c+d+e\n",
    "print(\"the total marks obtained out of 500 is \",f)\n",
    "print(\"the percentage obtained is \",round((f/500*100),2),\"%\",sep=\"\")"
   ]
  },
  {
   "cell_type": "code",
   "execution_count": null,
   "id": "8dee7b24",
   "metadata": {},
   "outputs": [],
   "source": [
    "marks=eval(input(\"Hindi:\")),eval(input(\"English:\")),eval(input(\"Maths:\")),eval(input(\"SST:\")),eval(input(\"Science:\"))\n",
    "\n",
    "total=sum(marks)\n",
    "print(\"The total marks obtained:\",total)\n",
    "percentage=(total/500)*100\n",
    "\n",
    "print(\"percentage:\",percentage)\n",
    "\n"
   ]
  },
  {
   "cell_type": "markdown",
   "id": "5e05545c",
   "metadata": {},
   "source": [
    "4.\tTemperature of a city in Fahrenheit degrees is input through the keyboard. Write a program to convert this temperature into Centigrade degrees"
   ]
  },
  {
   "cell_type": "code",
   "execution_count": 27,
   "id": "fb7f2aa6",
   "metadata": {},
   "outputs": [
    {
     "name": "stdout",
     "output_type": "stream",
     "text": [
      "enter the temperature of a city in fahrenheit: 36\n",
      "fahrenheit in centigrade degrees is  96.8\n"
     ]
    }
   ],
   "source": [
    "a=eval(input(\"enter the temperature of a city in fahrenheit: \"))\n",
    "b=(9/5*a)+32\n",
    "print(\"fahrenheit in centigrade degrees is \",b)"
   ]
  },
  {
   "cell_type": "code",
   "execution_count": null,
   "id": "9d29903d",
   "metadata": {},
   "outputs": [],
   "source": [
    "F=eval(input(\"Write temperature in Fahrenheit:\"))\n",
    "degree=(F-32)*5/9\n",
    "print('Tem in Centigrade degrees is ',degree,\"C.\")\n"
   ]
  },
  {
   "cell_type": "markdown",
   "id": "58c88363",
   "metadata": {},
   "source": [
    "5.\tThe length & breadth of a rectangle and radius of a circle are input through the keyboard. Write a program to calculate the area & perimeter of the rectangle, and the area & circumference of the circle.\n",
    "\n"
   ]
  },
  {
   "cell_type": "code",
   "execution_count": 29,
   "id": "a2a7a1c3",
   "metadata": {},
   "outputs": [
    {
     "name": "stdout",
     "output_type": "stream",
     "text": [
      "enter the length of a rectangle: 10\n",
      "enter the breadth of a rectangle: 15\n",
      "enter the radius of a circle: 7\n",
      "the area of rectangle is  150\n",
      "the perimeter of rectangle is  50\n",
      "the area of circle is  154.0\n",
      "the circumference of cricle is  44.0\n"
     ]
    }
   ],
   "source": [
    "l=eval(input(\"enter the length of a rectangle: \"))\n",
    "b=eval(input(\"enter the breadth of a rectangle: \"))\n",
    "r=eval(input(\"enter the radius of a circle: \"))\n",
    "area=l*b\n",
    "perimeter=(l+b)*2\n",
    "area1=(22/7)*r**2\n",
    "peri2=2*(22/7)*r\n",
    "print(\"the area of rectangle is \",area)\n",
    "print(\"the perimeter of rectangle is \",perimeter)\n",
    "print(\"the area of circle is \",area1)\n",
    "print(\"the circumference of cricle is \",peri2)"
   ]
  },
  {
   "cell_type": "code",
   "execution_count": null,
   "id": "5cdceffd",
   "metadata": {},
   "outputs": [],
   "source": [
    "Length=eval(input(\"Length:\"))\n",
    "Breadth=eval(input(\"Breadth:\"))\n",
    "\n",
    "area_of_rectangle=Length*Breadth\n",
    "perimeter=2*(Length+Breadth)\n",
    "\n",
    "\n",
    "print(\"Area of Rectangle:\",area_of_rectangle)\n",
    "print(\"Perimeter of Rectangle:\",perimeter)\n",
    "\n",
    "import math\n",
    "Radius=eval(input(\"Radius of circle:\"))\n",
    "Area=math.pi*2*Radius\n",
    "print(\"Area of circle:\",Area)\n"
   ]
  },
  {
   "cell_type": "markdown",
   "id": "a04ccb22",
   "metadata": {},
   "source": [
    "6.\tTwo numbers are input through the keyboard into two locations C and D. Write a program to interchange the contents of C and D."
   ]
  },
  {
   "cell_type": "code",
   "execution_count": 31,
   "id": "5f000f63",
   "metadata": {},
   "outputs": [
    {
     "name": "stdout",
     "output_type": "stream",
     "text": [
      "enter first number: 20\n",
      "enter second number: 30\n",
      "30\n",
      "20\n"
     ]
    }
   ],
   "source": [
    "C=eval(input(\"enter first number: \"))\n",
    "D=eval(input(\"enter second number: \"))\n",
    "C,D=D,C # will interchange the content\n",
    "print(C)\n",
    "print(D)"
   ]
  },
  {
   "cell_type": "markdown",
   "id": "6b8a2e5d",
   "metadata": {},
   "source": [
    "7.\tIf a five-digit number is input through the keyboard, write a program to reverse the number."
   ]
  },
  {
   "cell_type": "code",
   "execution_count": 40,
   "id": "f1d790e1",
   "metadata": {},
   "outputs": [
    {
     "name": "stdout",
     "output_type": "stream",
     "text": [
      "enter a five-digit number: 12345\n",
      "5\n",
      "54\n",
      "543\n",
      "5432\n",
      "54321\n"
     ]
    }
   ],
   "source": [
    "a=eval(input(\"enter a five-digit number: \"))\n",
    "rev=0\n",
    "while a>0:\n",
    "    rev=rev*10 + a%10\n",
    "    a=a//10\n",
    "    print(rev)"
   ]
  },
  {
   "cell_type": "markdown",
   "id": "1b2d04aa",
   "metadata": {},
   "source": [
    "8.\tIf a four-digit number is input through the keyboard, write a program to obtain the sum of the first and last digit of this number"
   ]
  },
  {
   "cell_type": "code",
   "execution_count": 41,
   "id": "b6c62c2a",
   "metadata": {},
   "outputs": [
    {
     "name": "stdout",
     "output_type": "stream",
     "text": [
      "enter a four digit number1234\n",
      "sum  5\n"
     ]
    }
   ],
   "source": [
    "a=int(input(\"enter a four digit number\"))\n",
    "sum1=a//1000 + a%10\n",
    "print(\"sum \",sum1)"
   ]
  },
  {
   "cell_type": "code",
   "execution_count": 46,
   "id": "709af4c0",
   "metadata": {},
   "outputs": [
    {
     "name": "stdout",
     "output_type": "stream",
     "text": [
      "enter a any digit number34569\n",
      "last digit is 9\n",
      "3456\n",
      "345\n",
      "34\n",
      "3\n",
      "sum of first digit(3) and last digit(9) is 12\n"
     ]
    }
   ],
   "source": [
    "a=int(input(\"enter a any digit number\"))\n",
    "last_digit=a%10\n",
    "print(\"last digit is\",last_digit)\n",
    "first_digit=a\n",
    "while first_digit>=10:   \n",
    "    first_digit=first_digit//10\n",
    "    print(first_digit)\n",
    "print(\"sum of first digit({}) and last digit({}) is {}\".format(first_digit,last_digit,first_digit+last_digit))    \n",
    "    "
   ]
  },
  {
   "cell_type": "markdown",
   "id": "b5850269",
   "metadata": {},
   "source": [
    "9.\tIn a town, the percentage of men is 52. The percentage of total literacy is 48. If total percentage of literate men is 35 of the total population, write a program to find the total number of illiterate men and women if the population of the town is 80,000.\n",
    "\n"
   ]
  },
  {
   "cell_type": "code",
   "execution_count": 54,
   "id": "18f0308d",
   "metadata": {},
   "outputs": [
    {
     "name": "stdout",
     "output_type": "stream",
     "text": [
      "population is  80000\n",
      "total mens are 52 % of popluation 41600.0\n",
      "total womens are 48 % of population 38400.0\n",
      "total literacy of 48% is  38400.0\n",
      "total number of mens are literacy is 35 %   13440.0\n",
      "total women literacy is 65%  24960.0\n",
      "total number of illiterate men are  28160.0\n",
      "total number of illiterate women are  13440.0\n"
     ]
    }
   ],
   "source": [
    "population=80000\n",
    "print(\"population is \",population)\n",
    "total_men=52/100*80000\n",
    "print(\"total mens are 52 % of popluation\",total_men)\n",
    "total_women=population-total_men\n",
    "print(\"total womens are 48 % of population\",total_women)\n",
    "total_literacy = 48/100*80000\n",
    "print(\"total literacy of 48% is \",total_literacy)\n",
    "total_men_literacy=35/100*total_literacy\n",
    "print(\"total number of mens are literacy is 35 %  \",total_men_literacy)\n",
    "total_women_literacy=total_literacy-total_men_literacy\n",
    "print(\"total women literacy is 65% \",total_women_literacy)\n",
    "print(\"total number of illiterate men are \",total_men-total_men_literacy)\n",
    "print(\"total number of illiterate women are \",total_women-total_women_literacy)"
   ]
  },
  {
   "cell_type": "code",
   "execution_count": 59,
   "id": "ac4851a3",
   "metadata": {},
   "outputs": [
    {
     "name": "stdout",
     "output_type": "stream",
     "text": [
      "total illiterate men are  27040.0\n"
     ]
    }
   ],
   "source": [
    "a=52/100*80000\n",
    "b=65/100*a\n",
    "print(\"total illiterate men are \",b)"
   ]
  },
  {
   "cell_type": "markdown",
   "id": "c3dae172",
   "metadata": {},
   "source": [
    "10.\tA cashier has currency notes of denominations 10, 50 and 100. If the amount to be withdrawn is input through the keyboard in hundreds, find the total number of currency notes of each denomination the cashier will have to give to the withdrawer."
   ]
  },
  {
   "cell_type": "code",
   "execution_count": 4,
   "id": "d153b4a4",
   "metadata": {},
   "outputs": [
    {
     "name": "stdout",
     "output_type": "stream",
     "text": [
      "enter the amount: 560\n",
      "100rs notes in 560 is 5\n",
      "50rs notes in 560 is 11\n",
      "10rs notes in 560 is 56\n"
     ]
    }
   ],
   "source": [
    "amount=int(input(\"enter the amount: \"))\n",
    "a=amount//100\n",
    "print(\"100rs notes in {} is {}\".format(amount,a))\n",
    "b=amount//50\n",
    "print(\"50rs notes in {} is {}\".format(amount,b))\n",
    "c=amount//10\n",
    "print(\"10rs notes in {} is {}\".format(amount,c))"
   ]
  },
  {
   "cell_type": "code",
   "execution_count": 17,
   "id": "0af059eb",
   "metadata": {},
   "outputs": [
    {
     "name": "stdout",
     "output_type": "stream",
     "text": [
      "enter the amount: 7253\n",
      "2000rs notes in 7253 is 3\n",
      "500rs notes in 1253 is 2\n",
      "100rs notes in 253 is 2\n",
      "50rs notes in 53 is 1\n",
      "10rs notes in 3 is 0\n",
      "5rs notes in 3 is 0\n",
      "2rs notes in 3 is 1\n",
      "1rs notes in 1 is 1\n"
     ]
    }
   ],
   "source": [
    "amount=eval(input(\"enter the amount: \"))\n",
    "a=amount//2000\n",
    "print(\"2000rs notes in {} is {}\".format(amount,a))\n",
    "g500=amount-2000*a\n",
    "g=g500//500\n",
    "print(\"500rs notes in {} is {}\".format(g500,g))\n",
    "h100=g500-g*500\n",
    "h=h100//100\n",
    "print(\"100rs notes in {} is {}\".format(h100,h))\n",
    "b50=h100-100*h\n",
    "b=b50//50\n",
    "print(\"50rs notes in {} is {}\".format(b50,b))\n",
    "c10=b50-50*b\n",
    "c=c10//10\n",
    "print(\"10rs notes in {} is {}\".format(c10,c))\n",
    "d5=c10-10*c\n",
    "d=d5//5\n",
    "print(\"5rs notes in {} is {}\".format(d5,d))\n",
    "e2=d5-5*d\n",
    "e=e2//2\n",
    "print(\"2rs notes in {} is {}\".format(e2,e))\n",
    "f1=e2-e*2\n",
    "f=f1//1\n",
    "print(\"1rs notes in {} is {}\".format(f1,f))"
   ]
  },
  {
   "cell_type": "code",
   "execution_count": 5,
   "id": "54e5584b",
   "metadata": {},
   "outputs": [],
   "source": [
    "# give prefrence to bigger note "
   ]
  },
  {
   "cell_type": "code",
   "execution_count": null,
   "id": "e7f47ccf",
   "metadata": {},
   "outputs": [],
   "source": [
    "amount=int(input(\"enter the amount: \"))\n",
    "counts=0\n",
    "while amount<10:\n",
    "    counts=amount//100\n",
    "    print(\"100rs notes are \",counts)\n",
    "    amount//50"
   ]
  },
  {
   "cell_type": "code",
   "execution_count": 7,
   "id": "eb06fccd",
   "metadata": {},
   "outputs": [
    {
     "data": {
      "text/plain": [
       "(5, 50)"
      ]
     },
     "execution_count": 7,
     "metadata": {},
     "output_type": "execute_result"
    }
   ],
   "source": [
    "divmod(550,100) "
   ]
  },
  {
   "cell_type": "code",
   "execution_count": 24,
   "id": "ad0e4086",
   "metadata": {},
   "outputs": [],
   "source": [
    "def currency_notes(amount):\n",
    "    a,b=divmod(amount,100)\n",
    "    return a,b\n",
    "\n",
    "\n",
    "\n",
    "a,b=currency_notes(amount)\n",
    "c,d=divmod(b,50)"
   ]
  },
  {
   "cell_type": "code",
   "execution_count": 25,
   "id": "4ce92fa5",
   "metadata": {},
   "outputs": [
    {
     "data": {
      "text/plain": [
       "(5, 50)"
      ]
     },
     "execution_count": 25,
     "metadata": {},
     "output_type": "execute_result"
    }
   ],
   "source": [
    "currency_notes(550)"
   ]
  },
  {
   "cell_type": "code",
   "execution_count": 22,
   "id": "551656f0",
   "metadata": {},
   "outputs": [
    {
     "data": {
      "text/plain": [
       "70"
      ]
     },
     "execution_count": 22,
     "metadata": {},
     "output_type": "execute_result"
    }
   ],
   "source": [
    "b"
   ]
  },
  {
   "cell_type": "code",
   "execution_count": null,
   "id": "a6bb43f1",
   "metadata": {},
   "outputs": [],
   "source": [
    "# how to create a cash demonination"
   ]
  },
  {
   "cell_type": "code",
   "execution_count": 4,
   "id": "1b0f8e09",
   "metadata": {},
   "outputs": [
    {
     "data": {
      "text/plain": [
       "3000"
      ]
     },
     "execution_count": 4,
     "metadata": {},
     "output_type": "execute_result"
    }
   ],
   "source": [
    "Y=[1,3,4,6,7,9,10,4+7j,'hello world',[2000,3000,1000]]\n",
    "Y[9][1]"
   ]
  },
  {
   "cell_type": "code",
   "execution_count": 17,
   "id": "171dbc3b",
   "metadata": {},
   "outputs": [
    {
     "data": {
      "text/plain": [
       "[]"
      ]
     },
     "execution_count": 17,
     "metadata": {},
     "output_type": "execute_result"
    }
   ],
   "source": [
    "G=['2022-09-03']\n",
    "G[5:7]\n"
   ]
  },
  {
   "cell_type": "code",
   "execution_count": 21,
   "id": "f7f71fe3",
   "metadata": {},
   "outputs": [
    {
     "data": {
      "text/plain": [
       "{1: 1, 2: 4, 3: 9, 4: 16}"
      ]
     },
     "execution_count": 21,
     "metadata": {},
     "output_type": "execute_result"
    }
   ],
   "source": [
    "square_dictionary={1:1,2:4,3:9}\n",
    "square_dictionary[4]=16\n",
    "square_dictionary"
   ]
  },
  {
   "cell_type": "code",
   "execution_count": 34,
   "id": "f8953a1a",
   "metadata": {},
   "outputs": [
    {
     "data": {
      "text/plain": [
       "'python@gmail'"
      ]
     },
     "execution_count": 34,
     "metadata": {},
     "output_type": "execute_result"
    }
   ],
   "source": [
    "str=\"hello,please meet me at 4pm @coffeehouseccd or email me python@gmail.com\"\n",
    "str.count(\"me\")\n",
    "str.index(\"python@gmail\")\n",
    "str[56:68]"
   ]
  },
  {
   "cell_type": "code",
   "execution_count": 36,
   "id": "6a8a8c9b",
   "metadata": {},
   "outputs": [
    {
     "name": "stdout",
     "output_type": "stream",
     "text": [
      "[1, 2, 3, 4, 0, 5, 2, 1]\n"
     ]
    }
   ],
   "source": [
    "num_list_1=[1,2,3,4]\n",
    "num_list_2=[0,5,2,1]\n",
    "a=num_list_1+num_list_2\n",
    "print(a)"
   ]
  },
  {
   "cell_type": "code",
   "execution_count": 39,
   "id": "36ea9886",
   "metadata": {},
   "outputs": [
    {
     "name": "stdout",
     "output_type": "stream",
     "text": [
      "0\n",
      "10\n",
      "6\n",
      "4\n"
     ]
    }
   ],
   "source": [
    "num_list_1=[1,2,3,4]\n",
    "num_list_2=[0,5,2,1]\n",
    "for i,j in zip(num_list_1,num_list_2):\n",
    "    a=i*j\n",
    "    print(a)"
   ]
  },
  {
   "cell_type": "code",
   "execution_count": 41,
   "id": "4fdedc7a",
   "metadata": {},
   "outputs": [
    {
     "data": {
      "text/plain": [
       "3"
      ]
     },
     "execution_count": 41,
     "metadata": {},
     "output_type": "execute_result"
    }
   ],
   "source": [
    "mix_list_1=[\"leaarn\",24,\"blue,False,-8\"]\n",
    "mix_list_2=[4,7,\"summer\"]\n",
    "len(mix_list_2)"
   ]
  },
  {
   "cell_type": "code",
   "execution_count": 44,
   "id": "35d0f410",
   "metadata": {},
   "outputs": [
    {
     "data": {
      "text/plain": [
       "{1, 2, 3, 4, 5, 6, 7}"
      ]
     },
     "execution_count": 44,
     "metadata": {},
     "output_type": "execute_result"
    }
   ],
   "source": [
    "num_set={1,2,3,4,5,6}\n",
    "num_set.add(7)\n",
    "num_set"
   ]
  },
  {
   "cell_type": "code",
   "execution_count": 48,
   "id": "24cc58af",
   "metadata": {},
   "outputs": [
    {
     "data": {
      "text/plain": [
       "[['a', 1, True], 3, 'science', -5]"
      ]
     },
     "execution_count": 48,
     "metadata": {},
     "output_type": "execute_result"
    }
   ],
   "source": [
    "mix_tuple=([\"a\",1,True],2,'science',-5)\n",
    "a=list(mix_tuple)\n",
    "a[1]=3\n",
    "a\n"
   ]
  },
  {
   "cell_type": "code",
   "execution_count": 50,
   "id": "4350824b",
   "metadata": {},
   "outputs": [
    {
     "name": "stdout",
     "output_type": "stream",
     "text": [
      "3\n"
     ]
    }
   ],
   "source": [
    "from math import pi\n",
    "a=int(pi)\n",
    "print(a)"
   ]
  },
  {
   "cell_type": "code",
   "execution_count": 54,
   "id": "57a15bd4",
   "metadata": {},
   "outputs": [
    {
     "name": "stdout",
     "output_type": "stream",
     "text": [
      "enter the side2\n",
      "enter the side3\n",
      "enter the side3\n",
      "isosceles traingle\n"
     ]
    }
   ],
   "source": [
    "a=eval(input(\"enter the side\"))\n",
    "b=eval(input(\"enter the side\"))\n",
    "c=eval(input(\"enter the side\"))\n",
    "if a==b==c:\n",
    "    print(\"equilateral traingle\")\n",
    "elif a!=b!=c:\n",
    "    print(\"scalene traingle\")\n",
    "else:\n",
    "    print(\"isosceles traingle\")"
   ]
  },
  {
   "cell_type": "code",
   "execution_count": 55,
   "id": "c39e856c",
   "metadata": {},
   "outputs": [
    {
     "name": "stdout",
     "output_type": "stream",
     "text": [
      "enter the number343\n",
      " divisible by 3\n"
     ]
    }
   ],
   "source": [
    "num=eval(input(\"enter the number\"))\n",
    "last_digit=num%10\n",
    "if last_digit%3==0:\n",
    "  print(\" divisible by 3\")\n",
    "else:\n",
    "  print(\"not divisible by 3\")"
   ]
  },
  {
   "cell_type": "code",
   "execution_count": 60,
   "id": "66f70404",
   "metadata": {},
   "outputs": [
    {
     "name": "stdout",
     "output_type": "stream",
     "text": [
      "enter number7\n",
      "it is not a prime number\n"
     ]
    }
   ],
   "source": [
    "a=int(input(\"enter number\"))   # need modificaion\n",
    "if a%2==0 or a%3==0 or a%5==0 or a%7==0:\n",
    "            print(\"it is not a prime number\")\n",
    "else:\n",
    "            print(\"it is a prime number\")"
   ]
  },
  {
   "cell_type": "code",
   "execution_count": 66,
   "id": "5c3dbe60",
   "metadata": {},
   "outputs": [
    {
     "name": "stdout",
     "output_type": "stream",
     "text": [
      "enter the number-4\n",
      "the square root is  2.0\n"
     ]
    }
   ],
   "source": [
    "from math import sqrt\n",
    "x=eval(input(\"enter the number\"))\n",
    "if x%2==0 and x>0:\n",
    "    print(\"the square root is \",sqrt(x))\n",
    "elif x%2!=0 and x>0:\n",
    "    print(\"the square root is \",sqrt(x))\n",
    "else :\n",
    "    y=abs(x)\n",
    "    print(\"the square root is \",sqrt(y))"
   ]
  },
  {
   "cell_type": "code",
   "execution_count": 15,
   "id": "b9227800",
   "metadata": {},
   "outputs": [
    {
     "ename": "ImportError",
     "evalue": "cannot import name 'abs' from 'math' (unknown location)",
     "output_type": "error",
     "traceback": [
      "\u001b[1;31m---------------------------------------------------------------------------\u001b[0m",
      "\u001b[1;31mImportError\u001b[0m                               Traceback (most recent call last)",
      "Input \u001b[1;32mIn [15]\u001b[0m, in \u001b[0;36m<cell line: 1>\u001b[1;34m()\u001b[0m\n\u001b[1;32m----> 1\u001b[0m \u001b[38;5;28;01mfrom\u001b[39;00m \u001b[38;5;21;01mmath\u001b[39;00m \u001b[38;5;28;01mimport\u001b[39;00m \u001b[38;5;28mabs\u001b[39m\n\u001b[0;32m      2\u001b[0m a\u001b[38;5;241m=\u001b[39m\u001b[38;5;28meval\u001b[39m(\u001b[38;5;28minput\u001b[39m(\u001b[38;5;124m\"\u001b[39m\u001b[38;5;124menter a number: \u001b[39m\u001b[38;5;124m\"\u001b[39m))\n\u001b[0;32m      3\u001b[0m \u001b[38;5;28mabs\u001b[39m(a)\n",
      "\u001b[1;31mImportError\u001b[0m: cannot import name 'abs' from 'math' (unknown location)"
     ]
    }
   ],
   "source": [
    "a=eval(input(\"enter a number: \"))\n",
    "abs(a)"
   ]
  },
  {
   "cell_type": "code",
   "execution_count": 68,
   "id": "5b5b440a",
   "metadata": {},
   "outputs": [
    {
     "name": "stdout",
     "output_type": "stream",
     "text": [
      "enter -9\n",
      "negative\n"
     ]
    }
   ],
   "source": [
    "num=int(input(\"enter \"))\n",
    "if num>0:\n",
    "  print(\"positive\")\n",
    "elif num<0:\n",
    "  print(\"negative\")\n",
    "else:\n",
    "  print(\"zero\")"
   ]
  },
  {
   "cell_type": "code",
   "execution_count": 71,
   "id": "0b08e21b",
   "metadata": {},
   "outputs": [
    {
     "name": "stdout",
     "output_type": "stream",
     "text": [
      "enter alphabetd\n",
      "consonant\n"
     ]
    }
   ],
   "source": [
    "a=input(\"enter alphabet\")\n",
    "c=a.lower()\n",
    "b=\"aeiou\"\n",
    "if c in b:\n",
    "  print(\"vowel\")\n",
    "else:\n",
    "  print(\"consonant\")"
   ]
  },
  {
   "cell_type": "code",
   "execution_count": 72,
   "id": "20d7d60e",
   "metadata": {},
   "outputs": [
    {
     "name": "stdout",
     "output_type": "stream",
     "text": [
      "The median is d\n"
     ]
    }
   ],
   "source": [
    "if a > b:\n",
    "    if a < c:\n",
    "        median = a\n",
    "    elif b > c:\n",
    "        median = b\n",
    "    else:\n",
    "        median = c\n",
    "else:\n",
    "    if a > c:\n",
    "        median = a\n",
    "    elif b < c:\n",
    "        median = b\n",
    "    else:\n",
    "        median = c\n",
    "\n",
    "print(\"The median is\", median)\n"
   ]
  },
  {
   "cell_type": "code",
   "execution_count": 73,
   "id": "3b70ee55",
   "metadata": {},
   "outputs": [
    {
     "name": "stdout",
     "output_type": "stream",
     "text": [
      "20\n",
      "12\n",
      "22\n"
     ]
    }
   ],
   "source": [
    "def sum(x, y):\n",
    "    sum = x + y\n",
    "    if sum in range(15, 20):\n",
    "        return 20\n",
    "    else:\n",
    "        return sum\n",
    "\n",
    "print(sum(10, 6))\n",
    "print(sum(10, 2))\n",
    "print(sum(10, 12))\n"
   ]
  },
  {
   "cell_type": "code",
   "execution_count": 74,
   "id": "3934891d",
   "metadata": {},
   "outputs": [
    {
     "name": "stdout",
     "output_type": "stream",
     "text": [
      "Enter number:3\n",
      "The number is a palindrome!\n"
     ]
    }
   ],
   "source": [
    "n=int(input(\"Enter number:\"))\n",
    "temp=n\n",
    "rev=0\n",
    "while(n>0):\n",
    "    dig=n%10\n",
    "    rev=rev*10+dig\n",
    "    n=n//10\n",
    "if(temp==rev):\n",
    "    print(\"The number is a palindrome!\")\n",
    "else:\n",
    "    print(\"The number isn't a palindrome!\")"
   ]
  },
  {
   "cell_type": "code",
   "execution_count": 78,
   "id": "5353ab34",
   "metadata": {},
   "outputs": [
    {
     "name": "stdout",
     "output_type": "stream",
     "text": [
      "121 is divisible by 11\n",
      "143 is divisible by 11\n",
      "165 is divisible by 11\n",
      "187 is divisible by 11\n",
      "209 is divisible by 11\n",
      "231 is divisible by 11\n",
      "253 is divisible by 11\n",
      "275 is divisible by 11\n",
      "297 is divisible by 11\n",
      "319 is divisible by 11\n",
      "341 is divisible by 11\n",
      "363 is divisible by 11\n",
      "385 is divisible by 11\n",
      "407 is divisible by 11\n",
      "429 is divisible by 11\n",
      "451 is divisible by 11\n",
      "473 is divisible by 11\n",
      "495 is divisible by 11\n"
     ]
    }
   ],
   "source": [
    "for i in range(100,500):\n",
    "    if i%11==0 and i%2!=0:\n",
    "        print(\"{} is divisible by 11\".format(i))"
   ]
  },
  {
   "cell_type": "code",
   "execution_count": 80,
   "id": "0ff68b8d",
   "metadata": {},
   "outputs": [
    {
     "name": "stdout",
     "output_type": "stream",
     "text": [
      "enter a number34\n",
      "7\n"
     ]
    }
   ],
   "source": [
    "n=int(input(\"enter a number\"))\n",
    "sum=0\n",
    "while n!=0:\n",
    "  sum=sum+n%10\n",
    "  n=n//10\n",
    "print(sum)"
   ]
  },
  {
   "cell_type": "code",
   "execution_count": 32,
   "id": "236e41c7",
   "metadata": {},
   "outputs": [
    {
     "name": "stdout",
     "output_type": "stream",
     "text": [
      "enter the num5\n",
      "120\n"
     ]
    }
   ],
   "source": [
    "n=int(input(\"enter the num\"))\n",
    "fact=1\n",
    "while n!=0:\n",
    "    fact=fact*n\n",
    "    n=n-1\n",
    "print(fact)"
   ]
  },
  {
   "cell_type": "markdown",
   "id": "f1757c47",
   "metadata": {},
   "source": [
    "Write a program to display the product of the digits of a number accepted from the user.\n",
    "\n",
    "\n"
   ]
  },
  {
   "cell_type": "code",
   "execution_count": 4,
   "id": "b0ba84fc",
   "metadata": {},
   "outputs": [
    {
     "name": "stdout",
     "output_type": "stream",
     "text": [
      "enter the number: 234\n",
      "2\n",
      "6\n",
      "24\n"
     ]
    }
   ],
   "source": [
    "x=input(\"enter the number: \")\n",
    "n=1\n",
    "for i in x:\n",
    "    n=n*int(i)\n",
    "    print(n)\n"
   ]
  },
  {
   "cell_type": "code",
   "execution_count": 5,
   "id": "f6cd8f25",
   "metadata": {},
   "outputs": [
    {
     "name": "stdout",
     "output_type": "stream",
     "text": [
      "enter the number: 234\n",
      "4\n",
      "12\n",
      "24\n"
     ]
    }
   ],
   "source": [
    "x=eval(input(\"enter the number: \"))\n",
    "mul=1\n",
    "while x!=0:\n",
    "    mul=mul*(x%10)\n",
    "    x=x//10\n",
    "    print(mul)\n",
    "    "
   ]
  },
  {
   "cell_type": "markdown",
   "id": "9f42b312",
   "metadata": {},
   "source": [
    "Calculate the average of the number given in the list through loop.\n",
    "list1=[34,6,43,2,32,44,55,33,32]\n",
    "\n",
    "\n"
   ]
  },
  {
   "cell_type": "code",
   "execution_count": 4,
   "id": "f9f5a526",
   "metadata": {},
   "outputs": [
    {
     "name": "stdout",
     "output_type": "stream",
     "text": [
      "average is  34.0\n",
      "average is  20.0\n",
      "average is  27.666666666666668\n",
      "average is  21.25\n",
      "average is  23.4\n",
      "average is  26.833333333333332\n",
      "average is  30.857142857142858\n",
      "average is  31.125\n",
      "average is  31.22222222222222\n"
     ]
    }
   ],
   "source": [
    "list1=[34,6,43,2,32,44,55,33,32]\n",
    "add=0\n",
    "count=0\n",
    "for i in list1:\n",
    "    add=add+i\n",
    "    count=count+1\n",
    "    print(\"average is \",add/count)"
   ]
  },
  {
   "cell_type": "code",
   "execution_count": null,
   "id": "127c212d",
   "metadata": {},
   "outputs": [],
   "source": [
    "def Average(lst):\n",
    "    return sum(lst) / len(lst)"
   ]
  },
  {
   "cell_type": "markdown",
   "id": "ff8d3620",
   "metadata": {},
   "source": [
    "We can use the reduce() to reduce the loop and by using the lambda function can compute summation of list. We use len() to calculate length as discussed above. \n",
    "\n"
   ]
  },
  {
   "cell_type": "code",
   "execution_count": null,
   "id": "4a8dd362",
   "metadata": {},
   "outputs": [],
   "source": [
    "from functools import reduce\n",
    "  \n",
    "def Average(lst):\n",
    "    return reduce(lambda a, b: a + b, lst) / len(lst)\n",
    "  "
   ]
  },
  {
   "cell_type": "code",
   "execution_count": null,
   "id": "62c9facf",
   "metadata": {},
   "outputs": [],
   "source": [
    "from statistics import mean\n",
    "  \n",
    "def Average(lst):\n",
    "    return mean(lst)"
   ]
  },
  {
   "cell_type": "code",
   "execution_count": null,
   "id": "62006333",
   "metadata": {},
   "outputs": [],
   "source": []
  },
  {
   "cell_type": "markdown",
   "id": "f7e62e52",
   "metadata": {},
   "source": [
    "find the avg of user inputed number until user press q "
   ]
  },
  {
   "cell_type": "code",
   "execution_count": 10,
   "id": "5347594e",
   "metadata": {},
   "outputs": [
    {
     "name": "stdout",
     "output_type": "stream",
     "text": [
      "enter the number: 44\n",
      "enter the number: 55\n",
      "enter the number: 66\n",
      "enter the number: 77\n",
      "enter the number: 88\n",
      "enter the number: 99\n",
      "enter the number: q\n",
      "the average is 71.5\n"
     ]
    }
   ],
   "source": [
    "summ=0\n",
    "count=0\n",
    "while True:\n",
    "    x=input(\"enter the number: \")\n",
    "    if x.lower() !=\"q\":\n",
    "        summ=summ+int(x)\n",
    "        count=count+1\n",
    "    else:\n",
    "        break\n",
    "print(\"the average is\",summ/count)       "
   ]
  },
  {
   "cell_type": "markdown",
   "id": "a15a88e1",
   "metadata": {},
   "source": [
    " Reverse string using a for loop (take the input from user)."
   ]
  },
  {
   "cell_type": "code",
   "execution_count": 16,
   "id": "1cc36839",
   "metadata": {},
   "outputs": [
    {
     "name": "stdout",
     "output_type": "stream",
     "text": [
      "enter10 20 50 \n",
      " 05 02 01\n"
     ]
    }
   ],
   "source": [
    "str1=input(\"enter\")\n",
    "#for i in str1:\n",
    "print(str1[::-1])\n",
    "    "
   ]
  },
  {
   "cell_type": "code",
   "execution_count": 17,
   "id": "59d860ea",
   "metadata": {},
   "outputs": [
    {
     "name": "stdout",
     "output_type": "stream",
     "text": [
      "enterhello\n",
      "h\n",
      "eh\n",
      "leh\n",
      "lleh\n",
      "olleh\n"
     ]
    }
   ],
   "source": [
    "str2=input(\"enter\")\n",
    "str3=''\n",
    "for i in str2:\n",
    "    str3=i+str3\n",
    "    print(str3)\n",
    "    "
   ]
  },
  {
   "cell_type": "markdown",
   "id": "8ffb5d88",
   "metadata": {},
   "source": [
    "Write a program for generating a fibonacci series starting with 0 and 1 for the next 10 values using a while loop."
   ]
  },
  {
   "cell_type": "code",
   "execution_count": 3,
   "id": "cbca2730",
   "metadata": {},
   "outputs": [
    {
     "name": "stdout",
     "output_type": "stream",
     "text": [
      "0\n",
      "1\n",
      "3\n",
      "6\n",
      "10\n",
      "15\n",
      "21\n",
      "28\n",
      "36\n",
      "45\n",
      "55\n"
     ]
    }
   ],
   "source": [
    "summ=0\n",
    "for i in range(0,11):\n",
    "    summ=summ+i\n",
    "    print(summ)    # wrong series"
   ]
  },
  {
   "cell_type": "code",
   "execution_count": 7,
   "id": "20eb0ea7",
   "metadata": {},
   "outputs": [
    {
     "name": "stdout",
     "output_type": "stream",
     "text": [
      "10 terms of the fibonacci series are:\n",
      "[0, 1, 1, 2, 3, 5, 8, 13, 21, 34]\n"
     ]
    }
   ],
   "source": [
    "fibonacciList = [0, 1]\n",
    "# finding 10 terms of the series starting from 3rd term\n",
    "N = 10\n",
    "term = 3\n",
    "while term < N + 1:\n",
    "    value = fibonacciList[term - 2] + fibonacciList[term - 3]\n",
    "    fibonacciList.append(value)\n",
    "    term = term + 1\n",
    "print(\"10 terms of the fibonacci series are:\")\n",
    "print(fibonacciList)"
   ]
  },
  {
   "cell_type": "code",
   "execution_count": 6,
   "id": "8e29eb09",
   "metadata": {},
   "outputs": [
    {
     "name": "stdout",
     "output_type": "stream",
     "text": [
      "How many terms? 10\n",
      "Fibonacci sequence:\n",
      "0\n",
      "1\n",
      "1\n",
      "2\n",
      "3\n",
      "5\n",
      "8\n",
      "13\n",
      "21\n",
      "34\n"
     ]
    }
   ],
   "source": [
    "# Program to display the Fibonacci sequence up to n-th term\n",
    "\n",
    "nterms = int(input(\"How many terms? \"))\n",
    "\n",
    "# first two terms\n",
    "n1, n2 = 0, 1\n",
    "count = 0\n",
    "\n",
    "# check if the number of terms is valid\n",
    "if nterms <= 0:\n",
    "    print(\"Please enter a positive integer\")\n",
    "# if there is only one term, return n1\n",
    "elif nterms == 1:\n",
    "    print(\"Fibonacci sequence upto\",nterms,\":\")\n",
    "    print(n1)\n",
    "# generate fibonacci sequence\n",
    "else:\n",
    "    print(\"Fibonacci sequence:\")\n",
    "    while count < nterms:\n",
    "        print(n1)\n",
    "        nth = n1 + n2\n",
    "       # update values\n",
    "        n1 = n2\n",
    "        n2 = nth\n",
    "        count += 1"
   ]
  },
  {
   "cell_type": "markdown",
   "id": "db3c1ad9",
   "metadata": {},
   "source": [
    "Write a code to print table of 5 using assignment operand +=.(using while)"
   ]
  },
  {
   "cell_type": "code",
   "execution_count": 9,
   "id": "ff52d01e",
   "metadata": {},
   "outputs": [
    {
     "name": "stdout",
     "output_type": "stream",
     "text": [
      "5*1=50\n",
      "5*2=5\n",
      "5*3=10\n",
      "5*4=15\n",
      "5*5=20\n",
      "5*6=25\n",
      "5*7=30\n",
      "5*8=35\n",
      "5*9=40\n",
      "5*10=45\n"
     ]
    }
   ],
   "source": [
    "tab=5\n",
    "count=1\n",
    "while count<11:\n",
    "    print(\"{}*{}={}\".format(tab,count,a))\n",
    "    a=tab*count\n",
    "    count+=1"
   ]
  },
  {
   "cell_type": "markdown",
   "id": "a5202349",
   "metadata": {},
   "source": [
    "Write a program swap the keys to values and values to keys of the given dictionary. Module = {'Data Science':1,'Machine Learning':2, 'SQL':3, 'Big Data':4} Output: {1:'Data Science',2:'Machine Learning', 3:'SQL', 4:'Big Data'}"
   ]
  },
  {
   "cell_type": "code",
   "execution_count": 60,
   "id": "39c2abb6",
   "metadata": {},
   "outputs": [
    {
     "name": "stdout",
     "output_type": "stream",
     "text": [
      "[['data science', 1]]\n",
      "[['data science', 1], ['machine learning', 2]]\n",
      "[['data science', 1], ['machine learning', 2], ['sql', 3]]\n",
      "[['data science', 1], ['machine learning', 2], ['sql', 3], ['big data', 4]]\n"
     ]
    }
   ],
   "source": [
    "module={\"data science\":1,\"machine learning\":2,\"sql\":3,\"big data\":4}\n",
    "a=list(module.keys())\n",
    "b=list(module.values())\n",
    "list1=[]\n",
    "for i,j in zip(a,b):\n",
    "    list1.append([i,j]) # [['data science', 1], ['machine learning', 2], ['sql', 3], ['big data', 4]]\n",
    "   # list1.extend([i,j])  # not work ['data science', 1, 'machine learning', 2, 'sql', 3, 'big data', 4]\n",
    "    print(list1)\n",
    "    "
   ]
  },
  {
   "cell_type": "code",
   "execution_count": null,
   "id": "80193f69",
   "metadata": {},
   "outputs": [],
   "source": [
    "https://www.geeksforgeeks.org/python-program-to-swap-keys-and-values-in-dictionary/ "
   ]
  },
  {
   "cell_type": "code",
   "execution_count": 61,
   "id": "ccc145fc",
   "metadata": {},
   "outputs": [
    {
     "data": {
      "text/plain": [
       "{'data science': 1, 'machine learning': 2, 'sql': 3, 'big data': 4}"
      ]
     },
     "execution_count": 61,
     "metadata": {},
     "output_type": "execute_result"
    }
   ],
   "source": [
    "dict(list1)"
   ]
  },
  {
   "cell_type": "markdown",
   "id": "b9c3f80e",
   "metadata": {},
   "source": [
    "Write a program to count all the elements from wrong text but it should not consider space and vowels\n",
    "wrong=\"\"\"But soft what light through yonder window breaks It is the east and Juliet is the sun Arise fair \n",
    "        sun and kill the envious moon Who is already sick and pale with grief\"\"\""
   ]
  },
  {
   "cell_type": "code",
   "execution_count": 68,
   "id": "03435d07",
   "metadata": {},
   "outputs": [
    {
     "name": "stdout",
     "output_type": "stream",
     "text": [
      "B\n",
      "t\n",
      "s\n",
      "f\n",
      "t\n",
      "w\n",
      "h\n",
      "t\n",
      "l\n",
      "g\n",
      "h\n",
      "t\n",
      "t\n",
      "h\n",
      "r\n",
      "g\n",
      "h\n",
      "y\n",
      "n\n",
      "d\n",
      "r\n",
      "w\n",
      "n\n",
      "d\n",
      "w\n",
      "b\n",
      "r\n",
      "k\n",
      "s\n",
      "I\n",
      "t\n",
      "s\n",
      "t\n",
      "h\n",
      "s\n",
      "t\n",
      "n\n",
      "d\n",
      "J\n",
      "l\n",
      "t\n",
      "s\n",
      "t\n",
      "h\n",
      "s\n",
      "n\n",
      "A\n",
      "r\n",
      "s\n",
      "f\n",
      "r\n",
      "s\n",
      "n\n",
      "n\n",
      "d\n",
      "k\n",
      "l\n",
      "l\n",
      "t\n",
      "h\n",
      "n\n",
      "v\n",
      "s\n",
      "m\n",
      "n\n",
      "W\n",
      "h\n",
      "s\n",
      "l\n",
      "r\n",
      "d\n",
      "y\n",
      "s\n",
      "c\n",
      "k\n",
      "n\n",
      "d\n",
      "p\n",
      "l\n",
      "w\n",
      "t\n",
      "h\n",
      "g\n",
      "r\n",
      "f\n",
      "85\n"
     ]
    }
   ],
   "source": [
    "wrong=\"\"\"But soft what light through yonder window breaks It is the east and Juliet is the sun Arise fair sun and kill the envious moon Who is already sick and pale with grief\"\"\"\n",
    "vowels=('a','e','i','o','u') \n",
    "space=(' ')\n",
    "count=0\n",
    "for i in wrong:\n",
    "    if i not in vowels :\n",
    "        if i not in space:\n",
    "            count=count+1\n",
    "            print(i)\n",
    "print(count)\n"
   ]
  },
  {
   "cell_type": "markdown",
   "id": "5a7471bc",
   "metadata": {},
   "source": [
    "Remove duplicates from the given list num2 using loop.\n",
    "num2=[1,2,3,41,3,5,4,56,4,56,4,4,36,6,66,6,645,3,3,5,6,8]"
   ]
  },
  {
   "cell_type": "code",
   "execution_count": 76,
   "id": "f6157e9a",
   "metadata": {},
   "outputs": [
    {
     "name": "stdout",
     "output_type": "stream",
     "text": [
      "[1, 2, 3, 41, 5, 4, 56, 36, 6, 66, 645, 8]\n"
     ]
    }
   ],
   "source": [
    "num2=[1,2,3,41,3,5,4,56,4,56,4,4,36,6,66,6,645,3,3,5,6,8]\n",
    "num1=[]\n",
    "for i in num2:\n",
    "    if i not in num1:\n",
    "        num1.append(i)\n",
    "        #print(i)\n",
    "print(num1)       # sort() not working   "
   ]
  },
  {
   "cell_type": "code",
   "execution_count": 74,
   "id": "2fe5141a",
   "metadata": {},
   "outputs": [],
   "source": []
  },
  {
   "cell_type": "markdown",
   "id": "3727daec",
   "metadata": {},
   "source": [
    "Write a program to check whether two numbers are amicable or not (take the input from the user)."
   ]
  },
  {
   "cell_type": "code",
   "execution_count": 77,
   "id": "10147e7f",
   "metadata": {},
   "outputs": [
    {
     "name": "stdout",
     "output_type": "stream",
     "text": [
      "2\n",
      "3\n"
     ]
    }
   ],
   "source": [
    "# Python3 program to count\n",
    "# amicable pairs in an array\n",
    " \n",
    "# Calculate the sum\n",
    "# of proper divisors\n",
    "def sumOfDiv(x):\n",
    "    sum = 1\n",
    "    for i in range(2, x):\n",
    "        if x % i == 0:\n",
    "            sum += i\n",
    "    return sum\n",
    " \n",
    "# Check if pair is amicable\n",
    "def isAmicable(a, b):\n",
    "    if sumOfDiv(a) == b and sumOfDiv(b) == a:\n",
    "        return True\n",
    "    else:\n",
    "        return False\n",
    " \n",
    "# This function prints pair\n",
    "# of amicable pairs present\n",
    "# in the input array\n",
    "def countPairs(arr, n):\n",
    "    count = 0\n",
    "    for i in range(0, n):\n",
    "        for j in range(i + 1, n):\n",
    "            if isAmicable(arr[i], arr[j]):\n",
    "                count = count + 1\n",
    "    return count\n",
    " \n",
    "# Driver Code\n",
    "arr1 = [220, 284, 1184,\n",
    "        1210, 2, 5]\n",
    "n1 = len(arr1)\n",
    "print(countPairs(arr1, n1))\n",
    " \n",
    "arr2 = [2620, 2924, 5020,\n",
    "        5564, 6232, 6368]\n",
    "n2 = len(arr2)\n",
    "print(countPairs(arr2, n2))\n",
    " \n"
   ]
  },
  {
   "cell_type": "code",
   "execution_count": null,
   "id": "9de7ad13",
   "metadata": {},
   "outputs": [],
   "source": [
    "x=int(input())\n",
    "y=int(input())\n",
    "sum_x=0\n",
    "sum_y=0\n",
    "for each in range(1,x):\n",
    "    if(x%each==0):\n",
    "        sum_x=sum_x+each\n",
    "for i in range(1,y):\n",
    "    if(y%i==0):\n",
    "        sum_y=sum_y+i\n",
    "if(sum_x==y and sum_y==x):\n",
    "    print(\"They are Amicable numbers\")\n",
    "else:\n",
    "    print(\"No they are not Amicable\")"
   ]
  },
  {
   "cell_type": "markdown",
   "id": "f21e3a5b",
   "metadata": {},
   "source": [
    "Write a program to check whether a number is prime or not (take the input from user"
   ]
  },
  {
   "cell_type": "code",
   "execution_count": null,
   "id": "f32448e5",
   "metadata": {},
   "outputs": [],
   "source": []
  },
  {
   "cell_type": "code",
   "execution_count": 29,
   "id": "e5f32728",
   "metadata": {},
   "outputs": [],
   "source": [
    "def NumberReverse(str):\n",
    "    a=str.split(\" \")\n",
    "    b=a[::-1]\n",
    "    print(\" \".join(b))\n",
    "    "
   ]
  },
  {
   "cell_type": "code",
   "execution_count": 30,
   "id": "0a8eadbe",
   "metadata": {},
   "outputs": [
    {
     "name": "stdout",
     "output_type": "stream",
     "text": [
      "50 20 10\n"
     ]
    }
   ],
   "source": [
    "NumberReverse(\"10 20 50\")"
   ]
  },
  {
   "cell_type": "code",
   "execution_count": null,
   "id": "22c5969d",
   "metadata": {},
   "outputs": [],
   "source": []
  }
 ],
 "metadata": {
  "kernelspec": {
   "display_name": "Python 3 (ipykernel)",
   "language": "python",
   "name": "python3"
  },
  "language_info": {
   "codemirror_mode": {
    "name": "ipython",
    "version": 3
   },
   "file_extension": ".py",
   "mimetype": "text/x-python",
   "name": "python",
   "nbconvert_exporter": "python",
   "pygments_lexer": "ipython3",
   "version": "3.9.12"
  }
 },
 "nbformat": 4,
 "nbformat_minor": 5
}
