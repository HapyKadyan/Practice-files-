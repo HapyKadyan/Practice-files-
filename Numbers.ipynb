{
 "cells": [
  {
   "cell_type": "code",
   "execution_count": 1,
   "id": "8ca15577",
   "metadata": {},
   "outputs": [],
   "source": [
    "import random\n",
    "# random is a package/library/module"
   ]
  },
  {
   "cell_type": "code",
   "execution_count": 2,
   "id": "b5fe563c",
   "metadata": {},
   "outputs": [
    {
     "data": {
      "text/plain": [
       "['BPF',\n",
       " 'LOG4',\n",
       " 'NV_MAGICCONST',\n",
       " 'RECIP_BPF',\n",
       " 'Random',\n",
       " 'SG_MAGICCONST',\n",
       " 'SystemRandom',\n",
       " 'TWOPI',\n",
       " '_Sequence',\n",
       " '_Set',\n",
       " '__all__',\n",
       " '__builtins__',\n",
       " '__cached__',\n",
       " '__doc__',\n",
       " '__file__',\n",
       " '__loader__',\n",
       " '__name__',\n",
       " '__package__',\n",
       " '__spec__',\n",
       " '_accumulate',\n",
       " '_acos',\n",
       " '_bisect',\n",
       " '_ceil',\n",
       " '_cos',\n",
       " '_e',\n",
       " '_exp',\n",
       " '_inst',\n",
       " '_log',\n",
       " '_os',\n",
       " '_pi',\n",
       " '_random',\n",
       " '_repeat',\n",
       " '_sha512',\n",
       " '_sin',\n",
       " '_sqrt',\n",
       " '_test',\n",
       " '_test_generator',\n",
       " '_urandom',\n",
       " '_warn',\n",
       " 'betavariate',\n",
       " 'choice',\n",
       " 'choices',\n",
       " 'expovariate',\n",
       " 'gammavariate',\n",
       " 'gauss',\n",
       " 'getrandbits',\n",
       " 'getstate',\n",
       " 'lognormvariate',\n",
       " 'normalvariate',\n",
       " 'paretovariate',\n",
       " 'randint',\n",
       " 'random',\n",
       " 'randrange',\n",
       " 'sample',\n",
       " 'seed',\n",
       " 'setstate',\n",
       " 'shuffle',\n",
       " 'triangular',\n",
       " 'uniform',\n",
       " 'vonmisesvariate',\n",
       " 'weibullvariate']"
      ]
     },
     "execution_count": 2,
     "metadata": {},
     "output_type": "execute_result"
    }
   ],
   "source": [
    "dir(random) \n",
    "# used to know the methods are exist in the package/library/module\n"
   ]
  },
  {
   "cell_type": "code",
   "execution_count": 11,
   "id": "fd9bf196",
   "metadata": {},
   "outputs": [
    {
     "data": {
      "text/plain": [
       "7"
      ]
     },
     "execution_count": 11,
     "metadata": {},
     "output_type": "execute_result"
    }
   ],
   "source": [
    "# randint method\n",
    "random.randint(1,20)\n",
    "# it will generate a random number between 1 and 20\n",
    "# both numbers are included"
   ]
  },
  {
   "cell_type": "code",
   "execution_count": 7,
   "id": "57ee36c6",
   "metadata": {},
   "outputs": [
    {
     "data": {
      "text/plain": [
       "0.2426083514750218"
      ]
     },
     "execution_count": 7,
     "metadata": {},
     "output_type": "execute_result"
    }
   ],
   "source": [
    "# random method\n",
    "random.random()\n",
    "# it will genertae a random number between 0 and 1\n",
    "# with 0 included\n",
    "# B.tech students Satahyabama university Chennai\n",
    "# how many values between 0 and 1\n"
   ]
  },
  {
   "cell_type": "code",
   "execution_count": 12,
   "id": "772fb5b5",
   "metadata": {},
   "outputs": [
    {
     "data": {
      "text/plain": [
       "14"
      ]
     },
     "execution_count": 12,
     "metadata": {},
     "output_type": "execute_result"
    }
   ],
   "source": [
    "# M-1 to import a package and use a specific method\n",
    "import random # fisrt importing package\n",
    "random.randint(1,20)# then wrt module we are using method name\n",
    "random.random() # 0 to 1"
   ]
  },
  {
   "cell_type": "code",
   "execution_count": 15,
   "id": "a2d5e2b2",
   "metadata": {},
   "outputs": [
    {
     "name": "stdout",
     "output_type": "stream",
     "text": [
      "0.02409053858376997\n",
      "6\n"
     ]
    }
   ],
   "source": [
    "# M-2\n",
    "# I want to use randint method , this is in random library\n",
    "# from random package import randint method\n",
    "from random import randint, random\n",
    "print(random())\n",
    "print(randint(1,20))"
   ]
  },
  {
   "cell_type": "code",
   "execution_count": 31,
   "id": "1f1d82c8",
   "metadata": {},
   "outputs": [
    {
     "name": "stdout",
     "output_type": "stream",
     "text": [
      "enter your guess:7\n",
      "random number is 8 and guess number is 7\n",
      "You are lost\n"
     ]
    }
   ],
   "source": [
    "# It will genertae a random integer number b/w 1 20 ------------ > i need to random package , randint\n",
    "# user should guess the number -------------- > eval(input('enter the number'))\n",
    "# If both are correct you are win ---------- > conditional stat\n",
    "# If it is wrong you lost\n",
    "\n",
    "from random import randint\n",
    "num=randint(1,20)\n",
    "guess=eval(input(\"enter your guess:\"))\n",
    "\n",
    "if guess==num:\n",
    "    print(\"random number is {} and guess number is {}\".format(num,guess))\n",
    "    print(\"You are win\")\n",
    "    \n",
    "else:\n",
    "    print(\"random number is {} and guess number is {}\".format(num,guess))\n",
    "    print(\"You are lost\")\n"
   ]
  },
  {
   "cell_type": "code",
   "execution_count": null,
   "id": "72209596",
   "metadata": {},
   "outputs": [],
   "source": [
    "# wrong number !\n",
    "# please try again\n",
    "# wrong number !\n",
    "# please try again\n",
    "# wrong number !\n",
    "# please try again\n",
    "# your all chances are over \n",
    "\n",
    "# if both are match condition should stop\n",
    "# break\n",
    "# 0 1 2"
   ]
  },
  {
   "cell_type": "code",
   "execution_count": 45,
   "id": "8cf24632",
   "metadata": {},
   "outputs": [
    {
     "name": "stdout",
     "output_type": "stream",
     "text": [
      "17\n",
      "enter your guess:2\n",
      "Wrong number\n",
      "try again!\n",
      "enter your guess:8\n",
      "Wrong number\n",
      "try again!\n",
      "enter your guess:9\n",
      "Better luck next time\n"
     ]
    }
   ],
   "source": [
    "from random import randint  # importing random package\n",
    "num=randint(1,20)           # generating a random number b/w 1 and 20\n",
    "\n",
    "\n",
    "for i in range(3):         # 3 chances to user for loop\n",
    "    guess=eval(input(\"enter your guess:\"))  # user wil provide number\n",
    "    if guess==num:         # if both are match\n",
    "        print(\"random number is {} and guess number is {}\".format(num,guess))\n",
    "        print(\"You are win\") # you are win\n",
    "        break               # stop code\n",
    "        \n",
    "    elif i==2:\n",
    "        print(\"Better luck next time\")\n",
    "\n",
    "    else:                  # if both are not match\n",
    "        print('Wrong number')\n",
    "        print('try again!')\n",
    "    \n",
    "\n",
    "        "
   ]
  },
  {
   "cell_type": "code",
   "execution_count": null,
   "id": "ccab102a",
   "metadata": {},
   "outputs": [],
   "source": [
    "# Mutual understanding b/w you and me\n",
    "# we are going slow\n",
    "# The managament\n",
    "# Python 7--->10\n",
    "\n",
    "# assignments ---> 7 --- \n",
    "# we will discussin the class\n",
    "\n",
    "# better make some points\n",
    "# Any problem\n",
    "# that is best"
   ]
  },
  {
   "cell_type": "code",
   "execution_count": 47,
   "id": "672e6d10",
   "metadata": {},
   "outputs": [
    {
     "name": "stdout",
     "output_type": "stream",
     "text": [
      "How many chances you want to give4\n",
      "enter your guess:8\n",
      "Wrong number\n",
      "try again!\n",
      "enter your guess:9\n",
      "Wrong number\n",
      "try again!\n",
      "enter your guess:8\n",
      "Wrong number\n",
      "try again!\n",
      "enter your guess:9\n",
      "Wrong number\n",
      "try again!\n",
      "Better luck next time\n"
     ]
    }
   ],
   "source": [
    "from random import randint  # importing random package\n",
    "num=randint(1,20)           # generating a random number b/w 1 and 20\n",
    "num_chances=eval(input(\"How many chances you want to give:\"))\n",
    "\n",
    "for i in range(num_chances):         # 3 chances to user for loop\n",
    "    guess=eval(input(\"enter your guess:\"))  # user wil provide number\n",
    "    if guess==num:         # if both are match\n",
    "        print(\"random number is {} and guess number is {}\".format(num,guess))\n",
    "        print(\"You are win\") # you are win\n",
    "        break               # stop code\n",
    "\n",
    "    else:                  # if both are not match\n",
    "        print('Wrong number')\n",
    "        print('try again!')\n",
    "        if i==(num_chances-1):\n",
    "             print(\"Better luck next time\")\n",
    "    "
   ]
  },
  {
   "cell_type": "code",
   "execution_count": 34,
   "id": "91e94326",
   "metadata": {},
   "outputs": [
    {
     "name": "stdout",
     "output_type": "stream",
     "text": [
      "Enter the guess number8\n",
      "random number is 16 and guess number is 8\n",
      "You are lost\n",
      "Wrong number\n",
      "Try once again\n",
      "Enter the guess number9\n",
      "random number is 16 and guess number is 9\n",
      "You are lost\n",
      "Wrong number\n",
      "Try once again\n",
      "Enter the guess number3\n",
      "random number is 16 and guess number is 3\n",
      "You are lost\n",
      "Wrong number\n",
      "Try once again\n"
     ]
    }
   ],
   "source": [
    "a=randint(1,20)\n",
    "for i in range(0,3):\n",
    "    n=eval(input(\"Enter the guess number\"))\n",
    "    print(f\"random number is {a} and guess number is {n}\")\n",
    "    if a==n:\n",
    "        print(\"you are winner\")\n",
    "        break\n",
    "    else:\n",
    "        print(\"You are lost\")\n",
    "        print(\"Wrong number\")\n",
    "        print(\"Try once again\")\n",
    "        \n",
    "# your all chances are over"
   ]
  },
  {
   "cell_type": "code",
   "execution_count": null,
   "id": "d0b5f34a",
   "metadata": {},
   "outputs": [],
   "source": [
    "# library name is : Math"
   ]
  },
  {
   "cell_type": "code",
   "execution_count": 48,
   "id": "8c72dbd3",
   "metadata": {},
   "outputs": [],
   "source": [
    "import math"
   ]
  },
  {
   "cell_type": "code",
   "execution_count": 49,
   "id": "babcb567",
   "metadata": {},
   "outputs": [
    {
     "data": {
      "text/plain": [
       "['__doc__',\n",
       " '__loader__',\n",
       " '__name__',\n",
       " '__package__',\n",
       " '__spec__',\n",
       " 'acos',\n",
       " 'acosh',\n",
       " 'asin',\n",
       " 'asinh',\n",
       " 'atan',\n",
       " 'atan2',\n",
       " 'atanh',\n",
       " 'ceil',\n",
       " 'comb',\n",
       " 'copysign',\n",
       " 'cos',\n",
       " 'cosh',\n",
       " 'degrees',\n",
       " 'dist',\n",
       " 'e',\n",
       " 'erf',\n",
       " 'erfc',\n",
       " 'exp',\n",
       " 'expm1',\n",
       " 'fabs',\n",
       " 'factorial',\n",
       " 'floor',\n",
       " 'fmod',\n",
       " 'frexp',\n",
       " 'fsum',\n",
       " 'gamma',\n",
       " 'gcd',\n",
       " 'hypot',\n",
       " 'inf',\n",
       " 'isclose',\n",
       " 'isfinite',\n",
       " 'isinf',\n",
       " 'isnan',\n",
       " 'isqrt',\n",
       " 'ldexp',\n",
       " 'lgamma',\n",
       " 'log',\n",
       " 'log10',\n",
       " 'log1p',\n",
       " 'log2',\n",
       " 'modf',\n",
       " 'nan',\n",
       " 'perm',\n",
       " 'pi',\n",
       " 'pow',\n",
       " 'prod',\n",
       " 'radians',\n",
       " 'remainder',\n",
       " 'sin',\n",
       " 'sinh',\n",
       " 'sqrt',\n",
       " 'tan',\n",
       " 'tanh',\n",
       " 'tau',\n",
       " 'trunc']"
      ]
     },
     "execution_count": 49,
     "metadata": {},
     "output_type": "execute_result"
    }
   ],
   "source": [
    "dir(math)"
   ]
  },
  {
   "cell_type": "code",
   "execution_count": null,
   "id": "988896e4",
   "metadata": {},
   "outputs": [],
   "source": [
    "# Packages used for all the concepts\n",
    "# For loop While Data structures \n",
    "# ML\n",
    "# DL\n",
    "# Stattsics\n",
    "# Is used in all the subjects\n",
    "# Random Math numpy pandas tensdorfle sikit learn"
   ]
  },
  {
   "cell_type": "code",
   "execution_count": null,
   "id": "af39821f",
   "metadata": {},
   "outputs": [],
   "source": [
    "# I stopped while loop cocept immediatly after for loop\n",
    "# You need some practice\n",
    "# Familier with If and For\n",
    "# While loop littile confuse\n",
    "# Functions -------> we will repeat what we have done before\n",
    "# Then you will more practice\n",
    "# Then we go While loop and we closr PART-1"
   ]
  },
  {
   "cell_type": "code",
   "execution_count": 52,
   "id": "f2631acf",
   "metadata": {},
   "outputs": [
    {
     "data": {
      "text/plain": [
       "0.8939966636005579"
      ]
     },
     "execution_count": 52,
     "metadata": {},
     "output_type": "execute_result"
    }
   ],
   "source": [
    "import math\n",
    "math.sin(90)\n",
    "\n",
    "# using second method"
   ]
  },
  {
   "cell_type": "code",
   "execution_count": 58,
   "id": "5b8d8b48",
   "metadata": {},
   "outputs": [
    {
     "name": "stdout",
     "output_type": "stream",
     "text": [
      "3.141592653589793\n",
      "3\n",
      "3.14\n",
      "3.142\n"
     ]
    }
   ],
   "source": [
    "from math import pi\n",
    "print(pi)\n",
    "print(round(pi))\n",
    "print(round(pi,2))\n",
    "print(round(pi,3))"
   ]
  },
  {
   "cell_type": "code",
   "execution_count": 53,
   "id": "8c837b8c",
   "metadata": {},
   "outputs": [
    {
     "name": "stdout",
     "output_type": "stream",
     "text": [
      "Help on built-in function sin in module math:\n",
      "\n",
      "sin(x, /)\n",
      "    Return the sine of x (measured in radians).\n",
      "\n"
     ]
    }
   ],
   "source": [
    "help(math.sin)"
   ]
  },
  {
   "cell_type": "code",
   "execution_count": null,
   "id": "b11c79c7",
   "metadata": {},
   "outputs": [],
   "source": [
    "#----------------PART-1-----------------\n",
    "# Basic Python\n",
    "# Condtions\n",
    "# For loop\n",
    "# Random and Math packge\n",
    "# Functions\n",
    "# While loop"
   ]
  },
  {
   "cell_type": "markdown",
   "id": "1232b990",
   "metadata": {},
   "source": [
    "$Functions$"
   ]
  },
  {
   "cell_type": "code",
   "execution_count": null,
   "id": "6d931dab",
   "metadata": {},
   "outputs": [],
   "source": [
    "- to reduce the code size\n",
    "- if you want to use same logic many times\n",
    "- Suppose I want to calcuate income tax of the employees\n",
    "- The logic is same but we calaculte for different employees\n",
    "\n",
    "- One income tax program takes 100 lines for one employee\n",
    "- For other employee 100 lines\n",
    "- Suppose if i want calculate 10 members\n",
    "\n",
    "- 10x100\n",
    "\n",
    "- but if use function only 100 lines of code enought for all the employees"
   ]
  },
  {
   "cell_type": "code",
   "execution_count": null,
   "id": "274cea5f",
   "metadata": {},
   "outputs": [],
   "source": [
    "# key word called def ------ > defination\n",
    "# def<function name>(): \n",
    "\n",
    "# here my function name is good_morning\n",
    "\n",
    "def good_morning():\n",
    "    \n",
    "def addition():  # here function name is addition\n",
    "    "
   ]
  },
  {
   "cell_type": "code",
   "execution_count": 61,
   "id": "2ffcb3bb",
   "metadata": {},
   "outputs": [],
   "source": [
    "# defining our function\n",
    "# inside function we are writing our logic\n",
    "def good_morning():\n",
    "    print(\"Hello\")\n",
    "    print(\"Hi\")"
   ]
  },
  {
   "cell_type": "code",
   "execution_count": 62,
   "id": "290d5adf",
   "metadata": {},
   "outputs": [
    {
     "name": "stdout",
     "output_type": "stream",
     "text": [
      "Hello\n",
      "Hi\n"
     ]
    }
   ],
   "source": [
    "# you need call the function \n",
    "# to execute/run the logic\n",
    "good_morning()"
   ]
  },
  {
   "cell_type": "code",
   "execution_count": 63,
   "id": "7d411e15",
   "metadata": {},
   "outputs": [
    {
     "name": "stdout",
     "output_type": "stream",
     "text": [
      "enter a number1:7\n",
      "enter a number2:8\n",
      "summation of 7 and 8 is 15\n"
     ]
    }
   ],
   "source": [
    "num1=eval(input(\"enter a number1:\"))\n",
    "num2=eval(input(\"enter a number2:\"))\n",
    "summation=num1+num2\n",
    "print(\"summation of {} and {} is {}\".format(num1,num2,summation))"
   ]
  },
  {
   "cell_type": "code",
   "execution_count": 66,
   "id": "1b018737",
   "metadata": {},
   "outputs": [],
   "source": [
    "def addition():\n",
    "    num1=eval(input(\"enter a number1:\"))\n",
    "    num2=eval(input(\"enter a number2:\"))\n",
    "    summation=num1+num2\n",
    "    print(\"summation of {} and {} is {}\".format(num1,num2,summation))"
   ]
  },
  {
   "cell_type": "code",
   "execution_count": 67,
   "id": "12226ad9",
   "metadata": {},
   "outputs": [
    {
     "name": "stdout",
     "output_type": "stream",
     "text": [
      "enter a number1:7\n",
      "enter a number2:8\n",
      "summation of 7 and 8 is 15\n"
     ]
    }
   ],
   "source": [
    "addition()"
   ]
  },
  {
   "cell_type": "code",
   "execution_count": 70,
   "id": "219bb460",
   "metadata": {},
   "outputs": [
    {
     "name": "stdout",
     "output_type": "stream",
     "text": [
      "enter a number1:5\n",
      "enter a number2:6\n",
      "enter a number3:7\n",
      "average of 5,6 and7 is 6.0\n"
     ]
    }
   ],
   "source": [
    "num1=eval(input(\"enter a number1:\"))\n",
    "num2=eval(input(\"enter a number2:\"))\n",
    "num3=eval(input(\"enter a number3:\"))\n",
    "avg=(num1+num2+num3)/3\n",
    "print(\"average of {},{} and {} is {}\".format(num1,num2,num3,round(avg,2)))"
   ]
  },
  {
   "cell_type": "code",
   "execution_count": 71,
   "id": "eb60a8bd",
   "metadata": {},
   "outputs": [],
   "source": [
    "def average():\n",
    "    num1=eval(input(\"enter a number1:\"))\n",
    "    num2=eval(input(\"enter a number2:\"))\n",
    "    num3=eval(input(\"enter a number3:\"))\n",
    "    avg=(num1+num2+num3)/3\n",
    "    print(\"average of {},{} and {} is {}\".format(num1,num2,num3,round(avg,2)))"
   ]
  },
  {
   "cell_type": "code",
   "execution_count": 72,
   "id": "9dcec667",
   "metadata": {},
   "outputs": [
    {
     "name": "stdout",
     "output_type": "stream",
     "text": [
      "enter a number1:5\n",
      "enter a number2:6\n",
      "enter a number3:7\n",
      "average of 5,6 and7 is 6.0\n"
     ]
    }
   ],
   "source": [
    "average()"
   ]
  },
  {
   "cell_type": "code",
   "execution_count": null,
   "id": "a8b2e1ee",
   "metadata": {},
   "outputs": [],
   "source": []
  }
 ],
 "metadata": {
  "kernelspec": {
   "display_name": "Python 3",
   "language": "python",
   "name": "python3"
  },
  "language_info": {
   "codemirror_mode": {
    "name": "ipython",
    "version": 3
   },
   "file_extension": ".py",
   "mimetype": "text/x-python",
   "name": "python",
   "nbconvert_exporter": "python",
   "pygments_lexer": "ipython3",
   "version": "3.8.8"
  }
 },
 "nbformat": 4,
 "nbformat_minor": 5
}
