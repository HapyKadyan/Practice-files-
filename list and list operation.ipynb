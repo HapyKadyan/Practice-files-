{
 "cells": [
  {
   "cell_type": "code",
   "execution_count": null,
   "id": "eb04c05a",
   "metadata": {},
   "outputs": [],
   "source": [
    "list1=[9,8,6,4,3,2]"
   ]
  },
  {
   "cell_type": "markdown",
   "id": "bfb15c29",
   "metadata": {},
   "source": [
    "- in list, we can store multiple value in same variable\n",
    "- list is defined in square bracket[]\n",
    "- in list, we can store integer,float, complex, string, boolean type of value\n",
    "- we can have list inside list also\n",
    "- use quotes on string in the list\n",
    "- elements are seperated by comma\n",
    "- list can be heterogneous(can have different data types)\n",
    "- list can have duplicates\n",
    "- concatination is possible\n",
    "- list is mutable\n",
    "- in list, multiplication b/w not possible\n",
    "- list indexing possible\n",
    "- list slicing possible\n",
    "- max and min possible for only integar list and only for string list\n",
    "- max min not possible for a list having both int and strings\n",
    "- empty list is []\n",
    "- if there is an error in slicing then it show []\n"
   ]
  },
  {
   "cell_type": "code",
   "execution_count": null,
   "id": "b5848571",
   "metadata": {},
   "outputs": [],
   "source": []
  },
  {
   "cell_type": "code",
   "execution_count": 1,
   "id": "93773770",
   "metadata": {},
   "outputs": [
    {
     "data": {
      "text/plain": [
       "str"
      ]
     },
     "execution_count": 1,
     "metadata": {},
     "output_type": "execute_result"
    }
   ],
   "source": [
    "string1=\"python\"\n",
    "type(string1)   # string in quotes"
   ]
  },
  {
   "cell_type": "code",
   "execution_count": 2,
   "id": "11eee7d9",
   "metadata": {},
   "outputs": [
    {
     "data": {
      "text/plain": [
       "[1, 2, 3, 4]"
      ]
     },
     "execution_count": 2,
     "metadata": {},
     "output_type": "execute_result"
    }
   ],
   "source": [
    "list1=[1,2,3,4]    # represents in square brcket\n",
    "list1       "
   ]
  },
  {
   "cell_type": "code",
   "execution_count": 3,
   "id": "d7fef7b4",
   "metadata": {},
   "outputs": [
    {
     "data": {
      "text/plain": [
       "list"
      ]
     },
     "execution_count": 3,
     "metadata": {},
     "output_type": "execute_result"
    }
   ],
   "source": [
    "type(list1)"
   ]
  },
  {
   "cell_type": "code",
   "execution_count": 4,
   "id": "97a796f2",
   "metadata": {},
   "outputs": [
    {
     "data": {
      "text/plain": [
       "[1, 1, 1, 2, 3, 3, 3, 4, 4]"
      ]
     },
     "execution_count": 4,
     "metadata": {},
     "output_type": "execute_result"
    }
   ],
   "source": [
    "list1=[1,1,1,2,3,3,3,4,4]\n",
    "list1    # list can have duplicates"
   ]
  },
  {
   "cell_type": "code",
   "execution_count": 1,
   "id": "9577f57b",
   "metadata": {},
   "outputs": [],
   "source": [
    "list2=[\"apple\",\"bananna\",\"cherry\",120,130,40.6,8.9]\n",
    "# list have string and int and float"
   ]
  },
  {
   "cell_type": "code",
   "execution_count": 7,
   "id": "12ebfaf1",
   "metadata": {},
   "outputs": [
    {
     "data": {
      "text/plain": [
       "['apple', 'bananna', 'cherry', 120, 130, 40.6, 8.9]"
      ]
     },
     "execution_count": 7,
     "metadata": {},
     "output_type": "execute_result"
    }
   ],
   "source": [
    "list2"
   ]
  },
  {
   "cell_type": "code",
   "execution_count": 9,
   "id": "4cc00af3",
   "metadata": {},
   "outputs": [],
   "source": [
    "list3=[1,4,2,7,\"three\"]"
   ]
  },
  {
   "cell_type": "code",
   "execution_count": 77,
   "id": "8d451be4",
   "metadata": {},
   "outputs": [
    {
     "data": {
      "text/plain": [
       "['Ball', 'Apple', 'Cat', 'Doll']"
      ]
     },
     "execution_count": 77,
     "metadata": {},
     "output_type": "execute_result"
    }
   ],
   "source": [
    "list3"
   ]
  },
  {
   "cell_type": "code",
   "execution_count": 83,
   "id": "14f9c498",
   "metadata": {},
   "outputs": [],
   "source": [
    "a=[2,3,4,5,[4,5,6]]  # list inside list"
   ]
  },
  {
   "cell_type": "code",
   "execution_count": 84,
   "id": "a8d79702",
   "metadata": {},
   "outputs": [
    {
     "data": {
      "text/plain": [
       "2"
      ]
     },
     "execution_count": 84,
     "metadata": {},
     "output_type": "execute_result"
    }
   ],
   "source": [
    "a[0]"
   ]
  },
  {
   "cell_type": "code",
   "execution_count": 85,
   "id": "3b40eea6",
   "metadata": {},
   "outputs": [
    {
     "data": {
      "text/plain": [
       "[4, 5, 6]"
      ]
     },
     "execution_count": 85,
     "metadata": {},
     "output_type": "execute_result"
    }
   ],
   "source": [
    "a[4]"
   ]
  },
  {
   "cell_type": "code",
   "execution_count": 86,
   "id": "8a006f6a",
   "metadata": {},
   "outputs": [
    {
     "data": {
      "text/plain": [
       "4"
      ]
     },
     "execution_count": 86,
     "metadata": {},
     "output_type": "execute_result"
    }
   ],
   "source": [
    "a[4][0]  # checking index list in list"
   ]
  },
  {
   "cell_type": "code",
   "execution_count": 87,
   "id": "0faa155c",
   "metadata": {},
   "outputs": [
    {
     "data": {
      "text/plain": [
       "5"
      ]
     },
     "execution_count": 87,
     "metadata": {},
     "output_type": "execute_result"
    }
   ],
   "source": [
    "a[4][1]"
   ]
  },
  {
   "cell_type": "code",
   "execution_count": 88,
   "id": "4135599f",
   "metadata": {},
   "outputs": [
    {
     "data": {
      "text/plain": [
       "6"
      ]
     },
     "execution_count": 88,
     "metadata": {},
     "output_type": "execute_result"
    }
   ],
   "source": [
    "a[4][2]"
   ]
  },
  {
   "cell_type": "code",
   "execution_count": null,
   "id": "3162e36f",
   "metadata": {},
   "outputs": [],
   "source": []
  },
  {
   "cell_type": "markdown",
   "id": "fc77f691",
   "metadata": {},
   "source": [
    "## index"
   ]
  },
  {
   "cell_type": "code",
   "execution_count": null,
   "id": "a2754fe4",
   "metadata": {},
   "outputs": [],
   "source": []
  },
  {
   "cell_type": "code",
   "execution_count": null,
   "id": "6601905c",
   "metadata": {},
   "outputs": [],
   "source": []
  },
  {
   "cell_type": "code",
   "execution_count": 10,
   "id": "334deb39",
   "metadata": {},
   "outputs": [
    {
     "data": {
      "text/plain": [
       "1"
      ]
     },
     "execution_count": 10,
     "metadata": {},
     "output_type": "execute_result"
    }
   ],
   "source": [
    "list3[0]"
   ]
  },
  {
   "cell_type": "code",
   "execution_count": 11,
   "id": "b6fbb99a",
   "metadata": {},
   "outputs": [
    {
     "data": {
      "text/plain": [
       "7"
      ]
     },
     "execution_count": 11,
     "metadata": {},
     "output_type": "execute_result"
    }
   ],
   "source": [
    "list3[3]"
   ]
  },
  {
   "cell_type": "code",
   "execution_count": 13,
   "id": "2770654c",
   "metadata": {},
   "outputs": [
    {
     "data": {
      "text/plain": [
       "'three'"
      ]
     },
     "execution_count": 13,
     "metadata": {},
     "output_type": "execute_result"
    }
   ],
   "source": [
    "list3[4]"
   ]
  },
  {
   "cell_type": "code",
   "execution_count": 2,
   "id": "cc828100",
   "metadata": {},
   "outputs": [
    {
     "data": {
      "text/plain": [
       "['apple', 'bananna', 'cherry', 120, 130, 40.6, 8.9]"
      ]
     },
     "execution_count": 2,
     "metadata": {},
     "output_type": "execute_result"
    }
   ],
   "source": [
    "list2"
   ]
  },
  {
   "cell_type": "code",
   "execution_count": 6,
   "id": "eeac5bd1",
   "metadata": {},
   "outputs": [
    {
     "data": {
      "text/plain": [
       "'apple'"
      ]
     },
     "execution_count": 6,
     "metadata": {},
     "output_type": "execute_result"
    }
   ],
   "source": [
    "list2[0]"
   ]
  },
  {
   "cell_type": "code",
   "execution_count": 16,
   "id": "9f510d2a",
   "metadata": {},
   "outputs": [
    {
     "data": {
      "text/plain": [
       "130"
      ]
     },
     "execution_count": 16,
     "metadata": {},
     "output_type": "execute_result"
    }
   ],
   "source": [
    "list2[4]"
   ]
  },
  {
   "cell_type": "code",
   "execution_count": 17,
   "id": "2ef2c7dd",
   "metadata": {},
   "outputs": [
    {
     "data": {
      "text/plain": [
       "3"
      ]
     },
     "execution_count": 17,
     "metadata": {},
     "output_type": "execute_result"
    }
   ],
   "source": [
    "list2.index(120)"
   ]
  },
  {
   "cell_type": "code",
   "execution_count": 18,
   "id": "12be07f7",
   "metadata": {},
   "outputs": [
    {
     "data": {
      "text/plain": [
       "4"
      ]
     },
     "execution_count": 18,
     "metadata": {},
     "output_type": "execute_result"
    }
   ],
   "source": [
    "list3.index(\"three\")"
   ]
  },
  {
   "cell_type": "code",
   "execution_count": 19,
   "id": "1e4cad5c",
   "metadata": {},
   "outputs": [
    {
     "ename": "ValueError",
     "evalue": "'hello' is not in list",
     "output_type": "error",
     "traceback": [
      "\u001b[1;31m---------------------------------------------------------------------------\u001b[0m",
      "\u001b[1;31mValueError\u001b[0m                                Traceback (most recent call last)",
      "Input \u001b[1;32mIn [19]\u001b[0m, in \u001b[0;36m<cell line: 1>\u001b[1;34m()\u001b[0m\n\u001b[1;32m----> 1\u001b[0m \u001b[43mlist3\u001b[49m\u001b[38;5;241;43m.\u001b[39;49m\u001b[43mindex\u001b[49m\u001b[43m(\u001b[49m\u001b[38;5;124;43m\"\u001b[39;49m\u001b[38;5;124;43mhello\u001b[39;49m\u001b[38;5;124;43m\"\u001b[39;49m\u001b[43m)\u001b[49m\n",
      "\u001b[1;31mValueError\u001b[0m: 'hello' is not in list"
     ]
    }
   ],
   "source": [
    "list3.index(\"hello\")"
   ]
  },
  {
   "cell_type": "code",
   "execution_count": 7,
   "id": "d05feec8",
   "metadata": {},
   "outputs": [],
   "source": [
    "letters=[\"p\",\"q\",\"r\",\"s\",\"p\",\"u\"]"
   ]
  },
  {
   "cell_type": "code",
   "execution_count": 43,
   "id": "c3b48e98",
   "metadata": {},
   "outputs": [
    {
     "data": {
      "text/plain": [
       "1"
      ]
     },
     "execution_count": 43,
     "metadata": {},
     "output_type": "execute_result"
    }
   ],
   "source": [
    "letters.index(\"q\")"
   ]
  },
  {
   "cell_type": "code",
   "execution_count": 44,
   "id": "7bc9c809",
   "metadata": {},
   "outputs": [
    {
     "data": {
      "text/plain": [
       "0"
      ]
     },
     "execution_count": 44,
     "metadata": {},
     "output_type": "execute_result"
    }
   ],
   "source": [
    "letters.index(\"p\") # there are two 'p' in the list \n",
    "# but it show 0 why not 4\n",
    "# how can we print the index of that p"
   ]
  },
  {
   "cell_type": "code",
   "execution_count": 45,
   "id": "09f22684",
   "metadata": {},
   "outputs": [
    {
     "data": {
      "text/plain": [
       "4"
      ]
     },
     "execution_count": 45,
     "metadata": {},
     "output_type": "execute_result"
    }
   ],
   "source": [
    "letters.index(\"p\",1)  "
   ]
  },
  {
   "cell_type": "code",
   "execution_count": 46,
   "id": "4619cb01",
   "metadata": {},
   "outputs": [
    {
     "data": {
      "text/plain": [
       "2"
      ]
     },
     "execution_count": 46,
     "metadata": {},
     "output_type": "execute_result"
    }
   ],
   "source": [
    "a=\"hello\"\n",
    "a.index(\"l\")"
   ]
  },
  {
   "cell_type": "code",
   "execution_count": 50,
   "id": "a8672cb1",
   "metadata": {},
   "outputs": [
    {
     "data": {
      "text/plain": [
       "3"
      ]
     },
     "execution_count": 50,
     "metadata": {},
     "output_type": "execute_result"
    }
   ],
   "source": [
    "a.index(\"l\",3)"
   ]
  },
  {
   "cell_type": "code",
   "execution_count": null,
   "id": "973540c4",
   "metadata": {},
   "outputs": [],
   "source": []
  },
  {
   "cell_type": "markdown",
   "id": "614ec8d2",
   "metadata": {},
   "source": [
    "## len"
   ]
  },
  {
   "cell_type": "code",
   "execution_count": 51,
   "id": "12b8b74b",
   "metadata": {},
   "outputs": [
    {
     "data": {
      "text/plain": [
       "5"
      ]
     },
     "execution_count": 51,
     "metadata": {},
     "output_type": "execute_result"
    }
   ],
   "source": [
    "len(list3) # how many elements are there in a list"
   ]
  },
  {
   "cell_type": "code",
   "execution_count": 27,
   "id": "6aeb779c",
   "metadata": {},
   "outputs": [
    {
     "data": {
      "text/plain": [
       "['__add__',\n",
       " '__class__',\n",
       " '__class_getitem__',\n",
       " '__contains__',\n",
       " '__delattr__',\n",
       " '__delitem__',\n",
       " '__dir__',\n",
       " '__doc__',\n",
       " '__eq__',\n",
       " '__format__',\n",
       " '__ge__',\n",
       " '__getattribute__',\n",
       " '__getitem__',\n",
       " '__gt__',\n",
       " '__hash__',\n",
       " '__iadd__',\n",
       " '__imul__',\n",
       " '__init__',\n",
       " '__init_subclass__',\n",
       " '__iter__',\n",
       " '__le__',\n",
       " '__len__',\n",
       " '__lt__',\n",
       " '__mul__',\n",
       " '__ne__',\n",
       " '__new__',\n",
       " '__reduce__',\n",
       " '__reduce_ex__',\n",
       " '__repr__',\n",
       " '__reversed__',\n",
       " '__rmul__',\n",
       " '__setattr__',\n",
       " '__setitem__',\n",
       " '__sizeof__',\n",
       " '__str__',\n",
       " '__subclasshook__',\n",
       " 'append',\n",
       " 'clear',\n",
       " 'copy',\n",
       " 'count',\n",
       " 'extend',\n",
       " 'index',\n",
       " 'insert',\n",
       " 'pop',\n",
       " 'remove',\n",
       " 'reverse',\n",
       " 'sort']"
      ]
     },
     "execution_count": 27,
     "metadata": {},
     "output_type": "execute_result"
    }
   ],
   "source": [
    "dir(list1)    # we also written this dir([])"
   ]
  },
  {
   "cell_type": "markdown",
   "id": "4c1479e3",
   "metadata": {},
   "source": [
    "'append', 'clear', 'copy', 'count', 'extend', 'index','insert', 'pop','remove','reverse','sort']\n",
    "\n",
    "only these operation we can apply on list"
   ]
  },
  {
   "cell_type": "code",
   "execution_count": 24,
   "id": "50ab4fa9",
   "metadata": {},
   "outputs": [
    {
     "ename": "AttributeError",
     "evalue": "'list' object has no attribute 'find'",
     "output_type": "error",
     "traceback": [
      "\u001b[1;31m---------------------------------------------------------------------------\u001b[0m",
      "\u001b[1;31mAttributeError\u001b[0m                            Traceback (most recent call last)",
      "Input \u001b[1;32mIn [24]\u001b[0m, in \u001b[0;36m<cell line: 1>\u001b[1;34m()\u001b[0m\n\u001b[1;32m----> 1\u001b[0m \u001b[43mlist1\u001b[49m\u001b[38;5;241;43m.\u001b[39;49m\u001b[43mfind\u001b[49m(\u001b[38;5;124m\"\u001b[39m\u001b[38;5;124m2\u001b[39m\u001b[38;5;124m\"\u001b[39m)\n",
      "\u001b[1;31mAttributeError\u001b[0m: 'list' object has no attribute 'find'"
     ]
    }
   ],
   "source": [
    "list1.find(\"2\")   # there is no find operation in list"
   ]
  },
  {
   "cell_type": "code",
   "execution_count": null,
   "id": "b9ca6990",
   "metadata": {},
   "outputs": [],
   "source": []
  },
  {
   "cell_type": "markdown",
   "id": "e81beb0f",
   "metadata": {},
   "source": [
    "## slicing"
   ]
  },
  {
   "cell_type": "code",
   "execution_count": 10,
   "id": "7f2a7046",
   "metadata": {},
   "outputs": [
    {
     "data": {
      "text/plain": [
       "[1, 4, 2, 7, 'three']"
      ]
     },
     "execution_count": 10,
     "metadata": {},
     "output_type": "execute_result"
    }
   ],
   "source": [
    "list3"
   ]
  },
  {
   "cell_type": "code",
   "execution_count": 30,
   "id": "2c3bbce2",
   "metadata": {},
   "outputs": [
    {
     "data": {
      "text/plain": [
       "[1, 4, 2, 7]"
      ]
     },
     "execution_count": 30,
     "metadata": {},
     "output_type": "execute_result"
    }
   ],
   "source": [
    "list3[0:4]"
   ]
  },
  {
   "cell_type": "code",
   "execution_count": 31,
   "id": "1d26c1a9",
   "metadata": {},
   "outputs": [
    {
     "data": {
      "text/plain": [
       "['three']"
      ]
     },
     "execution_count": 31,
     "metadata": {},
     "output_type": "execute_result"
    }
   ],
   "source": [
    "list3[4:5]"
   ]
  },
  {
   "cell_type": "code",
   "execution_count": 32,
   "id": "c18a43b1",
   "metadata": {},
   "outputs": [
    {
     "data": {
      "text/plain": [
       "['three']"
      ]
     },
     "execution_count": 32,
     "metadata": {},
     "output_type": "execute_result"
    }
   ],
   "source": [
    "list3[4:]"
   ]
  },
  {
   "cell_type": "code",
   "execution_count": 33,
   "id": "576afb96",
   "metadata": {},
   "outputs": [
    {
     "data": {
      "text/plain": [
       "[1, 4, 2, 7, 'three']"
      ]
     },
     "execution_count": 33,
     "metadata": {},
     "output_type": "execute_result"
    }
   ],
   "source": [
    "list3[0:]"
   ]
  },
  {
   "cell_type": "code",
   "execution_count": 35,
   "id": "8398619a",
   "metadata": {},
   "outputs": [
    {
     "data": {
      "text/plain": [
       "[1, 4, 2, 7, 'three']"
      ]
     },
     "execution_count": 35,
     "metadata": {},
     "output_type": "execute_result"
    }
   ],
   "source": [
    "list3[:]"
   ]
  },
  {
   "cell_type": "code",
   "execution_count": 36,
   "id": "f407c149",
   "metadata": {},
   "outputs": [
    {
     "data": {
      "text/plain": [
       "['three', 7, 2, 4, 1]"
      ]
     },
     "execution_count": 36,
     "metadata": {},
     "output_type": "execute_result"
    }
   ],
   "source": [
    "list3[::-1]"
   ]
  },
  {
   "cell_type": "code",
   "execution_count": 37,
   "id": "29538c5a",
   "metadata": {},
   "outputs": [
    {
     "data": {
      "text/plain": [
       "['three', 2, 1]"
      ]
     },
     "execution_count": 37,
     "metadata": {},
     "output_type": "execute_result"
    }
   ],
   "source": [
    "list3[::-2]"
   ]
  },
  {
   "cell_type": "code",
   "execution_count": null,
   "id": "b74fd201",
   "metadata": {},
   "outputs": [],
   "source": []
  },
  {
   "cell_type": "code",
   "execution_count": 38,
   "id": "311b6cf1",
   "metadata": {},
   "outputs": [
    {
     "data": {
      "text/plain": [
       "[4, 7]"
      ]
     },
     "execution_count": 38,
     "metadata": {},
     "output_type": "execute_result"
    }
   ],
   "source": [
    "list3[1:5:2]"
   ]
  },
  {
   "cell_type": "markdown",
   "id": "d3ae6932",
   "metadata": {},
   "source": [
    "slcing in list is same as string opertation"
   ]
  },
  {
   "cell_type": "markdown",
   "id": "2b91f68e",
   "metadata": {},
   "source": [
    "[:] .........> gives complete value\n",
    "\n",
    "[0:4].........> start from 0 and stop=end-1=4-1=3\n",
    "\n",
    "[a:b]..........> start from a and stop=b-1 (upper-1)\n",
    "\n",
    "[a:b:c].......> here a is start , b is end and c is step\n",
    "\n",
    "[1:]............> start from 1 and stop at last value\n",
    "\n",
    "[:1].............> start from 0 and stop at 1-1=0\n",
    "\n",
    "[:5].............> start from zero and stop at 5-1=4"
   ]
  },
  {
   "cell_type": "code",
   "execution_count": null,
   "id": "94ad96c4",
   "metadata": {},
   "outputs": [],
   "source": [
    "[::a]\n",
    " here first : describe start\n",
    " second colon describe stop at last value\n",
    " here a is step \n",
    "# a=-1  step in negattive \n",
    "# a=-3 step in negative\n",
    "# a=1 step in positive \n",
    "# a=3 step in positive"
   ]
  },
  {
   "cell_type": "code",
   "execution_count": 40,
   "id": "b96b6248",
   "metadata": {},
   "outputs": [
    {
     "data": {
      "text/plain": [
       "[1, 4, 2, 7, 'three']"
      ]
     },
     "execution_count": 40,
     "metadata": {},
     "output_type": "execute_result"
    }
   ],
   "source": [
    "list3"
   ]
  },
  {
   "cell_type": "code",
   "execution_count": 39,
   "id": "b6e621f6",
   "metadata": {},
   "outputs": [
    {
     "data": {
      "text/plain": [
       "[4]"
      ]
     },
     "execution_count": 39,
     "metadata": {},
     "output_type": "execute_result"
    }
   ],
   "source": [
    "list3[1::4]  # here start value is 1 and stop at last and increment 4 \n",
    "# that;s why it print only 4"
   ]
  },
  {
   "cell_type": "code",
   "execution_count": 41,
   "id": "7e3c4664",
   "metadata": {},
   "outputs": [
    {
     "data": {
      "text/plain": [
       "[1, 25, 81]"
      ]
     },
     "execution_count": 41,
     "metadata": {},
     "output_type": "execute_result"
    }
   ],
   "source": [
    "sqs=[0,1,4,9,16,25,36,49,64,81]\n",
    "sqs[1::4]"
   ]
  },
  {
   "cell_type": "code",
   "execution_count": 13,
   "id": "9a1508e1",
   "metadata": {},
   "outputs": [
    {
     "ename": "NameError",
     "evalue": "name 'list1' is not defined",
     "output_type": "error",
     "traceback": [
      "\u001b[1;31m---------------------------------------------------------------------------\u001b[0m",
      "\u001b[1;31mNameError\u001b[0m                                 Traceback (most recent call last)",
      "Input \u001b[1;32mIn [13]\u001b[0m, in \u001b[0;36m<cell line: 1>\u001b[1;34m()\u001b[0m\n\u001b[1;32m----> 1\u001b[0m \u001b[43mlist1\u001b[49m\n",
      "\u001b[1;31mNameError\u001b[0m: name 'list1' is not defined"
     ]
    }
   ],
   "source": [
    "list1"
   ]
  },
  {
   "cell_type": "code",
   "execution_count": 53,
   "id": "3fd9e4dd",
   "metadata": {},
   "outputs": [
    {
     "data": {
      "text/plain": [
       "['apple', 'bananna', 'cherry', 120, 130, 40.6, 8.9]"
      ]
     },
     "execution_count": 53,
     "metadata": {},
     "output_type": "execute_result"
    }
   ],
   "source": [
    "list2"
   ]
  },
  {
   "cell_type": "code",
   "execution_count": 54,
   "id": "d8e4b603",
   "metadata": {},
   "outputs": [],
   "source": [
    "list4=list1+list2"
   ]
  },
  {
   "cell_type": "code",
   "execution_count": 55,
   "id": "ec3f65b6",
   "metadata": {},
   "outputs": [
    {
     "data": {
      "text/plain": [
       "[1, 1, 1, 2, 3, 3, 3, 4, 4, 'apple', 'bananna', 'cherry', 120, 130, 40.6, 8.9]"
      ]
     },
     "execution_count": 55,
     "metadata": {},
     "output_type": "execute_result"
    }
   ],
   "source": [
    "list4 # first list1 will print then list2"
   ]
  },
  {
   "cell_type": "code",
   "execution_count": 56,
   "id": "894b5541",
   "metadata": {},
   "outputs": [
    {
     "data": {
      "text/plain": [
       "[1,\n",
       " 1,\n",
       " 1,\n",
       " 2,\n",
       " 3,\n",
       " 3,\n",
       " 3,\n",
       " 4,\n",
       " 4,\n",
       " 1,\n",
       " 1,\n",
       " 1,\n",
       " 2,\n",
       " 3,\n",
       " 3,\n",
       " 3,\n",
       " 4,\n",
       " 4,\n",
       " 1,\n",
       " 1,\n",
       " 1,\n",
       " 2,\n",
       " 3,\n",
       " 3,\n",
       " 3,\n",
       " 4,\n",
       " 4]"
      ]
     },
     "execution_count": 56,
     "metadata": {},
     "output_type": "execute_result"
    }
   ],
   "source": [
    "list1*3 # list1+list1+list1"
   ]
  },
  {
   "cell_type": "code",
   "execution_count": 57,
   "id": "4d096b79",
   "metadata": {},
   "outputs": [
    {
     "ename": "TypeError",
     "evalue": "can't multiply sequence by non-int of type 'list'",
     "output_type": "error",
     "traceback": [
      "\u001b[1;31m---------------------------------------------------------------------------\u001b[0m",
      "\u001b[1;31mTypeError\u001b[0m                                 Traceback (most recent call last)",
      "Input \u001b[1;32mIn [57]\u001b[0m, in \u001b[0;36m<cell line: 1>\u001b[1;34m()\u001b[0m\n\u001b[1;32m----> 1\u001b[0m list4\u001b[38;5;241m=\u001b[39m\u001b[43mlist1\u001b[49m\u001b[38;5;241;43m*\u001b[39;49m\u001b[43mlist2\u001b[49m\n",
      "\u001b[1;31mTypeError\u001b[0m: can't multiply sequence by non-int of type 'list'"
     ]
    }
   ],
   "source": [
    "list4=list1*list2"
   ]
  },
  {
   "cell_type": "code",
   "execution_count": 58,
   "id": "d7106d26",
   "metadata": {},
   "outputs": [
    {
     "data": {
      "text/plain": [
       "[1, 4, 2, 7, 'three']"
      ]
     },
     "execution_count": 58,
     "metadata": {},
     "output_type": "execute_result"
    }
   ],
   "source": [
    "list3"
   ]
  },
  {
   "cell_type": "code",
   "execution_count": 59,
   "id": "99cab31d",
   "metadata": {},
   "outputs": [
    {
     "ename": "TypeError",
     "evalue": "unsupported operand type(s) for -: 'list' and 'list'",
     "output_type": "error",
     "traceback": [
      "\u001b[1;31m---------------------------------------------------------------------------\u001b[0m",
      "\u001b[1;31mTypeError\u001b[0m                                 Traceback (most recent call last)",
      "Input \u001b[1;32mIn [59]\u001b[0m, in \u001b[0;36m<cell line: 1>\u001b[1;34m()\u001b[0m\n\u001b[1;32m----> 1\u001b[0m \u001b[43mlist3\u001b[49m\u001b[38;5;241;43m-\u001b[39;49m\u001b[43mlist1\u001b[49m\n",
      "\u001b[1;31mTypeError\u001b[0m: unsupported operand type(s) for -: 'list' and 'list'"
     ]
    }
   ],
   "source": [
    "list3-list1 # we can't do substration"
   ]
  },
  {
   "cell_type": "code",
   "execution_count": 60,
   "id": "40a092dd",
   "metadata": {},
   "outputs": [
    {
     "ename": "TypeError",
     "evalue": "unsupported operand type(s) for /: 'list' and 'list'",
     "output_type": "error",
     "traceback": [
      "\u001b[1;31m---------------------------------------------------------------------------\u001b[0m",
      "\u001b[1;31mTypeError\u001b[0m                                 Traceback (most recent call last)",
      "Input \u001b[1;32mIn [60]\u001b[0m, in \u001b[0;36m<cell line: 1>\u001b[1;34m()\u001b[0m\n\u001b[1;32m----> 1\u001b[0m \u001b[43mlist3\u001b[49m\u001b[38;5;241;43m/\u001b[39;49m\u001b[43mlist1\u001b[49m\n",
      "\u001b[1;31mTypeError\u001b[0m: unsupported operand type(s) for /: 'list' and 'list'"
     ]
    }
   ],
   "source": [
    "list3/list1 # we can't do division"
   ]
  },
  {
   "cell_type": "code",
   "execution_count": 18,
   "id": "a8f90a01",
   "metadata": {},
   "outputs": [
    {
     "ename": "TypeError",
     "evalue": "can't multiply sequence by non-int of type 'list'",
     "output_type": "error",
     "traceback": [
      "\u001b[1;31m---------------------------------------------------------------------------\u001b[0m",
      "\u001b[1;31mTypeError\u001b[0m                                 Traceback (most recent call last)",
      "Input \u001b[1;32mIn [18]\u001b[0m, in \u001b[0;36m<cell line: 3>\u001b[1;34m()\u001b[0m\n\u001b[0;32m      1\u001b[0m lst1\u001b[38;5;241m=\u001b[39m[\u001b[38;5;241m1\u001b[39m,\u001b[38;5;241m2\u001b[39m,\u001b[38;5;241m3\u001b[39m]\n\u001b[0;32m      2\u001b[0m lst2\u001b[38;5;241m=\u001b[39m[\u001b[38;5;241m4\u001b[39m,\u001b[38;5;241m5\u001b[39m,\u001b[38;5;241m6\u001b[39m]\n\u001b[1;32m----> 3\u001b[0m \u001b[43mlst1\u001b[49m\u001b[38;5;241;43m*\u001b[39;49m\u001b[43mlst2\u001b[49m\n",
      "\u001b[1;31mTypeError\u001b[0m: can't multiply sequence by non-int of type 'list'"
     ]
    }
   ],
   "source": [
    "lst1=[1,2,3]\n",
    "lst2=[4,5,6]\n",
    "lst1*lst2"
   ]
  },
  {
   "cell_type": "code",
   "execution_count": 61,
   "id": "14717b3d",
   "metadata": {},
   "outputs": [
    {
     "data": {
      "text/plain": [
       "['Dairy', 'Banana', 'Cherry', 120, 130, 40.6, 8.9]"
      ]
     },
     "execution_count": 61,
     "metadata": {},
     "output_type": "execute_result"
    }
   ],
   "source": [
    "list2=['Dairy', 'Banana', 'Cherry', 120, 130, 40.6, 8.9]\n",
    "list2"
   ]
  },
  {
   "cell_type": "code",
   "execution_count": 62,
   "id": "07dba202",
   "metadata": {},
   "outputs": [
    {
     "data": {
      "text/plain": [
       "['Ball', 'Apple', 'Cat', 'Doll']"
      ]
     },
     "execution_count": 62,
     "metadata": {},
     "output_type": "execute_result"
    }
   ],
   "source": [
    "list3=['Ball','Apple','Cat','Doll']\n",
    "list3"
   ]
  },
  {
   "cell_type": "code",
   "execution_count": 63,
   "id": "fccd7b01",
   "metadata": {},
   "outputs": [
    {
     "data": {
      "text/plain": [
       "['Dairy',\n",
       " 'Banana',\n",
       " 'Cherry',\n",
       " 120,\n",
       " 130,\n",
       " 40.6,\n",
       " 8.9,\n",
       " 'Ball',\n",
       " 'Apple',\n",
       " 'Cat',\n",
       " 'Doll']"
      ]
     },
     "execution_count": 63,
     "metadata": {},
     "output_type": "execute_result"
    }
   ],
   "source": [
    "list4=list2+list3\n",
    "list4"
   ]
  },
  {
   "cell_type": "code",
   "execution_count": null,
   "id": "51bb5d7c",
   "metadata": {},
   "outputs": [],
   "source": [
    "list4[2:10]  --------->\n",
    "list4[2:11:2]\n",
    "list4[2:11:-2]\n",
    "list4[2:-11:-2]\n",
    "list4[-2:-11:-2]\n",
    "list4[-2:11:2]\n",
    "list4[-2:11:-2]\n",
    "list4[-2:-11:2]\n",
    "list4[11:2:2]\n",
    "list4[11:2:-2]\n",
    "list4[11:-2:-2]\n",
    "list4[-11:-2:-2]\n",
    "list4[-11:-2:2]"
   ]
  },
  {
   "cell_type": "code",
   "execution_count": null,
   "id": "d6d0e033",
   "metadata": {},
   "outputs": [],
   "source": []
  },
  {
   "cell_type": "markdown",
   "id": "a5b077cd",
   "metadata": {},
   "source": [
    "## max-min"
   ]
  },
  {
   "cell_type": "code",
   "execution_count": null,
   "id": "1974db07",
   "metadata": {},
   "outputs": [],
   "source": []
  },
  {
   "cell_type": "code",
   "execution_count": 64,
   "id": "1070b7c4",
   "metadata": {},
   "outputs": [
    {
     "data": {
      "text/plain": [
       "[1, 1, 1, 2, 3, 3, 3, 4, 4]"
      ]
     },
     "execution_count": 64,
     "metadata": {},
     "output_type": "execute_result"
    }
   ],
   "source": [
    "list1"
   ]
  },
  {
   "cell_type": "code",
   "execution_count": 65,
   "id": "d79bff5d",
   "metadata": {},
   "outputs": [
    {
     "data": {
      "text/plain": [
       "4"
      ]
     },
     "execution_count": 65,
     "metadata": {},
     "output_type": "execute_result"
    }
   ],
   "source": [
    "max(list1)"
   ]
  },
  {
   "cell_type": "code",
   "execution_count": 66,
   "id": "aaeb6caa",
   "metadata": {},
   "outputs": [
    {
     "data": {
      "text/plain": [
       "1"
      ]
     },
     "execution_count": 66,
     "metadata": {},
     "output_type": "execute_result"
    }
   ],
   "source": [
    "min(list1)"
   ]
  },
  {
   "cell_type": "code",
   "execution_count": 67,
   "id": "a23e8bec",
   "metadata": {},
   "outputs": [
    {
     "data": {
      "text/plain": [
       "['Dairy', 'Banana', 'Cherry', 120, 130, 40.6, 8.9]"
      ]
     },
     "execution_count": 67,
     "metadata": {},
     "output_type": "execute_result"
    }
   ],
   "source": [
    "list2"
   ]
  },
  {
   "cell_type": "code",
   "execution_count": 69,
   "id": "9faba277",
   "metadata": {},
   "outputs": [
    {
     "ename": "TypeError",
     "evalue": "'>' not supported between instances of 'int' and 'str'",
     "output_type": "error",
     "traceback": [
      "\u001b[1;31m---------------------------------------------------------------------------\u001b[0m",
      "\u001b[1;31mTypeError\u001b[0m                                 Traceback (most recent call last)",
      "Input \u001b[1;32mIn [69]\u001b[0m, in \u001b[0;36m<cell line: 1>\u001b[1;34m()\u001b[0m\n\u001b[1;32m----> 1\u001b[0m \u001b[38;5;28;43mmax\u001b[39;49m\u001b[43m(\u001b[49m\u001b[43mlist2\u001b[49m\u001b[43m)\u001b[49m\n",
      "\u001b[1;31mTypeError\u001b[0m: '>' not supported between instances of 'int' and 'str'"
     ]
    }
   ],
   "source": [
    "max(list2)  # we can't compare int and float with strings"
   ]
  },
  {
   "cell_type": "code",
   "execution_count": 70,
   "id": "23cbfd3a",
   "metadata": {},
   "outputs": [
    {
     "data": {
      "text/plain": [
       "['apple', 'bananna', 'cherry']"
      ]
     },
     "execution_count": 70,
     "metadata": {},
     "output_type": "execute_result"
    }
   ],
   "source": [
    "list5=[\"apple\",\"bananna\",\"cherry\"]\n",
    "list5"
   ]
  },
  {
   "cell_type": "code",
   "execution_count": 71,
   "id": "b402d58c",
   "metadata": {},
   "outputs": [
    {
     "data": {
      "text/plain": [
       "'cherry'"
      ]
     },
     "execution_count": 71,
     "metadata": {},
     "output_type": "execute_result"
    }
   ],
   "source": [
    "max(list5)"
   ]
  },
  {
   "cell_type": "code",
   "execution_count": 72,
   "id": "f908207e",
   "metadata": {},
   "outputs": [
    {
     "data": {
      "text/plain": [
       "'apple'"
      ]
     },
     "execution_count": 72,
     "metadata": {},
     "output_type": "execute_result"
    }
   ],
   "source": [
    "min(list5)"
   ]
  },
  {
   "cell_type": "code",
   "execution_count": null,
   "id": "33fe1744",
   "metadata": {},
   "outputs": [],
   "source": [
    "# ASCII values\n",
    "# A .........> 65\n",
    "# B...........> 66\n",
    "# C ..........>67\n",
    "# a ..........>97\n",
    "# h ..........> 104"
   ]
  },
  {
   "cell_type": "markdown",
   "id": "4dee0bf4",
   "metadata": {},
   "source": [
    "# ord-chr"
   ]
  },
  {
   "cell_type": "code",
   "execution_count": 73,
   "id": "eb0f27d4",
   "metadata": {},
   "outputs": [
    {
     "data": {
      "text/plain": [
       "97"
      ]
     },
     "execution_count": 73,
     "metadata": {},
     "output_type": "execute_result"
    }
   ],
   "source": [
    "ord(\"a\") # ord will give ascii value of character/symbol"
   ]
  },
  {
   "cell_type": "code",
   "execution_count": 74,
   "id": "7047ed1e",
   "metadata": {},
   "outputs": [
    {
     "data": {
      "text/plain": [
       "65"
      ]
     },
     "execution_count": 74,
     "metadata": {},
     "output_type": "execute_result"
    }
   ],
   "source": [
    "ord(\"A\")"
   ]
  },
  {
   "cell_type": "code",
   "execution_count": 75,
   "id": "9f202dba",
   "metadata": {},
   "outputs": [
    {
     "data": {
      "text/plain": [
       "'h'"
      ]
     },
     "execution_count": 75,
     "metadata": {},
     "output_type": "execute_result"
    }
   ],
   "source": [
    "chr(104)  # chr will give characters/symbol when we provide ascii value"
   ]
  },
  {
   "cell_type": "code",
   "execution_count": 76,
   "id": "eda153dc",
   "metadata": {},
   "outputs": [
    {
     "data": {
      "text/plain": [
       "'E'"
      ]
     },
     "execution_count": 76,
     "metadata": {},
     "output_type": "execute_result"
    }
   ],
   "source": [
    "chr(69)"
   ]
  },
  {
   "cell_type": "code",
   "execution_count": 89,
   "id": "67d86a9e",
   "metadata": {},
   "outputs": [
    {
     "name": "stdout",
     "output_type": "stream",
     "text": [
      "\u0000 ......... 0\n",
      "\u0001 ......... 1\n",
      "\u0002 ......... 2\n",
      "\u0003 ......... 3\n",
      "\u0004 ......... 4\n",
      "\u0005 ......... 5\n",
      "\u0006 ......... 6\n",
      "\u0007 ......... 7\n",
      "\b ......... 8\n",
      "\t ......... 9\n",
      "\n",
      " ......... 10\n",
      "\u000b",
      " ......... 11\n",
      "\f",
      " ......... 12\n",
      "\r",
      " ......... 13\n",
      "\u000e ......... 14\n",
      "\u000f ......... 15\n",
      "\u0010 ......... 16\n",
      "\u0011 ......... 17\n",
      "\u0012 ......... 18\n",
      "\u0013 ......... 19\n",
      "\u0014 ......... 20\n",
      "\u0015 ......... 21\n",
      "\u0016 ......... 22\n",
      "\u0017 ......... 23\n",
      "\u0018 ......... 24\n",
      "\u0019 ......... 25\n",
      "\u001a ......... 26\n",
      "\u001b ......... 27\n",
      "\u001c",
      " ......... 28\n",
      "\u001d",
      " ......... 29\n",
      "\u001e",
      " ......... 30\n",
      "\u001f ......... 31\n",
      "  ......... 32\n",
      "! ......... 33\n",
      "\" ......... 34\n",
      "# ......... 35\n",
      "$ ......... 36\n",
      "% ......... 37\n",
      "& ......... 38\n",
      "' ......... 39\n",
      "( ......... 40\n",
      ") ......... 41\n",
      "* ......... 42\n",
      "+ ......... 43\n",
      ", ......... 44\n",
      "- ......... 45\n",
      ". ......... 46\n",
      "/ ......... 47\n",
      "0 ......... 48\n",
      "1 ......... 49\n",
      "2 ......... 50\n",
      "3 ......... 51\n",
      "4 ......... 52\n",
      "5 ......... 53\n",
      "6 ......... 54\n",
      "7 ......... 55\n",
      "8 ......... 56\n",
      "9 ......... 57\n",
      ": ......... 58\n",
      "; ......... 59\n",
      "< ......... 60\n",
      "= ......... 61\n",
      "> ......... 62\n",
      "? ......... 63\n",
      "@ ......... 64\n",
      "A ......... 65\n",
      "B ......... 66\n",
      "C ......... 67\n",
      "D ......... 68\n",
      "E ......... 69\n",
      "F ......... 70\n",
      "G ......... 71\n",
      "H ......... 72\n",
      "I ......... 73\n",
      "J ......... 74\n",
      "K ......... 75\n",
      "L ......... 76\n",
      "M ......... 77\n",
      "N ......... 78\n",
      "O ......... 79\n",
      "P ......... 80\n",
      "Q ......... 81\n",
      "R ......... 82\n",
      "S ......... 83\n",
      "T ......... 84\n",
      "U ......... 85\n",
      "V ......... 86\n",
      "W ......... 87\n",
      "X ......... 88\n",
      "Y ......... 89\n",
      "Z ......... 90\n",
      "[ ......... 91\n",
      "\\ ......... 92\n",
      "] ......... 93\n",
      "^ ......... 94\n",
      "_ ......... 95\n",
      "` ......... 96\n",
      "a ......... 97\n",
      "b ......... 98\n",
      "c ......... 99\n",
      "d ......... 100\n",
      "e ......... 101\n",
      "f ......... 102\n",
      "g ......... 103\n",
      "h ......... 104\n",
      "i ......... 105\n",
      "j ......... 106\n",
      "k ......... 107\n",
      "l ......... 108\n",
      "m ......... 109\n",
      "n ......... 110\n",
      "o ......... 111\n",
      "p ......... 112\n",
      "q ......... 113\n",
      "r ......... 114\n",
      "s ......... 115\n",
      "t ......... 116\n",
      "u ......... 117\n",
      "v ......... 118\n",
      "w ......... 119\n",
      "x ......... 120\n",
      "y ......... 121\n",
      "z ......... 122\n",
      "{ ......... 123\n",
      "| ......... 124\n",
      "} ......... 125\n",
      "~ ......... 126\n",
      " ......... 127\n",
      " ......... 128\n",
      " ......... 129\n",
      " ......... 130\n",
      " ......... 131\n",
      " ......... 132\n",
      "",
      " ......... 133\n",
      " ......... 134\n",
      " ......... 135\n",
      " ......... 136\n",
      " ......... 137\n",
      " ......... 138\n",
      " ......... 139\n",
      " ......... 140\n",
      " ......... 141\n",
      " ......... 142\n",
      " ......... 143\n",
      " ......... 144\n",
      " ......... 145\n",
      " ......... 146\n",
      " ......... 147\n",
      " ......... 148\n",
      " ......... 149\n",
      " ......... 150\n",
      " ......... 151\n",
      " ......... 152\n",
      " ......... 153\n",
      " ......... 154\n",
      " ......... 155\n",
      " ......... 156\n",
      " ......... 157\n",
      " ......... 158\n",
      " ......... 159\n",
      "  ......... 160\n",
      "¡ ......... 161\n",
      "¢ ......... 162\n",
      "£ ......... 163\n",
      "¤ ......... 164\n",
      "¥ ......... 165\n",
      "¦ ......... 166\n",
      "§ ......... 167\n",
      "¨ ......... 168\n",
      "© ......... 169\n",
      "ª ......... 170\n",
      "« ......... 171\n",
      "¬ ......... 172\n",
      "­ ......... 173\n",
      "® ......... 174\n",
      "¯ ......... 175\n",
      "° ......... 176\n",
      "± ......... 177\n",
      "² ......... 178\n",
      "³ ......... 179\n",
      "´ ......... 180\n",
      "µ ......... 181\n",
      "¶ ......... 182\n",
      "· ......... 183\n",
      "¸ ......... 184\n",
      "¹ ......... 185\n",
      "º ......... 186\n",
      "» ......... 187\n",
      "¼ ......... 188\n",
      "½ ......... 189\n",
      "¾ ......... 190\n",
      "¿ ......... 191\n",
      "À ......... 192\n",
      "Á ......... 193\n",
      "Â ......... 194\n",
      "Ã ......... 195\n",
      "Ä ......... 196\n",
      "Å ......... 197\n",
      "Æ ......... 198\n",
      "Ç ......... 199\n"
     ]
    }
   ],
   "source": [
    "for i in range(0,200):\n",
    "    print(chr(i),\".........\",i)"
   ]
  },
  {
   "cell_type": "code",
   "execution_count": null,
   "id": "a8997ebd",
   "metadata": {},
   "outputs": [],
   "source": []
  },
  {
   "cell_type": "markdown",
   "id": "26601667",
   "metadata": {},
   "source": [
    "## mutable-immutable"
   ]
  },
  {
   "cell_type": "code",
   "execution_count": null,
   "id": "fc303e9d",
   "metadata": {},
   "outputs": [],
   "source": []
  },
  {
   "cell_type": "code",
   "execution_count": null,
   "id": "de41fc93",
   "metadata": {},
   "outputs": [],
   "source": [
    "string1=\"python\" # we can't change the value by using index\n",
    "string1[2]=\"T\"  # strings are immutable"
   ]
  },
  {
   "cell_type": "code",
   "execution_count": 90,
   "id": "012336fc",
   "metadata": {},
   "outputs": [
    {
     "data": {
      "text/plain": [
       "['Dairy', 'Banana', 'Cherry', 120, 130, 40.6, 8.9]"
      ]
     },
     "execution_count": 90,
     "metadata": {},
     "output_type": "execute_result"
    }
   ],
   "source": [
    "list2"
   ]
  },
  {
   "cell_type": "code",
   "execution_count": 91,
   "id": "e04029ab",
   "metadata": {},
   "outputs": [
    {
     "data": {
      "text/plain": [
       "['happy', 'Banana', 'Cherry', 120, 130, 40.6, 8.9]"
      ]
     },
     "execution_count": 91,
     "metadata": {},
     "output_type": "execute_result"
    }
   ],
   "source": [
    "list2[0]=\"happy\"\n",
    "list2"
   ]
  },
  {
   "cell_type": "code",
   "execution_count": 92,
   "id": "43588ecd",
   "metadata": {},
   "outputs": [
    {
     "data": {
      "text/plain": [
       "['happy', 'Banana', 'Cherry', 'jojo', 130, 40.6, 8.9]"
      ]
     },
     "execution_count": 92,
     "metadata": {},
     "output_type": "execute_result"
    }
   ],
   "source": [
    "list2[3]=\"jojo\"\n",
    "list2"
   ]
  },
  {
   "cell_type": "code",
   "execution_count": 93,
   "id": "db4392cf",
   "metadata": {},
   "outputs": [],
   "source": [
    "# lists are mutable\n",
    "# we can change the list values by using index"
   ]
  },
  {
   "cell_type": "code",
   "execution_count": 94,
   "id": "ce15a278",
   "metadata": {},
   "outputs": [
    {
     "name": "stdout",
     "output_type": "stream",
     "text": [
      "happy\n",
      "Banana\n",
      "Cherry\n",
      "jojo\n"
     ]
    }
   ],
   "source": [
    "print(list2[0])\n",
    "print(list2[1])\n",
    "print(list2[2])\n",
    "print(list2[3])"
   ]
  },
  {
   "cell_type": "code",
   "execution_count": 95,
   "id": "5b646058",
   "metadata": {},
   "outputs": [],
   "source": [
    "num=len(list2)\n",
    "# 0 to 7 by using while loop"
   ]
  },
  {
   "cell_type": "code",
   "execution_count": 96,
   "id": "fd1ad5d2",
   "metadata": {},
   "outputs": [
    {
     "data": {
      "text/plain": [
       "7"
      ]
     },
     "execution_count": 96,
     "metadata": {},
     "output_type": "execute_result"
    }
   ],
   "source": [
    "num"
   ]
  },
  {
   "cell_type": "code",
   "execution_count": 97,
   "id": "6dd82c5d",
   "metadata": {},
   "outputs": [
    {
     "name": "stdout",
     "output_type": "stream",
     "text": [
      "0 is index of happy\n",
      "1 is index of Banana\n",
      "2 is index of Cherry\n",
      "3 is index of jojo\n",
      "4 is index of 130\n",
      "5 is index of 40.6\n",
      "6 is index of 8.9\n"
     ]
    }
   ],
   "source": [
    "for i in range(num):\n",
    "    print(\"{} is index of {}\".format(i,list2[i]))"
   ]
  },
  {
   "cell_type": "code",
   "execution_count": 98,
   "id": "b149870d",
   "metadata": {},
   "outputs": [
    {
     "name": "stdout",
     "output_type": "stream",
     "text": [
      "0 index is happy\n",
      "1 index is Banana\n",
      "2 index is Cherry\n",
      "3 index is jojo\n",
      "4 index is 130\n",
      "5 index is 40.6\n",
      "6 index is 8.9\n"
     ]
    }
   ],
   "source": [
    "i=0\n",
    "while i<num:\n",
    "    print(\"{} index is {}\".format(i,list2[i]))\n",
    "    i=i+1"
   ]
  },
  {
   "cell_type": "code",
   "execution_count": 99,
   "id": "ece3f9b0",
   "metadata": {},
   "outputs": [
    {
     "name": "stdout",
     "output_type": "stream",
     "text": [
      "0\n",
      "1\n",
      "2\n",
      "3\n",
      "4\n",
      "5\n",
      "6\n"
     ]
    }
   ],
   "source": [
    "i=0\n",
    "while i<num:   # 0<7\n",
    "    print(i)\n",
    "    i+=1\n",
    "    \n",
    "# iter1----> 0<7 ----> true ---> 0  ---> nv=0+1=1\n",
    "# iter2----> 1<7 -----> true---->1 ----> nv=1+1=2"
   ]
  },
  {
   "cell_type": "code",
   "execution_count": null,
   "id": "63af750c",
   "metadata": {},
   "outputs": [],
   "source": []
  },
  {
   "cell_type": "markdown",
   "id": "19798dc5",
   "metadata": {},
   "source": [
    "## concatination"
   ]
  },
  {
   "cell_type": "code",
   "execution_count": 100,
   "id": "794424d7",
   "metadata": {},
   "outputs": [
    {
     "data": {
      "text/plain": [
       "'haihow'"
      ]
     },
     "execution_count": 100,
     "metadata": {},
     "output_type": "execute_result"
    }
   ],
   "source": [
    "str1='hai'\n",
    "str2='how'\n",
    "str1+str2"
   ]
  },
  {
   "cell_type": "code",
   "execution_count": 101,
   "id": "b28c056b",
   "metadata": {},
   "outputs": [
    {
     "data": {
      "text/plain": [
       "[1, 1, 1, 2, 3, 3, 3, 4, 4]"
      ]
     },
     "execution_count": 101,
     "metadata": {},
     "output_type": "execute_result"
    }
   ],
   "source": [
    "list1"
   ]
  },
  {
   "cell_type": "code",
   "execution_count": 102,
   "id": "804c7fc2",
   "metadata": {},
   "outputs": [
    {
     "data": {
      "text/plain": [
       "['happy', 'Banana', 'Cherry', 'jojo', 130, 40.6, 8.9]"
      ]
     },
     "execution_count": 102,
     "metadata": {},
     "output_type": "execute_result"
    }
   ],
   "source": [
    "list2"
   ]
  },
  {
   "cell_type": "code",
   "execution_count": 103,
   "id": "9cd2bf7b",
   "metadata": {},
   "outputs": [],
   "source": [
    "list4=list1+list2"
   ]
  },
  {
   "cell_type": "code",
   "execution_count": 104,
   "id": "d69f3048",
   "metadata": {},
   "outputs": [
    {
     "data": {
      "text/plain": [
       "[1,\n",
       " 1,\n",
       " 1,\n",
       " 2,\n",
       " 3,\n",
       " 3,\n",
       " 3,\n",
       " 4,\n",
       " 4,\n",
       " 'happy',\n",
       " 'Banana',\n",
       " 'Cherry',\n",
       " 'jojo',\n",
       " 130,\n",
       " 40.6,\n",
       " 8.9]"
      ]
     },
     "execution_count": 104,
     "metadata": {},
     "output_type": "execute_result"
    }
   ],
   "source": [
    "list4"
   ]
  },
  {
   "cell_type": "code",
   "execution_count": null,
   "id": "37ac242b",
   "metadata": {},
   "outputs": [],
   "source": []
  },
  {
   "cell_type": "markdown",
   "id": "ed8d058d",
   "metadata": {},
   "source": [
    "## append"
   ]
  },
  {
   "cell_type": "code",
   "execution_count": null,
   "id": "e85a77c7",
   "metadata": {},
   "outputs": [],
   "source": []
  },
  {
   "cell_type": "code",
   "execution_count": 105,
   "id": "5f8ec48f",
   "metadata": {},
   "outputs": [
    {
     "data": {
      "text/plain": [
       "['happy', 'Banana', 'Cherry', 'jojo', 130, 40.6, 8.9]"
      ]
     },
     "execution_count": 105,
     "metadata": {},
     "output_type": "execute_result"
    }
   ],
   "source": [
    "list2"
   ]
  },
  {
   "cell_type": "code",
   "execution_count": null,
   "id": "65140235",
   "metadata": {},
   "outputs": [],
   "source": [
    "# you want to add a new element \n",
    "# chennai\n",
    "# it will append at last index of list"
   ]
  },
  {
   "cell_type": "code",
   "execution_count": 107,
   "id": "c9fd361f",
   "metadata": {},
   "outputs": [],
   "source": [
    "list2.append(2)"
   ]
  },
  {
   "cell_type": "code",
   "execution_count": 108,
   "id": "56f183e4",
   "metadata": {},
   "outputs": [
    {
     "data": {
      "text/plain": [
       "['happy', 'Banana', 'Cherry', 'jojo', 130, 40.6, 8.9, 2]"
      ]
     },
     "execution_count": 108,
     "metadata": {},
     "output_type": "execute_result"
    }
   ],
   "source": [
    "list2"
   ]
  },
  {
   "cell_type": "code",
   "execution_count": 109,
   "id": "b57ef47b",
   "metadata": {},
   "outputs": [],
   "source": [
    "list2.append(\"    \")  # space in a list as a string"
   ]
  },
  {
   "cell_type": "code",
   "execution_count": 110,
   "id": "e7071013",
   "metadata": {},
   "outputs": [
    {
     "data": {
      "text/plain": [
       "['happy', 'Banana', 'Cherry', 'jojo', 130, 40.6, 8.9, 2, '    ']"
      ]
     },
     "execution_count": 110,
     "metadata": {},
     "output_type": "execute_result"
    }
   ],
   "source": [
    "list2"
   ]
  },
  {
   "cell_type": "code",
   "execution_count": 113,
   "id": "66185fa3",
   "metadata": {},
   "outputs": [
    {
     "data": {
      "text/plain": [
       "['happy',\n",
       " 'Banana',\n",
       " 'Cherry',\n",
       " 'jojo',\n",
       " 130,\n",
       " 40.6,\n",
       " 8.9,\n",
       " 2,\n",
       " '    ',\n",
       " '<><><><><><><><><><><><>']"
      ]
     },
     "execution_count": 113,
     "metadata": {},
     "output_type": "execute_result"
    }
   ],
   "source": [
    "list2.append(\"<><><><><><><><><><><><>\")\n",
    "list2"
   ]
  },
  {
   "cell_type": "code",
   "execution_count": 119,
   "id": "06e78dc1",
   "metadata": {},
   "outputs": [
    {
     "data": {
      "text/plain": [
       "['happy',\n",
       " 'Banana',\n",
       " 'Cherry',\n",
       " 'jojo',\n",
       " 130,\n",
       " 40.6,\n",
       " 8.9,\n",
       " 2,\n",
       " '    ',\n",
       " '<><><><><><><><><><><><>',\n",
       " 'dell',\n",
       " 'dell']"
      ]
     },
     "execution_count": 119,
     "metadata": {},
     "output_type": "execute_result"
    }
   ],
   "source": [
    "list2.append(\"dell\",) # why dell printed two times\n",
    "list2"
   ]
  },
  {
   "cell_type": "code",
   "execution_count": 19,
   "id": "19370302",
   "metadata": {},
   "outputs": [
    {
     "data": {
      "text/plain": [
       "[1, 2, 3, 'happu']"
      ]
     },
     "execution_count": 19,
     "metadata": {},
     "output_type": "execute_result"
    }
   ],
   "source": [
    "a=[1,2,3,]\n",
    "a.append(\"happu\")\n",
    "a"
   ]
  },
  {
   "cell_type": "code",
   "execution_count": 21,
   "id": "593d94a8",
   "metadata": {},
   "outputs": [],
   "source": [
    "a.append(\"detol\") # why detol printed many times"
   ]
  },
  {
   "cell_type": "code",
   "execution_count": 129,
   "id": "0cd7aa67",
   "metadata": {},
   "outputs": [
    {
     "data": {
      "text/plain": [
       "[1, 2, 3, 'happu', 'detol', 'detol', 'detol', 'detol', 'detol']"
      ]
     },
     "execution_count": 129,
     "metadata": {},
     "output_type": "execute_result"
    }
   ],
   "source": [
    "a"
   ]
  },
  {
   "cell_type": "code",
   "execution_count": null,
   "id": "36dcb32c",
   "metadata": {},
   "outputs": [],
   "source": [
    "# after run again again \n",
    "# value printed again "
   ]
  },
  {
   "cell_type": "code",
   "execution_count": 130,
   "id": "34373b37",
   "metadata": {},
   "outputs": [
    {
     "data": {
      "text/plain": [
       "[1, '2']"
      ]
     },
     "execution_count": 130,
     "metadata": {},
     "output_type": "execute_result"
    }
   ],
   "source": [
    "b=[1]\n",
    "b.append(\"2\") # but here it printed one time\n",
    "b"
   ]
  },
  {
   "cell_type": "code",
   "execution_count": 132,
   "id": "d64c448c",
   "metadata": {},
   "outputs": [
    {
     "data": {
      "text/plain": [
       "[1, '2', '3', '3']"
      ]
     },
     "execution_count": 132,
     "metadata": {},
     "output_type": "execute_result"
    }
   ],
   "source": [
    "b.append(\"3\")\n",
    "b"
   ]
  },
  {
   "cell_type": "code",
   "execution_count": 134,
   "id": "cd14971e",
   "metadata": {},
   "outputs": [
    {
     "data": {
      "text/plain": [
       "[1, '2', '3', '3', '4', '4']"
      ]
     },
     "execution_count": 134,
     "metadata": {},
     "output_type": "execute_result"
    }
   ],
   "source": [
    "b.append(\"4\")\n",
    "b"
   ]
  },
  {
   "cell_type": "code",
   "execution_count": 135,
   "id": "f5972084",
   "metadata": {},
   "outputs": [
    {
     "name": "stdout",
     "output_type": "stream",
     "text": [
      "None\n",
      "None\n",
      "None\n",
      "None\n",
      "None\n",
      "None\n",
      "None\n",
      "None\n",
      "None\n"
     ]
    }
   ],
   "source": [
    "a=[] # i want to save the values in a list\n",
    "for i in range(1,10):\n",
    "    print(a.append(i))"
   ]
  },
  {
   "cell_type": "code",
   "execution_count": 140,
   "id": "ff5e8da2",
   "metadata": {},
   "outputs": [],
   "source": [
    "b=[]  # empty list\n",
    "for i in range(1,10):\n",
    "    b.append(i)"
   ]
  },
  {
   "cell_type": "code",
   "execution_count": 141,
   "id": "99c5ae29",
   "metadata": {},
   "outputs": [
    {
     "data": {
      "text/plain": [
       "[1, 2, 3, 4, 5, 6, 7, 8, 9]"
      ]
     },
     "execution_count": 141,
     "metadata": {},
     "output_type": "execute_result"
    }
   ],
   "source": [
    "b"
   ]
  },
  {
   "cell_type": "code",
   "execution_count": 142,
   "id": "ecc43992",
   "metadata": {},
   "outputs": [
    {
     "data": {
      "text/plain": [
       "['happy',\n",
       " 'Banana',\n",
       " 'Cherry',\n",
       " 'jojo',\n",
       " 130,\n",
       " 40.6,\n",
       " 8.9,\n",
       " 2,\n",
       " '    ',\n",
       " '<><><><><><><><><><><><>',\n",
       " 'dell',\n",
       " 'dell']"
      ]
     },
     "execution_count": 142,
     "metadata": {},
     "output_type": "execute_result"
    }
   ],
   "source": [
    "list2"
   ]
  },
  {
   "cell_type": "code",
   "execution_count": 143,
   "id": "1ab7f30b",
   "metadata": {},
   "outputs": [],
   "source": [
    "list2.append(\"movie\")\n",
    "list2.append(\"sports\")"
   ]
  },
  {
   "cell_type": "code",
   "execution_count": 144,
   "id": "3383d36c",
   "metadata": {},
   "outputs": [
    {
     "data": {
      "text/plain": [
       "['happy',\n",
       " 'Banana',\n",
       " 'Cherry',\n",
       " 'jojo',\n",
       " 130,\n",
       " 40.6,\n",
       " 8.9,\n",
       " 2,\n",
       " '    ',\n",
       " '<><><><><><><><><><><><>',\n",
       " 'dell',\n",
       " 'dell',\n",
       " 'movie',\n",
       " 'sports']"
      ]
     },
     "execution_count": 144,
     "metadata": {},
     "output_type": "execute_result"
    }
   ],
   "source": [
    "list2"
   ]
  },
  {
   "cell_type": "code",
   "execution_count": 145,
   "id": "5767b551",
   "metadata": {},
   "outputs": [],
   "source": [
    "# get the square of each number from 1 to 5\n",
    "# start the output in a list name called square"
   ]
  },
  {
   "cell_type": "code",
   "execution_count": 151,
   "id": "07cfa8ad",
   "metadata": {},
   "outputs": [],
   "source": [
    "square=[]\n",
    "for i in range(1,6):\n",
    "    square.append(i*i)"
   ]
  },
  {
   "cell_type": "code",
   "execution_count": 152,
   "id": "caa2122e",
   "metadata": {},
   "outputs": [
    {
     "data": {
      "text/plain": [
       "[1, 4, 9, 16, 25]"
      ]
     },
     "execution_count": 152,
     "metadata": {},
     "output_type": "execute_result"
    }
   ],
   "source": [
    "square"
   ]
  },
  {
   "cell_type": "markdown",
   "id": "25f1b51a",
   "metadata": {},
   "source": [
    "## insert"
   ]
  },
  {
   "cell_type": "code",
   "execution_count": 154,
   "id": "34952309",
   "metadata": {},
   "outputs": [
    {
     "data": {
      "text/plain": [
       "[1, 2, 3, 5, 3, 3, 4, 4, 4]"
      ]
     },
     "execution_count": 154,
     "metadata": {},
     "output_type": "execute_result"
    }
   ],
   "source": [
    "# 0,1,2,3 # add 5 here \n",
    "a=[1,2,3,3,3,4,4,4,]\n",
    "a.insert(3,5) # means add 5 on a third index\n",
    "a"
   ]
  },
  {
   "cell_type": "code",
   "execution_count": 168,
   "id": "a5a274db",
   "metadata": {},
   "outputs": [
    {
     "data": {
      "text/plain": [
       "1"
      ]
     },
     "execution_count": 168,
     "metadata": {},
     "output_type": "execute_result"
    }
   ],
   "source": [
    "h=[\"ola\", \"tale\"]\n",
    "h.index(\"tale\")"
   ]
  },
  {
   "cell_type": "code",
   "execution_count": 170,
   "id": "e0e0149c",
   "metadata": {},
   "outputs": [
    {
     "data": {
      "text/plain": [
       "['ola', 'vu', 'vu', 'tale']"
      ]
     },
     "execution_count": 170,
     "metadata": {},
     "output_type": "execute_result"
    }
   ],
   "source": [
    "h.insert(1,\"vu\")  # why vu printed two times # bccoz first defining # then run # at every run vu added at 1 index\n",
    "h"
   ]
  },
  {
   "cell_type": "markdown",
   "id": "5f902ca9",
   "metadata": {},
   "source": [
    "## remove"
   ]
  },
  {
   "cell_type": "code",
   "execution_count": 171,
   "id": "95c61ef8",
   "metadata": {},
   "outputs": [
    {
     "data": {
      "text/plain": [
       "[1, 2, 3, 5, 3, 3, 4, 4, 4]"
      ]
     },
     "execution_count": 171,
     "metadata": {},
     "output_type": "execute_result"
    }
   ],
   "source": [
    "a"
   ]
  },
  {
   "cell_type": "code",
   "execution_count": 172,
   "id": "5db1a54b",
   "metadata": {},
   "outputs": [],
   "source": [
    "a.remove(2)"
   ]
  },
  {
   "cell_type": "code",
   "execution_count": 173,
   "id": "1c3da9ef",
   "metadata": {},
   "outputs": [
    {
     "data": {
      "text/plain": [
       "[1, 3, 5, 3, 3, 4, 4, 4]"
      ]
     },
     "execution_count": 173,
     "metadata": {},
     "output_type": "execute_result"
    }
   ],
   "source": [
    "a"
   ]
  },
  {
   "cell_type": "code",
   "execution_count": 174,
   "id": "672348ec",
   "metadata": {},
   "outputs": [
    {
     "data": {
      "text/plain": [
       "['ola', 'vu', 'vu', 'tale']"
      ]
     },
     "execution_count": 174,
     "metadata": {},
     "output_type": "execute_result"
    }
   ],
   "source": [
    "h"
   ]
  },
  {
   "cell_type": "code",
   "execution_count": 175,
   "id": "fad99b7a",
   "metadata": {},
   "outputs": [
    {
     "data": {
      "text/plain": [
       "['ola', 'vu', 'tale']"
      ]
     },
     "execution_count": 175,
     "metadata": {},
     "output_type": "execute_result"
    }
   ],
   "source": [
    "h.remove(\"vu\")\n",
    "h"
   ]
  },
  {
   "cell_type": "code",
   "execution_count": 176,
   "id": "28c85691",
   "metadata": {},
   "outputs": [
    {
     "data": {
      "text/plain": [
       "['ola', 'vu', 'tale']"
      ]
     },
     "execution_count": 176,
     "metadata": {},
     "output_type": "execute_result"
    }
   ],
   "source": [
    "h"
   ]
  },
  {
   "cell_type": "code",
   "execution_count": null,
   "id": "80a6fe26",
   "metadata": {},
   "outputs": [],
   "source": [
    "# run again h.remove find what it will show ??"
   ]
  },
  {
   "cell_type": "code",
   "execution_count": 177,
   "id": "dc344b64",
   "metadata": {},
   "outputs": [
    {
     "data": {
      "text/plain": [
       "[1, 3, 5, 3, 3, 4, 4, 4]"
      ]
     },
     "execution_count": 177,
     "metadata": {},
     "output_type": "execute_result"
    }
   ],
   "source": [
    "a"
   ]
  },
  {
   "cell_type": "code",
   "execution_count": 180,
   "id": "b48eff7f",
   "metadata": {},
   "outputs": [],
   "source": [
    "a.remove(3) # i run this two times and two 3's are removed"
   ]
  },
  {
   "cell_type": "code",
   "execution_count": 181,
   "id": "1c1f80c0",
   "metadata": {},
   "outputs": [
    {
     "data": {
      "text/plain": [
       "[1, 5, 3, 4, 4, 4]"
      ]
     },
     "execution_count": 181,
     "metadata": {},
     "output_type": "execute_result"
    }
   ],
   "source": [
    "a"
   ]
  },
  {
   "cell_type": "markdown",
   "id": "48969e36",
   "metadata": {},
   "source": [
    "## extend"
   ]
  },
  {
   "cell_type": "code",
   "execution_count": 182,
   "id": "8e334a55",
   "metadata": {},
   "outputs": [
    {
     "data": {
      "text/plain": [
       "[1, 5, 3, 4, 4, 4]"
      ]
     },
     "execution_count": 182,
     "metadata": {},
     "output_type": "execute_result"
    }
   ],
   "source": [
    "a"
   ]
  },
  {
   "cell_type": "code",
   "execution_count": 183,
   "id": "918ed1cc",
   "metadata": {},
   "outputs": [
    {
     "ename": "TypeError",
     "evalue": "list.extend() takes exactly one argument (3 given)",
     "output_type": "error",
     "traceback": [
      "\u001b[1;31m---------------------------------------------------------------------------\u001b[0m",
      "\u001b[1;31mTypeError\u001b[0m                                 Traceback (most recent call last)",
      "Input \u001b[1;32mIn [183]\u001b[0m, in \u001b[0;36m<cell line: 1>\u001b[1;34m()\u001b[0m\n\u001b[1;32m----> 1\u001b[0m \u001b[43ma\u001b[49m\u001b[38;5;241;43m.\u001b[39;49m\u001b[43mextend\u001b[49m\u001b[43m(\u001b[49m\u001b[38;5;241;43m6\u001b[39;49m\u001b[43m,\u001b[49m\u001b[38;5;241;43m8\u001b[39;49m\u001b[43m,\u001b[49m\u001b[38;5;241;43m9\u001b[39;49m\u001b[43m)\u001b[49m\n",
      "\u001b[1;31mTypeError\u001b[0m: list.extend() takes exactly one argument (3 given)"
     ]
    }
   ],
   "source": [
    "a.extend(6,8,9) # in extend give value in [ # inside this]"
   ]
  },
  {
   "cell_type": "code",
   "execution_count": 184,
   "id": "c4209f5c",
   "metadata": {},
   "outputs": [],
   "source": [
    "a.extend([6,7,8])"
   ]
  },
  {
   "cell_type": "code",
   "execution_count": 185,
   "id": "0234e522",
   "metadata": {},
   "outputs": [
    {
     "data": {
      "text/plain": [
       "[1, 5, 3, 4, 4, 4, 6, 7, 8]"
      ]
     },
     "execution_count": 185,
     "metadata": {},
     "output_type": "execute_result"
    }
   ],
   "source": [
    "a"
   ]
  },
  {
   "cell_type": "code",
   "execution_count": null,
   "id": "87f14a17",
   "metadata": {},
   "outputs": [],
   "source": [
    "# append will add only value at last\n",
    "# extend will add multiple value at last"
   ]
  },
  {
   "cell_type": "code",
   "execution_count": 186,
   "id": "40ed75fc",
   "metadata": {},
   "outputs": [
    {
     "data": {
      "text/plain": [
       "[1, 5, 3, 4, 4, 4, 6, 7, 8, [3, 4]]"
      ]
     },
     "execution_count": 186,
     "metadata": {},
     "output_type": "execute_result"
    }
   ],
   "source": [
    "a.append([3,4])\n",
    "a # append treated one value inside append( )\n",
    "# but extend treated them seprated value"
   ]
  },
  {
   "cell_type": "markdown",
   "id": "24d5874e",
   "metadata": {},
   "source": [
    "## reverse"
   ]
  },
  {
   "cell_type": "code",
   "execution_count": 187,
   "id": "72a779a5",
   "metadata": {},
   "outputs": [
    {
     "data": {
      "text/plain": [
       "[1, 5, 3, 4, 4, 4, 6, 7, 8, [3, 4]]"
      ]
     },
     "execution_count": 187,
     "metadata": {},
     "output_type": "execute_result"
    }
   ],
   "source": [
    "a"
   ]
  },
  {
   "cell_type": "code",
   "execution_count": 190,
   "id": "fb19599e",
   "metadata": {},
   "outputs": [
    {
     "data": {
      "text/plain": [
       "[[3, 4], 8, 7, 6, 4, 4, 4, 3, 5, 1]"
      ]
     },
     "execution_count": 190,
     "metadata": {},
     "output_type": "execute_result"
    }
   ],
   "source": [
    "a.reverse()\n",
    "a # again run it will back to original"
   ]
  },
  {
   "cell_type": "markdown",
   "id": "d0926639",
   "metadata": {},
   "source": [
    "## sort"
   ]
  },
  {
   "cell_type": "code",
   "execution_count": 191,
   "id": "2d2df857",
   "metadata": {},
   "outputs": [
    {
     "data": {
      "text/plain": [
       "[[3, 4], 8, 7, 6, 4, 4, 4, 3, 5, 1]"
      ]
     },
     "execution_count": 191,
     "metadata": {},
     "output_type": "execute_result"
    }
   ],
   "source": [
    "a"
   ]
  },
  {
   "cell_type": "code",
   "execution_count": 192,
   "id": "e0f61bed",
   "metadata": {},
   "outputs": [
    {
     "ename": "TypeError",
     "evalue": "'<' not supported between instances of 'int' and 'list'",
     "output_type": "error",
     "traceback": [
      "\u001b[1;31m---------------------------------------------------------------------------\u001b[0m",
      "\u001b[1;31mTypeError\u001b[0m                                 Traceback (most recent call last)",
      "Input \u001b[1;32mIn [192]\u001b[0m, in \u001b[0;36m<cell line: 1>\u001b[1;34m()\u001b[0m\n\u001b[1;32m----> 1\u001b[0m \u001b[43ma\u001b[49m\u001b[38;5;241;43m.\u001b[39;49m\u001b[43msort\u001b[49m\u001b[43m(\u001b[49m\u001b[43m)\u001b[49m\n\u001b[0;32m      2\u001b[0m a\n",
      "\u001b[1;31mTypeError\u001b[0m: '<' not supported between instances of 'int' and 'list'"
     ]
    }
   ],
   "source": [
    "a.sort()\n",
    "a # this is not run bcoz inside it a list is there and list and int are not supported <"
   ]
  },
  {
   "cell_type": "code",
   "execution_count": 194,
   "id": "6c78e522",
   "metadata": {},
   "outputs": [
    {
     "data": {
      "text/plain": [
       "[1, 1, 1, 2, 3, 3, 3, 4, 4]"
      ]
     },
     "execution_count": 194,
     "metadata": {},
     "output_type": "execute_result"
    }
   ],
   "source": [
    "list1"
   ]
  },
  {
   "cell_type": "code",
   "execution_count": 195,
   "id": "9e4db97c",
   "metadata": {},
   "outputs": [],
   "source": [
    "list1.sort()"
   ]
  },
  {
   "cell_type": "code",
   "execution_count": 196,
   "id": "a5e1bbdc",
   "metadata": {},
   "outputs": [
    {
     "data": {
      "text/plain": [
       "[1, 1, 1, 2, 3, 3, 3, 4, 4]"
      ]
     },
     "execution_count": 196,
     "metadata": {},
     "output_type": "execute_result"
    }
   ],
   "source": [
    "list1"
   ]
  },
  {
   "cell_type": "code",
   "execution_count": 197,
   "id": "f20ed705",
   "metadata": {},
   "outputs": [
    {
     "data": {
      "text/plain": [
       "['Ball', 'Apple', 'Cat', 'Doll']"
      ]
     },
     "execution_count": 197,
     "metadata": {},
     "output_type": "execute_result"
    }
   ],
   "source": [
    "list3"
   ]
  },
  {
   "cell_type": "code",
   "execution_count": 198,
   "id": "3554f273",
   "metadata": {},
   "outputs": [
    {
     "data": {
      "text/plain": [
       "['Apple', 'Ball', 'Cat', 'Doll']"
      ]
     },
     "execution_count": 198,
     "metadata": {},
     "output_type": "execute_result"
    }
   ],
   "source": [
    "list3.sort()\n",
    "list3"
   ]
  },
  {
   "cell_type": "code",
   "execution_count": 200,
   "id": "3e76f3a9",
   "metadata": {},
   "outputs": [
    {
     "data": {
      "text/plain": [
       "[1,\n",
       " 1,\n",
       " 1,\n",
       " 2,\n",
       " 3,\n",
       " 3,\n",
       " 3,\n",
       " 4,\n",
       " 4,\n",
       " 'happy',\n",
       " 'Banana',\n",
       " 'Cherry',\n",
       " 'jojo',\n",
       " 130,\n",
       " 40.6,\n",
       " 8.9]"
      ]
     },
     "execution_count": 200,
     "metadata": {},
     "output_type": "execute_result"
    }
   ],
   "source": [
    "list4"
   ]
  },
  {
   "cell_type": "code",
   "execution_count": 201,
   "id": "cefe22e2",
   "metadata": {},
   "outputs": [
    {
     "ename": "TypeError",
     "evalue": "'<' not supported between instances of 'str' and 'int'",
     "output_type": "error",
     "traceback": [
      "\u001b[1;31m---------------------------------------------------------------------------\u001b[0m",
      "\u001b[1;31mTypeError\u001b[0m                                 Traceback (most recent call last)",
      "Input \u001b[1;32mIn [201]\u001b[0m, in \u001b[0;36m<cell line: 1>\u001b[1;34m()\u001b[0m\n\u001b[1;32m----> 1\u001b[0m \u001b[43mlist4\u001b[49m\u001b[38;5;241;43m.\u001b[39;49m\u001b[43msort\u001b[49m\u001b[43m(\u001b[49m\u001b[43m)\u001b[49m\n\u001b[0;32m      2\u001b[0m list4\n",
      "\u001b[1;31mTypeError\u001b[0m: '<' not supported between instances of 'str' and 'int'"
     ]
    }
   ],
   "source": [
    "list4.sort()\n",
    "list4"
   ]
  },
  {
   "cell_type": "code",
   "execution_count": 202,
   "id": "362a7d22",
   "metadata": {},
   "outputs": [
    {
     "data": {
      "text/plain": [
       "[[3, 4], 8, 7, 6, 4, 4, 4, 3, 5, 1]"
      ]
     },
     "execution_count": 202,
     "metadata": {},
     "output_type": "execute_result"
    }
   ],
   "source": [
    "a"
   ]
  },
  {
   "cell_type": "code",
   "execution_count": 203,
   "id": "62458d23",
   "metadata": {},
   "outputs": [
    {
     "data": {
      "text/plain": [
       "[1, 5, 3, 4, 4, 4, 6, 7, 8, [3, 4]]"
      ]
     },
     "execution_count": 203,
     "metadata": {},
     "output_type": "execute_result"
    }
   ],
   "source": [
    "a.reverse()\n",
    "a"
   ]
  },
  {
   "cell_type": "code",
   "execution_count": 204,
   "id": "0410f25f",
   "metadata": {},
   "outputs": [
    {
     "ename": "NameError",
     "evalue": "name 'extend' is not defined",
     "output_type": "error",
     "traceback": [
      "\u001b[1;31m---------------------------------------------------------------------------\u001b[0m",
      "\u001b[1;31mNameError\u001b[0m                                 Traceback (most recent call last)",
      "Input \u001b[1;32mIn [204]\u001b[0m, in \u001b[0;36m<cell line: 1>\u001b[1;34m()\u001b[0m\n\u001b[1;32m----> 1\u001b[0m a\u001b[38;5;241m.\u001b[39msort(\u001b[43mextend\u001b[49m[\u001b[38;5;241m1\u001b[39m,\u001b[38;5;241m7\u001b[39m,\u001b[38;5;241m5\u001b[39m])\n\u001b[0;32m      2\u001b[0m a\n",
      "\u001b[1;31mNameError\u001b[0m: name 'extend' is not defined"
     ]
    }
   ],
   "source": [
    "a.sort(extend[1,7,5])\n",
    "a"
   ]
  },
  {
   "cell_type": "code",
   "execution_count": 205,
   "id": "c220430c",
   "metadata": {},
   "outputs": [
    {
     "data": {
      "text/plain": [
       "[1, 5, 3, 4, 4, 4, 6, 7, 8, [3, 4]]"
      ]
     },
     "execution_count": 205,
     "metadata": {},
     "output_type": "execute_result"
    }
   ],
   "source": [
    "a"
   ]
  },
  {
   "cell_type": "code",
   "execution_count": 206,
   "id": "2cc9aed1",
   "metadata": {},
   "outputs": [
    {
     "ename": "AttributeError",
     "evalue": "'list' object has no attribute 'tuple'",
     "output_type": "error",
     "traceback": [
      "\u001b[1;31m---------------------------------------------------------------------------\u001b[0m",
      "\u001b[1;31mAttributeError\u001b[0m                            Traceback (most recent call last)",
      "Input \u001b[1;32mIn [206]\u001b[0m, in \u001b[0;36m<cell line: 1>\u001b[1;34m()\u001b[0m\n\u001b[1;32m----> 1\u001b[0m \u001b[43ma\u001b[49m\u001b[38;5;241;43m.\u001b[39;49m\u001b[43mtuple\u001b[49m()\n",
      "\u001b[1;31mAttributeError\u001b[0m: 'list' object has no attribute 'tuple'"
     ]
    }
   ],
   "source": [
    "a.tuple() # didn't work"
   ]
  },
  {
   "cell_type": "code",
   "execution_count": 207,
   "id": "37c235a6",
   "metadata": {},
   "outputs": [
    {
     "data": {
      "text/plain": [
       "(1, 5, 3, 4, 4, 4, 6, 7, 8, [3, 4])"
      ]
     },
     "execution_count": 207,
     "metadata": {},
     "output_type": "execute_result"
    }
   ],
   "source": [
    "tuple(a)"
   ]
  },
  {
   "cell_type": "code",
   "execution_count": 209,
   "id": "c83c6434",
   "metadata": {},
   "outputs": [
    {
     "data": {
      "text/plain": [
       "[1, 5, 3, 4, 4, 4, 6, 7, 8, [3, 4]]"
      ]
     },
     "execution_count": 209,
     "metadata": {},
     "output_type": "execute_result"
    }
   ],
   "source": [
    "a"
   ]
  },
  {
   "cell_type": "code",
   "execution_count": 210,
   "id": "8b8b97a0",
   "metadata": {},
   "outputs": [
    {
     "ename": "TypeError",
     "evalue": "unhashable type: 'list'",
     "output_type": "error",
     "traceback": [
      "\u001b[1;31m---------------------------------------------------------------------------\u001b[0m",
      "\u001b[1;31mTypeError\u001b[0m                                 Traceback (most recent call last)",
      "Input \u001b[1;32mIn [210]\u001b[0m, in \u001b[0;36m<cell line: 1>\u001b[1;34m()\u001b[0m\n\u001b[1;32m----> 1\u001b[0m \u001b[38;5;28;43mset\u001b[39;49m\u001b[43m(\u001b[49m\u001b[43ma\u001b[49m\u001b[43m)\u001b[49m\n",
      "\u001b[1;31mTypeError\u001b[0m: unhashable type: 'list'"
     ]
    }
   ],
   "source": [
    "set(a) # bcoz list inside list"
   ]
  },
  {
   "cell_type": "code",
   "execution_count": 211,
   "id": "cd295dda",
   "metadata": {},
   "outputs": [
    {
     "data": {
      "text/plain": [
       "['happy',\n",
       " 'Banana',\n",
       " 'Cherry',\n",
       " 'jojo',\n",
       " 130,\n",
       " 40.6,\n",
       " 8.9,\n",
       " 2,\n",
       " '    ',\n",
       " '<><><><><><><><><><><><>',\n",
       " 'dell',\n",
       " 'dell',\n",
       " 'movie',\n",
       " 'sports']"
      ]
     },
     "execution_count": 211,
     "metadata": {},
     "output_type": "execute_result"
    }
   ],
   "source": [
    "list2"
   ]
  },
  {
   "cell_type": "code",
   "execution_count": 212,
   "id": "0d133717",
   "metadata": {},
   "outputs": [
    {
     "data": {
      "text/plain": [
       "{'    ',\n",
       " 130,\n",
       " 2,\n",
       " 40.6,\n",
       " 8.9,\n",
       " '<><><><><><><><><><><><>',\n",
       " 'Banana',\n",
       " 'Cherry',\n",
       " 'dell',\n",
       " 'happy',\n",
       " 'jojo',\n",
       " 'movie',\n",
       " 'sports'}"
      ]
     },
     "execution_count": 212,
     "metadata": {},
     "output_type": "execute_result"
    }
   ],
   "source": [
    "set(list2)"
   ]
  },
  {
   "cell_type": "code",
   "execution_count": null,
   "id": "e1d03df0",
   "metadata": {},
   "outputs": [],
   "source": []
  }
 ],
 "metadata": {
  "kernelspec": {
   "display_name": "Python 3 (ipykernel)",
   "language": "python",
   "name": "python3"
  },
  "language_info": {
   "codemirror_mode": {
    "name": "ipython",
    "version": 3
   },
   "file_extension": ".py",
   "mimetype": "text/x-python",
   "name": "python",
   "nbconvert_exporter": "python",
   "pygments_lexer": "ipython3",
   "version": "3.9.12"
  }
 },
 "nbformat": 4,
 "nbformat_minor": 5
}
