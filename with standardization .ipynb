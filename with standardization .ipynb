{
 "cells": [
  {
   "cell_type": "code",
   "execution_count": 4,
   "id": "f418005d",
   "metadata": {},
   "outputs": [],
   "source": [
    "import pandas as pd \n",
    "import numpy as np \n",
    "import matplotlib.pyplot as plt \n",
    "import seaborn as sns "
   ]
  },
  {
   "cell_type": "code",
   "execution_count": 5,
   "id": "e42321a2",
   "metadata": {},
   "outputs": [],
   "source": [
    "df=pd.read_csv(\"D:\\\\data\\\\bank.csv\",sep=';')"
   ]
  },
  {
   "cell_type": "code",
   "execution_count": 6,
   "id": "3abecfc7",
   "metadata": {
    "scrolled": true
   },
   "outputs": [
    {
     "data": {
      "text/plain": [
       "Index(['job', 'marital', 'education', 'default', 'housing', 'loan', 'contact',\n",
       "       'month', 'poutcome', 'y'],\n",
       "      dtype='object')"
      ]
     },
     "execution_count": 6,
     "metadata": {},
     "output_type": "execute_result"
    }
   ],
   "source": [
    "cat_col=df.columns[df.dtypes==\"O\"]\n",
    "cat_col"
   ]
  },
  {
   "cell_type": "code",
   "execution_count": 7,
   "id": "c8b89244",
   "metadata": {},
   "outputs": [],
   "source": [
    "from sklearn.preprocessing import LabelEncoder\n",
    "l=LabelEncoder()\n",
    "for i in cat_col:\n",
    "    df[i]=l.fit_transform(df[i]) \n",
    "  # data['job']=fit_transfrom(df[\"job\"])\n",
    "   # storing value in same column"
   ]
  },
  {
   "cell_type": "code",
   "execution_count": 8,
   "id": "a730d6d5",
   "metadata": {},
   "outputs": [],
   "source": [
    "X=df.drop('y',axis=1)\n",
    "Y=df[\"y\"]"
   ]
  },
  {
   "cell_type": "markdown",
   "id": "01f7f6d8",
   "metadata": {},
   "source": [
    "# Standardization "
   ]
  },
  {
   "cell_type": "code",
   "execution_count": 9,
   "id": "2c683fa6",
   "metadata": {},
   "outputs": [],
   "source": [
    "from sklearn.preprocessing import StandardScaler\n",
    "scaler=StandardScaler()"
   ]
  },
  {
   "cell_type": "code",
   "execution_count": 10,
   "id": "a1435a18",
   "metadata": {},
   "outputs": [],
   "source": [
    "x_sd=scaler.fit_transform(X)"
   ]
  },
  {
   "cell_type": "code",
   "execution_count": 11,
   "id": "b333242c",
   "metadata": {},
   "outputs": [
    {
     "data": {
      "text/plain": [
       "array([[-1.05626965,  1.71680374, -0.24642938, ..., -0.4072183 ,\n",
       "        -0.32041282,  0.44441328],\n",
       "       [-0.77258281,  0.79524562, -0.24642938, ...,  2.98904408,\n",
       "         2.04173372, -2.57996071],\n",
       "       [-0.58345826, -0.12631251,  1.42139579, ...,  2.89914302,\n",
       "         0.27012381, -2.57996071],\n",
       "       ...,\n",
       "       [ 1.49691189,  1.4096177 , -0.24642938, ..., -0.4072183 ,\n",
       "        -0.32041282,  0.44441328],\n",
       "       [-1.24539421, -1.04787063, -0.24642938, ...,  1.71045119,\n",
       "         1.45119709, -1.57183605],\n",
       "       [ 0.26760226, -0.74068459,  1.42139579, ...,  2.09003345,\n",
       "         3.81334363, -1.57183605]])"
      ]
     },
     "execution_count": 11,
     "metadata": {},
     "output_type": "execute_result"
    }
   ],
   "source": [
    "x_sd"
   ]
  },
  {
   "cell_type": "code",
   "execution_count": 12,
   "id": "a5dfc003",
   "metadata": {},
   "outputs": [],
   "source": [
    "df1=pd.DataFrame(x_sd,columns=X.columns)"
   ]
  },
  {
   "cell_type": "code",
   "execution_count": 13,
   "id": "42610d3c",
   "metadata": {},
   "outputs": [
    {
     "data": {
      "text/html": [
       "<div>\n",
       "<style scoped>\n",
       "    .dataframe tbody tr th:only-of-type {\n",
       "        vertical-align: middle;\n",
       "    }\n",
       "\n",
       "    .dataframe tbody tr th {\n",
       "        vertical-align: top;\n",
       "    }\n",
       "\n",
       "    .dataframe thead th {\n",
       "        text-align: right;\n",
       "    }\n",
       "</style>\n",
       "<table border=\"1\" class=\"dataframe\">\n",
       "  <thead>\n",
       "    <tr style=\"text-align: right;\">\n",
       "      <th></th>\n",
       "      <th>age</th>\n",
       "      <th>job</th>\n",
       "      <th>marital</th>\n",
       "      <th>education</th>\n",
       "      <th>default</th>\n",
       "      <th>balance</th>\n",
       "      <th>housing</th>\n",
       "      <th>loan</th>\n",
       "      <th>contact</th>\n",
       "      <th>day</th>\n",
       "      <th>month</th>\n",
       "      <th>duration</th>\n",
       "      <th>campaign</th>\n",
       "      <th>pdays</th>\n",
       "      <th>previous</th>\n",
       "      <th>poutcome</th>\n",
       "    </tr>\n",
       "  </thead>\n",
       "  <tbody>\n",
       "    <tr>\n",
       "      <th>0</th>\n",
       "      <td>-1.056270</td>\n",
       "      <td>1.716804</td>\n",
       "      <td>-0.246429</td>\n",
       "      <td>-1.644755</td>\n",
       "      <td>-0.130759</td>\n",
       "      <td>0.121072</td>\n",
       "      <td>-1.142051</td>\n",
       "      <td>-0.424756</td>\n",
       "      <td>-0.723642</td>\n",
       "      <td>0.374052</td>\n",
       "      <td>1.485414</td>\n",
       "      <td>-0.711861</td>\n",
       "      <td>-0.576829</td>\n",
       "      <td>-0.407218</td>\n",
       "      <td>-0.320413</td>\n",
       "      <td>0.444413</td>\n",
       "    </tr>\n",
       "    <tr>\n",
       "      <th>1</th>\n",
       "      <td>-0.772583</td>\n",
       "      <td>0.795246</td>\n",
       "      <td>-0.246429</td>\n",
       "      <td>-0.309038</td>\n",
       "      <td>-0.130759</td>\n",
       "      <td>1.118644</td>\n",
       "      <td>0.875617</td>\n",
       "      <td>2.354292</td>\n",
       "      <td>-0.723642</td>\n",
       "      <td>-0.596026</td>\n",
       "      <td>0.819288</td>\n",
       "      <td>-0.169194</td>\n",
       "      <td>-0.576829</td>\n",
       "      <td>2.989044</td>\n",
       "      <td>2.041734</td>\n",
       "      <td>-2.579961</td>\n",
       "    </tr>\n",
       "    <tr>\n",
       "      <th>2</th>\n",
       "      <td>-0.583458</td>\n",
       "      <td>-0.126313</td>\n",
       "      <td>1.421396</td>\n",
       "      <td>1.026680</td>\n",
       "      <td>-0.130759</td>\n",
       "      <td>-0.024144</td>\n",
       "      <td>0.875617</td>\n",
       "      <td>-0.424756</td>\n",
       "      <td>-0.723642</td>\n",
       "      <td>0.010273</td>\n",
       "      <td>-1.845220</td>\n",
       "      <td>-0.303898</td>\n",
       "      <td>-0.576829</td>\n",
       "      <td>2.899143</td>\n",
       "      <td>0.270124</td>\n",
       "      <td>-2.579961</td>\n",
       "    </tr>\n",
       "    <tr>\n",
       "      <th>3</th>\n",
       "      <td>-1.056270</td>\n",
       "      <td>-0.126313</td>\n",
       "      <td>-0.246429</td>\n",
       "      <td>1.026680</td>\n",
       "      <td>-0.130759</td>\n",
       "      <td>0.017726</td>\n",
       "      <td>0.875617</td>\n",
       "      <td>2.354292</td>\n",
       "      <td>1.495133</td>\n",
       "      <td>-1.566105</td>\n",
       "      <td>0.153161</td>\n",
       "      <td>-0.250017</td>\n",
       "      <td>0.387967</td>\n",
       "      <td>-0.407218</td>\n",
       "      <td>-0.320413</td>\n",
       "      <td>0.444413</td>\n",
       "    </tr>\n",
       "    <tr>\n",
       "      <th>4</th>\n",
       "      <td>1.686036</td>\n",
       "      <td>-1.047871</td>\n",
       "      <td>-0.246429</td>\n",
       "      <td>-0.309038</td>\n",
       "      <td>-0.130759</td>\n",
       "      <td>-0.472753</td>\n",
       "      <td>0.875617</td>\n",
       "      <td>-0.424756</td>\n",
       "      <td>1.495133</td>\n",
       "      <td>-1.323585</td>\n",
       "      <td>0.819288</td>\n",
       "      <td>-0.146102</td>\n",
       "      <td>-0.576829</td>\n",
       "      <td>-0.407218</td>\n",
       "      <td>-0.320413</td>\n",
       "      <td>0.444413</td>\n",
       "    </tr>\n",
       "    <tr>\n",
       "      <th>...</th>\n",
       "      <td>...</td>\n",
       "      <td>...</td>\n",
       "      <td>...</td>\n",
       "      <td>...</td>\n",
       "      <td>...</td>\n",
       "      <td>...</td>\n",
       "      <td>...</td>\n",
       "      <td>...</td>\n",
       "      <td>...</td>\n",
       "      <td>...</td>\n",
       "      <td>...</td>\n",
       "      <td>...</td>\n",
       "      <td>...</td>\n",
       "      <td>...</td>\n",
       "      <td>...</td>\n",
       "      <td>...</td>\n",
       "    </tr>\n",
       "    <tr>\n",
       "      <th>4516</th>\n",
       "      <td>-0.772583</td>\n",
       "      <td>0.795246</td>\n",
       "      <td>-0.246429</td>\n",
       "      <td>-0.309038</td>\n",
       "      <td>-0.130759</td>\n",
       "      <td>-0.583410</td>\n",
       "      <td>0.875617</td>\n",
       "      <td>-0.424756</td>\n",
       "      <td>-0.723642</td>\n",
       "      <td>1.707910</td>\n",
       "      <td>-0.179903</td>\n",
       "      <td>0.250315</td>\n",
       "      <td>0.709566</td>\n",
       "      <td>-0.407218</td>\n",
       "      <td>-0.320413</td>\n",
       "      <td>0.444413</td>\n",
       "    </tr>\n",
       "    <tr>\n",
       "      <th>4517</th>\n",
       "      <td>1.496912</td>\n",
       "      <td>0.488060</td>\n",
       "      <td>-0.246429</td>\n",
       "      <td>1.026680</td>\n",
       "      <td>7.647669</td>\n",
       "      <td>-1.573671</td>\n",
       "      <td>0.875617</td>\n",
       "      <td>2.354292</td>\n",
       "      <td>1.495133</td>\n",
       "      <td>-0.838546</td>\n",
       "      <td>0.819288</td>\n",
       "      <td>-0.427057</td>\n",
       "      <td>-0.576829</td>\n",
       "      <td>-0.407218</td>\n",
       "      <td>-0.320413</td>\n",
       "      <td>0.444413</td>\n",
       "    </tr>\n",
       "    <tr>\n",
       "      <th>4518</th>\n",
       "      <td>1.496912</td>\n",
       "      <td>1.409618</td>\n",
       "      <td>-0.246429</td>\n",
       "      <td>-0.309038</td>\n",
       "      <td>-0.130759</td>\n",
       "      <td>-0.374724</td>\n",
       "      <td>-1.142051</td>\n",
       "      <td>-0.424756</td>\n",
       "      <td>-0.723642</td>\n",
       "      <td>0.374052</td>\n",
       "      <td>-1.512157</td>\n",
       "      <td>-0.434754</td>\n",
       "      <td>2.639160</td>\n",
       "      <td>-0.407218</td>\n",
       "      <td>-0.320413</td>\n",
       "      <td>0.444413</td>\n",
       "    </tr>\n",
       "    <tr>\n",
       "      <th>4519</th>\n",
       "      <td>-1.245394</td>\n",
       "      <td>-1.047871</td>\n",
       "      <td>-0.246429</td>\n",
       "      <td>-0.309038</td>\n",
       "      <td>-0.130759</td>\n",
       "      <td>-0.094925</td>\n",
       "      <td>-1.142051</td>\n",
       "      <td>-0.424756</td>\n",
       "      <td>-0.723642</td>\n",
       "      <td>-1.202326</td>\n",
       "      <td>-0.846030</td>\n",
       "      <td>-0.519426</td>\n",
       "      <td>0.387967</td>\n",
       "      <td>1.710451</td>\n",
       "      <td>1.451197</td>\n",
       "      <td>-1.571836</td>\n",
       "    </tr>\n",
       "    <tr>\n",
       "      <th>4520</th>\n",
       "      <td>0.267602</td>\n",
       "      <td>-0.740685</td>\n",
       "      <td>1.421396</td>\n",
       "      <td>1.026680</td>\n",
       "      <td>-0.130759</td>\n",
       "      <td>-0.095257</td>\n",
       "      <td>0.875617</td>\n",
       "      <td>2.354292</td>\n",
       "      <td>-0.723642</td>\n",
       "      <td>-1.566105</td>\n",
       "      <td>-1.845220</td>\n",
       "      <td>0.311894</td>\n",
       "      <td>-0.255231</td>\n",
       "      <td>2.090033</td>\n",
       "      <td>3.813344</td>\n",
       "      <td>-1.571836</td>\n",
       "    </tr>\n",
       "  </tbody>\n",
       "</table>\n",
       "<p>4521 rows × 16 columns</p>\n",
       "</div>"
      ],
      "text/plain": [
       "           age       job   marital  education   default   balance   housing  \\\n",
       "0    -1.056270  1.716804 -0.246429  -1.644755 -0.130759  0.121072 -1.142051   \n",
       "1    -0.772583  0.795246 -0.246429  -0.309038 -0.130759  1.118644  0.875617   \n",
       "2    -0.583458 -0.126313  1.421396   1.026680 -0.130759 -0.024144  0.875617   \n",
       "3    -1.056270 -0.126313 -0.246429   1.026680 -0.130759  0.017726  0.875617   \n",
       "4     1.686036 -1.047871 -0.246429  -0.309038 -0.130759 -0.472753  0.875617   \n",
       "...        ...       ...       ...        ...       ...       ...       ...   \n",
       "4516 -0.772583  0.795246 -0.246429  -0.309038 -0.130759 -0.583410  0.875617   \n",
       "4517  1.496912  0.488060 -0.246429   1.026680  7.647669 -1.573671  0.875617   \n",
       "4518  1.496912  1.409618 -0.246429  -0.309038 -0.130759 -0.374724 -1.142051   \n",
       "4519 -1.245394 -1.047871 -0.246429  -0.309038 -0.130759 -0.094925 -1.142051   \n",
       "4520  0.267602 -0.740685  1.421396   1.026680 -0.130759 -0.095257  0.875617   \n",
       "\n",
       "          loan   contact       day     month  duration  campaign     pdays  \\\n",
       "0    -0.424756 -0.723642  0.374052  1.485414 -0.711861 -0.576829 -0.407218   \n",
       "1     2.354292 -0.723642 -0.596026  0.819288 -0.169194 -0.576829  2.989044   \n",
       "2    -0.424756 -0.723642  0.010273 -1.845220 -0.303898 -0.576829  2.899143   \n",
       "3     2.354292  1.495133 -1.566105  0.153161 -0.250017  0.387967 -0.407218   \n",
       "4    -0.424756  1.495133 -1.323585  0.819288 -0.146102 -0.576829 -0.407218   \n",
       "...        ...       ...       ...       ...       ...       ...       ...   \n",
       "4516 -0.424756 -0.723642  1.707910 -0.179903  0.250315  0.709566 -0.407218   \n",
       "4517  2.354292  1.495133 -0.838546  0.819288 -0.427057 -0.576829 -0.407218   \n",
       "4518 -0.424756 -0.723642  0.374052 -1.512157 -0.434754  2.639160 -0.407218   \n",
       "4519 -0.424756 -0.723642 -1.202326 -0.846030 -0.519426  0.387967  1.710451   \n",
       "4520  2.354292 -0.723642 -1.566105 -1.845220  0.311894 -0.255231  2.090033   \n",
       "\n",
       "      previous  poutcome  \n",
       "0    -0.320413  0.444413  \n",
       "1     2.041734 -2.579961  \n",
       "2     0.270124 -2.579961  \n",
       "3    -0.320413  0.444413  \n",
       "4    -0.320413  0.444413  \n",
       "...        ...       ...  \n",
       "4516 -0.320413  0.444413  \n",
       "4517 -0.320413  0.444413  \n",
       "4518 -0.320413  0.444413  \n",
       "4519  1.451197 -1.571836  \n",
       "4520  3.813344 -1.571836  \n",
       "\n",
       "[4521 rows x 16 columns]"
      ]
     },
     "execution_count": 13,
     "metadata": {},
     "output_type": "execute_result"
    }
   ],
   "source": [
    "df1"
   ]
  },
  {
   "cell_type": "code",
   "execution_count": 14,
   "id": "69c25be1",
   "metadata": {},
   "outputs": [],
   "source": [
    "from sklearn.model_selection import train_test_split\n",
    "x_train_sd,x_test_sd,y_train_sd,y_test_sd=train_test_split(x_sd,Y,train_size=0.75,random_state=12345)"
   ]
  },
  {
   "cell_type": "code",
   "execution_count": null,
   "id": "b8b09312",
   "metadata": {},
   "outputs": [],
   "source": []
  },
  {
   "cell_type": "markdown",
   "id": "947850e9",
   "metadata": {},
   "source": [
    "# Decission Tree"
   ]
  },
  {
   "cell_type": "code",
   "execution_count": 29,
   "id": "5c15ced8",
   "metadata": {},
   "outputs": [
    {
     "data": {
      "text/plain": [
       "[<matplotlib.lines.Line2D at 0x1bb49476100>]"
      ]
     },
     "execution_count": 29,
     "metadata": {},
     "output_type": "execute_result"
    },
    {
     "data": {
      "image/png": "[encoded data removed]",
      "text/plain": [
       "<Figure size 432x288 with 1 Axes>"
      ]
     },
     "metadata": {
      "needs_background": "light"
     },
     "output_type": "display_data"
    }
   ],
   "source": [
    "from sklearn.tree import DecisionTreeClassifier\n",
    "tree_model=DecisionTreeClassifier() # bydefault criterion='gini'\n",
    "tree_model.fit(X=x_train_sd,y=y_train_sd)\n",
    "y_dt_pred=tree_model.predict(x_test_sd)\n",
    "\n",
    "from sklearn.metrics import accuracy_score,precision_score,recall_score,f1_score\n",
    "from sklearn.metrics import classification_report, roc_auc_score\n",
    "from sklearn.metrics import confusion_matrix\n",
    "\n",
    "tn,fp,fn,tp=confusion_matrix(y_test_sd,y_dt_pred).ravel()\n",
    "\n",
    "\n",
    "dt_acc=accuracy_score(y_test_sd,y_dt_pred)\n",
    "dt_pr=precision_score(y_test_sd,y_dt_pred)\n",
    "dt_recall=recall_score(y_test_sd,y_dt_pred)\n",
    "dt_f1_score=f1_score(y_test_sd,y_dt_pred)\n",
    "\n",
    "dict1={\"dt_accuracy\":dt_acc,\n",
    "      \"dt_precission\":(dt_pr),\n",
    "      \"dt_recall\":(dt_recall),\n",
    "      \"dt_f1_score\":(dt_f1_score)}\n",
    "pd.DataFrame(dict1,index=[1])\n",
    "from sklearn.metrics import roc_curve\n",
    "y_dt_pred_prob=tree_model.predict_proba(x_test_sd)[:,1]\n",
    "fpr,tpr,threshold=roc_curve(y_test_sd,y_dt_pred_prob)\n",
    "plt.plot(fpr,tpr)\n"
   ]
  },
  {
   "cell_type": "code",
   "execution_count": 30,
   "id": "8cf2c618",
   "metadata": {},
   "outputs": [
    {
     "data": {
      "text/plain": [
       "{'dt_accuracy': 0.8620689655172413,\n",
       " 'dt_precission': 0.36231884057971014,\n",
       " 'dt_recall': 0.423728813559322,\n",
       " 'dt_f1_score': 0.39062499999999994}"
      ]
     },
     "execution_count": 30,
     "metadata": {},
     "output_type": "execute_result"
    }
   ],
   "source": [
    "dict1"
   ]
  },
  {
   "cell_type": "markdown",
   "id": "3b03156c",
   "metadata": {},
   "source": [
    "# Navies Bayes"
   ]
  },
  {
   "cell_type": "code",
   "execution_count": 31,
   "id": "881d3968",
   "metadata": {},
   "outputs": [
    {
     "data": {
      "text/plain": [
       "[<matplotlib.lines.Line2D at 0x1bb49550310>]"
      ]
     },
     "execution_count": 31,
     "metadata": {},
     "output_type": "execute_result"
    },
    {
     "data": {
      "image/png": "[encoded data removed]",
      "text/plain": [
       "<Figure size 432x288 with 1 Axes>"
      ]
     },
     "metadata": {
      "needs_background": "light"
     },
     "output_type": "display_data"
    }
   ],
   "source": [
    "from sklearn.naive_bayes import GaussianNB\n",
    "navi_model=GaussianNB()\n",
    "navi_model.fit(X=x_train_sd,y=y_train_sd)\n",
    "y_nb_pred=navi_model.predict(x_test_sd)\n",
    "from sklearn.metrics import accuracy_score,precision_score,recall_score,f1_score\n",
    "from sklearn.metrics import classification_report, roc_auc_score\n",
    "from sklearn.metrics import confusion_matrix\n",
    "\n",
    "tn,fp,fn,tp=confusion_matrix(y_test_sd,y_nb_pred).ravel()\n",
    "\n",
    "\n",
    "navi_acc=accuracy_score(y_test_sd,y_nb_pred)\n",
    "navi_pr=precision_score(y_test_sd,y_nb_pred)\n",
    "navi_recall=recall_score(y_test_sd,y_nb_pred)\n",
    "navi_f1_score=f1_score(y_test_sd,y_nb_pred)\n",
    "\n",
    "dict1={\"NB_accuracy\":navi_acc,\n",
    "      \"NB_precission\":(navi_pr),\n",
    "      \"NB_recall\":(navi_recall),\n",
    "      \"NB_f1_score\":(navi_f1_score)}\n",
    "pd.DataFrame(dict1,index=[1])\n",
    "from sklearn.metrics import roc_curve\n",
    "y_nb_pred_prob=navi_model.predict_proba(x_test_sd)[:,1]\n",
    "fpr,tpr,threshold=roc_curve(y_test_sd,y_nb_pred_prob)\n",
    "plt.plot(fpr,tpr)\n"
   ]
  },
  {
   "cell_type": "code",
   "execution_count": 32,
   "id": "c1702437",
   "metadata": {},
   "outputs": [
    {
     "data": {
      "text/plain": [
       "{'NB_accuracy': 0.8222811671087533,\n",
       " 'NB_precission': 0.27807486631016043,\n",
       " 'NB_recall': 0.4406779661016949,\n",
       " 'NB_f1_score': 0.3409836065573771}"
      ]
     },
     "execution_count": 32,
     "metadata": {},
     "output_type": "execute_result"
    }
   ],
   "source": [
    "dict1"
   ]
  },
  {
   "cell_type": "markdown",
   "id": "6fa8ae9e",
   "metadata": {},
   "source": [
    "# Logistic regression"
   ]
  },
  {
   "cell_type": "code",
   "execution_count": 33,
   "id": "e3cde458",
   "metadata": {},
   "outputs": [
    {
     "data": {
      "text/plain": [
       "[<matplotlib.lines.Line2D at 0x1bb495c0670>]"
      ]
     },
     "execution_count": 33,
     "metadata": {},
     "output_type": "execute_result"
    },
    {
     "data": {
      "image/png": "[encoded data removed]",
      "text/plain": [
       "<Figure size 432x288 with 1 Axes>"
      ]
     },
     "metadata": {
      "needs_background": "light"
     },
     "output_type": "display_data"
    }
   ],
   "source": [
    "from sklearn.linear_model import LogisticRegression\n",
    "lr=LogisticRegression()\n",
    "lr.fit(X=x_train_sd,y=y_train_sd)\n",
    "y_lr_pred=lr.predict(x_test_sd)\n",
    "from sklearn.metrics import accuracy_score,precision_score,recall_score,f1_score\n",
    "from sklearn.metrics import classification_report, roc_auc_score\n",
    "from sklearn.metrics import confusion_matrix\n",
    "\n",
    "tn,fp,fn,tp=confusion_matrix(y_test_sd,y_lr_pred).ravel()\n",
    "\n",
    "\n",
    "lr_acc=accuracy_score(y_test_sd,y_lr_pred)\n",
    "lr_pr=precision_score(y_test_sd,y_lr_pred)\n",
    "lr_recall=recall_score(y_test_sd,y_lr_pred)\n",
    "lr_f1_score=f1_score(y_test_sd,y_lr_pred)\n",
    "\n",
    "dict1={\"lr_accuracy\":lr_acc,\n",
    "      \"lr_precission\":(lr_pr),\n",
    "      \"lr_recall\":(lr_recall),\n",
    "      \"lr_f1_score\":(lr_f1_score)}\n",
    "pd.DataFrame(dict1,index=[1])\n",
    "from sklearn.metrics import roc_curve\n",
    "y_lr_pred_prob=lr.predict_proba(x_test_sd)[:,1]\n",
    "fpr,tpr,threshold=roc_curve(y_test_sd,y_lr_pred_prob)\n",
    "plt.plot(fpr,tpr)\n"
   ]
  },
  {
   "cell_type": "code",
   "execution_count": 34,
   "id": "ab1222e9",
   "metadata": {},
   "outputs": [
    {
     "data": {
      "text/plain": [
       "{'lr_accuracy': 0.8894783377541998,\n",
       " 'lr_precission': 0.4406779661016949,\n",
       " 'lr_recall': 0.22033898305084745,\n",
       " 'lr_f1_score': 0.2937853107344633}"
      ]
     },
     "execution_count": 34,
     "metadata": {},
     "output_type": "execute_result"
    }
   ],
   "source": [
    "dict1"
   ]
  },
  {
   "cell_type": "markdown",
   "id": "93a1fdae",
   "metadata": {},
   "source": [
    "# KNN"
   ]
  },
  {
   "cell_type": "code",
   "execution_count": 35,
   "id": "cdaa1361",
   "metadata": {},
   "outputs": [
    {
     "data": {
      "text/plain": [
       "[<matplotlib.lines.Line2D at 0x1bb4962c940>]"
      ]
     },
     "execution_count": 35,
     "metadata": {},
     "output_type": "execute_result"
    },
    {
     "data": {
      "image/png": "[encoded data removed]",
      "text/plain": [
       "<Figure size 432x288 with 1 Axes>"
      ]
     },
     "metadata": {
      "needs_background": "light"
     },
     "output_type": "display_data"
    }
   ],
   "source": [
    "from sklearn.neighbors import KNeighborsClassifier\n",
    "knn=KNeighborsClassifier()\n",
    "knn.fit(X=x_train_sd,y=y_train_sd)\n",
    "y_knn_pred=knn.predict(x_test_sd)\n",
    "from sklearn.metrics import accuracy_score,precision_score,recall_score,f1_score\n",
    "from sklearn.metrics import classification_report, roc_auc_score\n",
    "from sklearn.metrics import confusion_matrix\n",
    "\n",
    "tn,fp,fn,tp=confusion_matrix(y_test_sd,y_knn_pred).ravel()\n",
    "\n",
    "\n",
    "knn_acc=accuracy_score(y_test_sd,y_knn_pred)\n",
    "knn_pr=precision_score(y_test_sd,y_knn_pred)\n",
    "knn_recall=recall_score(y_test_sd,y_knn_pred)\n",
    "knn_f1_score=f1_score(y_test_sd,y_knn_pred)\n",
    "\n",
    "dict1={\"knn_accuracy\":knn_acc,\n",
    "      \"knn_precission\":(knn_pr),\n",
    "      \"knn_recall\":(knn_recall),\n",
    "      \"knn_f1_score\":(knn_f1_score)}\n",
    "pd.DataFrame(dict1,index=[1])\n",
    "from sklearn.metrics import roc_curve\n",
    "y_knn_pred_prob=knn.predict_proba(x_test_sd)[:,1]\n",
    "fpr,tpr,threshold=roc_curve(y_test_sd,y_knn_pred_prob)\n",
    "plt.plot(fpr,tpr)"
   ]
  },
  {
   "cell_type": "markdown",
   "id": "b15fe090",
   "metadata": {},
   "source": [
    "# Random Forest"
   ]
  },
  {
   "cell_type": "code",
   "execution_count": 3,
   "id": "ac8beecd",
   "metadata": {},
   "outputs": [
    {
     "ename": "NameError",
     "evalue": "name 'x_train_sd' is not defined",
     "output_type": "error",
     "traceback": [
      "\u001b[1;31m---------------------------------------------------------------------------\u001b[0m",
      "\u001b[1;31mNameError\u001b[0m                                 Traceback (most recent call last)",
      "Input \u001b[1;32mIn [3]\u001b[0m, in \u001b[0;36m<cell line: 3>\u001b[1;34m()\u001b[0m\n\u001b[0;32m      1\u001b[0m \u001b[38;5;28;01mfrom\u001b[39;00m \u001b[38;5;21;01msklearn\u001b[39;00m\u001b[38;5;21;01m.\u001b[39;00m\u001b[38;5;21;01mensemble\u001b[39;00m \u001b[38;5;28;01mimport\u001b[39;00m RandomForestClassifier\n\u001b[0;32m      2\u001b[0m rf\u001b[38;5;241m=\u001b[39mRandomForestClassifier()\n\u001b[1;32m----> 3\u001b[0m rf\u001b[38;5;241m.\u001b[39mfit(X\u001b[38;5;241m=\u001b[39m\u001b[43mx_train_sd\u001b[49m,y\u001b[38;5;241m=\u001b[39my_train_sd)\n\u001b[0;32m      4\u001b[0m y_rf_pred\u001b[38;5;241m=\u001b[39mrf\u001b[38;5;241m.\u001b[39mpredict(x_test_sd)\n\u001b[0;32m      5\u001b[0m \u001b[38;5;28;01mfrom\u001b[39;00m \u001b[38;5;21;01msklearn\u001b[39;00m\u001b[38;5;21;01m.\u001b[39;00m\u001b[38;5;21;01mmetrics\u001b[39;00m \u001b[38;5;28;01mimport\u001b[39;00m accuracy_score,precision_score,recall_score,f1_score\n",
      "\u001b[1;31mNameError\u001b[0m: name 'x_train_sd' is not defined"
     ]
    }
   ],
   "source": [
    "from sklearn.ensemble import RandomForestClassifier\n",
    "rf=RandomForestClassifier()\n",
    "rf.fit(X=x_train_sd,y=y_train_sd)\n",
    "y_rf_pred=rf.predict(x_test_sd)\n",
    "from sklearn.metrics import accuracy_score,precision_score,recall_score,f1_score\n",
    "from sklearn.metrics import classification_report, roc_auc_score\n",
    "from sklearn.metrics import confusion_matrix\n",
    "\n",
    "tn,fp,fn,tp=confusion_matrix(y_test_sd,y_rf_pred).ravel()\n",
    "\n",
    "\n",
    "rf_acc=accuracy_score(y_test_sd,y_rf_pred)\n",
    "rf_pr=precision_score(y_test_sd,y_rf_pred)\n",
    "rf_recall=recall_score(y_test_sd,y_rf_pred)\n",
    "rf_f1_score=f1_score(y_test_sd,y_rf_pred)\n",
    "\n",
    "dict1={\"rf_accuracy\":rf_acc,\n",
    "      \"rf_precission\":(rf_pr),\n",
    "      \"rf_recall\":(rf_recall),\n",
    "      \"rf_f1_score\":(rf_f1_score)}\n",
    "pd.DataFrame(dict1,index=[1])\n",
    "from sklearn.metrics import roc_curve\n",
    "y_rf_pred_prob=rf.predict_proba(x_test_sd)[:,1]\n",
    "fpr,tpr,threshold=roc_curve(y_test_sd,y_rf_pred_prob)\n",
    "plt.plot(fpr,tpr)    "
   ]
  },
  {
   "cell_type": "code",
   "execution_count": 2,
   "id": "3a161b8c",
   "metadata": {},
   "outputs": [
    {
     "ename": "NameError",
     "evalue": "name 'dt_acc' is not defined",
     "output_type": "error",
     "traceback": [
      "\u001b[1;31m---------------------------------------------------------------------------\u001b[0m",
      "\u001b[1;31mNameError\u001b[0m                                 Traceback (most recent call last)",
      "Input \u001b[1;32mIn [2]\u001b[0m, in \u001b[0;36m<cell line: 1>\u001b[1;34m()\u001b[0m\n\u001b[1;32m----> 1\u001b[0m dt_list\u001b[38;5;241m=\u001b[39m[\u001b[43mdt_acc\u001b[49m,dt_pr,dt_recall,dt_f1_score]\n\u001b[0;32m      2\u001b[0m nb_list\u001b[38;5;241m=\u001b[39m[navi_acc,navi_pr,navi_recall,navi_f1_score]\n\u001b[0;32m      3\u001b[0m lr_list\u001b[38;5;241m=\u001b[39m[lr_acc,lr_pr,lr_recall,lr_f1_score]\n",
      "\u001b[1;31mNameError\u001b[0m: name 'dt_acc' is not defined"
     ]
    }
   ],
   "source": [
    "dt_list=[dt_acc,dt_pr,dt_recall,dt_f1_score]\n",
    "nb_list=[navi_acc,navi_pr,navi_recall,navi_f1_score]\n",
    "lr_list=[lr_acc,lr_pr,lr_recall,lr_f1_score]\n",
    "knn_list=[knn_acc,knn_pr,knn_recall,knn_f1_score]\n",
    "rf_list=[rf_acc,rf_pr,rf_recall,rf_f1_score]\n",
    "pd.DataFrame(zip(dt_list,nb_list,lr_list,knn_list,rf_list),\n",
    "             columns=['Decision_Tree','Naive_Bayes','LogisticsRegression',\"KNN\",\"RF\"],\n",
    "             index=['Accuracy','Precison','Recall','F1score'])"
   ]
  },
  {
   "cell_type": "markdown",
   "id": "0bec103d",
   "metadata": {},
   "source": [
    "# Hyperparameter Tunning"
   ]
  },
  {
   "cell_type": "code",
   "execution_count": 19,
   "id": "d53a78ff",
   "metadata": {},
   "outputs": [
    {
     "data": {
      "text/plain": [
       "DecisionTreeClassifier()"
      ]
     },
     "execution_count": 19,
     "metadata": {},
     "output_type": "execute_result"
    }
   ],
   "source": [
    "\n",
    "from sklearn.model_selection import GridSearchCV , cross_val_score\n",
    "from sklearn.tree import DecisionTreeClassifier\n",
    "grid_tree=DecisionTreeClassifier() # shift + tab see criterion or spliter\n",
    "grid_tree"
   ]
  },
  {
   "cell_type": "code",
   "execution_count": 20,
   "id": "b4566e41",
   "metadata": {},
   "outputs": [
    {
     "data": {
      "text/plain": [
       "{'ccp_alpha': 0.0,\n",
       " 'class_weight': None,\n",
       " 'criterion': 'gini',\n",
       " 'max_depth': None,\n",
       " 'max_features': None,\n",
       " 'max_leaf_nodes': None,\n",
       " 'min_impurity_decrease': 0.0,\n",
       " 'min_samples_leaf': 1,\n",
       " 'min_samples_split': 2,\n",
       " 'min_weight_fraction_leaf': 0.0,\n",
       " 'random_state': None,\n",
       " 'splitter': 'best'}"
      ]
     },
     "execution_count": 20,
     "metadata": {},
     "output_type": "execute_result"
    }
   ],
   "source": [
    "grid_tree.get_params()"
   ]
  },
  {
   "cell_type": "code",
   "execution_count": 21,
   "id": "adbc4796",
   "metadata": {},
   "outputs": [],
   "source": [
    "grid_para={\"criterion\":[\"gini\", \"entropy\"],  # which is best bw gini or entropy \n",
    "          \"max_depth\":[3,4,5,6,7,8]}          # which is best depth \n",
    "# grid search create best model "
   ]
  },
  {
   "cell_type": "code",
   "execution_count": 27,
   "id": "065291da",
   "metadata": {},
   "outputs": [],
   "source": [
    "grid_model=GridSearchCV(grid_tree, # grid_tree=DecisionTreeClassifier()\n",
    "                        cv=5,        # cv=crossvalidation \n",
    "                        param_grid=grid_para, # grid parameter to find out which is best \n",
    "                        scoring=\"accuracy\", # scoring on their accuracy \n",
    "                       verbose=True) # it will give adition information "
   ]
  },
  {
   "cell_type": "code",
   "execution_count": 28,
   "id": "a3d98c3f",
   "metadata": {},
   "outputs": [
    {
     "name": "stdout",
     "output_type": "stream",
     "text": [
      "Fitting 5 folds for each of 12 candidates, totalling 60 fits\n"
     ]
    },
    {
     "data": {
      "text/plain": [
       "GridSearchCV(cv=5, estimator=DecisionTreeClassifier(),\n",
       "             param_grid={'criterion': ['gini', 'entropy'],\n",
       "                         'max_depth': [3, 4, 5, 6, 7, 8]},\n",
       "             scoring='accuracy', verbose=True)"
      ]
     },
     "execution_count": 28,
     "metadata": {},
     "output_type": "execute_result"
    }
   ],
   "source": [
    "grid_model.fit(x_train_sd,y_train_sd)"
   ]
  },
  {
   "cell_type": "code",
   "execution_count": 29,
   "id": "aed9a68e",
   "metadata": {},
   "outputs": [
    {
     "data": {
      "text/plain": [
       "DecisionTreeClassifier(max_depth=8)"
      ]
     },
     "execution_count": 29,
     "metadata": {},
     "output_type": "execute_result"
    }
   ],
   "source": [
    "grid_model.best_estimator_"
   ]
  },
  {
   "cell_type": "code",
   "execution_count": 30,
   "id": "1dce6549",
   "metadata": {},
   "outputs": [
    {
     "data": {
      "text/plain": [
       "{'criterion': 'gini', 'max_depth': 8}"
      ]
     },
     "execution_count": 30,
     "metadata": {},
     "output_type": "execute_result"
    }
   ],
   "source": [
    "grid_model.best_params_"
   ]
  },
  {
   "cell_type": "code",
   "execution_count": 31,
   "id": "2228474c",
   "metadata": {},
   "outputs": [
    {
     "data": {
      "text/plain": [
       "0.8896755162241888"
      ]
     },
     "execution_count": 31,
     "metadata": {},
     "output_type": "execute_result"
    }
   ],
   "source": [
    "grid_model.best_score_"
   ]
  },
  {
   "cell_type": "code",
   "execution_count": 37,
   "id": "96f88987",
   "metadata": {},
   "outputs": [
    {
     "data": {
      "text/plain": [
       "array([0.88495575, 0.87463127, 0.88495575, 0.90707965, 0.88938053])"
      ]
     },
     "execution_count": 37,
     "metadata": {},
     "output_type": "execute_result"
    }
   ],
   "source": [
    "cross_val_score(grid_model.best_estimator_,\n",
    "               x_train_sd,y_train_sd,\n",
    "               scoring='accuracy') \n",
    "# cv=5 \n",
    "# it will give for all accuracy "
   ]
  },
  {
   "cell_type": "code",
   "execution_count": 38,
   "id": "6133b5e1",
   "metadata": {},
   "outputs": [
    {
     "data": {
      "text/plain": [
       "0.8882005899705016"
      ]
     },
     "execution_count": 38,
     "metadata": {},
     "output_type": "execute_result"
    }
   ],
   "source": [
    "cross_val_score(grid_model.best_estimator_,\n",
    "               x_train_sd,y_train_sd,\n",
    "               scoring='accuracy').mean()"
   ]
  },
  {
   "cell_type": "markdown",
   "id": "d0d71f48",
   "metadata": {},
   "source": [
    "# KNN"
   ]
  },
  {
   "cell_type": "code",
   "execution_count": 45,
   "id": "60a6c3f7",
   "metadata": {},
   "outputs": [
    {
     "name": "stdout",
     "output_type": "stream",
     "text": [
      "Fitting 5 folds for each of 64 candidates, totalling 320 fits\n",
      "KNeighborsClassifier(leaf_size=20)\n",
      "{'algorithm': 'auto', 'leaf_size': 20, 'n_neighbors': 5}\n",
      "0.889085545722714\n"
     ]
    },
    {
     "data": {
      "text/plain": [
       "array([0.88053097, 0.87610619, 0.89675516, 0.89675516, 0.89528024])"
      ]
     },
     "execution_count": 45,
     "metadata": {},
     "output_type": "execute_result"
    }
   ],
   "source": [
    "from sklearn.neighbors import KNeighborsClassifier\n",
    "knn_grid=KNeighborsClassifier()\n",
    "knn_grid.get_params()\n",
    "knn_grid_para={\"n_neighbors\":[5,6,7,10],\n",
    "              \"leaf_size\":[20,30,40,50],\n",
    "              \"algorithm\" :['auto', 'ball_tree', 'kd_tree', 'brute']}\n",
    "knn_grid_model=GridSearchCV(knn_grid, \n",
    "                        cv=5,       \n",
    "                        param_grid=knn_grid_para, \n",
    "                        scoring=\"accuracy\", \n",
    "                       verbose=True)\n",
    "knn_grid_model.fit(x_train_sd,y_train_sd)\n",
    "print(knn_grid_model.best_estimator_)\n",
    "print(knn_grid_model.best_params_)\n",
    "print(knn_grid_model.best_score_)\n",
    "\n",
    "cross_val_score(knn_grid_model.best_estimator_,\n",
    "               x_train_sd,y_train_sd,\n",
    "               scoring='accuracy') "
   ]
  },
  {
   "cell_type": "markdown",
   "id": "e46911cf",
   "metadata": {},
   "source": [
    "# navibayes \n",
    "# logistic regression"
   ]
  },
  {
   "cell_type": "markdown",
   "id": "64e2fd30",
   "metadata": {},
   "source": [
    "# loan prediction "
   ]
  },
  {
   "cell_type": "code",
   "execution_count": null,
   "id": "3382e463",
   "metadata": {},
   "outputs": [],
   "source": []
  }
 ],
 "metadata": {
  "kernelspec": {
   "display_name": "Python 3 (ipykernel)",
   "language": "python",
   "name": "python3"
  },
  "language_info": {
   "codemirror_mode": {
    "name": "ipython",
    "version": 3
   },
   "file_extension": ".py",
   "mimetype": "text/x-python",
   "name": "python",
   "nbconvert_exporter": "python",
   "pygments_lexer": "ipython3",
   "version": "3.9.12"
  }
 },
 "nbformat": 4,
 "nbformat_minor": 5
}
