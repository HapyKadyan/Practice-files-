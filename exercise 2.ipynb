{
 "cells": [
  {
   "cell_type": "markdown",
   "id": "a79cfcf8",
   "metadata": {},
   "source": [
    "1.\tPrompt the user for a score between 0.0 and 1.0. If the score is out of range, print an error message. If the score is between 0.0 and 1.0, print a grade using the following table:"
   ]
  },
  {
   "cell_type": "code",
   "execution_count": null,
   "id": "a6e8c748",
   "metadata": {},
   "outputs": [],
   "source": [
    "Score\tGrade\n",
    "\n",
    ">= 0.9\tA\n",
    "\n",
    ">= 0.8\tB\n",
    "\n",
    ">= 0.7\tC\n",
    "\n",
    ">= 0.6\tD\n",
    "\n",
    "< 0.6\tE\n"
   ]
  },
  {
   "cell_type": "code",
   "execution_count": 16,
   "id": "41b1ec5c",
   "metadata": {},
   "outputs": [
    {
     "name": "stdout",
     "output_type": "stream",
     "text": [
      "enter the score8\n",
      "score is out of range\n"
     ]
    }
   ],
   "source": [
    "#try:\n",
    "n=eval(input(\"enter the score\"))\n",
    "if n <1:\n",
    "    if ( n>= 0.9): \n",
    "        print(\"according to your score {} your grade is A\".format(n))\n",
    "    elif n>=0.8:\n",
    "        print(\"according to your score {} your grade is B\".format(n))\n",
    "    elif n>=0.7:\n",
    "        print(\"according to your score {} your grade is C\".format(n))\n",
    "    elif n>=0.6:\n",
    "        print(\"according to your score {} your grade is D\".format(n))\n",
    "    else :\n",
    "        print(\"according to your score {} your grade is E\".format(n))      \n",
    "else:\n",
    "    print(\"score is out of range\")\n",
    "    #except Exception as e:\n",
    "       # print(\"score is out of the range\")\n",
    "        "
   ]
  },
  {
   "cell_type": "code",
   "execution_count": 10,
   "id": "98dd326b",
   "metadata": {},
   "outputs": [
    {
     "data": {
      "text/plain": [
       "False"
      ]
     },
     "execution_count": 10,
     "metadata": {},
     "output_type": "execute_result"
    }
   ],
   "source": [
    "9<8"
   ]
  },
  {
   "cell_type": "code",
   "execution_count": 22,
   "id": "02d686ba",
   "metadata": {},
   "outputs": [
    {
     "data": {
      "text/plain": [
       "0"
      ]
     },
     "execution_count": 22,
     "metadata": {},
     "output_type": "execute_result"
    }
   ],
   "source": [
    "30//40 # not divisional ans zero # divisional karne k liye zero lga k point lgana padega"
   ]
  },
  {
   "cell_type": "code",
   "execution_count": 23,
   "id": "4ce47a03",
   "metadata": {},
   "outputs": [
    {
     "data": {
      "text/plain": [
       "1"
      ]
     },
     "execution_count": 23,
     "metadata": {},
     "output_type": "execute_result"
    }
   ],
   "source": [
    "40//30"
   ]
  },
  {
   "cell_type": "code",
   "execution_count": 24,
   "id": "e616a54e",
   "metadata": {},
   "outputs": [
    {
     "data": {
      "text/plain": [
       "30"
      ]
     },
     "execution_count": 24,
     "metadata": {},
     "output_type": "execute_result"
    }
   ],
   "source": [
    "30%40 # % mi same value ans aate remainder yahe hota h bcz not divisible"
   ]
  },
  {
   "cell_type": "code",
   "execution_count": 25,
   "id": "2a5091ce",
   "metadata": {},
   "outputs": [
    {
     "data": {
      "text/plain": [
       "10"
      ]
     },
     "execution_count": 25,
     "metadata": {},
     "output_type": "execute_result"
    }
   ],
   "source": [
    "40%30"
   ]
  },
  {
   "cell_type": "code",
   "execution_count": 41,
   "id": "8d8cd691",
   "metadata": {
    "scrolled": true
   },
   "outputs": [
    {
     "name": "stdout",
     "output_type": "stream",
     "text": [
      "enter the hour between 1 to 12: 10\n",
      "enter the ahead hours8\n",
      "the future hour is 6'o clock\n"
     ]
    }
   ],
   "source": [
    "hours=eval(input(\"enter the hour between 1 to 12: \"))\n",
    "ahead=eval(input(\"enter the ahead hours\"))\n",
    "a= hours + ahead\n",
    "if a<12:\n",
    "    print(\"the future hour is {}'o clock\".format(a))\n",
    "else :\n",
    "    c=a%12\n",
    "    print(\"the future hour is {}'o clock\".format(c))"
   ]
  },
  {
   "cell_type": "code",
   "execution_count": 54,
   "id": "0efaf2c9",
   "metadata": {},
   "outputs": [
    {
     "name": "stdout",
     "output_type": "stream",
     "text": [
      "enter a numberDa\n",
      "3\n",
      "l\n",
      "0\n",
      "x\n"
     ]
    }
   ],
   "source": [
    "n=input(\"enter a number\")\n",
    "n=n.lower()\n",
    "alphabet=\"abcdefghijklmnopqrstuvwxyz\"\n",
    "key=\"xznlwebgjhqdyvtfkuocmaisrp\"\n",
    "for i in n:\n",
    "    a=alphabet.index(i)\n",
    "    print(a)\n",
    "    b=key[a]\n",
    "    print(b)"
   ]
  },
  {
   "cell_type": "markdown",
   "id": "87a32f6d",
   "metadata": {},
   "source": [
    "2.\tIf cost price and selling price of an item is input through the keyboard, write a program to determine whether the seller has made profit or incurred loss. Also determine how much profit he made or loss he incurred.\n",
    "\n"
   ]
  },
  {
   "cell_type": "code",
   "execution_count": 2,
   "id": "d28053f0",
   "metadata": {},
   "outputs": [
    {
     "name": "stdout",
     "output_type": "stream",
     "text": [
      "enter the cost price400\n",
      "enter the selling price350\n",
      "loss is  50\n"
     ]
    }
   ],
   "source": [
    "cp=eval(input(\"enter the cost price\"))\n",
    "sp=eval(input(\"enter the selling price\"))\n",
    "if sp>cp:\n",
    "    profit=sp-cp\n",
    "    print(\"profit is \",profit)\n",
    "else:\n",
    "    loss=cp-sp\n",
    "    print(\"loss is \",loss)"
   ]
  },
  {
   "cell_type": "markdown",
   "id": "5f444511",
   "metadata": {},
   "source": [
    "3.\tAny year is input through the keyboard. Write a program to determine whether the year is a leap year or not."
   ]
  },
  {
   "cell_type": "code",
   "execution_count": 5,
   "id": "d135230e",
   "metadata": {},
   "outputs": [
    {
     "name": "stdout",
     "output_type": "stream",
     "text": [
      "enter the year1996\n",
      "1996 is a leap year\n"
     ]
    }
   ],
   "source": [
    "year=eval(input(\"enter the year\"))\n",
    "if year%4==0:\n",
    "    print(\"{} is a leap year\".format(year))\n",
    "else:\n",
    "    print(\"{} is not a leap year\".format(year))"
   ]
  },
  {
   "cell_type": "markdown",
   "id": "f882e82b",
   "metadata": {},
   "source": [
    "4.\tA five-digit number is entered through the keyboard. Write a program to obtain the reversed number and to determine whether the original and reversed numbers are equal or not."
   ]
  },
  {
   "cell_type": "code",
   "execution_count": 12,
   "id": "a0e412cd",
   "metadata": {},
   "outputs": [
    {
     "name": "stdout",
     "output_type": "stream",
     "text": [
      "enter a five digit number12345\n",
      "5\n",
      "54\n",
      "543\n",
      "5432\n",
      "54321\n"
     ]
    }
   ],
   "source": [
    "n=eval(input(\"enter a five digit number\"))\n",
    "rev=0\n",
    "while n>0:\n",
    "    rev=rev*10+n%10\n",
    "    n=n//10\n",
    "    print(rev)"
   ]
  },
  {
   "cell_type": "markdown",
   "id": "ccc5df08",
   "metadata": {},
   "source": [
    "5.\tIf the ages of Ram, Shyam and Ajay are input through the keyboard, write a program to determine the youngest of the three."
   ]
  },
  {
   "cell_type": "code",
   "execution_count": 20,
   "id": "251e3e2a",
   "metadata": {},
   "outputs": [
    {
     "name": "stdout",
     "output_type": "stream",
     "text": [
      "enter the age10\n",
      "enter the age11\n",
      "enter the age12\n",
      "the youngest is  10\n"
     ]
    }
   ],
   "source": [
    "ram=eval(input('enter the age'))\n",
    "shyam=eval(input(\"enter the age\"))\n",
    "ajay=eval(input(\"enter the age\"))\n",
    "s=str(ram),str(shyam),str(ajay)\n",
    "a=list(s)\n",
    "b=min(a)\n",
    "print(\"the youngest is \",b)"
   ]
  },
  {
   "cell_type": "code",
   "execution_count": 23,
   "id": "ec18a3cc",
   "metadata": {},
   "outputs": [
    {
     "name": "stdout",
     "output_type": "stream",
     "text": [
      "enter age1: 2\n",
      "enter age2: 3\n",
      "enter age3: 4\n",
      "age3 is oldest\n",
      "age1 is youngest\n"
     ]
    }
   ],
   "source": [
    "age1=int(input('enter age1: '))\n",
    "age2=int(input('enter age2: '))\n",
    "age3=int(input('enter age3: '))\n",
    "if age1>age2 and age1>age3:\n",
    "    print('age1 is oldest')\n",
    "elif age2>age1 and age2>age3:\n",
    "    print('age2 is oldest')\n",
    "else:\n",
    "    print('age3 is oldest')\n",
    "if age1<age2 and age1<age3:\n",
    "    print('age1 is youngest')\n",
    "elif age2<age1 and age2<age3:\n",
    "    print('age2 is youngest')\n",
    "else:\n",
    "     print('age3 is youngest')\n"
   ]
  },
  {
   "cell_type": "markdown",
   "id": "ef98e11c",
   "metadata": {},
   "source": [
    "6.\tWrite a program to check whether a triangle is valid or not, when the three angles of the triangle are entered through the keyboard. A triangle is valid if the sum of all the three angles is equal to 180 degrees"
   ]
  },
  {
   "cell_type": "code",
   "execution_count": 48,
   "id": "1d4c1775",
   "metadata": {},
   "outputs": [
    {
     "name": "stdout",
     "output_type": "stream",
     "text": [
      "enter the angle1\n",
      "enter the angle2\n",
      "enter the angle3\n",
      "it is not a triangle\n"
     ]
    }
   ],
   "source": [
    "angle1=eval(input('enter the angle'))\n",
    "angle2=eval(input('enter the angle'))\n",
    "angle3=eval(input('enter the angle'))\n",
    "if angle1+angle2+angle3==180:\n",
    "    print(\"it is a triangle\")\n",
    "else:\n",
    "    print(\"it is not a triangle\")\n"
   ]
  },
  {
   "cell_type": "code",
   "execution_count": 45,
   "id": "598eff34",
   "metadata": {},
   "outputs": [],
   "source": [
    "def NumberReverse(str):\n",
    "    print(str[::-1])"
   ]
  },
  {
   "cell_type": "code",
   "execution_count": 46,
   "id": "1683a823",
   "metadata": {},
   "outputs": [
    {
     "name": "stdout",
     "output_type": "stream",
     "text": [
      "050201\n"
     ]
    }
   ],
   "source": [
    "NumberReverse(\"102050\")"
   ]
  },
  {
   "cell_type": "markdown",
   "id": "2645f402",
   "metadata": {},
   "source": [
    "7.\tFind the absolute value of a number entered through the keyboard.\n",
    "\n"
   ]
  },
  {
   "cell_type": "code",
   "execution_count": 49,
   "id": "c95eafa8",
   "metadata": {},
   "outputs": [],
   "source": [
    "# The magnitude of a number, whether positive or negative, is referred to as its absolute value\n",
    "# done by in three ways\n",
    "# 1 \n",
    "# creating a function that returns the absolute value\n",
    "def getAbsoluteValue(value):\n",
    "   # checking whether the number is less than 0\n",
    "   if(value<0):\n",
    "      # returning negative of the value if the condition is true\n",
    "      # i.e -(-) value becomes plus(+)\n",
    "        return -value\n",
    "   # returning the number passed\n",
    "   return value"
   ]
  },
  {
   "cell_type": "code",
   "execution_count": 51,
   "id": "1b437d90",
   "metadata": {},
   "outputs": [
    {
     "data": {
      "text/plain": [
       "5"
      ]
     },
     "execution_count": 51,
     "metadata": {},
     "output_type": "execute_result"
    }
   ],
   "source": [
    "getAbsoluteValue(5)"
   ]
  },
  {
   "cell_type": "code",
   "execution_count": 52,
   "id": "35220d02",
   "metadata": {},
   "outputs": [
    {
     "name": "stdout",
     "output_type": "stream",
     "text": [
      "enter the number-4\n"
     ]
    },
    {
     "data": {
      "text/plain": [
       "4"
      ]
     },
     "execution_count": 52,
     "metadata": {},
     "output_type": "execute_result"
    }
   ],
   "source": [
    "# 2\n",
    "n=int(input(\"enter the number\"))\n",
    "abs(n) # built in function"
   ]
  },
  {
   "cell_type": "code",
   "execution_count": 54,
   "id": "d292ef1a",
   "metadata": {},
   "outputs": [
    {
     "name": "stdout",
     "output_type": "stream",
     "text": [
      "enter the number-7\n"
     ]
    },
    {
     "data": {
      "text/plain": [
       "7.0"
      ]
     },
     "execution_count": 54,
     "metadata": {},
     "output_type": "execute_result"
    }
   ],
   "source": [
    "# 3\n",
    "n=int(input(\"enter the number\"))\n",
    "import math \n",
    "math.fabs(n)"
   ]
  },
  {
   "cell_type": "markdown",
   "id": "0e280283",
   "metadata": {},
   "source": [
    "8.\tGiven three points (x1, y1), (x2, y2) and (x3, y3), write a program to check if all the three points fall on one straight line"
   ]
  },
  {
   "cell_type": "code",
   "execution_count": 59,
   "id": "e771e00d",
   "metadata": {},
   "outputs": [
    {
     "name": "stdout",
     "output_type": "stream",
     "text": [
      "enter the value3\n",
      "enter the value2\n",
      "enter the value4\n",
      "enter the value1\n",
      "enter the value4\n",
      "enter the value3\n",
      "points do not fall on one straight line\n"
     ]
    }
   ],
   "source": [
    "x1=int(input(\"enter the value\"))\n",
    "x2=int(input(\"enter the value\"))\n",
    "x3=int(input(\"enter the value\"))\n",
    "y1=int(input(\"enter the value\"))\n",
    "y2=int(input(\"enter the value\"))\n",
    "y3=int(input(\"enter the value\"))\n",
    "formula=0.5*(x1*(y2-y3)+x2*(y3-y1)+x3*(y1-y2))\n",
    "if formula==0:\n",
    "    print(\"points fall on one straight line\")\n",
    "else :\n",
    "    print(\"points do not fall on one straight line\")"
   ]
  },
  {
   "cell_type": "markdown",
   "id": "d0ad456d",
   "metadata": {},
   "source": [
    " 9.\tGiven a point (x, y), write a program to find out if it lies on the x-axis, y-axis or at the origin, viz. (0, 0)."
   ]
  },
  {
   "cell_type": "code",
   "execution_count": 68,
   "id": "41c4b1e6",
   "metadata": {},
   "outputs": [
    {
     "name": "stdout",
     "output_type": "stream",
     "text": [
      "enter the value5\n",
      "enter the value5\n",
      "points lies in first quadrant\n"
     ]
    }
   ],
   "source": [
    "x=eval(input(\"enter the value\"))\n",
    "y=eval(input(\"enter the value\"))\n",
    "if x==y==0:\n",
    "    print(\"points lies at origin\")\n",
    "elif x==0:\n",
    "    print(\"points lies on y-axis\")\n",
    "elif y==0:\n",
    "    print(\"points lies on x-axis\")\n",
    "else :\n",
    "    print(\"points lies in first quadrant\")"
   ]
  },
  {
   "cell_type": "markdown",
   "id": "808f938f",
   "metadata": {},
   "source": [
    "10.\tAn Insurance company follows following rules to calculate premium.\n",
    "\n",
    "a.\tIf a person’s health is excellent and the person is between 25 and 35 years of age and lives in a city and is a male then the premium is Rs. 4 per thousand and his policy amount cannot exceed Rs. 2 lakhs.\n",
    "\n",
    "b.\tIf a person satisfies all the above conditions except that the sex is female then the premium is Rs. 3 per thousand and her policy amount cannot exceed Rs. 1 lakh.\n",
    "\n",
    "c.\tIf a person’s health is poor and the person is between 25 and 35 years of age and lives in a village and is a male\n",
    "\n",
    "Write a program to output whether the person should be insured or not, his/her premium rate and maximum amount for which he/she can be insured.\n"
   ]
  },
  {
   "cell_type": "code",
   "execution_count": null,
   "id": "d7c400ae",
   "metadata": {},
   "outputs": [],
   "source": []
  },
  {
   "cell_type": "markdown",
   "id": "525879f3",
   "metadata": {},
   "source": [
    "11.\tA certain grade of steel is graded according to the following conditions:\n",
    "\n",
    "a.\t(i) Hardness must be greater than 50\n",
    "b.\t(ii) Carbon content must be less than 0.7\n",
    "c.\t(iii) Tensile strength must be greater than 5600\n",
    "\n",
    "The grades are as follows:\n",
    "\n",
    "Grade is 10 if all three conditions are met\n",
    " \tGrade is 9 if conditions (i) and (ii) are met\n",
    "Grade is 8 if conditions (ii) and (iii) are met\n",
    "Grade is 7 if conditions (i) and (iii) are met\n",
    "Grade is 6 if only one condition is met\n",
    "Grade is 5 if none of the conditions are met\n",
    "\n",
    "Write a program, which will require the user to give values of hardness, carbon content and tensile strength of the steel under consideration and output the grade of the steel.\n"
   ]
  },
  {
   "cell_type": "code",
   "execution_count": 76,
   "id": "98b018c2",
   "metadata": {},
   "outputs": [
    {
     "name": "stdout",
     "output_type": "stream",
     "text": [
      "enter the hardness:53\n",
      "enter the carbon content:0.3\n",
      "enter the tensile strength51\n",
      "the grade of the steel is 9\n"
     ]
    }
   ],
   "source": [
    "hardness=eval(input(\"enter the hardness:\"))\n",
    "carbon_content=eval(input(\"enter the carbon content:\"))\n",
    "tensile_strength=eval(input(\"enter the tensile strength\"))\n",
    "if hardness>50 and carbon_content<0.6 and tensile_strength>5600:\n",
    "    print(\"the grade of the steel is 10\")\n",
    "elif hardness>50 and carbon_content<0.6:\n",
    "    print(\"the grade of the steel is 9\")\n",
    "elif carbon_content<0.7 and tensile_strength>5600:\n",
    "    print(\"the grade of the steel is 8\")\n",
    "elif hardness>50 and tensile_strength>5600:\n",
    "    print(\"the grade of the steel is 7\")\n",
    "elif hardness>50 or carbon_content<0.6 or tensile_strength>5600:\n",
    "    print(\"the grade of the steel is 6\")\n",
    "else :\n",
    "    print(\"the grade of the steel is 5\")\n",
    "    "
   ]
  },
  {
   "cell_type": "markdown",
   "id": "5f36d78f",
   "metadata": {},
   "source": [
    "12.\tA library charges a fine for every book returned late. For first 5 days the fine is 50 paise, for 6-10 days fine is one rupee and above 10 days fine is 5 rupees. If you return the book after 30 days your membership will be cancelled. Write a program to accept the number of days the member is late to return the book and display the fine or the appropriate message."
   ]
  },
  {
   "cell_type": "code",
   "execution_count": 80,
   "id": "9c41dd37",
   "metadata": {},
   "outputs": [
    {
     "name": "stdout",
     "output_type": "stream",
     "text": [
      "enter the days you are returning the book after delay7\n",
      "you returned the book 7 days late\n",
      "the fine is 1 rupee\n"
     ]
    }
   ],
   "source": [
    "days=eval(input(\"enter the days you are returning the book after delay\"))\n",
    "if days<=5:\n",
    "    print(\"you returned the book {} days late\".format(days))\n",
    "    print(\"the fine is 50 paise\")\n",
    "elif days<=10:\n",
    "    print(\"you returned the book {} days late\".format(days))\n",
    "    print(\"the fine is 1 rupee\")\n",
    "elif days<30:\n",
    "    print(\"you returned the book {} days late\".format(days))\n",
    "    print(\"the fine is 5 rupee\")\n",
    "else:\n",
    "    print(\"you returned the book {} days late\".format(days))\n",
    "    print(\" your membership has been cancelled\")\n",
    "    "
   ]
  },
  {
   "cell_type": "markdown",
   "id": "35aeb056",
   "metadata": {},
   "source": [
    "13.\tThe policy followed by a company to process customer orders is given by the following rules:\n",
    "a.\tIf a customer order is less than or equal to that in stock and has credit is OK, supply has requirement.\n",
    "b.\tIf has credit is not OK do not supply. Send him intimation.\n",
    "c.\tIf has credit is Ok but the item in stock is less than has\n",
    "\n",
    "order, supply what is in stock. Intimate to him data the balance will be shipped. Write a program to implement the company policy.\n"
   ]
  },
  {
   "cell_type": "code",
   "execution_count": null,
   "id": "19994c4b",
   "metadata": {},
   "outputs": [],
   "source": [
    "coustomer_orders=eval(input(\"enter the coustomer orders \"))\n",
    "stock=eval(input(\"enter the stock of orders you have \"))\n",
    "if coustomer_orders<=stock:\n",
    "    print(\"supply has requirement\")\n",
    "else:\n",
    "    print(\"\")"
   ]
  },
  {
   "cell_type": "markdown",
   "id": "98296d84",
   "metadata": {},
   "source": [
    "14.\tIn a company, worker efficiency is determined on the basis of the time required for a worker to complete a particular job. If the time taken by the worker is between 2 – 3 hours, then the worker is said to be highly efficient. If the time required by the worker is between 3 – 4 hours, then the worker is ordered to improve speed. If the time taken is between 4 – 5 hours, the worker is given training to improve his speed, and if the time taken by the worker is more than 5 hours, then the worker has to leave the company. If the time taken by the worker is input through the keyboard, find the efficiency of the worker.\n",
    "\n"
   ]
  },
  {
   "cell_type": "code",
   "execution_count": null,
   "id": "9f4a87ab",
   "metadata": {},
   "outputs": [],
   "source": []
  }
 ],
 "metadata": {
  "kernelspec": {
   "display_name": "Python 3 (ipykernel)",
   "language": "python",
   "name": "python3"
  },
  "language_info": {
   "codemirror_mode": {
    "name": "ipython",
    "version": 3
   },
   "file_extension": ".py",
   "mimetype": "text/x-python",
   "name": "python",
   "nbconvert_exporter": "python",
   "pygments_lexer": "ipython3",
   "version": "3.9.12"
  }
 },
 "nbformat": 4,
 "nbformat_minor": 5
}
