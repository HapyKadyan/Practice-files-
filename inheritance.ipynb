{
 "cells": [
  {
   "cell_type": "code",
   "execution_count": 1,
   "id": "ec67fef1",
   "metadata": {},
   "outputs": [],
   "source": [
    "class test:\n",
    "    def ___inti__(self,a,b,c,d):\n",
    "        self.a=a\n",
    "        self.b=b\n",
    "        self.c=c\n",
    "        self.d=d\n",
    "    def test_coustome(self,v):\n",
    "        return v-self.a\n",
    "    def __str__(self):\n",
    "        return \"this is my test code for abstraction\""
   ]
  },
  {
   "cell_type": "code",
   "execution_count": 2,
   "id": "4e65ecb2",
   "metadata": {},
   "outputs": [],
   "source": [
    "class test1(test):\n",
    "    def __init__(self,j,*args):\n",
    "        super(test1,self).__init__(*args)\n",
    "        self.j=j"
   ]
  },
  {
   "cell_type": "code",
   "execution_count": null,
   "id": "51341ba7",
   "metadata": {},
   "outputs": [],
   "source": []
  }
 ],
 "metadata": {
  "kernelspec": {
   "display_name": "Python 3 (ipykernel)",
   "language": "python",
   "name": "python3"
  },
  "language_info": {
   "codemirror_mode": {
    "name": "ipython",
    "version": 3
   },
   "file_extension": ".py",
   "mimetype": "text/x-python",
   "name": "python",
   "nbconvert_exporter": "python",
   "pygments_lexer": "ipython3",
   "version": "3.9.12"
  }
 },
 "nbformat": 4,
 "nbformat_minor": 5
}
